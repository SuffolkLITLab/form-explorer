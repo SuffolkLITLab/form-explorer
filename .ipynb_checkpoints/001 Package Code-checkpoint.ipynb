{
 "cells": [
  {
   "cell_type": "code",
   "execution_count": 203,
   "id": "0e65769a",
   "metadata": {},
   "outputs": [],
   "source": [
    "import os\n",
    "import re\n",
    "import spacy\n",
    "import PyPDF2\n",
    "import pikepdf\n",
    "import textstat\n",
    "import requests\n",
    "import json\n",
    "import numpy as np\n",
    "from numpy import unique\n",
    "from numpy import where\n",
    "from sklearn.cluster import AffinityPropagation\n",
    "from sklearn.metrics.pairwise import cosine_similarity\n",
    "from sklearn.preprocessing import normalize\n",
    "from joblib import load\n",
    "from nltk.corpus import stopwords\n",
    "import math\n",
    "import signal\n",
    "from contextlib import contextmanager"
   ]
  },
  {
   "cell_type": "code",
   "execution_count": 94,
   "id": "5dae87c4",
   "metadata": {},
   "outputs": [],
   "source": [
    "stop_words = set(stopwords.words('english'))\n",
    "nlp = spacy.load('en_core_web_lg') # this takes a while to loadimport os"
   ]
  },
  {
   "cell_type": "markdown",
   "id": "388515ba",
   "metadata": {},
   "source": [
    "Load local variables, models, and API key(s)."
   ]
  },
  {
   "cell_type": "code",
   "execution_count": 204,
   "id": "038b565e",
   "metadata": {},
   "outputs": [],
   "source": [
    "# load local stuff\n",
    "#########################\n",
    "#      Start Test\n",
    "#########################\n",
    "\n",
    "included_fields = load('lib/data/included_fields.joblib')\n",
    "jurisdictions = load('lib/data/jurisdictions.joblib')\n",
    "groups = load('lib/data/groups.joblib')\n",
    "clf_field_names = load('lib/data/clf_field_names.joblib')\n",
    "with open('../data/keys/spot_token.txt', 'r') as file:\n",
    "    spot_token = file.read().rstrip()\n",
    "    \n",
    "#########################\n",
    "#       End Test\n",
    "#########################"
   ]
  },
  {
   "cell_type": "markdown",
   "id": "e5d59b35",
   "metadata": {},
   "source": [
    "This creates a timeout exception that can be triggered when something hangs too long. "
   ]
  },
  {
   "cell_type": "code",
   "execution_count": 205,
   "id": "1de1041c",
   "metadata": {},
   "outputs": [],
   "source": [
    "class TimeoutException(Exception): pass\n",
    "@contextmanager\n",
    "def time_limit(seconds):\n",
    "    def signal_handler(signum, frame):\n",
    "        raise TimeoutException(\"Timed out!\")\n",
    "    signal.signal(signal.SIGALRM, signal_handler)\n",
    "    signal.alarm(seconds)\n",
    "    try:\n",
    "        yield\n",
    "    finally:\n",
    "        signal.alarm(0)"
   ]
  },
  {
   "cell_type": "markdown",
   "id": "1a86c430",
   "metadata": {},
   "source": [
    "Pull ID values out of the LIST/NSMI results from Spot."
   ]
  },
  {
   "cell_type": "code",
   "execution_count": 210,
   "id": "601b08ec",
   "metadata": {},
   "outputs": [],
   "source": [
    "def recursive_get_id(values_to_unpack, tmpl=None):\n",
    "    # h/t to Quinten and Bryce for this code ;)\n",
    "    if not tmpl:\n",
    "        tmpl = set()\n",
    "    if isinstance(values_to_unpack, dict):\n",
    "        tmpl.add(values_to_unpack.get('id'))\n",
    "        if values_to_unpack.get('children'):\n",
    "            tmpl.update(recursive_get_id(values_to_unpack.get('children'), tmpl))\n",
    "        return tmpl\n",
    "    elif isinstance(values_to_unpack, list):\n",
    "        for item in values_to_unpack:\n",
    "            tmpl.update(recursive_get_id(item, tmpl))\n",
    "        return tmpl\n",
    "    else:\n",
    "        return set()"
   ]
  },
  {
   "cell_type": "code",
   "execution_count": 211,
   "id": "40dd059f",
   "metadata": {},
   "outputs": [
    {
     "data": {
      "text/plain": [
       "{'HO-00-00-00-00', 'HO-06-00-00-00'}"
      ]
     },
     "execution_count": 211,
     "metadata": {},
     "output_type": "execute_result"
    }
   ],
   "source": [
    "#########################\n",
    "#      Start Test\n",
    "#########################\n",
    "\n",
    "spot_output = {  'build': 9,\n",
    "                 'query-id': '0dd2c6502bd64c76ae70b18d1c33029f',\n",
    "                 'text': 'My landlord is kicking me out of my home!',\n",
    "                 'save-text': 0,\n",
    "                 'cutoff-lower': 0.25,\n",
    "                 'cutoff-pred': 0.5,\n",
    "                 'cutoff-upper': 0.6,\n",
    "                 'labels': [{  \n",
    "                               'id': 'HO-00-00-00-00',\n",
    "                               'name': 'Housing',\n",
    "                               'lower': 0.6576830054321086,\n",
    "                               'pred': 0.6982554666277648,\n",
    "                               'upper': 0.7171144999635295,\n",
    "                               'children': [{\n",
    "                                             'id': 'HO-06-00-00-00',\n",
    "                                             'name': 'Renting or leasing a home',\n",
    "                                             'lower': 0.6705320866392293,\n",
    "                                             'pred': 0.8859675570562203,\n",
    "                                             'upper': 0.9113575931804385\n",
    "                                            }]\n",
    "                            }]\n",
    "               }\n",
    "recursive_get_id(spot_output[\"labels\"])\n",
    "\n",
    "#########################\n",
    "#       End Test\n",
    "#########################"
   ]
  },
  {
   "cell_type": "markdown",
   "id": "6d4f5c38",
   "metadata": {},
   "source": [
    "Call the Spot API, but return only the IDs of issues found in the text."
   ]
  },
  {
   "cell_type": "code",
   "execution_count": 229,
   "id": "b213d26c",
   "metadata": {},
   "outputs": [],
   "source": [
    "def spot(text,lower=0.25,pred=0.5,upper=0.6):\n",
    "\n",
    "    headers = { \"Authorization\": \"Bearer \" + spot_token, \"Content-Type\":\"application/json\" }\n",
    "\n",
    "    body = {\n",
    "      \"text\": text,\n",
    "      \"save-text\": 0,\n",
    "      \"cutoff-lower\": lower,\n",
    "      \"cutoff-pred\": pred,\n",
    "      \"cutoff-upper\": upper\n",
    "    }\n",
    "\n",
    "    r = requests.post('https://spot.suffolklitlab.org/v0/entities-nested/', headers=headers, data=json.dumps(body))\n",
    "    output_ = r.json()\n",
    "\n",
    "    try:\n",
    "        return list(recursive_get_id(output_[\"labels\"]))\n",
    "    except:\n",
    "        return []"
   ]
  },
  {
   "cell_type": "code",
   "execution_count": 230,
   "id": "a00f5368",
   "metadata": {},
   "outputs": [
    {
     "data": {
      "text/plain": [
       "['HO-06-00-00-00', 'HO-00-00-00-00']"
      ]
     },
     "execution_count": 230,
     "metadata": {},
     "output_type": "execute_result"
    }
   ],
   "source": [
    "#########################\n",
    "#      Start Test\n",
    "#########################\n",
    "\n",
    "spot(\"My landlord is kicking me out of my home!\")\n",
    "\n",
    "#########################\n",
    "#       End Test\n",
    "#########################"
   ]
  },
  {
   "cell_type": "markdown",
   "id": "2b312fc3",
   "metadata": {},
   "source": [
    "A function to pull words out of snake_case, camelCase and the like."
   ]
  },
  {
   "cell_type": "code",
   "execution_count": 100,
   "id": "ee1250e5",
   "metadata": {},
   "outputs": [],
   "source": [
    "def reCase(text):\n",
    "    output = re.sub(\"(\\w|\\d)(_|-)(\\w|\\d)\",\"\\\\1 \\\\3\",text.strip())\n",
    "    output = re.sub(\"([a-z])([A-Z]|\\d)\",\"\\\\1 \\\\2\",output)\n",
    "    output = re.sub(\"(\\d)([A-Z]|[a-z])\",\"\\\\1 \\\\2\",output)\n",
    "    return output"
   ]
  },
  {
   "cell_type": "code",
   "execution_count": 227,
   "id": "0e72cc08",
   "metadata": {},
   "outputs": [
    {
     "data": {
      "text/plain": [
       "'Deal with snake case, camel Case and similarly formated text.'"
      ]
     },
     "execution_count": 227,
     "metadata": {},
     "output_type": "execute_result"
    }
   ],
   "source": [
    "#########################\n",
    "#      Start Test\n",
    "#########################\n",
    "\n",
    "reCase(\"Deal with snake_case, camelCase and similarly-formated text.\")\n",
    "\n",
    "#########################\n",
    "#       End Test\n",
    "#########################"
   ]
  },
  {
   "cell_type": "markdown",
   "id": "26562e06",
   "metadata": {},
   "source": [
    "Takes text from an auto-generated field name and uses regex to convert it into an Assembly Line standard field.\n",
    "See https://suffolklitlab.org/docassemble-AssemblyLine-documentation/docs/label_variables/"
   ]
  },
  {
   "cell_type": "code",
   "execution_count": 362,
   "id": "a63cb5ed",
   "metadata": {},
   "outputs": [],
   "source": [
    "def regex_norm_field(text):\n",
    "    \n",
    "    regex_list = [\n",
    "\n",
    "        # Personal info\n",
    "        ## Name & Bio\n",
    "        [\"^((My|Your|Full( legal)?) )?Name$\",\"users1_name\"],\n",
    "        [\"^(Typed or )?Printed Name\\s?\\d*$\",\"users1_name\"],\n",
    "        [\"^(DOB|Date of Birth|Birthday)$\",\"users1_birthdate\"],\n",
    "        ## Address\n",
    "        [\"^(Street )?Address$\",\"users1_address_line_one\"],\n",
    "        [\"^City State Zip$\",\"users1_address_line_two\"],\n",
    "        [\"^City$\",\"users1_address_city\"],\n",
    "        [\"^State$\",\"users1_address_state\"],\n",
    "        [\"^Zip( Code)?$\",\"users1_address_zip\"],\n",
    "        ## Contact\n",
    "        [\"^(Phone|Telephone)$\",\"users1_phone_number\"],\n",
    "        [\"^Email( Adress)$\",\"users1_email\"],\n",
    "\n",
    "        # Parties\n",
    "        [\"^plaintiff\\(?s?\\)?$\",\"plantiff1_name\"],\n",
    "        [\"^defendant\\(?s?\\)?$\",\"defendant1_name\"],\n",
    "        [\"^petitioner\\(?s?\\)?$\",\"petitioners1_name\"],\n",
    "        [\"^respondent\\(?s?\\)?$\",\"respondents1_name\"],\n",
    "\n",
    "        # Court info\n",
    "        [\"^(Court\\s)?Case\\s?(No|Number)?\\s?A?$\",\"docket_number\"],\n",
    "        [\"^File\\s?(No|Number)?\\s?A?$\",\"docket_number\"],\n",
    "\n",
    "        # Form info\n",
    "        [\"^(Signature|Sign( here)?)\\s?\\d*$\",\"users1_signature\"],\n",
    "        [\"^Date\\s?\\d*$\",\"signature_date\"],\n",
    "    ]\n",
    "\n",
    "    for regex in regex_list:\n",
    "        text = re.sub(regex[0],regex[1],text, flags=re.IGNORECASE)\n",
    "    return text"
   ]
  },
  {
   "cell_type": "code",
   "execution_count": 363,
   "id": "c67c4ee3",
   "metadata": {},
   "outputs": [
    {
     "data": {
      "text/plain": [
       "'users1_name'"
      ]
     },
     "execution_count": 363,
     "metadata": {},
     "output_type": "execute_result"
    }
   ],
   "source": [
    "#########################\n",
    "#      Start Test\n",
    "#########################\n",
    "\n",
    "regex_norm_field(\"Name\")\n",
    "\n",
    "#########################\n",
    "#       End Test\n",
    "#########################"
   ]
  },
  {
   "cell_type": "markdown",
   "id": "b045f1ab",
   "metadata": {},
   "source": [
    "Tranforms a string of text into a snake_case variable close in length to `max_length` name by summarizing the string and stiching the summary together in snake_case. h/t h/t https://towardsdatascience.com/nlp-building-a-summariser-68e0c19e3a93"
   ]
  },
  {
   "cell_type": "code",
   "execution_count": 364,
   "id": "8209c7e6",
   "metadata": {},
   "outputs": [],
   "source": [
    "def reformat_field(text,max_length=30):\n",
    "    orig_title = text.lower()\n",
    "    orig_title = re.sub(\"[^a-zA-Z]+\",\" \",orig_title)\n",
    "    orig_title_words = orig_title.split()\n",
    "\n",
    "    deduped_sentence = []\n",
    "    for word in orig_title_words:\n",
    "        if word not in deduped_sentence:\n",
    "            deduped_sentence.append(word)\n",
    "\n",
    "    filtered_sentence = [w for w in deduped_sentence if not w.lower() in stop_words]\n",
    "\n",
    "    filtered_title_words = filtered_sentence\n",
    "\n",
    "    characters = len(' '.join(filtered_title_words))\n",
    "\n",
    "    if characters > 0:\n",
    "\n",
    "        words = len(filtered_title_words)\n",
    "        av_word_len = math.ceil(len(' '.join(filtered_title_words))/len(filtered_title_words))\n",
    "        x_words = math.floor((max_length)/av_word_len)\n",
    "\n",
    "\n",
    "        sim_mat = np.zeros([len(filtered_title_words),len(filtered_title_words)])\n",
    "        # for each word compared to other\n",
    "        for i in range(len(filtered_title_words)):\n",
    "            for j in range(len(filtered_title_words)):\n",
    "                if i != j:\n",
    "                    sim_mat[i][j] = cosine_similarity(nlp(filtered_title_words[i]).vector.reshape(1,300), nlp(filtered_title_words[j]).vector.reshape(1,300))[0,0]\n",
    "\n",
    "        try:\n",
    "            nx_graph = nx.from_numpy_array(sim_mat)\n",
    "            scores = nx.pagerank(nx_graph)\n",
    "            sorted_scores = sorted(scores.items(), key=lambda item: item[1], reverse=True)\n",
    "\n",
    "            if x_words > len(scores):\n",
    "                x_words=len(scores)\n",
    "\n",
    "            i = 0\n",
    "            new_title = \"\"\n",
    "            for x in filtered_title_words:\n",
    "                if scores[i] >= sorted_scores[x_words-1][1]:\n",
    "                    if len(new_title)>0: new_title+=\"_\"\n",
    "                    new_title += x\n",
    "                i+=1\n",
    "\n",
    "            return new_title\n",
    "        except:\n",
    "            return '_'.join(filtered_title_words)\n",
    "    else:\n",
    "        if re.search(\"^(\\d+)$\", text):\n",
    "            return \"unknown\"\n",
    "        else:\n",
    "            return re.sub(\"\\s+\",\"_\",text.lower())"
   ]
  },
  {
   "cell_type": "code",
   "execution_count": 365,
   "id": "b6990551",
   "metadata": {},
   "outputs": [
    {
     "data": {
      "text/plain": [
       "'name_field_fill'"
      ]
     },
     "execution_count": 365,
     "metadata": {},
     "output_type": "execute_result"
    }
   ],
   "source": [
    "#########################\n",
    "#      Start Test\n",
    "#########################\n",
    "\n",
    "reformat_field(\"this is a name field where you fill out your name\")\n",
    "\n",
    "#########################\n",
    "#       End Test\n",
    "#########################"
   ]
  },
  {
   "cell_type": "markdown",
   "id": "df112699",
   "metadata": {},
   "source": [
    "Vectorize a string of text. "
   ]
  },
  {
   "cell_type": "code",
   "execution_count": 366,
   "id": "0e358c0b",
   "metadata": {},
   "outputs": [],
   "source": [
    "def vectorize(text):\n",
    "    output = nlp(str(text)).vector\n",
    "    return output"
   ]
  },
  {
   "cell_type": "markdown",
   "id": "e2d58574",
   "metadata": {},
   "source": [
    "Normalize a word vector."
   ]
  },
  {
   "cell_type": "code",
   "execution_count": 367,
   "id": "0f605eea",
   "metadata": {},
   "outputs": [],
   "source": [
    "def norm(row):\n",
    "    try:\n",
    "        matrix = row.reshape(1,-1).astype(np.float64)\n",
    "        return normalize(matrix, axis=1, norm='l1')[0]\n",
    "    except Exception as e:\n",
    "        print(\"===================\")\n",
    "        print(\"Error: \",e)\n",
    "        print(\"===================\")\n",
    "        return np.NaN"
   ]
  },
  {
   "cell_type": "markdown",
   "id": "c262660a",
   "metadata": {},
   "source": [
    "Given an auto-generated field name and context from the form where it appeared, this function attempts to normalize the field name. Here's what's going on:\n",
    "1. It will `reCase` the variable text\n",
    "2. Then it will run the output through `regex_norm_field`\n",
    "3. If it doesn't find anything, it will use the ML model `clf_field_names`\n",
    "4. If the prediction isn't very confident, it will run it through `reformat_field`  "
   ]
  },
  {
   "cell_type": "code",
   "execution_count": 368,
   "id": "08b382fe",
   "metadata": {},
   "outputs": [],
   "source": [
    "def normalize_name(jur,group,n,per,last_field,this_field):\n",
    "\n",
    "    # Add hard coded conversions maybe by calling a function\n",
    "    # if returns 0 then fail over to ML or otherway around poor prob -> check hard-coded\n",
    "\n",
    "    if this_field not in included_fields:\n",
    "        this_field = reCase(this_field)\n",
    "\n",
    "        out_put = regex_norm_field(this_field)\n",
    "        conf = 1.0\n",
    "\n",
    "        if out_put==this_field:\n",
    "            params = []\n",
    "            for item in jurisdictions:\n",
    "                if jur== item:\n",
    "                    params.append(1)\n",
    "                else:\n",
    "                    params.append(0)\n",
    "            for item in groups:\n",
    "                if group== item:\n",
    "                    params.append(1)\n",
    "                else:\n",
    "                    params.append(0)\n",
    "            params.append(n)\n",
    "            params.append(per)\n",
    "            for vec in norm(vectorize(this_field)):\n",
    "                params.append(vec)\n",
    "\n",
    "            for item in included_fields:\n",
    "                if last_field==item:\n",
    "                    params.append(1)\n",
    "                else:\n",
    "                    params.append(0)\n",
    "\n",
    "            pred = clf_field_names.predict([params])\n",
    "            prob = clf_field_names.predict_proba([params])\n",
    "\n",
    "            conf = prob[0].tolist()[prob[0].tolist().index(max(prob[0].tolist()))]\n",
    "            out_put = pred[0]\n",
    "\n",
    "    else:\n",
    "        out_put = this_field\n",
    "        conf = 1\n",
    "\n",
    "    if out_put in included_fields:\n",
    "        if conf >= 0:\n",
    "            return \"*\"+out_put,conf # this * is a hack to show when something is in the list of known fields later. I need to fix this\n",
    "        else:\n",
    "            return reformat_field(this_field),conf\n",
    "    else:\n",
    "        return reformat_field(this_field),conf"
   ]
  },
  {
   "cell_type": "code",
   "execution_count": 369,
   "id": "d3a895af",
   "metadata": {},
   "outputs": [
    {
     "data": {
      "text/plain": [
       "('name_thing', 0.52)"
      ]
     },
     "execution_count": 369,
     "metadata": {},
     "output_type": "execute_result"
    }
   ],
   "source": [
    "#########################\n",
    "#      Start Test\n",
    "#########################\n",
    "\n",
    "normalize_name(\"UT\",None,2,0.3,\"null\",\"Name thing\")\n",
    "\n",
    "#########################\n",
    "#       End Test\n",
    "#########################"
   ]
  },
  {
   "cell_type": "markdown",
   "id": "b8458b45",
   "metadata": {},
   "source": [
    "Take a list of AL variables and spits out suggested groupings. Here's what's going on:\n",
    "\n",
    "1. It reads in a list of fields (e.g., `[\"user_name\",\"user_address\"]`)\n",
    "2. Splits each field into words (e.g., turning `user_name` into `user name`)\n",
    "3. It then turns these ngrams/\"sentences\" into vectors using word2vec. \n",
    "4. For the collection of fields, it finds clusters of these \"sentences\" within the semantic space defined by word2vec. Currently it uses Affinity Propagation. See https://machinelearningmastery.com/clustering-algorithms-with-python/"
   ]
  },
  {
   "cell_type": "code",
   "execution_count": 370,
   "id": "3d0a0474",
   "metadata": {},
   "outputs": [],
   "source": [
    "def cluster_screens(fields=[],damping=0.7):\n",
    "    # Takes in a list (fields) and returns a suggested screen grouping\n",
    "    # Set damping to value >= 0.5 or < 1 to tune how related screens should be\n",
    "\n",
    "    vec_mat = np.zeros([len(fields),300])\n",
    "    for i in range(len(fields)):\n",
    "        vec_mat[i] = [nlp(reCase(fields[i])).vector][0]\n",
    "\n",
    "    # create model\n",
    "    model = AffinityPropagation(damping=damping,random_state=4)\n",
    "    # fit the model\n",
    "    model.fit(vec_mat)\n",
    "    # assign a cluster to each example\n",
    "    yhat = model.predict(vec_mat)\n",
    "    # retrieve unique clusters\n",
    "    clusters = unique(yhat)\n",
    "\n",
    "    screens = {}\n",
    "    #sim = np.zeros([5,300])\n",
    "    i=0\n",
    "    for cluster in clusters:\n",
    "        this_screen = where(yhat == cluster)[0]\n",
    "        vars = []\n",
    "        j=0\n",
    "        for screen in this_screen:\n",
    "            #sim[screen]=vec_mat[screen] # use this spot to add up vectors for compare to list\n",
    "            vars.append(fields[screen])\n",
    "            j+=1\n",
    "        screens[\"screen_%s\"%i]=vars\n",
    "        i+=1\n",
    "\n",
    "    return screens"
   ]
  },
  {
   "cell_type": "code",
   "execution_count": 371,
   "id": "416ee5ee",
   "metadata": {},
   "outputs": [
    {
     "data": {
      "text/plain": [
       "{'screen_0': ['users1_name',\n",
       "  'users1_birthdate',\n",
       "  'users1_address_line_one',\n",
       "  'users1_address_line_two',\n",
       "  'users1_address_city',\n",
       "  'users1_address_state',\n",
       "  'users1_address_zip',\n",
       "  'users1_phone_number',\n",
       "  'users1_email',\n",
       "  'users1_signature'],\n",
       " 'screen_1': ['plantiffs1_name',\n",
       "  'defendants1_name',\n",
       "  'petitioners1_name',\n",
       "  'respondents1_name'],\n",
       " 'screen_2': ['docket_number'],\n",
       " 'screen_3': ['trial_court_county'],\n",
       " 'screen_4': ['signature_date']}"
      ]
     },
     "execution_count": 371,
     "metadata": {},
     "output_type": "execute_result"
    }
   ],
   "source": [
    "#########################\n",
    "#      Start Test\n",
    "#########################\n",
    "\n",
    "fields= [\n",
    "        \"users1_name\",\n",
    "        \"users1_birthdate\",\n",
    "        \"users1_address_line_one\",\n",
    "        \"users1_address_line_two\",\n",
    "        \"users1_address_city\",\n",
    "        \"users1_address_state\",\n",
    "        \"users1_address_zip\",\n",
    "        \"users1_phone_number\",\n",
    "        \"users1_email\",\n",
    "        \"plantiffs1_name\",\n",
    "        \"defendants1_name\",\n",
    "        \"petitioners1_name\",\n",
    "        \"respondents1_name\",\n",
    "        \"docket_number\",\n",
    "        \"trial_court_county\",\n",
    "        \"users1_signature\",\n",
    "        \"signature_date\"\n",
    "        ]\n",
    "\n",
    "cluster_screens(fields,damping=0.7)\n",
    "\n",
    "#########################\n",
    "#       End Test\n",
    "#########################"
   ]
  },
  {
   "cell_type": "code",
   "execution_count": 372,
   "id": "26d236ff",
   "metadata": {},
   "outputs": [
    {
     "name": "stdout",
     "output_type": "stream",
     "text": [
      "[1.0000000000000002, 1.0000000000000002, 1.0000000000000002, 1.0000000000000002, 1.0000000000000002]\n",
      "[0.8038686975124008, 0.8038686975124008, 0.8038686975124008, 0.8038686975124008, 0.8038686975124008]\n",
      "[0.8481956135581707, 0.8481956135581707, 0.8481956135581707, 0.8481956135581707, 0.8481956135581707]\n",
      "[0.826921329803093, 0.826921329803093, 0.826921329803093, 0.826921329803093, 0.826921329803093]\n",
      "[0.8197875020998185, 0.8197875020998185, 0.8197875020998185, 0.8197875020998185, 0.8197875020998185]\n",
      "[0.8059375150874605, 0.8059375150874605, 0.8059375150874605, 0.8059375150874605, 0.8059375150874605]\n",
      "[0.7847333680991196, 0.7847333680991196, 0.7847333680991196, 0.7847333680991196, 0.7847333680991196]\n",
      "[0.8077588614146448, 0.8077588614146448, 0.8077588614146448, 0.8077588614146448, 0.8077588614146448]\n",
      "[0.8619738791744108, 0.8619738791744108, 0.8619738791744108, 0.8619738791744108, 0.8619738791744108]\n",
      "[0.5654755902680005, 0.5654755902680005, 0.5654755902680005, 0.5654755902680005, 0.5654755902680005]\n",
      "[0.7270830527576246, 0.7270830527576246, 0.7270830527576246, 0.7270830527576246, 0.7270830527576246]\n",
      "[0.7066811786666043, 0.7066811786666043, 0.7066811786666043, 0.7066811786666043, 0.7066811786666043]\n",
      "[0.8033780104957245, 0.8033780104957245, 0.8033780104957245, 0.8033780104957245, 0.8033780104957245]\n",
      "[0.3710364828431793, 0.3710364828431793, 0.3710364828431793, 0.3710364828431793, 0.3710364828431793]\n",
      "[0.2775048357597198, 0.2775048357597198, 0.2775048357597198, 0.2775048357597198, 0.2775048357597198]\n",
      "[0.848285400400378, 0.848285400400378, 0.848285400400378, 0.848285400400378, 0.848285400400378]\n",
      "[0.4748926350344034, 0.4748926350344034, 0.4748926350344034, 0.4748926350344034, 0.4748926350344034]\n"
     ]
    }
   ],
   "source": [
    "#########################\n",
    "#      Start Test\n",
    "#########################\n",
    "\n",
    "vec_mat = np.zeros([len(fields),300])\n",
    "for i in range(len(fields)):\n",
    "    vec_mat[i] = [nlp(reCase(fields[i])).vector][0]\n",
    "\n",
    "parts = np.zeros([5,300])\n",
    "\n",
    "for row in vec_mat:\n",
    "    sim = []\n",
    "    for part in parts:\n",
    "        sim.append(cosine_similarity(vec_mat[0].reshape(1, -1),row.reshape(1, -1))[0][0])\n",
    "    print(sim)   \n",
    "\n",
    "#########################\n",
    "#       End Test\n",
    "#########################"
   ]
  },
  {
   "cell_type": "markdown",
   "id": "f9c6a231",
   "metadata": {},
   "source": [
    "Get the text content of a pdf."
   ]
  },
  {
   "cell_type": "code",
   "execution_count": 373,
   "id": "2ba79e0e",
   "metadata": {},
   "outputs": [],
   "source": [
    "def read_pdf (file):\n",
    "    try:\n",
    "        pdfFile = PyPDF2.PdfFileReader(open(file, \"rb\"))\n",
    "        if pdfFile.isEncrypted:\n",
    "            try:\n",
    "                pdfFile.decrypt('')\n",
    "                #print ('File Decrypted (PyPDF2)')\n",
    "            except:\n",
    "                #\n",
    "                #\n",
    "                # This didn't go so well on my Windows box so I just ran this in the pdf folder's cmd:\n",
    "                # for %f in (*.*) do copy %f temp.pdf /Y && \"C:\\Program Files (x86)\\qpdf-8.0.2\\bin\\qpdf.exe\" --password=\"\" --decrypt temp.pdf %f\n",
    "                #\n",
    "                #\n",
    "                #\n",
    "                \n",
    "                command=\"cp \"+file+\" tmp/temp.pdf; qpdf --password='' --decrypt tmp/temp.pdf \"+file\n",
    "                os.system(command)\n",
    "                #print ('File Decrypted (qpdf)')\n",
    "                #re-open the decrypted file\n",
    "                pdfFile = PyPDF2.PdfFileReader(open(file, \"rb\"))\n",
    "        text = \"\"\n",
    "        for page in pdfFile.pages:\n",
    "            text = text + \" \" + page.extractText()\n",
    "        text = reCase(text)\n",
    "        text = re.sub(\"(\\.|,|;|:|!|\\?|\\n|\\]|\\))\",\"\\\\1 \",text)\n",
    "        text = re.sub(\"(\\(|\\[)\",\" \\\\1\",text)\n",
    "        text = re.sub(\" +\",\" \",text)\n",
    "        return text\n",
    "    except:\n",
    "        return \"\""
   ]
  },
  {
   "cell_type": "code",
   "execution_count": 374,
   "id": "ba70f97f",
   "metadata": {},
   "outputs": [
    {
     "data": {
      "text/plain": [
       "\"APPLICATION1. Onjudgment was entered against the defendant (s) and the plaintiff was awarded\\n possession of the following described property: 2. No payment has been made on the judgment or no rent has been received since the date of judgment, except the sum of\\n $ received under the following conditions: \\n 3. The plaintiff has complied with the terms of the judgment. \\n 4. The time stated in the judgment before an order of eviction can be issued has elapsed. \\n I declare that the statements above are true to the best of my information, knowledge, and belief. ORDER OF EVICTIONIN THE NAME OF THE PEOPLE OF THE STATE OF MICHIGAN: To the Court Officer: You are ordered to restore the plaintiff to, and put the plaintiff in, full possession of the premises. NOTE: In tenancy cases, this order must be executed within 56 days of the issuance date. DC 107 (3/16) APPLICATION AND ORDER OF EVICTION, Landlord Tenant / Land Contract\\n MCL 600. 5744, MCR 4. 201 (L) , MCR 4. 202 (K) Court address Court telephone no. Defendant's name (s) and address (es) Plaintiff's name, address, and telephone no. v Plaintiff's attorney, bar no. , address, and telephone no. Date Plaintiff/Attorney signature Date Date issued Judge Bar no. STATE OF MICHIGANJUDICIAL DISTRICTCASE NO. Approved, SCAO2 nd copy - Defendant 3 rd copy - Plaintiff APPLICATION AND ORDER OF EVICTIONLandlord Tenant / Land Contract NOTE: An application may be required even though arequest for an order of eviction is granted in the judgment. Original - Officer return\\n 1 st copy - Court APPLICATION AND ORDEROF EVICTIONCASE NO. RETURNI certify and return that on I executed the order of eviction on the other side of this form\\n by evictingfrom the property, and I have restored the plaintiff to peaceful possession as ordered. Date (Deputy) sheriff/Court officer/Bailiff Date Name (s) $$Service fee Miles traveled Fee\\n Incorrect address fee Miles traveled Fee\\n TOTAL FEE$$$\""
      ]
     },
     "execution_count": 374,
     "metadata": {},
     "output_type": "execute_result"
    }
   ],
   "source": [
    "#########################\n",
    "#      Start Test\n",
    "#########################\n",
    "\n",
    "read_pdf(\"../data/processed/www.courts.michigan.gov/forms/147d1063a642a9f94693331190cc14599152610dc5cd489b5d17e46d.pdf\")\n",
    "\n",
    "#########################\n",
    "#       End Test\n",
    "#########################"
   ]
  },
  {
   "cell_type": "markdown",
   "id": "0970f071",
   "metadata": {},
   "source": [
    "Read in a pdf, pull out basic stats, attempt to normalize its form fields, and re-write the file with the new fields (if `rewrite=1`). "
   ]
  },
  {
   "cell_type": "code",
   "execution_count": 375,
   "id": "1fa3bd10",
   "metadata": {},
   "outputs": [],
   "source": [
    "def parse_form(fileloc,title=None,jur=None,cat=None,normalize=1,use_spot=0,rewrite=0):\n",
    "    f = PyPDF2.PdfFileReader(fileloc)\n",
    "\n",
    "    if f.isEncrypted:\n",
    "        pdf = pikepdf.open(fileloc, allow_overwriting_input=True)\n",
    "        pdf.save(fileloc)\n",
    "        f = PyPDF2.PdfFileReader(fileloc)\n",
    "        \n",
    "    npages = f.getNumPages()\n",
    "  \n",
    "    try:\n",
    "        with time_limit(15):\n",
    "            ff = f.getFields()\n",
    "    except TimeoutException as e:\n",
    "        print(\"Timed out!\")\n",
    "        ff = None   \n",
    "    \n",
    "    if ff:\n",
    "        fields = list(ff.keys())\n",
    "    else:\n",
    "        fields = []\n",
    "    f_per_page = len(fields)/npages\n",
    "    text = read_pdf(fileloc)\n",
    "    \n",
    "    try:\n",
    "        #readbility = int(Readability(text).flesch_kincaid().grade_level)\n",
    "        consensus = textstat.text_standard(text)\n",
    "        readbility = eval(re.sub(\"^(\\d+)[^0-9]+(\\d+)\\w*.*\",\"(\\\\1+\\\\2)/2\",consensus))\n",
    "    except:\n",
    "        readbility = None\n",
    "\n",
    "    if title is None:\n",
    "        title = reCase(re.search(\"(.*)\\n\",text).group(1).strip())\n",
    "\n",
    "    if use_spot==1:\n",
    "        nmsi = spot(title + \". \" +text)      \n",
    "    else:\n",
    "        nmsi = []\n",
    "        \n",
    "    if normalize==1:\n",
    "        i = 0 \n",
    "        length = len(fields)\n",
    "        last = \"null\"\n",
    "        new_fields = []\n",
    "        new_fields_conf = []\n",
    "        for field in fields:\n",
    "            #print(jur,cat,i,i/length,last,field)\n",
    "            this_field,this_conf = normalize_name(jur,cat,i,i/length,last,field)\n",
    "            new_fields.append(this_field)\n",
    "            new_fields_conf.append(this_conf)\n",
    "            last = field\n",
    "        \n",
    "        new_fields = [v + \"__\" + str(new_fields[:i].count(v) + 1) if new_fields.count(v) > 1 else v for i, v in enumerate(new_fields)]\n",
    "    else:\n",
    "        new_fields = fields\n",
    "        new_fields_conf = []\n",
    "    \n",
    "    stats = {\n",
    "            \"title\":title,\n",
    "            \"category\":cat,\n",
    "            \"pages\":npages,\n",
    "            \"reading grade level\": readbility,\n",
    "            \"list\":nmsi,\n",
    "            \"avg fields per page\": f_per_page,\n",
    "            \"fields\":new_fields,\n",
    "            \"fields_conf\":new_fields_conf,\n",
    "            \"fields_old\":fields\n",
    "            }    \n",
    "    \n",
    "    if rewrite==1:\n",
    "        try:\n",
    "            if 1==1:\n",
    "                my_pdf = pikepdf.Pdf.open(fileloc, allow_overwriting_input=True)\n",
    "                fields_too = my_pdf.Root.AcroForm.Fields #[0][\"/Kids\"][0][\"/Kids\"][0][\"/Kids\"][0][\"/Kids\"]\n",
    "                #print(repr(fields_too))\n",
    "                \n",
    "                k =0\n",
    "                for field in new_fields:\n",
    "                    #print(k,field)\n",
    "                    fields_too[k].T = re.sub(\"^\\*\",\"\",field)\n",
    "                    k+=1\n",
    "\n",
    "                #f2.T = 'new_hospital_name'\n",
    "                #filename = re.search(\"\\/(\\w*\\.pdf)$\",fileloc).groups()[0]\n",
    "                #my_pdf.save('/%s'%(filename))\n",
    "                my_pdf.save(fileloc)\n",
    "            else:\n",
    "                file = PdfFileWriter()\n",
    "\n",
    "                first_page = f.getPage(0)\n",
    "\n",
    "                file.cloneDocumentFromReader(f)\n",
    "                #file.appendPagesFromReader(f)\n",
    "\n",
    "                x ={}\n",
    "                for y in ff:\n",
    "                    x[y]=\"\"\n",
    "\n",
    "                #print(x)\n",
    "\n",
    "                file.updatePageFormFieldValues(first_page,x)\n",
    "\n",
    "                output = open('blankPdf.pdf', 'wb')\n",
    "                file.write(output)  \n",
    "        except:\n",
    "            error = \"could not change form fields\"\n",
    "    \n",
    "    return stats"
   ]
  },
  {
   "cell_type": "code",
   "execution_count": 345,
   "id": "e584524c",
   "metadata": {},
   "outputs": [
    {
     "name": "stdout",
     "output_type": "stream",
     "text": [
      "Form Adopted for Mandatory Use Judicial Council of California \n",
      " UD 101 [Rev. October 1, 2021] PLAINTIFF'S MANDATORY COVER SHEET AND SUPPLEMENTAL ALLEGATIONSŠUNLAWFUL DETAINERCode of Civil Procedure, § 1179. 01 et seq. www. courts. ca. gov UD 101 FOR COURT USE ONLYCASE NUMBER: ATTORNEY OR PARTY WITHOUT ATTORNEYSTATE BAR NUMBER: NAME: FIRM NAME: STREET ADDRESS: CITY: STATE: ZIP CODE: TELEPHONE NO. : FAX NO. : EMAIL ADDRESS: ATTORNEY FOR (name) : SUPERIOR COURT OF CALIFORNIA, COUNTY OFSTREET ADDRESS: MAILING ADDRESS: CITY AND ZIP CODE: BRANCH NAME: PLAINTIFF: DEFENDANT: PLAINTIFF'S MANDATORY COVER SHEET AND SUPPLEMENTAL ALLEGATIONSŠUNLAWFUL DETAINERAll plaintiffs in unlawful detainer proceedings must file and serve this form. Filing this form complies with the requirement in Code of Civil Procedure section 1179. 01. 5 (c) . Ł Serve this form and any attachments to it with the summons. Ł If a summons has already been served without this form, then serve it by mail or any other means of service authorized by law. Ł If defendant has answered prior to service of this form, there is no requirement for defendant to respond to the supplemental allegations before trial. \n",
      " To obtain a summons in an unlawful detainer action for nonpayment of rent on a residential property filed before March 31, 2022, a \n",
      " plaintiff must verify that they applied for governmental rental assistance that was not granted, or that the tenancy began after \n",
      " September 30, 2021. (See item 3. ) \n",
      " \n",
      " To obtain a judgment in an unlawful detainer action for nonpayment of rent on a residential property, a plaintiff must verify that no \n",
      " rental assistance or other financial compensation has been received for the amount demanded in the notice or accruing afterward, and \n",
      " that no application is pending for such assistance. To obtain a default judgment, plaintiff must use Verification by Landlord Regarding Rental AssistanceŠUnlawful Detainer (form UD 120) to make this verification and provide other information required by statute. 1. PLAINTIFF (name each) : alleges causes of action in the complaint filed in this action against DEFENDANT (name each) : 2. Statutory cover sheet allegations (Code Civ. Proc. , § 1179. 01. 5 (c) ) a. This action seeks possession of real property that is (check all that apply) : Residential Commercial (If \"residential\" is checked, complete items 3 and 4 and all remaining items that apply to this action. If only \"commercial\" is \n",
      " checked, no further items need to be completed except the signature and verification on page 5; a summons may be issued. ) Yesb. This action is based, in whole or in part, on an alleged default in payment of rent or other charges. No 3. Verifications required for issuance of summons residential (Code Civ. Proc. , § 1179. 11 (a) ) Ša. Is this action based, in whole or in part, on a defendant's nonpayment of rent or other financial obligation during the period \n",
      " between March 1, 2020, and March 31, 2022? Yes No (If no is checked, no further items need to be completed except the signature and verification on page 5, and item 12 if the \n",
      " action is based in whole or in part on nonpayment of rent during some other time frame; a summons may be issued. ) b. Is this action on a tenancy that was initially established before October 1, 2021? Yes No (If no is checked, the further items that need to be completed are the signature and verification on page 5, and items 10 or 11, \n",
      " and 12 if the action is based in whole or in part on nonpayment of rent; a summons may be issued. (See Code Civ. Proc. , § \n",
      " 1179. 09 (h) to learn more about what ﬁinitially establishedﬂ means. ) Page 1 of 5 UD 101 [Rev. October 1, 2021] PLAINTIFF'S MANDATORY COVER SHEET AND SUPPLEMENTAL ALLEGATIONSŠUNLAWFUL DETAINERUD 101 PLAINTIFF: DEFENDANT: CASE NUMBER: 3. c. If you answered yes to questions 3 a and 3 b above, you must check either (1) or (2) below, or a summons may not be issued. (1) Before filing the complaint in this action, plaintiff applied for governmental rental assistance to cover the rent or other financial obligations demanded in this action, but the application was denied and a copy of a final decision denying the assistance is attached. Note that a ﬁfinal decisionﬂ does not include rejection based on plaintiff not completing the application or doing so \n",
      " correctly, notification that the application is pending further action, or notification that plaintiff or defendants applied to \n",
      " the wrong government agency. (Code Civ. Proc. , § 1179. 09 (d) . ) or (2) Before filing the complaint in this action, plaintiff completed an application for governmental rental assistance to cover \n",
      " the rent or other financial obligations demanded in this action, including all the required contact information and \n",
      " documentation, and all of the following are true: (a) At least 20 days have passed since the later of either (check one) : The date the plaintiff submitted the completed application, or The date the plaintiff served the three day notice underlying the complaint. and (b) Plaintiff has not received any notice from the governmental agency to which defendant has applied for governmental \n",
      " rental assistance to cover the rent or other financial obligations demanded from the defendant in this action. and (c) Plaintiff has not received a communication from the defendant that defendant has applied for governmental rental \n",
      " assistance to cover the rent or other financial obligations demanded from the defendant in this action. 4. Tenants subject to COVID 19 Tenant Relief Act (Code Civ. Proc. , § 1179. 02 (h) ) a. (1) One or more defendants in this action is a natural person: Yes No (2) Identify any defendant not a natural person: (If no is checked, then no further items need to be completed except the signature and verification, and item 12 if the action is \n",
      " based on nonpayment of rent. ) b. (1) All defendants named in this action maintain occupancy as described in Civil Code section 1940 (b) . Yes No (2) Identify any defendant who does not: (If yes is checked, then no further items need to be completed except the signature and verification, and item 12 if the action is \n",
      " based on nonpayment of rent. ) 5. Unlawful detainer notice expired before March 1, 2020 \n",
      " The unlawful detainer complaint in this action is based solely on a notice to quit, to pay or quit, or to perform covenants or quit, in which the time period specified in the notice expired before March 1, 2020. (If this is the only basis for the action, no further items need to be completed except the signature and verification on page 5. (Code Civ. Proc. , § 1179. 03. 5 (a) (1) . ) ) 6. Rent or other financial obligations due between March 1, 2020, and August 31, 2020 (protected time period) The unlawful detainer complaint in this action is based, at least in part, on a demand for payment of rent or other financial obligations due in the protected time period. (Check all that apply. ) a. (name each) : was provided all the required versions of the \"Notice from the State of California\" required by Code of Civil Procedure section \n",
      " 1179. 04. (Provide information regarding service of the notice or notices in item 8 below. ) b. (name each) : was served with at least 15 days' notice to pay rent or other financial obligations, quit, or deliver a declaration, and an unsigned \n",
      " declaration of COVID 19Œrelated financial distress, in the form and with the content required in Code of Civil Procedure section 1179. 03 (b) and (d) . (If the notice identified defendant as a high income tenant and requested submission of documentation supporting any declaration the defendant submits, complete item 9 below. (Code Civ. Proc. , § 1179. 02. 5 (c) . ) ) (If filing form UD 100 with this form and item 6 b is checked, specify this 15 day notice in item 9 a (7) on form UD 100, attach a copy of the notice to that complaint form, and provide all requested information about service on that form. ) Page 2 of 5 UD 101 [Rev. October 1, 2021] PLAINTIFF'S MANDATORY COVER SHEET AND SUPPLEMENTAL ALLEGATIONSŠUNLAWFUL DETAINERPage 3 of 5 UD 101 PLAINTIFF: DEFENDANT: CASE NUMBER: 6. c. Response to notice (check all that apply) : (1) (name each) : delivered a declaration of COVID 19Œrelated financial distress on landlord in the time required. (Code Civ. Proc. , § 1179. 03 (f) . ) (2) (name each) : did not deliver a declaration of COVID 19Œrelated financial distress on landlord in the time required. (Code Civ. Proc. , § 1179. 03 (f) . ) 7. Rent or other financial obligations due between September 1, 2020, and September 30, 2021 (the transition time period) The unlawful detainer complaint in this action is based, at least in part, on a demand for payment of rent or other financial obligations due during the transition time period. a. (name each) : was provided all the required versions of the \"Notice from the State of California\" as required by Code of Civil Procedure section 1179. 04. (Provide information regarding service of the notice or notices in item 8 below. ) b. (name each) : was served with at least 15 days' notice to pay rent or other financial obligations, quit, or deliver a declaration, and an unsigned declaration of COVID 19 related financial distress, in the form and with the content required in Code of Civil Procedure section 1179. 03 (c) and (d) . Œ (If the notice identified defendant as a high income tenant and requested submission of documentation supporting any declaration the defendant submits, complete item 9 below. (Code Civ. Proc. , § 1179. 02. 5 (c) . ) ) (If filing form UD 100 with this form and item 7 b is checked, specify this 15 day notice in item 9 a (7) on form UD 100, attach \n",
      " a copy of the notice to that complaint form, and provide all requested information about service on that form. ) c. Response to notice (check all that apply) : (1) (name each) : delivered a declaration of COVID 19Œrelated financial distress on the landlord in the time required. (Code Civ. Proc. , § 1179. 03 (f) . ) (2) (name each) : did not deliver a declaration of COVID 19Œrelated financial distress on the landlord in the time required. (Code Civ. Proc. , § 1179. 03 (f) . ) ) d. Rent or other financial obligations due: (1) Rent or other financial obligations in the amount of $was due between September 1, 2020, and September 30, 2021. (2) Payment of $for that period was received by September 30, 2021. a. September 2020 Notice. Plaintiff provided the required notice for tenants who, as of September 1, 2020, had any unpaid rent or other financial obligations due any time between March 1, 2020, and August 31, 2020 (Code Civ. Proc. , § 1179. 04 (a) ) , to defendants identified in 6 a or as follows: (1) By sending a copy by mail addressed to each named defendant on (date) : . (2) By personally handing a copy to each named defendant on (date) : . 8. Service of Code of Civil Procedure Section 1179. 04 Notice from the State of California (You must complete this item if you checked item 6 or 7 above. Section 1179. 04 provides three separate versions of a ﬁNotice from the State of Californiaﬂ that the \n",
      " landlord was to provide to tenants at different times during the pandemic (the notices referenced in item 6 a and 7 a above) . This \n",
      " item addresses when and how those notices were provided. ) UD 101 [Rev. October 1, 2021] PLAINTIFF'S MANDATORY COVER SHEET AND SUPPLEMENTAL ALLEGATIONSŠUNLAWFUL DETAINERUD 101 PLAINTIFF: DEFENDANT: CASE NUMBER: 8. a. (3) By some other method of service described in Code of Civil Procedure section 1162. (If this box is checked, describe the method and date of service on an attached page (you can use form MC 025) and title it Attachment 8 a. ) (4) In different ways for different defendants. (If this box is checked, describe the method and date of service for each defendant on an attached page (you can use form MC 025) and title it Attachment 8 a. ) (5) Plaintiff was not required to serve the September 2020 notice on the named defendants. b. February 2021 Notice. Plaintiff provided the required notice for tenants who as of February 1, 2021, had unpaid rent or other financial obligations due any time after March 1, 2020, (Code Civ. Proc. , § 1179. 04 (b) ) to defendants identified in 6 a and 7 a as \n",
      " follows: (1) By sending a copy by mail addressed to each named defendant on (date) : . (2) By personally handing a copy to each named defendant on (date) : . (3) By some other method of service described in Code of Civil Procedure section 1162. (If this box is checked, describe the method and date of service on an attached page (you can use form MC 025) and title it Attachment 8 b. ) (4) In different ways for different defendants. (If this box is checked, describe the method and date of service for each defendant on an attached page (you can use form MC 025) and title it Attachment 8 b. ) (5) Plaintiff was not required to serve the February 2021 notice on the named defendants. c. July 2021 Notice. Plaintiff provided the required notice for tenants who as of July 1, 2021, had unpaid rent or other financial obligations due any time after March 1, 2020, (Code Civ. Proc. , § 1179. 04 (c) ) to defendants identified in 6 a and 7 a as follows: (1) By sending a copy by mail addressed to each named defendant on (date) : . (2) By personally handing a copy to each named defendant on (date) : . (3) By some other method of service described in Code of Civil Procedure section 1162. (If this box is checked, describe the method and date of service on an attached page (you can use form MC 025) and title it Attachment 8 c. ) (4) In different ways for different defendants. (If this box is checked, describe the method and date of service for each defendant on an attached page (you can use form MC 025) and title it Attachment 8 c. ) (5) Plaintiff was not required to serve the July 2021 notice on the named defendants. 9. High income tenant. The 15 day notice in item 6 b or 7 b above identified defendant as a high income tenant and requested submission of documentation supporting the tenant's claim that tenant had suffered COVID 19Œrelated financial distress. Plaintiff had proof before serving that notice that the tenant has an annual income that is at least 130 percent of the median income for the county the rental property is located in and not less than $100, 000. (Code Civ. Proc. , § 1179. 02. 5. ) a. The tenant did not deliver a declaration of COVID 19Œrelated financial distress within the required time. (Code Civ. Proc. , § 1179. 03 (f) . ) b. The tenant did not deliver documentation within the required time supporting that the tenant had suffered COVID 19Œ related financial distress as asserted in the declaration. (Code Civ. Proc. , § 1179. 02. 5 (c) . ) 10. Rent or other financial obligations due between October 1, 2021, and March 31, 2022 (recovery period rental debt) . The unlawful detainer complaint in this action is based, at least in part, on a demand for payment of rent or other financial obligations due during the recovery period. (Check a or b. ) a. (name each) : was served with at least 3 days' notice to pay rent or other financial obligations or quit, in a notice that included the name, website address, and phone number of the governmental rental assistance program for the locality in which the property at \n",
      " issue is located, as well as all other content required by Code of Civil Procedure section 1179. 10. \n",
      " (If filing form UD 100 with this form and this item is checked, specify this notice in item 9 a (7) on form UD 100, attach a copy of the notice to that complaint form, and provide all requested information about service on that form. ) b. Plaintiff has checked no in item 3 b and the special notice to quit required by Code of Civil Procedure section 1179. 10 does \n",
      " not apply in this action. Page 4 of 5 UD 101 [Rev. October 1, 2021] PLAINTIFF'S MANDATORY COVER SHEET AND SUPPLEMENTAL ALLEGATIONSŠUNLAWFUL DETAINERPage 5 of 5 UD 101 PLAINTIFF: DEFENDANT: CASE NUMBER: Rent or other financial obligations due after March 31, 2022. (Only applicable if action is filed on or after April 1, 2022. ) The only demand for rent or other financial obligations on which the unlawful detainer complaint in this action is based is a demand for payment of rent due after March 31, 2022. 11. 12. Statements regarding rental assistance (Required in all actions based on nonpayment of rent or any other financial obligation. Plaintiff must answer all the questions in this item and, if later seeking a default judgment, will also need to file \n",
      " Verification Regarding Rental Assistance Unlawful Detainer (form UD 120) . ) a. Has plaintiff received rental assistance or other financial compensation from any other source corresponding to the amount \n",
      " demanded in the notice underlying the complaint? Yes Nob. Has plaintiff received rental assistance or other financial compensation from any other source for rent accruing after the date of the notice underlying the complaint? Yes Noc. Does plaintiff have any pending application for rental assistance or other financial compensation from any other source \n",
      " corresponding to the amount demanded in the notice underlying the complaint? Yes Nod. Does plaintiff have any pending application for rental assistance or other financial compensation from any other source for rent accruing after the date on the notice underlying the complaint? Yes NoŠ13. Other allegations Plaintiff makes the following additional allegations: (State any additional allegations below, with each allegation lettered in order, starting with (a) , (b) , (c) etc. If there is not enough space below, check the box below and use form MC 025, title it Attachment 13, and letter each allegation in order. ) Other allegations are on form MC 025. 14. Number of pages attached (specify) : Date: (TYPE OR PRINT NAME) (SIGNATURE OF PLAINTIFF OR ATTORNEY) VERIFICATION (Use a different verification form if the verification is by an attorney or for a corporation or partnership. ) I am the plaintiff in this proceeding and have read this complaint. I declare under penalty of perjury under the laws of the State of \n",
      " California that the foregoing is true and correct. Date: (TYPE OR PRINT NAME) (SIGNATURE) \n"
     ]
    },
    {
     "data": {
      "text/plain": [
       "17.5"
      ]
     },
     "execution_count": 345,
     "metadata": {},
     "output_type": "execute_result"
    }
   ],
   "source": [
    "#########################\n",
    "#      Start Test\n",
    "#########################\n",
    "\n",
    "text = read_pdf(\"../data/processed/www.courts.ca.gov/forms/e2c17a8503879d28d12932434d7c755b.pdf\")\n",
    "print(text)\n",
    "consensus = textstat.text_standard(text)\n",
    "#print(consensus)\n",
    "readbility = eval(re.sub(\"^(\\d+)[^0-9]+(\\d+)\\w*.*\",\"(\\\\1+\\\\2)/2\",consensus))\n",
    "readbility\n",
    "\n",
    "#########################\n",
    "#       End Test\n",
    "#########################"
   ]
  },
  {
   "cell_type": "code",
   "execution_count": 353,
   "id": "daeff97e",
   "metadata": {
    "scrolled": true
   },
   "outputs": [
    {
     "data": {
      "text/plain": [
       "{'title': 'APPLICATION1. Onjudgment was entered against the defendant (s) and the plaintiff was awarded',\n",
       " 'category': None,\n",
       " 'pages': 2,\n",
       " 'reading grade level': 11.5,\n",
       " 'list': ['HO-00-00-00-00', 'CO-07-00-00-00', 'CO-00-00-00-00'],\n",
       " 'avg fields per page': 13.5,\n",
       " 'fields': ['state_michigan_judicial_district',\n",
       "  'text__1',\n",
       "  'text__2',\n",
       "  'text__3',\n",
       "  'text__4',\n",
       "  'defendant_names_addresses',\n",
       "  '1_on',\n",
       "  'judgment_entered_defendants_plaintiff_awarded',\n",
       "  'possession_following_described_property__1',\n",
       "  'possession_following_described_property__2',\n",
       "  'payment_made_judgment_rent_received_since_date_except_sum',\n",
       "  'received_following_conditions',\n",
       "  'unknown__1',\n",
       "  'unknown__2',\n",
       "  'declare_statements_true_best_information_knowledge_belief',\n",
       "  'text__5',\n",
       "  'signature_date__1',\n",
       "  'text__6',\n",
       "  'signature_date__2',\n",
       "  'service_fee',\n",
       "  'text__7',\n",
       "  'text__8',\n",
       "  'text__9',\n",
       "  'text__10',\n",
       "  'text__11',\n",
       "  'total_fee',\n",
       "  '*docket_number'],\n",
       " 'fields_conf': [0.57,\n",
       "  0.51,\n",
       "  0.52,\n",
       "  0.53,\n",
       "  0.53,\n",
       "  0.62,\n",
       "  0.67,\n",
       "  0.64,\n",
       "  0.59,\n",
       "  0.64,\n",
       "  0.68,\n",
       "  0.68,\n",
       "  0.58,\n",
       "  0.63,\n",
       "  0.59,\n",
       "  0.53,\n",
       "  0.53,\n",
       "  0.55,\n",
       "  0.56,\n",
       "  0.65,\n",
       "  0.48,\n",
       "  0.51,\n",
       "  0.59,\n",
       "  0.53,\n",
       "  0.57,\n",
       "  0.7,\n",
       "  1],\n",
       " 'fields_old': ['state_michigan_judicial_district',\n",
       "  'text__1',\n",
       "  'text__2',\n",
       "  'text__3',\n",
       "  'text__4',\n",
       "  'defendant_names_addresses',\n",
       "  '1_on',\n",
       "  'judgment_entered_defendants_plaintiff_awarded',\n",
       "  'possession_following_described_property__1',\n",
       "  'possession_following_described_property__2',\n",
       "  'payment_made_judgment_rent_received_since_date_except_sum',\n",
       "  'received_following_conditions',\n",
       "  'unknown__1',\n",
       "  'unknown__2',\n",
       "  'declare_statements_true_best_information_knowledge_belief',\n",
       "  'text__5',\n",
       "  'signature_date__1',\n",
       "  'text__6',\n",
       "  'signature_date__2',\n",
       "  'service_fee',\n",
       "  'text__7',\n",
       "  'text__8',\n",
       "  'text__9',\n",
       "  'text__10',\n",
       "  'text__11',\n",
       "  'total_fee',\n",
       "  'docket_number']}"
      ]
     },
     "execution_count": 353,
     "metadata": {},
     "output_type": "execute_result"
    }
   ],
   "source": [
    "#########################\n",
    "#      Start Test\n",
    "#########################\n",
    "\n",
    "#parse_form(\"../data/processed/www.utcourts.gov/forms/898269a99ff1c65be10b1ae35bb34ba469fc14b7301b7ed7b126d195.pdf\",title=None,jur=\"UT\",cat=None,normalize=1)\n",
    "#parse_form(\"../data/processed/www.utcourts.gov/forms/2532cd2b6d3aaff8c47726a0abd168fb4e5cdb4977c065cd27bde8c7.pdf\",title=None,jur=\"UT\",cat=None,normalize=1)\n",
    "#parse_form(\"../data/processed/www.utcourts.gov/forms/6ec7576210513907e699b5adf3397639507c688801a60bc34c201984.pdf\",title=None,jur=\"UT\",cat=None,normalize=1)\n",
    "#parse_form(\"../data/processed/mjbportal.courts.maine.gov/forms/1519fe450d870a36a428a0b006c0665a.pdf\",title=None,jur=\"UT\",cat=None,normalize=1)\n",
    "#parse_form(\"../data/processed/www.courts.ca.gov/forms/3979f1c1c9f165ccac026b26cf20252c.pdf\",title=None,jur=\"UT\",cat=None,normalize=1)\n",
    "#parse_form(\"../data/processed/www.courts.michigan.gov/forms/52b2bf502a4bd8bc3a39a494a0ea5b0f491552e4d2da2ebe82beba3d.pdf\",title=None,jur=\"UT\",cat=None,normalize=1)\n",
    "\n",
    "parse_form(\"../data/processed/www.courts.michigan.gov/forms/147d1063a642a9f94693331190cc14599152610dc5cd489b5d17e46d.pdf\",title=None,jur=\"MI\",cat=None,normalize=1,use_spot=1,rewrite=0)\n",
    "#parse_form(\"../data/processed/www.courts.ca.gov/forms/e2c17a8503879d28d12932434d7c755b.pdf\",title=None,jur=\"CA\",cat=None,normalize=1,use_spot=1,rewrite=0)\n",
    "\n",
    "#########################\n",
    "#       End Test\n",
    "#########################"
   ]
  },
  {
   "cell_type": "code",
   "execution_count": 354,
   "id": "65ff416a",
   "metadata": {
    "scrolled": false
   },
   "outputs": [],
   "source": [
    "#########################\n",
    "#      Start Test\n",
    "#########################\n",
    "\n",
    "import nbformat\n",
    "from nbconvert import PythonExporter\n",
    "from datetime import date\n",
    "today = date.today().strftime(\"%Y-%m-%d\")\n",
    "\n",
    "with open('001 Package Code.ipynb') as fh:\n",
    "    nb = nbformat.reads(fh.read(), nbformat.NO_CONVERT)\n",
    "\n",
    "exporter = PythonExporter()\n",
    "source, meta = exporter.from_notebook_node(nb)\n",
    "\n",
    "with open('lib/lit_explorer.py', 'w+') as fh:\n",
    "    fh.writelines(source)\n",
    "\n",
    "local_load =\"\"\"\n",
    "included_fields = load(os.path.join(os.path.dirname(__file__), 'data', 'included_fields.joblib'))\n",
    "jurisdictions = load(os.path.join(os.path.dirname(__file__), 'data', 'jurisdictions.joblib'))\n",
    "groups = load(os.path.join(os.path.dirname(__file__), 'data', 'groups.joblib'))\n",
    "clf_field_names = load(os.path.join(os.path.dirname(__file__), 'data', 'clf_field_names.joblib'))\n",
    "with open(os.path.join(os.path.dirname(__file__), '../../data/keys', 'spot_token.txt'), 'r') as file:\n",
    "    spot_token = file.read().rstrip()\n",
    "\"\"\"\n",
    "\n",
    "with open(\"lib/lit_explorer.py\", \"r\") as file:\n",
    "    content = file.read() # read everything in the file\n",
    "    content = re.sub(\"#!/usr/bin/env python\\n\",\"\",content,flags=re.M)\n",
    "    content = re.sub(\"# coding: utf-8\\n\",\"\",content,flags=re.M)\n",
    "    content = re.sub(\"# load local stuff\\n\",local_load,content,flags=re.M)\n",
    "    content = re.sub(\"(?<=#{25}\\n#\\s{6}Start Test\\n#{25}\\n)(^(?!.*#{25}).*$\\n)*(?=#{25}\\n#\\s{7}End Test\\n#{25}\\n)\",\"\",content,flags=re.M)\n",
    "    content = re.sub(\"#{25}\\n#\\s{6}Start Test\\n#{25}\\n|#{25}\\n#\\s{7}End Test\\n#{25}\\n|#\\sIn\\[(\\d*|\\s*)\\]:\\n\",\"\",content,flags=re.M)\n",
    "    content = re.sub(\"\\n\\n\\n\\n+\",\"\\n\\n\",content,flags=re.M)\n",
    "    content = re.sub(\"^\\n+\",\"\",content)\n",
    "    \n",
    "with open(\"lib/lit_explorer.py\", \"w\") as file:\n",
    "    file.write(\"# Written \"+today+\"\\n\\n\"+content)\n",
    "\n",
    "#########################\n",
    "#       End Test\n",
    "#########################"
   ]
  },
  {
   "cell_type": "code",
   "execution_count": null,
   "id": "f57964ca",
   "metadata": {},
   "outputs": [],
   "source": []
  }
 ],
 "metadata": {
  "kernelspec": {
   "display_name": "Python 3",
   "language": "python",
   "name": "python3"
  },
  "language_info": {
   "codemirror_mode": {
    "name": "ipython",
    "version": 3
   },
   "file_extension": ".py",
   "mimetype": "text/x-python",
   "name": "python",
   "nbconvert_exporter": "python",
   "pygments_lexer": "ipython3",
   "version": "3.8.8"
  }
 },
 "nbformat": 4,
 "nbformat_minor": 5
}
