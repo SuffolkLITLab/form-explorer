{
 "cells": [
  {
   "cell_type": "markdown",
   "metadata": {},
   "source": [
    "To Do:\n",
    "- Make List page have subpages (e.g., list of forms, list of forms using a field, see below), make these fileres visible after the intro paragraph\n",
    "- Make list of forms using a given field with description with embeded question bank info\n",
    "\n",
    "Thought: make a pdf editor the first step in the weaver. Leverage the name normalizer but allow folks to add and remove fields and rename. "
   ]
  },
  {
   "cell_type": "code",
   "execution_count": 1,
   "metadata": {},
   "outputs": [],
   "source": [
    "import pandas as pd\n",
    "import re\n",
    "import PyPDF2\n",
    "import os\n",
    "from os import walk\n",
    "import os.path\n",
    "from os import path\n",
    "import shutil\n",
    "\n",
    "import time\n",
    "from datetime import date\n",
    "\n",
    "from joblib import dump, load\n",
    "\n",
    "import urllib.parse"
   ]
  },
  {
   "cell_type": "code",
   "execution_count": 4,
   "metadata": {},
   "outputs": [],
   "source": [
    "import sys  \n",
    "sys.path.insert(0, '/lib')\n",
    "    \n",
    "from lib.lit_explorer import *"
   ]
  },
  {
   "cell_type": "code",
   "execution_count": 12,
   "metadata": {},
   "outputs": [],
   "source": [
    "jurs = [\n",
    "        [\"CA\",\"California\"],\n",
    "        [\"ME\",\"Maine\"],[\"MI\",\"Michigan\"],[\"UT\",\"Utah\"]]\n",
    "default_jur = \"MI\"\n",
    "\n",
    "today = date.today().strftime(\"%Y-%m-%d\")"
   ]
  },
  {
   "cell_type": "code",
   "execution_count": 13,
   "metadata": {},
   "outputs": [],
   "source": [
    "def removeSpecial(text):\n",
    "    text = re.sub('[^a-zA-Z0-9]',\"_\",text)\n",
    "    return re.sub('_+',\"_\",text)"
   ]
  },
  {
   "cell_type": "code",
   "execution_count": 153,
   "metadata": {},
   "outputs": [
    {
     "name": "stdout",
     "output_type": "stream",
     "text": [
      "3224\n"
     ]
    },
    {
     "data": {
      "text/html": [
       "<div>\n",
       "<style scoped>\n",
       "    .dataframe tbody tr th:only-of-type {\n",
       "        vertical-align: middle;\n",
       "    }\n",
       "\n",
       "    .dataframe tbody tr th {\n",
       "        vertical-align: top;\n",
       "    }\n",
       "\n",
       "    .dataframe thead th {\n",
       "        text-align: right;\n",
       "    }\n",
       "</style>\n",
       "<table border=\"1\" class=\"dataframe\">\n",
       "  <thead>\n",
       "    <tr style=\"text-align: right;\">\n",
       "      <th></th>\n",
       "      <th>id</th>\n",
       "      <th>jurisdiction</th>\n",
       "      <th>source</th>\n",
       "      <th>title</th>\n",
       "      <th>group</th>\n",
       "      <th>url</th>\n",
       "      <th>filename</th>\n",
       "      <th>downloaded</th>\n",
       "      <th>pages</th>\n",
       "      <th>fields</th>\n",
       "      <th>fields_conf</th>\n",
       "      <th>fields_old</th>\n",
       "      <th>f_per_p</th>\n",
       "      <th>reading</th>\n",
       "      <th>list</th>\n",
       "    </tr>\n",
       "  </thead>\n",
       "  <tbody>\n",
       "    <tr>\n",
       "      <th>0</th>\n",
       "      <td>04b3a0734774c02edf8eb9056d23954aa38e96c77c3392...</td>\n",
       "      <td>UT</td>\n",
       "      <td>www.utcourts.gov</td>\n",
       "      <td>Community Service Worksheet Third District Juv...</td>\n",
       "      <td>3rd District Juvenile Court: Forms and Pamphlets</td>\n",
       "      <td>https://www.utcourts.gov/courts/juv/juvsites/3...</td>\n",
       "      <td>COMMUNITY%20SERVICE%20WORKSHEET-FRONT%20AND%20...</td>\n",
       "      <td>2021-11-11</td>\n",
       "      <td>2.0</td>\n",
       "      <td>['name__1', 'name__2', '*docket_number', '*use...</td>\n",
       "      <td>[0.61, 0.65, 1.0, 1.0, 1.0, 0.61, 0.53, 0.57, ...</td>\n",
       "      <td>['NAME 1', 'NAME 2', 'CASE NUMBER', 'ADDRESS',...</td>\n",
       "      <td>7.500000</td>\n",
       "      <td>NaN</td>\n",
       "      <td>[]</td>\n",
       "    </tr>\n",
       "    <tr>\n",
       "      <th>1</th>\n",
       "      <td>6e420f1b3575cfd8ef94b71977da9e38252e3395a78439...</td>\n",
       "      <td>UT</td>\n",
       "      <td>www.utcourts.gov</td>\n",
       "      <td>Third District Juvenile Court Work Program Ref...</td>\n",
       "      <td>3rd District Juvenile Court: Forms and Pamphlets</td>\n",
       "      <td>https://www.utcourts.gov/courts/juv/juvsites/3...</td>\n",
       "      <td>Work_Crew_Application-2007.pdf</td>\n",
       "      <td>2021-11-11</td>\n",
       "      <td>2.0</td>\n",
       "      <td>['*docket_number', '*users1_birthdate', 'male'...</td>\n",
       "      <td>[1.0, 1.0, 0.7, 0.61, 1.0, 1.0, 1.0, 1.0, 0.71...</td>\n",
       "      <td>['Court Case', 'Date of Birth', 'Male', 'Juven...</td>\n",
       "      <td>19.000000</td>\n",
       "      <td>NaN</td>\n",
       "      <td>[]</td>\n",
       "    </tr>\n",
       "    <tr>\n",
       "      <th>2</th>\n",
       "      <td>2532cd2b6d3aaff8c47726a0abd168fb4e5cdb4977c065...</td>\n",
       "      <td>UT</td>\n",
       "      <td>www.utcourts.gov</td>\n",
       "      <td>Utah State District Juvenile Court Probation O...</td>\n",
       "      <td>3rd District Juvenile Court: Forms and Pamphlets</td>\n",
       "      <td>https://www.utcourts.gov/courts/juv/juvsites/3...</td>\n",
       "      <td>Probation%20Order%20revised.050502.pdf</td>\n",
       "      <td>2021-11-11</td>\n",
       "      <td>5.0</td>\n",
       "      <td>['probation_department_court', 'special_condit...</td>\n",
       "      <td>[0.73, 0.65, 0.7, 0.54, 0.68, 0.67, 0.62, 0.59...</td>\n",
       "      <td>['of the probation department or by order of t...</td>\n",
       "      <td>4.800000</td>\n",
       "      <td>20.5</td>\n",
       "      <td>[]</td>\n",
       "    </tr>\n",
       "    <tr>\n",
       "      <th>3</th>\n",
       "      <td>f6a6814890f21c11524d5785d772272916ff95909b7dba...</td>\n",
       "      <td>UT</td>\n",
       "      <td>www.utcourts.gov</td>\n",
       "      <td>Adoptee's Consent to Adoption and Waiver of Ri...</td>\n",
       "      <td>Adopting a Minor Stepchild</td>\n",
       "      <td>https://www.utcourts.gov/howto/family/adoption...</td>\n",
       "      <td>02_Consent_Adoptee.pdf</td>\n",
       "      <td>2021-11-11</td>\n",
       "      <td>3.0</td>\n",
       "      <td>['*users1_name', '*users1_address_line_one', '...</td>\n",
       "      <td>[1.0, 1.0, 1.0, 1.0, 0.61, 0.7, 0.67, 1.0, 0.6...</td>\n",
       "      <td>['Name', 'Address', 'City State Zip', 'Phone',...</td>\n",
       "      <td>14.666667</td>\n",
       "      <td>12.5</td>\n",
       "      <td>[]</td>\n",
       "    </tr>\n",
       "    <tr>\n",
       "      <th>4</th>\n",
       "      <td>be656a9a361db7c3532026b0bae372e704beb160fce37e...</td>\n",
       "      <td>UT</td>\n",
       "      <td>www.utcourts.gov</td>\n",
       "      <td>Adoption Agreement</td>\n",
       "      <td>Adopting a Minor Stepchild</td>\n",
       "      <td>https://www.utcourts.gov/howto/family/adoption...</td>\n",
       "      <td>08_Agreement.pdf</td>\n",
       "      <td>2021-11-11</td>\n",
       "      <td>1.0</td>\n",
       "      <td>['*users1_name', '*users1_address_line_one', '...</td>\n",
       "      <td>[1.0, 1.0, 1.0, 1.0, 0.61, 0.7, 0.67, 1.0, 0.6...</td>\n",
       "      <td>['Name', 'Address', 'City State Zip', 'Phone',...</td>\n",
       "      <td>19.000000</td>\n",
       "      <td>18.5</td>\n",
       "      <td>['GO-00-00-00-00']</td>\n",
       "    </tr>\n",
       "  </tbody>\n",
       "</table>\n",
       "</div>"
      ],
      "text/plain": [
       "                                                  id jurisdiction  \\\n",
       "0  04b3a0734774c02edf8eb9056d23954aa38e96c77c3392...           UT   \n",
       "1  6e420f1b3575cfd8ef94b71977da9e38252e3395a78439...           UT   \n",
       "2  2532cd2b6d3aaff8c47726a0abd168fb4e5cdb4977c065...           UT   \n",
       "3  f6a6814890f21c11524d5785d772272916ff95909b7dba...           UT   \n",
       "4  be656a9a361db7c3532026b0bae372e704beb160fce37e...           UT   \n",
       "\n",
       "             source                                              title  \\\n",
       "0  www.utcourts.gov  Community Service Worksheet Third District Juv...   \n",
       "1  www.utcourts.gov  Third District Juvenile Court Work Program Ref...   \n",
       "2  www.utcourts.gov  Utah State District Juvenile Court Probation O...   \n",
       "3  www.utcourts.gov  Adoptee's Consent to Adoption and Waiver of Ri...   \n",
       "4  www.utcourts.gov                                Adoption Agreement    \n",
       "\n",
       "                                              group  \\\n",
       "0  3rd District Juvenile Court: Forms and Pamphlets   \n",
       "1  3rd District Juvenile Court: Forms and Pamphlets   \n",
       "2  3rd District Juvenile Court: Forms and Pamphlets   \n",
       "3                        Adopting a Minor Stepchild   \n",
       "4                        Adopting a Minor Stepchild   \n",
       "\n",
       "                                                 url  \\\n",
       "0  https://www.utcourts.gov/courts/juv/juvsites/3...   \n",
       "1  https://www.utcourts.gov/courts/juv/juvsites/3...   \n",
       "2  https://www.utcourts.gov/courts/juv/juvsites/3...   \n",
       "3  https://www.utcourts.gov/howto/family/adoption...   \n",
       "4  https://www.utcourts.gov/howto/family/adoption...   \n",
       "\n",
       "                                            filename  downloaded  pages  \\\n",
       "0  COMMUNITY%20SERVICE%20WORKSHEET-FRONT%20AND%20...  2021-11-11    2.0   \n",
       "1                     Work_Crew_Application-2007.pdf  2021-11-11    2.0   \n",
       "2             Probation%20Order%20revised.050502.pdf  2021-11-11    5.0   \n",
       "3                             02_Consent_Adoptee.pdf  2021-11-11    3.0   \n",
       "4                                   08_Agreement.pdf  2021-11-11    1.0   \n",
       "\n",
       "                                              fields  \\\n",
       "0  ['name__1', 'name__2', '*docket_number', '*use...   \n",
       "1  ['*docket_number', '*users1_birthdate', 'male'...   \n",
       "2  ['probation_department_court', 'special_condit...   \n",
       "3  ['*users1_name', '*users1_address_line_one', '...   \n",
       "4  ['*users1_name', '*users1_address_line_one', '...   \n",
       "\n",
       "                                         fields_conf  \\\n",
       "0  [0.61, 0.65, 1.0, 1.0, 1.0, 0.61, 0.53, 0.57, ...   \n",
       "1  [1.0, 1.0, 0.7, 0.61, 1.0, 1.0, 1.0, 1.0, 0.71...   \n",
       "2  [0.73, 0.65, 0.7, 0.54, 0.68, 0.67, 0.62, 0.59...   \n",
       "3  [1.0, 1.0, 1.0, 1.0, 0.61, 0.7, 0.67, 1.0, 0.6...   \n",
       "4  [1.0, 1.0, 1.0, 1.0, 0.61, 0.7, 0.67, 1.0, 0.6...   \n",
       "\n",
       "                                          fields_old    f_per_p  reading  \\\n",
       "0  ['NAME 1', 'NAME 2', 'CASE NUMBER', 'ADDRESS',...   7.500000      NaN   \n",
       "1  ['Court Case', 'Date of Birth', 'Male', 'Juven...  19.000000      NaN   \n",
       "2  ['of the probation department or by order of t...   4.800000     20.5   \n",
       "3  ['Name', 'Address', 'City State Zip', 'Phone',...  14.666667     12.5   \n",
       "4  ['Name', 'Address', 'City State Zip', 'Phone',...  19.000000     18.5   \n",
       "\n",
       "                 list  \n",
       "0                  []  \n",
       "1                  []  \n",
       "2                  []  \n",
       "3                  []  \n",
       "4  ['GO-00-00-00-00']  "
      ]
     },
     "metadata": {},
     "output_type": "display_data"
    },
    {
     "name": "stdout",
     "output_type": "stream",
     "text": [
      "3087788\n"
     ]
    },
    {
     "data": {
      "text/html": [
       "<div>\n",
       "<style scoped>\n",
       "    .dataframe tbody tr th:only-of-type {\n",
       "        vertical-align: middle;\n",
       "    }\n",
       "\n",
       "    .dataframe tbody tr th {\n",
       "        vertical-align: top;\n",
       "    }\n",
       "\n",
       "    .dataframe thead th {\n",
       "        text-align: right;\n",
       "    }\n",
       "</style>\n",
       "<table border=\"1\" class=\"dataframe\">\n",
       "  <thead>\n",
       "    <tr style=\"text-align: right;\">\n",
       "      <th></th>\n",
       "      <th>id_1</th>\n",
       "      <th>id_2</th>\n",
       "      <th>title_2</th>\n",
       "      <th>similarity</th>\n",
       "    </tr>\n",
       "  </thead>\n",
       "  <tbody>\n",
       "    <tr>\n",
       "      <th>0</th>\n",
       "      <td>e12318ce9037e92ee8e48963f550e1a3229a17a2437b9e...</td>\n",
       "      <td>eb4e35c3b9f355d63ad14ae71866d44b14e61196763553...</td>\n",
       "      <td>Answer to Complaint to Recover Possession of P...</td>\n",
       "      <td>0.979167</td>\n",
       "    </tr>\n",
       "    <tr>\n",
       "      <th>1</th>\n",
       "      <td>e12318ce9037e92ee8e48963f550e1a3229a17a2437b9e...</td>\n",
       "      <td>74723a905136a3e30a9eec9aa9191f5d3e4b800ae319df...</td>\n",
       "      <td>Answer, Damage/Health Hazard to Property, Land...</td>\n",
       "      <td>0.937500</td>\n",
       "    </tr>\n",
       "    <tr>\n",
       "      <th>2</th>\n",
       "      <td>e12318ce9037e92ee8e48963f550e1a3229a17a2437b9e...</td>\n",
       "      <td>ee10d4fd30c1faf309bd7b1a91da0794ec8862ee91c355...</td>\n",
       "      <td>Answer, Damage/Health Hazard to Property, Land...</td>\n",
       "      <td>0.918367</td>\n",
       "    </tr>\n",
       "    <tr>\n",
       "      <th>3</th>\n",
       "      <td>e12318ce9037e92ee8e48963f550e1a3229a17a2437b9e...</td>\n",
       "      <td>5345e31f71a6ac7dc730e96039d35c9fc5d2cda658332e...</td>\n",
       "      <td>Answer, Nonpayment of Rent, Landlord-Tenant</td>\n",
       "      <td>0.918367</td>\n",
       "    </tr>\n",
       "    <tr>\n",
       "      <th>4</th>\n",
       "      <td>e12318ce9037e92ee8e48963f550e1a3229a17a2437b9e...</td>\n",
       "      <td>98d5e7eedefb48b57a67dcbf928893c8032c1dec85e867...</td>\n",
       "      <td>Answer, Nonpayment of Rent, Landlord-Tenant</td>\n",
       "      <td>0.937500</td>\n",
       "    </tr>\n",
       "  </tbody>\n",
       "</table>\n",
       "</div>"
      ],
      "text/plain": [
       "                                                id_1  \\\n",
       "0  e12318ce9037e92ee8e48963f550e1a3229a17a2437b9e...   \n",
       "1  e12318ce9037e92ee8e48963f550e1a3229a17a2437b9e...   \n",
       "2  e12318ce9037e92ee8e48963f550e1a3229a17a2437b9e...   \n",
       "3  e12318ce9037e92ee8e48963f550e1a3229a17a2437b9e...   \n",
       "4  e12318ce9037e92ee8e48963f550e1a3229a17a2437b9e...   \n",
       "\n",
       "                                                id_2  \\\n",
       "0  eb4e35c3b9f355d63ad14ae71866d44b14e61196763553...   \n",
       "1  74723a905136a3e30a9eec9aa9191f5d3e4b800ae319df...   \n",
       "2  ee10d4fd30c1faf309bd7b1a91da0794ec8862ee91c355...   \n",
       "3  5345e31f71a6ac7dc730e96039d35c9fc5d2cda658332e...   \n",
       "4  98d5e7eedefb48b57a67dcbf928893c8032c1dec85e867...   \n",
       "\n",
       "                                             title_2  similarity  \n",
       "0  Answer to Complaint to Recover Possession of P...    0.979167  \n",
       "1  Answer, Damage/Health Hazard to Property, Land...    0.937500  \n",
       "2  Answer, Damage/Health Hazard to Property, Land...    0.918367  \n",
       "3        Answer, Nonpayment of Rent, Landlord-Tenant    0.918367  \n",
       "4        Answer, Nonpayment of Rent, Landlord-Tenant    0.937500  "
      ]
     },
     "execution_count": 153,
     "metadata": {},
     "output_type": "execute_result"
    }
   ],
   "source": [
    "included_fields = load('../data/processed/ML/norm_fields/included_fields.joblib') \n",
    "\n",
    "files_df = pd.read_csv(\"../data/processed/form_data.csv\")\n",
    "\n",
    "print(len(files_df))\n",
    "display(files_df.head())\n",
    "\n",
    "files_sim_df = pd.read_csv(\"../data/processed/form_sim_data.csv\")\n",
    "\n",
    "print(len(files_sim_df))\n",
    "files_sim_df.head()"
   ]
  },
  {
   "cell_type": "code",
   "execution_count": 154,
   "metadata": {},
   "outputs": [],
   "source": [
    "csv_df = files_df.copy()\n",
    "csv_df[\"new_url\"] = \"https://courtformsonline.org/forms/e12318ce9037e92ee8e48963f550e1a3229a17a2437b9ebc3f29c30b.pdf\"+csv_df[\"id\"]+\".pdf\"\n",
    "csv_df = csv_df.rename(columns={\"reading\":\"reading_level\",\"fields\": \"standardized_fields\",\"url\":\"original_url\",\"fields_old\":\"original_fields\",\"downloaded\":\"downloaded_on\"})\n",
    "for state in csv_df[\"jurisdiction\"].unique():\n",
    "    tmp_df = csv_df[csv_df[\"jurisdiction\"]==state][[\"title\",\"group\",\"pages\",\"reading_level\",\"downloaded_on\",\"original_url\",\"original_fields\",\"new_url\",\"standardized_fields\",\"jurisdiction\"]]\n",
    "    #display(tmp_df)\n",
    "    tmp_df.to_csv(\"docs/data/%s_form_data.csv\"%(state), index=False, encoding=\"utf-8\")    \n",
    "\n",
    "tmp_df = csv_df[[\"title\",\"group\",\"pages\",\"reading_level\",\"downloaded_on\",\"original_url\",\"original_fields\",\"new_url\",\"standardized_fields\",\"jurisdiction\"]]\n",
    "tmp_df.to_csv(\"docs/data/form_data.csv\", index=False, encoding=\"utf-8\")        "
   ]
  },
  {
   "cell_type": "code",
   "execution_count": 16,
   "metadata": {},
   "outputs": [],
   "source": [
    "def clean_n(n):\n",
    "    if pd.notnull(n):\n",
    "        return int(n)\n",
    "    else:\n",
    "        return 0"
   ]
  },
  {
   "cell_type": "code",
   "execution_count": 17,
   "metadata": {},
   "outputs": [],
   "source": [
    "def header(title,description,path=\"./\",wide=0):\n",
    "    \n",
    "    if wide==1:\n",
    "        pclass = \"content_wide\"\n",
    "    else:\n",
    "        pclass = \"content\"\n",
    "    \n",
    "    html = \"\"\"<!DOCTYPE html PUBLIC \"-//W3C//DTD XHTML 1.0 Transitional//EN\" \"http://www.w3.org/TR/xhtml1/DTD/xhtml1-transitional.dtd\">\n",
    "<HTML xmlns=\"http://www.w3.org/1999/xhtml\"\n",
    "      xmlns:og=\"http://ogp.me/ns#\"\n",
    "      xmlns:fb=\"http://www.facebook.com/2008/fbml\">\n",
    "<HEAD>\n",
    "    <title>%s</title>\n",
    "    <!-- Global site tag (gtag.js) - Google Analytics -->\n",
    "    <script async src=\"https://www.googletagmanager.com/gtag/js?id=UA-108858221-1\"></script>\n",
    "    <script>\n",
    "      window.dataLayer = window.dataLayer || [];\n",
    "      function gtag(){dataLayer.push(arguments);}\n",
    "      gtag('js', new Date());\n",
    "\n",
    "      gtag('config', 'UA-108858221-1');\n",
    "    </script>\n",
    "    <meta http-equiv=\"Content-type\" content=\"text/html;charset=UTF-8\"/>\n",
    "    <meta name=\"viewport\" content=\"width=device-width, initial-scale=1.0, maximum-scale=1.0, user-scalable=0\" />\n",
    "    <meta name=\"apple-mobile-web-app-capable\" content=\"no\" />\n",
    "    <link rel=\"apple-touch-icon\" href=\"%simages/icon_300.png\"/>\n",
    "    <meta property=\"og:type\" content=\"website\"/>\n",
    "    <meta property=\"og:title\" content=\"%s\"/>\n",
    "    <meta property=\"og:description\" content=\"%s\"/>\n",
    "    <meta property=\"og:image\" content=\"%simages/thefuture.png\"/>\n",
    "\n",
    "    <meta name=\"twitter:card\" content=\"summary_large_image\">\n",
    "    <meta name=\"twitter:site\" content=\"@SuffolkLITLab\">\n",
    "    <meta name=\"twitter:creator\" content=\"@SuffolkLITLab\">\n",
    "    <meta name=\"twitter:title\" content=\"%s\">\n",
    "    <meta name=\"twitter:description\" content=\"%s\">\n",
    "    <meta name=\"twitter:image\" content=\"http://www.davidcolarusso.com/images/thefuture.png\"/>\n",
    "\n",
    "    <meta http-equiv=\"X-UA-Compatible\" content=\"IE=edge\" />\n",
    "    <link rel=\"shortcut icon\" type=\"image/x-icon\" href=\"/favicon.ico\">\n",
    "    <link rel=\"apple-touch-icon\" href=\"%simages/icon.png\"/>\n",
    "    <link rel=\"stylesheet\" href=\"https://code.jquery.com/ui/1.11.1/themes/smoothness/jquery-ui.css\">\n",
    "    <link rel=\"stylesheet\" type=\"text/css\" href=\"%scss/style.css?v=%s\">\n",
    "    <script src=\"https://code.jquery.com/jquery-1.11.1.min.js\"></script>\n",
    "    <script src=\"https://code.jquery.com/jquery-1.10.2.js\"></script>\n",
    "    <script src=\"https://code.jquery.com/ui/1.11.1/jquery-ui.js\"></script>\n",
    "\n",
    "</HEAD>\n",
    "<BODY BGCOLOR=\"#ffffff\" BACKGROUND=\"\" MARGINWIDTH=\"0\" MARGINHEIGHT=\"0\">\n",
    "<div style=\"box-sizing: border-box;width:100%%;background:#d6392b;color:white;padding:15px;text-align:center;\">\n",
    "<b>This tool is in alpha</b>, and this page is just for testing purposes. <b>DO NOT RELY ON THE CONTENT FOUND HERE!</b></div>\n",
    "<div class=\"%s\">\n",
    "\n",
    "    <div id=\"icon\" style=\"background-size: 100px 100px;background-image: url('%simages/seal.jpg');\"><a href=\"%s\" alt=\"home\"><img src=\"%simages/space.gif\" width=\"100px\" height=\"100px;\" border=\"0\" alt=\"LIT Logo\"/></a></div>\n",
    "    <h1 style=\"text-align:center;\">\n",
    "        The Legal Innovation & Technology Lab's Form Explorer <sup><font size=+1>Alpha</font></sup>\n",
    "        <center style=\"margin-top:5px;\">\n",
    "          <span class=\"subtitle\">@ Suffolk Law School&nbsp;<font style=\"font-weight:normal\">Last updated %s</font></span>\n",
    "        </center>\n",
    "    </h1>\n",
    "\"\"\"%(title,path,title,description,path,title,description,path,path,today,pclass,path,path,path,today)\n",
    "    return html\n",
    "    \n",
    "def footer(path=\"./\"):\n",
    "    html = \"\"\"\n",
    "\n",
    "<div class=\"footer\">\n",
    "    <a href=\"/\" alt=\"home\"><img src=\"%simages/blue_logo.png\" width=\"50px\" align=\"left\" border=\"0\" alt=\"LIT Logo\"/></a>\n",
    "<font size=-1><a href=\"mailto:litlab@suffolk.edu\">Email</a> | <a href=\"https://github.com/SuffolkLITLab\" target=\"_blank\">GitHub</a> | <a href=\"/terms\">Terms &amp; Privacy</a> | <a href=\"/credits\">Credits</a></font>\n",
    "</div>\n",
    "\n",
    "</BODY>\n",
    "</HTML>\n",
    "\"\"\"%(path)\n",
    "    \n",
    "    return html"
   ]
  },
  {
   "cell_type": "markdown",
   "metadata": {},
   "source": [
    "# Home page"
   ]
  },
  {
   "cell_type": "code",
   "execution_count": 18,
   "metadata": {},
   "outputs": [],
   "source": [
    "def home():\n",
    "    html = \"\"\"\n",
    "    <div class=\"menu_bar\">\n",
    "        <p style=\"text-align:center;\">\n",
    "      <a href=\"https://suffolklitlab.org/\" class=\"menu\">&nbsp;LIT Lab Home&nbsp;</a>&nbsp;<font style=\"color:#888;\">|</font>&nbsp;\n",
    "      <a href=\".\" class=\"menu\" style=\"color:black;\">&nbsp;About&nbsp;The&nbsp;Explorer&nbsp;</a>&nbsp;<font style=\"color:#888;\">|</font>&nbsp;\n",
    "      &nbsp;&nbsp;<span style=\"font-family: sans-serif;font-size: 12px;text-transform: uppercase;\">Explore:</span>&nbsp;&nbsp;\n",
    "      <a href=\"list/\" class=\"menu\">&nbsp;Lists&nbsp;</a>\n",
    "      <a href=\"sim/\" class=\"menu\">&nbsp;Similar Forms&nbsp;</a>\n",
    "      <a href=\"flow/\" class=\"menu\">&nbsp;Flows&nbsp;</a>\n",
    "      \n",
    "        </p>\n",
    "    </div>\n",
    "\n",
    "  <div class=\"content\"><h2><a name=\"title\" href=\"#title\" class=\"anchor\"></a>What is the Form Explorer?</h2>\n",
    "\n",
    "    <div style=\"float:left;width:100%\">\n",
    "      <div class=\"r_img_embed\" style=\"max-width:500px;\">\n",
    "        <img src=\"images//bigdata.png\" alt=\"Image of the character Data as a giant standing next to the Supreme Court\" width=\"100%\"/>\n",
    "        <div class=\"caption\">Big Data &amp; the Law, h/t <a href=\"https://flic.kr/p/7YZubW\" target=\"_blank\">Tim Sackton</a> &amp; <a href=\"https://medium.com/@wtrsld/big-data-made-me-do-it-5bfc3f46871c\" target=\"_blank\">Josh Lee</a></div>\n",
    "      </div>\n",
    "      <p>\n",
    "        Lorem ipsum dolor sit amet, consectetur adipiscing elit. Nullam non erat quis augue mollis convallis. Aliquam eu varius massa. Nam convallis lacinia magna, eget aliquet orci congue at. Interdum et malesuada fames ac ante ipsum primis in faucibus. Curabitur eu nisl eu libero porttitor convallis quis ut est. Duis porttitor turpis erat, ut viverra metus fringilla sit amet. Vestibulum tincidunt nibh id libero euismod, sed congue diam lobortis. Vestibulum maximus posuere odio, eget placerat nunc efficitur quis. Proin ut odio sem. Phasellus interdum massa sed sodales eleifend. Cras condimentum, risus et volutpat tincidunt, elit justo vulputate lacus, eget hendrerit purus turpis in nisl. Fusce placerat ex ac hendrerit condimentum. Pellentesque eget auctor leo.\n",
    "      </p><p>\n",
    "        Vivamus porttitor posuere sodales. Maecenas id pharetra diam. Nam quis erat quis enim placerat congue et non dui. Donec tempor vehicula ante eget tempor. Pellentesque habitant morbi tristique senectus et netus et malesuada fames ac turpis egestas. Sed vitae orci neque. Maecenas ultricies dignissim neque quis consectetur. In sit amet luctus erat. Pellentesque ultrices sed dui nec feugiat. In nunc ante, bibendum non molestie imperdiet, molestie vel massa. Vestibulum a dictum orci, fringilla rutrum quam. Cras pellentesque congue porttitor. Ut neque felis, tincidunt euismod porttitor sed, feugiat et ligula. Duis vehicula eleifend elit sit amet tempus. Vestibulum condimentum libero vitae justo accumsan, vel sodales erat mattis.\n",
    "      </p><p>\n",
    "        Nam nec turpis elementum, tempus massa eget, dictum dui. Donec rutrum nisi pretium faucibus vestibulum. Mauris in ultrices arcu. Nulla vel sem a velit pretium consequat sed vitae felis. Nunc velit tortor, varius at accumsan id, maximus at velit. In cursus metus a purus condimentum convallis. Donec ullamcorper leo eget massa iaculis vehicula. Fusce bibendum aliquam arcu semper laoreet. Quisque consectetur finibus purus sed faucibus. Sed purus ligula, malesuada et diam quis, tincidunt suscipit enim. Curabitur eget quam a tellus suscipit sollicitudin nec ut arcu. Donec bibendum urna a dapibus porttitor. Aliquam in iaculis orci. Etiam condimentum auctor elit eget aliquam. Nulla facilisi. Proin at vestibulum nunc.\n",
    "      </p>\n",
    "      <p>\n",
    "      We have downloaded and parsed X forms from Y jurisdictions. Use the menu above to explore or download summary data here: <a href=\"data/form_data.csv\" target=\"_blank\">form_data.csv</a>\n",
    "      </p>\n",
    "    </div>\n",
    "\"\"\"   \n",
    "    return html"
   ]
  },
  {
   "cell_type": "code",
   "execution_count": 19,
   "metadata": {},
   "outputs": [],
   "source": [
    "html = header(\"Form Explorer\",\"description goes here\")+home()+footer()\n",
    "text_file = open(\"docs/index.html\", \"w\")\n",
    "text_file.write(html)\n",
    "text_file.close()"
   ]
  },
  {
   "cell_type": "markdown",
   "metadata": {},
   "source": [
    "# redirects"
   ]
  },
  {
   "cell_type": "code",
   "execution_count": 20,
   "metadata": {},
   "outputs": [],
   "source": [
    "def redirects(jur):\n",
    "    html = \"\"\"<html>\n",
    "<head>\n",
    "<META http-equiv=\"CACHE-CONTROL\" CONTENT=\"NO-CACHE\">\n",
    "<meta http-equiv=\"refresh\" content=\"0; url=%s\" />\n",
    "</head>\n",
    "</html>\n",
    "\"\"\"%jur\n",
    "    return html"
   ]
  },
  {
   "cell_type": "code",
   "execution_count": 21,
   "metadata": {},
   "outputs": [],
   "source": [
    "html = redirects(default_jur)\n",
    "\n",
    "text_file = open(\"docs/sim/index.html\", \"w\")\n",
    "text_file.write(html)\n",
    "text_file.close()\n",
    "\n",
    "text_file = open(\"docs/flow/index.html\", \"w\")\n",
    "text_file.write(html)\n",
    "text_file.close()\n",
    "\n",
    "text_file = open(\"docs/list/index.html\", \"w\")\n",
    "text_file.write(html)\n",
    "text_file.close()"
   ]
  },
  {
   "cell_type": "markdown",
   "metadata": {},
   "source": [
    "# Similarity Viewer"
   ]
  },
  {
   "cell_type": "code",
   "execution_count": 22,
   "metadata": {},
   "outputs": [],
   "source": [
    "def simview(jur,path=\"./\"):\n",
    "    html = \"\"\"\n",
    "    <div class=\"menu_bar\">\n",
    "        <p style=\"text-align:center;\">\n",
    "      <a href=\"https://suffolklitlab.org/\" class=\"menu\">&nbsp;LIT Lab Home&nbsp;</a>&nbsp;<font style=\"color:#888;\">|</font>&nbsp;\n",
    "      <a href=\"../../\" class=\"menu\">&nbsp;About&nbsp;The&nbsp;Explorer&nbsp;</a>&nbsp;<font style=\"color:#888;\">|</font>&nbsp;\n",
    "      &nbsp;&nbsp;<span style=\"font-family: sans-serif;font-size: 12px;text-transform: uppercase;\">Explore:</span>&nbsp;&nbsp; <select style=\"width:100px;\" onChange=\"window.location.href='../'+this.value\">\"\"\"\n",
    "    \n",
    "    for item in jurs: \n",
    "        if item[0]==jur[0]:\n",
    "            selected = \"SELECTED\"\n",
    "        else:\n",
    "            selected = \"\"\n",
    "        html += \"<option value=\\\"%s\\\" %s>%s</option>\"%(item[0],selected,item[1])\n",
    "        \n",
    "    html += \"\"\"\n",
    "      </select>&nbsp;&nbsp;\n",
    "      <a href=\"../../list/%s\" class=\"menu\">&nbsp;Lists&nbsp;</a>\n",
    "      <a href=\"../../sim/%s\" class=\"menu\" style=\"color:black;\">&nbsp;Similar Forms&nbsp;</a>\n",
    "      <a href=\"../../flow/%s\" class=\"menu\">&nbsp;Flows&nbsp;</a>\n",
    "      \n",
    "        </p>\n",
    "    </div>\n",
    "\n",
    "    <div class=\"content_wide\"><h2><a name=\"title\" href=\"#title\" class=\"anchor\"></a>Similar Forms View (%s Court Forms)</h2>\n",
    "        <p>\n",
    "          Below you can explore the connections between forms. Each form is represented by a circle.  \n",
    "          The lines between each circle represent shared data fields.\n",
    "        </p>\n",
    "        Choose a grouping to explore: \n",
    "        <select id=\"graphselect\" onChange=\"$('#graph').attr('src', 'graphs/'+this.value+'.html');$('#grouplink').attr('href', '../../list/%s/#'+$('#graphselect').val());\">\n",
    "        \"\"\"%(jur[0],jur[0],jur[0],jur[1],jur[0])\n",
    "    \n",
    "    k = 0\n",
    "    for topic in files_df[files_df[\"jurisdiction\"]==jur[0]][\"group\"].unique():\n",
    "        html+=\"<option value='%s'\"%(removeSpecial(topic))\n",
    "        if k==0:\n",
    "            html+=\" SELECTED\"\n",
    "        html+=\">%s</option>\"%(topic)\n",
    "        k+=1\n",
    "    \n",
    "    html+=\"\"\"</select>\n",
    "        &nbsp;&nbsp;<a href=\"../../list/%s/#%s\" id=\"grouplink\">visit froms in this group</span>\n",
    "        <!--\n",
    "            Possible library for viewer:\n",
    "            https://www.sigmajs.org/\n",
    "        <iframe src=\"https://www.sigmajs.org/demo/index.html\" width=\"100%%\" height=\"700px;\"></iframe>\n",
    "        -->\n",
    "        <iframe id=\"graph\" src=\"graphs/%s.html\" width=\"100%%\" height=\"635px;\" frameBorder=\"0\" onLoad=\"$('#grouplink').attr('href', '../../list/%s/#'+$('#graphselect').val());\"></iframe>\n",
    "\n",
    "    </div>\n",
    "\"\"\"%(jur[0],removeSpecial(files_df[files_df[\"jurisdiction\"]==jur[0]][\"group\"].unique()[0]),removeSpecial(files_df[files_df[\"jurisdiction\"]==jur[0]][\"group\"].unique()[0]),jur[0])\n",
    "    return html"
   ]
  },
  {
   "cell_type": "code",
   "execution_count": 23,
   "metadata": {},
   "outputs": [
    {
     "name": "stdout",
     "output_type": "stream",
     "text": [
      "['CA', 'California']\n",
      "['ME', 'Maine']\n",
      "['MI', 'Michigan']\n",
      "['UT', 'Utah']\n"
     ]
    }
   ],
   "source": [
    "for jur in jurs:    \n",
    "    print(jur)\n",
    "    path = \"../../\"\n",
    "    \n",
    "    if not os.path.exists(\"docs/sim/%s\"%(jur[0])):\n",
    "        os.makedirs(\"docs/sim/%s\"%(jur[0]))\n",
    "    #else:\n",
    "    #    shutil.rmtree(\"docs/sim/%s\"%(jur[0]))\n",
    "    #    os.makedirs(\"docs/sim/%s\"%(jur[0]))\n",
    "        \n",
    "    html = header(\"Form Explorer\",\"description goes here\",path,wide=1)+simview(jur,path)+footer(path)\n",
    "    text_file = open(\"docs/sim/%s/index.html\"%jur[0], \"w\")\n",
    "    text_file.write(html)\n",
    "    text_file.close()"
   ]
  },
  {
   "cell_type": "markdown",
   "metadata": {},
   "source": [
    "# Flow View"
   ]
  },
  {
   "cell_type": "code",
   "execution_count": 24,
   "metadata": {},
   "outputs": [],
   "source": [
    "def flowview(jur,path=\"./\"):\n",
    "    html = \"\"\"\n",
    "    <div class=\"menu_bar\">\n",
    "        <p style=\"text-align:center;\">\n",
    "      <a href=\"https://suffolklitlab.org/\" class=\"menu\">&nbsp;LIT Lab Home&nbsp;</a>&nbsp;<font style=\"color:#888;\">|</font>&nbsp;\n",
    "      <a href=\"../../\" class=\"menu\">&nbsp;About&nbsp;The&nbsp;Explorer&nbsp;</a>&nbsp;<font style=\"color:#888;\">|</font>&nbsp;\n",
    "      &nbsp;&nbsp;<span style=\"font-family: sans-serif;font-size: 12px;text-transform: uppercase;\">Explore:</span>&nbsp;&nbsp; <select style=\"width:100px;\" onChange=\"window.location.href='../'+this.value\">\"\"\"\n",
    "    \n",
    "    for item in jurs: \n",
    "        if item[0]==jur[0]:\n",
    "            selected = \"SELECTED\"\n",
    "        else:\n",
    "            selected = \"\"\n",
    "        html += \"<option value=\\\"%s\\\" %s>%s</option>\"%(item[0],selected,item[1])\n",
    "        \n",
    "    html += \"\"\"\n",
    "      </select>&nbsp;&nbsp;\n",
    "      <a href=\"../../list/%s\" class=\"menu\">&nbsp;Lists&nbsp;</a>\n",
    "      <a href=\"../../sim/%s\" class=\"menu\">&nbsp;Similar Forms&nbsp;</a>\n",
    "      <a href=\"../../flow/%s\" class=\"menu\" style=\"color:black;\">&nbsp;Flows&nbsp;</a>\n",
    "        </p>\n",
    "    </div>\n",
    "\n",
    "\n",
    "      <div class=\"content_wide\"><h2><a name=\"title\" href=\"#title\" class=\"anchor\"></a>User Flow (%s Court Forms)</h2>\n",
    "        <p style=\"background:#fcf19d\">\n",
    "        <i><b>Under Construction:</b> With historical form data we could provde insights on a users's flow through forms \n",
    "          (e.g., after using form X, 20%% of people used form Y). \n",
    "          If you work with the court and can help provide historic form data, <a href=\"mailto:litlab@suffolk.edu\">let us know</a>.\n",
    "      </i></p>\n",
    "        <div style=\"overflow-x: scroll;:hidden;overflow-y: hidden;\">\n",
    "          <img src=\"../../images/.jpg\" alt=\"\" width=\"1500px\"/>\n",
    "        </div>\n",
    "\n",
    "      </div>\n",
    "\"\"\"%(jur[0],jur[0],jur[0],jur[1])\n",
    "    return html"
   ]
  },
  {
   "cell_type": "code",
   "execution_count": 25,
   "metadata": {},
   "outputs": [
    {
     "name": "stdout",
     "output_type": "stream",
     "text": [
      "['CA', 'California']\n",
      "['ME', 'Maine']\n",
      "['MI', 'Michigan']\n",
      "['UT', 'Utah']\n"
     ]
    }
   ],
   "source": [
    "for jur in jurs:    \n",
    "    print(jur)\n",
    "    path = \"../../\"\n",
    "    \n",
    "    if not os.path.exists(\"docs/flow/%s\"%(jur[0])):\n",
    "        os.makedirs(\"docs/flow/%s\"%(jur[0]))\n",
    "    else:\n",
    "        shutil.rmtree(\"docs/flow/%s\"%(jur[0]))\n",
    "        os.makedirs(\"docs/flow/%s\"%(jur[0]))\n",
    "        \n",
    "    html = header(\"Form Explorer\",\"description goes here\",path,wide=1)+flowview(jur,path)+footer(path)\n",
    "    text_file = open(\"docs/flow/%s/index.html\"%jur[0], \"w\")\n",
    "    text_file.write(html)\n",
    "    text_file.close()"
   ]
  },
  {
   "cell_type": "markdown",
   "metadata": {},
   "source": [
    "# List VIew"
   ]
  },
  {
   "cell_type": "code",
   "execution_count": 200,
   "metadata": {},
   "outputs": [],
   "source": [
    "def listview(jur,path=\"./\"):\n",
    "    \n",
    "    pages = files_df[(files_df[\"jurisdiction\"]==jur[0])][\"pages\"].mean()\n",
    "    f_per_p = files_df[(files_df[\"jurisdiction\"]==jur[0])][\"f_per_p\"].mean()\n",
    "    fields = files_df[(files_df[\"jurisdiction\"]==jur[0])][\"f_per_p\"].mean()*files_df[(files_df[\"jurisdiction\"]==jur[0])][\"pages\"].mean()\n",
    "    reading = files_df[(files_df[\"jurisdiction\"]==jur[0])][\"reading\"].mean()\n",
    "    forms= len(files_df[(files_df[\"jurisdiction\"]==jur[0])])\n",
    "    \n",
    "    html = \"\"\"\n",
    "    <div class=\"menu_bar\">\n",
    "        <p style=\"text-align:center;\">\n",
    "      <a href=\"https://suffolklitlab.org/\" class=\"menu\">&nbsp;LIT Lab Home&nbsp;</a>&nbsp;<font style=\"color:#888;\">|</font>&nbsp;\n",
    "      <a href=\"../../\" class=\"menu\">&nbsp;About&nbsp;The&nbsp;Explorer&nbsp;</a>&nbsp;<font style=\"color:#888;\">|</font>&nbsp;\n",
    "      &nbsp;&nbsp;<span style=\"font-family: sans-serif;font-size: 12px;text-transform: uppercase;\">Explore:</span>&nbsp;&nbsp; <select style=\"width:100px;\" onChange=\"window.location.href='../'+this.value\">\"\"\"\n",
    "    \n",
    "    for item in jurs: \n",
    "        if item[0]==jur[0]:\n",
    "            selected = \"SELECTED\"\n",
    "        else:\n",
    "            selected = \"\"\n",
    "        html += \"<option value=\\\"%s\\\" %s>%s</option>\"%(item[0],selected,item[1])\n",
    "        \n",
    "    html += \"\"\"\n",
    "      </select>&nbsp;&nbsp;\n",
    "      <a href=\"../../list/%s\" class=\"menu\" style=\"color:black;\">&nbsp;Lists&nbsp;</a>\n",
    "      <a href=\"../../sim/%s\" class=\"menu\">&nbsp;Similar Forms&nbsp;</a>\n",
    "      <a href=\"../../flow/%s\" class=\"menu\">&nbsp;Flows&nbsp;</a>\n",
    "        </p>\n",
    "    </div>\n",
    "\"\"\"%(jur[0],jur[0],jur[0])\n",
    "    \n",
    "    html += \"\"\"\n",
    "    <div class=\"content\">\n",
    "    <div style=\"float:left;width:60%%;\">\n",
    "    <h2><a name=\"title\" href=\"#title\" class=\"anchor\"></a>List of %s Court Forms</h2>\n",
    "\n",
    "    <p>\n",
    "    Below you will find %s forms. The average form is %.0f pages long, with %.0f fields per page. The average form is written at a %.2f-grade reading level.\n",
    "    </p>\n",
    "    \n",
    "    <p>Download a .csv file including meta data on all %s forms, including source urls, field names, and reading levels: \n",
    "    <a href=\"../../data/%s_form_data.csv\" target=\"_blank\">%s_form_data.csv</a>\n",
    "    </p>\n",
    "    \n",
    "    Choose Ordering: \n",
    "    <select id=\"form_ordering\" onChange=\"sort_links()\">\n",
    "        <option value='court_grouping'>Court Groupings</option>\n",
    "        <option value='LIST_grouping'>LIST Groupings</option>\n",
    "        <option value='most_used'>Most Used</option>\n",
    "    </select>\n",
    "    <script>\n",
    "        function sort_links(){\n",
    "            if($('#form_ordering').val() == \"court_grouping\"){\n",
    "                $('#court_grouping').show()\n",
    "                $('#LIST_grouping').hide()\n",
    "                $('#most_used').hide()\n",
    "            } else if($('#form_ordering').val() == \"LIST_grouping\"){\n",
    "                $('#court_grouping').hide()\n",
    "                $('#LIST_grouping').show()\n",
    "                $('#most_used').hide()\n",
    "            } else if($('#form_ordering').val() == \"most_used\"){\n",
    "                $('#court_grouping').hide()\n",
    "                $('#LIST_grouping').hide()\n",
    "                $('#most_used').show()\n",
    "            }\n",
    "        }\n",
    "    \n",
    "    </script>\n",
    "    \n",
    "    <div id=\"court_grouping\" style=\"width:100;\">\n",
    "    \n",
    "    <p><i>Links are grouped by categories found on the court's website.</i></p>\n",
    "    \n",
    "    \"\"\"%(jur[1],forms,pages,fields,reading,forms,jur[0],jur[0])\n",
    "\n",
    "    for cat in files_df[files_df[\"jurisdiction\"]==jur[0]][\"group\"].unique():\n",
    "        html += \"\"\"\n",
    "        <h3><a name=\"%s\" href=\"#%s\" class=\"anchor\"></a>%s</h3>\n",
    "        <ul>\"\"\"%(removeSpecial(cat),removeSpecial(cat),cat)\n",
    "\n",
    "        for index,row in files_df[(files_df[\"jurisdiction\"]==jur[0]) & (files_df[\"group\"]==cat)].iterrows():\n",
    "            #print(row[1][0])\n",
    "            html += \"\"\"<li><a href=\"../../form/%s/%s.html\">%s</a></li>\"\"\"%(jur[0],row[\"id\"],row[\"title\"])\n",
    "            \n",
    "        html += \"</ul><p style=\\\"text-align:center\\\"><a href=\\\"#title\\\">go to top</a></p>\"\n",
    "        \n",
    "    html+=\"\"\"</div>\n",
    "    \n",
    "    <div id=\"LIST_grouping\" style=\"display:none;width:100;\">\n",
    "    \n",
    "    <p><i>Links are grouped by categories from the <a href=\"https://taxonomy.legal/\" target=\"_blank\" class=\"exlink\">Legal Issue Taxonomy (LIST)</a>. Note: the grouping below was done by machine. Consequently, it is incomplete.</i></p>\n",
    "    \"\"\"\n",
    "    \n",
    "    lookfor = [\n",
    "                [\"BE\",\"Public Benefits\"],\n",
    "                [\"WO\",\"Work and Emplyment Law\"],\n",
    "                [\"ES\",\"Estates, Wills, and Gaurdianships\"],\n",
    "                [\"CR\",\"Crime and Prisons\"],\n",
    "                [\"FA\",\"Family\"],\n",
    "                [\"TO\",\"Accidents and Torts\"],\n",
    "                [\"TR\",\"Trafic and Cars\"],\n",
    "                [\"HE\",\"Health\"],\n",
    "                [\"MO\",\"Money, Debt, and Consumer Issues\"],\n",
    "                [\"HO\",\"Housing\"],\n",
    "                [\"VE\",\"Veterans and Military\"],\n",
    "                [\"IM\",\"Immigration\"],\n",
    "                [\"DI\",\"Disaster Relief\"],\n",
    "                [\"RI\",\"Civil and Human Rights\"],\n",
    "                [\"EN\",\"Environmental Justice\"],\n",
    "                [\"NA\",\"Native American Issues and Tribal Law\"],\n",
    "                [\"ED\",\"Education\"],\n",
    "                [\"BU\",\"Small Business and IP\"],\n",
    "                [\"GO\",\"Government Services\"],\n",
    "                [\"CO\",\"Courts and Lawyers\"],\n",
    "              ]\n",
    "    \n",
    "    for item in lookfor:\n",
    "        list_group = files_df[(files_df[\"list\"].str.contains(item[0])) & (files_df[\"jurisdiction\"]==jur[0]) & (files_df[\"list\"]!=\"[]\")]\n",
    "        if len(list_group)>0:\n",
    "            html+=\"<h3>%s</h3><ul>\"%item[1]\n",
    "            for index,row in list_group.iterrows():\n",
    "                html += \"\"\"<li><a href=\"../../form/%s/%s.html\">%s</a></li>\"\"\"%(jur[0],row[\"id\"],row[\"title\"])\n",
    "            html+=\"</ul>\"\n",
    "        else:\n",
    "            html+=\"<h3>%s</h3><ul><li>No matches found</li></ul>\"%item[1]\n",
    "        \n",
    "    html+=\"\"\"\n",
    "    </div>\n",
    "    \n",
    "    <div id=\"most_used\" style=\"display:none;width:100;\">\n",
    "    \n",
    "    <p><i>Links are orderd by most used.</i></p>\n",
    "    \n",
    "    <p style=\"background:#fcf19d\">\n",
    "        <i>\n",
    "            <b>Under Construction:</b> With historical form data we could provde insights on how frequently forms are used.\n",
    "            If you work with the court and can help provide historic form data, <a href=\"mailto:litlab@suffolk.edu\">let us know</a>.\n",
    "        </i>\n",
    "    </p>\n",
    "    \n",
    "    </div>\n",
    "    </div>\n",
    "    \"\"\"\n",
    "    \n",
    "    html+=\"\"\"<div style=\"float:right;width:35%%;\">\n",
    "            <h2>Search %s Forms</h2>\n",
    "            <table cellpadding=\"0px\"><tr><td width=\"100%%\">\n",
    "            <input id=\"q\" style=\"width:100%%\">\n",
    "            </td><td width=\"1%%\">&nbsp;&nbsp;&nbsp;</td><td width=\"1%%\">\n",
    "            <input type=\"button\" value=\"Search\" onClick=\"open_search();\">\n",
    "            </td></tr></table>\n",
    "            <script>\n",
    "                sort_links();\n",
    "            \n",
    "                function open_search(){\n",
    "                    alert('Coming Soon!');\n",
    "                }\n",
    "                function open_search_(){\n",
    "                    window.open('https://www.google.com/search?q='+$('#q').val()+'+site:suffolklitlab.org/form-explorer/form/%s')\n",
    "                }\n",
    "                $(\"#q\").on('keyup', function (e) {\n",
    "                    if (e.key === 'Enter' || e.keyCode === 13) {\n",
    "                        open_search()\n",
    "                    }\n",
    "                });\n",
    "            </script>\n",
    "            <h2>Standard Field Names</h2>\n",
    "            <p>We maintain a bank of <a href=\"https://suffolklitlab.org/docassemble-AssemblyLine-documentation/docs/label_variables\">standard questions and field names</a>. A list of common fields is found below, click a field to see those forms using it.</p>\n",
    "            <ul>\n",
    "    \"\"\"%(jur[1],jur[0])\n",
    "        \n",
    "    for field in included_fields:\n",
    "        print(\"\\t\"+field)\n",
    "        html += \"\"\"<li><a href=\"fields/%s.html\">%s</a></li>\"\"\"%(field,field)\n",
    "        \n",
    "    html+=\"</ul></div>\"\n",
    "\n",
    "    return html"
   ]
  },
  {
   "cell_type": "code",
   "execution_count": 201,
   "metadata": {},
   "outputs": [
    {
     "name": "stdout",
     "output_type": "stream",
     "text": [
      "['CA', 'California']\n",
      "\tusers1_name\n",
      "\tusers1_birthdate\n",
      "\tusers1_address_line_one\n",
      "\tusers1_address_line_two\n",
      "\tusers1_address_city\n",
      "\tusers1_address_state\n",
      "\tusers1_address_zip\n",
      "\tusers1_phone_number\n",
      "\tusers1_email\n",
      "\tplantiffs1_name\n",
      "\tdefendants1_name\n",
      "\tpetitioners1_name\n",
      "\trespondents1_name\n",
      "\tdocket_number\n",
      "\ttrial_court_county\n",
      "\tusers1_signature\n",
      "\tsignature_date\n",
      "['ME', 'Maine']\n",
      "\tusers1_name\n",
      "\tusers1_birthdate\n",
      "\tusers1_address_line_one\n",
      "\tusers1_address_line_two\n",
      "\tusers1_address_city\n",
      "\tusers1_address_state\n",
      "\tusers1_address_zip\n",
      "\tusers1_phone_number\n",
      "\tusers1_email\n",
      "\tplantiffs1_name\n",
      "\tdefendants1_name\n",
      "\tpetitioners1_name\n",
      "\trespondents1_name\n",
      "\tdocket_number\n",
      "\ttrial_court_county\n",
      "\tusers1_signature\n",
      "\tsignature_date\n",
      "['MI', 'Michigan']\n",
      "\tusers1_name\n",
      "\tusers1_birthdate\n",
      "\tusers1_address_line_one\n",
      "\tusers1_address_line_two\n",
      "\tusers1_address_city\n",
      "\tusers1_address_state\n",
      "\tusers1_address_zip\n",
      "\tusers1_phone_number\n",
      "\tusers1_email\n",
      "\tplantiffs1_name\n",
      "\tdefendants1_name\n",
      "\tpetitioners1_name\n",
      "\trespondents1_name\n",
      "\tdocket_number\n",
      "\ttrial_court_county\n",
      "\tusers1_signature\n",
      "\tsignature_date\n",
      "['UT', 'Utah']\n",
      "\tusers1_name\n",
      "\tusers1_birthdate\n",
      "\tusers1_address_line_one\n",
      "\tusers1_address_line_two\n",
      "\tusers1_address_city\n",
      "\tusers1_address_state\n",
      "\tusers1_address_zip\n",
      "\tusers1_phone_number\n",
      "\tusers1_email\n",
      "\tplantiffs1_name\n",
      "\tdefendants1_name\n",
      "\tpetitioners1_name\n",
      "\trespondents1_name\n",
      "\tdocket_number\n",
      "\ttrial_court_county\n",
      "\tusers1_signature\n",
      "\tsignature_date\n"
     ]
    }
   ],
   "source": [
    "for jur in jurs:    \n",
    "    print(jur)\n",
    "    path = \"../../\"\n",
    "    \n",
    "    if not os.path.exists(\"docs/list/%s\"%(jur[0])):\n",
    "        os.makedirs(\"docs/list/%s\"%(jur[0]))\n",
    "    #else:\n",
    "    #    shutil.rmtree(\"docs/list/%s\"%(jur[0]))\n",
    "    #    os.makedirs(\"docs/list/%s\"%(jur[0]))\n",
    "        \n",
    "    html = header(\"Form Explorer\",\"description goes here\",path,wide=0)+listview(jur,path)+footer(path)\n",
    "    text_file = open(\"docs/list/%s/index.html\"%(jur[0]), \"w\", encoding=\"utf-8\")\n",
    "    text_file.write(html)\n",
    "    text_file.close()"
   ]
  },
  {
   "cell_type": "markdown",
   "metadata": {},
   "source": [
    "# Field Labels"
   ]
  },
  {
   "cell_type": "code",
   "execution_count": 28,
   "metadata": {},
   "outputs": [],
   "source": [
    "def fields(field_name,jur,path=\"./\"):\n",
    "    html = \"\"\"\n",
    "    <div class=\"menu_bar\">\n",
    "        <p style=\"text-align:center;\">\n",
    "      <a href=\"https://suffolklitlab.org/\" class=\"menu\">&nbsp;LIT Lab Home&nbsp;</a>&nbsp;<font style=\"color:#888;\">|</font>&nbsp;\n",
    "      <a href=\"../../../\" class=\"menu\">&nbsp;About&nbsp;The&nbsp;Explorer&nbsp;</a>&nbsp;<font style=\"color:#888;\">|</font>&nbsp;\n",
    "      &nbsp;&nbsp;<span style=\"font-family: sans-serif;font-size: 12px;text-transform: uppercase;\">Explore:</span>&nbsp;&nbsp; <select style=\"width:100px;\" onChange=\"window.location.href='../../'+this.value+'/fields/%s.html'\">\"\"\"%field_name\n",
    "    \n",
    "    for item in jurs: \n",
    "        if item[0]==jur[0]:\n",
    "            selected = \"SELECTED\"\n",
    "        else:\n",
    "            selected = \"\"\n",
    "        html += \"<option value=\\\"%s\\\" %s>%s</option>\"%(item[0],selected,item[1])\n",
    "        \n",
    "    html += \"\"\"\n",
    "      </select>&nbsp;&nbsp;\n",
    "      <a href=\"../../../list/%s\" class=\"menu\">&nbsp;Lists&nbsp;</a>\n",
    "      <a href=\"../../../sim/%s\" class=\"menu\">&nbsp;Similar Forms&nbsp;</a>\n",
    "      <a href=\"../../../flow/%s\" class=\"menu\">&nbsp;Flows&nbsp;</a>\n",
    "        </p>\n",
    "    </div>\n",
    "\"\"\"%(jur[0],jur[0],jur[0])\n",
    "    \n",
    "    regex = field_name\n",
    "    forms_with_var = files_df[(files_df[\"jurisdiction\"]==jur[0]) & files_df['fields'].str.contains(regex)]\n",
    "\n",
    "    html += \"\"\"\n",
    "      <div class=\"content\">\n",
    "      <div style=\"float:left;width:60%%;\">\n",
    "      <h2><a name=\"title\" href=\"#title\" class=\"anchor\"></a>%s court forms that use: <i>%s</i></h2>\n",
    "      <p>Out of <a href=\"../\">%s forms</a>, <span style=\"background:yellow\"><b>the following %s forms use <i>%s</i>:</b></span>\n",
    "      \n",
    "      To learn more about our standard field names, read <a href=\"https://suffolklitlab.org/docassemble-AssemblyLine-documentation/docs/label_variables\">Field labels to use in template files</a>.\n",
    "      \n",
    "      </p>\n",
    "\"\"\"%(jur[1],field_name,len(files_df[files_df[\"jurisdiction\"]==jur[0]]),len(forms_with_var),field_name)\n",
    "    \n",
    "    for cat in forms_with_var[\"group\"].unique():\n",
    "        html += \"\"\"\n",
    "        <h3><a name=\"%s\" href=\"#%s\" class=\"anchor\"></a>%s</h3>\n",
    "        <ul>\"\"\"%(cat,cat,cat)\n",
    "\n",
    "        for index,row in forms_with_var[forms_with_var[\"group\"]==cat].iterrows():\n",
    "            #print(row[1][0])\n",
    "            html += \"\"\"<li><a href=\"../../../form/%s/%s.html\">%s</a></li>\"\"\"%(jur[0],row[\"id\"],row[\"title\"])\n",
    "            \n",
    "        html += \"</ul><p style=\\\"text-align:center\\\"><a href=\\\"#title\\\">go to top</a></p>\"\n",
    "        \n",
    "    html += \"</div>\"\n",
    "\n",
    "    html+=\"\"\"</div><div style=\"float:right;width:35%%;\">\n",
    "            <h2>Search %s Forms</h2>\n",
    "            <table cellpadding=\"0px\"><tr><td width=\"100%%\">\n",
    "            <input id=\"q\" style=\"width:100%%\">\n",
    "            </td><td width=\"1%%\">&nbsp;&nbsp;&nbsp;</td><td width=\"1%%\">\n",
    "            <input type=\"button\" value=\"Search\" onClick=\"open_search();\">\n",
    "            </td></tr></table>\n",
    "            <script>\n",
    "                function open_search(){\n",
    "                    alert('Coming Soon!');\n",
    "                }\n",
    "                function open_search_(){\n",
    "                    window.open('https://www.google.com/search?q='+$('#q').val()+'+site:suffolklitlab.org/form-explorer/form/%s')\n",
    "                }\n",
    "                $(\"#q\").on('keyup', function (e) {\n",
    "                    if (e.key === 'Enter' || e.keyCode === 13) {\n",
    "                        open_search()\n",
    "                    }\n",
    "                });\n",
    "            </script>\n",
    "            <p style=\"text-align:center;background:#d2e6fa\"><a href=\"../\">BACK TO ALL %s FORMS</a></p>\n",
    "            <h2>Standard Field Names</h2>\n",
    "            <p>We maintain a bank of <a href=\"https://suffolklitlab.org/docassemble-AssemblyLine-documentation/docs/label_variables\">standard questions and field names</a>. A list of common fields is found below, click a field to see those forms using it.</p>\n",
    "            <ul>\n",
    "    \"\"\"%(jur[1],jur[0],jur[1].upper())\n",
    "        \n",
    "    for field in included_fields:\n",
    "        print(\"\\t\"+field)\n",
    "        html += \"\"\"<li><a href=\"%s.html\">%s</a></li>\"\"\"%(field,field)\n",
    "        \n",
    "    html+=\"</ul></div>\"    \n",
    "    \n",
    "    return html"
   ]
  },
  {
   "cell_type": "code",
   "execution_count": 29,
   "metadata": {},
   "outputs": [
    {
     "name": "stdout",
     "output_type": "stream",
     "text": [
      "['CA', 'California']\n",
      "\tusers1_name\n",
      "\tusers1_name\n",
      "\tusers1_birthdate\n",
      "\tusers1_address_line_one\n",
      "\tusers1_address_line_two\n",
      "\tusers1_address_city\n",
      "\tusers1_address_state\n",
      "\tusers1_address_zip\n",
      "\tusers1_phone_number\n",
      "\tusers1_email\n",
      "\tplantiffs1_name\n",
      "\tdefendants1_name\n",
      "\tpetitioners1_name\n",
      "\trespondents1_name\n",
      "\tdocket_number\n",
      "\ttrial_court_county\n",
      "\tusers1_signature\n",
      "\tsignature_date\n",
      "\tusers1_birthdate\n",
      "\tusers1_name\n",
      "\tusers1_birthdate\n",
      "\tusers1_address_line_one\n",
      "\tusers1_address_line_two\n",
      "\tusers1_address_city\n",
      "\tusers1_address_state\n",
      "\tusers1_address_zip\n",
      "\tusers1_phone_number\n",
      "\tusers1_email\n",
      "\tplantiffs1_name\n",
      "\tdefendants1_name\n",
      "\tpetitioners1_name\n",
      "\trespondents1_name\n",
      "\tdocket_number\n",
      "\ttrial_court_county\n",
      "\tusers1_signature\n",
      "\tsignature_date\n",
      "\tusers1_address_line_one\n",
      "\tusers1_name\n",
      "\tusers1_birthdate\n",
      "\tusers1_address_line_one\n",
      "\tusers1_address_line_two\n",
      "\tusers1_address_city\n",
      "\tusers1_address_state\n",
      "\tusers1_address_zip\n",
      "\tusers1_phone_number\n",
      "\tusers1_email\n",
      "\tplantiffs1_name\n",
      "\tdefendants1_name\n",
      "\tpetitioners1_name\n",
      "\trespondents1_name\n",
      "\tdocket_number\n",
      "\ttrial_court_county\n",
      "\tusers1_signature\n",
      "\tsignature_date\n",
      "\tusers1_address_line_two\n",
      "\tusers1_name\n",
      "\tusers1_birthdate\n",
      "\tusers1_address_line_one\n",
      "\tusers1_address_line_two\n",
      "\tusers1_address_city\n",
      "\tusers1_address_state\n",
      "\tusers1_address_zip\n",
      "\tusers1_phone_number\n",
      "\tusers1_email\n",
      "\tplantiffs1_name\n",
      "\tdefendants1_name\n",
      "\tpetitioners1_name\n",
      "\trespondents1_name\n",
      "\tdocket_number\n",
      "\ttrial_court_county\n",
      "\tusers1_signature\n",
      "\tsignature_date\n",
      "\tusers1_address_city\n",
      "\tusers1_name\n",
      "\tusers1_birthdate\n",
      "\tusers1_address_line_one\n",
      "\tusers1_address_line_two\n",
      "\tusers1_address_city\n",
      "\tusers1_address_state\n",
      "\tusers1_address_zip\n",
      "\tusers1_phone_number\n",
      "\tusers1_email\n",
      "\tplantiffs1_name\n",
      "\tdefendants1_name\n",
      "\tpetitioners1_name\n",
      "\trespondents1_name\n",
      "\tdocket_number\n",
      "\ttrial_court_county\n",
      "\tusers1_signature\n",
      "\tsignature_date\n",
      "\tusers1_address_state\n",
      "\tusers1_name\n",
      "\tusers1_birthdate\n",
      "\tusers1_address_line_one\n",
      "\tusers1_address_line_two\n",
      "\tusers1_address_city\n",
      "\tusers1_address_state\n",
      "\tusers1_address_zip\n",
      "\tusers1_phone_number\n",
      "\tusers1_email\n",
      "\tplantiffs1_name\n",
      "\tdefendants1_name\n",
      "\tpetitioners1_name\n",
      "\trespondents1_name\n",
      "\tdocket_number\n",
      "\ttrial_court_county\n",
      "\tusers1_signature\n",
      "\tsignature_date\n",
      "\tusers1_address_zip\n",
      "\tusers1_name\n",
      "\tusers1_birthdate\n",
      "\tusers1_address_line_one\n",
      "\tusers1_address_line_two\n",
      "\tusers1_address_city\n",
      "\tusers1_address_state\n",
      "\tusers1_address_zip\n",
      "\tusers1_phone_number\n",
      "\tusers1_email\n",
      "\tplantiffs1_name\n",
      "\tdefendants1_name\n",
      "\tpetitioners1_name\n",
      "\trespondents1_name\n",
      "\tdocket_number\n",
      "\ttrial_court_county\n",
      "\tusers1_signature\n",
      "\tsignature_date\n",
      "\tusers1_phone_number\n",
      "\tusers1_name\n",
      "\tusers1_birthdate\n",
      "\tusers1_address_line_one\n",
      "\tusers1_address_line_two\n",
      "\tusers1_address_city\n",
      "\tusers1_address_state\n",
      "\tusers1_address_zip\n",
      "\tusers1_phone_number\n",
      "\tusers1_email\n",
      "\tplantiffs1_name\n",
      "\tdefendants1_name\n",
      "\tpetitioners1_name\n",
      "\trespondents1_name\n",
      "\tdocket_number\n",
      "\ttrial_court_county\n",
      "\tusers1_signature\n",
      "\tsignature_date\n",
      "\tusers1_email\n",
      "\tusers1_name\n",
      "\tusers1_birthdate\n",
      "\tusers1_address_line_one\n",
      "\tusers1_address_line_two\n",
      "\tusers1_address_city\n",
      "\tusers1_address_state\n",
      "\tusers1_address_zip\n",
      "\tusers1_phone_number\n",
      "\tusers1_email\n",
      "\tplantiffs1_name\n",
      "\tdefendants1_name\n",
      "\tpetitioners1_name\n",
      "\trespondents1_name\n",
      "\tdocket_number\n",
      "\ttrial_court_county\n",
      "\tusers1_signature\n",
      "\tsignature_date\n",
      "\tplantiffs1_name\n",
      "\tusers1_name\n",
      "\tusers1_birthdate\n",
      "\tusers1_address_line_one\n",
      "\tusers1_address_line_two\n",
      "\tusers1_address_city\n",
      "\tusers1_address_state\n",
      "\tusers1_address_zip\n",
      "\tusers1_phone_number\n",
      "\tusers1_email\n",
      "\tplantiffs1_name\n",
      "\tdefendants1_name\n",
      "\tpetitioners1_name\n",
      "\trespondents1_name\n",
      "\tdocket_number\n",
      "\ttrial_court_county\n",
      "\tusers1_signature\n",
      "\tsignature_date\n",
      "\tdefendants1_name\n",
      "\tusers1_name\n",
      "\tusers1_birthdate\n",
      "\tusers1_address_line_one\n",
      "\tusers1_address_line_two\n",
      "\tusers1_address_city\n",
      "\tusers1_address_state\n",
      "\tusers1_address_zip\n",
      "\tusers1_phone_number\n",
      "\tusers1_email\n",
      "\tplantiffs1_name\n",
      "\tdefendants1_name\n",
      "\tpetitioners1_name\n",
      "\trespondents1_name\n",
      "\tdocket_number\n",
      "\ttrial_court_county\n",
      "\tusers1_signature\n",
      "\tsignature_date\n",
      "\tpetitioners1_name\n",
      "\tusers1_name\n",
      "\tusers1_birthdate\n",
      "\tusers1_address_line_one\n",
      "\tusers1_address_line_two\n",
      "\tusers1_address_city\n",
      "\tusers1_address_state\n",
      "\tusers1_address_zip\n",
      "\tusers1_phone_number\n",
      "\tusers1_email\n",
      "\tplantiffs1_name\n",
      "\tdefendants1_name\n",
      "\tpetitioners1_name\n",
      "\trespondents1_name\n",
      "\tdocket_number\n",
      "\ttrial_court_county\n",
      "\tusers1_signature\n",
      "\tsignature_date\n",
      "\trespondents1_name\n",
      "\tusers1_name\n",
      "\tusers1_birthdate\n",
      "\tusers1_address_line_one\n",
      "\tusers1_address_line_two\n",
      "\tusers1_address_city\n",
      "\tusers1_address_state\n",
      "\tusers1_address_zip\n",
      "\tusers1_phone_number\n",
      "\tusers1_email\n",
      "\tplantiffs1_name\n",
      "\tdefendants1_name\n",
      "\tpetitioners1_name\n",
      "\trespondents1_name\n",
      "\tdocket_number\n",
      "\ttrial_court_county\n",
      "\tusers1_signature\n",
      "\tsignature_date\n",
      "\tdocket_number\n",
      "\tusers1_name\n",
      "\tusers1_birthdate\n",
      "\tusers1_address_line_one\n",
      "\tusers1_address_line_two\n",
      "\tusers1_address_city\n",
      "\tusers1_address_state\n",
      "\tusers1_address_zip\n",
      "\tusers1_phone_number\n",
      "\tusers1_email\n",
      "\tplantiffs1_name\n",
      "\tdefendants1_name\n",
      "\tpetitioners1_name\n",
      "\trespondents1_name\n",
      "\tdocket_number\n",
      "\ttrial_court_county\n",
      "\tusers1_signature\n",
      "\tsignature_date\n",
      "\ttrial_court_county\n",
      "\tusers1_name\n",
      "\tusers1_birthdate\n",
      "\tusers1_address_line_one\n",
      "\tusers1_address_line_two\n",
      "\tusers1_address_city\n",
      "\tusers1_address_state\n",
      "\tusers1_address_zip\n",
      "\tusers1_phone_number\n",
      "\tusers1_email\n",
      "\tplantiffs1_name\n",
      "\tdefendants1_name\n",
      "\tpetitioners1_name\n",
      "\trespondents1_name\n",
      "\tdocket_number\n",
      "\ttrial_court_county\n",
      "\tusers1_signature\n",
      "\tsignature_date\n",
      "\tusers1_signature\n",
      "\tusers1_name\n",
      "\tusers1_birthdate\n",
      "\tusers1_address_line_one\n",
      "\tusers1_address_line_two\n",
      "\tusers1_address_city\n",
      "\tusers1_address_state\n",
      "\tusers1_address_zip\n",
      "\tusers1_phone_number\n",
      "\tusers1_email\n",
      "\tplantiffs1_name\n",
      "\tdefendants1_name\n",
      "\tpetitioners1_name\n",
      "\trespondents1_name\n",
      "\tdocket_number\n",
      "\ttrial_court_county\n",
      "\tusers1_signature\n",
      "\tsignature_date\n",
      "\tsignature_date\n",
      "\tusers1_name\n",
      "\tusers1_birthdate\n",
      "\tusers1_address_line_one\n",
      "\tusers1_address_line_two\n",
      "\tusers1_address_city\n",
      "\tusers1_address_state\n",
      "\tusers1_address_zip\n",
      "\tusers1_phone_number\n",
      "\tusers1_email\n",
      "\tplantiffs1_name\n",
      "\tdefendants1_name\n",
      "\tpetitioners1_name\n",
      "\trespondents1_name\n",
      "\tdocket_number\n",
      "\ttrial_court_county\n",
      "\tusers1_signature\n",
      "\tsignature_date\n",
      "['ME', 'Maine']\n",
      "\tusers1_name\n",
      "\tusers1_name\n",
      "\tusers1_birthdate\n",
      "\tusers1_address_line_one\n",
      "\tusers1_address_line_two\n",
      "\tusers1_address_city\n",
      "\tusers1_address_state\n",
      "\tusers1_address_zip\n",
      "\tusers1_phone_number\n",
      "\tusers1_email\n",
      "\tplantiffs1_name\n",
      "\tdefendants1_name\n",
      "\tpetitioners1_name\n",
      "\trespondents1_name\n",
      "\tdocket_number\n",
      "\ttrial_court_county\n",
      "\tusers1_signature\n",
      "\tsignature_date\n",
      "\tusers1_birthdate\n",
      "\tusers1_name\n",
      "\tusers1_birthdate\n",
      "\tusers1_address_line_one\n",
      "\tusers1_address_line_two\n",
      "\tusers1_address_city\n",
      "\tusers1_address_state\n",
      "\tusers1_address_zip\n",
      "\tusers1_phone_number\n",
      "\tusers1_email\n",
      "\tplantiffs1_name\n",
      "\tdefendants1_name\n",
      "\tpetitioners1_name\n",
      "\trespondents1_name\n",
      "\tdocket_number\n",
      "\ttrial_court_county\n",
      "\tusers1_signature\n",
      "\tsignature_date\n",
      "\tusers1_address_line_one\n",
      "\tusers1_name\n",
      "\tusers1_birthdate\n",
      "\tusers1_address_line_one\n",
      "\tusers1_address_line_two\n",
      "\tusers1_address_city\n",
      "\tusers1_address_state\n",
      "\tusers1_address_zip\n",
      "\tusers1_phone_number\n",
      "\tusers1_email\n",
      "\tplantiffs1_name\n",
      "\tdefendants1_name\n",
      "\tpetitioners1_name\n",
      "\trespondents1_name\n",
      "\tdocket_number\n",
      "\ttrial_court_county\n",
      "\tusers1_signature\n",
      "\tsignature_date\n",
      "\tusers1_address_line_two\n",
      "\tusers1_name\n",
      "\tusers1_birthdate\n",
      "\tusers1_address_line_one\n",
      "\tusers1_address_line_two\n",
      "\tusers1_address_city\n",
      "\tusers1_address_state\n",
      "\tusers1_address_zip\n",
      "\tusers1_phone_number\n",
      "\tusers1_email\n",
      "\tplantiffs1_name\n",
      "\tdefendants1_name\n",
      "\tpetitioners1_name\n",
      "\trespondents1_name\n",
      "\tdocket_number\n",
      "\ttrial_court_county\n",
      "\tusers1_signature\n",
      "\tsignature_date\n",
      "\tusers1_address_city\n",
      "\tusers1_name\n",
      "\tusers1_birthdate\n",
      "\tusers1_address_line_one\n",
      "\tusers1_address_line_two\n",
      "\tusers1_address_city\n",
      "\tusers1_address_state\n",
      "\tusers1_address_zip\n",
      "\tusers1_phone_number\n",
      "\tusers1_email\n",
      "\tplantiffs1_name\n",
      "\tdefendants1_name\n",
      "\tpetitioners1_name\n",
      "\trespondents1_name\n",
      "\tdocket_number\n",
      "\ttrial_court_county\n",
      "\tusers1_signature\n",
      "\tsignature_date\n",
      "\tusers1_address_state\n",
      "\tusers1_name\n",
      "\tusers1_birthdate\n",
      "\tusers1_address_line_one\n",
      "\tusers1_address_line_two\n",
      "\tusers1_address_city\n",
      "\tusers1_address_state\n",
      "\tusers1_address_zip\n",
      "\tusers1_phone_number\n",
      "\tusers1_email\n",
      "\tplantiffs1_name\n",
      "\tdefendants1_name\n",
      "\tpetitioners1_name\n",
      "\trespondents1_name\n",
      "\tdocket_number\n",
      "\ttrial_court_county\n",
      "\tusers1_signature\n",
      "\tsignature_date\n",
      "\tusers1_address_zip\n",
      "\tusers1_name\n",
      "\tusers1_birthdate\n",
      "\tusers1_address_line_one\n",
      "\tusers1_address_line_two\n",
      "\tusers1_address_city\n",
      "\tusers1_address_state\n",
      "\tusers1_address_zip\n",
      "\tusers1_phone_number\n",
      "\tusers1_email\n",
      "\tplantiffs1_name\n",
      "\tdefendants1_name\n",
      "\tpetitioners1_name\n",
      "\trespondents1_name\n",
      "\tdocket_number\n",
      "\ttrial_court_county\n",
      "\tusers1_signature\n",
      "\tsignature_date\n",
      "\tusers1_phone_number\n",
      "\tusers1_name\n",
      "\tusers1_birthdate\n",
      "\tusers1_address_line_one\n",
      "\tusers1_address_line_two\n",
      "\tusers1_address_city\n",
      "\tusers1_address_state\n",
      "\tusers1_address_zip\n",
      "\tusers1_phone_number\n",
      "\tusers1_email\n",
      "\tplantiffs1_name\n",
      "\tdefendants1_name\n",
      "\tpetitioners1_name\n",
      "\trespondents1_name\n",
      "\tdocket_number\n",
      "\ttrial_court_county\n",
      "\tusers1_signature\n",
      "\tsignature_date\n",
      "\tusers1_email\n",
      "\tusers1_name\n",
      "\tusers1_birthdate\n",
      "\tusers1_address_line_one\n",
      "\tusers1_address_line_two\n",
      "\tusers1_address_city\n",
      "\tusers1_address_state\n",
      "\tusers1_address_zip\n",
      "\tusers1_phone_number\n",
      "\tusers1_email\n",
      "\tplantiffs1_name\n",
      "\tdefendants1_name\n",
      "\tpetitioners1_name\n",
      "\trespondents1_name\n",
      "\tdocket_number\n",
      "\ttrial_court_county\n",
      "\tusers1_signature\n",
      "\tsignature_date\n",
      "\tplantiffs1_name\n",
      "\tusers1_name\n",
      "\tusers1_birthdate\n",
      "\tusers1_address_line_one\n",
      "\tusers1_address_line_two\n",
      "\tusers1_address_city\n",
      "\tusers1_address_state\n",
      "\tusers1_address_zip\n",
      "\tusers1_phone_number\n",
      "\tusers1_email\n",
      "\tplantiffs1_name\n",
      "\tdefendants1_name\n",
      "\tpetitioners1_name\n",
      "\trespondents1_name\n",
      "\tdocket_number\n",
      "\ttrial_court_county\n",
      "\tusers1_signature\n",
      "\tsignature_date\n",
      "\tdefendants1_name\n",
      "\tusers1_name\n",
      "\tusers1_birthdate\n",
      "\tusers1_address_line_one\n",
      "\tusers1_address_line_two\n",
      "\tusers1_address_city\n",
      "\tusers1_address_state\n",
      "\tusers1_address_zip\n",
      "\tusers1_phone_number\n",
      "\tusers1_email\n",
      "\tplantiffs1_name\n",
      "\tdefendants1_name\n",
      "\tpetitioners1_name\n",
      "\trespondents1_name\n",
      "\tdocket_number\n",
      "\ttrial_court_county\n",
      "\tusers1_signature\n",
      "\tsignature_date\n",
      "\tpetitioners1_name\n",
      "\tusers1_name\n",
      "\tusers1_birthdate\n",
      "\tusers1_address_line_one\n",
      "\tusers1_address_line_two\n",
      "\tusers1_address_city\n",
      "\tusers1_address_state\n",
      "\tusers1_address_zip\n",
      "\tusers1_phone_number\n",
      "\tusers1_email\n",
      "\tplantiffs1_name\n",
      "\tdefendants1_name\n",
      "\tpetitioners1_name\n",
      "\trespondents1_name\n",
      "\tdocket_number\n",
      "\ttrial_court_county\n",
      "\tusers1_signature\n",
      "\tsignature_date\n",
      "\trespondents1_name\n",
      "\tusers1_name\n",
      "\tusers1_birthdate\n",
      "\tusers1_address_line_one\n",
      "\tusers1_address_line_two\n",
      "\tusers1_address_city\n",
      "\tusers1_address_state\n",
      "\tusers1_address_zip\n",
      "\tusers1_phone_number\n",
      "\tusers1_email\n",
      "\tplantiffs1_name\n",
      "\tdefendants1_name\n",
      "\tpetitioners1_name\n",
      "\trespondents1_name\n",
      "\tdocket_number\n",
      "\ttrial_court_county\n",
      "\tusers1_signature\n",
      "\tsignature_date\n",
      "\tdocket_number\n",
      "\tusers1_name\n",
      "\tusers1_birthdate\n",
      "\tusers1_address_line_one\n",
      "\tusers1_address_line_two\n",
      "\tusers1_address_city\n",
      "\tusers1_address_state\n",
      "\tusers1_address_zip\n",
      "\tusers1_phone_number\n",
      "\tusers1_email\n",
      "\tplantiffs1_name\n",
      "\tdefendants1_name\n",
      "\tpetitioners1_name\n",
      "\trespondents1_name\n",
      "\tdocket_number\n",
      "\ttrial_court_county\n",
      "\tusers1_signature\n",
      "\tsignature_date\n",
      "\ttrial_court_county\n",
      "\tusers1_name\n",
      "\tusers1_birthdate\n",
      "\tusers1_address_line_one\n",
      "\tusers1_address_line_two\n",
      "\tusers1_address_city\n",
      "\tusers1_address_state\n",
      "\tusers1_address_zip\n",
      "\tusers1_phone_number\n",
      "\tusers1_email\n",
      "\tplantiffs1_name\n",
      "\tdefendants1_name\n",
      "\tpetitioners1_name\n",
      "\trespondents1_name\n",
      "\tdocket_number\n",
      "\ttrial_court_county\n",
      "\tusers1_signature\n",
      "\tsignature_date\n",
      "\tusers1_signature\n",
      "\tusers1_name\n",
      "\tusers1_birthdate\n",
      "\tusers1_address_line_one\n",
      "\tusers1_address_line_two\n",
      "\tusers1_address_city\n",
      "\tusers1_address_state\n",
      "\tusers1_address_zip\n",
      "\tusers1_phone_number\n",
      "\tusers1_email\n",
      "\tplantiffs1_name\n",
      "\tdefendants1_name\n",
      "\tpetitioners1_name\n",
      "\trespondents1_name\n",
      "\tdocket_number\n",
      "\ttrial_court_county\n",
      "\tusers1_signature\n",
      "\tsignature_date\n",
      "\tsignature_date\n",
      "\tusers1_name\n",
      "\tusers1_birthdate\n",
      "\tusers1_address_line_one\n",
      "\tusers1_address_line_two\n",
      "\tusers1_address_city\n",
      "\tusers1_address_state\n",
      "\tusers1_address_zip\n",
      "\tusers1_phone_number\n",
      "\tusers1_email\n",
      "\tplantiffs1_name\n",
      "\tdefendants1_name\n",
      "\tpetitioners1_name\n",
      "\trespondents1_name\n",
      "\tdocket_number\n",
      "\ttrial_court_county\n",
      "\tusers1_signature\n",
      "\tsignature_date\n",
      "['MI', 'Michigan']\n",
      "\tusers1_name\n",
      "\tusers1_name\n",
      "\tusers1_birthdate\n",
      "\tusers1_address_line_one\n",
      "\tusers1_address_line_two\n",
      "\tusers1_address_city\n",
      "\tusers1_address_state\n",
      "\tusers1_address_zip\n",
      "\tusers1_phone_number\n",
      "\tusers1_email\n",
      "\tplantiffs1_name\n",
      "\tdefendants1_name\n",
      "\tpetitioners1_name\n",
      "\trespondents1_name\n",
      "\tdocket_number\n",
      "\ttrial_court_county\n",
      "\tusers1_signature\n",
      "\tsignature_date\n",
      "\tusers1_birthdate\n",
      "\tusers1_name\n",
      "\tusers1_birthdate\n",
      "\tusers1_address_line_one\n",
      "\tusers1_address_line_two\n",
      "\tusers1_address_city\n",
      "\tusers1_address_state\n",
      "\tusers1_address_zip\n",
      "\tusers1_phone_number\n",
      "\tusers1_email\n",
      "\tplantiffs1_name\n",
      "\tdefendants1_name\n",
      "\tpetitioners1_name\n",
      "\trespondents1_name\n",
      "\tdocket_number\n",
      "\ttrial_court_county\n",
      "\tusers1_signature\n",
      "\tsignature_date\n",
      "\tusers1_address_line_one\n"
     ]
    },
    {
     "name": "stdout",
     "output_type": "stream",
     "text": [
      "\tusers1_name\n",
      "\tusers1_birthdate\n",
      "\tusers1_address_line_one\n",
      "\tusers1_address_line_two\n",
      "\tusers1_address_city\n",
      "\tusers1_address_state\n",
      "\tusers1_address_zip\n",
      "\tusers1_phone_number\n",
      "\tusers1_email\n",
      "\tplantiffs1_name\n",
      "\tdefendants1_name\n",
      "\tpetitioners1_name\n",
      "\trespondents1_name\n",
      "\tdocket_number\n",
      "\ttrial_court_county\n",
      "\tusers1_signature\n",
      "\tsignature_date\n",
      "\tusers1_address_line_two\n",
      "\tusers1_name\n",
      "\tusers1_birthdate\n",
      "\tusers1_address_line_one\n",
      "\tusers1_address_line_two\n",
      "\tusers1_address_city\n",
      "\tusers1_address_state\n",
      "\tusers1_address_zip\n",
      "\tusers1_phone_number\n",
      "\tusers1_email\n",
      "\tplantiffs1_name\n",
      "\tdefendants1_name\n",
      "\tpetitioners1_name\n",
      "\trespondents1_name\n",
      "\tdocket_number\n",
      "\ttrial_court_county\n",
      "\tusers1_signature\n",
      "\tsignature_date\n",
      "\tusers1_address_city\n",
      "\tusers1_name\n",
      "\tusers1_birthdate\n",
      "\tusers1_address_line_one\n",
      "\tusers1_address_line_two\n",
      "\tusers1_address_city\n",
      "\tusers1_address_state\n",
      "\tusers1_address_zip\n",
      "\tusers1_phone_number\n",
      "\tusers1_email\n",
      "\tplantiffs1_name\n",
      "\tdefendants1_name\n",
      "\tpetitioners1_name\n",
      "\trespondents1_name\n",
      "\tdocket_number\n",
      "\ttrial_court_county\n",
      "\tusers1_signature\n",
      "\tsignature_date\n",
      "\tusers1_address_state\n",
      "\tusers1_name\n",
      "\tusers1_birthdate\n",
      "\tusers1_address_line_one\n",
      "\tusers1_address_line_two\n",
      "\tusers1_address_city\n",
      "\tusers1_address_state\n",
      "\tusers1_address_zip\n",
      "\tusers1_phone_number\n",
      "\tusers1_email\n",
      "\tplantiffs1_name\n",
      "\tdefendants1_name\n",
      "\tpetitioners1_name\n",
      "\trespondents1_name\n",
      "\tdocket_number\n",
      "\ttrial_court_county\n",
      "\tusers1_signature\n",
      "\tsignature_date\n",
      "\tusers1_address_zip\n",
      "\tusers1_name\n",
      "\tusers1_birthdate\n",
      "\tusers1_address_line_one\n",
      "\tusers1_address_line_two\n",
      "\tusers1_address_city\n",
      "\tusers1_address_state\n",
      "\tusers1_address_zip\n",
      "\tusers1_phone_number\n",
      "\tusers1_email\n",
      "\tplantiffs1_name\n",
      "\tdefendants1_name\n",
      "\tpetitioners1_name\n",
      "\trespondents1_name\n",
      "\tdocket_number\n",
      "\ttrial_court_county\n",
      "\tusers1_signature\n",
      "\tsignature_date\n",
      "\tusers1_phone_number\n",
      "\tusers1_name\n",
      "\tusers1_birthdate\n",
      "\tusers1_address_line_one\n",
      "\tusers1_address_line_two\n",
      "\tusers1_address_city\n",
      "\tusers1_address_state\n",
      "\tusers1_address_zip\n",
      "\tusers1_phone_number\n",
      "\tusers1_email\n",
      "\tplantiffs1_name\n",
      "\tdefendants1_name\n",
      "\tpetitioners1_name\n",
      "\trespondents1_name\n",
      "\tdocket_number\n",
      "\ttrial_court_county\n",
      "\tusers1_signature\n",
      "\tsignature_date\n",
      "\tusers1_email\n",
      "\tusers1_name\n",
      "\tusers1_birthdate\n",
      "\tusers1_address_line_one\n",
      "\tusers1_address_line_two\n",
      "\tusers1_address_city\n",
      "\tusers1_address_state\n",
      "\tusers1_address_zip\n",
      "\tusers1_phone_number\n",
      "\tusers1_email\n",
      "\tplantiffs1_name\n",
      "\tdefendants1_name\n",
      "\tpetitioners1_name\n",
      "\trespondents1_name\n",
      "\tdocket_number\n",
      "\ttrial_court_county\n",
      "\tusers1_signature\n",
      "\tsignature_date\n",
      "\tplantiffs1_name\n",
      "\tusers1_name\n",
      "\tusers1_birthdate\n",
      "\tusers1_address_line_one\n",
      "\tusers1_address_line_two\n",
      "\tusers1_address_city\n",
      "\tusers1_address_state\n",
      "\tusers1_address_zip\n",
      "\tusers1_phone_number\n",
      "\tusers1_email\n",
      "\tplantiffs1_name\n",
      "\tdefendants1_name\n",
      "\tpetitioners1_name\n",
      "\trespondents1_name\n",
      "\tdocket_number\n",
      "\ttrial_court_county\n",
      "\tusers1_signature\n",
      "\tsignature_date\n",
      "\tdefendants1_name\n",
      "\tusers1_name\n",
      "\tusers1_birthdate\n",
      "\tusers1_address_line_one\n",
      "\tusers1_address_line_two\n",
      "\tusers1_address_city\n",
      "\tusers1_address_state\n",
      "\tusers1_address_zip\n",
      "\tusers1_phone_number\n",
      "\tusers1_email\n",
      "\tplantiffs1_name\n",
      "\tdefendants1_name\n",
      "\tpetitioners1_name\n",
      "\trespondents1_name\n",
      "\tdocket_number\n",
      "\ttrial_court_county\n",
      "\tusers1_signature\n",
      "\tsignature_date\n",
      "\tpetitioners1_name\n",
      "\tusers1_name\n",
      "\tusers1_birthdate\n",
      "\tusers1_address_line_one\n",
      "\tusers1_address_line_two\n",
      "\tusers1_address_city\n",
      "\tusers1_address_state\n",
      "\tusers1_address_zip\n",
      "\tusers1_phone_number\n",
      "\tusers1_email\n",
      "\tplantiffs1_name\n",
      "\tdefendants1_name\n",
      "\tpetitioners1_name\n",
      "\trespondents1_name\n",
      "\tdocket_number\n",
      "\ttrial_court_county\n",
      "\tusers1_signature\n",
      "\tsignature_date\n",
      "\trespondents1_name\n",
      "\tusers1_name\n",
      "\tusers1_birthdate\n",
      "\tusers1_address_line_one\n",
      "\tusers1_address_line_two\n",
      "\tusers1_address_city\n",
      "\tusers1_address_state\n",
      "\tusers1_address_zip\n",
      "\tusers1_phone_number\n",
      "\tusers1_email\n",
      "\tplantiffs1_name\n",
      "\tdefendants1_name\n",
      "\tpetitioners1_name\n",
      "\trespondents1_name\n",
      "\tdocket_number\n",
      "\ttrial_court_county\n",
      "\tusers1_signature\n",
      "\tsignature_date\n",
      "\tdocket_number\n",
      "\tusers1_name\n",
      "\tusers1_birthdate\n",
      "\tusers1_address_line_one\n",
      "\tusers1_address_line_two\n",
      "\tusers1_address_city\n",
      "\tusers1_address_state\n",
      "\tusers1_address_zip\n",
      "\tusers1_phone_number\n",
      "\tusers1_email\n",
      "\tplantiffs1_name\n",
      "\tdefendants1_name\n",
      "\tpetitioners1_name\n",
      "\trespondents1_name\n",
      "\tdocket_number\n",
      "\ttrial_court_county\n",
      "\tusers1_signature\n",
      "\tsignature_date\n",
      "\ttrial_court_county\n",
      "\tusers1_name\n",
      "\tusers1_birthdate\n",
      "\tusers1_address_line_one\n",
      "\tusers1_address_line_two\n",
      "\tusers1_address_city\n",
      "\tusers1_address_state\n",
      "\tusers1_address_zip\n",
      "\tusers1_phone_number\n",
      "\tusers1_email\n",
      "\tplantiffs1_name\n",
      "\tdefendants1_name\n",
      "\tpetitioners1_name\n",
      "\trespondents1_name\n",
      "\tdocket_number\n",
      "\ttrial_court_county\n",
      "\tusers1_signature\n",
      "\tsignature_date\n",
      "\tusers1_signature\n",
      "\tusers1_name\n",
      "\tusers1_birthdate\n",
      "\tusers1_address_line_one\n",
      "\tusers1_address_line_two\n",
      "\tusers1_address_city\n",
      "\tusers1_address_state\n",
      "\tusers1_address_zip\n",
      "\tusers1_phone_number\n",
      "\tusers1_email\n",
      "\tplantiffs1_name\n",
      "\tdefendants1_name\n",
      "\tpetitioners1_name\n",
      "\trespondents1_name\n",
      "\tdocket_number\n",
      "\ttrial_court_county\n",
      "\tusers1_signature\n",
      "\tsignature_date\n",
      "\tsignature_date\n",
      "\tusers1_name\n",
      "\tusers1_birthdate\n",
      "\tusers1_address_line_one\n",
      "\tusers1_address_line_two\n",
      "\tusers1_address_city\n",
      "\tusers1_address_state\n",
      "\tusers1_address_zip\n",
      "\tusers1_phone_number\n",
      "\tusers1_email\n",
      "\tplantiffs1_name\n",
      "\tdefendants1_name\n",
      "\tpetitioners1_name\n",
      "\trespondents1_name\n",
      "\tdocket_number\n",
      "\ttrial_court_county\n",
      "\tusers1_signature\n",
      "\tsignature_date\n",
      "['UT', 'Utah']\n",
      "\tusers1_name\n",
      "\tusers1_name\n",
      "\tusers1_birthdate\n",
      "\tusers1_address_line_one\n",
      "\tusers1_address_line_two\n",
      "\tusers1_address_city\n",
      "\tusers1_address_state\n",
      "\tusers1_address_zip\n",
      "\tusers1_phone_number\n",
      "\tusers1_email\n",
      "\tplantiffs1_name\n",
      "\tdefendants1_name\n",
      "\tpetitioners1_name\n",
      "\trespondents1_name\n",
      "\tdocket_number\n",
      "\ttrial_court_county\n",
      "\tusers1_signature\n",
      "\tsignature_date\n",
      "\tusers1_birthdate\n",
      "\tusers1_name\n",
      "\tusers1_birthdate\n",
      "\tusers1_address_line_one\n",
      "\tusers1_address_line_two\n",
      "\tusers1_address_city\n",
      "\tusers1_address_state\n",
      "\tusers1_address_zip\n",
      "\tusers1_phone_number\n",
      "\tusers1_email\n",
      "\tplantiffs1_name\n",
      "\tdefendants1_name\n",
      "\tpetitioners1_name\n",
      "\trespondents1_name\n",
      "\tdocket_number\n",
      "\ttrial_court_county\n",
      "\tusers1_signature\n",
      "\tsignature_date\n",
      "\tusers1_address_line_one\n",
      "\tusers1_name\n",
      "\tusers1_birthdate\n",
      "\tusers1_address_line_one\n",
      "\tusers1_address_line_two\n",
      "\tusers1_address_city\n",
      "\tusers1_address_state\n",
      "\tusers1_address_zip\n",
      "\tusers1_phone_number\n",
      "\tusers1_email\n",
      "\tplantiffs1_name\n",
      "\tdefendants1_name\n",
      "\tpetitioners1_name\n",
      "\trespondents1_name\n",
      "\tdocket_number\n",
      "\ttrial_court_county\n",
      "\tusers1_signature\n",
      "\tsignature_date\n",
      "\tusers1_address_line_two\n",
      "\tusers1_name\n",
      "\tusers1_birthdate\n",
      "\tusers1_address_line_one\n",
      "\tusers1_address_line_two\n",
      "\tusers1_address_city\n",
      "\tusers1_address_state\n",
      "\tusers1_address_zip\n",
      "\tusers1_phone_number\n",
      "\tusers1_email\n",
      "\tplantiffs1_name\n",
      "\tdefendants1_name\n",
      "\tpetitioners1_name\n",
      "\trespondents1_name\n",
      "\tdocket_number\n",
      "\ttrial_court_county\n",
      "\tusers1_signature\n",
      "\tsignature_date\n",
      "\tusers1_address_city\n",
      "\tusers1_name\n",
      "\tusers1_birthdate\n",
      "\tusers1_address_line_one\n",
      "\tusers1_address_line_two\n",
      "\tusers1_address_city\n",
      "\tusers1_address_state\n",
      "\tusers1_address_zip\n",
      "\tusers1_phone_number\n",
      "\tusers1_email\n",
      "\tplantiffs1_name\n",
      "\tdefendants1_name\n",
      "\tpetitioners1_name\n",
      "\trespondents1_name\n",
      "\tdocket_number\n",
      "\ttrial_court_county\n",
      "\tusers1_signature\n",
      "\tsignature_date\n",
      "\tusers1_address_state\n",
      "\tusers1_name\n",
      "\tusers1_birthdate\n",
      "\tusers1_address_line_one\n",
      "\tusers1_address_line_two\n",
      "\tusers1_address_city\n",
      "\tusers1_address_state\n",
      "\tusers1_address_zip\n",
      "\tusers1_phone_number\n",
      "\tusers1_email\n",
      "\tplantiffs1_name\n",
      "\tdefendants1_name\n",
      "\tpetitioners1_name\n",
      "\trespondents1_name\n",
      "\tdocket_number\n",
      "\ttrial_court_county\n",
      "\tusers1_signature\n",
      "\tsignature_date\n",
      "\tusers1_address_zip\n",
      "\tusers1_name\n",
      "\tusers1_birthdate\n",
      "\tusers1_address_line_one\n",
      "\tusers1_address_line_two\n",
      "\tusers1_address_city\n",
      "\tusers1_address_state\n",
      "\tusers1_address_zip\n",
      "\tusers1_phone_number\n",
      "\tusers1_email\n",
      "\tplantiffs1_name\n",
      "\tdefendants1_name\n",
      "\tpetitioners1_name\n",
      "\trespondents1_name\n",
      "\tdocket_number\n",
      "\ttrial_court_county\n",
      "\tusers1_signature\n",
      "\tsignature_date\n",
      "\tusers1_phone_number\n",
      "\tusers1_name\n",
      "\tusers1_birthdate\n",
      "\tusers1_address_line_one\n",
      "\tusers1_address_line_two\n",
      "\tusers1_address_city\n",
      "\tusers1_address_state\n",
      "\tusers1_address_zip\n",
      "\tusers1_phone_number\n",
      "\tusers1_email\n",
      "\tplantiffs1_name\n",
      "\tdefendants1_name\n",
      "\tpetitioners1_name\n",
      "\trespondents1_name\n",
      "\tdocket_number\n",
      "\ttrial_court_county\n",
      "\tusers1_signature\n",
      "\tsignature_date\n",
      "\tusers1_email\n",
      "\tusers1_name\n",
      "\tusers1_birthdate\n",
      "\tusers1_address_line_one\n",
      "\tusers1_address_line_two\n",
      "\tusers1_address_city\n",
      "\tusers1_address_state\n",
      "\tusers1_address_zip\n",
      "\tusers1_phone_number\n",
      "\tusers1_email\n",
      "\tplantiffs1_name\n",
      "\tdefendants1_name\n",
      "\tpetitioners1_name\n",
      "\trespondents1_name\n",
      "\tdocket_number\n",
      "\ttrial_court_county\n",
      "\tusers1_signature\n",
      "\tsignature_date\n",
      "\tplantiffs1_name\n",
      "\tusers1_name\n",
      "\tusers1_birthdate\n",
      "\tusers1_address_line_one\n",
      "\tusers1_address_line_two\n",
      "\tusers1_address_city\n",
      "\tusers1_address_state\n",
      "\tusers1_address_zip\n",
      "\tusers1_phone_number\n",
      "\tusers1_email\n",
      "\tplantiffs1_name\n",
      "\tdefendants1_name\n",
      "\tpetitioners1_name\n",
      "\trespondents1_name\n",
      "\tdocket_number\n",
      "\ttrial_court_county\n",
      "\tusers1_signature\n",
      "\tsignature_date\n",
      "\tdefendants1_name\n",
      "\tusers1_name\n",
      "\tusers1_birthdate\n",
      "\tusers1_address_line_one\n",
      "\tusers1_address_line_two\n",
      "\tusers1_address_city\n",
      "\tusers1_address_state\n",
      "\tusers1_address_zip\n",
      "\tusers1_phone_number\n",
      "\tusers1_email\n",
      "\tplantiffs1_name\n",
      "\tdefendants1_name\n",
      "\tpetitioners1_name\n",
      "\trespondents1_name\n",
      "\tdocket_number\n",
      "\ttrial_court_county\n",
      "\tusers1_signature\n",
      "\tsignature_date\n",
      "\tpetitioners1_name\n",
      "\tusers1_name\n",
      "\tusers1_birthdate\n",
      "\tusers1_address_line_one\n",
      "\tusers1_address_line_two\n",
      "\tusers1_address_city\n",
      "\tusers1_address_state\n",
      "\tusers1_address_zip\n",
      "\tusers1_phone_number\n",
      "\tusers1_email\n",
      "\tplantiffs1_name\n",
      "\tdefendants1_name\n",
      "\tpetitioners1_name\n",
      "\trespondents1_name\n",
      "\tdocket_number\n",
      "\ttrial_court_county\n",
      "\tusers1_signature\n",
      "\tsignature_date\n",
      "\trespondents1_name\n"
     ]
    },
    {
     "name": "stdout",
     "output_type": "stream",
     "text": [
      "\tusers1_name\n",
      "\tusers1_birthdate\n",
      "\tusers1_address_line_one\n",
      "\tusers1_address_line_two\n",
      "\tusers1_address_city\n",
      "\tusers1_address_state\n",
      "\tusers1_address_zip\n",
      "\tusers1_phone_number\n",
      "\tusers1_email\n",
      "\tplantiffs1_name\n",
      "\tdefendants1_name\n",
      "\tpetitioners1_name\n",
      "\trespondents1_name\n",
      "\tdocket_number\n",
      "\ttrial_court_county\n",
      "\tusers1_signature\n",
      "\tsignature_date\n",
      "\tdocket_number\n",
      "\tusers1_name\n",
      "\tusers1_birthdate\n",
      "\tusers1_address_line_one\n",
      "\tusers1_address_line_two\n",
      "\tusers1_address_city\n",
      "\tusers1_address_state\n",
      "\tusers1_address_zip\n",
      "\tusers1_phone_number\n",
      "\tusers1_email\n",
      "\tplantiffs1_name\n",
      "\tdefendants1_name\n",
      "\tpetitioners1_name\n",
      "\trespondents1_name\n",
      "\tdocket_number\n",
      "\ttrial_court_county\n",
      "\tusers1_signature\n",
      "\tsignature_date\n",
      "\ttrial_court_county\n",
      "\tusers1_name\n",
      "\tusers1_birthdate\n",
      "\tusers1_address_line_one\n",
      "\tusers1_address_line_two\n",
      "\tusers1_address_city\n",
      "\tusers1_address_state\n",
      "\tusers1_address_zip\n",
      "\tusers1_phone_number\n",
      "\tusers1_email\n",
      "\tplantiffs1_name\n",
      "\tdefendants1_name\n",
      "\tpetitioners1_name\n",
      "\trespondents1_name\n",
      "\tdocket_number\n",
      "\ttrial_court_county\n",
      "\tusers1_signature\n",
      "\tsignature_date\n",
      "\tusers1_signature\n",
      "\tusers1_name\n",
      "\tusers1_birthdate\n",
      "\tusers1_address_line_one\n",
      "\tusers1_address_line_two\n",
      "\tusers1_address_city\n",
      "\tusers1_address_state\n",
      "\tusers1_address_zip\n",
      "\tusers1_phone_number\n",
      "\tusers1_email\n",
      "\tplantiffs1_name\n",
      "\tdefendants1_name\n",
      "\tpetitioners1_name\n",
      "\trespondents1_name\n",
      "\tdocket_number\n",
      "\ttrial_court_county\n",
      "\tusers1_signature\n",
      "\tsignature_date\n",
      "\tsignature_date\n",
      "\tusers1_name\n",
      "\tusers1_birthdate\n",
      "\tusers1_address_line_one\n",
      "\tusers1_address_line_two\n",
      "\tusers1_address_city\n",
      "\tusers1_address_state\n",
      "\tusers1_address_zip\n",
      "\tusers1_phone_number\n",
      "\tusers1_email\n",
      "\tplantiffs1_name\n",
      "\tdefendants1_name\n",
      "\tpetitioners1_name\n",
      "\trespondents1_name\n",
      "\tdocket_number\n",
      "\ttrial_court_county\n",
      "\tusers1_signature\n",
      "\tsignature_date\n"
     ]
    }
   ],
   "source": [
    "for jur in jurs:  \n",
    "    print(jur)\n",
    "    path = \"../../../\"\n",
    "    for field in included_fields:\n",
    "        print(\"\\t\"+field)\n",
    "        html = header(\"Form Explorer\",\"description goes here\",path)+fields(field,jur,path)+footer(path)\n",
    "        text_file = open(\"docs/list/%s/fields/%s.html\"%(jur[0],field), \"w\")\n",
    "        text_file.write(html)\n",
    "        text_file.close()"
   ]
  },
  {
   "cell_type": "markdown",
   "metadata": {},
   "source": [
    "# Create form pages"
   ]
  },
  {
   "cell_type": "code",
   "execution_count": 229,
   "metadata": {},
   "outputs": [],
   "source": [
    "def formview(jur,path=\"./\"):\n",
    "    html = \"\"\"\n",
    "    <div class=\"menu_bar\">\n",
    "        <p style=\"text-align:center;\">\n",
    "      <a href=\"https://suffolklitlab.org/\" class=\"menu\">&nbsp;LIT Lab Home&nbsp;</a>&nbsp;<font style=\"color:#888;\">|</font>&nbsp;\n",
    "      <a href=\"../../\" class=\"menu\">&nbsp;About&nbsp;The&nbsp;Explorer&nbsp;</a>&nbsp;<font style=\"color:#888;\">|</font>&nbsp;\n",
    "      &nbsp;&nbsp;<span style=\"font-family: sans-serif;font-size: 12px;text-transform: uppercase;\">Explore: \"\"\"\n",
    "    \n",
    "    for item in jurs: \n",
    "        if item[0]==jur[0]:\n",
    "            this_state = item[1]\n",
    "            html += \"%s\"%this_state\n",
    "\n",
    "    html += \"\"\"\n",
    "      </span>&nbsp;&nbsp;\n",
    "      <a href=\"../../list/%s\" class=\"menu\">&nbsp;Lists&nbsp;</a>\n",
    "      <a href=\"../../sim/%s\" class=\"menu\">&nbsp;Similar Forms&nbsp;</a>\n",
    "      <a href=\"../../flow/%s\" class=\"menu\">&nbsp;Flows&nbsp;</a>\n",
    "        </p>\n",
    "    </div>\n",
    "\n",
    "\"\"\"%(jur[0],jur[0],jur[0])\n",
    "    \n",
    "    if jur[0]!=\"CA\":\n",
    "        linkurl = \"https://courtformsonline.org/forms/%s.pdf\"%row[\"id\"]\n",
    "        iframelink = linkurl\n",
    "    else:\n",
    "        linkurl = \"javascript:alert('Califonia machine-processed forms are not yet available.')\"\n",
    "        iframelink = \"https://courtformsonline.org/forms/%s.pdf\"%row[\"id\"]\n",
    "        \n",
    "    html += \"\"\"\n",
    "  <div class=\"content_wide\" style=\"padding-left:0px;\">\n",
    "    <div class=\"pdf\">\n",
    "      <iframe src=\"%s\" width=\"100%%\" height=\"1100px;\"></iframe>\n",
    "    </div>\n",
    "    <div class=\"pdfinfo\">\n",
    "      <h1><a name=\"title\" href=\"#title\" class=\"anchor\"></a>%s</h1>\n",
    "      <p>\n",
    "        This info page is part of the LIT Lab's <i>Form Explorer</i> project. It is not associated with the %s state courts. \n",
    "        To learn more about the project, check out our <a href=\"../../\">about page</a>.\n",
    "      </p>\n",
    "      <p>\n",
    "        <b>Downloads:</b> In order to get the data on this page we scan forms for... You can download both the <a href=\"%s\" target=\"_blank\" class=\"exlink\">original form</a> (last checked on %s) \n",
    "        and the <a href=\"%s\">machine-processed form</a> with normalized data fields.\n",
    "      </p>\n",
    "\n",
    "        <hr style=\"border: 1px solid #fff;border-bottom: 1px solid #555;\">\n",
    "      <h3><a name=\"about_form\" href=\"#about_form\" class=\"anchor\"></a>About This Form:</h3>\n",
    "      <ul>\"\"\"%(iframelink,row[\"title\"],this_state,row[\"url\"],row[\"downloaded\"],linkurl)\n",
    "    \n",
    "    html += \"\"\"\n",
    "        <li>Sourced from <a href=\"http://%s\" target=\"_blank\" class=\"exlink\">%s</a> on %s</li>\n",
    "        <li>Court Grouping: <a href=\"../../list/%s/#%s\">%s</a></li>\n",
    "        <li>Page(s): %s </li>\n",
    "        <li>Fields(s): %s </li>\n",
    "        <li>Average fields per page: %s</li>\n",
    "        <li>Reading Level: Grade %s</li>\n",
    "        <li><a href=\"https://taxonomy.legal/\" target=\"_blank\" class=\"exlink\">LIST</a> Grouping(s): \n",
    "    \"\"\"%(row[\"source\"],row[\"source\"],row[\"downloaded\"],jur[0],removeSpecial(row[\"group\"]),row[\"group\"],clean_n(row[\"pages\"]),clean_n(row[\"pages\"]*row[\"f_per_p\"]),clean_n(row[\"f_per_p\"]),clean_n(row[\"reading\"]))\n",
    "    \n",
    "    if pd.notnull(row[\"list\"]):\n",
    "        j= 0\n",
    "        nsmi = eval(row[\"list\"])\n",
    "        if len(nsmi)>0:\n",
    "            for f in nsmi:\n",
    "                html += \"<a href=\\\"https://taxonomy.legal/term/%s\\\" target=\\\"_blank\\\">%s</a>\"%(f,f)\n",
    "                if j==len(nsmi)-1:\n",
    "                    html+=\". \"\n",
    "                else:\n",
    "                    html+=\", \"\n",
    "                j+=1    \n",
    "        else:\n",
    "            html+=\"Unknow\"\n",
    "    else:\n",
    "            html+=\"Unknow\"\n",
    "            nsmi = []\n",
    "        \n",
    "    html += \"\"\"        \n",
    "        </li>\n",
    "      </ul>\n",
    "      \n",
    "      <hr style=\"border: 1px solid #fff;border-bottom: 1px solid #555;\">\n",
    "      <h3><a name=\"about_users\" href=\"#about_users\" class=\"anchor\"></a>About Users of This Form:<sup>&dagger;</sup></h3>\n",
    "      <p style=\"background:#fcf19d\"><sup>&dagger;</sup> <i>With historical form data we could provde insights on users of this for  \n",
    "      (e.g., filers of this form file an average of <b>X</b> other forms. <b>Y%%</b> of them identify as male...).  \n",
    "      If you work with the court and can help provide historic form data, <a href=\"mailto:litlab@suffolk.edu\">let us know</a>.\n",
    "      </i></p>\n",
    "      \n",
    "      <hr style=\"border: 1px solid #fff;border-bottom: 1px solid #555;\">\n",
    "      <h3><a name=\"fields\" href=\"#fields\" class=\"anchor\"></a>Identified Data Fields and Utilization:<sup>*</sup></h3>\n",
    "      <p>We have done our best to automaticly identify and name form fields according to our <a href=\"https://suffolklitlab.org/docassemble-AssemblyLine-documentation/docs/label_variables/\">naming conventions</a>. \n",
    "      When possible, we've used names tied to our question library. See e.g., <a href=\"https://suffolklitlab.org/docassemble-AssemblyLine-documentation/docs/question_library/names\">user1_name</a>.\n",
    "      If we think we've found a match to a question in our library, it is highlighted in green. New names are auto generated. So, you will probably need to edit some of them.\n",
    "      </p>\n",
    "      \n",
    "      <p style=\"background:#fcf19d\"><sup>*</sup><i> With historical form data we could provde insights on field utilization  \n",
    "      (e.g., <b>X%%</b> of the time this field is left blank...). \n",
    "       If you work with the court and can help provide historic form data, <a href=\"mailto:litlab@suffolk.edu\">let us know</a>.\n",
    "      </i></p>\n",
    "      \n",
    "      <div style=\"float:left;width:100%%;margin-bottom:25px;\">\n",
    "          <div class=\"tab\" style=\"border: 1px solid #fff;border-bottom: 1px solid #555;width:15px;padding:10px 0px;\">&nbsp;</div>\n",
    "          <div class=\"tab\" id=\"tab1\" style=\"border-bottom: 1px solid #fff;\" >\n",
    "              <a href=\"javascript:void('');\" onClick=\"tab_focus('orig_fields');\" class=\"menu\" id=\"atab1\" style=\"color:black;\">Origianl Order</a>\n",
    "          </div>\n",
    "          <div class=\"tab\" style=\"border: 1px solid #fff;border-bottom: 1px solid #555;width:15px;padding:10px 0px;\">&nbsp;</div>\n",
    "          <div class=\"tab\" id=\"tab2\">\n",
    "              <a href=\"javascript:void('');\" onClick=\"tab_focus('sug_screens');\" class=\"menu\" id=\"atab2\">Suggested Screens</a>\n",
    "          </div>\n",
    "          <div class=\"tab\" style=\"border: 1px solid #fff;border-bottom: 1px solid #555;\">\n",
    "              &nbsp;\n",
    "          </div>\n",
    "      </div>\n",
    "      <script>\n",
    "          function tab_focus(tab){\n",
    "              if (tab==\"orig_fields\") {\n",
    "                  $('#sug_screens').hide();\n",
    "                  $('#orig_fields').show();\n",
    "                  $('#tab1').css('border-bottom-color', '#fff;');\n",
    "                  $('#tab2').css('border-bottom-color', '#555;');\n",
    "                  $('#atab1').css('color', 'black');\n",
    "                  $('#atab2').css('color', '#529ecc');\n",
    "              } else {\n",
    "                  $('#orig_fields').hide();\n",
    "                  $('#sug_screens').show();\n",
    "                  $('#tab1').css('border-bottom-color', '#555;');\n",
    "                  $('#tab2').css('border-bottom-color', '#fff;');\n",
    "                  $('#atab1').css('color', '#529ecc');\n",
    "                  $('#atab2').css('color', 'black');\n",
    "              }\n",
    "          }\n",
    "      </script>\n",
    "      \n",
    "      \"\"\"%()\n",
    "    \n",
    "    \n",
    "    try:\n",
    "        \n",
    "        html+=\"<div id=\\\"orig_fields\\\" style=\\\"\\\"><ul>\"\n",
    "        \n",
    "        j = 0\n",
    "        for f in eval(row[\"fields\"]):\n",
    "            html += \"<li>\"\n",
    "            if re.search('^\\*',f):\n",
    "                f = re.sub(\"^\\*\",\"\",f)\n",
    "                f_link = re.sub(\"__\\d+$\",\"\",f)\n",
    "                #v = re.search('^(\\w*)',f).groups()[0]\n",
    "                #f = re.sub(\"\\|\",\"</code></a>\",f)\n",
    "                html +=\"<code style=\\\"background:#a2e874\\\"><a href=\\\"../../list/%s/fields/%s.html\\\">%s</a></code> was <i>%s</i> (%.2f conf)<!--100%% completed. <a href=\\\"\\\">Learn more about distribution of answers.</a>--></li>\"%(jur[0],f_link,f,eval(row[\"fields_old\"])[j],eval(row[\"fields_conf\"])[j])   \n",
    "            else: \n",
    "                #v = re.search('^(\\w*)',f).groups()[0]\n",
    "                #f = re.sub(\"\\|\",\"</code>\",f)\n",
    "                html +=\"<code>%s</code> was <i>%s</i> (%.2f conf)<!--100%% completed. <a href=\\\"\\\">Learn more about distribution of answers.</a>--></li>\"%(f,eval(row[\"fields_old\"])[j],eval(row[\"fields_conf\"])[j])\n",
    "            j+=1    \n",
    "\n",
    "        html+=\"</ul></div>\"\n",
    "        \n",
    "        html+=\"<div id=\\\"sug_screens\\\" style=\\\"display:none;padding-left:15px;\\\"><p>We've done our best to group similar variables together into screens to avoid overwhelming the user.</p>\"     \n",
    "        screens = cluster_screens(eval(row[\"fields\"]),damping=0.5)\n",
    "        i = 0\n",
    "        for screen in screens:\n",
    "            html+=\"<p>Suggested Screen %s:</p><ul>\"%i\n",
    "        \n",
    "            j = 0\n",
    "            for f in screens[screen]:\n",
    "                html += \"<li>\"\n",
    "                if re.search('^\\*',f):\n",
    "                    f = re.sub(\"^\\*\",\"\",f)\n",
    "                    f_link = re.sub(\"__\\d+$\",\"\",f)\n",
    "                    #v = re.search('^(\\w*)',f).groups()[0]\n",
    "                    #f = re.sub(\"\\|\",\"</code></a>\",f)\n",
    "                    html +=\"<code style=\\\"background:#a2e874\\\"><a href=\\\"../../list/%s/fields/%s.html\\\">%s</a></code></li>\"%(jur[0],f_link,f)   \n",
    "                else: \n",
    "                    #v = re.search('^(\\w*)',f).groups()[0]\n",
    "                    #f = re.sub(\"\\|\",\"</code>\",f)\n",
    "                    html +=\"<code>%s</code></li>\"%(f)\n",
    "                j+=1    \n",
    "                \n",
    "            html+=\"</ul>\"\n",
    "            i+=1\n",
    "        html+=\"</div>\"\n",
    "    except:\n",
    "        print(\"\")\n",
    "\n",
    "    if not pd.isnull(row[\"fields\"]):\n",
    "        if len(eval(row[\"fields\"]))==0:\n",
    "            html+=\"<ul><li>No fields found</li></ul>\"\n",
    "    else:\n",
    "            html+=\"<ul><li>No fields found</li></ul>\"\n",
    "        \n",
    "    html += \"\"\"\n",
    "        <hr style=\"border: 1px solid #fff;border-bottom: 1px solid #555;\">\n",
    "        <!--<li><a href=\"../form/\">show more</a></li>-->\n",
    "        \n",
    "\n",
    "      </ul>\"\"\"\n",
    "    \n",
    "    sim_forms = files_sim_df[files_sim_df[\"id_1\"]==row[\"id\"]].sort_values(by=['similarity'], ascending=False)[:5]\n",
    "    \n",
    "    html+=\"\"\"      <h3><a name=\"similar\" href=\"#similar\" class=\"anchor\"></a>Similar Forms:</h3>\n",
    "      <p>For more context, visit the <a href=\"../../sim/%s\">Similar Forms View</a>.</p>\n",
    "      <ul>\"\"\"%jur[0]\n",
    "\n",
    "    for index_2,row_2 in sim_forms.iterrows():\n",
    "        html+=\"<li><a href=\\\"%s.html\\\">%s</a> (shares %s%% of data fields)</li>\"%(row_2[\"id_2\"],row_2[\"title_2\"],clean_n(row_2[\"similarity\"]*100))\n",
    "\n",
    "    if len(sim_forms)==0:\n",
    "        html+=\"<li>No matches found</li>\"\n",
    "        \n",
    "    html+=\"\"\"</ul>\n",
    "      <!--\n",
    "      <li><a href=\"../form/\">show more</a></li>-->\"\"\"\n",
    "        \n",
    "    html += \"\"\"\n",
    "      \n",
    "      <hr style=\"border: 1px solid #fff;border-bottom: 1px solid #555;\">\n",
    "      <h3><a name=\"before\" href=\"#before\" class=\"anchor\"></a>Before using this form, users used:<sup>&dagger;&dagger;</sup></h3>\n",
    "      <p>For more context, visit the <a href=\"../../flow/%s\">Flows View</a>.</p>\n",
    "       <p style=\"background:#fcf19d\"><sup>&dagger;&dagger;</sup><i> With historical form data we could provde insights on \n",
    "       what forms a user used before this one. \n",
    "       If you work with the court and can help provide historic form data, <a href=\"mailto:litlab@suffolk.edu\">let us know</a>.\n",
    "      </i></p>\n",
    "      \n",
    "      <hr style=\"border: 1px solid #fff;border-bottom: 1px solid #555;\">\n",
    "      <h3><a name=\"after\" href=\"#after\" class=\"anchor\"></a>After using this form, users used:<sup>**</sup></h3>\n",
    "      <p>For more context, visit the <a href=\"../../flow/%s\">Flows View</a>.</p>\n",
    "      <p style=\"background:#fcf19d\"><sup>**</sup><i> With historical form data we could provde insights on \n",
    "      what forms a user used after this one. \n",
    "      If you work with the court and can help provide historic form data, <a href=\"mailto:litlab@suffolk.edu\">let us know</a>.\n",
    "      </i></p>\n",
    "      \n",
    "      <hr style=\"border: 1px solid #fff;border-bottom: 1px solid #555;\">\n",
    "      <h3><a name=\"linter\" href=\"#linter\" class=\"anchor\"></a>See Suggestions for Improving this Form:</h3>\n",
    "      <p>Using the Document Assembly Line Linter you can...</p>\n",
    "      <p>\n",
    "        <a href=\"javascript:alert('Coming Soon!');\">Run this form through the Linter</a>\n",
    "      </p>\n",
    "      \n",
    "      <hr style=\"border: 1px solid #fff;border-bottom: 1px solid #555;\">\n",
    "      <h3><a name=\"weaver\" href=\"#weaver\" class=\"anchor\"></a>Create an Interactive Version of this Form:</h3>\n",
    "      <p>\n",
    "      The Weaver creates a draft guided interview from a template form, like the one provided here. You can use the link below to open this form in the Weaver.\n",
    "      To learn more, read <a href=\"https://suffolklitlab.org/docassemble-AssemblyLine-documentation/docs/generating_code/\">\"Weaving\" your form into a draft interview</a>.\n",
    "      </p>\"\"\"%(jur[0],jur[0])\n",
    "    \n",
    "    if jur[0]!=\"CA\":\n",
    "        \n",
    "        linkline = \"https://apps-dev.suffolklitlab.org/start/ALWeaver/assembly_line?new_session=1&form_to_use=https://courtformsonline.org/forms/%s.pdf\"%row[\"id\"] + \"&title=\" + urllib.parse.quote_plus(row[\"title\"].strip()) + \"&jur=%s\"%jur[0] + \"&nsmi=\" + str(nsmi)\n",
    "        \n",
    "        html+=\"\"\"\n",
    "      <p>\n",
    "        <a href=\"%s\" target=\"_blank\" class=\"launch\"><div class=\"launch\">Launch Form in Weaver</div></a>\n",
    "      </p>\n",
    "      \"\"\"%(linkline)\n",
    "    else:\n",
    "        html+=\"\"\"\n",
    "      <p>\n",
    "        <a href=\"javascript:alert('Not available for California Forms at this time.')\" class=\"launch\"><div class=\"launch\">Launch Form in Weaver</div></a>\n",
    "      </p>\n",
    "      \"\"\"\n",
    "            \n",
    "    html+=\"\"\"\n",
    "    </div>\n",
    "  </div>\n",
    "    \"\"\"\n",
    "    return html"
   ]
  },
  {
   "cell_type": "code",
   "execution_count": null,
   "metadata": {
    "scrolled": true
   },
   "outputs": [
    {
     "name": "stdout",
     "output_type": "stream",
     "text": [
      "UT Community Service Worksheet Third District Juvenile Court  \n",
      "UT Third District Juvenile Court Work Program Referral \n",
      "UT Utah State District Juvenile Court Probation Order \n",
      "UT Adoptee's Consent to Adoption and Waiver of Rights \n",
      "UT Adoption Agreement \n",
      "UT Adoption Decree \n",
      "UT Birth Mother's Consent to Adoption and Waiver of Rights \n",
      "UT Certificate of Readiness for Adoption Hearing \n",
      "UT Ex Parte Motion for Alternative Service \n",
      "UT Findings of Fact and Conclusions of Law \n",
      "UT Findings of Fact, Conclusions of Law, and Order on Motion for Alternative Service \n",
      "UT Guardian's Consent to Adoption and Waiver of Notice \n",
      "UT Non-custodial Father's Consent to Adoption and Waiver of Rights \n",
      "UT Notice of Adoption and Notice of Rights for Publication \n",
      "UT Notice of Petition to Adopt and Notice of Rights \n",
      "UT Notice of Petition to Adopt and Notice of Rights \n",
      "UT Petition to Adopt a Minor Stepchild \n",
      "UT Proof of Alternative Service \n",
      "UT Proof of Completed Service \n",
      "UT Request to Submit for Decision \n",
      "UT Utah District Court Cover Sheet for Probate Actions \n",
      "UT Waiver of Rights \n",
      "UT Adoption Decree \n",
      "UT Agreement of Adoption of Adult \n",
      "UT Consent to Adoption and Waiver of Notice by Petitioner's Spouse  \n",
      "UT Consent to Adoption by Adult Adoptee  \n",
      "UT Findings of Fact and Conclusions of Law  \n",
      "UT Notice of Adult Adoption \n",
      "UT Notice of Hearing on Petition to Adopt an Adult \n",
      "UT Request for Hearing on Petition to Adopt an Adult  \n",
      "UT Verified Joint Petition for Adoption of an Adult \n",
      "UT Verified Petition for Adoption of an Adult \n",
      "UT Waiver of Notice of Adoption by Adult Adoptee's Spouse  \n",
      "UT Answer \n",
      "UT Counterclaim \n",
      "UT Debt collection answer \n",
      "UT Defendant's Answer to Unlawful Detainer \n",
      "UT Notice of Removal from District Court \n",
      "UT Notice of Removal to Justice Court \n",
      "UT Utah District Court Cover Sheet for All Civil Actions Except Probate Cases \n",
      "UT Answers to Request for Admissions \n",
      "UT Certificate of Service \n",
      "UT Notice of Hearing \n"
     ]
    },
    {
     "name": "stderr",
     "output_type": "stream",
     "text": [
      "/Users/davidcolarusso/opt/anaconda3/lib/python3.8/site-packages/sklearn/cluster/_affinity_propagation.py:246: ConvergenceWarning: Affinity propagation did not converge, this model will not have any cluster centers.\n",
      "  warnings.warn(\"Affinity propagation did not converge, this model \"\n",
      "/Users/davidcolarusso/opt/anaconda3/lib/python3.8/site-packages/sklearn/cluster/_affinity_propagation.py:460: ConvergenceWarning: This model does not have any cluster centers because affinity propagation did not converge. Labeling every sample as '-1'.\n",
      "  warnings.warn(\"This model does not have any cluster centers \"\n"
     ]
    },
    {
     "name": "stdout",
     "output_type": "stream",
     "text": [
      "UT Order \n",
      "UT Petition for Judicial Review of Final Agency Action \n",
      "UT Summons \n",
      "UT Summons \n",
      "UT Verified Petition Against Substantiation in DCFS Licensing Database \n",
      "UT Affidavit and Application for Waiver of Court Fees \n",
      "UT Certificate of Service \n",
      "UT Certificate That Transcript is Not Being Requested \n",
      "UT Counsel's Certification of Diligent Search \n",
      "UT Declaration of Inmate Filing \n",
      "UT Docketing Statement - Agency Review \n",
      "UT Docketing Statement - Civil Case \n",
      "UT Docketing Statement - Criminal Case \n",
      "UT Motion for Extension of Time in the Appellate Court \n",
      "UT Notice of Appeal \n",
      "UT Notice of Appeal - Petition for Waiver of Parental Consent to Minor's Abortion \n",
      "UT Notice of Appeal From Justice Court \n",
      "UT Notice of Appeal [Cross-Appeal] in Child Welfare Proceedings \n",
      "UT Notice of Appeal–Small Claims Case \n",
      "UT Notice of Oral Argument on Appeal \n",
      "UT Petition for Review \n",
      "UT Petition on Appeal [Cross Appeal] \n",
      "UT Request for Transcript \n",
      "UT Request for Transcript \n",
      "UT Response to Court's Motion for Summary Disposition \n",
      "UT Response to Petition on Appeal [Cross-Appeal] \n",
      "UT Application for temporary restraining order \n"
     ]
    },
    {
     "name": "stderr",
     "output_type": "stream",
     "text": [
      "/Users/davidcolarusso/opt/anaconda3/lib/python3.8/site-packages/sklearn/cluster/_affinity_propagation.py:246: ConvergenceWarning: Affinity propagation did not converge, this model will not have any cluster centers.\n",
      "  warnings.warn(\"Affinity propagation did not converge, this model \"\n",
      "/Users/davidcolarusso/opt/anaconda3/lib/python3.8/site-packages/sklearn/cluster/_affinity_propagation.py:460: ConvergenceWarning: This model does not have any cluster centers because affinity propagation did not converge. Labeling every sample as '-1'.\n",
      "  warnings.warn(\"This model does not have any cluster centers \"\n"
     ]
    },
    {
     "name": "stdout",
     "output_type": "stream",
     "text": [
      "UT Order on application for temporary restraining order \n",
      "UT Writ of assistance to remove children \n",
      "UT Motion to Voluntarily Dismiss Case, Counterclaim, Crossclaim or Third-party Claim \n",
      "UT Notice of Voluntary Dismissal \n",
      "UT Objection to Form of Order or Judgment \n",
      "UT Order on Motion to Voluntarily Dismiss Case, Counterclaim, Crossclaim or Third-party Claim \n",
      "UT Stipulation of voluntary dismissal \n",
      "UT Attachment B – Scheduling Terms and Conditions \n",
      "UT Request to Schedule a Court Reporter \n",
      "UT Request to Schedule a Court Reporter \n",
      "UT Notice of Personal Appearance or of Counsel's or Licensed Paralegal Practitioner's Appearance \n",
      "UT Notice of Withdrawal of Counsel \n",
      "UT Notice to Appear or to Appoint Counsel \n",
      "UT Substitution of Counsel \n",
      "UT Child Protective Order \n",
      "UT Ex Parte Child Protective Order \n",
      "UT Motion - juvenile court \n",
      "UT Notice of Denial of Ex Parte Child Protective Order \n",
      "UT Order to Transfer Child Protective Order to District Court \n",
      "UT Order Vacating Child Protective Order \n",
      "UT Request for and Notice of Hearing on Denied Ex Parte Child Protective Order \n",
      "UT Request to Vacate Child Protective Order \n",
      "UT Verified Petition for Ex Parte Child Protective Order \n",
      "UT Child support obligation worksheet \n",
      "UT Child support obligation worksheet \n",
      "UT Child support obligation worksheet \n",
      "UT Declaration of other parent's earnings \n",
      "UT Worksheet to determine father's obligation in his present home \n",
      "UT Worksheet to determine mother's obligation in her present home \n",
      "UT Notice of Appeal in Child Welfare Proceedings \n",
      "UT Notice of Rights and Responsibilities \n",
      "UT Notice of Rights and Responsibilities \n",
      "UT Notice of Rights and Responsibilities \n",
      "UT Agreement to Mediate \n",
      "UT Civil Stalking Injuction \n",
      "UT Denial of Civil Stalking Injunction  \n",
      "UT Notice of Hearing on Civil Stalking Injunction \n",
      "UT Order on Request Dismissing Stalking Injunction  \n",
      "UT Request for Civil Stalking Injunction \n",
      "UT Request for Hearing on Civil Stalking Injunction \n",
      "UT Request to Dismiss Civil Stalking Injunction  \n",
      "UT Service Assistance Form \n",
      "UT Temporary Civil Stalking Injunction \n",
      "UT Co-Parenting Mediation Program Income Survey \n",
      "UT Co-Parenting Mediation Program Income Survey \n",
      "UT Co-Parenting Mediation Program Referral Form \n",
      "UT Co-Parenting Mediation Program Referral Form \n",
      "UT Co-Parenting Mediation Program Screening Intake Form \n",
      "UT Co-Parenting Mediation Program Screening Intake Form \n",
      "UT Motion to Dismiss \n",
      "UT Acceptance of Appointment \n",
      "UT Accounting of Minor’s Estate \n",
      "UT Certification of Readiness for Trial - Probate Case \n",
      "UT Findings of Fact and Conclusions of Law on Petition to Appoint a Conservator for the Minor \n",
      "UT Inventory of Minor’s Estate \n",
      "UT Letter of Conservatorship \n",
      "UT Motion to Change Reporting Period \n",
      "UT Motion to Change Venue \n",
      "UT Motion to Terminate \n",
      "UT Notice of Hearing \n",
      "UT Notice of Order \n",
      "UT Notice of Right to Object \n",
      "UT Notice of Right to Object to Motion to Change Reporting Period \n",
      "UT Notice of Right to Object to Motion to Change Venue \n",
      "UT Notice of Right to Object to Motion to Terminate the Guardianship and/or Conservatorship  \n",
      "UT Objection to Petition to Appoint a Guardian or Conservator for a Minor \n",
      "UT Order Appointing Conservator for a Minor \n",
      "UT Order on Motion to Change Reporting Period \n",
      "UT Order on Motion to Change Venue \n",
      "UT Order on Motion to Terminate \n",
      "UT Petition to Appoint a Conservator for a Minor \n",
      "UT Request for Notice under Section 75-5-406 \n",
      "UT Request to Submit for Decision – Probate Case \n",
      "UT Schedule A, Financial Assets \n",
      "UT Schedule A—people who must be served with the notice of hearing \n",
      "UT Schedule B, Personal Property \n",
      "UT Schedule C, Real Property \n",
      "UT Schedule D, Business Interests \n",
      "UT Schedule E, Debts \n",
      "UT Schedule F, Credit Cards \n",
      "UT Trial Issues \n",
      "UT Witness Affidavit \n",
      "UT Request to Assign a Court Visitor \n",
      "UT Custody Evaluation Settlement Conference Report \n",
      "UT Table of Contents Child Custody Evaluation \n",
      "UT Default Certificate \n",
      "UT Military Service Declaration \n",
      "UT Military Service Order \n",
      "UT Motion for Default Judgment \n",
      "UT Notice of judgment \n",
      "UT Acceptance of Service, Appearance, Consent, and Waiver \n",
      "UT Certification of readiness for trial \n",
      "UT Declaration of jurisdiction and grounds for divorce \n",
      "UT Income verification and compliance with child support guidelines \n",
      "UT Respondent's Declaration of Military Service \n",
      "UT State of Utah - Department of Health Certificate of Divorce, Dissolution of Marriage, or Annulment \n",
      "UT Trial issues - domestic cases \n",
      "UT Application to Excuse Mandatory Divorce Mediation \n",
      "UT Divorce Mediation Income Survey \n",
      "UT Domestic relations injunction  \n"
     ]
    },
    {
     "name": "stderr",
     "output_type": "stream",
     "text": [
      "/Users/davidcolarusso/opt/anaconda3/lib/python3.8/site-packages/sklearn/cluster/_affinity_propagation.py:246: ConvergenceWarning: Affinity propagation did not converge, this model will not have any cluster centers.\n",
      "  warnings.warn(\"Affinity propagation did not converge, this model \"\n",
      "/Users/davidcolarusso/opt/anaconda3/lib/python3.8/site-packages/sklearn/cluster/_affinity_propagation.py:460: ConvergenceWarning: This model does not have any cluster centers because affinity propagation did not converge. Labeling every sample as '-1'.\n",
      "  warnings.warn(\"This model does not have any cluster centers \"\n"
     ]
    },
    {
     "name": "stdout",
     "output_type": "stream",
     "text": [
      "UT Declaration of Income and Expenses \n",
      "UT Notice of Petition for Emancipation of a Minor \n",
      "UT Order Appointing Guardian ad Litem \n",
      "UT Order on Petition for Declaration of Emancipation of a Minor \n",
      "UT Petition for Declaration of Emancipation of a Minor \n",
      "UT Utah Juvenile Court Petition Cover Sheet  \n",
      "UT Motion to Terminate Guardianship or Conservatorship \n",
      "UT Notice of Right to Object to Motion to Terminate Guardianship and/or Conservatorship \n",
      "UT Order on Motion to Terminate Guardianship or Conservatorship \n",
      "UT Fifteen day notice to vacate \n",
      "UT Five day notice to a tenant at will \n",
      "UT Notice to defendant of disclosure requirements in unlawful detainer actions \n",
      "UT Order of Restitution \n"
     ]
    },
    {
     "name": "stderr",
     "output_type": "stream",
     "text": [
      "/Users/davidcolarusso/opt/anaconda3/lib/python3.8/site-packages/sklearn/cluster/_affinity_propagation.py:246: ConvergenceWarning: Affinity propagation did not converge, this model will not have any cluster centers.\n",
      "  warnings.warn(\"Affinity propagation did not converge, this model \"\n",
      "/Users/davidcolarusso/opt/anaconda3/lib/python3.8/site-packages/sklearn/cluster/_affinity_propagation.py:460: ConvergenceWarning: This model does not have any cluster centers because affinity propagation did not converge. Labeling every sample as '-1'.\n",
      "  warnings.warn(\"This model does not have any cluster centers \"\n"
     ]
    },
    {
     "name": "stdout",
     "output_type": "stream",
     "text": [
      "UT Request for Hearing Regarding Enforcement of an Order of Restitution \n",
      "UT Three day notice to comply with lease or vacate \n",
      "UT Three day notice to pay or to vacate \n",
      "UT Three day notice to vacate for assigning or subletting contrary to rental contract \n",
      "UT Three day notice to vacate for committing criminal act on the premises \n",
      "UT Three day notice to vacate for committing waste on premises \n",
      "UT Three day notice to vacate for criminal nuisance \n",
      "UT Three day notice to vacate for engaging in unlawful business on or in the premises \n",
      "UT Three day notice to vacate for lease violation which cannot be brought into compliance \n",
      "UT Three day notice to vacate for non-criminal nuisance \n",
      "UT Acceptance of Service – Expungement \n",
      "UT Consent and Waiver of Hearing – Expungement \n",
      "UT Notice of Hearing – Expungement \n",
      "UT Order on Petition to Expunge Records \n",
      "UT Order on Petition to Expunge Records \n",
      "UT Order on Petition to Expunge Records \n",
      "UT Order on Petition to Expunge Records \n",
      "UT Order on Petition to Expunge Records \n",
      "UT Order on Petition to Expunge Records \n",
      "UT Petition to Expunge Records \n",
      "UT Petition to Expunge Records \n",
      "UT Petition to Expunge Records \n",
      "UT Petition to Expunge Records \n",
      "UT Petition to Expunge Records \n",
      "UT Petition to Expunge Records \n",
      "UT Reply to Victim’s Statement or Prosecutor’s Statement or AP&P Response \n",
      "UT Request for Response by Adult Probation and Parole \n",
      "UT Response by Adult Probation and Parole \n",
      "UT Victim's Statement and/or Prosecutor's Statement \n",
      "UT Petition to Expunge Juvenile Court Records \n",
      "UT Petition to Expunge Juvenile Court Records \n",
      "UT Financial Statement Supporting Motion to Waive Fees \n",
      "UT Memorandum demonstrating inability to pay fees \n",
      "UT Motion and Statement to Waive Fees \n",
      "UT Motion to waive fees and statement supporting motion \n"
     ]
    },
    {
     "name": "stderr",
     "output_type": "stream",
     "text": [
      "/Users/davidcolarusso/opt/anaconda3/lib/python3.8/site-packages/sklearn/cluster/_affinity_propagation.py:246: ConvergenceWarning: Affinity propagation did not converge, this model will not have any cluster centers.\n",
      "  warnings.warn(\"Affinity propagation did not converge, this model \"\n",
      "/Users/davidcolarusso/opt/anaconda3/lib/python3.8/site-packages/sklearn/cluster/_affinity_propagation.py:460: ConvergenceWarning: This model does not have any cluster centers because affinity propagation did not converge. Labeling every sample as '-1'.\n",
      "  warnings.warn(\"This model does not have any cluster centers \"\n"
     ]
    },
    {
     "name": "stdout",
     "output_type": "stream",
     "text": [
      "UT Order on motion to waive fees \n",
      "UT Order on Motion to Waive Fees \n",
      "UT Order on motion to waive fees - inmates \n",
      "UT Certificate of service of financial declaration \n",
      "UT Financial declaration \n",
      "UT Notice of Disclosure Requirements in Domestic Relations Cases \n",
      "UT Financial Declaration for Restitution \n",
      "UT Conservator Exam  \n",
      "UT Declaration of Completion of Testing \n",
      "UT Guardian Who is Also a Conservator Exam  \n",
      "UT Guardian with No Conservator Exam  \n",
      "UT Guardian with Separate Conservator Exam  \n",
      "UT Private Information Record in Guardianship and Conservatorship cases \n",
      "UT Authorization to Release Bar Applicant Status and Supervising Attorney’s Agreement to Comply with Rule \n",
      "UT Certificate of Eligibility and Permission to Participate in Court Proceedings \n",
      "UT Instructions to the physician preparing the report on clinical evaluation \n",
      "\n",
      "UT Invoice for fees and costs \n"
     ]
    },
    {
     "name": "stderr",
     "output_type": "stream",
     "text": [
      "/Users/davidcolarusso/opt/anaconda3/lib/python3.8/site-packages/sklearn/cluster/_affinity_propagation.py:246: ConvergenceWarning: Affinity propagation did not converge, this model will not have any cluster centers.\n",
      "  warnings.warn(\"Affinity propagation did not converge, this model \"\n",
      "/Users/davidcolarusso/opt/anaconda3/lib/python3.8/site-packages/sklearn/cluster/_affinity_propagation.py:460: ConvergenceWarning: This model does not have any cluster centers because affinity propagation did not converge. Labeling every sample as '-1'.\n",
      "  warnings.warn(\"This model does not have any cluster centers \"\n"
     ]
    },
    {
     "name": "stdout",
     "output_type": "stream",
     "text": [
      "UT Notice of Appearance of Counsel \n",
      "UT Notice of Withdrawal of Counsel \n"
     ]
    },
    {
     "name": "stderr",
     "output_type": "stream",
     "text": [
      "/Users/davidcolarusso/opt/anaconda3/lib/python3.8/site-packages/sklearn/cluster/_affinity_propagation.py:246: ConvergenceWarning: Affinity propagation did not converge, this model will not have any cluster centers.\n",
      "  warnings.warn(\"Affinity propagation did not converge, this model \"\n",
      "/Users/davidcolarusso/opt/anaconda3/lib/python3.8/site-packages/sklearn/cluster/_affinity_propagation.py:460: ConvergenceWarning: This model does not have any cluster centers because affinity propagation did not converge. Labeling every sample as '-1'.\n",
      "  warnings.warn(\"This model does not have any cluster centers \"\n"
     ]
    },
    {
     "name": "stdout",
     "output_type": "stream",
     "text": [
      "UT Objection to Petition to Appoint a Guardian or Conservator for an Adult \n",
      "UT Report on Clinical Evaluation  \n",
      "UT Request for Order to Examine Respondent \n",
      "UT Request to Appoint an Attorney to Represent the Respondent \n"
     ]
    },
    {
     "name": "stderr",
     "output_type": "stream",
     "text": [
      "/Users/davidcolarusso/opt/anaconda3/lib/python3.8/site-packages/sklearn/cluster/_affinity_propagation.py:246: ConvergenceWarning: Affinity propagation did not converge, this model will not have any cluster centers.\n",
      "  warnings.warn(\"Affinity propagation did not converge, this model \"\n",
      "/Users/davidcolarusso/opt/anaconda3/lib/python3.8/site-packages/sklearn/cluster/_affinity_propagation.py:460: ConvergenceWarning: This model does not have any cluster centers because affinity propagation did not converge. Labeling every sample as '-1'.\n",
      "  warnings.warn(\"This model does not have any cluster centers \"\n"
     ]
    },
    {
     "name": "stdout",
     "output_type": "stream",
     "text": [
      "UT Application for writ of garnishment \n",
      "UT Ex Parte Verified Motion to enforce writ of garnishment \n",
      "UT Ex Parte Verified Motion to Enforce Writ of Garnishment - Commissioner \n",
      "UT Garnishee's answers to interrogatories for earnings \n",
      "UT Garnishee's answers to interrogatories for property other than earnings \n",
      "UT Judgment Information Statement \n",
      "UT Notice of garnishment and exemptions \n",
      "UT Order on Motion to Enforce Writ of Garnishment \n",
      "UT Order to Attend  Hearing - Garnishee \n",
      "UT Reply and request for hearing \n",
      "UT Request for verification of employment \n",
      "UT Response to request for verification of employment \n",
      "UT Writ of continuing garnishment and instructions \n",
      "UT Writ of garnishment and instructions \n",
      "UT Court Interpreter Program - Formal Complaint Form \n",
      "UT Programa de Intérpretes Judiciales - Formulario Oficial de Quejas \n",
      "UT Abstract of judgment  \n",
      "UT Memorandum Opposing Motion \n",
      "UT Motion for Temporary Order - no children \n",
      "UT Motion for Temporary Order - with children \n",
      "UT Order on Motion for Temporary Order - no children \n",
      "UT Order on Motion for Temporary Order - with children \n",
      "UT Reply Memorandum Supporting Motion \n",
      "UT Request to Submit for Decision \n",
      "UT Stipulation to Motion \n",
      "UT Answers to questions about debtor's property \n",
      "UT Bench warrant \n",
      "UT Certificate of Service of Answers to Questions About Judgment Debtor's Property \n",
      "UT Ex parte motion for hearing to identify debtor's property  \n",
      "UT Ex Parte Verified Motion to Enforce Order and Request for Finding of Contempt or Bench Warrant \n",
      "UT Order for Debtor to Attend Hearing to Identify Judgment Debtor's Property \n",
      "UT Order to appear and explain failure to comply with Order \n",
      "UT Acceptance of Appointment as Personal Representative  \n",
      "UT Affidavit for Collecting Personal Property in a Small Estate Proceeding \n",
      "UT Announcement of Appointment and Notice to Creditors \n",
      "UT Application for Informal Probate of Will and Appointment of Personal Representative \n",
      "UT Application for Informal Probate When There is No Will and Informal Appointment of Personal Representative \n",
      "UT Certificate of Service - Probate Cases \n",
      "UT Letters of Administration \n",
      "UT Letters Testamentary \n",
      "UT Objection to Appointment of Personal Representative and Request for Hearing \n",
      "UT Renunciation or Nomination  \n",
      "UT Statement of Informal Probate of Will and Appointment of Personal Representative  \n",
      "UT Statement of Informal Probate When There is No Will and Appointment of Personal Representative  \n",
      "UT Waiver of Notice  \n",
      "UT Consent to Informal Trial and Waiver of Rules of Evidence \n",
      "UT Stipulated Motion for Informal Trial \n",
      "UT Certificate of service of initial disclosures \n",
      "UT Initial disclosures \n",
      "UT Findings of Fact and Conclusions of Law on Petition to Recognize a Relationship as a Marriage \n",
      "UT Notice of Judgment \n",
      "UT Order on Petition to Recognize a Relationship as a Marriage \n",
      "UT Petition to Recognize a Relationship as a Marriage \n",
      "UT Request to Submit for Decision \n",
      "UT Stipulation to Enter Judgment \n",
      "UT Declaration of Financial Status \n",
      "UT Declaration of Financial Status  \n",
      "UT Motion for a Copy of the Record of the Proceeding of a Child Welfare Matter \n",
      "UT Findings of Fact, Conclusions of Law and Order on Motion to Vacate Stay \n",
      "UT Findings of Fact, Conclusions of Law, and Order on Motion for Stay \n",
      "UT Letter Supporting Stay of Civil Case \n",
      "UT Memorandum Opposing Motion for Stay \n",
      "UT Memorandum Opposing Motion to Vacate Stay \n",
      "UT Motion for Stay under the Servicemembers Civil Relief Act \n",
      "UT Motion to Vacate Stay \n",
      "UT Reply Memorandum Supporting Motion for Stay \n",
      "UT Reply Memorandum Supporting Motion to Vacate Stay \n",
      "UT Waiver of Rights under the Servicemembers Civil Relief Act \n",
      "UT Motion to waive education requirements \n",
      "UT Notice of education requirements \n",
      "UT Order on motion to waive education requirements \n",
      "UT Affidavit with Exhibits \n",
      "UT Counter Motion \n",
      "UT Exhibit Summary \n",
      "UT Findings of fact and conclusions of law on petition to modify child support \n",
      "UT Motion or stipulated motion to adjust child support \n",
      "UT Motion or stipulated motion to adjust child support - Commissioner \n"
     ]
    },
    {
     "name": "stderr",
     "output_type": "stream",
     "text": [
      "/Users/davidcolarusso/opt/anaconda3/lib/python3.8/site-packages/sklearn/cluster/_affinity_propagation.py:246: ConvergenceWarning: Affinity propagation did not converge, this model will not have any cluster centers.\n",
      "  warnings.warn(\"Affinity propagation did not converge, this model \"\n",
      "/Users/davidcolarusso/opt/anaconda3/lib/python3.8/site-packages/sklearn/cluster/_affinity_propagation.py:460: ConvergenceWarning: This model does not have any cluster centers because affinity propagation did not converge. Labeling every sample as '-1'.\n",
      "  warnings.warn(\"This model does not have any cluster centers \"\n"
     ]
    },
    {
     "name": "stdout",
     "output_type": "stream",
     "text": [
      "UT Nonpublic information - minor \n",
      "UT Nonpublic information - parent identification and location \n",
      "UT Nonpublic information - safeguarded contact information \n",
      "UT Notice of modification \n",
      "UT Order on motion to adjust child support \n",
      "UT Order on petition to modify child support \n"
     ]
    },
    {
     "name": "stderr",
     "output_type": "stream",
     "text": [
      "/Users/davidcolarusso/opt/anaconda3/lib/python3.8/site-packages/sklearn/cluster/_affinity_propagation.py:246: ConvergenceWarning: Affinity propagation did not converge, this model will not have any cluster centers.\n",
      "  warnings.warn(\"Affinity propagation did not converge, this model \"\n",
      "/Users/davidcolarusso/opt/anaconda3/lib/python3.8/site-packages/sklearn/cluster/_affinity_propagation.py:460: ConvergenceWarning: This model does not have any cluster centers because affinity propagation did not converge. Labeling every sample as '-1'.\n",
      "  warnings.warn(\"This model does not have any cluster centers \"\n"
     ]
    },
    {
     "name": "stdout",
     "output_type": "stream",
     "text": [
      "UT Petition and stipulation to modify child support \n",
      "UT Request to Join the Office of Recovery Services \n",
      "UT Findings of fact and conclusions of law on petition to modify child custody, parent-time and child support \n"
     ]
    },
    {
     "name": "stderr",
     "output_type": "stream",
     "text": [
      "/Users/davidcolarusso/opt/anaconda3/lib/python3.8/site-packages/sklearn/cluster/_affinity_propagation.py:246: ConvergenceWarning: Affinity propagation did not converge, this model will not have any cluster centers.\n",
      "  warnings.warn(\"Affinity propagation did not converge, this model \"\n",
      "/Users/davidcolarusso/opt/anaconda3/lib/python3.8/site-packages/sklearn/cluster/_affinity_propagation.py:460: ConvergenceWarning: This model does not have any cluster centers because affinity propagation did not converge. Labeling every sample as '-1'.\n",
      "  warnings.warn(\"This model does not have any cluster centers \"\n"
     ]
    },
    {
     "name": "stdout",
     "output_type": "stream",
     "text": [
      "UT Order on petition to modify child custody, parent-time and child support \n"
     ]
    },
    {
     "name": "stderr",
     "output_type": "stream",
     "text": [
      "/Users/davidcolarusso/opt/anaconda3/lib/python3.8/site-packages/sklearn/cluster/_affinity_propagation.py:246: ConvergenceWarning: Affinity propagation did not converge, this model will not have any cluster centers.\n",
      "  warnings.warn(\"Affinity propagation did not converge, this model \"\n",
      "/Users/davidcolarusso/opt/anaconda3/lib/python3.8/site-packages/sklearn/cluster/_affinity_propagation.py:460: ConvergenceWarning: This model does not have any cluster centers because affinity propagation did not converge. Labeling every sample as '-1'.\n",
      "  warnings.warn(\"This model does not have any cluster centers \"\n"
     ]
    },
    {
     "name": "stdout",
     "output_type": "stream",
     "text": [
      "UT Petition and stipulation to modify child custody, parent-time and child support \n",
      "UT Findings of Fact and Conclusions of Law on Petition to Modify Parent-time \n"
     ]
    },
    {
     "name": "stderr",
     "output_type": "stream",
     "text": [
      "/Users/davidcolarusso/opt/anaconda3/lib/python3.8/site-packages/sklearn/cluster/_affinity_propagation.py:246: ConvergenceWarning: Affinity propagation did not converge, this model will not have any cluster centers.\n",
      "  warnings.warn(\"Affinity propagation did not converge, this model \"\n",
      "/Users/davidcolarusso/opt/anaconda3/lib/python3.8/site-packages/sklearn/cluster/_affinity_propagation.py:460: ConvergenceWarning: This model does not have any cluster centers because affinity propagation did not converge. Labeling every sample as '-1'.\n",
      "  warnings.warn(\"This model does not have any cluster centers \"\n"
     ]
    },
    {
     "name": "stdout",
     "output_type": "stream",
     "text": [
      "UT Order on Petition to Modify Child Parent-time \n"
     ]
    },
    {
     "name": "stderr",
     "output_type": "stream",
     "text": [
      "/Users/davidcolarusso/opt/anaconda3/lib/python3.8/site-packages/sklearn/cluster/_affinity_propagation.py:246: ConvergenceWarning: Affinity propagation did not converge, this model will not have any cluster centers.\n",
      "  warnings.warn(\"Affinity propagation did not converge, this model \"\n",
      "/Users/davidcolarusso/opt/anaconda3/lib/python3.8/site-packages/sklearn/cluster/_affinity_propagation.py:460: ConvergenceWarning: This model does not have any cluster centers because affinity propagation did not converge. Labeling every sample as '-1'.\n",
      "  warnings.warn(\"This model does not have any cluster centers \"\n"
     ]
    },
    {
     "name": "stdout",
     "output_type": "stream",
     "text": [
      "UT Petition and stipulation to modify parent-time \n",
      "UT Ex Parte Motion for Alternative Service \n",
      "UT Order on Ex Parte Motion for Alternative Service \n",
      "UT Proof of Alternative Service \n",
      "UT Summons for Publication \n",
      "UT Motion for genetic testing \n",
      "UT Motion for summary judgment to declare non-parentage after genetic testing \n",
      "UT Motion for Summary Judgment to Declare Non-Parentage After Genetic Testing - Commissioner \n",
      "UT Order granting motion for summary judgment on non-parentage \n",
      "UT Order on motion for genetic testing \n",
      "UT Statement Supporting Motion \n",
      "UT Stipulated Motion \n",
      "UT Motion for Temporary Order Due to Deployment \n",
      "UT Order on Motion for Temporary Order Due to Deployment \n",
      "UT Motion to appear remotely - district and justice \n",
      "UT Motion to appear remotely - juvenile \n",
      "UT Order on motion to appear remotely - district and justice \n",
      "UT Motion to change venue \n",
      "UT Order on motion to change venue \n",
      "UT Motion to continue hearing or trial \n",
      "UT Order on motion to continue hearing or trial \n",
      "UT Motion to Correct Clerical Mistake \n",
      "UT Order on motion to correct clerical mistake \n",
      "UT Motion to delay \n",
      "UT Order on motion to delay enforcement of judgment \n",
      "UT Ex Parte Verified Motion to Enforce Domestic Order and for Sanctions \n",
      "UT Ex Parte Verified Motion to Enforce Domestic Order and for Sanctions - Commissioner \n",
      "UT Ex Parte Verified Motion to Enforce Order and for Sanctions \n",
      "UT Order on Motion to Enforce Domestic Order \n",
      "UT Order on Motion to Enforce Order \n",
      "UT Order to Attend Hearing \n",
      "UT Request for Contempt Hearing \n",
      "UT Motion to excuse mandatory divorce mediation \n",
      "UT Motion to excuse mediation \n",
      "UT Order on motion to excuse mandatory divorce mediation \n",
      "UT Order on motion to excuse mediation \n",
      "UT Motion to Grant Divorce and Decide Other Issues Later \n",
      "UT Motion to Grant Divorce and Decide Other Issues Later \n",
      "UT Order on Motion to Grant Divorce and Decide Other Issues Later \n",
      "UT Motion to Intervene in Adoption  \n",
      "UT Order on Motion to Intervene in Adoption \n",
      "UT Motion to Reduce Conviction Pursuant to Utah Code Section 76-3-402\n",
      "UT Stipulation to Enter an Order in Accord with Defendant's Motion to Reduce Conviction Pursuant to Utah Code Section 76-3-402\n",
      "UT Motion to remove link between personal identifying information and dismissed criminal case \n",
      "UT Order on motion to remove link between personal identifying information and dismissed criminal case \n",
      "UT Findings of Fact, conclusions of law and order on motion to renew judgment \n",
      "UT Memorandum opposing motion to renew judgment \n",
      "UT Motion to renew judgment and supporting affidavit \n",
      "UT Motion to set aside default or judgment \n",
      "UT Order on motion to set aside default or judgment \n",
      "UT Abstract of Records \n",
      "UT Findings of Fact and Conclusions of Law on Motion to Shorten Period of Driver's License Suspension or Denial \n",
      "UT Motion to Shorten Period of Driver’s License Suspension or Denial \n",
      "UT Order on Motion to Shorten Period of Driver’s License Suspension or Denial \n",
      "UT Statement of No Unlawful Alcohol Consumption \n",
      "UT Motion to vacate dismissal and reinstate civil case \n",
      "UT Order on motion to vacate dismissal and reinstate civil case \n",
      "UT Motion to Waive 30-day Divorce Waiting Period \n",
      "UT Order on Motion to Waive 30-day Divorce Waiting Period \n",
      "UT Findings of Fact Conclusions of Law and Order on Motion \n",
      "UT Motion \n",
      "UT Notice of Hearing - Simplified Chinese \n",
      "UT Notice of Hearing - Vietnamese \n",
      "UT Request to submit - juvenile court \n",
      "UT Department of Corrections Certification Regarding Sex and Kidnap Offender and Child Abuse Offender Registries – Adult \n",
      "UT Notice of Hearing on Petition for Name Change \n",
      "UT Order on Petition for Name Change \n",
      "UT Petition for Name Change \n",
      "UT Application for Appointment of a Guardian Ad Litem \n",
      "UT Consent to Minor’s Name Change \n",
      "UT Department of Corrections Certification Regarding Sex and Kidnap Offender and Child Abuse Offender Registries – Minor Child \n",
      "UT Motion to Waive Service \n",
      "UT Notice of Hearing on Petition for Minor’s Name Change \n",
      "UT Order Appointing Guardian Ad Litem \n",
      "UT Order Changing Minor's Name \n",
      "UT Order to Waive Service \n",
      "UT Petition for Minor's Name Change \n",
      "UT Petitioner's Affidavit in Support of Motion to Waive Service \n",
      "UT Request for Hearing on Petition for Minor’s Name Change \n",
      "UT Summons - In Utah \n",
      "UT Summons - Outside Utah \n",
      "UT Nomination for oneself of a guardian and* a conservator \n",
      "UT Nomination of a conservator for someone else \n",
      "UT Nomination of a guardian for someone else \n",
      "UT Notice of Change of Address and/or Contact Information \n",
      "UT Notice of Change of Name \n",
      "UT Objection to Commissioner Recommendation \n",
      "UT Defendant’s Motion to Dismiss Small Claims Case for Lack of Plaintiff Participation in Online Dispute Resolution \n",
      "UT Motion for Default Judgment: Online Dispute Resolution Case \n",
      "UT Order Granting Default Judgment: Online Dispute Resolution Case \n",
      "UT Small Claims Affidavit and Summons: Online Dispute Resolution Case \n",
      "UT Consent to Open Adoption Records \n",
      "UT Findings of Fact, Conclusions of Law, and Order to Open Court's Adoption Records to Permit Inspection and Copying \n"
     ]
    },
    {
     "name": "stderr",
     "output_type": "stream",
     "text": [
      "/Users/davidcolarusso/opt/anaconda3/lib/python3.8/site-packages/sklearn/cluster/_affinity_propagation.py:246: ConvergenceWarning: Affinity propagation did not converge, this model will not have any cluster centers.\n",
      "  warnings.warn(\"Affinity propagation did not converge, this model \"\n",
      "/Users/davidcolarusso/opt/anaconda3/lib/python3.8/site-packages/sklearn/cluster/_affinity_propagation.py:460: ConvergenceWarning: This model does not have any cluster centers because affinity propagation did not converge. Labeling every sample as '-1'.\n",
      "  warnings.warn(\"This model does not have any cluster centers \"\n"
     ]
    },
    {
     "name": "stdout",
     "output_type": "stream",
     "text": [
      "UT Notice of Petition to Open Court's Adoption Records \n",
      "UT Objection to Petition to Open Court's Adoption Records \n",
      "UT Petition to Open Court's Adoption Records to Permit Inspection and Copying \n",
      "UT Request for Certified Copy of Adoption Decree Pursuant to URCP 107\n",
      "UT Memorandum opposing motion to appoint parent coordinator \n"
     ]
    },
    {
     "name": "stderr",
     "output_type": "stream",
     "text": [
      "/Users/davidcolarusso/opt/anaconda3/lib/python3.8/site-packages/sklearn/cluster/_affinity_propagation.py:246: ConvergenceWarning: Affinity propagation did not converge, this model will not have any cluster centers.\n",
      "  warnings.warn(\"Affinity propagation did not converge, this model \"\n",
      "/Users/davidcolarusso/opt/anaconda3/lib/python3.8/site-packages/sklearn/cluster/_affinity_propagation.py:460: ConvergenceWarning: This model does not have any cluster centers because affinity propagation did not converge. Labeling every sample as '-1'.\n",
      "  warnings.warn(\"This model does not have any cluster centers \"\n"
     ]
    },
    {
     "name": "stdout",
     "output_type": "stream",
     "text": [
      "UT Motion to appoint parent coordinator \n",
      "UT Order on motion to appoint parent coordinator \n",
      "UT Parent coordinator qualification statement \n",
      "UT Parent coordinator quarterly report \n",
      "UT Stipulation to appoint parent coordinator \n",
      "UT Military parenting plan \n",
      "UT Parenting plan \n",
      "UT Counter-Petition for Adjudication of Priority to Funds on Trustee’s Sale Notice to Claimants \n",
      "UT Findings of Fact, Conclusions of Law, and Order on Petition for Adjudication of Priority to Funds on Trustee’s Sale Pursuant to Utah Code Section 57-1-29 \n",
      "UT Petition for Adjudication of Priority to Funds on Trustee’s Sale and Notice to Claimants \n",
      "UT Order on Petition for Essential Treatment \n",
      "UT Order on Request for Essential Treatment Examination  \n",
      "UT Petition for Essential Treatment  \n",
      "UT Request for Preliminary Hearing  \n",
      "UT Order Establishing Facts of Birth and Delayed Registration of Birth \n",
      "UT Verified Petition for Order Establishing Fact of Birth \n",
      "UT Verified Petition for Order Establishing Fact of Birth on Behalf of a Minor \n",
      "UT Order on Petition to be Removed from the Custody of the Division of Child and Family Services \n",
      "UT Order on Petition to Re-Enter the Custody of the Division of Child and Family Services \n"
     ]
    },
    {
     "name": "stderr",
     "output_type": "stream",
     "text": [
      "/Users/davidcolarusso/opt/anaconda3/lib/python3.8/site-packages/sklearn/cluster/_affinity_propagation.py:246: ConvergenceWarning: Affinity propagation did not converge, this model will not have any cluster centers.\n",
      "  warnings.warn(\"Affinity propagation did not converge, this model \"\n",
      "/Users/davidcolarusso/opt/anaconda3/lib/python3.8/site-packages/sklearn/cluster/_affinity_propagation.py:460: ConvergenceWarning: This model does not have any cluster centers because affinity propagation did not converge. Labeling every sample as '-1'.\n",
      "  warnings.warn(\"This model does not have any cluster centers \"\n"
     ]
    },
    {
     "name": "stdout",
     "output_type": "stream",
     "text": [
      "UT Petition to be Removed from the Custody of the Division of Child and Family Services \n",
      "UT Petition to Re-Enter the Custody of the Division of Child and Family Services \n",
      "UT Agent's Certification \n",
      "UT Power of Attorney \n",
      "UT Power of Attorney \n",
      "UT Acceptance of Appointment \n",
      "UT Findings of Fact and Conclusions of Law on Petition to Appoint a Conservator \n",
      "UT Letter of Conservatorship \n",
      "UT Notice of Hearing – Petition to Appoint a Conservator for an Adult \n",
      "UT Objection to Petition to Appoint a Guardian or Conservator for an Adult \n",
      "UT Order Appointing an Attorney to Represent the Respondent in a Conservatorship Proceeding \n",
      "UT Order Appointing Conservator for an Adult \n",
      "UT Order Appointing Physician to Examine the Respondent in a Conservatorship Proceeding \n",
      "UT Petition to Appoint a Conservator for an Adult  \n",
      "UT Report on Clinical Evaluation \n",
      "UT Request for Notice under Section 75-5-406 \n",
      "UT Request for Order to Examine Respondent \n",
      "UT Request to Appoint an Attorney to Represent the Respondent \n"
     ]
    },
    {
     "name": "stderr",
     "output_type": "stream",
     "text": [
      "/Users/davidcolarusso/opt/anaconda3/lib/python3.8/site-packages/sklearn/cluster/_affinity_propagation.py:246: ConvergenceWarning: Affinity propagation did not converge, this model will not have any cluster centers.\n",
      "  warnings.warn(\"Affinity propagation did not converge, this model \"\n",
      "/Users/davidcolarusso/opt/anaconda3/lib/python3.8/site-packages/sklearn/cluster/_affinity_propagation.py:460: ConvergenceWarning: This model does not have any cluster centers because affinity propagation did not converge. Labeling every sample as '-1'.\n",
      "  warnings.warn(\"This model does not have any cluster centers \"\n"
     ]
    },
    {
     "name": "stdout",
     "output_type": "stream",
     "text": [
      "UT Request to Assign a Court Visitor \n",
      "UT Findings of Fact and Conclusions of Law on Petition to Appoint a Guardian \n",
      "UT Letter of Full Guardianship  \n",
      "UT Letter of Limited Guardianship  \n",
      "UT Notice of Hearing, Rights and Adverse Consequences of a Guardianship \n",
      "UT Notice of Hearing, Rights and Adverse Consequences of a Guardianship \n",
      "UT Order Appointing an Attorney to Represent the Respondent in a Guardianship Proceeding \n",
      "UT Order Appointing Guardian for an Adult \n",
      "UT Order on Request to Excuse Respondent from the Hearing \n",
      "UT Petition to Appoint a Guardian for an Adult \n",
      "UT Petitioner’s Affidavit of the Value of Respondent’s Estate \n",
      "UT Physician’s Statement Supporting Request to Excuse Respondent from the Hearing \n",
      "UT Acknowledgement of Restricted Account \n",
      "UT Motion to Withdraw or Transfer Funds in a Restricted Account \n",
      "UT Order on Motion to Withdraw or Transfer Funds in a Restricted Account \n",
      "UT Affidavit for Filing an Out-of-State Protective Order \n",
      "UT Dating Violence Protective Order \n",
      "UT Modified Protective Order \n",
      "UT Modified Temporary Protective Order \n",
      "UT Modified Temporary Sexual Violence Protective Order \n",
      "UT Notice of Hearing On Request for Dating Violence Protective Order \n",
      "UT Notice of Hearing On Request for Protective Order \n",
      "UT Notice of Hearing on Request to Dismiss or Vacate Protective Order \n",
      "UT Order Denying Dating Violence Protective Order \n",
      "UT Order Denying Protective Order \n",
      "UT Order Denying Request to Extend Sexual Violence Protective Order \n",
      "UT Order Denying Temporary Dating Violence Protective Order \n",
      "UT Order Denying Temporary Protective Order \n"
     ]
    },
    {
     "name": "stderr",
     "output_type": "stream",
     "text": [
      "/Users/davidcolarusso/opt/anaconda3/lib/python3.8/site-packages/sklearn/cluster/_affinity_propagation.py:246: ConvergenceWarning: Affinity propagation did not converge, this model will not have any cluster centers.\n",
      "  warnings.warn(\"Affinity propagation did not converge, this model \"\n",
      "/Users/davidcolarusso/opt/anaconda3/lib/python3.8/site-packages/sklearn/cluster/_affinity_propagation.py:460: ConvergenceWarning: This model does not have any cluster centers because affinity propagation did not converge. Labeling every sample as '-1'.\n",
      "  warnings.warn(\"This model does not have any cluster centers \"\n"
     ]
    },
    {
     "name": "stdout",
     "output_type": "stream",
     "text": [
      "UT Order Denying Temporary Sexual Violence Protective Order \n",
      "UT Order Dismissing Request for Protective Order \n",
      "UT Order Dismissing Request for Sexual Violence Protective Order \n",
      "UT Order Extending Sexual Violence Protective Order \n"
     ]
    },
    {
     "name": "stderr",
     "output_type": "stream",
     "text": [
      "/Users/davidcolarusso/opt/anaconda3/lib/python3.8/site-packages/sklearn/cluster/_affinity_propagation.py:246: ConvergenceWarning: Affinity propagation did not converge, this model will not have any cluster centers.\n",
      "  warnings.warn(\"Affinity propagation did not converge, this model \"\n",
      "/Users/davidcolarusso/opt/anaconda3/lib/python3.8/site-packages/sklearn/cluster/_affinity_propagation.py:460: ConvergenceWarning: This model does not have any cluster centers because affinity propagation did not converge. Labeling every sample as '-1'.\n",
      "  warnings.warn(\"This model does not have any cluster centers \"\n"
     ]
    },
    {
     "name": "stdout",
     "output_type": "stream",
     "text": [
      "UT Order Extending Temporary Protective Order \n",
      "UT Order on Request to Dismiss or Vacate Protective Order \n",
      "UT Order to Wireless Service Provider to Transfer Phone Number\n",
      "UT Petitioner's Request to Dismiss Protective Order  \n",
      "UT Protective Order \n",
      "UT Request for Dating Violence Protective Order \n",
      "UT Request for Hearing on Protective Order \n",
      "UT Request for Protective Order \n",
      "UT Request for Sexual Violence Protective Order \n",
      "UT Request to Dismiss Sexual Violence Protective Order \n",
      "UT Request to Extend Sexual Violence Protective Order \n",
      "UT Request to Modify Protective Order \n",
      "UT Request to Modify Sexual Violence Protective Order \n",
      "UT Respondent’s Request to Dismiss Protective Order \n",
      "UT Respondent’s Request to Vacate Temporary Protective Order \n",
      "UT Return of Service \n",
      "UT Sexual Violence Protective Order \n"
     ]
    },
    {
     "name": "stderr",
     "output_type": "stream",
     "text": [
      "/Users/davidcolarusso/opt/anaconda3/lib/python3.8/site-packages/sklearn/cluster/_affinity_propagation.py:246: ConvergenceWarning: Affinity propagation did not converge, this model will not have any cluster centers.\n",
      "  warnings.warn(\"Affinity propagation did not converge, this model \"\n",
      "/Users/davidcolarusso/opt/anaconda3/lib/python3.8/site-packages/sklearn/cluster/_affinity_propagation.py:460: ConvergenceWarning: This model does not have any cluster centers because affinity propagation did not converge. Labeling every sample as '-1'.\n",
      "  warnings.warn(\"This model does not have any cluster centers \"\n"
     ]
    },
    {
     "name": "stdout",
     "output_type": "stream",
     "text": [
      "UT Temporary Dating Violence Protective Order \n",
      "UT Temporary Protective Order \n",
      "UT Temporary Sexual Violence Protective Order \n",
      "UT Tenant's Notice to Provide Deposit Disposition \n",
      "UT Notice of confirmation of foreign child custody or parent-time order, or support or income withholding order \n",
      "UT Notice of registration of foreign child custody or parent-time order, or support or income withholding order \n",
      "UT Order on hearing for confirmation of foreign child custody or parent-time order, or support or income withholding order \n",
      "UT Request for hearing – Request to register foreign child custody or parent-time order, or support or income withholding order \n",
      "UT Request to register foreign child custody or parent-time order, or support or income withholding order \n",
      "UT Order Confirming Registration of Office of Recovery Services \n",
      "UT Petition to Register Office of Recovery Services \n",
      "UT Financial Accounting of Guardian/Conservator \n",
      "UT Guardian and Conservator Certificate of Mailing \n",
      "UT Inventory \n",
      "UT Notice of Right to Object \n",
      "UT Report on the Status of the Ward \n",
      "UT Request a Court Interpreter - General Request \n",
      "UT Request a Court Interpreter - Spanish \n",
      "UT Request a Court Interpreter - Vietnamese \n",
      "UT Non-Party Request for a Copy of the Audio Record \n",
      "UT Notice of Non-Party Request for Release of Audio Record \n",
      "UT Acknowledgement of satisfaction of judgment \n",
      "UT Certificate of satisfaction of judgment \n",
      "UT Debtor's motion to declare the judgment satisfied \n",
      "UT Findings of fact, conclusions of law and order on debtor's motion to declare judgment satisfied \n",
      "UT Permanent Criminal Stalking Injunction \n",
      "UT Petition for Relief Under the Post Conviction Remedies Act \n",
      "UT Statement of Defendant in Support of Plea\n"
     ]
    },
    {
     "name": "stderr",
     "output_type": "stream",
     "text": [
      "/Users/davidcolarusso/opt/anaconda3/lib/python3.8/site-packages/sklearn/cluster/_affinity_propagation.py:246: ConvergenceWarning: Affinity propagation did not converge, this model will not have any cluster centers.\n",
      "  warnings.warn(\"Affinity propagation did not converge, this model \"\n",
      "/Users/davidcolarusso/opt/anaconda3/lib/python3.8/site-packages/sklearn/cluster/_affinity_propagation.py:460: ConvergenceWarning: This model does not have any cluster centers because affinity propagation did not converge. Labeling every sample as '-1'.\n",
      "  warnings.warn(\"This model does not have any cluster centers \"\n"
     ]
    },
    {
     "name": "stdout",
     "output_type": "stream",
     "text": [
      "UT Statement of Defendant in Support of Plea\n",
      "UT Client Letter to Service Member \n",
      "UT Notice of Appointment \n",
      "UT Notice of Inability to Locate or Communicate with Service Member \n",
      "UT Notice of Limited Appearance \n",
      "UT Order Appointing Attorney \n",
      "UT Service Member’s Preferences and Contact Information  \n",
      "UT Service Member’s Statement about Limited Appearance \n",
      "UT Stipulation to Enter Judgment \n",
      "UT Acceptance of Service \n",
      "UT Affidavit and Summons \n",
      "UT Counter Affidavit and Summons \n",
      "UT Interpleader Affidavit and Summons \n",
      "UT Interpleader Judgment  \n",
      "UT Judgment \n",
      "UT Justice Court Cover Sheet \n",
      "UT Motion Set Aside Dismissal or Default Judgment–Small Claims Case \n",
      "UT Motion to Dismiss Small Claims Case \n",
      "UT Motion to Enforce Settlement Agreement–Small Claims Case \n"
     ]
    },
    {
     "name": "stderr",
     "output_type": "stream",
     "text": [
      "/Users/davidcolarusso/opt/anaconda3/lib/python3.8/site-packages/sklearn/cluster/_affinity_propagation.py:246: ConvergenceWarning: Affinity propagation did not converge, this model will not have any cluster centers.\n",
      "  warnings.warn(\"Affinity propagation did not converge, this model \"\n",
      "/Users/davidcolarusso/opt/anaconda3/lib/python3.8/site-packages/sklearn/cluster/_affinity_propagation.py:460: ConvergenceWarning: This model does not have any cluster centers because affinity propagation did not converge. Labeling every sample as '-1'.\n",
      "  warnings.warn(\"This model does not have any cluster centers \"\n"
     ]
    },
    {
     "name": "stdout",
     "output_type": "stream",
     "text": [
      "UT Motion to Enter Default Judgment–Small Claims Case \n",
      "UT Motion to Enter Interpleader Default Judgment–Small Claims Case \n",
      "UT Motion to Postpone Small Claims Case \n",
      "UT Notice of Default Judgment \n",
      "UT Notice of Removal from Justice Court \n",
      "UT Notice of Removal to District Court \n",
      "UT Order on Motion to Dismiss Small Claims Case \n"
     ]
    },
    {
     "name": "stderr",
     "output_type": "stream",
     "text": [
      "/Users/davidcolarusso/opt/anaconda3/lib/python3.8/site-packages/sklearn/cluster/_affinity_propagation.py:246: ConvergenceWarning: Affinity propagation did not converge, this model will not have any cluster centers.\n",
      "  warnings.warn(\"Affinity propagation did not converge, this model \"\n",
      "/Users/davidcolarusso/opt/anaconda3/lib/python3.8/site-packages/sklearn/cluster/_affinity_propagation.py:460: ConvergenceWarning: This model does not have any cluster centers because affinity propagation did not converge. Labeling every sample as '-1'.\n",
      "  warnings.warn(\"This model does not have any cluster centers \"\n"
     ]
    },
    {
     "name": "stdout",
     "output_type": "stream",
     "text": [
      "UT Order on Motion to Enforce Settlement Agreement and Judgment–Small Claims Case \n",
      "UT Order on Motion to Postpone Small Claims Case \n"
     ]
    },
    {
     "name": "stderr",
     "output_type": "stream",
     "text": [
      "/Users/davidcolarusso/opt/anaconda3/lib/python3.8/site-packages/sklearn/cluster/_affinity_propagation.py:246: ConvergenceWarning: Affinity propagation did not converge, this model will not have any cluster centers.\n",
      "  warnings.warn(\"Affinity propagation did not converge, this model \"\n",
      "/Users/davidcolarusso/opt/anaconda3/lib/python3.8/site-packages/sklearn/cluster/_affinity_propagation.py:460: ConvergenceWarning: This model does not have any cluster centers because affinity propagation did not converge. Labeling every sample as '-1'.\n",
      "  warnings.warn(\"This model does not have any cluster centers \"\n"
     ]
    },
    {
     "name": "stdout",
     "output_type": "stream",
     "text": [
      "UT Order on Motion to Set Aside Dismissal or Default Judgment–Small Claims Case \n",
      "UT Settlement Agreement \n",
      "UT Application for Subpoena under the Utah Uniform Interstate Depositions and Discovery Act \n"
     ]
    },
    {
     "name": "stderr",
     "output_type": "stream",
     "text": [
      "/Users/davidcolarusso/opt/anaconda3/lib/python3.8/site-packages/sklearn/cluster/_affinity_propagation.py:246: ConvergenceWarning: Affinity propagation did not converge, this model will not have any cluster centers.\n",
      "  warnings.warn(\"Affinity propagation did not converge, this model \"\n",
      "/Users/davidcolarusso/opt/anaconda3/lib/python3.8/site-packages/sklearn/cluster/_affinity_propagation.py:460: ConvergenceWarning: This model does not have any cluster centers because affinity propagation did not converge. Labeling every sample as '-1'.\n",
      "  warnings.warn(\"This model does not have any cluster centers \"\n"
     ]
    },
    {
     "name": "stdout",
     "output_type": "stream",
     "text": [
      "UT Declaration of Compliance with Subpoena \n",
      "UT Notice of Deposition and Request for Subpoena in Case Pending Out of State \n",
      "UT Notice to Persons Served with a Subpoena \n",
      "UT Objection to Subpoena \n",
      "UT Subpoena \n",
      "UT Summons \n",
      "UT Summons \n",
      "UT Summons \n",
      "UT Summons \n",
      "UT Summons \n",
      "UT Summons \n",
      "UT Summons \n",
      "UT Summons \n",
      "UT Summons \n",
      "UT Power of Attorney over Protected Person or Minor Child \n",
      "UT Power of Attorney over Protected Person or Minor Child / Poder Notarial sobre una persona bajo cuidado o un hijo\n",
      "UT Revocation of Power of Attorney \n",
      "UT Fifth District Request for Copy of Video/Audio Record \n",
      "UT First District Request for Audio Recording \n",
      "UT Domestic Status Conference Worksheet \n",
      "UT Fourth District Bail Refund Request \n",
      "UT Fourth District Request for Copy of Audio Recording \n",
      "UT Second District Request for Copy of Recording of Court Proceeding  \n",
      "UT Carbon County Adult Drug Court Motion \n",
      "UT Carbon County Affidavit of Indigency \n",
      "UT Carbon County Criminal Motion \n",
      "UT Carbon County Family Drug Court Motion \n",
      "UT Carbon County Juvenile Court Declaration of Financial Status \n",
      "UT Carbon County Statement of Defendant in Support of Plea\n",
      "UT Emery County Adult Drug Court Motion \n",
      "UT Emery County Affidavit of Indigency \n",
      "UT Emery County Criminal Motion \n",
      "UT Emery County Juvenile Court Declaration of Financial Status \n",
      "UT Emery County Statement of Defendant in Support of Plea\n",
      "UT Grand County Adult Problem Solving Court Motion \n",
      "UT Grand County Criminal Motion \n",
      "UT Grand County Ex Parte Motion to Serve Jail Time Early \n",
      "UT Grand County Family Dependency Court Motion \n",
      "UT Grand County Financial Affidavit \n",
      "UT Grand County Juvenile Court Declaration of Financial Status \n",
      "UT Grand County Statement of Defendant in Support of Plea\n",
      "UT San Juan Adult Drug Court Motion \n",
      "UT San Juan County Criminal Motion \n",
      "UT San Juan County Financial Affidavit \n",
      "UT San Juan County Juvenile Court Declaration of Financial Status \n",
      "UT San Juan County Statement of Defendant in Support of Plea\n",
      "UT Seventh District Request for Audio Recording \n",
      "UT Sixth District Affidavit and Application for Court-Appointed Lawyer \n",
      "UT Sixth District Order in re: Removal of Case File \n",
      "UT Sixth District Paper Travel Slip and Order \n",
      "UT Sixth District Petitioner's Response to Denial of Ex Parte Order \n",
      "UT Sixth District Request for Copy of Audio Record \n",
      "UT Sixth District Request to Remove Case File \n",
      "UT Sixth District Response to Request for Ex Part Child Protective Order \n",
      "UT Sixth District Statement of Probable Cause for a Warrantless Arrest \n",
      "UT Sixth District Waiver of Rights by Defendant \n",
      "UT Defendant’s Ex Parte Motion to Release Bail \n",
      "UT Notice of Foreign Judgment \n",
      "UT Third District Copy Request Form \n",
      "UT Third District Request for Copy of Audio Record \n",
      "UT Indian Child Welfare Act - Motion to Intervene \n",
      "UT Indian Child Welfare Act - Order Granting Motion to Intervene \n",
      "UT Notice of Designated Tribal Representative in a Court Proceeding Involving an Indian Child \n"
     ]
    },
    {
     "name": "stderr",
     "output_type": "stream",
     "text": [
      "/Users/davidcolarusso/opt/anaconda3/lib/python3.8/site-packages/sklearn/cluster/_affinity_propagation.py:246: ConvergenceWarning: Affinity propagation did not converge, this model will not have any cluster centers.\n",
      "  warnings.warn(\"Affinity propagation did not converge, this model \"\n",
      "/Users/davidcolarusso/opt/anaconda3/lib/python3.8/site-packages/sklearn/cluster/_affinity_propagation.py:460: ConvergenceWarning: This model does not have any cluster centers because affinity propagation did not converge. Labeling every sample as '-1'.\n",
      "  warnings.warn(\"This model does not have any cluster centers \"\n"
     ]
    },
    {
     "name": "stdout",
     "output_type": "stream",
     "text": [
      "UT GRAMA Request for DCFS Records \n",
      "UT Order on Motion to Dismiss Small Claims Case for Lack of Plaintiff Participation in Online Dispute Resolution \n",
      "UT Findings of Fact, Conclusions of Law and Order \n",
      "UT Petition to Terminate Parental Rights Upon Voluntary Relinquishment \n",
      "UT Voluntary Relinquishment of Parental Rights \n",
      "UT Certificate of the Clerk \n",
      "UT Findings of Fact, Conclusions of Law and Order on Petition for Waiver of Parental Consent to Minor’s Abortion \n",
      "UT Notice of Hearing – Petition for Waiver of Parental Consent to Minor’s Abortion \n",
      "UT Order Appointing Attorney and/or Guardian ad Litem for a Minor \n",
      "UT Petition for Waiver of Parental Consent to Minor’s Abortion \n",
      "UT Application for Writ of Executon \n",
      "UT Notice of execution and exemptions \n",
      "UT Reply and request for hearing \n",
      "UT Writ of Execution \n",
      "UT Civil Wrongful Lien Injunction \n",
      "UT Ex Parte Civil Wrongful Lien Injunction \n",
      "UT Order Revoking Ex Parte Civil Wrongful Lien Injunction \n"
     ]
    },
    {
     "name": "stderr",
     "output_type": "stream",
     "text": [
      "/Users/davidcolarusso/opt/anaconda3/lib/python3.8/site-packages/sklearn/cluster/_affinity_propagation.py:246: ConvergenceWarning: Affinity propagation did not converge, this model will not have any cluster centers.\n",
      "  warnings.warn(\"Affinity propagation did not converge, this model \"\n",
      "/Users/davidcolarusso/opt/anaconda3/lib/python3.8/site-packages/sklearn/cluster/_affinity_propagation.py:460: ConvergenceWarning: This model does not have any cluster centers because affinity propagation did not converge. Labeling every sample as '-1'.\n",
      "  warnings.warn(\"This model does not have any cluster centers \"\n"
     ]
    },
    {
     "name": "stdout",
     "output_type": "stream",
     "text": [
      "UT Petition for Civil Wrongful Lien Injunction \n",
      "UT Request for Hearing – Civil Wrongful Lien Injunction \n",
      "MI Answer to Complaint to Recover Possession of Property\n",
      "MI Answer to Complaint to Recover Possession of Property\n",
      "MI Answer, Damage/Health Hazard to Property, Landlord-Tenant\n",
      "MI Answer, Damage/Health Hazard to Property, Landlord-Tenant\n",
      "MI Answer, Nonpayment of Rent, Landlord-Tenant\n",
      "MI Answer, Nonpayment of Rent, Landlord-Tenant\n",
      "MI Answer, Termination of Tenancy, Mobile Home Park - Mobile Home Owner (Just-Cause Termination)\n",
      "MI Answer, Termination of Tenancy, Mobile Home Park - Mobile Home Owner (Just-Cause Termination)\n",
      "MI Application and Order of Eviction, Landlord-Tenant/Land Contract\n",
      "MI Complaint for Possession after Land Contract Forfeiture\n",
      "MI Complaint to Recover Possession of Property\n",
      "MI Complaint, Damage/Health Hazard to Property, Landlord-Tenant\n",
      "MI Complaint, Nonpayment of Rent, Landlord-Tenant\n",
      "MI Complaint, Termination of Tenancy, Mobile Home Park - Mobile Home Owner (Just-Cause Termination)\n",
      "MI Consent Order for Conditional Dismissal, Landlord-Tenant\n",
      "MI Demand for Possession, Damage/Health Hazard to Property, Landlord-Tenant\n",
      "MI Demand for Possession, Damage/Health Hazard to Property, Landlord-Tenant (two-page form)\n",
      "MI Demand for Possession, Nonpayment of Rent, Landlord-Tenant\n",
      "MI Demand for Possession, Nonpayment of Rent,Landlord-Tenant (two-page form)\n",
      "MI Demand for Possession, Termination of Tenancy Due to Unlawful Drug Activity on Premises, Landlord-Tenant\n",
      "MI Demand for Possession, Termination of Tenancy Due to Unlawful Drug Activity on Premises, Landlord-Tenant (two-page form)\n",
      "MI Demand for Possession, Termination of Tenancy, Mobile Home Park - Mobile Home Owner (Just-Cause Termination)\n",
      "MI Demand for Possession, Termination of Tenancy, Mobile Home Park - Mobile Home Owner (Just-Cause Termination) (two-page form)\n",
      "MI Forfeiture Notice, Land Contract\n"
     ]
    },
    {
     "name": "stderr",
     "output_type": "stream",
     "text": [
      "/Users/davidcolarusso/opt/anaconda3/lib/python3.8/site-packages/sklearn/cluster/_affinity_propagation.py:246: ConvergenceWarning: Affinity propagation did not converge, this model will not have any cluster centers.\n",
      "  warnings.warn(\"Affinity propagation did not converge, this model \"\n",
      "/Users/davidcolarusso/opt/anaconda3/lib/python3.8/site-packages/sklearn/cluster/_affinity_propagation.py:460: ConvergenceWarning: This model does not have any cluster centers because affinity propagation did not converge. Labeling every sample as '-1'.\n",
      "  warnings.warn(\"This model does not have any cluster centers \"\n"
     ]
    },
    {
     "name": "stdout",
     "output_type": "stream",
     "text": [
      "MI Judgment of Possession after Land Contract Forfeiture\n",
      "MI Judgment, Landlord-Tenant\n",
      "MI Judgment, Termination of Tenancy, Mobile Home Park - Mobile Home Owner (Just-Cause Termination)\n"
     ]
    },
    {
     "name": "stderr",
     "output_type": "stream",
     "text": [
      "/Users/davidcolarusso/opt/anaconda3/lib/python3.8/site-packages/sklearn/cluster/_affinity_propagation.py:246: ConvergenceWarning: Affinity propagation did not converge, this model will not have any cluster centers.\n",
      "  warnings.warn(\"Affinity propagation did not converge, this model \"\n",
      "/Users/davidcolarusso/opt/anaconda3/lib/python3.8/site-packages/sklearn/cluster/_affinity_propagation.py:460: ConvergenceWarning: This model does not have any cluster centers because affinity propagation did not converge. Labeling every sample as '-1'.\n",
      "  warnings.warn(\"This model does not have any cluster centers \"\n"
     ]
    },
    {
     "name": "stdout",
     "output_type": "stream",
     "text": [
      "MI Motion and Affidavit to Set Aside Default Money Judgment (Landlord/Tenant)\n",
      "MI Motion and Order for Escrow, Landlord-Tenant\n",
      "MI Motion to Set Aside Default Possession Judgment, Landlord/Tenant\n",
      "MI Notice to Quit to Recover Possession of Property, Landlord-Tenant\n",
      "MI Notice to Quit to Recover Possession of Property, Landlord-Tenant\n",
      "MI Order for Reinstatement of Case and Entry of Judgment, Landlord-Tenant\n",
      "MI Order to Release Escrow, Landlord-Tenant/Land Contract\n",
      "MI Request and Order of Eviction After Conditional Dismissal, Landlord-Tenant/Land Contract\n",
      "MI Summons, Landlord-Tenant/Land Contract\n",
      "MI Verification of Compliance with CARES Act\n",
      "MI Addendum A to Verified Declaration About Paternity (Father's Name and Whereabouts Known)\n",
      "MI Addendum B to Verified Declaration About Paternity (Father's Name Known, but Whereabouts Unknown)\n",
      "MI Addendum C to Verified Declaration About Paternity (Father's Name and Whereabouts Unknown)\n",
      "MI Advice of Rights after Order Terminating Parental Rights (Adoption Code)\n",
      "MI Advice of Rights After Order Terminating Parental Rights to Indian Child (Adoption Code)\n",
      "MI Certificate of Adoptive Information\n",
      "MI Clerk's Report to Prosecuting Attorney\n",
      "MI Consent by Parent to Adoption of Indian Child\n",
      "MI Consent to Adoption by Adoptee\n",
      "MI Consent to Adoption by Agency/Court\n",
      "MI Consent to Adoption by Guardian\n",
      "MI Consent to Adoption by Parent\n",
      "MI Declaration of Inability to Identify/Locate Father\n"
     ]
    },
    {
     "name": "stderr",
     "output_type": "stream",
     "text": [
      "/Users/davidcolarusso/opt/anaconda3/lib/python3.8/site-packages/sklearn/cluster/_affinity_propagation.py:246: ConvergenceWarning: Affinity propagation did not converge, this model will not have any cluster centers.\n",
      "  warnings.warn(\"Affinity propagation did not converge, this model \"\n",
      "/Users/davidcolarusso/opt/anaconda3/lib/python3.8/site-packages/sklearn/cluster/_affinity_propagation.py:460: ConvergenceWarning: This model does not have any cluster centers because affinity propagation did not converge. Labeling every sample as '-1'.\n",
      "  warnings.warn(\"This model does not have any cluster centers \"\n"
     ]
    },
    {
     "name": "stdout",
     "output_type": "stream",
     "text": [
      "MI Ex Parte Petition to Issue Notice of Intent to Release or Consent\n",
      "MI Final Order Allowing Fees and Costs\n",
      "MI Follow-up Report after Temporary Placement of Child for Adoption\n"
     ]
    },
    {
     "name": "stderr",
     "output_type": "stream",
     "text": [
      "/Users/davidcolarusso/opt/anaconda3/lib/python3.8/site-packages/sklearn/cluster/_affinity_propagation.py:246: ConvergenceWarning: Affinity propagation did not converge, this model will not have any cluster centers.\n",
      "  warnings.warn(\"Affinity propagation did not converge, this model \"\n",
      "/Users/davidcolarusso/opt/anaconda3/lib/python3.8/site-packages/sklearn/cluster/_affinity_propagation.py:460: ConvergenceWarning: This model does not have any cluster centers because affinity propagation did not converge. Labeling every sample as '-1'.\n",
      "  warnings.warn(\"This model does not have any cluster centers \"\n"
     ]
    },
    {
     "name": "stdout",
     "output_type": "stream",
     "text": [
      "MI Notice of Adoption Proceedings Concerning an Indian Child\n",
      "MI Notice of Hearing to Identify Father and Determine or Terminate His Rights\n",
      "MI Notice of Hearing, Termination of Parental Rights\n"
     ]
    },
    {
     "name": "stderr",
     "output_type": "stream",
     "text": [
      "/Users/davidcolarusso/opt/anaconda3/lib/python3.8/site-packages/sklearn/cluster/_affinity_propagation.py:246: ConvergenceWarning: Affinity propagation did not converge, this model will not have any cluster centers.\n",
      "  warnings.warn(\"Affinity propagation did not converge, this model \"\n",
      "/Users/davidcolarusso/opt/anaconda3/lib/python3.8/site-packages/sklearn/cluster/_affinity_propagation.py:460: ConvergenceWarning: This model does not have any cluster centers because affinity propagation did not converge. Labeling every sample as '-1'.\n",
      "  warnings.warn(\"This model does not have any cluster centers \"\n"
     ]
    },
    {
     "name": "stdout",
     "output_type": "stream",
     "text": [
      "MI Notice of Intent to Release or Consent\n",
      "MI Notice to Adopting Parents on Pending or Potential Appeal/Rehearing\n",
      "MI Notice to Putative Father and Custody Statement\n",
      "MI Order Authorizing Foster Care Funding After Release\n",
      "MI Order Committing Child to Agency/Department of Health and Human Services\n",
      "MI Order Following Hearing on Review of Adoption Placement (IV-E Eligibility Compliance)\n",
      "MI Order of Adoption\n",
      "MI Order of Adoption (alternative format suitable for framing)\n",
      "MI Order Placing Child (Stepparent Adoption)\n",
      "MI Order Placing Child after Consent\n",
      "MI Order Terminating Parental Rights (Stepparent Adoption)\n",
      "MI Order Terminating Parental Rights/Rights of Person In Loco Parentis After Release or Consent\n",
      "MI Order Terminating Rights of Father without Release or Consent\n",
      "MI Order to Determine Custody of Child Temporarily Placed for Adoption\n",
      "MI Out-of-Court Consent to Direct Placement Adoption by Parent\n",
      "MI Out-of-Court Release of Child by Parent\n",
      "MI Parent's or Guardian's Verified Accounting for Adoption Release or Direct Placement Consent\n",
      "MI Petition and Order for Approval of Confidential Intermediary Fee\n",
      "MI Petition and Order for Delayed Registration of Foreign Birth\n",
      "MI Petition and Order Regarding Release of Information from Confidential Intermediary and Court\n",
      "MI Petition and Order to Appoint Confidential Intermediary\n",
      "MI Petition by Parent/Guardian for Return of Child and Ex Parte Order\n"
     ]
    },
    {
     "name": "stderr",
     "output_type": "stream",
     "text": [
      "/Users/davidcolarusso/opt/anaconda3/lib/python3.8/site-packages/sklearn/cluster/_affinity_propagation.py:246: ConvergenceWarning: Affinity propagation did not converge, this model will not have any cluster centers.\n",
      "  warnings.warn(\"Affinity propagation did not converge, this model \"\n",
      "/Users/davidcolarusso/opt/anaconda3/lib/python3.8/site-packages/sklearn/cluster/_affinity_propagation.py:460: ConvergenceWarning: This model does not have any cluster centers because affinity propagation did not converge. Labeling every sample as '-1'.\n",
      "  warnings.warn(\"This model does not have any cluster centers \"\n"
     ]
    },
    {
     "name": "stdout",
     "output_type": "stream",
     "text": [
      "MI Petition for Adoption\n",
      "MI Petition for Adoption Information and Order\n",
      "MI Petition for Direct Placement Adoption\n",
      "MI Petition for Hearing to Identify Father and Determine or Terminate His Rights\n",
      "MI Petition for Rescission of Adoption and Order\n"
     ]
    },
    {
     "name": "stderr",
     "output_type": "stream",
     "text": [
      "/Users/davidcolarusso/opt/anaconda3/lib/python3.8/site-packages/sklearn/cluster/_affinity_propagation.py:246: ConvergenceWarning: Affinity propagation did not converge, this model will not have any cluster centers.\n",
      "  warnings.warn(\"Affinity propagation did not converge, this model \"\n",
      "/Users/davidcolarusso/opt/anaconda3/lib/python3.8/site-packages/sklearn/cluster/_affinity_propagation.py:460: ConvergenceWarning: This model does not have any cluster centers because affinity propagation did not converge. Labeling every sample as '-1'.\n",
      "  warnings.warn(\"This model does not have any cluster centers \"\n"
     ]
    },
    {
     "name": "stdout",
     "output_type": "stream",
     "text": [
      "MI Petition for Stepparent Adoption\n",
      "MI Petition to Determine Custody of Child Temporarily Placed for Adoption\n"
     ]
    },
    {
     "name": "stderr",
     "output_type": "stream",
     "text": [
      "/Users/davidcolarusso/opt/anaconda3/lib/python3.8/site-packages/sklearn/cluster/_affinity_propagation.py:246: ConvergenceWarning: Affinity propagation did not converge, this model will not have any cluster centers.\n",
      "  warnings.warn(\"Affinity propagation did not converge, this model \"\n",
      "/Users/davidcolarusso/opt/anaconda3/lib/python3.8/site-packages/sklearn/cluster/_affinity_propagation.py:460: ConvergenceWarning: This model does not have any cluster centers because affinity propagation did not converge. Labeling every sample as '-1'.\n",
      "  warnings.warn(\"This model does not have any cluster centers \"\n"
     ]
    },
    {
     "name": "stdout",
     "output_type": "stream",
     "text": [
      "MI Petitioner's Verified Accounting\n",
      "MI Release of Child by Child Placing Agency\n",
      "MI Release of Child by Guardian\n",
      "MI Release of Child by Parent\n",
      "MI Release of Indian Child by Parent\n",
      "MI Request for Confidentiality\n",
      "MI Statement of Child-Placing Agency Transferring Physical Custody of Child for Adoption\n"
     ]
    },
    {
     "name": "stderr",
     "output_type": "stream",
     "text": [
      "/Users/davidcolarusso/opt/anaconda3/lib/python3.8/site-packages/sklearn/cluster/_affinity_propagation.py:246: ConvergenceWarning: Affinity propagation did not converge, this model will not have any cluster centers.\n",
      "  warnings.warn(\"Affinity propagation did not converge, this model \"\n",
      "/Users/davidcolarusso/opt/anaconda3/lib/python3.8/site-packages/sklearn/cluster/_affinity_propagation.py:460: ConvergenceWarning: This model does not have any cluster centers because affinity propagation did not converge. Labeling every sample as '-1'.\n",
      "  warnings.warn(\"This model does not have any cluster centers \"\n"
     ]
    },
    {
     "name": "stdout",
     "output_type": "stream",
     "text": [
      "MI Statement of Identifying Information\n",
      "MI Statement of Nonresident Prospective Adoptive Parent Transferring Physical Custody of Child for Adoption\n",
      "MI Statement of Parent/Guardian Authorizing Temporary Placement of Child for Adoption\n",
      "MI Statement of Parent/Guardian Transferring Physical Custody of Child for Adoption\n"
     ]
    },
    {
     "name": "stderr",
     "output_type": "stream",
     "text": [
      "/Users/davidcolarusso/opt/anaconda3/lib/python3.8/site-packages/sklearn/cluster/_affinity_propagation.py:246: ConvergenceWarning: Affinity propagation did not converge, this model will not have any cluster centers.\n",
      "  warnings.warn(\"Affinity propagation did not converge, this model \"\n",
      "/Users/davidcolarusso/opt/anaconda3/lib/python3.8/site-packages/sklearn/cluster/_affinity_propagation.py:460: ConvergenceWarning: This model does not have any cluster centers because affinity propagation did not converge. Labeling every sample as '-1'.\n",
      "  warnings.warn(\"This model does not have any cluster centers \"\n"
     ]
    },
    {
     "name": "stdout",
     "output_type": "stream",
     "text": [
      "MI Statement of Prospective Adoptive Parent Transferring Physical Custody of Child for Adoption\n",
      "MI Statement of Services Performed by Agency/Department of Human Services\n",
      "MI Statement of Services Performed by Attorney\n",
      "MI Statement to Accompany Consent in Direct Placement\n",
      "MI Statement to Accompany Release\n",
      "MI Supplement to Petitioner's Verified Accounting\n",
      "MI Supplemental Petition and Affidavit to Terminate Parental Rights (Stepparent Adoption)\n",
      "MI Verified Declaration About Paternity (Out-of-Court Release or Consent)\n",
      "MI 14-Day Notice, Traffic\n",
      "\n",
      "MI Appeal of Suspension, Revocation, or Denial of Driver’s License\n",
      "MI Notice of Noncompliance, Drinking/Driving Offense\n",
      "\n",
      "MI Notice to Appear\n",
      "\n",
      "MI Order for Substance Abuse Evaluation\n",
      "MI Order for Vehicle Immobilization\n",
      "MI Order for Vehicle Impoundment\n",
      "MI Order Regarding Driver’s License Restoration\n",
      "MI Order Regarding Driver’s License Restoration after Review of the Record\n",
      "MI Order Regarding Impoundment of Motor Vehicle\n",
      "MI Order Regarding Seizure of Motorcycle\n",
      "MI Petition for Review of Driver’s License Denial, Restriction, or Suspension for Arrests or Actions on or After October 1, 1999\n",
      "MI Petition for Review of Driver’s License Denial, Restriction, or Suspension for Arrests or Actions Before October 1, 1999\n",
      "MI Petition Regarding Impoundment of Motor Vehicle\n",
      "MI Petition Regarding Seizure of Motorcycle\n",
      "MI Summary of Substance Abuse Assessment Report\n",
      "MI Motion and Order for Discharge From Probation\n",
      "MI Notice Regarding Eligibility for Early Discharge From Probation\n",
      "MI Order Following Probation Violation Hearing\n",
      "MI Order for Discharge From Probation\n",
      "MI Order of Probation\n",
      "MI Petition and Order for Amendment of Order of Probation\n",
      "MI Probation Violation Arraignment Advice of Rights\n",
      "MI Report of Nonpayment of Restitution\n",
      "MI Request and Summons For Probation Violation\n",
      "MI Request and Warrant for Probation Violation\n",
      "MI Bond, Claim and Delivery\n"
     ]
    },
    {
     "name": "stderr",
     "output_type": "stream",
     "text": [
      "/Users/davidcolarusso/opt/anaconda3/lib/python3.8/site-packages/sklearn/cluster/_affinity_propagation.py:246: ConvergenceWarning: Affinity propagation did not converge, this model will not have any cluster centers.\n",
      "  warnings.warn(\"Affinity propagation did not converge, this model \"\n",
      "/Users/davidcolarusso/opt/anaconda3/lib/python3.8/site-packages/sklearn/cluster/_affinity_propagation.py:460: ConvergenceWarning: This model does not have any cluster centers because affinity propagation did not converge. Labeling every sample as '-1'.\n",
      "  warnings.warn(\"This model does not have any cluster centers \"\n"
     ]
    },
    {
     "name": "stdout",
     "output_type": "stream",
     "text": [
      "MI Complaint, Claim and Delivery\n",
      "MI Judgment, Claim and Delivery\n",
      "MI Motion for Possession Pending Judgment, Claim and Delivery\n",
      "MI Order of Possession Pending Judgment, Claim and Delivery\n",
      "MI Ex Parte Petition Regarding Voluntary Foster Care Agreement\n",
      "MI Order Regarding Voluntary Foster Care Agreement\n",
      "MI Affidavit Concerning Financial Status- Leave to Appeal Granted by Supreme Court\n",
      "MI Appeal Worksheet for Application for Leave to Appeal\n",
      "\n",
      "MI Appeal Worksheet for Claim of Appeal of Right\n",
      "MI Application for Leave to Appeal\n",
      "MI Bond on Appeal\n"
     ]
    },
    {
     "name": "stderr",
     "output_type": "stream",
     "text": [
      "/Users/davidcolarusso/opt/anaconda3/lib/python3.8/site-packages/sklearn/cluster/_affinity_propagation.py:246: ConvergenceWarning: Affinity propagation did not converge, this model will not have any cluster centers.\n",
      "  warnings.warn(\"Affinity propagation did not converge, this model \"\n",
      "/Users/davidcolarusso/opt/anaconda3/lib/python3.8/site-packages/sklearn/cluster/_affinity_propagation.py:460: ConvergenceWarning: This model does not have any cluster centers because affinity propagation did not converge. Labeling every sample as '-1'.\n",
      "  warnings.warn(\"This model does not have any cluster centers \"\n"
     ]
    },
    {
     "name": "stdout",
     "output_type": "stream",
     "text": [
      "MI Certificate of Records Transmitted for Appeal and Notice to Parties\n"
     ]
    },
    {
     "name": "stderr",
     "output_type": "stream",
     "text": [
      "/Users/davidcolarusso/opt/anaconda3/lib/python3.8/site-packages/sklearn/cluster/_affinity_propagation.py:246: ConvergenceWarning: Affinity propagation did not converge, this model will not have any cluster centers.\n",
      "  warnings.warn(\"Affinity propagation did not converge, this model \"\n",
      "/Users/davidcolarusso/opt/anaconda3/lib/python3.8/site-packages/sklearn/cluster/_affinity_propagation.py:460: ConvergenceWarning: This model does not have any cluster centers because affinity propagation did not converge. Labeling every sample as '-1'.\n",
      "  warnings.warn(\"This model does not have any cluster centers \"\n"
     ]
    },
    {
     "name": "stdout",
     "output_type": "stream",
     "text": [
      "MI Claim of Appeal\n",
      "MI Claim of Appeal and Order Appointing Appellate Counsel\n",
      "MI Claim of Appeal and Order Appointing Counsel\n"
     ]
    },
    {
     "name": "stderr",
     "output_type": "stream",
     "text": [
      "/Users/davidcolarusso/opt/anaconda3/lib/python3.8/site-packages/sklearn/cluster/_affinity_propagation.py:246: ConvergenceWarning: Affinity propagation did not converge, this model will not have any cluster centers.\n",
      "  warnings.warn(\"Affinity propagation did not converge, this model \"\n",
      "/Users/davidcolarusso/opt/anaconda3/lib/python3.8/site-packages/sklearn/cluster/_affinity_propagation.py:460: ConvergenceWarning: This model does not have any cluster centers because affinity propagation did not converge. Labeling every sample as '-1'.\n",
      "  warnings.warn(\"This model does not have any cluster centers \"\n"
     ]
    },
    {
     "name": "stdout",
     "output_type": "stream",
     "text": [
      "MI Claim of Appeal on Application for Concealed Pistol License\n",
      "MI Docketing Statement (Court of Appeals)\n",
      "MI Jurisdictional Checklist for Court of Appeals\n",
      "MI MAACS Statement of Service and Order for Payment of Court Appointed Counsel\n",
      "\n",
      "MI Motion to Change Time for Filing Transcript on Appeal\n"
     ]
    },
    {
     "name": "stderr",
     "output_type": "stream",
     "text": [
      "/Users/davidcolarusso/opt/anaconda3/lib/python3.8/site-packages/sklearn/cluster/_affinity_propagation.py:246: ConvergenceWarning: Affinity propagation did not converge, this model will not have any cluster centers.\n",
      "  warnings.warn(\"Affinity propagation did not converge, this model \"\n",
      "/Users/davidcolarusso/opt/anaconda3/lib/python3.8/site-packages/sklearn/cluster/_affinity_propagation.py:460: ConvergenceWarning: This model does not have any cluster centers because affinity propagation did not converge. Labeling every sample as '-1'.\n",
      "  warnings.warn(\"This model does not have any cluster centers \"\n"
     ]
    },
    {
     "name": "stdout",
     "output_type": "stream",
     "text": [
      "MI Notice of Filing of Transcript and Affidavit of Mailing\n",
      "MI Notice of Intent to Dismiss Appeal (formerly MC 59)\n",
      "MI Notice of Record Return from Circuit Court/Court of Appeals\n"
     ]
    },
    {
     "name": "stderr",
     "output_type": "stream",
     "text": [
      "/Users/davidcolarusso/opt/anaconda3/lib/python3.8/site-packages/sklearn/cluster/_affinity_propagation.py:246: ConvergenceWarning: Affinity propagation did not converge, this model will not have any cluster centers.\n",
      "  warnings.warn(\"Affinity propagation did not converge, this model \"\n",
      "/Users/davidcolarusso/opt/anaconda3/lib/python3.8/site-packages/sklearn/cluster/_affinity_propagation.py:460: ConvergenceWarning: This model does not have any cluster centers because affinity propagation did not converge. Labeling every sample as '-1'.\n",
      "  warnings.warn(\"This model does not have any cluster centers \"\n"
     ]
    },
    {
     "name": "stdout",
     "output_type": "stream",
     "text": [
      "MI Notice of Right to Appellate Review and Request for Appointment of Attorney\n",
      "MI Notice to Prisoner on Application for Leave to Appeal Decision of Parole Board\n",
      "MI Order Denying Appointment of Appellate Counsel\n",
      "MI Order Dismissing Appeal (formerly MC 61)\n"
     ]
    },
    {
     "name": "stderr",
     "output_type": "stream",
     "text": [
      "/Users/davidcolarusso/opt/anaconda3/lib/python3.8/site-packages/sklearn/cluster/_affinity_propagation.py:246: ConvergenceWarning: Affinity propagation did not converge, this model will not have any cluster centers.\n",
      "  warnings.warn(\"Affinity propagation did not converge, this model \"\n",
      "/Users/davidcolarusso/opt/anaconda3/lib/python3.8/site-packages/sklearn/cluster/_affinity_propagation.py:460: ConvergenceWarning: This model does not have any cluster centers because affinity propagation did not converge. Labeling every sample as '-1'.\n",
      "  warnings.warn(\"This model does not have any cluster centers \"\n"
     ]
    },
    {
     "name": "stdout",
     "output_type": "stream",
     "text": [
      "MI Order Following Appeal on Application for Concealed Pistol License\n",
      "MI Order on Application for Leave to Appeal\n",
      "MI Order Regarding Appointment of Appellate Counsel and Transcript\n"
     ]
    },
    {
     "name": "stderr",
     "output_type": "stream",
     "text": [
      "/Users/davidcolarusso/opt/anaconda3/lib/python3.8/site-packages/sklearn/cluster/_affinity_propagation.py:246: ConvergenceWarning: Affinity propagation did not converge, this model will not have any cluster centers.\n",
      "  warnings.warn(\"Affinity propagation did not converge, this model \"\n",
      "/Users/davidcolarusso/opt/anaconda3/lib/python3.8/site-packages/sklearn/cluster/_affinity_propagation.py:460: ConvergenceWarning: This model does not have any cluster centers because affinity propagation did not converge. Labeling every sample as '-1'.\n",
      "  warnings.warn(\"This model does not have any cluster centers \"\n"
     ]
    },
    {
     "name": "stdout",
     "output_type": "stream",
     "text": [
      "MI Order To Show Cause Why Appeal Should Not Be Dismissed\n"
     ]
    },
    {
     "name": "stderr",
     "output_type": "stream",
     "text": [
      "/Users/davidcolarusso/opt/anaconda3/lib/python3.8/site-packages/sklearn/cluster/_affinity_propagation.py:246: ConvergenceWarning: Affinity propagation did not converge, this model will not have any cluster centers.\n",
      "  warnings.warn(\"Affinity propagation did not converge, this model \"\n",
      "/Users/davidcolarusso/opt/anaconda3/lib/python3.8/site-packages/sklearn/cluster/_affinity_propagation.py:460: ConvergenceWarning: This model does not have any cluster centers because affinity propagation did not converge. Labeling every sample as '-1'.\n",
      "  warnings.warn(\"This model does not have any cluster centers \"\n"
     ]
    },
    {
     "name": "stdout",
     "output_type": "stream",
     "text": [
      "MI Record Production Checklist for Court of Appeals\n",
      "MI Reporter/Recorder Certificate of Ordering Transcript on Appeal\n",
      "MI Request and Order for Court-Appointed Attorney\n",
      "MI Request for Court Appointed Appellate Counsel\n",
      "MI Final Statement on Garnishment of Periodic Payments\n",
      "MI Garnishee Disclosure\n",
      "MI Garnishment Release\n",
      "MI Motion and Affidavit for Installment Payments/To Amend Order for Installment Payments\n"
     ]
    },
    {
     "name": "stderr",
     "output_type": "stream",
     "text": [
      "/Users/davidcolarusso/opt/anaconda3/lib/python3.8/site-packages/sklearn/cluster/_affinity_propagation.py:246: ConvergenceWarning: Affinity propagation did not converge, this model will not have any cluster centers.\n",
      "  warnings.warn(\"Affinity propagation did not converge, this model \"\n",
      "/Users/davidcolarusso/opt/anaconda3/lib/python3.8/site-packages/sklearn/cluster/_affinity_propagation.py:460: ConvergenceWarning: This model does not have any cluster centers because affinity propagation did not converge. Labeling every sample as '-1'.\n",
      "  warnings.warn(\"This model does not have any cluster centers \"\n"
     ]
    },
    {
     "name": "stdout",
     "output_type": "stream",
     "text": [
      "MI Motion to Set Aside Order for Installment Payments\n"
     ]
    },
    {
     "name": "stderr",
     "output_type": "stream",
     "text": [
      "/Users/davidcolarusso/opt/anaconda3/lib/python3.8/site-packages/sklearn/cluster/_affinity_propagation.py:246: ConvergenceWarning: Affinity propagation did not converge, this model will not have any cluster centers.\n",
      "  warnings.warn(\"Affinity propagation did not converge, this model \"\n",
      "/Users/davidcolarusso/opt/anaconda3/lib/python3.8/site-packages/sklearn/cluster/_affinity_propagation.py:460: ConvergenceWarning: This model does not have any cluster centers because affinity propagation did not converge. Labeling every sample as '-1'.\n",
      "  warnings.warn(\"This model does not have any cluster centers \"\n"
     ]
    },
    {
     "name": "stdout",
     "output_type": "stream",
     "text": [
      "MI Objections to Garnishment and Notice of Hearing\n",
      "MI Order on Motion to Set Aside Order for Installment Payments\n",
      "MI Order on Objections to Garnishment\n"
     ]
    },
    {
     "name": "stderr",
     "output_type": "stream",
     "text": [
      "/Users/davidcolarusso/opt/anaconda3/lib/python3.8/site-packages/sklearn/cluster/_affinity_propagation.py:246: ConvergenceWarning: Affinity propagation did not converge, this model will not have any cluster centers.\n",
      "  warnings.warn(\"Affinity propagation did not converge, this model \"\n",
      "/Users/davidcolarusso/opt/anaconda3/lib/python3.8/site-packages/sklearn/cluster/_affinity_propagation.py:460: ConvergenceWarning: This model does not have any cluster centers because affinity propagation did not converge. Labeling every sample as '-1'.\n",
      "  warnings.warn(\"This model does not have any cluster centers \"\n"
     ]
    },
    {
     "name": "stdout",
     "output_type": "stream",
     "text": [
      "MI Order Regarding Installment Payments\n",
      "MI Request and Writ for Garnishment (Income Tax Refund/Credit)\n",
      "MI Request and Writ for Garnishment (Nonperiodic)\n",
      "MI Request and Writ for Garnishment (Periodic)\n",
      "MI Acceptance of Receivership Appointment (Receivership Estate)\n",
      "MI Affidavit and Notice of Entry of Foreign Judgment\n",
      "MI Answer, Civil\n",
      "MI Authorization for Release of Medical Information\n",
      "MI Certificate of Satisfied Judgment\n",
      "MI Complaint\n",
      "MI Complaint and Summons Regarding Dangerous Animal\n",
      "MI Default Request and Entry\n",
      "MI Default Request, Entry, and Judgment (Sum Certain)\n",
      "MI Department of Natural Resources, Complaint, Condemnation and Confiscation\n",
      "MI Department of Natural Resources, Order to Show Cause, Condemnation and Confiscation\n",
      "MI Department of Natural Resources, Order, Condemnation and Confiscation\n",
      "MI Dismissal\n",
      "MI Dismissal, Nonservice/No Progress\n"
     ]
    },
    {
     "name": "stderr",
     "output_type": "stream",
     "text": [
      "/Users/davidcolarusso/opt/anaconda3/lib/python3.8/site-packages/sklearn/cluster/_affinity_propagation.py:246: ConvergenceWarning: Affinity propagation did not converge, this model will not have any cluster centers.\n",
      "  warnings.warn(\"Affinity propagation did not converge, this model \"\n",
      "/Users/davidcolarusso/opt/anaconda3/lib/python3.8/site-packages/sklearn/cluster/_affinity_propagation.py:460: ConvergenceWarning: This model does not have any cluster centers because affinity propagation did not converge. Labeling every sample as '-1'.\n",
      "  warnings.warn(\"This model does not have any cluster centers \"\n"
     ]
    },
    {
     "name": "stdout",
     "output_type": "stream",
     "text": [
      "MI Ex Parte Motion and Order to Renew Civil Judgment\n",
      "MI Final Report and Accounting (Receivership Estate)\n",
      "MI Judgment, Civil\n",
      "MI Jury Demand\n",
      "MI Motion and Affidavit to Set Aside Default (Civil) (formerly DC 99)\n",
      "MI Motion and Order Reopening Case after Bankruptcy\n"
     ]
    },
    {
     "name": "stderr",
     "output_type": "stream",
     "text": [
      "/Users/davidcolarusso/opt/anaconda3/lib/python3.8/site-packages/sklearn/cluster/_affinity_propagation.py:246: ConvergenceWarning: Affinity propagation did not converge, this model will not have any cluster centers.\n",
      "  warnings.warn(\"Affinity propagation did not converge, this model \"\n",
      "/Users/davidcolarusso/opt/anaconda3/lib/python3.8/site-packages/sklearn/cluster/_affinity_propagation.py:460: ConvergenceWarning: This model does not have any cluster centers because affinity propagation did not converge. Labeling every sample as '-1'.\n",
      "  warnings.warn(\"This model does not have any cluster centers \"\n"
     ]
    },
    {
     "name": "stdout",
     "output_type": "stream",
     "text": [
      "MI Motion for Appointment of Receiver\n",
      "MI Motion for Second Summons and Order\n",
      "MI Motion to Intervene to Protect Assets and Notice of Hearing\n",
      "MI Notice of Judgment Lien\n",
      "MI Notice of Order Appointing Receiver (Receivership Estate)\n",
      "MI Notice of Receiver's Application for Compensation, Fees or Expenses (Receivership Estate)\n",
      "MI Order for Administrative Closing Due to Bankruptcy Stay\n",
      "MI Order for Change of Venue\n",
      "MI Order for Security for Costs\n",
      "MI Order for Transfer of Jurisdiction\n",
      "MI Order on Motion to Intervene to Protect Assets\n",
      "MI Order Regarding Dangerous Animal\n",
      "MI Order Regarding Motion to Set Aside Default (formerly DC 99a)\n",
      "MI Order Regarding Suspension of Prisoner Fees/Costs\n",
      "MI Payment Receipt and Inventory of Seized Property\n"
     ]
    },
    {
     "name": "stderr",
     "output_type": "stream",
     "text": [
      "/Users/davidcolarusso/opt/anaconda3/lib/python3.8/site-packages/sklearn/cluster/_affinity_propagation.py:246: ConvergenceWarning: Affinity propagation did not converge, this model will not have any cluster centers.\n",
      "  warnings.warn(\"Affinity propagation did not converge, this model \"\n",
      "/Users/davidcolarusso/opt/anaconda3/lib/python3.8/site-packages/sklearn/cluster/_affinity_propagation.py:460: ConvergenceWarning: This model does not have any cluster centers because affinity propagation did not converge. Labeling every sample as '-1'.\n",
      "  warnings.warn(\"This model does not have any cluster centers \"\n"
     ]
    },
    {
     "name": "stdout",
     "output_type": "stream",
     "text": [
      "MI Report of Collection Activity under Order to Seize Property\n"
     ]
    },
    {
     "name": "stderr",
     "output_type": "stream",
     "text": [
      "/Users/davidcolarusso/opt/anaconda3/lib/python3.8/site-packages/sklearn/cluster/_affinity_propagation.py:246: ConvergenceWarning: Affinity propagation did not converge, this model will not have any cluster centers.\n",
      "  warnings.warn(\"Affinity propagation did not converge, this model \"\n",
      "/Users/davidcolarusso/opt/anaconda3/lib/python3.8/site-packages/sklearn/cluster/_affinity_propagation.py:460: ConvergenceWarning: This model does not have any cluster centers because affinity propagation did not converge. Labeling every sample as '-1'.\n",
      "  warnings.warn(\"This model does not have any cluster centers \"\n"
     ]
    },
    {
     "name": "stdout",
     "output_type": "stream",
     "text": [
      "MI Request and Order to Seize Property\n",
      "MI Request for Approval of Bond and Notice (Settlement/Judgment/Wrongful Death Settlement)\n"
     ]
    },
    {
     "name": "stderr",
     "output_type": "stream",
     "text": [
      "/Users/davidcolarusso/opt/anaconda3/lib/python3.8/site-packages/sklearn/cluster/_affinity_propagation.py:246: ConvergenceWarning: Affinity propagation did not converge, this model will not have any cluster centers.\n",
      "  warnings.warn(\"Affinity propagation did not converge, this model \"\n",
      "/Users/davidcolarusso/opt/anaconda3/lib/python3.8/site-packages/sklearn/cluster/_affinity_propagation.py:460: ConvergenceWarning: This model does not have any cluster centers because affinity propagation did not converge. Labeling every sample as '-1'.\n",
      "  warnings.warn(\"This model does not have any cluster centers \"\n"
     ]
    },
    {
     "name": "stdout",
     "output_type": "stream",
     "text": [
      "MI Application and Ex Parte Order to File Lien on Real Property Subject to Forfeiture\n",
      "MI Claim of Interest on Vehicle Seized for Forfeiture\n",
      "MI Motion and Order to Seize Personal Property Subject to Forfeiture\n",
      "MI Motion and Order to Seize Vehicle Subject to Forfeiture\n",
      "MI Motion for Return of Vehicle Pending Forfeiture Proceedings\n",
      "MI Notice of Intent to Forfeit and Dispose of Property\n",
      "MI Notice of Intent to Forfeit Vehicle\n",
      "MI Notice of Seizure and Intent to Forfeit and Dispose of Property\n",
      "MI Notice of Seizure of Personal Property Subject to Forfeiture without Process and Order\n",
      "MI Order Following Forfeiture Proceedings\n",
      "MI Order for Return of Property or Discharge of Lien in Forfeiture Proceedings\n",
      "MI Order of Distribution in Forfeiture Proceedings\n",
      "MI Order on Claim of Interest on Vehicle Seized for Forfeiture\n",
      "MI Order on Motion for Return of Vehicle Pending Forfeiture Proceedings\n",
      "MI Order to Return/Forfeit Vehicle after Sentencing\n",
      "MI Binding Arbitration Award\n"
     ]
    },
    {
     "name": "stderr",
     "output_type": "stream",
     "text": [
      "/Users/davidcolarusso/opt/anaconda3/lib/python3.8/site-packages/sklearn/cluster/_affinity_propagation.py:246: ConvergenceWarning: Affinity propagation did not converge, this model will not have any cluster centers.\n",
      "  warnings.warn(\"Affinity propagation did not converge, this model \"\n",
      "/Users/davidcolarusso/opt/anaconda3/lib/python3.8/site-packages/sklearn/cluster/_affinity_propagation.py:460: ConvergenceWarning: This model does not have any cluster centers because affinity propagation did not converge. Labeling every sample as '-1'.\n",
      "  warnings.warn(\"This model does not have any cluster centers \"\n"
     ]
    },
    {
     "name": "stdout",
     "output_type": "stream",
     "text": [
      "MI Civil Mediator Application\n",
      "MI Domestic Relations Mediator Application\n",
      "MI Domestic Violence Screening for Referral to Mediation\n",
      "MI Judgment Regarding Arbitration Award\n"
     ]
    },
    {
     "name": "stderr",
     "output_type": "stream",
     "text": [
      "/Users/davidcolarusso/opt/anaconda3/lib/python3.8/site-packages/sklearn/cluster/_affinity_propagation.py:246: ConvergenceWarning: Affinity propagation did not converge, this model will not have any cluster centers.\n",
      "  warnings.warn(\"Affinity propagation did not converge, this model \"\n",
      "/Users/davidcolarusso/opt/anaconda3/lib/python3.8/site-packages/sklearn/cluster/_affinity_propagation.py:460: ConvergenceWarning: This model does not have any cluster centers because affinity propagation did not converge. Labeling every sample as '-1'.\n",
      "  warnings.warn(\"This model does not have any cluster centers \"\n"
     ]
    },
    {
     "name": "stdout",
     "output_type": "stream",
     "text": [
      "MI Mediation Status Report\n"
     ]
    },
    {
     "name": "stderr",
     "output_type": "stream",
     "text": [
      "/Users/davidcolarusso/opt/anaconda3/lib/python3.8/site-packages/sklearn/cluster/_affinity_propagation.py:246: ConvergenceWarning: Affinity propagation did not converge, this model will not have any cluster centers.\n",
      "  warnings.warn(\"Affinity propagation did not converge, this model \"\n",
      "/Users/davidcolarusso/opt/anaconda3/lib/python3.8/site-packages/sklearn/cluster/_affinity_propagation.py:460: ConvergenceWarning: This model does not have any cluster centers because affinity propagation did not converge. Labeling every sample as '-1'.\n",
      "  warnings.warn(\"This model does not have any cluster centers \"\n"
     ]
    },
    {
     "name": "stdout",
     "output_type": "stream",
     "text": [
      "MI Motion to Modify Order for Mediation\n",
      "MI Motion to Remove Case from Mediation\n"
     ]
    },
    {
     "name": "stderr",
     "output_type": "stream",
     "text": [
      "/Users/davidcolarusso/opt/anaconda3/lib/python3.8/site-packages/sklearn/cluster/_affinity_propagation.py:246: ConvergenceWarning: Affinity propagation did not converge, this model will not have any cluster centers.\n",
      "  warnings.warn(\"Affinity propagation did not converge, this model \"\n",
      "/Users/davidcolarusso/opt/anaconda3/lib/python3.8/site-packages/sklearn/cluster/_affinity_propagation.py:460: ConvergenceWarning: This model does not have any cluster centers because affinity propagation did not converge. Labeling every sample as '-1'.\n",
      "  warnings.warn(\"This model does not have any cluster centers \"\n"
     ]
    },
    {
     "name": "stdout",
     "output_type": "stream",
     "text": [
      "MI Notice Regarding Court-Selected Mediator\n",
      "MI Order for Mediation\n"
     ]
    },
    {
     "name": "stderr",
     "output_type": "stream",
     "text": [
      "/Users/davidcolarusso/opt/anaconda3/lib/python3.8/site-packages/sklearn/cluster/_affinity_propagation.py:246: ConvergenceWarning: Affinity propagation did not converge, this model will not have any cluster centers.\n",
      "  warnings.warn(\"Affinity propagation did not converge, this model \"\n",
      "/Users/davidcolarusso/opt/anaconda3/lib/python3.8/site-packages/sklearn/cluster/_affinity_propagation.py:460: ConvergenceWarning: This model does not have any cluster centers because affinity propagation did not converge. Labeling every sample as '-1'.\n",
      "  warnings.warn(\"This model does not have any cluster centers \"\n"
     ]
    },
    {
     "name": "stdout",
     "output_type": "stream",
     "text": [
      "MI Order on Motion to Remove Case from Mediation\n"
     ]
    },
    {
     "name": "stderr",
     "output_type": "stream",
     "text": [
      "/Users/davidcolarusso/opt/anaconda3/lib/python3.8/site-packages/sklearn/cluster/_affinity_propagation.py:246: ConvergenceWarning: Affinity propagation did not converge, this model will not have any cluster centers.\n",
      "  warnings.warn(\"Affinity propagation did not converge, this model \"\n",
      "/Users/davidcolarusso/opt/anaconda3/lib/python3.8/site-packages/sklearn/cluster/_affinity_propagation.py:460: ConvergenceWarning: This model does not have any cluster centers because affinity propagation did not converge. Labeling every sample as '-1'.\n",
      "  warnings.warn(\"This model does not have any cluster centers \"\n"
     ]
    },
    {
     "name": "stdout",
     "output_type": "stream",
     "text": [
      "MI Stipulation for Mediation\n"
     ]
    },
    {
     "name": "stderr",
     "output_type": "stream",
     "text": [
      "/Users/davidcolarusso/opt/anaconda3/lib/python3.8/site-packages/sklearn/cluster/_affinity_propagation.py:246: ConvergenceWarning: Affinity propagation did not converge, this model will not have any cluster centers.\n",
      "  warnings.warn(\"Affinity propagation did not converge, this model \"\n",
      "/Users/davidcolarusso/opt/anaconda3/lib/python3.8/site-packages/sklearn/cluster/_affinity_propagation.py:460: ConvergenceWarning: This model does not have any cluster centers because affinity propagation did not converge. Labeling every sample as '-1'.\n",
      "  warnings.warn(\"This model does not have any cluster centers \"\n"
     ]
    },
    {
     "name": "stdout",
     "output_type": "stream",
     "text": [
      "MI Order on Petition to Discontinue Sex Offender Registration\n",
      "MI Petition to Discontinue Sex Offender Registration\n",
      "MI Acceptance of Appointment\n",
      "MI Account of Fiduciary, Long Form\n",
      "MI Account of Fiduciary, Short Form\n",
      "MI Affidavit of Decedent’s Successor for Delivery of Certain Assets Owned by Decedent\n",
      "MI Appearance of Parent of Minor\n"
     ]
    },
    {
     "name": "stderr",
     "output_type": "stream",
     "text": [
      "/Users/davidcolarusso/opt/anaconda3/lib/python3.8/site-packages/sklearn/cluster/_affinity_propagation.py:246: ConvergenceWarning: Affinity propagation did not converge, this model will not have any cluster centers.\n",
      "  warnings.warn(\"Affinity propagation did not converge, this model \"\n",
      "/Users/davidcolarusso/opt/anaconda3/lib/python3.8/site-packages/sklearn/cluster/_affinity_propagation.py:460: ConvergenceWarning: This model does not have any cluster centers because affinity propagation did not converge. Labeling every sample as '-1'.\n",
      "  warnings.warn(\"This model does not have any cluster centers \"\n"
     ]
    },
    {
     "name": "stdout",
     "output_type": "stream",
     "text": [
      "MI Application for Appointment of Successor Personal Representative (Estate Not Closed)\n"
     ]
    },
    {
     "name": "stderr",
     "output_type": "stream",
     "text": [
      "/Users/davidcolarusso/opt/anaconda3/lib/python3.8/site-packages/sklearn/cluster/_affinity_propagation.py:246: ConvergenceWarning: Affinity propagation did not converge, this model will not have any cluster centers.\n",
      "  warnings.warn(\"Affinity propagation did not converge, this model \"\n",
      "/Users/davidcolarusso/opt/anaconda3/lib/python3.8/site-packages/sklearn/cluster/_affinity_propagation.py:460: ConvergenceWarning: This model does not have any cluster centers because affinity propagation did not converge. Labeling every sample as '-1'.\n",
      "  warnings.warn(\"This model does not have any cluster centers \"\n"
     ]
    },
    {
     "name": "stdout",
     "output_type": "stream",
     "text": [
      "MI Application for Informal Probate and/or Appointment of Personal Representative (Testate/Intestate)\n",
      "MI Application/Petition to Reopen Estate\n"
     ]
    },
    {
     "name": "stderr",
     "output_type": "stream",
     "text": [
      "/Users/davidcolarusso/opt/anaconda3/lib/python3.8/site-packages/sklearn/cluster/_affinity_propagation.py:246: ConvergenceWarning: Affinity propagation did not converge, this model will not have any cluster centers.\n",
      "  warnings.warn(\"Affinity propagation did not converge, this model \"\n",
      "/Users/davidcolarusso/opt/anaconda3/lib/python3.8/site-packages/sklearn/cluster/_affinity_propagation.py:460: ConvergenceWarning: This model does not have any cluster centers because affinity propagation did not converge. Labeling every sample as '-1'.\n",
      "  warnings.warn(\"This model does not have any cluster centers \"\n"
     ]
    },
    {
     "name": "stdout",
     "output_type": "stream",
     "text": [
      "MI Authorization to Release Will Held for Safekeeping\n",
      "MI Bond of Fiduciary\n"
     ]
    },
    {
     "name": "stderr",
     "output_type": "stream",
     "text": [
      "/Users/davidcolarusso/opt/anaconda3/lib/python3.8/site-packages/sklearn/cluster/_affinity_propagation.py:246: ConvergenceWarning: Affinity propagation did not converge, this model will not have any cluster centers.\n",
      "  warnings.warn(\"Affinity propagation did not converge, this model \"\n",
      "/Users/davidcolarusso/opt/anaconda3/lib/python3.8/site-packages/sklearn/cluster/_affinity_propagation.py:460: ConvergenceWarning: This model does not have any cluster centers because affinity propagation did not converge. Labeling every sample as '-1'.\n",
      "  warnings.warn(\"This model does not have any cluster centers \"\n"
     ]
    },
    {
     "name": "stdout",
     "output_type": "stream",
     "text": [
      "MI Certificate of Completion\n",
      "MI Declaration of Intent to Give Notice by Publication\n",
      "MI Demand for Notice\n",
      "MI Inventory (Decedent Estate)\n",
      "MI Letters of Authority for Personal Representative\n"
     ]
    },
    {
     "name": "stderr",
     "output_type": "stream",
     "text": [
      "/Users/davidcolarusso/opt/anaconda3/lib/python3.8/site-packages/sklearn/cluster/_affinity_propagation.py:246: ConvergenceWarning: Affinity propagation did not converge, this model will not have any cluster centers.\n",
      "  warnings.warn(\"Affinity propagation did not converge, this model \"\n",
      "/Users/davidcolarusso/opt/anaconda3/lib/python3.8/site-packages/sklearn/cluster/_affinity_propagation.py:460: ConvergenceWarning: This model does not have any cluster centers because affinity propagation did not converge. Labeling every sample as '-1'.\n",
      "  warnings.warn(\"This model does not have any cluster centers \"\n"
     ]
    },
    {
     "name": "stdout",
     "output_type": "stream",
     "text": [
      "MI Memorandum of Administrative Closing\n",
      "MI Memorandum of Conference to Correct Deficiency\n",
      "MI Notice of Appeal and Application (Drain Code - Apportionment Appeal)\n",
      "MI Notice of Appointment and Duties of Personal Representative\n"
     ]
    },
    {
     "name": "stderr",
     "output_type": "stream",
     "text": [
      "/Users/davidcolarusso/opt/anaconda3/lib/python3.8/site-packages/sklearn/cluster/_affinity_propagation.py:246: ConvergenceWarning: Affinity propagation did not converge, this model will not have any cluster centers.\n",
      "  warnings.warn(\"Affinity propagation did not converge, this model \"\n",
      "/Users/davidcolarusso/opt/anaconda3/lib/python3.8/site-packages/sklearn/cluster/_affinity_propagation.py:460: ConvergenceWarning: This model does not have any cluster centers because affinity propagation did not converge. Labeling every sample as '-1'.\n",
      "  warnings.warn(\"This model does not have any cluster centers \"\n"
     ]
    },
    {
     "name": "stdout",
     "output_type": "stream",
     "text": [
      "MI Notice of Continued Administration\n",
      "MI Notice of Deficiency\n",
      "MI Notice of Disallowance of Claim\n"
     ]
    },
    {
     "name": "stderr",
     "output_type": "stream",
     "text": [
      "/Users/davidcolarusso/opt/anaconda3/lib/python3.8/site-packages/sklearn/cluster/_affinity_propagation.py:246: ConvergenceWarning: Affinity propagation did not converge, this model will not have any cluster centers.\n",
      "  warnings.warn(\"Affinity propagation did not converge, this model \"\n",
      "/Users/davidcolarusso/opt/anaconda3/lib/python3.8/site-packages/sklearn/cluster/_affinity_propagation.py:460: ConvergenceWarning: This model does not have any cluster centers because affinity propagation did not converge. Labeling every sample as '-1'.\n",
      "  warnings.warn(\"This model does not have any cluster centers \"\n"
     ]
    },
    {
     "name": "stdout",
     "output_type": "stream",
     "text": [
      "MI Notice of Foreign Administration Filing\n",
      "MI Notice of Hearing\n",
      "MI Notice of Hearing to Heirs and Right to Object to Appointment of Public Administrator\n",
      "MI Notice of Informal Probate (No Personal Representative Appointed)\n",
      "MI Notice of Intent to Close Estate Administration and Terminate Personal Representative’s Authority\n"
     ]
    },
    {
     "name": "stderr",
     "output_type": "stream",
     "text": [
      "/Users/davidcolarusso/opt/anaconda3/lib/python3.8/site-packages/sklearn/cluster/_affinity_propagation.py:246: ConvergenceWarning: Affinity propagation did not converge, this model will not have any cluster centers.\n",
      "  warnings.warn(\"Affinity propagation did not converge, this model \"\n",
      "/Users/davidcolarusso/opt/anaconda3/lib/python3.8/site-packages/sklearn/cluster/_affinity_propagation.py:460: ConvergenceWarning: This model does not have any cluster centers because affinity propagation did not converge. Labeling every sample as '-1'.\n",
      "  warnings.warn(\"This model does not have any cluster centers \"\n"
     ]
    },
    {
     "name": "stdout",
     "output_type": "stream",
     "text": [
      "MI Notice of Intent to Request Informal Appointment of Personal Representative\n",
      "MI Notice Regarding Attorney Fees\n"
     ]
    },
    {
     "name": "stderr",
     "output_type": "stream",
     "text": [
      "/Users/davidcolarusso/opt/anaconda3/lib/python3.8/site-packages/sklearn/cluster/_affinity_propagation.py:246: ConvergenceWarning: Affinity propagation did not converge, this model will not have any cluster centers.\n",
      "  warnings.warn(\"Affinity propagation did not converge, this model \"\n",
      "/Users/davidcolarusso/opt/anaconda3/lib/python3.8/site-packages/sklearn/cluster/_affinity_propagation.py:460: ConvergenceWarning: This model does not have any cluster centers because affinity propagation did not converge. Labeling every sample as '-1'.\n",
      "  warnings.warn(\"This model does not have any cluster centers \"\n"
     ]
    },
    {
     "name": "stdout",
     "output_type": "stream",
     "text": [
      "MI Notice to Creditors, Decedent’s Estate\n",
      "MI Notice to Drain Commissioner (Drain Code - Apportionment Appeal)\n",
      "MI Notice to Known Creditors\n"
     ]
    },
    {
     "name": "stderr",
     "output_type": "stream",
     "text": [
      "/Users/davidcolarusso/opt/anaconda3/lib/python3.8/site-packages/sklearn/cluster/_affinity_propagation.py:246: ConvergenceWarning: Affinity propagation did not converge, this model will not have any cluster centers.\n",
      "  warnings.warn(\"Affinity propagation did not converge, this model \"\n",
      "/Users/davidcolarusso/opt/anaconda3/lib/python3.8/site-packages/sklearn/cluster/_affinity_propagation.py:460: ConvergenceWarning: This model does not have any cluster centers because affinity propagation did not converge. Labeling every sample as '-1'.\n",
      "  warnings.warn(\"This model does not have any cluster centers \"\n"
     ]
    },
    {
     "name": "stdout",
     "output_type": "stream",
     "text": [
      "MI Notice to Spouse of Rights of Election and Allowances, Proof of Service, and Election\n",
      "MI Objection to the Appointment of Public Administrator as Personal Representative\n",
      "MI Order (general)\n",
      "MI Order Allowing Account(s)\n",
      "MI Order Appointing Board of Review (Drain Code - Apportionment Appeal)\n",
      "MI Order Appointing Special Fiduciary and/or Suspending Powers of Fiduciary\n",
      "MI Order Determining Heirs, Separate Proceedings\n",
      "MI Order Establishing Death of Accident or Disaster Victim\n",
      "MI Order for Assignment\n",
      "MI Order for Change of Venue\n",
      "MI Order for Complete Estate Settlement\n"
     ]
    },
    {
     "name": "stderr",
     "output_type": "stream",
     "text": [
      "/Users/davidcolarusso/opt/anaconda3/lib/python3.8/site-packages/sklearn/cluster/_affinity_propagation.py:246: ConvergenceWarning: Affinity propagation did not converge, this model will not have any cluster centers.\n",
      "  warnings.warn(\"Affinity propagation did not converge, this model \"\n",
      "/Users/davidcolarusso/opt/anaconda3/lib/python3.8/site-packages/sklearn/cluster/_affinity_propagation.py:460: ConvergenceWarning: This model does not have any cluster centers because affinity propagation did not converge. Labeling every sample as '-1'.\n",
      "  warnings.warn(\"This model does not have any cluster centers \"\n"
     ]
    },
    {
     "name": "stdout",
     "output_type": "stream",
     "text": [
      "MI Order of Discharge\n",
      "MI Order of Formal Proceedings\n"
     ]
    },
    {
     "name": "stderr",
     "output_type": "stream",
     "text": [
      "/Users/davidcolarusso/opt/anaconda3/lib/python3.8/site-packages/sklearn/cluster/_affinity_propagation.py:246: ConvergenceWarning: Affinity propagation did not converge, this model will not have any cluster centers.\n",
      "  warnings.warn(\"Affinity propagation did not converge, this model \"\n",
      "/Users/davidcolarusso/opt/anaconda3/lib/python3.8/site-packages/sklearn/cluster/_affinity_propagation.py:460: ConvergenceWarning: This model does not have any cluster centers because affinity propagation did not converge. Labeling every sample as '-1'.\n",
      "  warnings.warn(\"This model does not have any cluster centers \"\n"
     ]
    },
    {
     "name": "stdout",
     "output_type": "stream",
     "text": [
      "MI Order Regarding Appointment of Personal Representative\n",
      "MI Order Regarding Sale of Real Estate (Decedent Estate)\n",
      "MI Personal Representative Notice to Friend of the Court\n",
      "MI Petition and Order\n",
      "MI Petition and Order for Reinstatement (Case Not Closed)\n",
      "MI Petition and Order to Open Safe-Deposit Box to Locate Will or Burial Deed\n"
     ]
    },
    {
     "name": "stderr",
     "output_type": "stream",
     "text": [
      "/Users/davidcolarusso/opt/anaconda3/lib/python3.8/site-packages/sklearn/cluster/_affinity_propagation.py:246: ConvergenceWarning: Affinity propagation did not converge, this model will not have any cluster centers.\n",
      "  warnings.warn(\"Affinity propagation did not converge, this model \"\n",
      "/Users/davidcolarusso/opt/anaconda3/lib/python3.8/site-packages/sklearn/cluster/_affinity_propagation.py:460: ConvergenceWarning: This model does not have any cluster centers because affinity propagation did not converge. Labeling every sample as '-1'.\n",
      "  warnings.warn(\"This model does not have any cluster centers \"\n"
     ]
    },
    {
     "name": "stdout",
     "output_type": "stream",
     "text": [
      "MI Petition for Approval of Sale of Real Estate (Decedent Estate)\n",
      "MI Petition for Assignment\n",
      "MI Petition for Change of Venue\n",
      "MI Petition for Complete Estate Settlement\n",
      "MI Petition for Probate and/or Appointment of Personal Representative (Testate/Intestate)\n",
      "MI Petition for Removal of Personal Representative and Appointment of Successor (Estate Not Closed)\n"
     ]
    },
    {
     "name": "stderr",
     "output_type": "stream",
     "text": [
      "/Users/davidcolarusso/opt/anaconda3/lib/python3.8/site-packages/sklearn/cluster/_affinity_propagation.py:246: ConvergenceWarning: Affinity propagation did not converge, this model will not have any cluster centers.\n",
      "  warnings.warn(\"Affinity propagation did not converge, this model \"\n",
      "/Users/davidcolarusso/opt/anaconda3/lib/python3.8/site-packages/sklearn/cluster/_affinity_propagation.py:460: ConvergenceWarning: This model does not have any cluster centers because affinity propagation did not converge. Labeling every sample as '-1'.\n",
      "  warnings.warn(\"This model does not have any cluster centers \"\n"
     ]
    },
    {
     "name": "stdout",
     "output_type": "stream",
     "text": [
      "MI Petition for Supervised Administration after Previous Adjudication\n"
     ]
    },
    {
     "name": "stderr",
     "output_type": "stream",
     "text": [
      "/Users/davidcolarusso/opt/anaconda3/lib/python3.8/site-packages/sklearn/cluster/_affinity_propagation.py:246: ConvergenceWarning: Affinity propagation did not converge, this model will not have any cluster centers.\n",
      "  warnings.warn(\"Affinity propagation did not converge, this model \"\n",
      "/Users/davidcolarusso/opt/anaconda3/lib/python3.8/site-packages/sklearn/cluster/_affinity_propagation.py:460: ConvergenceWarning: This model does not have any cluster centers because affinity propagation did not converge. Labeling every sample as '-1'.\n",
      "  warnings.warn(\"This model does not have any cluster centers \"\n"
     ]
    },
    {
     "name": "stdout",
     "output_type": "stream",
     "text": [
      "MI Petition to Allow Account(s)\n",
      "MI Petition to Determine Heirs, Separate Proceedings\n",
      "MI Petition to Establish Death of Accident or Disaster Victim\n"
     ]
    },
    {
     "name": "stderr",
     "output_type": "stream",
     "text": [
      "/Users/davidcolarusso/opt/anaconda3/lib/python3.8/site-packages/sklearn/cluster/_affinity_propagation.py:246: ConvergenceWarning: Affinity propagation did not converge, this model will not have any cluster centers.\n",
      "  warnings.warn(\"Affinity propagation did not converge, this model \"\n",
      "/Users/davidcolarusso/opt/anaconda3/lib/python3.8/site-packages/sklearn/cluster/_affinity_propagation.py:460: ConvergenceWarning: This model does not have any cluster centers because affinity propagation did not converge. Labeling every sample as '-1'.\n",
      "  warnings.warn(\"This model does not have any cluster centers \"\n"
     ]
    },
    {
     "name": "stdout",
     "output_type": "stream",
     "text": [
      "MI Probate Court Reports\n",
      "\n",
      "MI Proof of Service\n",
      "MI Publication of Notice\n"
     ]
    },
    {
     "name": "stderr",
     "output_type": "stream",
     "text": [
      "/Users/davidcolarusso/opt/anaconda3/lib/python3.8/site-packages/sklearn/cluster/_affinity_propagation.py:246: ConvergenceWarning: Affinity propagation did not converge, this model will not have any cluster centers.\n",
      "  warnings.warn(\"Affinity propagation did not converge, this model \"\n",
      "/Users/davidcolarusso/opt/anaconda3/lib/python3.8/site-packages/sklearn/cluster/_affinity_propagation.py:460: ConvergenceWarning: This model does not have any cluster centers because affinity propagation did not converge. Labeling every sample as '-1'.\n",
      "  warnings.warn(\"This model does not have any cluster centers \"\n"
     ]
    },
    {
     "name": "stdout",
     "output_type": "stream",
     "text": [
      "MI Publication of Notice of Hearing\n"
     ]
    },
    {
     "name": "stderr",
     "output_type": "stream",
     "text": [
      "/Users/davidcolarusso/opt/anaconda3/lib/python3.8/site-packages/sklearn/cluster/_affinity_propagation.py:246: ConvergenceWarning: Affinity propagation did not converge, this model will not have any cluster centers.\n",
      "  warnings.warn(\"Affinity propagation did not converge, this model \"\n",
      "/Users/davidcolarusso/opt/anaconda3/lib/python3.8/site-packages/sklearn/cluster/_affinity_propagation.py:460: ConvergenceWarning: This model does not have any cluster centers because affinity propagation did not converge. Labeling every sample as '-1'.\n",
      "  warnings.warn(\"This model does not have any cluster centers \"\n"
     ]
    },
    {
     "name": "stdout",
     "output_type": "stream",
     "text": [
      "MI Receipt of Distributive Share, Personal Property\n",
      "MI Receipt of Property from Conservator\n",
      "MI Register’s Statement\n"
     ]
    },
    {
     "name": "stderr",
     "output_type": "stream",
     "text": [
      "/Users/davidcolarusso/opt/anaconda3/lib/python3.8/site-packages/sklearn/cluster/_affinity_propagation.py:246: ConvergenceWarning: Affinity propagation did not converge, this model will not have any cluster centers.\n",
      "  warnings.warn(\"Affinity propagation did not converge, this model \"\n",
      "/Users/davidcolarusso/opt/anaconda3/lib/python3.8/site-packages/sklearn/cluster/_affinity_propagation.py:460: ConvergenceWarning: This model does not have any cluster centers because affinity propagation did not converge. Labeling every sample as '-1'.\n",
      "  warnings.warn(\"This model does not have any cluster centers \"\n"
     ]
    },
    {
     "name": "stdout",
     "output_type": "stream",
     "text": [
      "MI Registration of Trust\n"
     ]
    },
    {
     "name": "stderr",
     "output_type": "stream",
     "text": [
      "/Users/davidcolarusso/opt/anaconda3/lib/python3.8/site-packages/sklearn/cluster/_affinity_propagation.py:246: ConvergenceWarning: Affinity propagation did not converge, this model will not have any cluster centers.\n",
      "  warnings.warn(\"Affinity propagation did not converge, this model \"\n",
      "/Users/davidcolarusso/opt/anaconda3/lib/python3.8/site-packages/sklearn/cluster/_affinity_propagation.py:460: ConvergenceWarning: This model does not have any cluster centers because affinity propagation did not converge. Labeling every sample as '-1'.\n",
      "  warnings.warn(\"This model does not have any cluster centers \"\n"
     ]
    },
    {
     "name": "stdout",
     "output_type": "stream",
     "text": [
      "MI Renunciation of Right to Appointment, Nomination of Personal Representative and Waiver of Notice\n",
      "MI Safe-Deposit Box Certificate and Receipt\n",
      "MI Schedule of Distributions and Payment of Claims\n"
     ]
    },
    {
     "name": "stderr",
     "output_type": "stream",
     "text": [
      "/Users/davidcolarusso/opt/anaconda3/lib/python3.8/site-packages/sklearn/cluster/_affinity_propagation.py:246: ConvergenceWarning: Affinity propagation did not converge, this model will not have any cluster centers.\n",
      "  warnings.warn(\"Affinity propagation did not converge, this model \"\n",
      "/Users/davidcolarusso/opt/anaconda3/lib/python3.8/site-packages/sklearn/cluster/_affinity_propagation.py:460: ConvergenceWarning: This model does not have any cluster centers because affinity propagation did not converge. Labeling every sample as '-1'.\n",
      "  warnings.warn(\"This model does not have any cluster centers \"\n"
     ]
    },
    {
     "name": "stdout",
     "output_type": "stream",
     "text": [
      "MI Selection of Homestead Allowance and Exempt Property\n"
     ]
    },
    {
     "name": "stderr",
     "output_type": "stream",
     "text": [
      "/Users/davidcolarusso/opt/anaconda3/lib/python3.8/site-packages/sklearn/cluster/_affinity_propagation.py:246: ConvergenceWarning: Affinity propagation did not converge, this model will not have any cluster centers.\n",
      "  warnings.warn(\"Affinity propagation did not converge, this model \"\n",
      "/Users/davidcolarusso/opt/anaconda3/lib/python3.8/site-packages/sklearn/cluster/_affinity_propagation.py:460: ConvergenceWarning: This model does not have any cluster centers because affinity propagation did not converge. Labeling every sample as '-1'.\n",
      "  warnings.warn(\"This model does not have any cluster centers \"\n"
     ]
    },
    {
     "name": "stdout",
     "output_type": "stream",
     "text": [
      "MI Statement and Proof of Claim\n",
      "MI Supplemental Testimony to Identify Nonheir Devisees, Testate Estate\n",
      "MI Sworn Closing Statement, Summary Proceeding,  Small Estates\n",
      "MI Sworn Statement to Close Unsupervised Administration\n"
     ]
    },
    {
     "name": "stderr",
     "output_type": "stream",
     "text": [
      "/Users/davidcolarusso/opt/anaconda3/lib/python3.8/site-packages/sklearn/cluster/_affinity_propagation.py:246: ConvergenceWarning: Affinity propagation did not converge, this model will not have any cluster centers.\n",
      "  warnings.warn(\"Affinity propagation did not converge, this model \"\n",
      "/Users/davidcolarusso/opt/anaconda3/lib/python3.8/site-packages/sklearn/cluster/_affinity_propagation.py:460: ConvergenceWarning: This model does not have any cluster centers because affinity propagation did not converge. Labeling every sample as '-1'.\n",
      "  warnings.warn(\"This model does not have any cluster centers \"\n"
     ]
    },
    {
     "name": "stdout",
     "output_type": "stream",
     "text": [
      "MI Testimony to Identify Heirs\n",
      "MI Waiver/Consent\n",
      "MI Clerk's Certificate of Sale of Real Estate Pursuant to Judgment\n",
      "MI County Clerk's Report of Sale\n"
     ]
    },
    {
     "name": "stderr",
     "output_type": "stream",
     "text": [
      "/Users/davidcolarusso/opt/anaconda3/lib/python3.8/site-packages/sklearn/cluster/_affinity_propagation.py:246: ConvergenceWarning: Affinity propagation did not converge, this model will not have any cluster centers.\n",
      "  warnings.warn(\"Affinity propagation did not converge, this model \"\n",
      "/Users/davidcolarusso/opt/anaconda3/lib/python3.8/site-packages/sklearn/cluster/_affinity_propagation.py:460: ConvergenceWarning: This model does not have any cluster centers because affinity propagation did not converge. Labeling every sample as '-1'.\n",
      "  warnings.warn(\"This model does not have any cluster centers \"\n"
     ]
    },
    {
     "name": "stdout",
     "output_type": "stream",
     "text": [
      "MI Notice of Foreclosure Sale\n"
     ]
    },
    {
     "name": "stderr",
     "output_type": "stream",
     "text": [
      "/Users/davidcolarusso/opt/anaconda3/lib/python3.8/site-packages/sklearn/cluster/_affinity_propagation.py:246: ConvergenceWarning: Affinity propagation did not converge, this model will not have any cluster centers.\n",
      "  warnings.warn(\"Affinity propagation did not converge, this model \"\n",
      "/Users/davidcolarusso/opt/anaconda3/lib/python3.8/site-packages/sklearn/cluster/_affinity_propagation.py:460: ConvergenceWarning: This model does not have any cluster centers because affinity propagation did not converge. Labeling every sample as '-1'.\n",
      "  warnings.warn(\"This model does not have any cluster centers \"\n"
     ]
    },
    {
     "name": "stdout",
     "output_type": "stream",
     "text": [
      "MI Assignment to Youthful Trainee Status\n",
      "MI Commitment Order, Not Guilty by Reason of Insanity\n",
      "MI Judgment of Sentence, Commitment to Department of Corrections\n",
      "MI Judgment of Sentence/Commitment to Jail\n",
      "MI Motion/Order of Nolle Prosequi\n",
      "MI Order Committing Juvenile to Department of Health and Human Services\n",
      "MI Order Delaying Sentence\n",
      "MI Order of Acquittal/Dismissal or Remand\n",
      "MI Instructions for Personal Protection Orders (8 page booklet)\n",
      "\n",
      "MI Motion and Order to Dismiss Action for Personal Protection Order\n",
      "MI Motion and Order to Show Cause for Violating Valid Personal/Foreign Protection Order\n",
      "MI Motion to Modify, Extend, or Terminate Personal Protection Order\n",
      "MI Notice of Hearing on Petition for Personal Protection Order\n",
      "MI Order after Hearing on Show Cause for Violating Valid Personal/Foreign Protection Order\n"
     ]
    },
    {
     "name": "stderr",
     "output_type": "stream",
     "text": [
      "/Users/davidcolarusso/opt/anaconda3/lib/python3.8/site-packages/sklearn/cluster/_affinity_propagation.py:246: ConvergenceWarning: Affinity propagation did not converge, this model will not have any cluster centers.\n",
      "  warnings.warn(\"Affinity propagation did not converge, this model \"\n",
      "/Users/davidcolarusso/opt/anaconda3/lib/python3.8/site-packages/sklearn/cluster/_affinity_propagation.py:460: ConvergenceWarning: This model does not have any cluster centers because affinity propagation did not converge. Labeling every sample as '-1'.\n",
      "  warnings.warn(\"This model does not have any cluster centers \"\n"
     ]
    },
    {
     "name": "stdout",
     "output_type": "stream",
     "text": [
      "MI Order after Hearing on Violation of Personal/Foreign Protection Order\n"
     ]
    },
    {
     "name": "stderr",
     "output_type": "stream",
     "text": [
      "/Users/davidcolarusso/opt/anaconda3/lib/python3.8/site-packages/sklearn/cluster/_affinity_propagation.py:246: ConvergenceWarning: Affinity propagation did not converge, this model will not have any cluster centers.\n",
      "  warnings.warn(\"Affinity propagation did not converge, this model \"\n",
      "/Users/davidcolarusso/opt/anaconda3/lib/python3.8/site-packages/sklearn/cluster/_affinity_propagation.py:460: ConvergenceWarning: This model does not have any cluster centers because affinity propagation did not converge. Labeling every sample as '-1'.\n",
      "  warnings.warn(\"This model does not have any cluster centers \"\n"
     ]
    },
    {
     "name": "stdout",
     "output_type": "stream",
     "text": [
      "MI Order Denying or Dismissing Petition for Personal Protection Order\n",
      "MI Order on Motion to Modify, Extend, or Terminate Personal Protection Order\n",
      "MI Personal  Protection Order (Nondomestic Sexual Assault)\n"
     ]
    },
    {
     "name": "stderr",
     "output_type": "stream",
     "text": [
      "/Users/davidcolarusso/opt/anaconda3/lib/python3.8/site-packages/sklearn/cluster/_affinity_propagation.py:246: ConvergenceWarning: Affinity propagation did not converge, this model will not have any cluster centers.\n",
      "  warnings.warn(\"Affinity propagation did not converge, this model \"\n",
      "/Users/davidcolarusso/opt/anaconda3/lib/python3.8/site-packages/sklearn/cluster/_affinity_propagation.py:460: ConvergenceWarning: This model does not have any cluster centers because affinity propagation did not converge. Labeling every sample as '-1'.\n",
      "  warnings.warn(\"This model does not have any cluster centers \"\n"
     ]
    },
    {
     "name": "stdout",
     "output_type": "stream",
     "text": [
      "MI Personal Protection Order (Domestic Relationship)\n",
      "MI Personal Protection Order (Nondomestic)\n"
     ]
    },
    {
     "name": "stderr",
     "output_type": "stream",
     "text": [
      "/Users/davidcolarusso/opt/anaconda3/lib/python3.8/site-packages/sklearn/cluster/_affinity_propagation.py:246: ConvergenceWarning: Affinity propagation did not converge, this model will not have any cluster centers.\n",
      "  warnings.warn(\"Affinity propagation did not converge, this model \"\n",
      "/Users/davidcolarusso/opt/anaconda3/lib/python3.8/site-packages/sklearn/cluster/_affinity_propagation.py:460: ConvergenceWarning: This model does not have any cluster centers because affinity propagation did not converge. Labeling every sample as '-1'.\n",
      "  warnings.warn(\"This model does not have any cluster centers \"\n"
     ]
    },
    {
     "name": "stdout",
     "output_type": "stream",
     "text": [
      "MI Personal Protection Order Against a Minor (Domestic Relationship)\n"
     ]
    },
    {
     "name": "stderr",
     "output_type": "stream",
     "text": [
      "/Users/davidcolarusso/opt/anaconda3/lib/python3.8/site-packages/sklearn/cluster/_affinity_propagation.py:246: ConvergenceWarning: Affinity propagation did not converge, this model will not have any cluster centers.\n",
      "  warnings.warn(\"Affinity propagation did not converge, this model \"\n",
      "/Users/davidcolarusso/opt/anaconda3/lib/python3.8/site-packages/sklearn/cluster/_affinity_propagation.py:460: ConvergenceWarning: This model does not have any cluster centers because affinity propagation did not converge. Labeling every sample as '-1'.\n",
      "  warnings.warn(\"This model does not have any cluster centers \"\n"
     ]
    },
    {
     "name": "stdout",
     "output_type": "stream",
     "text": [
      "MI Personal Protection Order Against a Minor (Nondomestic Sexual Assault)\n",
      "MI Personal Protection Order Against a Minor (Nondomestic)\n",
      "MI Petition for Personal Protection Order  (Nondomestic)\n",
      "MI Petition for Personal Protection Order (Domestic Relationship)\n",
      "MI Petition for Personal Protection Order (Nondomestic Sexual Assault)\n",
      "MI Petition for Personal Protection Order Against a Minor (Nondomestic)\n",
      "MI Petition for Personal Protection Order Against a Minor (Nondomestic Sexual Assault)\n",
      "MI Petition for Personal Protection Order Against a Minor (Domestic Relationship)\n",
      "MI Proof of Service/Oral Notice Regarding Personal Protection Order\n",
      "MI Request for Next Friend and Order\n",
      "MI Minor's Consent to Change Name\n",
      "MI Order Following Hearing on Petition to Change Name\n",
      "MI Petition to Change Name\n",
      "MI Publication of Notice of Hearing for Name Change\n",
      "MI Addendum to Protected Personal Identifying Information\n",
      "MI Affidavit for Search Warrant\n",
      "MI Affidavit of Incorrect Address\n",
      "MI Appearance\n"
     ]
    },
    {
     "name": "stderr",
     "output_type": "stream",
     "text": [
      "/Users/davidcolarusso/opt/anaconda3/lib/python3.8/site-packages/sklearn/cluster/_affinity_propagation.py:246: ConvergenceWarning: Affinity propagation did not converge, this model will not have any cluster centers.\n",
      "  warnings.warn(\"Affinity propagation did not converge, this model \"\n",
      "/Users/davidcolarusso/opt/anaconda3/lib/python3.8/site-packages/sklearn/cluster/_affinity_propagation.py:460: ConvergenceWarning: This model does not have any cluster centers because affinity propagation did not converge. Labeling every sample as '-1'.\n",
      "  warnings.warn(\"This model does not have any cluster centers \"\n"
     ]
    },
    {
     "name": "stdout",
     "output_type": "stream",
     "text": [
      "MI Blank (does not contain SCAO approval)\n",
      "MI Cash Bond\n",
      "MI Certification of Records/Attestation of Exemplified Copies\n",
      "MI Contact Information\n",
      "MI Fee Waiver Request\n",
      "MI Financial Statement\n",
      "MI Finding and Order on Competency\n",
      "MI Guidance for Completing Form MC 506\n",
      "\n",
      "MI Judgment after Bond Forfeiture\n",
      "MI Judgment of Contempt\n",
      "MI Juror Personal History Questionnaire\n",
      "MI Juror Qualification Questionnaire\n",
      "MI Motion and Verification for Alternate Service\n"
     ]
    },
    {
     "name": "stderr",
     "output_type": "stream",
     "text": [
      "/Users/davidcolarusso/opt/anaconda3/lib/python3.8/site-packages/sklearn/cluster/_affinity_propagation.py:246: ConvergenceWarning: Affinity propagation did not converge, this model will not have any cluster centers.\n",
      "  warnings.warn(\"Affinity propagation did not converge, this model \"\n",
      "/Users/davidcolarusso/opt/anaconda3/lib/python3.8/site-packages/sklearn/cluster/_affinity_propagation.py:460: ConvergenceWarning: This model does not have any cluster centers because affinity propagation did not converge. Labeling every sample as '-1'.\n",
      "  warnings.warn(\"This model does not have any cluster centers \"\n"
     ]
    },
    {
     "name": "stdout",
     "output_type": "stream",
     "text": [
      "MI Motion and/or Order to Show Cause\n",
      "MI Motion for Consolidation\n"
     ]
    },
    {
     "name": "stderr",
     "output_type": "stream",
     "text": [
      "/Users/davidcolarusso/opt/anaconda3/lib/python3.8/site-packages/sklearn/cluster/_affinity_propagation.py:246: ConvergenceWarning: Affinity propagation did not converge, this model will not have any cluster centers.\n",
      "  warnings.warn(\"Affinity propagation did not converge, this model \"\n",
      "/Users/davidcolarusso/opt/anaconda3/lib/python3.8/site-packages/sklearn/cluster/_affinity_propagation.py:460: ConvergenceWarning: This model does not have any cluster centers because affinity propagation did not converge. Labeling every sample as '-1'.\n",
      "  warnings.warn(\"This model does not have any cluster centers \"\n"
     ]
    },
    {
     "name": "stdout",
     "output_type": "stream",
     "text": [
      "MI Motion for Destruction of Biometric Data and Arrest Record\n",
      "MI Motion, Affidavit, and Bench Warrant\n",
      "MI Notice of Hearing and Motion\n"
     ]
    },
    {
     "name": "stderr",
     "output_type": "stream",
     "text": [
      "/Users/davidcolarusso/opt/anaconda3/lib/python3.8/site-packages/sklearn/cluster/_affinity_propagation.py:246: ConvergenceWarning: Affinity propagation did not converge, this model will not have any cluster centers.\n",
      "  warnings.warn(\"Affinity propagation did not converge, this model \"\n",
      "/Users/davidcolarusso/opt/anaconda3/lib/python3.8/site-packages/sklearn/cluster/_affinity_propagation.py:460: ConvergenceWarning: This model does not have any cluster centers because affinity propagation did not converge. Labeling every sample as '-1'.\n",
      "  warnings.warn(\"This model does not have any cluster centers \"\n"
     ]
    },
    {
     "name": "stdout",
     "output_type": "stream",
     "text": [
      "MI Notice of Hearing with Remote Participation\n",
      "MI Notice of Intent to Destroy Disclosure and/or Discovery Materials\n",
      "MI Notice of Intent to Dismiss for No Progress\n",
      "MI Notice of Intent to Escheat Unclaimed Personal Property\n",
      "MI Notice to Appear\n",
      "MI Notice to Prior Court of Proceedings Affecting Minor(s)\n",
      "MI Notice to Surety of Defendant's Failure to Appear\n",
      "MI Order\n",
      "MI Order and Receipt for Driver's License Held as Security\n",
      "MI Order Canceling Assignment of Wages\n",
      "MI Order for Adjournment\n"
     ]
    },
    {
     "name": "stderr",
     "output_type": "stream",
     "text": [
      "/Users/davidcolarusso/opt/anaconda3/lib/python3.8/site-packages/sklearn/cluster/_affinity_propagation.py:246: ConvergenceWarning: Affinity propagation did not converge, this model will not have any cluster centers.\n",
      "  warnings.warn(\"Affinity propagation did not converge, this model \"\n",
      "/Users/davidcolarusso/opt/anaconda3/lib/python3.8/site-packages/sklearn/cluster/_affinity_propagation.py:460: ConvergenceWarning: This model does not have any cluster centers because affinity propagation did not converge. Labeling every sample as '-1'.\n",
      "  warnings.warn(\"This model does not have any cluster centers \"\n"
     ]
    },
    {
     "name": "stdout",
     "output_type": "stream",
     "text": [
      "MI Order for Competency Examination\n",
      "MI Order for Consolidation\n"
     ]
    },
    {
     "name": "stderr",
     "output_type": "stream",
     "text": [
      "/Users/davidcolarusso/opt/anaconda3/lib/python3.8/site-packages/sklearn/cluster/_affinity_propagation.py:246: ConvergenceWarning: Affinity propagation did not converge, this model will not have any cluster centers.\n",
      "  warnings.warn(\"Affinity propagation did not converge, this model \"\n",
      "/Users/davidcolarusso/opt/anaconda3/lib/python3.8/site-packages/sklearn/cluster/_affinity_propagation.py:460: ConvergenceWarning: This model does not have any cluster centers because affinity propagation did not converge. Labeling every sample as '-1'.\n",
      "  warnings.warn(\"This model does not have any cluster centers \"\n"
     ]
    },
    {
     "name": "stdout",
     "output_type": "stream",
     "text": [
      "MI Order for Counseling and Testing for Disease/Infection\n",
      "MI Order for Evaluation Relative to Criminal Responsibility\n",
      "MI Order for Fingerprints\n"
     ]
    },
    {
     "name": "stderr",
     "output_type": "stream",
     "text": [
      "/Users/davidcolarusso/opt/anaconda3/lib/python3.8/site-packages/sklearn/cluster/_affinity_propagation.py:246: ConvergenceWarning: Affinity propagation did not converge, this model will not have any cluster centers.\n",
      "  warnings.warn(\"Affinity propagation did not converge, this model \"\n",
      "/Users/davidcolarusso/opt/anaconda3/lib/python3.8/site-packages/sklearn/cluster/_affinity_propagation.py:460: ConvergenceWarning: This model does not have any cluster centers because affinity propagation did not converge. Labeling every sample as '-1'.\n",
      "  warnings.warn(\"This model does not have any cluster centers \"\n"
     ]
    },
    {
     "name": "stdout",
     "output_type": "stream",
     "text": [
      "MI Order for Service by Publication/Posting and Notice of Action\n",
      "MI Order of Disqualification/Reassignment\n"
     ]
    },
    {
     "name": "stderr",
     "output_type": "stream",
     "text": [
      "/Users/davidcolarusso/opt/anaconda3/lib/python3.8/site-packages/sklearn/cluster/_affinity_propagation.py:246: ConvergenceWarning: Affinity propagation did not converge, this model will not have any cluster centers.\n",
      "  warnings.warn(\"Affinity propagation did not converge, this model \"\n",
      "/Users/davidcolarusso/opt/anaconda3/lib/python3.8/site-packages/sklearn/cluster/_affinity_propagation.py:460: ConvergenceWarning: This model does not have any cluster centers because affinity propagation did not converge. Labeling every sample as '-1'.\n",
      "  warnings.warn(\"This model does not have any cluster centers \"\n"
     ]
    },
    {
     "name": "stdout",
     "output_type": "stream",
     "text": [
      "MI Order Regarding Alternate Service\n"
     ]
    },
    {
     "name": "stderr",
     "output_type": "stream",
     "text": [
      "/Users/davidcolarusso/opt/anaconda3/lib/python3.8/site-packages/sklearn/cluster/_affinity_propagation.py:246: ConvergenceWarning: Affinity propagation did not converge, this model will not have any cluster centers.\n",
      "  warnings.warn(\"Affinity propagation did not converge, this model \"\n",
      "/Users/davidcolarusso/opt/anaconda3/lib/python3.8/site-packages/sklearn/cluster/_affinity_propagation.py:460: ConvergenceWarning: This model does not have any cluster centers because affinity propagation did not converge. Labeling every sample as '-1'.\n",
      "  warnings.warn(\"This model does not have any cluster centers \"\n"
     ]
    },
    {
     "name": "stdout",
     "output_type": "stream",
     "text": [
      "MI Order Requesting Prisoner Participation in Court Proceedings\n",
      "MI Order Revoking Release and Forfeiting Bond, Notice of Intent to Enter Judgment\n",
      "MI Personal Service on Prisoner and Affidavit\n",
      "MI Plea Agreement\n",
      "MI Proof of Mailing\n",
      "MI Protected Personal Identifying Information Petition (Child Protective Proceedings)\n",
      "MI Recall of Warrant/Order to Apprehend and Removal From LEIN\n",
      "MI Receipt of Prepaid Filing Fees for MiFILE Transaction\n",
      "MI Removal of Entry from LEIN\n",
      "MI Request and Notice for Film and Electronic Media Coverage of Court Proceedings\n"
     ]
    },
    {
     "name": "stderr",
     "output_type": "stream",
     "text": [
      "/Users/davidcolarusso/opt/anaconda3/lib/python3.8/site-packages/sklearn/cluster/_affinity_propagation.py:246: ConvergenceWarning: Affinity propagation did not converge, this model will not have any cluster centers.\n",
      "  warnings.warn(\"Affinity propagation did not converge, this model \"\n",
      "/Users/davidcolarusso/opt/anaconda3/lib/python3.8/site-packages/sklearn/cluster/_affinity_propagation.py:460: ConvergenceWarning: This model does not have any cluster centers because affinity propagation did not converge. Labeling every sample as '-1'.\n",
      "  warnings.warn(\"This model does not have any cluster centers \"\n"
     ]
    },
    {
     "name": "stdout",
     "output_type": "stream",
     "text": [
      "MI Request and Order for Interpreter (also available in bi-lingual format for Arabic, Chinese, Korean, Serbo-Croatian, Spanish, and Vietnamese)\n",
      "\n",
      "MI Request for Court-Appointed Attorney and Order\n",
      "MI Request for e-Service by MiFILE\n",
      "MI Request for Hearing on a Motion\n"
     ]
    },
    {
     "name": "stderr",
     "output_type": "stream",
     "text": [
      "/Users/davidcolarusso/opt/anaconda3/lib/python3.8/site-packages/sklearn/cluster/_affinity_propagation.py:246: ConvergenceWarning: Affinity propagation did not converge, this model will not have any cluster centers.\n",
      "  warnings.warn(\"Affinity propagation did not converge, this model \"\n",
      "/Users/davidcolarusso/opt/anaconda3/lib/python3.8/site-packages/sklearn/cluster/_affinity_propagation.py:460: ConvergenceWarning: This model does not have any cluster centers because affinity propagation did not converge. Labeling every sample as '-1'.\n",
      "  warnings.warn(\"This model does not have any cluster centers \"\n"
     ]
    },
    {
     "name": "stdout",
     "output_type": "stream",
     "text": [
      "MI Request for Reasonable Accommodations and Response\n",
      "MI Request for Review of Denied Fee Waiver and Order\n",
      "MI Review of Request for Interpreter and Order (also available in bi-lingual format for Arabic, Chinese, Korean, Serbo-Croatian, Spanish, and Vietnamese)\n",
      "\n",
      "MI Review of Request for Reasonable Accommodations and Response\n",
      "MI Seized-Property Claim and Objection to Forfeiture (Drug-Related Forfeiture)\n",
      "MI Statement of Grievance Regarding e-Filing Access Plan\n",
      "MI Statement of Service and Order for Payment of Court-Appointed Representative\n",
      "MI Subpoena for Out-of-State Case\n",
      "MI Subpoena, Order to Appear and/or Produce\n",
      "MI Substitution of Attorney\n"
     ]
    },
    {
     "name": "stderr",
     "output_type": "stream",
     "text": [
      "/Users/davidcolarusso/opt/anaconda3/lib/python3.8/site-packages/sklearn/cluster/_affinity_propagation.py:246: ConvergenceWarning: Affinity propagation did not converge, this model will not have any cluster centers.\n",
      "  warnings.warn(\"Affinity propagation did not converge, this model \"\n",
      "/Users/davidcolarusso/opt/anaconda3/lib/python3.8/site-packages/sklearn/cluster/_affinity_propagation.py:460: ConvergenceWarning: This model does not have any cluster centers because affinity propagation did not converge. Labeling every sample as '-1'.\n",
      "  warnings.warn(\"This model does not have any cluster centers \"\n"
     ]
    },
    {
     "name": "stdout",
     "output_type": "stream",
     "text": [
      "MI Taxation of Costs\n"
     ]
    },
    {
     "name": "stderr",
     "output_type": "stream",
     "text": [
      "/Users/davidcolarusso/opt/anaconda3/lib/python3.8/site-packages/sklearn/cluster/_affinity_propagation.py:246: ConvergenceWarning: Affinity propagation did not converge, this model will not have any cluster centers.\n",
      "  warnings.warn(\"Affinity propagation did not converge, this model \"\n",
      "/Users/davidcolarusso/opt/anaconda3/lib/python3.8/site-packages/sklearn/cluster/_affinity_propagation.py:460: ConvergenceWarning: This model does not have any cluster centers because affinity propagation did not converge. Labeling every sample as '-1'.\n",
      "  warnings.warn(\"This model does not have any cluster centers \"\n"
     ]
    },
    {
     "name": "stdout",
     "output_type": "stream",
     "text": [
      "MI Uniform Child Custody Jurisdiction Enforcement Act Affidavit\n",
      "MI Wage Assignment\n",
      "MI Waiver of Disqualification\n"
     ]
    },
    {
     "name": "stderr",
     "output_type": "stream",
     "text": [
      "/Users/davidcolarusso/opt/anaconda3/lib/python3.8/site-packages/sklearn/cluster/_affinity_propagation.py:246: ConvergenceWarning: Affinity propagation did not converge, this model will not have any cluster centers.\n",
      "  warnings.warn(\"Affinity propagation did not converge, this model \"\n",
      "/Users/davidcolarusso/opt/anaconda3/lib/python3.8/site-packages/sklearn/cluster/_affinity_propagation.py:460: ConvergenceWarning: This model does not have any cluster centers because affinity propagation did not converge. Labeling every sample as '-1'.\n",
      "  warnings.warn(\"This model does not have any cluster centers \"\n"
     ]
    },
    {
     "name": "stdout",
     "output_type": "stream",
     "text": [
      "MI Witness/Juror Certificate\n",
      "MI Writ of Habeas Corpus\n",
      "MI Acceptance of Appointment (Juvenile Guardian)\n",
      "MI Annual Report of Juvenile Guardian on Condition of Child\n",
      "MI Letters of Juvenile Guardianship\n",
      "MI Notice of Hearing on Petition to Revoke Juvenile Guardianship\n",
      "MI Notice of Hearing on Petition to Terminate Appointment of Juvenile Guardian\n",
      "MI Order After Annual Review of Extended Guardianship\n",
      "MI Order Appointing Juvenile Guardian\n",
      "MI Order Appointing Person to Investigate Juvenile Guardianship\n",
      "MI Order Discharging Juvenile Guardian\n",
      "MI Order Following Hearing on Petition to Terminate Appointment of Juvenile Guardian\n",
      "MI Order Following Investigation and Report on Juvenile Guardianship\n",
      "MI Order for Investigation Re Petition to Revoke Juvenile Guardianship\n",
      "MI Order For Investigation RE Petition to Terminate Appointment of Juvenile Guardian\n",
      "MI Order Regarding Revocation of Juvenile Guardianship\n",
      "MI Petition to Revoke Juvenile Guardianship\n",
      "MI Petition to Terminate Appointment of Juvenile Guardian\n",
      "MI Report after Investigation of Juvenile Guardianship\n",
      "MI Advice of Rights after Order Terminating Parental Rights (Juvenile Code)\n",
      "MI Advice of Rights Regarding Appeal (Child Protective Proceedings)\n",
      "MI Affidavit of Efforts to Locate Absent Parent\n",
      "MI Affidavit of Service Performed by Lawyer-Guardian Ad Litem\n",
      "MI Appearance of Attorney/Guardian Ad Litem/Lawyer-Guardian Ad Litem\n",
      "MI Application to Set Aside Adjudication(s)\n",
      "MI Authorization for Return of Bond\n",
      "MI Blank (does not contain SCAO approval) (for second sheets or general purpose)\n",
      "MI Complaint (Request for Action, Delinquency Proceedings)\n",
      "MI Confidential Case Inventory (Domestic Relations and Juvenile Code)\n",
      "MI Diversion Record\n",
      "MI Ex Parte Renewal of Restoration Order (Delinquency Proceedings)\n",
      "MI Financial Statement\n",
      "MI Findings Following Putative Father Hearing\n",
      "MI Judgment of Sentence/Commitment to Department of Corrections (Designated Case)\n",
      "MI Judgment of Sentence/Commitment to Jail (Designated Case)\n",
      "MI Motion and Order for Modification or Cancellation of Minimum State Costs Owed\n",
      "MI Motion and Order for Modification or Cancellation of Restitution Owed\n",
      "MI Motion and Order to Close Proceedings to Public\n",
      "MI Motion for Alternate Service\n",
      "MI Motion Re Transfer/Hearing/Placement and Authorization/Denial/Notice of Hearing\n",
      "MI Motion to Waive Jurisdiction and Notice\n",
      "MI Notice of Diversion Conference\n",
      "MI Notice of Hearing\n",
      "MI Notice of Hearing on Probation Violation\n",
      "MI Notice of Intent to Intercept State Income Tax\n",
      "MI Notice of Proceedings Concerning An Indian Child\n",
      "MI Notice to Putative Father\n",
      "MI Order After Dispositional Review/Permanency Planning Hearing (Child Protective Proceedings)\n",
      "MI Order After First-Phase Hearing to Waive Jurisdiction (Delinquency Proceedings)\n",
      "MI Order After Hearing on Competency (Delinquency Proceedings)\n",
      "MI Order After Posttermination Review/Permanency Planning Hearing (Child Protective Proceedings)\n",
      "MI Order after Preliminary Hearing (Child Protective Proceedings)\n",
      "MI Order After Preliminary Hearing/Inquiry (Delinquency/Personal Protection)\n",
      "MI Order After Pretrial Hearing (Child Protective Proceedings)\n",
      "MI Order After Removal Hearing (Child Protective Proceedings)\n",
      "MI Order after Second-Phase Hearing to Waive Jurisdiction (Delinquency Proceedings)\n",
      "MI Order Appointing Attorney/Guardian Ad Litem/Lawyer-Guardian Ad Litem\n",
      "MI Order Cancelling Wage Assignment\n",
      "MI Order Correcting Identifying Information (Child Protective Proceedings)\n",
      "MI Order Delaying Sentence (Designated Case)\n",
      "MI Order Following Hearing to Terminate Parental Rights (Child Protective Proceedings)\n",
      "MI Order Following Report on Restoration (Delinquency Proceedings)\n",
      "MI Order for Alternate Service\n",
      "MI Order for Assignment of Wages\n",
      "MI Order for Competency Evaluation (Delinquency Proceedings)\n",
      "MI Order for Contempt of Court\n",
      "MI Order for Reimbursement\n",
      "MI Order of Adjudication (Child Protective Proceedings)\n",
      "MI Order of Adjudication (Delinquency Proceedings)\n",
      "MI Order of Disposition (Child Protective Proceedings)\n",
      "MI Order of Disposition, Child In-Home (Child Protective Proceedings)\n",
      "MI Order of Disposition, In-Home (Delinquency Proceedings)\n",
      "MI Order of Disposition, Out-of-Home (Delinquency Proceedings)\n",
      "MI Order of Probation (Designated Case)\n",
      "MI Order on Application to Set Aside Adjudication(s)\n",
      "MI Order Regarding Qualified Residential Treatment Program Placement\n",
      "MI Order Removing Alleged Abuser from Child's Home (Child Protective Proceedings)\n",
      "MI Order to Cancel State Income Tax Intercept\n",
      "MI Order to Intercept State Income Tax\n",
      "MI Order to Take Child(ren) into Protective Custody and Place (Child Protective Proceedings)\n",
      "MI Order to Terminate Court Jurisdiction\n",
      "MI Order to Transfer Case\n",
      "MI Order Transferring Petition to Consent Calendar (Delinquency Proceedings)\n",
      "MI Petition (Child Protective Proceedings)\n",
      "MI Petition (Delinquency Proceedings)\n",
      "MI Petition to Transfer Case to Tribal Court and Order\n",
      "MI Proof of Service/Nonservice\n",
      "MI Proof of Service/Nonservice\n",
      "MI Publication of Hearing\n",
      "MI Publication of Hearing, Notice to Putative Father\n",
      "MI Publication of Parental-Rights Termination Hearing\n",
      "MI Request and Order for Biometric Data Collection/Photographing/Lineup\n",
      "MI Request and Order for Review of Referee Recommendation\n",
      "MI Request for Financial Information\n",
      "MI Request to Terminate Court Jurisdiction\n",
      "MI Summons:  Order to Appear (Child Protective Proceedings)\n",
      "MI Summons:  Order to Appear (DelinquencyProceedings)/(Personal Protection Proceedings)\n",
      "MI Supplemental Order of Disposition (Delinquency Proceedings)\n",
      "MI Waiver and Consent to Enter Teen Court (Diversion)\n",
      "MI Waiver and Consent to Enter Teen Court (Plea under Advisement)\n",
      "MI Waiver of Attorney or Request for Appointment of Attorney\n",
      "MI Waiver of Summons/Notice of Hearing\n",
      "MI 21-Day Notice to Alleged Violator of Custody or Parenting Time Provisions\n",
      "MI Advice of Rights Regarding Use of Friend of the Court Services\n",
      "MI Agreement Suspending Immediate Income Withholding\n",
      "MI Alternative Dispute Resolution Summary Report\n",
      "MI Bench Warrant and Memorandum (two-page form)\n",
      "MI Cash Performance Bond (Civil Contempt)\n",
      "MI Certificate of Inactivation\n",
      "MI Change in Personal Information FOC 108\n"
     ]
    },
    {
     "name": "stderr",
     "output_type": "stream",
     "text": [
      "/Users/davidcolarusso/opt/anaconda3/lib/python3.8/site-packages/sklearn/cluster/_affinity_propagation.py:246: ConvergenceWarning: Affinity propagation did not converge, this model will not have any cluster centers.\n",
      "  warnings.warn(\"Affinity propagation did not converge, this model \"\n",
      "/Users/davidcolarusso/opt/anaconda3/lib/python3.8/site-packages/sklearn/cluster/_affinity_propagation.py:460: ConvergenceWarning: This model does not have any cluster centers because affinity propagation did not converge. Labeling every sample as '-1'.\n",
      "  warnings.warn(\"This model does not have any cluster centers \"\n"
     ]
    },
    {
     "name": "stdout",
     "output_type": "stream",
     "text": [
      "MI Changing an Ex Parte Order - Instructions (six pages)\n",
      "\n",
      "MI Child-Care Verification\n",
      "MI Complaint and Notice for Health-Care Expense Payment\n",
      "MI Complaint/Motion and Affidavit to Revoke Acknowledgment of Parentage\n",
      "MI Determination on Arrearage\n",
      "MI Dismissal (Domestic Relations)\n",
      "MI Domestic Relations Judgment Information\n",
      "MI Domestic Relations Verified Financial Information Form\n",
      "MI Domestic Violence Screening\n",
      "MI Domestic Violence Screening\n",
      "MI Employer's Disclosure of Health Insurance and/or Income Information\n",
      "MI Employment Status Disclosure\n",
      "MI Findings and Report on Arrearage Payment Amount\n",
      "MI Friend of the Court Annual Statutory Review\n",
      "MI Friend of the Court Case Questionnaire (four pages) (Replaces FOC 39a, 39b, 39c, and 39d)\n"
     ]
    },
    {
     "name": "stderr",
     "output_type": "stream",
     "text": [
      "/Users/davidcolarusso/opt/anaconda3/lib/python3.8/site-packages/sklearn/cluster/_affinity_propagation.py:246: ConvergenceWarning: Affinity propagation did not converge, this model will not have any cluster centers.\n",
      "  warnings.warn(\"Affinity propagation did not converge, this model \"\n",
      "/Users/davidcolarusso/opt/anaconda3/lib/python3.8/site-packages/sklearn/cluster/_affinity_propagation.py:460: ConvergenceWarning: This model does not have any cluster centers because affinity propagation did not converge. Labeling every sample as '-1'.\n",
      "  warnings.warn(\"This model does not have any cluster centers \"\n"
     ]
    },
    {
     "name": "stdout",
     "output_type": "stream",
     "text": [
      "MI Friend of the Court Grievance (two-sided)\n",
      "MI Grievance Response\n",
      "MI Instructions for FOC 10 or FOC 10a\n",
      "\n",
      "MI Joint Motion and Order to Stay Proceedings (Collaborative Law Process)\n",
      "MI Judgment after Bond Forfeiture (Domestic Relations)\n",
      "MI Lien Order\n",
      "MI Motion and Order for Disclosure of Income and Health Insurance Information\n",
      "MI Motion and Order to Show Cause for Contempt (Custody/Parenting Time)\n",
      "MI Motion and Order to Show Cause for Contempt (Medical)\n",
      "MI Motion and Order to Show Cause for Contempt (Support)\n",
      "MI Motion for Lien\n",
      "MI Motion Regarding Change of Domicile/Legal Residence (with instructions)\n",
      "MI Motion Regarding Custody\n",
      "MI Motion Regarding Parenting Time\n",
      "MI Motion Regarding Payment Plan/Discharge of Arrears (with instructions)\n",
      "MI Motion Regarding Support\n",
      "MI Motion to Permit Foreign Travel\n",
      "MI Motion to Release Bond to Secure Future Support\n",
      "MI Motion to Release Lien\n",
      "MI Motion to Require Bond to Secure Future Support\n",
      "MI Motion to Rescind License Suspension\n",
      "MI Motion to Set Aside Default/Default Judgment (Domestic Relations)\n",
      "MI Motion to Set Aside Order of Filiation\n",
      "MI Motion to Suspend License\n",
      "MI Motion/Stipulation for Transferring Case (Postjudgment)\n",
      "MI Notice Following Order for Payment of Arrearage (License Suspension)\n",
      "MI Notice of Child Support Review\n",
      "\n",
      "MI Notice of Closure of Friend of the Court Case\n",
      "MI Notice of Contempt Hearing for Failure to Pay Support\n",
      "MI Notice of Hearing\n",
      "MI Notice of Hearing to Enter Order\n"
     ]
    },
    {
     "name": "stderr",
     "output_type": "stream",
     "text": [
      "/Users/davidcolarusso/opt/anaconda3/lib/python3.8/site-packages/sklearn/cluster/_affinity_propagation.py:246: ConvergenceWarning: Affinity propagation did not converge, this model will not have any cluster centers.\n",
      "  warnings.warn(\"Affinity propagation did not converge, this model \"\n",
      "/Users/davidcolarusso/opt/anaconda3/lib/python3.8/site-packages/sklearn/cluster/_affinity_propagation.py:460: ConvergenceWarning: This model does not have any cluster centers because affinity propagation did not converge. Labeling every sample as '-1'.\n",
      "  warnings.warn(\"This model does not have any cluster centers \"\n"
     ]
    },
    {
     "name": "stdout",
     "output_type": "stream",
     "text": [
      "MI Notice of Intent to Levy\n",
      "MI Notice of Lien\n",
      "MI Notice of Objection to Proposed Redirection or Abatement of Child Support\n",
      "MI Notice of Perfection of Lien\n",
      "MI Notice of Proposed License Suspension and Request for Hearing\n"
     ]
    },
    {
     "name": "stderr",
     "output_type": "stream",
     "text": [
      "/Users/davidcolarusso/opt/anaconda3/lib/python3.8/site-packages/sklearn/cluster/_affinity_propagation.py:246: ConvergenceWarning: Affinity propagation did not converge, this model will not have any cluster centers.\n",
      "  warnings.warn(\"Affinity propagation did not converge, this model \"\n",
      "/Users/davidcolarusso/opt/anaconda3/lib/python3.8/site-packages/sklearn/cluster/_affinity_propagation.py:460: ConvergenceWarning: This model does not have any cluster centers because affinity propagation did not converge. Labeling every sample as '-1'.\n",
      "  warnings.warn(\"This model does not have any cluster centers \"\n"
     ]
    },
    {
     "name": "stdout",
     "output_type": "stream",
     "text": [
      "MI Notice of Redirection or Abatement of Child Support\n",
      "MI Notice of Registration of Out-of-State Child-Custody Determination (UCCJEA) (formerly FOC 99)\n",
      "MI Notice of Registration of Out-of-State Support Order (UIFSA)\n",
      "MI Notice of Request to Enter Consent Judgment\n",
      "MI Notice of Review on Arrearage (Consumer Reporting Agency)\n",
      "MI Notice to Enter Order Without Hearing\n"
     ]
    },
    {
     "name": "stderr",
     "output_type": "stream",
     "text": [
      "/Users/davidcolarusso/opt/anaconda3/lib/python3.8/site-packages/sklearn/cluster/_affinity_propagation.py:246: ConvergenceWarning: Affinity propagation did not converge, this model will not have any cluster centers.\n",
      "  warnings.warn(\"Affinity propagation did not converge, this model \"\n",
      "/Users/davidcolarusso/opt/anaconda3/lib/python3.8/site-packages/sklearn/cluster/_affinity_propagation.py:460: ConvergenceWarning: This model does not have any cluster centers because affinity propagation did not converge. Labeling every sample as '-1'.\n",
      "  warnings.warn(\"This model does not have any cluster centers \"\n"
     ]
    },
    {
     "name": "stdout",
     "output_type": "stream",
     "text": [
      "MI Notice to Release Lien\n",
      "MI Notice to Withhold Income for Fees and Costs\n",
      "MI Objection to Child-Support Review\n",
      "MI Objection to Ex Parte Order and Motion to Rescind or Modify\n",
      "MI Objection to Proposed Order\n",
      "MI Objection to Referee's Recommended Order\n",
      "MI Order after Hearing on Alleged Custody/Parenting Time Violation\n",
      "MI Order Changing Venue and Transferring Case (Post Judgment)\n",
      "MI Order Correcting Omission in Order\n",
      "MI Order Discharging Arrears\n",
      "MI Order Exempting Case from Friend of the Court Services\n",
      "MI Order for Bond to Secure Future Support\n"
     ]
    },
    {
     "name": "stderr",
     "output_type": "stream",
     "text": [
      "/Users/davidcolarusso/opt/anaconda3/lib/python3.8/site-packages/sklearn/cluster/_affinity_propagation.py:246: ConvergenceWarning: Affinity propagation did not converge, this model will not have any cluster centers.\n",
      "  warnings.warn(\"Affinity propagation did not converge, this model \"\n",
      "/Users/davidcolarusso/opt/anaconda3/lib/python3.8/site-packages/sklearn/cluster/_affinity_propagation.py:460: ConvergenceWarning: This model does not have any cluster centers because affinity propagation did not converge. Labeling every sample as '-1'.\n",
      "  warnings.warn(\"This model does not have any cluster centers \"\n"
     ]
    },
    {
     "name": "stdout",
     "output_type": "stream",
     "text": [
      "MI Order for Genetic Testing (Revocation of Paternity Act)\n",
      "MI Order Modifying Ex Parte Order\n",
      "MI Order on Motion to Set Aside Order of Filiation\n",
      "MI Order Regarding Change of Domicile/Legal Residence\n"
     ]
    },
    {
     "name": "stderr",
     "output_type": "stream",
     "text": [
      "/Users/davidcolarusso/opt/anaconda3/lib/python3.8/site-packages/sklearn/cluster/_affinity_propagation.py:246: ConvergenceWarning: Affinity propagation did not converge, this model will not have any cluster centers.\n",
      "  warnings.warn(\"Affinity propagation did not converge, this model \"\n",
      "/Users/davidcolarusso/opt/anaconda3/lib/python3.8/site-packages/sklearn/cluster/_affinity_propagation.py:460: ConvergenceWarning: This model does not have any cluster centers because affinity propagation did not converge. Labeling every sample as '-1'.\n",
      "  warnings.warn(\"This model does not have any cluster centers \"\n"
     ]
    },
    {
     "name": "stdout",
     "output_type": "stream",
     "text": [
      "MI Order Regarding Custody and Parenting Time  ** MUST BE USED WITH FOC 10 or FOC 10a\n"
     ]
    },
    {
     "name": "stderr",
     "output_type": "stream",
     "text": [
      "/Users/davidcolarusso/opt/anaconda3/lib/python3.8/site-packages/sklearn/cluster/_affinity_propagation.py:246: ConvergenceWarning: Affinity propagation did not converge, this model will not have any cluster centers.\n",
      "  warnings.warn(\"Affinity propagation did not converge, this model \"\n",
      "/Users/davidcolarusso/opt/anaconda3/lib/python3.8/site-packages/sklearn/cluster/_affinity_propagation.py:460: ConvergenceWarning: This model does not have any cluster centers because affinity propagation did not converge. Labeling every sample as '-1'.\n",
      "  warnings.warn(\"This model does not have any cluster centers \"\n"
     ]
    },
    {
     "name": "stdout",
     "output_type": "stream",
     "text": [
      "MI Order Regarding Foreign Travel\n",
      "MI Order Regarding Income Withholding\n",
      "MI Order Regarding Motion to Set Aside Default / Default Judgment (Domestic Relations)\n",
      "MI Order Regarding Parenting Time\n",
      "MI Order Regarding Payment of Arrearage (License Suspension)\n",
      "MI Order Regarding Payment Plan/Discharge of Arrears\n"
     ]
    },
    {
     "name": "stderr",
     "output_type": "stream",
     "text": [
      "/Users/davidcolarusso/opt/anaconda3/lib/python3.8/site-packages/sklearn/cluster/_affinity_propagation.py:246: ConvergenceWarning: Affinity propagation did not converge, this model will not have any cluster centers.\n",
      "  warnings.warn(\"Affinity propagation did not converge, this model \"\n",
      "/Users/davidcolarusso/opt/anaconda3/lib/python3.8/site-packages/sklearn/cluster/_affinity_propagation.py:460: ConvergenceWarning: This model does not have any cluster centers because affinity propagation did not converge. Labeling every sample as '-1'.\n",
      "  warnings.warn(\"This model does not have any cluster centers \"\n"
     ]
    },
    {
     "name": "stdout",
     "output_type": "stream",
     "text": [
      "MI Order Regarding Registration of Out-of-State Child-Custody Determination (formerly FOC 99a)\n",
      "MI Order Regarding Request to Revoke Acknowledgment of Parentage\n",
      "MI Order Releasing or Forfeiting Bond to Secure Future Support\n"
     ]
    },
    {
     "name": "stderr",
     "output_type": "stream",
     "text": [
      "/Users/davidcolarusso/opt/anaconda3/lib/python3.8/site-packages/sklearn/cluster/_affinity_propagation.py:246: ConvergenceWarning: Affinity propagation did not converge, this model will not have any cluster centers.\n",
      "  warnings.warn(\"Affinity propagation did not converge, this model \"\n",
      "/Users/davidcolarusso/opt/anaconda3/lib/python3.8/site-packages/sklearn/cluster/_affinity_propagation.py:460: ConvergenceWarning: This model does not have any cluster centers because affinity propagation did not converge. Labeling every sample as '-1'.\n",
      "  warnings.warn(\"This model does not have any cluster centers \"\n"
     ]
    },
    {
     "name": "stdout",
     "output_type": "stream",
     "text": [
      "MI Order Rescinding License Suspension (Child Support/Parenting Time) (two-part form)\n",
      "MI Order Revoking Release and Forfeiting Bond, Notice of Intent to Enter Judgment (Domestic Relations)\n",
      "MI Order Suspending Immediate Income Withholding\n",
      "MI Order Suspending License (two-part form)\n",
      "MI Order to Release Lien\n",
      "MI Order to Remit Prisoner Funds for Child Support - FOC 112\n",
      "MI Order Vacating/Confirming Registration of Out-of-State Support Order\n",
      "MI Petition (Collaborative Law Process)\n",
      "MI Petition (Consent Judgment)\n",
      "MI Prisoner Information Addendum\n",
      "MI Publication and Notice of Friend of the Court Annual Statutory Review\n",
      "MI Referee Findings and Recommendation for Order after Hearing on Modification of Support\n",
      "MI Referee Findings and Recommendation for Order after Hearing on Bench Warrant/Show Cause (Support)\n"
     ]
    },
    {
     "name": "stderr",
     "output_type": "stream",
     "text": [
      "/Users/davidcolarusso/opt/anaconda3/lib/python3.8/site-packages/sklearn/cluster/_affinity_propagation.py:246: ConvergenceWarning: Affinity propagation did not converge, this model will not have any cluster centers.\n",
      "  warnings.warn(\"Affinity propagation did not converge, this model \"\n",
      "/Users/davidcolarusso/opt/anaconda3/lib/python3.8/site-packages/sklearn/cluster/_affinity_propagation.py:460: ConvergenceWarning: This model does not have any cluster centers because affinity propagation did not converge. Labeling every sample as '-1'.\n",
      "  warnings.warn(\"This model does not have any cluster centers \"\n"
     ]
    },
    {
     "name": "stdout",
     "output_type": "stream",
     "text": [
      "MI Referee Findings and Recommendation for Order after Hearing on Alleged Custody/Parenting Time Violation\n",
      "MI Referral Order\n",
      "MI Request for Health-Care Expense Payment\n",
      "MI Request to Access Friend of the Court Records and Decision\n",
      "MI Request to Reopen Friend of the Court Case\n",
      "MI Response to Motion Regarding Change of Domicile/Legal Residence (with instructions)\n",
      "MI Response to Motion Regarding Custody\n",
      "MI Response to Motion Regarding Parenting Time\n",
      "MI Response to Motion Regarding Payment Plan/Discharge of Arrears (with instructions)\n",
      "MI Response to Motion Regarding Support\n",
      "MI Statement of Account\n",
      "MI Status Report / Notice (Collaborative Law Process)\n",
      "MI Supervision Order (Support Enforcement)\n",
      "MI Support Enforcement Order\n",
      "MI Uniform Child Support Order\n",
      "MI Uniform Child Support Order, Deviation Addendum\n",
      "MI Uniform Child Support Order, No Friend of the Court Services\n",
      "MI Uniform Spousal Support Order\n"
     ]
    },
    {
     "name": "stderr",
     "output_type": "stream",
     "text": [
      "/Users/davidcolarusso/opt/anaconda3/lib/python3.8/site-packages/sklearn/cluster/_affinity_propagation.py:246: ConvergenceWarning: Affinity propagation did not converge, this model will not have any cluster centers.\n",
      "  warnings.warn(\"Affinity propagation did not converge, this model \"\n",
      "/Users/davidcolarusso/opt/anaconda3/lib/python3.8/site-packages/sklearn/cluster/_affinity_propagation.py:460: ConvergenceWarning: This model does not have any cluster centers because affinity propagation did not converge. Labeling every sample as '-1'.\n",
      "  warnings.warn(\"This model does not have any cluster centers \"\n"
     ]
    },
    {
     "name": "stdout",
     "output_type": "stream",
     "text": [
      "MI Uniform Spousal Support Order, No Friend of the Court Services\n"
     ]
    },
    {
     "name": "stderr",
     "output_type": "stream",
     "text": [
      "/Users/davidcolarusso/opt/anaconda3/lib/python3.8/site-packages/sklearn/cluster/_affinity_propagation.py:246: ConvergenceWarning: Affinity propagation did not converge, this model will not have any cluster centers.\n",
      "  warnings.warn(\"Affinity propagation did not converge, this model \"\n",
      "/Users/davidcolarusso/opt/anaconda3/lib/python3.8/site-packages/sklearn/cluster/_affinity_propagation.py:460: ConvergenceWarning: This model does not have any cluster centers because affinity propagation did not converge. Labeling every sample as '-1'.\n",
      "  warnings.warn(\"This model does not have any cluster centers \"\n"
     ]
    },
    {
     "name": "stdout",
     "output_type": "stream",
     "text": [
      "MI Verified Statement\n",
      "MI Acceptance of Appointment and Report of Guardian Ad Litem\n",
      "MI Application for Appointment of Out-of-State Conservator\n",
      "MI Application for Appointment of Out-of-State Guardian of Legally Incapacitated Individual\n",
      "MI Application for Appointment of Out-of-State Guardian of Minor\n",
      "MI Inventory (Conservatorship)\n",
      "MI Letters of Conservatorship\n"
     ]
    },
    {
     "name": "stderr",
     "output_type": "stream",
     "text": [
      "/Users/davidcolarusso/opt/anaconda3/lib/python3.8/site-packages/sklearn/cluster/_affinity_propagation.py:246: ConvergenceWarning: Affinity propagation did not converge, this model will not have any cluster centers.\n",
      "  warnings.warn(\"Affinity propagation did not converge, this model \"\n",
      "/Users/davidcolarusso/opt/anaconda3/lib/python3.8/site-packages/sklearn/cluster/_affinity_propagation.py:460: ConvergenceWarning: This model does not have any cluster centers because affinity propagation did not converge. Labeling every sample as '-1'.\n",
      "  warnings.warn(\"This model does not have any cluster centers \"\n"
     ]
    },
    {
     "name": "stdout",
     "output_type": "stream",
     "text": [
      "MI Minor Conservatorship - Final Account, Waiver and Consent\n",
      "MI Notice on Petition for Conservator or Protective Order\n",
      "MI Order Appointing Attorney\n",
      "MI Order Appointing Guardian Ad Litem/Attorney/Lawyer Guardian Ad Litem\n",
      "MI Order Appointing Physician/Visitor/Mental Health Professional\n",
      "MI Order for Administrative Closing (Conservatorship)\n",
      "MI Order for Appointment of Out-of-State Conservator\n",
      "MI Order for Appointment of Out-of-State Guardian of Minor\n",
      "MI Order for Appointment of Out-of-State Guardian of Legally Incapacitated Individual\n",
      "MI Order RE Final Account, Minor Conservatorship\n",
      "MI Order Regarding Appointment of Conservator\n",
      "MI Order Regarding Petition for Protective Order\n",
      "MI Order Regarding Real Estate/Dwelling\n"
     ]
    },
    {
     "name": "stderr",
     "output_type": "stream",
     "text": [
      "/Users/davidcolarusso/opt/anaconda3/lib/python3.8/site-packages/sklearn/cluster/_affinity_propagation.py:246: ConvergenceWarning: Affinity propagation did not converge, this model will not have any cluster centers.\n",
      "  warnings.warn(\"Affinity propagation did not converge, this model \"\n",
      "/Users/davidcolarusso/opt/anaconda3/lib/python3.8/site-packages/sklearn/cluster/_affinity_propagation.py:460: ConvergenceWarning: This model does not have any cluster centers because affinity propagation did not converge. Labeling every sample as '-1'.\n",
      "  warnings.warn(\"This model does not have any cluster centers \"\n"
     ]
    },
    {
     "name": "stdout",
     "output_type": "stream",
     "text": [
      "MI Order Regarding Termination/Modification of Guardian for Minor or LII/Conservator\n",
      "MI Order to Use Funds (Conservatorship)\n",
      "MI Petition for Appointment of Conservator and/or Protective Order\n",
      "MI Petition for Appointment of Guardian Ad Litem/Attorney/Lawyer Guardian Ad Litem\n"
     ]
    },
    {
     "name": "stderr",
     "output_type": "stream",
     "text": [
      "/Users/davidcolarusso/opt/anaconda3/lib/python3.8/site-packages/sklearn/cluster/_affinity_propagation.py:246: ConvergenceWarning: Affinity propagation did not converge, this model will not have any cluster centers.\n",
      "  warnings.warn(\"Affinity propagation did not converge, this model \"\n",
      "/Users/davidcolarusso/opt/anaconda3/lib/python3.8/site-packages/sklearn/cluster/_affinity_propagation.py:460: ConvergenceWarning: This model does not have any cluster centers because affinity propagation did not converge. Labeling every sample as '-1'.\n",
      "  warnings.warn(\"This model does not have any cluster centers \"\n"
     ]
    },
    {
     "name": "stdout",
     "output_type": "stream",
     "text": [
      "MI Petition Regarding Real Estate/Dwelling\n",
      "MI Petition to Terminate/Modify Conservatorship\n",
      "MI Petition to Use Funds (Conservatorship)\n",
      "MI Proof of Restricted Account and Annual Verification of Funds on Deposit (Conservatorship of Minor)\n",
      "MI Receipt of Ward and Discharge\n",
      "MI Request for Notice\n",
      "MI What You Need to Know before Filing a Petition to Appoint a Conservator\n",
      "\n",
      "MI Appeal of Order Denying Petition for Waiver of Parental Consent\n",
      "MI Confidential Information for Proceedings Concerning Waiver of Parental Consent\n",
      "MI Notice to Minor of Rights Regarding Waiver of Parental Consent for an Abortion\n",
      "MI Order Granting/Denying Waiver of Parental Consent for an Abortion\n",
      "MI Petition for Waiver of Parental Consent for an Abortion\n"
     ]
    },
    {
     "name": "stderr",
     "output_type": "stream",
     "text": [
      "/Users/davidcolarusso/opt/anaconda3/lib/python3.8/site-packages/sklearn/cluster/_affinity_propagation.py:246: ConvergenceWarning: Affinity propagation did not converge, this model will not have any cluster centers.\n",
      "  warnings.warn(\"Affinity propagation did not converge, this model \"\n",
      "/Users/davidcolarusso/opt/anaconda3/lib/python3.8/site-packages/sklearn/cluster/_affinity_propagation.py:460: ConvergenceWarning: This model does not have any cluster centers because affinity propagation did not converge. Labeling every sample as '-1'.\n",
      "  warnings.warn(\"This model does not have any cluster centers \"\n"
     ]
    },
    {
     "name": "stdout",
     "output_type": "stream",
     "text": [
      "MI Request and Order for Court-Appointed Attorney/Guardian Ad Litem for Waiver of Parental Consent\n",
      "MI Advice of Rights and Plea Information (also available in Arabic, Chinese, Hmong, Korean, Russian, and Spanish)\n",
      "MI Affidavit for Search Warrant, Affidavit and Search Warrant  (two-page form)\n",
      "MI Application for Human Trafficking Victim to Set Aside Conviction(s)\n",
      "MI Application to Set Aside Conviction(s)\n",
      "MI Application to Set Aside Misdemeanor Marihuana Conviction(s)\n",
      "MI Certification to Department of State (Interlock Program)\n",
      "MI Complaint Misdemeanor\n",
      "MI Complaint, Misdemeanor\n",
      "MI Custody Order\n",
      "MI Demand/Waiver for Transcript of Preliminary Examination\n"
     ]
    },
    {
     "name": "stderr",
     "output_type": "stream",
     "text": [
      "/Users/davidcolarusso/opt/anaconda3/lib/python3.8/site-packages/sklearn/cluster/_affinity_propagation.py:246: ConvergenceWarning: Affinity propagation did not converge, this model will not have any cluster centers.\n",
      "  warnings.warn(\"Affinity propagation did not converge, this model \"\n",
      "/Users/davidcolarusso/opt/anaconda3/lib/python3.8/site-packages/sklearn/cluster/_affinity_propagation.py:460: ConvergenceWarning: This model does not have any cluster centers because affinity propagation did not converge. Labeling every sample as '-1'.\n",
      "  warnings.warn(\"This model does not have any cluster centers \"\n"
     ]
    },
    {
     "name": "stdout",
     "output_type": "stream",
     "text": [
      "MI Disclosure of Employment or Contract in Michigan School System\n",
      "MI Interim Bail Order (Misdemeanor)\n",
      "MI Motion to Destroy DNA Profile and Sample\n",
      "MI Motion to Set Aside Forfeiture and Discharge of Bond and Notice of Hearing\n",
      "MI Notice to Prosecuting Official (Victim’s Rights Act)\n",
      "MI Order for Contribution\n",
      "MI Order for DNA Sample\n",
      "MI Order of Discharge from Treatment Court Program\n",
      "MI Order on Application by Human Trafficking Victim to Set Aside Conviction(s)\n",
      "MI Order on Application to Set Aside Conviction(s)\n",
      "MI Order on Application to Set Aside Misdemeanor Marihuana Conviction(s)\n",
      "MI Order on Motion to Set Aside Forfeiture and Discharge of Bond\n",
      "MI Order Regarding Destruction of Biometric Data and Arrest Record\n",
      "MI Order Regarding Extradition\n",
      "MI Order to Destroy DNA Profile and Sample\n",
      "MI Order to Remit Prisoner Funds for Fines, Costs, and Assessments\n",
      "MI Order Transferring Supervision to Treatment Court Program\n",
      "MI Plea By Mail\n"
     ]
    },
    {
     "name": "stderr",
     "output_type": "stream",
     "text": [
      "/Users/davidcolarusso/opt/anaconda3/lib/python3.8/site-packages/sklearn/cluster/_affinity_propagation.py:246: ConvergenceWarning: Affinity propagation did not converge, this model will not have any cluster centers.\n",
      "  warnings.warn(\"Affinity propagation did not converge, this model \"\n",
      "/Users/davidcolarusso/opt/anaconda3/lib/python3.8/site-packages/sklearn/cluster/_affinity_propagation.py:460: ConvergenceWarning: This model does not have any cluster centers because affinity propagation did not converge. Labeling every sample as '-1'.\n",
      "  warnings.warn(\"This model does not have any cluster centers \"\n"
     ]
    },
    {
     "name": "stdout",
     "output_type": "stream",
     "text": [
      "MI Pretrial Release Order\n",
      "MI Satisfaction of Financial Obligation\n",
      "MI Summons Regarding Bond Violation\n",
      "MI Summons, Criminal\n",
      "MI Waiver of Extradition\n",
      "MI Waiver of Privilege Against Disclosure (Alcohol/Substance Abuse Treatment)\n",
      "MI Waiver of Trial by Jury and Election to be Tried without Jury\n",
      "MI Warrant, Misdemeanor, Traffic/Nontraffic\n",
      "MI Order Following Hearing on Petition for Emancipation\n",
      "MI Order Following Hearing on Petition to Rescind Order of Emancipation\n",
      "MI Petition for Emancipation, Affidavit, and Waiver of Notice\n",
      "MI Petition to Rescind Order of Emancipation\n",
      "MI Summons\n",
      "MI Affidavit to Accompany Petition for Transport and/or Temporary Detention\n",
      "MI Appeal of Commitment and Order to Reconvene Commitment Review Panel\n",
      "MI Notice of Hearing on Petition for Temporary Detention\n",
      "MI Notice of Hearing on Petition for Testing of Infectious Disease\n"
     ]
    },
    {
     "name": "stderr",
     "output_type": "stream",
     "text": [
      "/Users/davidcolarusso/opt/anaconda3/lib/python3.8/site-packages/sklearn/cluster/_affinity_propagation.py:246: ConvergenceWarning: Affinity propagation did not converge, this model will not have any cluster centers.\n",
      "  warnings.warn(\"Affinity propagation did not converge, this model \"\n",
      "/Users/davidcolarusso/opt/anaconda3/lib/python3.8/site-packages/sklearn/cluster/_affinity_propagation.py:460: ConvergenceWarning: This model does not have any cluster centers because affinity propagation did not converge. Labeling every sample as '-1'.\n",
      "  warnings.warn(\"This model does not have any cluster centers \"\n"
     ]
    },
    {
     "name": "stdout",
     "output_type": "stream",
     "text": [
      "MI Notice of Hearing on Petition for Treatment of Infectious Disease\n",
      "MI Order Appointing Commitment Review Panel\n",
      "MI Order Following Appeal of Commitment for Treatment of Infectious Disease\n",
      "MI Order Following Hearing on Petition for Continued Commitment for Treatment of Infectious Disease\n",
      "MI Order Following Hearing on Petition for Testing of Infectious Disease\n",
      "MI Order Following Hearing on Petition for Treatment of Infectious Disease\n",
      "MI Order Following Hearing on Petition to Continue Temporary Detention\n",
      "MI Petition and Ex Parte Order for Transport and/or Temporary Detention\n",
      "MI Petition for Continued Commitment for Treatment of Infectious Disease and Order to Reconvene Commitment Review Panel\n",
      "MI Petition for Testing of Infectious Disease and Waiver of Notice of Hearing\n",
      "MI Petition for Treatment of Infectious Disease\n"
     ]
    },
    {
     "name": "stderr",
     "output_type": "stream",
     "text": [
      "/Users/davidcolarusso/opt/anaconda3/lib/python3.8/site-packages/sklearn/cluster/_affinity_propagation.py:246: ConvergenceWarning: Affinity propagation did not converge, this model will not have any cluster centers.\n",
      "  warnings.warn(\"Affinity propagation did not converge, this model \"\n",
      "/Users/davidcolarusso/opt/anaconda3/lib/python3.8/site-packages/sklearn/cluster/_affinity_propagation.py:460: ConvergenceWarning: This model does not have any cluster centers because affinity propagation did not converge. Labeling every sample as '-1'.\n",
      "  warnings.warn(\"This model does not have any cluster centers \"\n"
     ]
    },
    {
     "name": "stdout",
     "output_type": "stream",
     "text": [
      "MI Recommendation of Commitment Review Panel\n",
      "MI Certificate of Legal Counsel/Waiver of Attendance\n",
      "MI Certification and Report on Petition for Judicial Admission\n",
      "MI Clinical Certificate\n",
      "MI Continuing Order for Mental Health Treatment\n",
      "MI Demand for Hearing\n",
      "MI Initial Order After Hearing on Petition for Mental Health Treatment\n",
      "MI Notice of Hearing and Advice of Rights\n",
      "MI Notice of Hearing and Appointment of Attorney on Objection to Hospitalization or Administrative Admission\n",
      "MI Notice of Hearing and Appointment of Attorney on Petition for Continued Hospitalization of Minor\n",
      "MI Notice of Hospitalization and Certificate of Service\n",
      "MI Notice of Inability to Secure Evaluation/Examination\n",
      "MI Notice of Right to Appeal Return and Appeal of Return from Authorized Leave\n",
      "MI Notice of Right to Object to Hospitalization and Objection and Demand for Hearing\n",
      "MI Notice to Attorney of Return to Hospital/Facility from Authorized Leave\n",
      "MI Notification of Noncompliance and Request for Modified Order\n",
      "MI Objection to Administrative Admission (Individual with Developmental Disability)\n",
      "MI Objection to Hospitalization of Minor\n",
      "MI Order After Hearing on Objection to Hospitalization\n",
      "MI Order After Hearing on Petition for Discharge from Continuing Mental Health Treatment\n",
      "MI Order After Notice of Noncompliance with Assisted Outpatient Treatment or Combined Hospitalization and Assisted Outpatient Treatment Order\n",
      "MI Order and Report on Alternative Mental Health Treatment\n",
      "MI Order Dismissing Petition for Discharge from Judicial Admission\n",
      "MI Order Following Hearing on Appeal of Return to Hospital/Facility from Authorized Leave\n",
      "MI Order Following Hearing on Objection By Minor to Hospitalization/Administrative Admission\n",
      "MI Order Following Hearing on Petition for Continued Hospitalization of Minor\n",
      "MI Order Following Hearing on Petition for Discharge from Judicial Admission\n",
      "MI Order Following Hearing on Petition for Judicial Admission\n",
      "MI Order for Examination/Transport\n",
      "MI Order for Report after Notification and Report\n",
      "MI Order for Report on Petition for Judicial Admission\n",
      "MI Order Regarding Transport of Minor\n",
      "MI Order to Modify Order for Assisted Outpatient Treatment or Combined Hospitalization and Assisted Outpatient Treatment\n",
      "MI Petition for Continued Hospitalization of Minor\n",
      "MI Petition for Continuing Mental Health Treatment Order\n",
      "MI Petition for Discharge from Continuing Mental Health Treatment\n",
      "MI Petition for Discharge from Judicial Admission\n",
      "MI Petition for Judicial Admission\n"
     ]
    },
    {
     "name": "stderr",
     "output_type": "stream",
     "text": [
      "/Users/davidcolarusso/opt/anaconda3/lib/python3.8/site-packages/sklearn/cluster/_affinity_propagation.py:246: ConvergenceWarning: Affinity propagation did not converge, this model will not have any cluster centers.\n",
      "  warnings.warn(\"Affinity propagation did not converge, this model \"\n",
      "/Users/davidcolarusso/opt/anaconda3/lib/python3.8/site-packages/sklearn/cluster/_affinity_propagation.py:460: ConvergenceWarning: This model does not have any cluster centers because affinity propagation did not converge. Labeling every sample as '-1'.\n",
      "  warnings.warn(\"This model does not have any cluster centers \"\n"
     ]
    },
    {
     "name": "stdout",
     "output_type": "stream",
     "text": [
      "MI Petition for Mental Health Treatment\n",
      "MI Petition for Second Mental Health Treatment Order\n",
      "MI Petition Regarding Transport of Minor\n",
      "MI Request to Defer Hearing on Commitment\n",
      "MI Second Order for Mental Health Treatment\n",
      "MI Six-Month Review Report\n",
      "MI Supplement to Clinical Certificate on Appeal of Return to Hospital/Facility\n",
      "MI Acceptance of Appointment and Report of Guardian Ad Litem of Alleged Incapacitated Individual\n",
      "MI Annual Report of Guardian on Condition of Legally Incapacitated Individual\n",
      "MI Annual Report of Guardian on Condition of Minor\n",
      "MI Consent by Parent/Indian Custodian to Guardianship of Indian Child\n",
      "MI Letters of Guardianship\n"
     ]
    },
    {
     "name": "stderr",
     "output_type": "stream",
     "text": [
      "/Users/davidcolarusso/opt/anaconda3/lib/python3.8/site-packages/sklearn/cluster/_affinity_propagation.py:246: ConvergenceWarning: Affinity propagation did not converge, this model will not have any cluster centers.\n",
      "  warnings.warn(\"Affinity propagation did not converge, this model \"\n",
      "/Users/davidcolarusso/opt/anaconda3/lib/python3.8/site-packages/sklearn/cluster/_affinity_propagation.py:460: ConvergenceWarning: This model does not have any cluster centers because affinity propagation did not converge. Labeling every sample as '-1'.\n",
      "  warnings.warn(\"This model does not have any cluster centers \"\n"
     ]
    },
    {
     "name": "stdout",
     "output_type": "stream",
     "text": [
      "MI Letters of Guardianship of Individual with Developmental Disability\n",
      "MI Limited Guardianship Placement Plan\n"
     ]
    },
    {
     "name": "stderr",
     "output_type": "stream",
     "text": [
      "/Users/davidcolarusso/opt/anaconda3/lib/python3.8/site-packages/sklearn/cluster/_affinity_propagation.py:246: ConvergenceWarning: Affinity propagation did not converge, this model will not have any cluster centers.\n",
      "  warnings.warn(\"Affinity propagation did not converge, this model \"\n",
      "/Users/davidcolarusso/opt/anaconda3/lib/python3.8/site-packages/sklearn/cluster/_affinity_propagation.py:460: ConvergenceWarning: This model does not have any cluster centers because affinity propagation did not converge. Labeling every sample as '-1'.\n",
      "  warnings.warn(\"This model does not have any cluster centers \"\n"
     ]
    },
    {
     "name": "stdout",
     "output_type": "stream",
     "text": [
      "MI Minor Guardianship Social History\n",
      "MI Notice of Appointment of Temporary Guardian for Minor and of Right to Object\n",
      "MI Notice of Guardianship Proceedings Concerning An Indian Child\n",
      "MI Notice of Right to Request Dismissal of Guardian or Modification of Guardianship Order\n",
      "MI Notice of Rights to Alleged Incapacitated Individual\n",
      "MI Order Appointing Emergency Temporary Guardian for Individual with Alleged Developmental Disability\n",
      "MI Order Appointing Guardian for Individual with Developmental Disability\n"
     ]
    },
    {
     "name": "stderr",
     "output_type": "stream",
     "text": [
      "/Users/davidcolarusso/opt/anaconda3/lib/python3.8/site-packages/sklearn/cluster/_affinity_propagation.py:246: ConvergenceWarning: Affinity propagation did not converge, this model will not have any cluster centers.\n",
      "  warnings.warn(\"Affinity propagation did not converge, this model \"\n",
      "/Users/davidcolarusso/opt/anaconda3/lib/python3.8/site-packages/sklearn/cluster/_affinity_propagation.py:460: ConvergenceWarning: This model does not have any cluster centers because affinity propagation did not converge. Labeling every sample as '-1'.\n",
      "  warnings.warn(\"This model does not have any cluster centers \"\n"
     ]
    },
    {
     "name": "stdout",
     "output_type": "stream",
     "text": [
      "MI Order Appointing Person to Review/Investigate Guardianship\n",
      "MI Order Following Hearing on Status of Minor Guardianship\n",
      "MI Order Following Hearing to Terminate Minor Guardianship\n",
      "MI Order Following Review of Guardianship\n",
      "MI Order for Placement of Individual with Developmental Disability\n",
      "MI Order of Investigation and Notice of Hearing on Guardianship of Indian Child\n",
      "MI Order Regarding Appointment of Guardian of Incapacitated Individual\n",
      "MI Order Regarding Appointment of Guardian/Limited Guardian of a Minor Indian Child\n",
      "MI Order Regarding Appointment of Guardian/Limited Guardian of Minor\n",
      "MI Order Regarding Appointment of Temporary Guardian of Incapacitated Individual\n",
      "MI Order Regarding Termination/Modification of Guardian for Individual with Developmental Disability\n",
      "MI Petition for Appointment of Guardian of Incapacitated Individual\n",
      "MI Petition for Appointment of Guardian of Minor\n",
      "MI Petition for Appointment of Guardian of Minor Indian Child (Voluntary Guardianship)\n",
      "MI Petition for Appointment of Guardian of Minor Indian Child (Involuntary Guardianship)\n",
      "MI Petition for Appointment of Guardian, Individual with Alleged Developmental Disability\n",
      "MI Petition for Appointment of Limited Guardian of Minor Indian Child (Voluntary Guardianship)\n",
      "MI Petition for Appointment of Limited Guardian of Minor\n",
      "MI Petition for Authority to Place Individual with Developmental Disability in a Facility\n"
     ]
    },
    {
     "name": "stderr",
     "output_type": "stream",
     "text": [
      "/Users/davidcolarusso/opt/anaconda3/lib/python3.8/site-packages/sklearn/cluster/_affinity_propagation.py:246: ConvergenceWarning: Affinity propagation did not converge, this model will not have any cluster centers.\n",
      "  warnings.warn(\"Affinity propagation did not converge, this model \"\n",
      "/Users/davidcolarusso/opt/anaconda3/lib/python3.8/site-packages/sklearn/cluster/_affinity_propagation.py:460: ConvergenceWarning: This model does not have any cluster centers because affinity propagation did not converge. Labeling every sample as '-1'.\n",
      "  warnings.warn(\"This model does not have any cluster centers \"\n"
     ]
    },
    {
     "name": "stdout",
     "output_type": "stream",
     "text": [
      "MI Petition to Terminate/Modify Guardian for Developmentally Disabled Individual\n",
      "MI Petition to Terminate/Modify Guardianship\n",
      "MI Report for Court Review of Minor Guardianship\n",
      "MI Report of Guardian on Condition of Individual with Developmental Disability\n",
      "MI Report of Physician or Mental Health Professional\n",
      "MI Report on Review of Guardianship of Legally Incapacitated Individual\n",
      "MI Report to Accompany Petition to Appoint, Modify, or Discharge Guardian of Individual with Developmental Disability\n",
      "MI What You Need to Know before Filing a Petition to Appoint a Guardian for an Incapacitated Adult\n",
      "\n",
      "MI Withdrawal of Consent to Guardianship of Indian Child\n",
      "MI Advice of Rights (Circuit Court Plea)\n",
      "MI Felony Set, Information/Amended\n",
      "MI Felony Set, Summons\n",
      "MI Felony Set, Warrant\n",
      "MI Motion for Relief from Judgment\n",
      "MI Order Vacating Conviction and Entering New Disposition\n",
      "MI Waiver of Arraignment and Election to Stand Mute or Enter Not Guilty Plea\n",
      "MI Judgment of Conviction (Designated Case)\n",
      "MI Notice of Hearing (Designated Case)\n",
      "MI Order after Designation Hearing\n",
      "MI Order after Preliminary Examination (Designated Case)\n",
      "MI Motion Objecting to DNA Identification Profile or Blood/Tissue Typing Summary Report\n",
      "MI Order after Hearing on Petition to Accept Release and Terminate Rights to Surrendered Newborn Child\n",
      "MI Order Determining Custody of Surrendered Newborn Child\n",
      "MI Order Determining Maternity/Paternity of Surrendered Newborn Child\n",
      "MI Order for Blood or Tissue Typing or DNA Profile (Safe Delivery of Newborn Act)\n",
      "MI Order Placing Surrendered Newborn with Prospective   Adoptive Parents\n",
      "MI Petition for Placement Order of Surrendered Newborn Child\n"
     ]
    },
    {
     "name": "stderr",
     "output_type": "stream",
     "text": [
      "/Users/davidcolarusso/opt/anaconda3/lib/python3.8/site-packages/sklearn/cluster/_affinity_propagation.py:246: ConvergenceWarning: Affinity propagation did not converge, this model will not have any cluster centers.\n",
      "  warnings.warn(\"Affinity propagation did not converge, this model \"\n",
      "/Users/davidcolarusso/opt/anaconda3/lib/python3.8/site-packages/sklearn/cluster/_affinity_propagation.py:460: ConvergenceWarning: This model does not have any cluster centers because affinity propagation did not converge. Labeling every sample as '-1'.\n",
      "  warnings.warn(\"This model does not have any cluster centers \"\n"
     ]
    },
    {
     "name": "stdout",
     "output_type": "stream",
     "text": [
      "MI Petition of Parent for Custody of Surrendered Newborn Child\n",
      "MI Petition to Accept Release and Terminate Rights   to Surrendered Newborn Child\n",
      "MI Case Evaluation Notice\n",
      "MI Case Evaluator Application\n"
     ]
    },
    {
     "name": "stderr",
     "output_type": "stream",
     "text": [
      "/Users/davidcolarusso/opt/anaconda3/lib/python3.8/site-packages/sklearn/cluster/_affinity_propagation.py:246: ConvergenceWarning: Affinity propagation did not converge, this model will not have any cluster centers.\n",
      "  warnings.warn(\"Affinity propagation did not converge, this model \"\n",
      "/Users/davidcolarusso/opt/anaconda3/lib/python3.8/site-packages/sklearn/cluster/_affinity_propagation.py:460: ConvergenceWarning: This model does not have any cluster centers because affinity propagation did not converge. Labeling every sample as '-1'.\n",
      "  warnings.warn(\"This model does not have any cluster centers \"\n"
     ]
    },
    {
     "name": "stdout",
     "output_type": "stream",
     "text": [
      "MI Notice of Acceptance/Rejection of Case Evaluation Award\n",
      "MI Notice of Case Evaluation and Acceptance or Rejection of Award\n",
      "MI Order for Case Evaluation\n",
      "MI Affidavit and Claim, Small Claims\n",
      "MI Collecting Your Money from a Small Claims Judgment\n",
      "\n",
      "MI Demand and Order for Removal, Small Claims\n",
      "MI Judgment/Dismissal, Small Claims\n",
      "MI 14-Day Notice, Civil Infraction\n",
      "MI 14-Day Notice, Civil Infraction\n",
      "\n",
      "MI Claim of Appeal of Right/Request to Withdraw Admission and Order, Civil Infraction\n"
     ]
    },
    {
     "name": "stderr",
     "output_type": "stream",
     "text": [
      "/Users/davidcolarusso/opt/anaconda3/lib/python3.8/site-packages/sklearn/cluster/_affinity_propagation.py:246: ConvergenceWarning: Affinity propagation did not converge, this model will not have any cluster centers.\n",
      "  warnings.warn(\"Affinity propagation did not converge, this model \"\n",
      "/Users/davidcolarusso/opt/anaconda3/lib/python3.8/site-packages/sklearn/cluster/_affinity_propagation.py:460: ConvergenceWarning: This model does not have any cluster centers because affinity propagation did not converge. Labeling every sample as '-1'.\n",
      "  warnings.warn(\"This model does not have any cluster centers \"\n"
     ]
    },
    {
     "name": "stdout",
     "output_type": "stream",
     "text": [
      "MI Default Judgment, Civil Infraction\n",
      "\n",
      "MI Judgment, Civil Infraction\n",
      "MI Motion to Set Aside Default Judgment and Order, Civil Infraction\n",
      "MI Notice to Appear, Civil Infraction\n",
      "\n",
      "ME Affidavit &amp; Request for Default and Default Judgment\n",
      "ME Petition &amp; Order for Military Certification\n",
      "ME Application to Proceed Without Payment of Fees\n",
      "ME Motion for Service by Alternate Means and Affidavit\n",
      "ME How to File a Civil Appeal\n",
      "\n",
      "ME Instruction for Filing a Residential Forcible Entry &amp; Detainer (Eviction) Case\n",
      "\n",
      "ME Report of ADR Conference and Order\n",
      "ME Newspaper Cover Letter (Service by Publication)\n",
      "ME Verification (of Publication)\n",
      "ME Request for Renewal Writ of Execution\n",
      "ME Complaint for Recovery of Personal Property (Summary Process)\n",
      "ME Notice of Appeal for Recovery of Personal Property\n",
      "ME Request for Issuance of Writ of Possession for Personal Property\n",
      "ME Financial Affidavit\n",
      "ME Request for Issuance of Writ of Possession\n",
      "ME Affidavit of Service, FED\n",
      "ME Notice of Appeal and Affidavit, FED\n",
      "ME Consent for Expedited Final Hearing (Foreclosure)\n",
      "ME Request to Schedule Expedited Final Hearing (Foreclosure)\n",
      "ME Instructions for Filing a Summary Personal Property Recovery Case (To be used in place of CV-182 while COVID procedures, PMOs, and the PMP is in place\n",
      "\n",
      "ME Application for Transfer to Business and Consumer Docket\n",
      "ME Judicial Recommendation to Transfer to BCD (This is used by Judges only. This form is made available for public information only.)\n",
      "ME Residential Forcible Entry and Detainer (Eviction) Information Sheet and Mediation Request\n",
      "\n",
      "ME Notice of Appeal\n",
      "ME Request for Protection\n",
      "ME Transcript and Audio Order Form\n",
      "ME Acknowledgment of Receipt of Summons and Complaint or Post-Judgment Motion\n",
      "ME Notice of Hearing (Contact the Court to obtain the Court location, hearing date, and time which are required on this form to be served with FM-214.)\n",
      "ME Order for Service by Alternate Means\n",
      "ME Instructions for Service by Alternate Means\n",
      "\n",
      "ME Affidavit that Service was Completed by Alternate Means\n",
      "ME Request for Hearing (Registered Order)\n",
      "ME Motion for Alternative Format for Court Proceeding\n",
      "ME Guardian Ad Litem's Motion for Pre-Approval to Exceed the Voucher Cap\n",
      "ME Guardian Ad Litem (GAL) Voucher\n",
      "ME Guardian Ad Litem's Motion for Pre-Approval of Out of State and Overnight Travel\n",
      "ME Affidavit and Request for Registration of Foreign Order\n",
      "ME Order Appointing Guardian Ad Litem Under M.R. Civ. P. 17(b)\n",
      "ME Amended Order Appointing Guardian Ad Litem (GAL)\n",
      "ME Plaintiff's Foreclosure Mediation Information\n",
      "ME Motion to Waive Mediation in Foreclosure Action\n",
      "ME Motion to Continue Mediation in Foreclosure Action\n",
      "ME Request to Include in Foreclosure Mediation\n",
      "ME Request to Extend Time for Foreclosure Mediation\n",
      "\n",
      "ME Joint Motion to Stay Foreclosure Action Following Mediation\n",
      "ME Family and Probate Matter Summary Sheet\n",
      "ME Complaint for Divorce\n"
     ]
    },
    {
     "name": "stderr",
     "output_type": "stream",
     "text": [
      "/Users/davidcolarusso/opt/anaconda3/lib/python3.8/site-packages/sklearn/cluster/_affinity_propagation.py:246: ConvergenceWarning: Affinity propagation did not converge, this model will not have any cluster centers.\n",
      "  warnings.warn(\"Affinity propagation did not converge, this model \"\n",
      "/Users/davidcolarusso/opt/anaconda3/lib/python3.8/site-packages/sklearn/cluster/_affinity_propagation.py:460: ConvergenceWarning: This model does not have any cluster centers because affinity propagation did not converge. Labeling every sample as '-1'.\n",
      "  warnings.warn(\"This model does not have any cluster centers \"\n"
     ]
    },
    {
     "name": "stdout",
     "output_type": "stream",
     "text": [
      "ME Complaint for Parental Rights &amp; Responsibilities\n",
      "ME Petition for Expedited Enforcement Of Child Custody Determination\n",
      "ME Entry of Appearance (Defendant)\n",
      "ME Child Support Worksheet\n",
      "ME Supplemental Child Support Worksheet\n"
     ]
    },
    {
     "name": "stderr",
     "output_type": "stream",
     "text": [
      "/Users/davidcolarusso/opt/anaconda3/lib/python3.8/site-packages/sklearn/cluster/_affinity_propagation.py:246: ConvergenceWarning: Affinity propagation did not converge, this model will not have any cluster centers.\n",
      "  warnings.warn(\"Affinity propagation did not converge, this model \"\n",
      "/Users/davidcolarusso/opt/anaconda3/lib/python3.8/site-packages/sklearn/cluster/_affinity_propagation.py:460: ConvergenceWarning: This model does not have any cluster centers because affinity propagation did not converge. Labeling every sample as '-1'.\n",
      "  warnings.warn(\"This model does not have any cluster centers \"\n"
     ]
    },
    {
     "name": "stdout",
     "output_type": "stream",
     "text": [
      "ME Certificate in Lieu of Financial Statement\n"
     ]
    },
    {
     "name": "stderr",
     "output_type": "stream",
     "text": [
      "/Users/davidcolarusso/opt/anaconda3/lib/python3.8/site-packages/sklearn/cluster/_affinity_propagation.py:246: ConvergenceWarning: Affinity propagation did not converge, this model will not have any cluster centers.\n",
      "  warnings.warn(\"Affinity propagation did not converge, this model \"\n",
      "/Users/davidcolarusso/opt/anaconda3/lib/python3.8/site-packages/sklearn/cluster/_affinity_propagation.py:460: ConvergenceWarning: This model does not have any cluster centers because affinity propagation did not converge. Labeling every sample as '-1'.\n",
      "  warnings.warn(\"This model does not have any cluster centers \"\n"
     ]
    },
    {
     "name": "stdout",
     "output_type": "stream",
     "text": [
      "ME Financial Statement\n",
      "ME Child Support Affidavit\n",
      "\n",
      "ME Federal Affidavit\n",
      "ME Certificate in Lieu of Case Management Conference\n",
      "ME Verification of Diligent Job Search\n",
      "ME Certificate Regarding Real Estate\n",
      "ME Affidavit of Confidential Address\n",
      "ME Motion to Modify\n",
      "ME Petition for Emancipation\n",
      "ME Request for Appointment of Counsel for Emancipation\n",
      "ME Motion for Contempt\n",
      "ME Motion to Enforce\n",
      "ME Objection to Magistrate Final Order\n",
      "ME Deferral of Case Management Conference\n",
      "ME Divorce with Children - What To Do With These Forms\n",
      "\n",
      "ME Divorce without Children - What To Do with These Forms\n",
      "\n",
      "ME Parental Rights and Responsibilities Case: What To Do With These Court Forms\n",
      "\n",
      "ME Child Support Table\n",
      "\n",
      "ME Important Information Regarding Case Management Conference\n",
      "\n",
      "ME Motion to Modify: What To Do With These Court Forms\n",
      "\n",
      "ME Motion to Enforce: What To Do With These Court Forms\n",
      "\n",
      "ME Motion for Contempt: What To Do With These Court Forms\n",
      "\n",
      "ME Foreign Judgments: What To Do With These Court Forms\n",
      "\n",
      "ME Important Notice About Mediation\n",
      "\n",
      "ME Child Support Order\n",
      "ME Conditional Income Withholding Order for Spousal Support\n",
      "ME Scheduling Order (Contempt)\n",
      "ME Waiver of Appeal\n",
      "ME Abstract of Divorce Decree\n",
      "ME Verified Application for Issuance of Warrant\n",
      "ME Motion Requesting Release of Address\n",
      "ME Answer &amp; Counterclaim for Divorce\n",
      "ME Answer &amp; Counterclaim for Determination of Parentage, Parental Rights &amp; Responsibilities, and Child Support\n",
      "ME Expedited Motion to Enforce Visitation for Military Members (see CV-FM-103)\n",
      "ME Joint Petition for Pre-Birth Determination Involving Gestational Carrier Agreement\n",
      "ME Motion for Expedited Hearing\n",
      "ME Compliance Report of the Guardian Ad Litem\n",
      "ME Complaint for Annulment\n",
      "ME Answer &amp; Counterclaim for Annulment\n",
      "ME Petition for Grandparent Visitation or Great-Grandparent Visitation\n",
      "ME Response to Petition for Grandparent or GreatGrandparent Visitation\n",
      "ME Complaint for Judicial Separation\n",
      "ME Answer and CounterClaim for Judicial Separation and/or Divorce\n",
      "ME Petition for Termination of Parental Rights\n",
      "ME Complaint for Determinaton of Defacto Parentage\n",
      "ME Defendant's Answer to Plaintiff's Complaint for Determination of De Facto Parentage\n",
      "ME Petition for Pre-Birth Determination of Parentage Involving a Donor\n",
      "ME Witness and Exhibit List\n",
      "ME Consent to Final Contested Hearing Before a Family Law Magistrate\n",
      "ME Motion to Appear by Telephone or Video\n",
      "ME Request for Abstract of Divorce Decree\n",
      "ME Best Practices for Submitting an Abstract of Divorce Decree (FM-171) for Clerk Certification\n",
      "\n",
      "ME Affidavit\n",
      "ME Order Appointing Guardian ad Litem Under Title 18-C or 19-A\n",
      "ME Family Matters and Child Protection Financial Affidavit (formerly PC-003)\n",
      "ME Petition to Appoint Guardian of Minor\n",
      "ME Order of Appointment of Guardian of Minor and Findings of Fact and Conclusions of Law\n",
      "ME Motion of Guardian of Minor on an Emergency Basis\n",
      "ME Order Appointing Guardian of Minor on an Emergency Basis\n",
      "ME Affidavit of Notice\n",
      "ME Parent's Consent to Appointment of Guardian of Minor (Interim/Final)\n",
      "ME Acceptance of Appointment by Guardian of Minor\n",
      "ME Petition for Modification/Termination/Removal/Resignation of Guardian\n",
      "ME Order of Modification/Termination/Removal/Resignation of Guardian\n",
      "ME Order Appointing Counsel for Parent of Minor/Legal Guardian of Minor/Petitioner for Guardianship/Minor\n",
      "ME Minor's Consent/Objection/Nomination of Guardian\n",
      "ME Status Report of the Guardian of Minor\n",
      "ME Child Support Affidavit\n",
      "ME Child Support Worksheet\n",
      "ME Guardianship Child Support Order\n",
      "ME Petition to Dissolve Weapons Restriction Order\n",
      "ME Answer to \"Order to Hold and Answer\"\n",
      "ME Answer to Employer to Withhold and Deliver\n",
      "ME Motion/Affidavit for Order to Withhold and Deliver\n",
      "ME Request for Restitution Order to be Made a Money Judgment\n",
      "ME Motion, Affidavit, and Order to DOL to Provide Employment Information\n",
      "ME Affidavit and Agreement (to pay)\n",
      "ME Motion for Contempt\n",
      "ME Affidavit and Agreement (Business Entities)\n",
      "ME Motion to Amend VSAC\n",
      "ME Motion to Continue\n",
      "ME Request for Extension of Time to Pay Violations Bureau Fine\n",
      "ME Motion to Reopen (with instructions)\n",
      "ME Notice of Appeal of Traffic Infraction\n",
      "ME Information about Traffic Violation Trials\n",
      "\n",
      "ME Information about Traffic Violation Appeals\n",
      "\n",
      "ME Petition for Change of Name (Minor)\n",
      "ME Waiver Agreement of Name Change\n",
      "ME DEEP Brochure\n",
      "\n",
      "ME Complaint for Protection from Abuse\n",
      "ME Protection Order Service Information\n",
      "ME Complaint for Protection from Harassment\n",
      "ME Defendant's Motion to Dissolve/Modify/Amend Temporary Order for Protection\n",
      "ME Plaintiff Pre-Judgment Motion to Dismiss Complaint\n",
      "ME Plaintiff's Motion to Extend Order for Protection\n",
      "ME Affidavit of Confidential Address\n",
      "ME Plaintiff's Post-Judgment Motion to Modify/Terminate Protection Order\n",
      "ME Information Regarding Protection From Abuse Filings by Email and Filing Certification\n",
      "ME Protection From Abuse or Protection From Harassment: What Kind of Case Should I File?\n",
      "\n",
      "ME Cover Sheet for Email Filing in Protection from Abuse or Protection from Harassment Case (PMO-SJC-3A)\n",
      "ME Jurisdictional Affidavit\n",
      "ME SSN Disclosure Form (AD,GS,NC)\n",
      "ME Order Appointing Guardian Ad Litem (GAL) for Minor(s)\n",
      "ME Guardianship Case File Checklist\n",
      "ME Private Party Adoption Case File Checklist\n",
      "ME Name Change Case File Checklist\n",
      "ME Instructions for Submission of VS-9 or VS-14 Form to Vital Statistics\n",
      "\n",
      "ME Compliance Report of the Guardian Ad Litem\n",
      "ME Statement of Claim\n",
      "ME Request for Disclosure Hearing\n",
      "ME Acknowledgment of Service (Formerly Notice of Service)\n",
      "ME Affidavit and Request for Service\n",
      "ME Notice of Small Claims Appeal\n",
      "ME Important Facts If You Are Being Sued in Small Claims Court\n",
      "\n",
      "ME Instructions About Service for Small Claims Actions\n",
      "\n",
      "ME Petition for Adoption and Name Change\n",
      "ME Consent of Other than Parent\n",
      "ME Consent of Person (12 Years Old or More) to be Adopted\n",
      "ME Consent of Parent to Adoption\n",
      "ME Consent of Parent to Adoption (Outside Maine)\n",
      "ME Confidential Statement to Accompany Petition for Adoption\n",
      "ME Report of Disbursements\n",
      "ME Certificate of Counseling\n",
      "ME Petition to Terminate Parental Rights in an Adoption Matter\n",
      "ME Surrender and Release of Child for Adoption\n",
      "ME Waiver of Notice by Putative Parent\n",
      "ME Petition for Annulment of Adoption Decree\n",
      "ME Petition for Information or to Examine Records\n",
      "ME Foreclosure Answer and Request for Mediation provided by Maine Bureau of Consumer Credit Protection (BCCP)\n",
      "ME Defendant's Answer to Complaint (Credit Card or Student Loan Collection Actions) by Maine Bureau of Consumer Credit Protection (BCCP)\n",
      "ME Motion to Amend Bail\n",
      "\n",
      "ME Victim Confidential Address\n",
      "ME Request to Transfer for Plea and Sentence\n",
      "ME Agreement of Defendant and Order Deferring Disposition\n",
      "ME Notice of Fine and Plea/Answer\n",
      "ME Request for Fine Payment Modification or Extension of Time to Pay Fine\n",
      "ME Statement of Prosecuting Attorney Regarding Domestic Violence Intervention\n",
      "ME Treatment Court Referral Form\n",
      "ME Entry/Bail Contract and Order Admitting Defendant into Maine Treatment Court\n",
      "ME Authorization to Release Information within Maine Treatment Court Teams\n",
      "ME Maine Treatment Court: Court Observation Confidentiality Form\n",
      "ME Maine Treatment Court: Plea Agreement and Waiver of Rights\n",
      "ME Maine Treatment Court: Request to Travel Outside County of Residence\n",
      "ME Maine Treatment Court: Participant Testing Policy\n",
      "\n",
      "ME Maine Treatment Court: Petition to Advance to Phase 2\n",
      "ME Maine Treatment Court: Petition to Advance to Phase 3\n",
      "ME Maine Treatment Court: Petition to Advance to Phase 4\n",
      "ME Maine Treatment Court: Petition to Advance to Phase 5\n",
      "ME Maine Treatment Court: Petition for Commencement\n",
      "ME Maine Treatment Court: Prohibited Substances Agreement\n",
      "\n",
      "ME Maine Treatment Court: Participant Handbook\n",
      "\n",
      "ME Maine Treatment Court: Plea Agreement and Waiver of Rights (Probation)\n",
      "\n",
      "ME Maine Treatment Court Physician and Pharmacy Conditions\n",
      "\n",
      "ME Request for Inclusion on Juror Source List\n",
      "ME Notice of Change of Address\n",
      "ME Notice Regarding Electronic Service\n",
      "ME Entry of Appearance\n",
      "ME Motion for Transcript at State Expense\n",
      "ME Social Security Confidential Disclosure Form\n",
      "ME Motion for Assignment of Counsel, Affidavit and Release\n",
      "ME Notification That Observation is No Longer Necessary and Order Terminating Commitment\n",
      "ME Civil Summary Sheet\n",
      "ME Complaint for Residential Forcible Entry and Detainer\n"
     ]
    },
    {
     "name": "stdout",
     "output_type": "stream",
     "text": [
      "ME Subpoena on Motion for Contempt (*Self-represented parties must obtain this form from a clerk's office for a $5.00 fee)\n",
      "ME Request for Withdrawal (Minor's Settlement)\n",
      "CA How to Adopt a Child in California\n",
      "CA Adoption Request\n",
      "CA Declaration Confirming Parentage in Stepparent Adoption\n",
      "CA Declaration Confirming Parentage in Stepparent Adoption: Gestational Surrogacy\n",
      "CA Adoption Agreement\n",
      "CA Adoption Order\n",
      "CA Verification of Compliance with Hague Adoption Convention Attachment\n",
      "CA Adoption of Indian Child\n",
      "\n",
      "CA Parent Of Indian Child Agrees To End Parental Rights\n",
      "CA Adoption Expenses\n",
      "CA Contact After Adoption Agreement\n"
     ]
    },
    {
     "name": "stderr",
     "output_type": "stream",
     "text": [
      "/Users/davidcolarusso/opt/anaconda3/lib/python3.8/site-packages/sklearn/cluster/_affinity_propagation.py:246: ConvergenceWarning: Affinity propagation did not converge, this model will not have any cluster centers.\n",
      "  warnings.warn(\"Affinity propagation did not converge, this model \"\n",
      "/Users/davidcolarusso/opt/anaconda3/lib/python3.8/site-packages/sklearn/cluster/_affinity_propagation.py:460: ConvergenceWarning: This model does not have any cluster centers because affinity propagation did not converge. Labeling every sample as '-1'.\n",
      "  warnings.warn(\"This model does not have any cluster centers \"\n"
     ]
    },
    {
     "name": "stdout",
     "output_type": "stream",
     "text": [
      "CA Request to: Enforce, Change, End Contact After Adoption Agreement\n"
     ]
    },
    {
     "name": "stderr",
     "output_type": "stream",
     "text": [
      "/Users/davidcolarusso/opt/anaconda3/lib/python3.8/site-packages/sklearn/cluster/_affinity_propagation.py:246: ConvergenceWarning: Affinity propagation did not converge, this model will not have any cluster centers.\n",
      "  warnings.warn(\"Affinity propagation did not converge, this model \"\n",
      "/Users/davidcolarusso/opt/anaconda3/lib/python3.8/site-packages/sklearn/cluster/_affinity_propagation.py:460: ConvergenceWarning: This model does not have any cluster centers because affinity propagation did not converge. Labeling every sample as '-1'.\n",
      "  warnings.warn(\"This model does not have any cluster centers \"\n"
     ]
    },
    {
     "name": "stdout",
     "output_type": "stream",
     "text": [
      "CA Answer to Request to: Enforce, Change, End Contact After Adoption Agreement\n"
     ]
    },
    {
     "name": "stderr",
     "output_type": "stream",
     "text": [
      "/Users/davidcolarusso/opt/anaconda3/lib/python3.8/site-packages/sklearn/cluster/_affinity_propagation.py:246: ConvergenceWarning: Affinity propagation did not converge, this model will not have any cluster centers.\n",
      "  warnings.warn(\"Affinity propagation did not converge, this model \"\n",
      "/Users/davidcolarusso/opt/anaconda3/lib/python3.8/site-packages/sklearn/cluster/_affinity_propagation.py:460: ConvergenceWarning: This model does not have any cluster centers because affinity propagation did not converge. Labeling every sample as '-1'.\n",
      "  warnings.warn(\"This model does not have any cluster centers \"\n"
     ]
    },
    {
     "name": "stdout",
     "output_type": "stream",
     "text": [
      "CA Judge's Order to: Enforce, Change, End Contact After Adoption Agreement\n"
     ]
    },
    {
     "name": "stderr",
     "output_type": "stream",
     "text": [
      "/Users/davidcolarusso/opt/anaconda3/lib/python3.8/site-packages/sklearn/cluster/_affinity_propagation.py:246: ConvergenceWarning: Affinity propagation did not converge, this model will not have any cluster centers.\n",
      "  warnings.warn(\"Affinity propagation did not converge, this model \"\n",
      "/Users/davidcolarusso/opt/anaconda3/lib/python3.8/site-packages/sklearn/cluster/_affinity_propagation.py:460: ConvergenceWarning: This model does not have any cluster centers because affinity propagation did not converge. Labeling every sample as '-1'.\n",
      "  warnings.warn(\"This model does not have any cluster centers \"\n"
     ]
    },
    {
     "name": "stdout",
     "output_type": "stream",
     "text": [
      "CA Request for Appointment of Confidential Intermediary\n",
      "CA Order for Appointment of Confidential Intermediary\n",
      "CA Statement of Agreement or Nonagreement\n",
      "CA ADR Information Form\n"
     ]
    },
    {
     "name": "stderr",
     "output_type": "stream",
     "text": [
      "/Users/davidcolarusso/opt/anaconda3/lib/python3.8/site-packages/sklearn/cluster/_affinity_propagation.py:246: ConvergenceWarning: Affinity propagation did not converge, this model will not have any cluster centers.\n",
      "  warnings.warn(\"Affinity propagation did not converge, this model \"\n",
      "/Users/davidcolarusso/opt/anaconda3/lib/python3.8/site-packages/sklearn/cluster/_affinity_propagation.py:460: ConvergenceWarning: This model does not have any cluster centers because affinity propagation did not converge. Labeling every sample as '-1'.\n",
      "  warnings.warn(\"This model does not have any cluster centers \"\n"
     ]
    },
    {
     "name": "stdout",
     "output_type": "stream",
     "text": [
      "CA Request for Trial De Novo After Judicial Arbitration\n",
      "CA Petition to Confirm, Correct, or Vacate Attorney-Client Fee Arbitration Award\n",
      "CA Rejection of Award and Request for Trial After Attorney-Client Fee Arbitration\n",
      "\n",
      "CA Information Regarding Rights After Attorney-Client Fee Arbitration\n",
      "CA Petition to Confirm, Correct, or Vacate Contractual Arbitration Award\n",
      "\n",
      "CA Attendance Sheet for Court-Program Mediation of Civil Case\n",
      "CA Stipulation or Motion for Order Appointing Referee\n",
      "CA Order Appointing Referee\n",
      "CA Report of Referee\n",
      "CA Mediation Disclosure Notification and Acknowledgement\n",
      "CA Information on Appeal Procedures for Unlimited Civil Cases\n",
      "\n",
      "CA Notice of Appeal/Cross-Appeal (Unlimited Civil Case)\n",
      "CA Appellant's Notice Designating Record on Appeal (Unlimited Civil Case)\n",
      "CA Civil Case Information Statement (Appellate)\n",
      "CA Abandonment of Appeal (Unlimited Civil Case)\n",
      "CA Application for Extension of Time to File Brief (Civil Case)\n",
      "CA Request for Dismissal of Appeal (Civil Case)\n",
      "CA Certificate of Interested Entities or Persons\n",
      "CA Proof of Service (Court of Appeal)\n",
      "CA Proof of Electronic Service\n",
      "CA Information Sheet For Proof of Service (Court of Appeal)\n",
      "CA Respondent's Notice Designating Record on Appeal (Unlimited Civil Case)\n",
      "CA Respondent's Notice Electing to Use an Appendix (Unlimited Civil Case)\n",
      "CA Stipulation of Extension of Time to File Brief (Civil Case)\n",
      "CA Memorandum of Costs on Appeal\n",
      "CA Appellant's Proposed Settled Statement (Unlimited Civil Case)\n",
      "CA Other Party and Nonparty Witness Testimony and other Evidence Attachment (Unlimited Civil Case)\n",
      "CA Information Sheet for Proposed Settled Statement\n",
      "CA Information Sheet on Waiver of Appellate Court Fees (Supreme Court, Court of Appeal, Appellate Division)\n",
      "CA Order on Court Fee Waiver (Court of Appeal or Supreme Court)\n",
      "CA Order on Court Fee Waiver (Court of Appeal or Supreme Court) (Ward or Conservatee)\n",
      "CA Response to Appellant's Proposed Settled Statement (Unlimited Civil Case)\n",
      "CA Order on Appellant's Proposed Settled Statement (Unlimited Civil Case)\n",
      "CA Appellant Motion to Use a Settled Statement (Unlimited Civil Case)\n",
      "CA Attached Declaration (Court of Appeal)\n",
      "CA Notice of Appeal - Civil Commitment/Mental Health Proceedings\n",
      "CA Information on Appeal Procedures for Limited Civil Cases\n",
      "\n",
      "CA Notice of Appeal/Cross-Appeal (Limited Civil Case)\n"
     ]
    },
    {
     "name": "stderr",
     "output_type": "stream",
     "text": [
      "/Users/davidcolarusso/opt/anaconda3/lib/python3.8/site-packages/sklearn/cluster/_affinity_propagation.py:246: ConvergenceWarning: Affinity propagation did not converge, this model will not have any cluster centers.\n",
      "  warnings.warn(\"Affinity propagation did not converge, this model \"\n",
      "/Users/davidcolarusso/opt/anaconda3/lib/python3.8/site-packages/sklearn/cluster/_affinity_propagation.py:460: ConvergenceWarning: This model does not have any cluster centers because affinity propagation did not converge. Labeling every sample as '-1'.\n",
      "  warnings.warn(\"This model does not have any cluster centers \"\n"
     ]
    },
    {
     "name": "stdout",
     "output_type": "stream",
     "text": [
      "CA Appellant's Notice Designating Record on Appeal (Limited Civil Case)\n",
      "CA Proposed Statement on Appeal (Limited Civil Case)\n",
      "CA Order Concerning Appellant's Proposed Statement on Appeal (Limited Civil Case)\n",
      "CA Application for Extension of Time to File Brief (Limited Civil Case)\n",
      "CA Abandonment of Appeal (Limited Civil Case)\n",
      "CA Notice of Waiver of Oral Argument (Limited Civil Case)\n",
      "CA Proof of Service (Appellate Division)\n",
      "CA Proof of Electronic Service (Appellate Division)\n",
      "CA What Is Proof of Service?\n",
      "\n",
      "CA Respondent's Notice Designating Record on Appeal (Limited Civil Case)\n"
     ]
    },
    {
     "name": "stderr",
     "output_type": "stream",
     "text": [
      "/Users/davidcolarusso/opt/anaconda3/lib/python3.8/site-packages/sklearn/cluster/_affinity_propagation.py:246: ConvergenceWarning: Affinity propagation did not converge, this model will not have any cluster centers.\n",
      "  warnings.warn(\"Affinity propagation did not converge, this model \"\n",
      "/Users/davidcolarusso/opt/anaconda3/lib/python3.8/site-packages/sklearn/cluster/_affinity_propagation.py:460: ConvergenceWarning: This model does not have any cluster centers because affinity propagation did not converge. Labeling every sample as '-1'.\n",
      "  warnings.warn(\"This model does not have any cluster centers \"\n"
     ]
    },
    {
     "name": "stdout",
     "output_type": "stream",
     "text": [
      "CA Respondent's Notice Electing to Use an Appendix (Limited Civil Case)\n",
      "CA Information on Writ Proceedings in Misdemeanor, Infraction, and Limited Civil Cases\n",
      "\n",
      "CA Petition for Writ (Misdemeanor, Infraction, or Limited Civil Case)\n"
     ]
    },
    {
     "name": "stderr",
     "output_type": "stream",
     "text": [
      "/Users/davidcolarusso/opt/anaconda3/lib/python3.8/site-packages/sklearn/cluster/_affinity_propagation.py:246: ConvergenceWarning: Affinity propagation did not converge, this model will not have any cluster centers.\n",
      "  warnings.warn(\"Affinity propagation did not converge, this model \"\n",
      "/Users/davidcolarusso/opt/anaconda3/lib/python3.8/site-packages/sklearn/cluster/_affinity_propagation.py:460: ConvergenceWarning: This model does not have any cluster centers because affinity propagation did not converge. Labeling every sample as '-1'.\n",
      "  warnings.warn(\"This model does not have any cluster centers \"\n"
     ]
    },
    {
     "name": "stdout",
     "output_type": "stream",
     "text": [
      "CA Application for Right to Attach Order, Temporary Protective Order, etc.\n",
      "CA Notice of Application and Hearing for Right to Attach Order and Writ of Attachment\n",
      "CA Right to Attach Order After Hearing and Order for Issuance of Writ of Attachment\n",
      "CA Ex Parte Right to Attach Order and Order for Issuance of Writ of Attachment (Resident)\n",
      "CA Ex Parte Right to Attach Order and Order for Issuance of Writ of Attachment (Nonresident)\n",
      "CA Writ of Attachment\n",
      "CA Application and Order for Appearance and Examination\n"
     ]
    },
    {
     "name": "stderr",
     "output_type": "stream",
     "text": [
      "/Users/davidcolarusso/opt/anaconda3/lib/python3.8/site-packages/sklearn/cluster/_affinity_propagation.py:246: ConvergenceWarning: Affinity propagation did not converge, this model will not have any cluster centers.\n",
      "  warnings.warn(\"Affinity propagation did not converge, this model \"\n",
      "/Users/davidcolarusso/opt/anaconda3/lib/python3.8/site-packages/sklearn/cluster/_affinity_propagation.py:460: ConvergenceWarning: This model does not have any cluster centers because affinity propagation did not converge. Labeling every sample as '-1'.\n",
      "  warnings.warn(\"This model does not have any cluster centers \"\n"
     ]
    },
    {
     "name": "stdout",
     "output_type": "stream",
     "text": [
      "CA Temporary Protective Order\n",
      "CA Application and Notice of Hearing for Order to Terminate, Modify, or Vacate Temporary Protective Order\n",
      "\n",
      "CA Order to Terminate, Modify, or Vacate Temporary Protective Order\n",
      "CA Notice of Opposition to Right to Attach Order and Claim of Exemption\n",
      "\n",
      "CA Undertaking By Personal Sureties\n",
      "CA Notice of Attachment\n",
      "CA Memorandum Of Garnishee\n",
      "CA Application to Set Aside Right to Attach Order and Release Attached Property, Etc.\n",
      "CA Order to Set Aside Attachment, to Substitute Undertaking, Etc.\n",
      "CA Notice of Lien\n",
      "CA Petition to Establish Fact, Time, and Place of Birth\n",
      "CA Declaration in Support of Petition to Establish Fact, Time, and Place of Birth\n",
      "CA Petition to Establish Fact, Time, and Place of Marriage\n",
      "CA Declaration in Support of Petition to Establish Fact, Time, and Place of Marriage\n",
      "CA Petition to Establish Fact, Date, and Place of Death\n",
      "CA Declaration in Support of Petition to Establish Fact, Date, and Place of Death\n",
      "CA Application For Writ of Possession\n",
      "CA Notice of Application for Writ of Possession and Hearing\n",
      "CA Order for Writ of Possession\n",
      "CA Writ of Possession\n",
      "CA Undertaking By Personal Sureties\n",
      "CA Application and Notice of Application and Hearing for Order to Quash Ex Parte Writ of Possession\n",
      "CA Order for Release and Redelivery of Property\n",
      "CA Declaration for Ex Parte Writ of Possession\n",
      "CA Application for Temporary Restraining Order\n",
      "CA Temporary Restraining Order\n",
      "CA Request For Civil Harassment Restraining Orders\n",
      "CA Can a Civil Harassment Restraining Order Help Me?\n",
      "CA Notice of Court Hearing\n",
      "CA Temporary Restraining Order (CLETS-TCH)\n",
      "CA Request to Continue Court Hearing (Temporary Restraining Order) (Civil Harassment Prevention)\n",
      "CA How to Ask for a New Hearing Date (Civil Harassment Prevention)\n",
      "CA Order on Request to Continue Hearing (Temporary Restraining Order) (CLETS-TCH) (Civil Harassment Prevention)\n",
      "CA Response to Request for Civil Harassment Restraining Orders\n",
      "CA How Can I Respond to a Request for Civil Harassment Restraining Orders?\n",
      "CA Civil Harassment Restraining Order After Hearing (CLETS-CHO)\n",
      "CA Request to Keep Minor's Information Confidential\n",
      "CA Privacy Protection for a Minor (Person Under 18 Years Old)\n",
      "CA Order on Request to Keep Minor's Information Confidential\n",
      "CA Notice of Order Protecting Information of Minor\n",
      "CA Cover Sheet for Confidential Information\n",
      "CA Request for Release of Minor's Confidential Information\n",
      "CA Notice of Request for Release of Minor's Confidential Information\n",
      "CA Response to Request for Release of Minor's Confidential Information\n",
      "CA Order on Request for Release of Minor's Confidential Information\n"
     ]
    },
    {
     "name": "stderr",
     "output_type": "stream",
     "text": [
      "/Users/davidcolarusso/opt/anaconda3/lib/python3.8/site-packages/sklearn/cluster/_affinity_propagation.py:246: ConvergenceWarning: Affinity propagation did not converge, this model will not have any cluster centers.\n",
      "  warnings.warn(\"Affinity propagation did not converge, this model \"\n",
      "/Users/davidcolarusso/opt/anaconda3/lib/python3.8/site-packages/sklearn/cluster/_affinity_propagation.py:460: ConvergenceWarning: This model does not have any cluster centers because affinity propagation did not converge. Labeling every sample as '-1'.\n",
      "  warnings.warn(\"This model does not have any cluster centers \"\n"
     ]
    },
    {
     "name": "stdout",
     "output_type": "stream",
     "text": [
      "CA Proof of Personal Service\n",
      "CA What Is Proof of Personal Service?\n"
     ]
    },
    {
     "name": "stderr",
     "output_type": "stream",
     "text": [
      "/Users/davidcolarusso/opt/anaconda3/lib/python3.8/site-packages/sklearn/cluster/_affinity_propagation.py:136: UserWarning: All samples have mutually equal similarities. Returning arbitrary cluster center(s).\n",
      "  warnings.warn(\"All samples have mutually equal similarities. \"\n"
     ]
    },
    {
     "name": "stdout",
     "output_type": "stream",
     "text": [
      "CA Proof of Service of Response by Mail\n",
      "CA Proof of Service of Order After Hearing by Mail\n",
      "CA Request to Modify/Terminate Civil Harassment Restraining Order\n",
      "CA Notice of Hearing on Request to Modify/Terminate Civil Harassment Restraining Order\n",
      "CA Response to Request to Modify/Terminate Civil Harassment Restraining Order\n",
      "CA Order on Request to Modify/Terminate Civil Harassment Restraining Order\n",
      "CA Request to Renew Restraining Order\n",
      "CA Notice of Hearing to Renew Restraining Order\n",
      "CA Response to Request to Renew Restraining Order\n",
      "CA Order Renewing Civil Harassment Restraining Order (CLETS)\n",
      "CA Proof of Firearms Turned In, Sold, or Stored\n",
      "CA How Do I Turn In, Sell, or Store My Firearms?\n",
      "CA Application and Order for Appointment of Guardian Ad Litem—Civil\n",
      "CA Notice of Intent to Appear by Telephone\n",
      "CA Application and Order for Reissuance of Order to Show Cause and Temporary Restraining Order\n",
      "CA Statement of Damages (Personal Injury or Wrongful Death)\n"
     ]
    },
    {
     "name": "stderr",
     "output_type": "stream",
     "text": [
      "/Users/davidcolarusso/opt/anaconda3/lib/python3.8/site-packages/sklearn/cluster/_affinity_propagation.py:246: ConvergenceWarning: Affinity propagation did not converge, this model will not have any cluster centers.\n",
      "  warnings.warn(\"Affinity propagation did not converge, this model \"\n",
      "/Users/davidcolarusso/opt/anaconda3/lib/python3.8/site-packages/sklearn/cluster/_affinity_propagation.py:460: ConvergenceWarning: This model does not have any cluster centers because affinity propagation did not converge. Labeling every sample as '-1'.\n",
      "  warnings.warn(\"This model does not have any cluster centers \"\n"
     ]
    },
    {
     "name": "stdout",
     "output_type": "stream",
     "text": [
      "CA Offer to Compromise and Acceptance Under Code of Civil Procedure Section 998\n",
      "CA Request for Entry of Default (Application to Enter Default)\n",
      "CA Request for Entry of Default (Fair Debt Buying Practices Act)\n",
      "CA Request for Dismissal\n",
      "CA Notice of Entry of Dismissal and Proof of Service\n",
      "CA Notice of Entry of Judgment or Order\n",
      "CA Declaration of Demurring Party Regarding Meet and Confer\n",
      "CA Declaration of Demurring Party in Support of Automatic Extension\n",
      "CA Notice of Limited Scope Representation\n",
      "CA Application to Be Relieved as Attorney on Completion of Limited Scope Representation\n",
      "CA Objection to Application to Be Relieved as Attorney on Completion of Limited Scope Representation\n",
      "CA Order on Application to Be Relieved as Attorney on Completion of Limited Scope Representation\n",
      "CA Petition for Order Striking and Releasing Lien, etc. (Government Employee)\n"
     ]
    },
    {
     "name": "stderr",
     "output_type": "stream",
     "text": [
      "/Users/davidcolarusso/opt/anaconda3/lib/python3.8/site-packages/sklearn/cluster/_affinity_propagation.py:246: ConvergenceWarning: Affinity propagation did not converge, this model will not have any cluster centers.\n",
      "  warnings.warn(\"Affinity propagation did not converge, this model \"\n",
      "/Users/davidcolarusso/opt/anaconda3/lib/python3.8/site-packages/sklearn/cluster/_affinity_propagation.py:460: ConvergenceWarning: This model does not have any cluster centers because affinity propagation did not converge. Labeling every sample as '-1'.\n",
      "  warnings.warn(\"This model does not have any cluster centers \"\n"
     ]
    },
    {
     "name": "stdout",
     "output_type": "stream",
     "text": [
      "CA Order to Show Cause (Government Employee)\n",
      "CA Order on Unlawful Use of Personal Identifying Information\n",
      "CA Petition and Declaration Regarding Unresolved Claims and Deposit of Undistributed Surplus Proceeds of Trustee's Sale\n"
     ]
    },
    {
     "name": "stderr",
     "output_type": "stream",
     "text": [
      "/Users/davidcolarusso/opt/anaconda3/lib/python3.8/site-packages/sklearn/cluster/_affinity_propagation.py:246: ConvergenceWarning: Affinity propagation did not converge, this model will not have any cluster centers.\n",
      "  warnings.warn(\"Affinity propagation did not converge, this model \"\n",
      "/Users/davidcolarusso/opt/anaconda3/lib/python3.8/site-packages/sklearn/cluster/_affinity_propagation.py:460: ConvergenceWarning: This model does not have any cluster centers because affinity propagation did not converge. Labeling every sample as '-1'.\n",
      "  warnings.warn(\"This model does not have any cluster centers \"\n"
     ]
    },
    {
     "name": "stdout",
     "output_type": "stream",
     "text": [
      "CA Confidential CLETS Information\n",
      "CA Civil Case Cover Sheet\n",
      "CA Confidential Cover Sheet False Claims Action\n",
      "CA Notice of Related Case\n",
      "CA Ex Parte Application for Extension of Time to Serve Pleading and Orders\n",
      "CA Case Management Statement\n",
      "CA Notice of Stay of Proceedings\n",
      "CA Notice of Termination or Modification of Stay\n",
      "CA Notice of Settlement of Entire Case\n",
      "CA Claim of Right to Possession and notice of Hearing\n"
     ]
    },
    {
     "name": "stderr",
     "output_type": "stream",
     "text": [
      "/Users/davidcolarusso/opt/anaconda3/lib/python3.8/site-packages/sklearn/cluster/_affinity_propagation.py:246: ConvergenceWarning: Affinity propagation did not converge, this model will not have any cluster centers.\n",
      "  warnings.warn(\"Affinity propagation did not converge, this model \"\n",
      "/Users/davidcolarusso/opt/anaconda3/lib/python3.8/site-packages/sklearn/cluster/_affinity_propagation.py:460: ConvergenceWarning: This model does not have any cluster centers because affinity propagation did not converge. Labeling every sample as '-1'.\n",
      "  warnings.warn(\"This model does not have any cluster centers \"\n"
     ]
    },
    {
     "name": "stdout",
     "output_type": "stream",
     "text": [
      "CA Prejudgment Claim of Right to Possession\n",
      "CA Fingerprint Form\n",
      "CA Plea Form, With Explanations and Waiver of Rights—Felony (Criminal)\n"
     ]
    },
    {
     "name": "stderr",
     "output_type": "stream",
     "text": [
      "/Users/davidcolarusso/opt/anaconda3/lib/python3.8/site-packages/sklearn/cluster/_affinity_propagation.py:246: ConvergenceWarning: Affinity propagation did not converge, this model will not have any cluster centers.\n",
      "  warnings.warn(\"Affinity propagation did not converge, this model \"\n",
      "/Users/davidcolarusso/opt/anaconda3/lib/python3.8/site-packages/sklearn/cluster/_affinity_propagation.py:460: ConvergenceWarning: This model does not have any cluster centers because affinity propagation did not converge. Labeling every sample as '-1'.\n",
      "  warnings.warn(\"This model does not have any cluster centers \"\n"
     ]
    },
    {
     "name": "stdout",
     "output_type": "stream",
     "text": [
      "CA Domestic Violence Plea Form With Waiver of Rights (Misdemeanor)\n",
      "CA Defendant's Financial Statement on Eligibility for Appointment of Counsel and Reimbursement and Record on Appeal at Public Expense\n",
      "CA Proof of Service - Criminal Record Clearing\n",
      "CA Information on How to File a Proof of Service in Criminal Record Clearing Requests\n",
      "CA Order for Victim Restitution\n"
     ]
    },
    {
     "name": "stderr",
     "output_type": "stream",
     "text": [
      "/Users/davidcolarusso/opt/anaconda3/lib/python3.8/site-packages/sklearn/cluster/_affinity_propagation.py:246: ConvergenceWarning: Affinity propagation did not converge, this model will not have any cluster centers.\n",
      "  warnings.warn(\"Affinity propagation did not converge, this model \"\n",
      "/Users/davidcolarusso/opt/anaconda3/lib/python3.8/site-packages/sklearn/cluster/_affinity_propagation.py:460: ConvergenceWarning: This model does not have any cluster centers because affinity propagation did not converge. Labeling every sample as '-1'.\n",
      "  warnings.warn(\"This model does not have any cluster centers \"\n"
     ]
    },
    {
     "name": "stdout",
     "output_type": "stream",
     "text": [
      "CA Abstract of Judgment—Restitution\n"
     ]
    },
    {
     "name": "stderr",
     "output_type": "stream",
     "text": [
      "/Users/davidcolarusso/opt/anaconda3/lib/python3.8/site-packages/sklearn/cluster/_affinity_propagation.py:246: ConvergenceWarning: Affinity propagation did not converge, this model will not have any cluster centers.\n",
      "  warnings.warn(\"Affinity propagation did not converge, this model \"\n",
      "/Users/davidcolarusso/opt/anaconda3/lib/python3.8/site-packages/sklearn/cluster/_affinity_propagation.py:460: ConvergenceWarning: This model does not have any cluster centers because affinity propagation did not converge. Labeling every sample as '-1'.\n",
      "  warnings.warn(\"This model does not have any cluster centers \"\n"
     ]
    },
    {
     "name": "stdout",
     "output_type": "stream",
     "text": [
      "CA Instructions: Order for Restitution and Abstract of Judgment\n",
      "CA Instructions: Abstract of Judgment—Restitution\n",
      "CA Defendant's Statement of Assets\n"
     ]
    },
    {
     "name": "stderr",
     "output_type": "stream",
     "text": [
      "/Users/davidcolarusso/opt/anaconda3/lib/python3.8/site-packages/sklearn/cluster/_affinity_propagation.py:246: ConvergenceWarning: Affinity propagation did not converge, this model will not have any cluster centers.\n",
      "  warnings.warn(\"Affinity propagation did not converge, this model \"\n",
      "/Users/davidcolarusso/opt/anaconda3/lib/python3.8/site-packages/sklearn/cluster/_affinity_propagation.py:460: ConvergenceWarning: This model does not have any cluster centers because affinity propagation did not converge. Labeling every sample as '-1'.\n",
      "  warnings.warn(\"This model does not have any cluster centers \"\n"
     ]
    },
    {
     "name": "stdout",
     "output_type": "stream",
     "text": [
      "CA Instructions: Defendant's Statement of Assets\n"
     ]
    },
    {
     "name": "stderr",
     "output_type": "stream",
     "text": [
      "/Users/davidcolarusso/opt/anaconda3/lib/python3.8/site-packages/sklearn/cluster/_affinity_propagation.py:136: UserWarning: All samples have mutually equal similarities. Returning arbitrary cluster center(s).\n",
      "  warnings.warn(\"All samples have mutually equal similarities. \"\n"
     ]
    },
    {
     "name": "stdout",
     "output_type": "stream",
     "text": [
      "CA Information Regarding Income Deduction Order (Pen.Code, § 1202.42)\n",
      "CA Order For Income Deduction (Pen.Code, § 1202.42)\n",
      "CA Notice of Appeal—Felony (Defendant)\n",
      "CA Order to Attend Court or Provide Documents: Subpoena/Subpoena Duces Tecum\n",
      "CA Application for Extension of Time to File Brief (Criminal Case)\n",
      "CA Information on Appeal Procedures for Misdemeanors\n",
      "\n",
      "CA Notice of Appeal (Misdemeanor)\n"
     ]
    },
    {
     "name": "stderr",
     "output_type": "stream",
     "text": [
      "/Users/davidcolarusso/opt/anaconda3/lib/python3.8/site-packages/sklearn/cluster/_affinity_propagation.py:246: ConvergenceWarning: Affinity propagation did not converge, this model will not have any cluster centers.\n",
      "  warnings.warn(\"Affinity propagation did not converge, this model \"\n",
      "/Users/davidcolarusso/opt/anaconda3/lib/python3.8/site-packages/sklearn/cluster/_affinity_propagation.py:460: ConvergenceWarning: This model does not have any cluster centers because affinity propagation did not converge. Labeling every sample as '-1'.\n",
      "  warnings.warn(\"This model does not have any cluster centers \"\n"
     ]
    },
    {
     "name": "stdout",
     "output_type": "stream",
     "text": [
      "CA Request for Court-Appointed Lawyer in Misdemeanor Appeal\n",
      "CA Notice Regarding Record on Appeal (Misdemeanor)\n"
     ]
    },
    {
     "name": "stderr",
     "output_type": "stream",
     "text": [
      "/Users/davidcolarusso/opt/anaconda3/lib/python3.8/site-packages/sklearn/cluster/_affinity_propagation.py:246: ConvergenceWarning: Affinity propagation did not converge, this model will not have any cluster centers.\n",
      "  warnings.warn(\"Affinity propagation did not converge, this model \"\n",
      "/Users/davidcolarusso/opt/anaconda3/lib/python3.8/site-packages/sklearn/cluster/_affinity_propagation.py:460: ConvergenceWarning: This model does not have any cluster centers because affinity propagation did not converge. Labeling every sample as '-1'.\n",
      "  warnings.warn(\"This model does not have any cluster centers \"\n"
     ]
    },
    {
     "name": "stdout",
     "output_type": "stream",
     "text": [
      "CA Proposed Statement on Appeal (Misdemeanor)\n",
      "CA Order Concerning Appellant's Proposed Statement on Appeal (Misdemeanor)\n",
      "CA Abandonment of Appeal (Misdemeanor)\n",
      "CA Notice of Waiver of Oral Argument (Misdemeanor)\n",
      "CA Information on Appeal Procedures for Infractions\n",
      "\n",
      "CA Notice of Appeal and Record on Appeal (Infraction)\n"
     ]
    },
    {
     "name": "stderr",
     "output_type": "stream",
     "text": [
      "/Users/davidcolarusso/opt/anaconda3/lib/python3.8/site-packages/sklearn/cluster/_affinity_propagation.py:246: ConvergenceWarning: Affinity propagation did not converge, this model will not have any cluster centers.\n",
      "  warnings.warn(\"Affinity propagation did not converge, this model \"\n",
      "/Users/davidcolarusso/opt/anaconda3/lib/python3.8/site-packages/sklearn/cluster/_affinity_propagation.py:460: ConvergenceWarning: This model does not have any cluster centers because affinity propagation did not converge. Labeling every sample as '-1'.\n",
      "  warnings.warn(\"This model does not have any cluster centers \"\n"
     ]
    },
    {
     "name": "stdout",
     "output_type": "stream",
     "text": [
      "CA Proposed Statement on Appeal (Infraction)\n",
      "CA Order Concerning Appellant's Proposed Statement on Appeal (Infraction)\n",
      "CA Abandonment of Appeal (Infraction)\n",
      "CA Certificate of Identity Theft: Judicial Finding of Factual Innocence\n",
      "CA Petition for Certificate of Identity Theft (Pen. Code, § 530.6)\n",
      "CA Criminal Protective Order—Domestic Violence (CLETS—CPO)\n",
      "CA Criminal Protective Order—Other Than Domestic Violence (CLETS—CPO)\n",
      "CA Order to Surrender Firearms in Domestic Violence Case (CLETS—CPO)\n",
      "CA Notice of Termination of Protective Order in Criminal Proceeding (CLETS-CANCEL)\n",
      "CA Batterer Intervention Program Progress Report\n",
      "CA Notification of Decision Whether to Challenge Recommendation (Pen. Code, § 2972.1)\n",
      "CA Order for Commitment (Sexually Violent Predator)\n",
      "CA Order for Extended Commitment (Sexually Violent Predator)\n",
      "CA Petition for Dismissal\n",
      "CA Order for Dismissal\n",
      "CA Petition for Dismissal (Military Personnel)\n",
      "CA Order for Dismissal (Military Personnel)\n",
      "\n",
      "CA Petition for Expungement of DNA Profiles and Samples (Pen. Code, § 299)\n",
      "CA Order for Expungement of DNA Profiles and Samples (Pen. Code, § 299)\n",
      "CA Motion to Vacate Conviction or Sentence\n",
      "CA Order on Motion to Vacate Conviction or Sentence\n",
      "CA Order Appointing Counsel in Capital Case\n",
      "CA Declaration of Counsel for Appointment in Capital Case\n",
      "\n",
      "CA Form Interrogatories—Crime Victim Restitution\n"
     ]
    },
    {
     "name": "stderr",
     "output_type": "stream",
     "text": [
      "/Users/davidcolarusso/opt/anaconda3/lib/python3.8/site-packages/sklearn/cluster/_affinity_propagation.py:246: ConvergenceWarning: Affinity propagation did not converge, this model will not have any cluster centers.\n",
      "  warnings.warn(\"Affinity propagation did not converge, this model \"\n",
      "/Users/davidcolarusso/opt/anaconda3/lib/python3.8/site-packages/sklearn/cluster/_affinity_propagation.py:460: ConvergenceWarning: This model does not have any cluster centers because affinity propagation did not converge. Labeling every sample as '-1'.\n",
      "  warnings.warn(\"This model does not have any cluster centers \"\n"
     ]
    },
    {
     "name": "stdout",
     "output_type": "stream",
     "text": [
      "CA Prohibited Persons Relinquishment Form Findings\n",
      "CA Proof of Enrollment or Completion (Alcohol or Drug Program)\n",
      "CA Order to Install Ignition Interlock Device\n",
      "CA Ignition Interlock Installation Verification\n",
      "CA Ignition Interlock Calibration Verification\n",
      "CA Ignition Interlock Noncompliance Report\n",
      "CA Ignition Interlock Removal and Modification to Probation Order\n",
      "CA Notice to Employers of Ignition Interlock Restriction\n",
      "CA Notice and Motion for Transfer\n",
      "CA Order for Transfer\n"
     ]
    },
    {
     "name": "stderr",
     "output_type": "stream",
     "text": [
      "/Users/davidcolarusso/opt/anaconda3/lib/python3.8/site-packages/sklearn/cluster/_affinity_propagation.py:246: ConvergenceWarning: Affinity propagation did not converge, this model will not have any cluster centers.\n",
      "  warnings.warn(\"Affinity propagation did not converge, this model \"\n",
      "/Users/davidcolarusso/opt/anaconda3/lib/python3.8/site-packages/sklearn/cluster/_affinity_propagation.py:460: ConvergenceWarning: This model does not have any cluster centers because affinity propagation did not converge. Labeling every sample as '-1'.\n",
      "  warnings.warn(\"This model does not have any cluster centers \"\n"
     ]
    },
    {
     "name": "stdout",
     "output_type": "stream",
     "text": [
      "CA Receiving Court Comment Form\n",
      "CA Felony Abstract of Judgment—Prison Commitment—Determinate\n",
      "\n",
      "CA Felony Abstract of Judgment—Prison Commitment—Determinate Single, Concurrent, or Full Term Consecutive Count Form\n",
      "\n",
      "CA Felony Abstract of Judgment Attachment Page\n",
      "\n",
      "CA Abstract of Judgment - Prison Commitment - Indeterminate\n",
      "\n",
      "CA Petition for Revocation\n",
      "CA Warrant Request and Order\n",
      "CA Request and Order to Recall Warrant\n",
      "CA Can't Afford to Pay Fine: Traffic and Other Infractions\n",
      "CA Can't Afford to Pay Fine: Traffic and Other Infractions (Court Order)\n"
     ]
    },
    {
     "name": "stderr",
     "output_type": "stream",
     "text": [
      "/Users/davidcolarusso/opt/anaconda3/lib/python3.8/site-packages/sklearn/cluster/_affinity_propagation.py:246: ConvergenceWarning: Affinity propagation did not converge, this model will not have any cluster centers.\n",
      "  warnings.warn(\"Affinity propagation did not converge, this model \"\n",
      "/Users/davidcolarusso/opt/anaconda3/lib/python3.8/site-packages/sklearn/cluster/_affinity_propagation.py:460: ConvergenceWarning: This model does not have any cluster centers because affinity propagation did not converge. Labeling every sample as '-1'.\n",
      "  warnings.warn(\"This model does not have any cluster centers \"\n"
     ]
    },
    {
     "name": "stdout",
     "output_type": "stream",
     "text": [
      "CA Petition/Application (Health and Safety Code, § 11361.8) Adult Crime(s)\n",
      "CA Proof of Service for Petition/Application (Health and Safety Code, § 11361.8) Adult Crime(s)\n",
      "CA Prosecuting Agency's Response to Petition/Application (Health and Safety Code, § 11361.8) Adult Crime(s)\n",
      "CA Order After Petition/Application (Health and Safety Code § 11363.8) Adult Crimes\n",
      "CA Petition/Application for Resentencing and Dismissal\n",
      "CA Order After Petition/Application for Resentencing and Dismissal\n",
      "CA Petition to Seal Arrest and Related Records\n"
     ]
    },
    {
     "name": "stderr",
     "output_type": "stream",
     "text": [
      "/Users/davidcolarusso/opt/anaconda3/lib/python3.8/site-packages/sklearn/cluster/_affinity_propagation.py:246: ConvergenceWarning: Affinity propagation did not converge, this model will not have any cluster centers.\n",
      "  warnings.warn(\"Affinity propagation did not converge, this model \"\n",
      "/Users/davidcolarusso/opt/anaconda3/lib/python3.8/site-packages/sklearn/cluster/_affinity_propagation.py:460: ConvergenceWarning: This model does not have any cluster centers because affinity propagation did not converge. Labeling every sample as '-1'.\n",
      "  warnings.warn(\"This model does not have any cluster centers \"\n"
     ]
    },
    {
     "name": "stdout",
     "output_type": "stream",
     "text": [
      "CA Information on How to File a Petition to Seal Arrest and Related Records Under Penal Code Section 851.91\n",
      "CA Order to Seal Arrest and Related Records (Pen. Code, Sections 851.91, 851.92)\n",
      "CA Petition for Resentencing Based on Health Conditions due to Military Service Listed in Penal Code Section 1170.91(b)\n",
      "CA Petition to Terminate Sex Offender Registration (Pen. Code, § 290.5)\n",
      "CA Information on Filing a Petition to Terminate Sex Offender Registration\n",
      "CA Proof of Service—Sex Offender Registration Termination (Pen. Code, § 290.5)\n",
      "CA Response by District Attorney to Petition to Terminate Sex Offender Registration\n",
      "CA Order on Petition to Terminate Sex Offender Registration (Pen. Code, § 290.5)\n",
      "CA Capital Case Attorney Pretrial Checklist (Criminal)\n",
      "CA Capital Case Attorney List of Appearances (Criminal)\n"
     ]
    },
    {
     "name": "stderr",
     "output_type": "stream",
     "text": [
      "/Users/davidcolarusso/opt/anaconda3/lib/python3.8/site-packages/sklearn/cluster/_affinity_propagation.py:246: ConvergenceWarning: Affinity propagation did not converge, this model will not have any cluster centers.\n",
      "  warnings.warn(\"Affinity propagation did not converge, this model \"\n",
      "/Users/davidcolarusso/opt/anaconda3/lib/python3.8/site-packages/sklearn/cluster/_affinity_propagation.py:460: ConvergenceWarning: This model does not have any cluster centers because affinity propagation did not converge. Labeling every sample as '-1'.\n",
      "  warnings.warn(\"This model does not have any cluster centers \"\n"
     ]
    },
    {
     "name": "stdout",
     "output_type": "stream",
     "text": [
      "CA Capital Case Attorney List of Exhibits (Criminal)\n",
      "CA Capital Case Attorney List of Motions (Criminal)\n",
      "CA Capital Case Attorney List of Jury Instructions (Criminal)\n"
     ]
    },
    {
     "name": "stderr",
     "output_type": "stream",
     "text": [
      "/Users/davidcolarusso/opt/anaconda3/lib/python3.8/site-packages/sklearn/cluster/_affinity_propagation.py:246: ConvergenceWarning: Affinity propagation did not converge, this model will not have any cluster centers.\n",
      "  warnings.warn(\"Affinity propagation did not converge, this model \"\n",
      "/Users/davidcolarusso/opt/anaconda3/lib/python3.8/site-packages/sklearn/cluster/_affinity_propagation.py:460: ConvergenceWarning: This model does not have any cluster centers because affinity propagation did not converge. Labeling every sample as '-1'.\n",
      "  warnings.warn(\"This model does not have any cluster centers \"\n"
     ]
    },
    {
     "name": "stdout",
     "output_type": "stream",
     "text": [
      "CA Capital Case Attorney Trial Checklist (Criminal)\n",
      "CA Important Information For Building Owners and Tenants\n",
      "\n",
      "CA Answer—Disability Access\n",
      "CA Defendant's Application for Stay of Proceedings and Early Evaluation Conference, Joint Inspection\n"
     ]
    },
    {
     "name": "stderr",
     "output_type": "stream",
     "text": [
      "/Users/davidcolarusso/opt/anaconda3/lib/python3.8/site-packages/sklearn/cluster/_affinity_propagation.py:246: ConvergenceWarning: Affinity propagation did not converge, this model will not have any cluster centers.\n",
      "  warnings.warn(\"Affinity propagation did not converge, this model \"\n",
      "/Users/davidcolarusso/opt/anaconda3/lib/python3.8/site-packages/sklearn/cluster/_affinity_propagation.py:460: ConvergenceWarning: This model does not have any cluster centers because affinity propagation did not converge. Labeling every sample as '-1'.\n",
      "  warnings.warn(\"This model does not have any cluster centers \"\n"
     ]
    },
    {
     "name": "stdout",
     "output_type": "stream",
     "text": [
      "CA Confidential Cover Sheet and Declaration re Documents for Stay and Early Evaluation Conference\n",
      "CA Notice of Stay of Proceedings and Early Evaluation Conference, Joint Inspection\n",
      "CA Proof of Service—Disability Access Litigation\n"
     ]
    },
    {
     "name": "stderr",
     "output_type": "stream",
     "text": [
      "/Users/davidcolarusso/opt/anaconda3/lib/python3.8/site-packages/sklearn/cluster/_affinity_propagation.py:246: ConvergenceWarning: Affinity propagation did not converge, this model will not have any cluster centers.\n",
      "  warnings.warn(\"Affinity propagation did not converge, this model \"\n",
      "/Users/davidcolarusso/opt/anaconda3/lib/python3.8/site-packages/sklearn/cluster/_affinity_propagation.py:460: ConvergenceWarning: This model does not have any cluster centers because affinity propagation did not converge. Labeling every sample as '-1'.\n",
      "  warnings.warn(\"This model does not have any cluster centers \"\n"
     ]
    },
    {
     "name": "stdout",
     "output_type": "stream",
     "text": [
      "CA Application for Mandatory Evaluation Conference Under Code of Civil Procedure Section 55.545\n",
      "CA Notice of Mandatory Evaluation Conference\n",
      "CA Petition for Probate\n",
      "CA Waiver of Bond by Heir or Beneficiary\n",
      "CA Notice of Hearing on Petition to Determine Claim to Property\n",
      "CA Notice of Hearing—Decedent's Estate or Trust\n",
      "CA Attachment to Notice of Hearing Proof of Service by Mail\n",
      "\n",
      "CA Proof of Personal Service of Notice of Hearing—Decedent's Estate or Trust\n",
      "CA Attachment to Notice of Hearing Proof of Personal Service\n",
      "CA Notice of Petition to Administer Estate\n",
      "CA Attachment to Notice of Petition to Administer Estate—Proof of Service by Mail\n",
      "CA Citation—Probate\n",
      "CA Summons (Probate)\n"
     ]
    },
    {
     "name": "stderr",
     "output_type": "stream",
     "text": [
      "/Users/davidcolarusso/opt/anaconda3/lib/python3.8/site-packages/sklearn/cluster/_affinity_propagation.py:246: ConvergenceWarning: Affinity propagation did not converge, this model will not have any cluster centers.\n",
      "  warnings.warn(\"Affinity propagation did not converge, this model \"\n",
      "/Users/davidcolarusso/opt/anaconda3/lib/python3.8/site-packages/sklearn/cluster/_affinity_propagation.py:460: ConvergenceWarning: This model does not have any cluster centers because affinity propagation did not converge. Labeling every sample as '-1'.\n",
      "  warnings.warn(\"This model does not have any cluster centers \"\n"
     ]
    },
    {
     "name": "stdout",
     "output_type": "stream",
     "text": [
      "CA Proof of Subscribing Witness\n",
      "CA Proof of Holographic Instrument\n",
      "CA Order for Probate\n",
      "CA Waiver of Bond by Heir or Beneficiary\n",
      "CA Duties and Liabilities of Personal Representative\n",
      "CA Confidential Supplement to Duties and Liabilities of Personal Representative\n",
      "CA Letters\n",
      "CA Request for Special Notice\n",
      "CA Notice of Administration to Creditors\n",
      "CA Inventory And Appraisal\n",
      "CA Inventory and Appraisal Attachment\n",
      "CA Notice of Proposed Action (Objection-Consent)\n",
      "CA Waiver of Notice of Proposed Action\n",
      "CA Creditor's Claim\n"
     ]
    },
    {
     "name": "stderr",
     "output_type": "stream",
     "text": [
      "/Users/davidcolarusso/opt/anaconda3/lib/python3.8/site-packages/sklearn/cluster/_affinity_propagation.py:246: ConvergenceWarning: Affinity propagation did not converge, this model will not have any cluster centers.\n",
      "  warnings.warn(\"Affinity propagation did not converge, this model \"\n",
      "/Users/davidcolarusso/opt/anaconda3/lib/python3.8/site-packages/sklearn/cluster/_affinity_propagation.py:460: ConvergenceWarning: This model does not have any cluster centers because affinity propagation did not converge. Labeling every sample as '-1'.\n",
      "  warnings.warn(\"This model does not have any cluster centers \"\n"
     ]
    },
    {
     "name": "stdout",
     "output_type": "stream",
     "text": [
      "CA Allowance or Rejection of Creditor's Claim\n",
      "CA Order Prescribing Notice\n",
      "CA Spousal or Domestic Partner Property Petition (Probate—Decedents Estates)\n",
      "CA Spousal or Domestic Partner Property Order (Probate—Decedents Estates)\n",
      "CA Report of Sale and Petition for Order Confirming Sale of Real Property\n",
      "CA Order Confirming Sale of Real Property\n",
      "CA Ex Parte Petition for Authority to Sell Securities and Order\n",
      "CA Ex Parte Petition for Approval of Sale of Personal Property and Order\n",
      "CA Ex Parte Petition for Final Discharge and Order\n",
      "\n",
      "CA Affidavit re Real Property of Small Value ($55,425 or less)\n",
      "CA Petition to Determine Succession to Real Property (Estates of $166,250 or Less)\n"
     ]
    },
    {
     "name": "stderr",
     "output_type": "stream",
     "text": [
      "/Users/davidcolarusso/opt/anaconda3/lib/python3.8/site-packages/sklearn/cluster/_affinity_propagation.py:246: ConvergenceWarning: Affinity propagation did not converge, this model will not have any cluster centers.\n",
      "  warnings.warn(\"Affinity propagation did not converge, this model \"\n",
      "/Users/davidcolarusso/opt/anaconda3/lib/python3.8/site-packages/sklearn/cluster/_affinity_propagation.py:460: ConvergenceWarning: This model does not have any cluster centers because affinity propagation did not converge. Labeling every sample as '-1'.\n",
      "  warnings.warn(\"This model does not have any cluster centers \"\n"
     ]
    },
    {
     "name": "stdout",
     "output_type": "stream",
     "text": [
      "CA Order Determining Succession to Real Property (Estates of $166,250 or Less)\n",
      "CA Petition for Appointment of Guardian Ad Litem—Probate\n",
      "CA Order Appointing Guardian Ad Litem—Probate\n",
      "CA Form Interrogatories—General\n",
      "CA Form Interrogatories—Employment Law\n",
      "CA Form Interrogatories—Unlawful Detainer\n",
      "CA Form Interrogatories—Limited Civil Cases (Economic Litigation)\n",
      "CA Form Interrogatories—Construction Litigation\n",
      "CA Case Questionnaire—For Limited Civil Cases (Under $25,000)\n",
      "CA Request for Statement of Witnesses and Evidence—For Limited Civil Cases (Under $25,000)\n",
      "CA Request For Admission\n",
      "CA Commission to Take Deposition Outside California\n",
      "CA Request for Domestic Violence Restraining Order\n"
     ]
    },
    {
     "name": "stderr",
     "output_type": "stream",
     "text": [
      "/Users/davidcolarusso/opt/anaconda3/lib/python3.8/site-packages/sklearn/cluster/_affinity_propagation.py:246: ConvergenceWarning: Affinity propagation did not converge, this model will not have any cluster centers.\n",
      "  warnings.warn(\"Affinity propagation did not converge, this model \"\n",
      "/Users/davidcolarusso/opt/anaconda3/lib/python3.8/site-packages/sklearn/cluster/_affinity_propagation.py:460: ConvergenceWarning: This model does not have any cluster centers because affinity propagation did not converge. Labeling every sample as '-1'.\n",
      "  warnings.warn(\"This model does not have any cluster centers \"\n"
     ]
    },
    {
     "name": "stdout",
     "output_type": "stream",
     "text": [
      "CA Description of Abuse\n",
      "CA Request for Child Custody and Visitation Orders\n",
      "CA Request for Order: No Travel with Children\n",
      "CA Notice of Court Hearing\n"
     ]
    },
    {
     "name": "stderr",
     "output_type": "stream",
     "text": [
      "/Users/davidcolarusso/opt/anaconda3/lib/python3.8/site-packages/sklearn/cluster/_affinity_propagation.py:246: ConvergenceWarning: Affinity propagation did not converge, this model will not have any cluster centers.\n",
      "  warnings.warn(\"Affinity propagation did not converge, this model \"\n",
      "/Users/davidcolarusso/opt/anaconda3/lib/python3.8/site-packages/sklearn/cluster/_affinity_propagation.py:460: ConvergenceWarning: This model does not have any cluster centers because affinity propagation did not converge. Labeling every sample as '-1'.\n",
      "  warnings.warn(\"This model does not have any cluster centers \"\n"
     ]
    },
    {
     "name": "stdout",
     "output_type": "stream",
     "text": [
      "CA Temporary Restraining Order (CLETS—TRO)\n"
     ]
    },
    {
     "name": "stderr",
     "output_type": "stream",
     "text": [
      "/Users/davidcolarusso/opt/anaconda3/lib/python3.8/site-packages/sklearn/cluster/_affinity_propagation.py:246: ConvergenceWarning: Affinity propagation did not converge, this model will not have any cluster centers.\n",
      "  warnings.warn(\"Affinity propagation did not converge, this model \"\n",
      "/Users/davidcolarusso/opt/anaconda3/lib/python3.8/site-packages/sklearn/cluster/_affinity_propagation.py:460: ConvergenceWarning: This model does not have any cluster centers because affinity propagation did not converge. Labeling every sample as '-1'.\n",
      "  warnings.warn(\"This model does not have any cluster centers \"\n"
     ]
    },
    {
     "name": "stdout",
     "output_type": "stream",
     "text": [
      "CA Waiver of Hearing on Denied Request for Temporary Restraining Order\n",
      "CA Request to Continue Hearing (Temporary Restraining Order) (Domestic Violence Prevention)\n",
      "CA How to Ask for a New Hearing Date (Domestic Violence Prevention)\n",
      "CA Order on Request to Continue Hearing (Temporary Restraining Order) (CLETS-TRO) (Domestic Violence Prevention)\n",
      "CA Order Granting Alternative Service\n",
      "CA Response to Request for Domestic Violence Restraining Order\n"
     ]
    },
    {
     "name": "stderr",
     "output_type": "stream",
     "text": [
      "/Users/davidcolarusso/opt/anaconda3/lib/python3.8/site-packages/sklearn/cluster/_affinity_propagation.py:246: ConvergenceWarning: Affinity propagation did not converge, this model will not have any cluster centers.\n",
      "  warnings.warn(\"Affinity propagation did not converge, this model \"\n",
      "/Users/davidcolarusso/opt/anaconda3/lib/python3.8/site-packages/sklearn/cluster/_affinity_propagation.py:460: ConvergenceWarning: This model does not have any cluster centers because affinity propagation did not converge. Labeling every sample as '-1'.\n",
      "  warnings.warn(\"This model does not have any cluster centers \"\n"
     ]
    },
    {
     "name": "stdout",
     "output_type": "stream",
     "text": [
      "CA How Can I Respond to a Request for Domestic Violence Restraining Order?\n",
      "CA Restraining Order After Hearing (CLETS—OAH)\n"
     ]
    },
    {
     "name": "stderr",
     "output_type": "stream",
     "text": [
      "/Users/davidcolarusso/opt/anaconda3/lib/python3.8/site-packages/sklearn/cluster/_affinity_propagation.py:246: ConvergenceWarning: Affinity propagation did not converge, this model will not have any cluster centers.\n",
      "  warnings.warn(\"Affinity propagation did not converge, this model \"\n",
      "/Users/davidcolarusso/opt/anaconda3/lib/python3.8/site-packages/sklearn/cluster/_affinity_propagation.py:460: ConvergenceWarning: This model does not have any cluster centers because affinity propagation did not converge. Labeling every sample as '-1'.\n",
      "  warnings.warn(\"This model does not have any cluster centers \"\n"
     ]
    },
    {
     "name": "stdout",
     "output_type": "stream",
     "text": [
      "CA Child Custody and Visitation Order\n",
      "CA Order: No Travel With Children\n",
      "CA Supervised Visitation and Exchange Order\n",
      "CA Request to Keep Minor's Information Confidential\n",
      "CA Privacy Protection for a Minor (Person Under 18 Years Old)\n",
      "CA Order on Request to Keep Minor's Information Confidential \n",
      "CA Notice of Order Protecting Information of Minor\n",
      "CA Cover Sheet for Confidential Information\n",
      "CA Request for Release of Minor's Confidential Information\n",
      "CA Notice of Request for Release of Minor's Confidential Information\n",
      "CA Response to Request for Release of Minor's Confidential Information\n",
      "CA Order on Request for Release of Minor's Confidential Information\n",
      "CA Agreement and Judgment of Parentage\n"
     ]
    },
    {
     "name": "stderr",
     "output_type": "stream",
     "text": [
      "/Users/davidcolarusso/opt/anaconda3/lib/python3.8/site-packages/sklearn/cluster/_affinity_propagation.py:246: ConvergenceWarning: Affinity propagation did not converge, this model will not have any cluster centers.\n",
      "  warnings.warn(\"Affinity propagation did not converge, this model \"\n",
      "/Users/davidcolarusso/opt/anaconda3/lib/python3.8/site-packages/sklearn/cluster/_affinity_propagation.py:460: ConvergenceWarning: This model does not have any cluster centers because affinity propagation did not converge. Labeling every sample as '-1'.\n",
      "  warnings.warn(\"This model does not have any cluster centers \"\n"
     ]
    },
    {
     "name": "stdout",
     "output_type": "stream",
     "text": [
      "CA Proof of Personal Service (CLETS)\n"
     ]
    },
    {
     "name": "stderr",
     "output_type": "stream",
     "text": [
      "/Users/davidcolarusso/opt/anaconda3/lib/python3.8/site-packages/sklearn/cluster/_affinity_propagation.py:246: ConvergenceWarning: Affinity propagation did not converge, this model will not have any cluster centers.\n",
      "  warnings.warn(\"Affinity propagation did not converge, this model \"\n",
      "/Users/davidcolarusso/opt/anaconda3/lib/python3.8/site-packages/sklearn/cluster/_affinity_propagation.py:460: ConvergenceWarning: This model does not have any cluster centers because affinity propagation did not converge. Labeling every sample as '-1'.\n",
      "  warnings.warn(\"This model does not have any cluster centers \"\n"
     ]
    },
    {
     "name": "stdout",
     "output_type": "stream",
     "text": [
      "CA What Is Proof of Personal Service? (Domestic Violence Prevention)\n",
      "\n",
      "CA What if the Person I Want Protection From is Avoiding (Evading) Service? (Domestic Violence Prevention)\n",
      "\n",
      "CA Summons (Domestic Violence Restraining Order)\n",
      "CA Proof of Service by Mail (CLETS) (Domestic Violence Prevention)\n"
     ]
    },
    {
     "name": "stderr",
     "output_type": "stream",
     "text": [
      "/Users/davidcolarusso/opt/anaconda3/lib/python3.8/site-packages/sklearn/cluster/_affinity_propagation.py:246: ConvergenceWarning: Affinity propagation did not converge, this model will not have any cluster centers.\n",
      "  warnings.warn(\"Affinity propagation did not converge, this model \"\n",
      "/Users/davidcolarusso/opt/anaconda3/lib/python3.8/site-packages/sklearn/cluster/_affinity_propagation.py:460: ConvergenceWarning: This model does not have any cluster centers because affinity propagation did not converge. Labeling every sample as '-1'.\n",
      "  warnings.warn(\"This model does not have any cluster centers \"\n"
     ]
    },
    {
     "name": "stdout",
     "output_type": "stream",
     "text": [
      "CA Findings and Order to Terminate Restraining Order After Hearing (CLETS—CANCEL)\n",
      "CA How Do I Ask to Change or End a Domestic Violence Restraining Order After Hearing?\n",
      "CA Can a Domestic Violence Restraining Order Help Me?\n",
      "\n",
      "CA How Do I Ask For a Temporary Restraining Order?\n",
      "CA Get Ready for the Court Hearing\n",
      "CA How to Enforce Your Restraining Order\n"
     ]
    },
    {
     "name": "stderr",
     "output_type": "stream",
     "text": [
      "/Users/davidcolarusso/opt/anaconda3/lib/python3.8/site-packages/sklearn/cluster/_affinity_propagation.py:136: UserWarning: All samples have mutually equal similarities. Returning arbitrary cluster center(s).\n",
      "  warnings.warn(\"All samples have mutually equal similarities. \"\n",
      "/Users/davidcolarusso/opt/anaconda3/lib/python3.8/site-packages/sklearn/cluster/_affinity_propagation.py:136: UserWarning: All samples have mutually equal similarities. Returning arbitrary cluster center(s).\n",
      "  warnings.warn(\"All samples have mutually equal similarities. \"\n"
     ]
    },
    {
     "name": "stdout",
     "output_type": "stream",
     "text": [
      "CA Which Financial Form—FL-155 or FL-150? (Domestic Violence Prevention)\n",
      "CA Order to Register Out-of-State or Tribal Court Protective/Restraining Order\n"
     ]
    },
    {
     "name": "stderr",
     "output_type": "stream",
     "text": [
      "/Users/davidcolarusso/opt/anaconda3/lib/python3.8/site-packages/sklearn/cluster/_affinity_propagation.py:246: ConvergenceWarning: Affinity propagation did not converge, this model will not have any cluster centers.\n",
      "  warnings.warn(\"Affinity propagation did not converge, this model \"\n",
      "/Users/davidcolarusso/opt/anaconda3/lib/python3.8/site-packages/sklearn/cluster/_affinity_propagation.py:460: ConvergenceWarning: This model does not have any cluster centers because affinity propagation did not converge. Labeling every sample as '-1'.\n",
      "  warnings.warn(\"This model does not have any cluster centers \"\n"
     ]
    },
    {
     "name": "stdout",
     "output_type": "stream",
     "text": [
      "CA Fax Transmission Cover Sheet for Registration of Tribal Court Protective Order\n",
      "CA Order to Register Canadian Domestic Violence Protective/Restraining Order\n"
     ]
    },
    {
     "name": "stderr",
     "output_type": "stream",
     "text": [
      "/Users/davidcolarusso/opt/anaconda3/lib/python3.8/site-packages/sklearn/cluster/_affinity_propagation.py:246: ConvergenceWarning: Affinity propagation did not converge, this model will not have any cluster centers.\n",
      "  warnings.warn(\"Affinity propagation did not converge, this model \"\n",
      "/Users/davidcolarusso/opt/anaconda3/lib/python3.8/site-packages/sklearn/cluster/_affinity_propagation.py:460: ConvergenceWarning: This model does not have any cluster centers because affinity propagation did not converge. Labeling every sample as '-1'.\n",
      "  warnings.warn(\"This model does not have any cluster centers \"\n"
     ]
    },
    {
     "name": "stdout",
     "output_type": "stream",
     "text": [
      "CA Request to Renew Restraining Order\n",
      "CA How Do I Ask the Court to Renew My Restraining Order?\n",
      "\n",
      "CA Notice of Hearing to Renew Restraining Order\n"
     ]
    },
    {
     "name": "stderr",
     "output_type": "stream",
     "text": [
      "/Users/davidcolarusso/opt/anaconda3/lib/python3.8/site-packages/sklearn/cluster/_affinity_propagation.py:246: ConvergenceWarning: Affinity propagation did not converge, this model will not have any cluster centers.\n",
      "  warnings.warn(\"Affinity propagation did not converge, this model \"\n",
      "/Users/davidcolarusso/opt/anaconda3/lib/python3.8/site-packages/sklearn/cluster/_affinity_propagation.py:460: ConvergenceWarning: This model does not have any cluster centers because affinity propagation did not converge. Labeling every sample as '-1'.\n",
      "  warnings.warn(\"This model does not have any cluster centers \"\n"
     ]
    },
    {
     "name": "stdout",
     "output_type": "stream",
     "text": [
      "CA Response to Request to Renew Restraining Order\n",
      "CA Order to Renew Domestic Violence Restraining Order\n",
      "CA Proof of Firearms Turned In, Sold, or Stored\n",
      "CA How Do I Turn In, Sell, or Store My Firearms?\n",
      "CA Proof of Enrollment for Batterer Intervention Program\n",
      "CA Batterer Intervention Program Progress Report\n",
      "CA Order Transferring Wireless Phone Account\n"
     ]
    },
    {
     "name": "stderr",
     "output_type": "stream",
     "text": [
      "/Users/davidcolarusso/opt/anaconda3/lib/python3.8/site-packages/sklearn/cluster/_affinity_propagation.py:246: ConvergenceWarning: Affinity propagation did not converge, this model will not have any cluster centers.\n",
      "  warnings.warn(\"Affinity propagation did not converge, this model \"\n",
      "/Users/davidcolarusso/opt/anaconda3/lib/python3.8/site-packages/sklearn/cluster/_affinity_propagation.py:460: ConvergenceWarning: This model does not have any cluster centers because affinity propagation did not converge. Labeling every sample as '-1'.\n",
      "  warnings.warn(\"This model does not have any cluster centers \"\n"
     ]
    },
    {
     "name": "stdout",
     "output_type": "stream",
     "text": [
      "CA Attachment to Order Transferring Wireless Phone Account\n",
      "CA Request for Elder or Dependent Adult Abuse Restraining Orders\n",
      "CA Can a Restraining Order to Prevent Elder or Dependent Adult Abuse Help Me?\n",
      "CA Notice of Court Hearing\n"
     ]
    },
    {
     "name": "stderr",
     "output_type": "stream",
     "text": [
      "/Users/davidcolarusso/opt/anaconda3/lib/python3.8/site-packages/sklearn/cluster/_affinity_propagation.py:136: UserWarning: All samples have mutually equal similarities. Returning arbitrary cluster center(s).\n",
      "  warnings.warn(\"All samples have mutually equal similarities. \"\n"
     ]
    },
    {
     "name": "stdout",
     "output_type": "stream",
     "text": [
      "CA Temporary Restraining Order (CLETS—TEA or TEF)\n",
      "CA Request to Continue Court Hearing (Temporary Restraining Order) (Elder or Dependent Adult Abuse Prevention)\n",
      "CA How to Ask For a New Hearing Date (Elder or Dependent Adult Abuse Prevention)\n",
      "CA Order on Request to Continue Court Hearing (Temporary Restraining Order) (CLETS-TEA or TEF) (Elder or Dependent Adult Abuse Prevention)\n",
      "CA Response to Request for Elder or Dependent Adult Abuse Restraining Orders\n",
      "CA How Can I Respond to a Request for Elder or Dependent Adult Abuse Restraining Orders?\n",
      "CA Elder or Dependent Adult Abuse Restraining Order After Hearing (CLETS—EAR or EAF)\n",
      "CA Proof of Personal Service\n",
      "CA What Is Proof of Personal Service?\n",
      "CA Proof of Service of Response by Mail\n"
     ]
    },
    {
     "name": "stderr",
     "output_type": "stream",
     "text": [
      "/Users/davidcolarusso/opt/anaconda3/lib/python3.8/site-packages/sklearn/cluster/_affinity_propagation.py:136: UserWarning: All samples have mutually equal similarities. Returning arbitrary cluster center(s).\n",
      "  warnings.warn(\"All samples have mutually equal similarities. \"\n"
     ]
    },
    {
     "name": "stdout",
     "output_type": "stream",
     "text": [
      "CA Proof of Service of Order After Hearing by Mail\n",
      "CA Request to Modify/Terminate Elder or Dependent Adult Abuse Restraining Order\n",
      "CA Notice of Hearing to Modify/Terminate Elder or Dependent Adult Abuse Restraining Order\n",
      "CA Response to Request to Modify/Terminate Elder or Dependent Adult Abuse Restraining Order\n",
      "CA Order on Request to Modify/Terminate Elder or Dependent Adult Abuse Restraining Order\n",
      "CA Request to Renew Restraining Order\n",
      "CA Notice of Hearing to Renew Restraining Order\n",
      "CA Response to Request to Renew Restraining Order\n",
      "CA Order Renewing Elder or Dependent Adult Abuse Restraining Order\n",
      "CA Proof of Firearms Turned In, Sold, or Stored\n",
      "CA How Do I Turn In, Sell, or Store My Firearms?\n",
      "CA Consent to Electronic Service and Notice of Electronic Notification Address\n"
     ]
    },
    {
     "name": "stderr",
     "output_type": "stream",
     "text": [
      "/Users/davidcolarusso/opt/anaconda3/lib/python3.8/site-packages/sklearn/cluster/_affinity_propagation.py:246: ConvergenceWarning: Affinity propagation did not converge, this model will not have any cluster centers.\n",
      "  warnings.warn(\"Affinity propagation did not converge, this model \"\n",
      "/Users/davidcolarusso/opt/anaconda3/lib/python3.8/site-packages/sklearn/cluster/_affinity_propagation.py:460: ConvergenceWarning: This model does not have any cluster centers because affinity propagation did not converge. Labeling every sample as '-1'.\n",
      "  warnings.warn(\"This model does not have any cluster centers \"\n"
     ]
    },
    {
     "name": "stdout",
     "output_type": "stream",
     "text": [
      "CA Electronic Service: Consent, Withdrawal of Consent, Address Change (Juvenile)\n"
     ]
    },
    {
     "name": "stderr",
     "output_type": "stream",
     "text": [
      "/Users/davidcolarusso/opt/anaconda3/lib/python3.8/site-packages/sklearn/cluster/_affinity_propagation.py:246: ConvergenceWarning: Affinity propagation did not converge, this model will not have any cluster centers.\n",
      "  warnings.warn(\"Affinity propagation did not converge, this model \"\n",
      "/Users/davidcolarusso/opt/anaconda3/lib/python3.8/site-packages/sklearn/cluster/_affinity_propagation.py:460: ConvergenceWarning: This model does not have any cluster centers because affinity propagation did not converge. Labeling every sample as '-1'.\n",
      "  warnings.warn(\"This model does not have any cluster centers \"\n"
     ]
    },
    {
     "name": "stdout",
     "output_type": "stream",
     "text": [
      "CA Withdrawal of Consent to Electronic Service (Electronic Filing and Service)\n",
      "\n",
      "CA Request for Exemption from Mandatory Electronic Filing and Service\n",
      "CA Order of Exemption from Electronic Filing and Service\n",
      "CA Notice of Change of Electronic Service Address\n",
      "CA Proposed Order (Cover Sheet)\n",
      "CA Proof of Electronic Service\n",
      "CA Attachment to Proof of Electronic Service (Documents Served)\n",
      "CA Attachment to Proof of Electronic Service (Persons Served)\n",
      "CA Abstract of Judgment—Civil and Small Claims\n",
      "CA Acknowledgment of Satisfaction of Judgment\n",
      "CA Application for Entry of Judgment on Sister-State Judgment\n",
      "CA Notice of Entry of Judgment on Sister-State Judgment\n",
      "CA Notice of Application for Recognition and Entry of Tribal Court Money Judgment\n"
     ]
    },
    {
     "name": "stderr",
     "output_type": "stream",
     "text": [
      "/Users/davidcolarusso/opt/anaconda3/lib/python3.8/site-packages/sklearn/cluster/_affinity_propagation.py:246: ConvergenceWarning: Affinity propagation did not converge, this model will not have any cluster centers.\n",
      "  warnings.warn(\"Affinity propagation did not converge, this model \"\n",
      "/Users/davidcolarusso/opt/anaconda3/lib/python3.8/site-packages/sklearn/cluster/_affinity_propagation.py:460: ConvergenceWarning: This model does not have any cluster centers because affinity propagation did not converge. Labeling every sample as '-1'.\n",
      "  warnings.warn(\"This model does not have any cluster centers \"\n"
     ]
    },
    {
     "name": "stdout",
     "output_type": "stream",
     "text": [
      "CA Application and Order for Appearance and Examination\n"
     ]
    },
    {
     "name": "stderr",
     "output_type": "stream",
     "text": [
      "/Users/davidcolarusso/opt/anaconda3/lib/python3.8/site-packages/sklearn/cluster/_affinity_propagation.py:246: ConvergenceWarning: Affinity propagation did not converge, this model will not have any cluster centers.\n",
      "  warnings.warn(\"Affinity propagation did not converge, this model \"\n",
      "/Users/davidcolarusso/opt/anaconda3/lib/python3.8/site-packages/sklearn/cluster/_affinity_propagation.py:460: ConvergenceWarning: This model does not have any cluster centers because affinity propagation did not converge. Labeling every sample as '-1'.\n",
      "  warnings.warn(\"This model does not have any cluster centers \"\n"
     ]
    },
    {
     "name": "stdout",
     "output_type": "stream",
     "text": [
      "CA Writ of Execution\n",
      "CA Notice of Levy\n",
      "CA Memorandum of Garnishee\n",
      "CA Exemptions from The Enforcement of Judgments\n",
      "CA Current Dollar Amounts of Exemptions from Enforcement of Judgments\n",
      "CA Ex Parte Application for Order on Deposit Account Exemption\n",
      "CA Instructions for Ex Parte Application for Order on Deposit Account Exemption\n",
      "CA Declaration Regarding Notice and Service for Ex Parte Application for Order on Deposit Account Exemption\n",
      "CA Order on Application for Designation of Deposit Account Exemption\n",
      "CA Claim of Exemption (Enforcement of Judgment)\n",
      "CA Financial Statement\n",
      "CA Notice of Opposition to Claim of Exemption\n",
      "CA Notice of Hearing on Claim of Exemption\n",
      "CA Notice of Hearing on Right to Homestead Exemption\n",
      "CA Notice of Rehearing on Right to Homestead Exemption\n",
      "CA Notice of Lien\n",
      "CA Application for and Renewal of Judgment\n",
      "CA Notice of Renewal of Judgment\n",
      "CA Expedited Jury Trial Information Sheet\n",
      "\n",
      "CA Request to Opt Out of Mandatory Expedited Jury Trial Procedures\n",
      "CA Objection to Request to Opt Out of Mandatory Expedited Jury Trial Procedures\n",
      "CA Order on Request to Opt Out of Mandatory Expedited Jury Trial Procedures\n",
      "CA Agreement of Parties (Mandatory Expedited Jury Trial Procedures)\n",
      "CA [Proposed] Consent Order for Voluntary Expedited Jury Trial\n",
      "CA Attachment to [Proposed] Consent Order Or Agreement of Parties\n"
     ]
    },
    {
     "name": "stderr",
     "output_type": "stream",
     "text": [
      "/Users/davidcolarusso/opt/anaconda3/lib/python3.8/site-packages/sklearn/cluster/_affinity_propagation.py:246: ConvergenceWarning: Affinity propagation did not converge, this model will not have any cluster centers.\n",
      "  warnings.warn(\"Affinity propagation did not converge, this model \"\n",
      "/Users/davidcolarusso/opt/anaconda3/lib/python3.8/site-packages/sklearn/cluster/_affinity_propagation.py:460: ConvergenceWarning: This model does not have any cluster centers because affinity propagation did not converge. Labeling every sample as '-1'.\n",
      "  warnings.warn(\"This model does not have any cluster centers \"\n"
     ]
    },
    {
     "name": "stdout",
     "output_type": "stream",
     "text": [
      "CA Petition for Declaration of Emancipation of Minor, Order Prescribing Notice, Declaration of Emancipation, and Order Denying Petition\n",
      "CA Emancipation Pamphlet\n",
      "CA Notice of Hearing—Emancipation of Minor\n",
      "CA Emancipation of Minor Income and Expense Declaration\n",
      "CA Declaration of Emancipation of Minor After Hearing\n",
      "CA Emancipated Minor's Application to California Department of Motor Vehicles\n",
      "CA Emergency Protective Order (CLETS-EPO)\n",
      "CA Gun Violence Emergency Protective Order (CLETS-EGV)\n",
      "CA Petition—Marriage/Domestic Partnership (Family Law)\n",
      "CA Declaration Under Uniform Child Custody Jurisdiction and Enforcement Act (UCCJEA)\n",
      "CA Attachment to Declaration Under Uniform Child Custody Jurisdiction and Enforcement Act (UCCJEA)\n",
      "CA Legal Steps for a Divorce or Legal Separation\n",
      "\n",
      "CA Summons\n",
      "CA Proof of Service of Summons (Family Law-Uniform Parentage-Custody and Support)\n",
      "CA Notice and Acknowledgment of Receipt\n",
      "CA Response—Marriage/Domestic Partnership (Family Law)\n",
      "CA Appearance, Stipulations, and Waivers (Family Law—Uniform Parentage—Custody and Support)\n",
      "CA Declaration and Conditional Waiver of Rights Under the Servicemembers Civil Relief Act of 2003\n",
      "CA Declaration of Disclosure\n",
      "CA Declaration Regarding Service of Declaration of Disclosure and Income and Expense Declaration\n",
      "CA Schedule of Assets and Debts\n",
      "CA Stipulation and Waiver of Final Declaration of Disclosure\n",
      "CA Form Interrogatories—Family Law\n",
      "CA Income and Expense Declaration\n",
      "CA Financial Statement (Simplified)\n",
      "\n",
      "CA Spousal or Domestic Partner Support Declaration Attachment\n",
      "CA Supporting Declaration for Attorney's Fees and Costs Attachment\n",
      "CA Property Declaration\n",
      "CA Continuation of Property Declaration\n",
      "CA Request to Enter Default (Uniform Parentage)\n",
      "CA Declaration for Default or Uncontested Dissolution or Legal Separation (Family Law)\n",
      "CA Case Information—Family Law\n",
      "CA Family Centered Case Resolution Order\n",
      "CA Judgment\n"
     ]
    },
    {
     "name": "stderr",
     "output_type": "stream",
     "text": [
      "/Users/davidcolarusso/opt/anaconda3/lib/python3.8/site-packages/sklearn/cluster/_affinity_propagation.py:246: ConvergenceWarning: Affinity propagation did not converge, this model will not have any cluster centers.\n",
      "  warnings.warn(\"Affinity propagation did not converge, this model \"\n",
      "/Users/davidcolarusso/opt/anaconda3/lib/python3.8/site-packages/sklearn/cluster/_affinity_propagation.py:460: ConvergenceWarning: This model does not have any cluster centers because affinity propagation did not converge. Labeling every sample as '-1'.\n",
      "  warnings.warn(\"This model does not have any cluster centers \"\n"
     ]
    },
    {
     "name": "stdout",
     "output_type": "stream",
     "text": [
      "CA Judgment Checklist—Dissolution/Legal Separation\n",
      "CA Notice of Entry of Judgment (Uniform Parentage—Custody and Support)\n",
      "CA Child Support Case Registry Form\n",
      "CA Notice of Rights and Responsibilities (Health-Care Costs and Reimbursement Procedures)\n",
      "CA Income Withholding for Support\n",
      "CA Income Withholding for Support—Instructions\n",
      "CA Petition to Determine Parental Relationship (Uniform Parentage)\n",
      "CA Summons (Uniform Parentage—Petition for Custody and Support) (incl. Spanish)\n",
      "CA Response to Petition to Determine Parental Relationship (Uniform Parentage)\n",
      "CA Declaration for Default or Uncontested Judgment (Uniform Parentage—Custody and Support)\n",
      "CA Advisement and Waiver of Rights Re: Determination of Parental Relationship (Uniform Parentage)\n",
      "CA Stipulation for Entry of Judgment Re: Determination of Parental Relationship\n",
      "CA Judgment (Uniform Parentage—Custody and Support)\n"
     ]
    },
    {
     "name": "stderr",
     "output_type": "stream",
     "text": [
      "/Users/davidcolarusso/opt/anaconda3/lib/python3.8/site-packages/sklearn/cluster/_affinity_propagation.py:246: ConvergenceWarning: Affinity propagation did not converge, this model will not have any cluster centers.\n",
      "  warnings.warn(\"Affinity propagation did not converge, this model \"\n",
      "/Users/davidcolarusso/opt/anaconda3/lib/python3.8/site-packages/sklearn/cluster/_affinity_propagation.py:460: ConvergenceWarning: This model does not have any cluster centers because affinity propagation did not converge. Labeling every sample as '-1'.\n",
      "  warnings.warn(\"This model does not have any cluster centers \"\n"
     ]
    },
    {
     "name": "stdout",
     "output_type": "stream",
     "text": [
      "CA Petition for Custody and Support of Minor Children\n",
      "CA Response to Petition for Custody and Support of Minor Children\n"
     ]
    },
    {
     "name": "stderr",
     "output_type": "stream",
     "text": [
      "/Users/davidcolarusso/opt/anaconda3/lib/python3.8/site-packages/sklearn/cluster/_affinity_propagation.py:246: ConvergenceWarning: Affinity propagation did not converge, this model will not have any cluster centers.\n",
      "  warnings.warn(\"Affinity propagation did not converge, this model \"\n",
      "/Users/davidcolarusso/opt/anaconda3/lib/python3.8/site-packages/sklearn/cluster/_affinity_propagation.py:460: ConvergenceWarning: This model does not have any cluster centers because affinity propagation did not converge. Labeling every sample as '-1'.\n",
      "  warnings.warn(\"This model does not have any cluster centers \"\n"
     ]
    },
    {
     "name": "stdout",
     "output_type": "stream",
     "text": [
      "CA Notice of Motion to Cancel (Set Aside) Judgment of Parentage\n",
      "CA Declaration in Support of Motion to Cancel (Set Aside) Judgment of Parentage (Family Law - Governmental)\n",
      "CA Information Sheet for Completing Notice of Motion to Cancel (Set Aside) Judgment of Parentage\n",
      "CA Response to Notice of Motion to Cancel (Set Aside) Judgment of Parentage\n",
      "CA Order After Hearing on Motion to Cancel (Set Aside) Judgment of Parentage (Family Law - Governmental)\n",
      "CA Request for Hearing and Application to Cancel (Set Aside) Voluntary Declaration of Parentage or Paternity\n",
      "CA Information Sheet for Completing Request for Hearing and Application to Cancel (Set Aside) Voluntary Declaration of Parentage or Paternity (Family Law - Governmental)\n",
      "CA Responsive Declaration to Application to Cancel (Set Aside) Voluntary Declaration of Parentage or Paternity\n",
      "CA Order After Hearing on Motion to Cancel (Set Aside) Voluntary Declaration of Parentage or Paternity (Family Law - Governmental)\n",
      "CA Request for Order\n",
      "CA Information Sheet for Request for Order (Family Law)\n",
      "\n",
      "CA Declaration Regarding Notice and Service of Request for Temporary Emergency (Ex Parte) Orders\n",
      "CA How to Reschedule a Hearing in Family Court\n",
      "CA Temporary Emergency (Ex Parte) Orders\n",
      "CA Request to Reschedule Hearing (Family Law—Governmental—Uniform Parentage—Custody and Support)\n",
      "CA Request to Reschedule Hearing Involving Temporary Emergency (Ex Parte) Orders (Family Law—Governmental—Uniform Parentage—Custody and Support)\n",
      "CA Agreement and Order to Reschedule Hearing (Family Law—Governmental—Uniform Parentage—Custody and Support)\n",
      "CA Order on Request to Reschedule Hearing (Family Law—Governmental—Uniform Parentage—Custody and Support)\n",
      "CA Responsive Declaration to Request to Reschedule Hearing (Family Law—Governmental—Uniform Parentage—Custody and Support)\n",
      "CA Child Custody and Visitation (Parenting Time) Application Attachment\n",
      "CA Request for Child Abduction Prevention Orders\n",
      "CA Child Custody Information Sheet—Recommending Counseling\n"
     ]
    },
    {
     "name": "stderr",
     "output_type": "stream",
     "text": [
      "/Users/davidcolarusso/opt/anaconda3/lib/python3.8/site-packages/sklearn/cluster/_affinity_propagation.py:136: UserWarning: All samples have mutually equal similarities. Returning arbitrary cluster center(s).\n",
      "  warnings.warn(\"All samples have mutually equal similarities. \"\n",
      "/Users/davidcolarusso/opt/anaconda3/lib/python3.8/site-packages/sklearn/cluster/_affinity_propagation.py:136: UserWarning: All samples have mutually equal similarities. Returning arbitrary cluster center(s).\n",
      "  warnings.warn(\"All samples have mutually equal similarities. \"\n"
     ]
    },
    {
     "name": "stdout",
     "output_type": "stream",
     "text": [
      "CA Child Custody Information Sheet—Child Custody Mediation\n",
      "CA Request or Response to Request for Separate Trial\n",
      "CA Request for Orders Regarding Noncompliance With Disclosure Requirements\n",
      "CA Retirement Plan Joinder—Information Sheet\n",
      "CA Request for Attorney's Fees and Costs Attachment\n",
      "CA Responsive Declaration to Request for Order\n",
      "CA Information Sheet: Responsive Declaration to Request for Order\n",
      "CA Witness List\n",
      "CA Declaration of Counsel for a Child Regarding Qualifications\n",
      "CA Order Appointing Counsel for a Child\n",
      "CA Attorney for Child in a Family Law Case—Information Sheet\n",
      "\n",
      "CA Declaration of Supervised Visitation Provider (NonProfessional)\n",
      "CA Declaration of Supervised Visitation Provider (Professional)\n",
      "CA Declaration of Court-connected Child Custody Evaluator Regarding Qualifications\n",
      "CA Declaration of Private Child Custody Evaluator Regarding Qualifications\n",
      "CA Order Appointing Child Custody Evaluator\n",
      "CA Additional Orders Regarding Child Custody Evaluations Under Family Code Section 3118\n",
      "CA Notice Regarding Confidentiality of Child Custody Evaluation Report\n",
      "CA Confidential Child Custody Evaluation Report\n",
      "CA Child Custody Evaluation Information Sheet\n",
      "\n",
      "CA Proof of Personal Service\n",
      "CA Information Sheet for Proof of Personal Service\n"
     ]
    },
    {
     "name": "stderr",
     "output_type": "stream",
     "text": [
      "/Users/davidcolarusso/opt/anaconda3/lib/python3.8/site-packages/sklearn/cluster/_affinity_propagation.py:136: UserWarning: All samples have mutually equal similarities. Returning arbitrary cluster center(s).\n",
      "  warnings.warn(\"All samples have mutually equal similarities. \"\n"
     ]
    },
    {
     "name": "stdout",
     "output_type": "stream",
     "text": [
      "CA Declaration Regarding Address Verification—Postjudgment Request to Modify a Child Custody, Visitation, or Child Support Order\n",
      "CA Proof of Service by Mail\n",
      "CA Information Sheet for Proof of Service by Mail\n"
     ]
    },
    {
     "name": "stderr",
     "output_type": "stream",
     "text": [
      "/Users/davidcolarusso/opt/anaconda3/lib/python3.8/site-packages/sklearn/cluster/_affinity_propagation.py:136: UserWarning: All samples have mutually equal similarities. Returning arbitrary cluster center(s).\n",
      "  warnings.warn(\"All samples have mutually equal similarities. \"\n"
     ]
    },
    {
     "name": "stdout",
     "output_type": "stream",
     "text": [
      "CA Order to Pay Waived Court Fees and Costs (Superior Court)\n",
      "CA Application to Set Aside Order to Pay Waived Court Fees—Attachment\n",
      "CA Order After Hearing on Motion to Set Aside Order to Pay Waived Court Fees (Superior Court)\n",
      "CA Findings and Order After Hearing\n",
      "CA Child Custody and Visitation (Parenting Time) Order Attachment\n",
      "CA Supervised Visitation Order\n"
     ]
    },
    {
     "name": "stderr",
     "output_type": "stream",
     "text": [
      "/Users/davidcolarusso/opt/anaconda3/lib/python3.8/site-packages/sklearn/cluster/_affinity_propagation.py:246: ConvergenceWarning: Affinity propagation did not converge, this model will not have any cluster centers.\n",
      "  warnings.warn(\"Affinity propagation did not converge, this model \"\n",
      "/Users/davidcolarusso/opt/anaconda3/lib/python3.8/site-packages/sklearn/cluster/_affinity_propagation.py:460: ConvergenceWarning: This model does not have any cluster centers because affinity propagation did not converge. Labeling every sample as '-1'.\n",
      "  warnings.warn(\"This model does not have any cluster centers \"\n"
     ]
    },
    {
     "name": "stdout",
     "output_type": "stream",
     "text": [
      "CA Child Abduction Prevention Order Attachment\n",
      "CA Children's Holiday Schedule Attachment\n",
      "CA Additional Provisions—Physical Custody Attachment\n",
      "CA Joint Legal Custody Attachment\n",
      "CA Child Support Information and Order Attachment\n",
      "CA Non-Guideline Support Findings Attachment\n",
      "CA Spousal, Domestic Partner, or Family Support Order Attachment\n",
      "CA Property Order Attachment to Findings and Order After Hearing\n",
      "CA Property Order Attachment to Judgment\n",
      "CA Attorney's Fees and Costs Order Attachment\n",
      "CA Bifurcation of Status of Marriage or Domestic Partnership—Attachment\n",
      "CA Pension Benefits—Attachment to Judgment (Attach to form FL-180)\n",
      "CA Spousal or Domestic Partner Support Factors Under Family Code Section 4320—Attachment\n",
      "CA Stipulation to Establish or Modify Child Support and Order\n",
      "CA Stipulation and Order for Custody and/or Visitation of Children\n",
      "CA Confidential Request for Special Immigrant Juvenile Findings—Family Law\n",
      "CA Special Immigrant Juvenile Findings\n",
      "CA Confidential Response to Request for Special Immigrant Juvenile Findings\n",
      "CA Request for Hearing and Application to Set Aside Support Order Under Family Code Section 3691\n",
      "CA Responsive Declaration to Application to Set Aside Support Order\n",
      "\n",
      "CA Order After Hearing on Motion to Set Aside Support Order\n",
      "\n",
      "CA Pleading on Joinder—Employees Benefit Plan\n",
      "\n",
      "CA Notice of Motion and Declaration for Joinder\n",
      "\n",
      "CA Request for Joinder of Employee Benefit Plan Order\n",
      "CA Responsive Declaration to Motion for Joinder and Consent Order of Joinder\n",
      "CA Notice of Appearance and Response of Employee Benefit Plan\n",
      "CA Summons (Joinder)\n",
      "\n",
      "CA Application for Expedited Child Support Order\n",
      "\n",
      "CA Response to Application for Expedited Child Support Order and Notice of Hearing\n",
      "\n",
      "CA Expedited Child Support Order\n",
      "\n",
      "CA Notice of Motion and Motion for Simplified Modification of Order for Child, Spousal, or Family Support\n",
      "\n",
      "CA Information Sheet—Simplified Way to Change Child, Spousal, or Family Support\n",
      "\n",
      "CA Responsive Declaration to Motion for Simplified Modification of Order for Child, Spousal, or Family Support\n",
      "\n",
      "CA Information Sheet—How to Oppose a Request to Change Child, Spousal, or Family Support\n",
      "\n",
      "CA Ex Parte Application for Restoration of Former Name After Entry of Judgment and Order\n",
      "CA Request for Production of an Income and Expense Declaration After Judgment\n",
      "\n",
      "CA Request for Income and Benefit Information From Employer\n",
      "\n",
      "CA Notice of Activation of Military Service and Deployment and Request to Modify a Support Order\n",
      "CA Order for Child Support Security Deposit and Evidence of Deposit\n",
      "\n",
      "CA Application for Disbursement and Order for Disbursement From Child Support Security Deposit\n",
      "\n",
      "CA Order to Show Cause and Affidavit for Contempt\n",
      "\n",
      "CA Affidavit of Facts Constituting Contempt (Financial and Injunctive Orders)\n",
      "\n",
      "CA Affidavit of Facts Constituting Contempt (Domestic Violence/Custody and Visitation)\n",
      "\n",
      "CA Findings and Order Regarding Contempt (Domestic Violence —Uniform Parentage—Governmental)\n",
      "\n",
      "CA Declaration of Payment History (Governmental—Uniform Parentage Act)\n",
      "\n",
      "CA Payment History Attachment (Governmental—Uniform Parentage Act)\n",
      "\n",
      "CA Ex Parte Application to Issue, Modify, or Terminate an Earnings Assignment Order\n",
      "CA Earnings Assignment Order for Spousal or Partner Support\n",
      "CA Statement for Registration of California Support Order\n",
      "CA Request for Hearing Regarding Registration of California Support Order (Family Law-Governmental)\n",
      "CA Request for Hearing Regarding Earnings Assignment (Governmental—UIFSA)\n",
      "CA Stay of Service of Earnings Assignment and Order\n",
      "\n",
      "CA Qualified Domestic Relations Order for Support (Earnings Assignment Order for Support)\n",
      "\n",
      "CA Attachment to Qualified Domestic Relations Order for Support (Earnings Assignment Order for Support)\n",
      "CA Application And Order For Health Insurance Coverage\n",
      "CA Employer's Health Insurance Return\n",
      "\n",
      "CA Request and Notice of Hearing Regarding Health Insurance Assignment\n",
      "CA Information Sheet and Instructions for Request and Notice of Hearing Regarding Health Insurance Assignment\n",
      "\n",
      "CA Abstract of Support Judgment\n",
      "CA Notice of Delinquency\n",
      "\n",
      "CA Application to Determine Arrears\n",
      "CA Summons (UIFSA)\n",
      "CA Response to Uniform Support Petition (UIFSA)\n",
      "CA Judgment Regarding Parental Obligations (UIFSA)\n"
     ]
    },
    {
     "name": "stderr",
     "output_type": "stream",
     "text": [
      "/Users/davidcolarusso/opt/anaconda3/lib/python3.8/site-packages/sklearn/cluster/_affinity_propagation.py:246: ConvergenceWarning: Affinity propagation did not converge, this model will not have any cluster centers.\n",
      "  warnings.warn(\"Affinity propagation did not converge, this model \"\n",
      "/Users/davidcolarusso/opt/anaconda3/lib/python3.8/site-packages/sklearn/cluster/_affinity_propagation.py:460: ConvergenceWarning: This model does not have any cluster centers because affinity propagation did not converge. Labeling every sample as '-1'.\n",
      "  warnings.warn(\"This model does not have any cluster centers \"\n"
     ]
    },
    {
     "name": "stdout",
     "output_type": "stream",
     "text": [
      "CA Ex Parte Application for Transfer and Order (UIFSA)\n",
      "CA Notice of Registration of Out-of-State Support Order\n",
      "CA Request for Hearing Regarding Registration of Out-Of-State Support Order\n",
      "CA Registration of Out-of-State Custody Order\n",
      "CA Request for Hearing Regarding Registration of Out-of-State Custody Decree\n",
      "CA UIFSA Child Support Order Jurisdictional Attachment\n",
      "CA Notice of Registration of an International Hague Convention Support Order\n",
      "CA Request for Hearing Regarding Registration of an International Hague Convention Support Order\n",
      "CA Summons and Complaint or Supplemental Complaint Regarding Parental Obligations (Governmental)\n",
      "CA Notice and Acknowledgment of Receipt\n",
      "CA Answer to Complaint or Supplemental Complaint Regarding Parental Obligations (Governmental)\n",
      "CA Information Sheet for Service of Process\n"
     ]
    },
    {
     "name": "stderr",
     "output_type": "stream",
     "text": [
      "/Users/davidcolarusso/opt/anaconda3/lib/python3.8/site-packages/sklearn/cluster/_affinity_propagation.py:136: UserWarning: All samples have mutually equal similarities. Returning arbitrary cluster center(s).\n",
      "  warnings.warn(\"All samples have mutually equal similarities. \"\n"
     ]
    },
    {
     "name": "stdout",
     "output_type": "stream",
     "text": [
      "CA Stipulation for Judgment or Supplemental Judgment Regarding Parental Obligations and Judgment (Governmental)\n",
      "CA Declaration for Amended Proposed Judgment (Governmental)\n",
      "\n",
      "CA Request for Dismissal (Governmental, UIFSA)\n",
      "CA Request to Enter Default Judgment (Governmental)\n",
      "CA Stipulation and Order (Governmental)\n",
      "CA Stipulation and Order Waiving Unassigned Arrears (Governmental)\n",
      "CA Order for Genetic (Parentage) Testing\n",
      "CA Judgment Regarding Parental Obligations (Governmental)\n",
      "CA Notice Regarding Payment of Support (Governmental)\n",
      "CA Notice of Change of Responsibility for Managing Child Support Case (Governmental)\n",
      "CA Notice of Entry of Judgment and Proof of Service by Mail (Governmental)\n",
      "CA Notice and Motion to Cancel (Set Aside) Support Order Based on Presumed Income\n",
      "CA Information Sheet for Notice and Motion to Cancel (Set Aside) Support Order Based on Presumed Income\n"
     ]
    },
    {
     "name": "stderr",
     "output_type": "stream",
     "text": [
      "/Users/davidcolarusso/opt/anaconda3/lib/python3.8/site-packages/sklearn/cluster/_affinity_propagation.py:136: UserWarning: All samples have mutually equal similarities. Returning arbitrary cluster center(s).\n",
      "  warnings.warn(\"All samples have mutually equal similarities. \"\n"
     ]
    },
    {
     "name": "stdout",
     "output_type": "stream",
     "text": [
      "CA Declaration of Obligor's Income During Judgment Period—Presumed Income Set-Aside Request\n",
      "CA Notice to Local Child Support Agency of Intent to Take Independent Action to Enforce Support Order (Governmental)\n",
      "CA Response of Local Child Support Agency to Notice of Intent to Take Independent Action to Enforce Support Order (Governmental)\n",
      "CA Statement for Registration of California Support Order (Governmental)\n",
      "CA Notice of Registration of California Support Order (Governmental)\n",
      "CA Ex Parte Motion by Local Child Support Agency and Declaration for Joinder of Other Parent (Governmental)\n",
      "CA Notice of Motion and Declaration for Joinder of Other Parent in Governmental Action\n",
      "\n",
      "CA Information Sheet for Notice of Motion and Declaration for Joinder of Other Parent in Governmental Action\n",
      "CA Responsive Declaration to Motion for Joinder of Other Parent—Consent Order of Joinder\n"
     ]
    },
    {
     "name": "stderr",
     "output_type": "stream",
     "text": [
      "/Users/davidcolarusso/opt/anaconda3/lib/python3.8/site-packages/sklearn/cluster/_affinity_propagation.py:136: UserWarning: All samples have mutually equal similarities. Returning arbitrary cluster center(s).\n",
      "  warnings.warn(\"All samples have mutually equal similarities. \"\n"
     ]
    },
    {
     "name": "stdout",
     "output_type": "stream",
     "text": [
      "CA Information Sheet for Responsive Declaration to Motion for Joinder of Other Parent—Consent Order of Joinder\n"
     ]
    },
    {
     "name": "stderr",
     "output_type": "stream",
     "text": [
      "/Users/davidcolarusso/opt/anaconda3/lib/python3.8/site-packages/sklearn/cluster/_affinity_propagation.py:136: UserWarning: All samples have mutually equal similarities. Returning arbitrary cluster center(s).\n",
      "  warnings.warn(\"All samples have mutually equal similarities. \"\n"
     ]
    },
    {
     "name": "stdout",
     "output_type": "stream",
     "text": [
      "CA Stipulation and Order for Joinder of Other Parent (Governmental)\n",
      "CA Findings and Recommendation of Commissioner (Governmental)\n"
     ]
    },
    {
     "name": "stderr",
     "output_type": "stream",
     "text": [
      "/Users/davidcolarusso/opt/anaconda3/lib/python3.8/site-packages/sklearn/cluster/_affinity_propagation.py:246: ConvergenceWarning: Affinity propagation did not converge, this model will not have any cluster centers.\n",
      "  warnings.warn(\"Affinity propagation did not converge, this model \"\n",
      "/Users/davidcolarusso/opt/anaconda3/lib/python3.8/site-packages/sklearn/cluster/_affinity_propagation.py:460: ConvergenceWarning: This model does not have any cluster centers because affinity propagation did not converge. Labeling every sample as '-1'.\n",
      "  warnings.warn(\"This model does not have any cluster centers \"\n"
     ]
    },
    {
     "name": "stdout",
     "output_type": "stream",
     "text": [
      "CA Notice of Objection (Governmental)\n",
      "CA Review of Commissioner's Findings of Fact and Recommendation (Governmental)\n",
      "CA Notice of Motion for Judicial Review of License Denial (Governmental)\n",
      "CA Order After Judicial Review of License Denial (Governmental)\n",
      "CA Request for Determination of Support Arrears (Governmental)\n",
      "CA Information Sheet: Request for Determination of Support Arrears (Governmental)\n",
      "CA Notice of Opposition and Notice of Motion on Claim of Exemption\n",
      "CA Order Determining Claim of Exemption or Third-Party Claim (Governmental)\n",
      "\n",
      "CA Request for Telephone Appearance (Governmental)\n",
      "CA Information Sheet—Request for Telephone Appearance (Governmental)\n",
      "\n",
      "CA Notice of Motion\n",
      "CA Clerk Calendar Cover Sheet (For Court Clerk Use Only)\n",
      "CA Order to Show Cause (Governmental)\n",
      "CA Request for Order and Supporting Declaration (Governmental)\n",
      "CA Response to Governmental Notice of Motion or Order to Show Cause\n",
      "\n",
      "CA Proof of Service by Mail (Governmental)\n",
      "CA Order After Hearing (Governmental)\n",
      "CA Short Form Order After Hearing (Governmental)\n",
      "CA Minutes and Order or Judgment (Governmental)\n",
      "CA Guideline Findings Attachment (Governmental)\n",
      "\n",
      "CA Advisement and Waiver of Rights for Stipulation (Governmental)\n",
      "CA Declaration for Default or Uncontested Judgment (Governmental)\n",
      "CA Joint Petition for Summary Dissolution\n",
      "CA Summary Dissolution Information\n",
      "CA Request for Judgment, Judgment of Dissolution of Marriage, and Notice of Entry of Judgment\n",
      "CA Judgment of Dissolution and Notice of Entry of Judgment\n",
      "CA Notice of Revocation of Joint Petition for Summary Dissolution\n",
      "CA Request of Minor to Marry or Establish a Domestic Partnership\n",
      "CA Consent for Minor to Marry or Establish a Domestic Partnership\n",
      "CA Order and Notices to Minor on Request to Marry or Establish a Domestic Partnership\n",
      "CA Notice of Consolidation\n",
      "CA Application and Order for Appointment of Guardian Ad Litem of Minor—Family Law\n",
      "CA Office of the Family Law Facilitator Disclosure\n",
      "CA Family Law Information Center Disclosure\n",
      "CA Notice of Limited Scope Representation\n",
      "CA Notice of Completion of Limited Scope Representation\n",
      "CA Information for Client About Notice of Completion of Limited Scope Representation\n",
      "CA Objection to Application to Be Relieved as Counsel Upon Completion of Limited Scope Representation\n",
      "CA Response to Objection to Proposed Notice of Completion of Limited Scope Representation\n",
      "CA Order on Completion of Limited Scope Representation\n",
      "CA Notice of Withdrawal of Attorney of Record\n",
      "\n",
      "CA Request and Declaration for Final Judgment of Dissolution of Marriage\n",
      "CA Application for Order for Publication or Posting\n",
      "CA Order for Publication or Posting\n",
      "CA Proof of Service by Posting\n",
      "CA Request to Waive Court Fees\n",
      "CA Request to Waive Court Fees (Ward or Conservatee)\n",
      "CA Information Sheet on Waiver of Superior Court Fees and Costs\n",
      "CA Request to Waive Additional Court Fees (Superior Court)\n",
      "CA Request to Waive Additional Court Fees (Superior Court) (Ward or Conservatee)\n"
     ]
    },
    {
     "name": "stderr",
     "output_type": "stream",
     "text": [
      "/Users/davidcolarusso/opt/anaconda3/lib/python3.8/site-packages/sklearn/cluster/_affinity_propagation.py:246: ConvergenceWarning: Affinity propagation did not converge, this model will not have any cluster centers.\n",
      "  warnings.warn(\"Affinity propagation did not converge, this model \"\n",
      "/Users/davidcolarusso/opt/anaconda3/lib/python3.8/site-packages/sklearn/cluster/_affinity_propagation.py:460: ConvergenceWarning: This model does not have any cluster centers because affinity propagation did not converge. Labeling every sample as '-1'.\n",
      "  warnings.warn(\"This model does not have any cluster centers \"\n"
     ]
    },
    {
     "name": "stdout",
     "output_type": "stream",
     "text": [
      "CA Order on Court Fee Waiver (Superior Court)\n",
      "CA Order on Court Fee Waiver (Superior Court) (Ward or Conservatee)\n"
     ]
    },
    {
     "name": "stderr",
     "output_type": "stream",
     "text": [
      "/Users/davidcolarusso/opt/anaconda3/lib/python3.8/site-packages/sklearn/cluster/_affinity_propagation.py:246: ConvergenceWarning: Affinity propagation did not converge, this model will not have any cluster centers.\n",
      "  warnings.warn(\"Affinity propagation did not converge, this model \"\n",
      "/Users/davidcolarusso/opt/anaconda3/lib/python3.8/site-packages/sklearn/cluster/_affinity_propagation.py:460: ConvergenceWarning: This model does not have any cluster centers because affinity propagation did not converge. Labeling every sample as '-1'.\n",
      "  warnings.warn(\"This model does not have any cluster centers \"\n"
     ]
    },
    {
     "name": "stdout",
     "output_type": "stream",
     "text": [
      "CA Notice: Waiver of Court Fees (Superior Court)\n",
      "CA Notice: Waiver of Court Fees (Superior Court) (Ward or Conservatee)\n"
     ]
    },
    {
     "name": "stderr",
     "output_type": "stream",
     "text": [
      "/Users/davidcolarusso/opt/anaconda3/lib/python3.8/site-packages/sklearn/cluster/_affinity_propagation.py:246: ConvergenceWarning: Affinity propagation did not converge, this model will not have any cluster centers.\n",
      "  warnings.warn(\"Affinity propagation did not converge, this model \"\n",
      "/Users/davidcolarusso/opt/anaconda3/lib/python3.8/site-packages/sklearn/cluster/_affinity_propagation.py:460: ConvergenceWarning: This model does not have any cluster centers because affinity propagation did not converge. Labeling every sample as '-1'.\n",
      "  warnings.warn(\"This model does not have any cluster centers \"\n"
     ]
    },
    {
     "name": "stdout",
     "output_type": "stream",
     "text": [
      "CA Request for Hearing About Court Fee Waiver Order (Superior Court)\n",
      "CA Request for Hearing About Court Fee Waiver Order (Superior Court) (Ward or Conservatee)\n",
      "CA Notice on Hearing About Court Fees\n",
      "CA Notice on Hearing About Court Fees (Ward or Conservatee)\n",
      "CA Order on Court Fee Waiver After Hearing (Superior Court)\n"
     ]
    },
    {
     "name": "stderr",
     "output_type": "stream",
     "text": [
      "/Users/davidcolarusso/opt/anaconda3/lib/python3.8/site-packages/sklearn/cluster/_affinity_propagation.py:246: ConvergenceWarning: Affinity propagation did not converge, this model will not have any cluster centers.\n",
      "  warnings.warn(\"Affinity propagation did not converge, this model \"\n",
      "/Users/davidcolarusso/opt/anaconda3/lib/python3.8/site-packages/sklearn/cluster/_affinity_propagation.py:460: ConvergenceWarning: This model does not have any cluster centers because affinity propagation did not converge. Labeling every sample as '-1'.\n",
      "  warnings.warn(\"This model does not have any cluster centers \"\n"
     ]
    },
    {
     "name": "stdout",
     "output_type": "stream",
     "text": [
      "CA Order on Court Fee Waiver After Hearing (Superior Court) (Ward or Conservatee)\n"
     ]
    },
    {
     "name": "stderr",
     "output_type": "stream",
     "text": [
      "/Users/davidcolarusso/opt/anaconda3/lib/python3.8/site-packages/sklearn/cluster/_affinity_propagation.py:246: ConvergenceWarning: Affinity propagation did not converge, this model will not have any cluster centers.\n",
      "  warnings.warn(\"Affinity propagation did not converge, this model \"\n",
      "/Users/davidcolarusso/opt/anaconda3/lib/python3.8/site-packages/sklearn/cluster/_affinity_propagation.py:460: ConvergenceWarning: This model does not have any cluster centers because affinity propagation did not converge. Labeling every sample as '-1'.\n",
      "  warnings.warn(\"This model does not have any cluster centers \"\n"
     ]
    },
    {
     "name": "stdout",
     "output_type": "stream",
     "text": [
      "CA Notice to Court of Improved Financial Situation or Settlement\n",
      "CA Notice to Court of Improved Financial Situation or Settlement (Ward or Conservatee\n",
      "CA Notice to Appear for Reconsideration of Fee Waiver\n",
      "CA Notice to Appear for Reconsideration of Fee Waiver (Ward or Conservatee)\n",
      "CA Order on Court Fee Waiver After Reconsideration Hearing (Superior Court)\n",
      "CA Order on Court Fee Waiver After Reconsideration Hearing (Superior Court) (Ward or Conservatee)\n",
      "CA Information Sheet on Waiver of Appellate Court Fees (Supreme Court, Court of Appeal, Appellate Division)\n",
      "CA Order on Court Fee Waiver (Court of Appeal or Supreme Court)\n",
      "CA Order on Court Fee Waiver (Court of Appeal or Supreme Court) (Ward or Conservatee)\n",
      "CA Request for Court Reporter by Party with Fee Waiver\n",
      "CA Application for Appointment of Counsel\n",
      "CA Order Appointing Legal Counsel\n",
      "CA Certification of Attorney Qualifications\n",
      "CA Notice of Hearing on Petition to Determine Claim to Property\n",
      "CA Notice of Hearing—Guardianship or Conservatorship\n",
      "CA Clerk's Certificate of Posting Notice of Hearing—Guardianship or Conservatorship\n",
      "CA Attachment to Notice of Hearing Proof of Service by Mail\n",
      "\n",
      "CA Proof of Personal Service of Notice of Hearing—Guardianship or Conservatorship\n",
      "CA Attachment to Notice of Hearing Proof of Personal Service\n",
      "CA Order Dispensing with Notice\n",
      "CA Order Prescribing Notice\n",
      "CA Request for Special Notice\n",
      "CA Inventory and Appraisal\n",
      "CA Inventory and Appraisal Attachment\n",
      "CA Notice of Filing of Inventory and Appraisal and How to Object to the Inventory or the Appraised Value of Property\n",
      "CA Attachment to Notice of Filing of Inventory and Appraisal and How to Object to the Inventory or the Appraised Value of Property\n",
      "CA Objections to Inventory and Appraisal of Conservator or Guardian\n",
      "CA Notice of Taking Possession or Control of An Asset of Minor or Conservatee\n",
      "CA Notice of Opening or Changing a Guardianship or Conservatorship Account or Safe Deposit Box\n",
      "CA Report of Sale and Petition for Order Confirming Sale of Real Property\n",
      "CA Order Confirming Sale of Real Property\n",
      "CA Ex Parte Petition for Authority to Sell Securities and Order\n",
      "CA Ex Parte Petition for Approval of Sale of Personal Property and Order\n",
      "CA Pre-Move Notice of Proposed Change of Personal Residence of Conservatee or Ward\n",
      "CA Attachment to Pre-Move Notice of Proposed Change of Personal Residence of Conservatee or Ward\n",
      "CA Change of Residence Notice\n",
      "CA Attachment to Post-Move Notice of Change of Residence of Conservatee or Ward\n",
      "CA Petition to Fix Residence Outside the State of California\n",
      "CA Order Fixing Residence Outside the State of California\n",
      "\n",
      "CA Petition for Appointment of Guardian Ad Litem—Probate\n",
      "CA Order Appointing Guardian Ad Litem—Probate\n",
      "CA Petition for Appointment of Temporary Guardian\n",
      "CA Petition for Appointment of Temporary Guardian of the Person\n",
      "CA Petition For Appointment of Temporary Conservator\n",
      "CA Ex Parte Application for Good Cause Exception to Notice of Hearing on Petition for Appointment of Temporary Conservator\n",
      "CA Declaration in Support of Ex Parte Application for Good Cause Exception to Notice of Hearing on Petition for Appointment of Temporary Conservator\n",
      "CA Declaration Continuation Page\n",
      "CA Order on Ex Parte Application for Good Cause Exception to Notice of Hearing on Petition for Appointment of Temporary Conservator\n",
      "CA Declaration Under Uniform Child Custody Jurisdiction and Enforcement Act (UCCJEA)\n",
      "CA Attachment to Declaration Under Uniform Child Custody Jurisdiction and Enforcement Act (UCCJEA)\n",
      "CA Order Appointing Temporary Guardian\n",
      "CA Order Appointing Temporary Conservator\n",
      "CA Letters of Temporary Guardianship or Conservatorship\n",
      "CA Guardianship Pamphlet\n",
      "CA Petition for Appointment of Guardian of Minor\n"
     ]
    },
    {
     "name": "stderr",
     "output_type": "stream",
     "text": [
      "/Users/davidcolarusso/opt/anaconda3/lib/python3.8/site-packages/sklearn/cluster/_affinity_propagation.py:136: UserWarning: All samples have mutually equal similarities. Returning arbitrary cluster center(s).\n",
      "  warnings.warn(\"All samples have mutually equal similarities. \"\n"
     ]
    },
    {
     "name": "stdout",
     "output_type": "stream",
     "text": [
      "CA Professional Fiduciary Attachment to Petition for Appointment of Guardian or Conservator\n",
      "CA Guardianship Petition-Child Information Attachment\n",
      "CA Petition for Appointment of Guardian of the Person\n",
      "CA Petition to Extend Guardianship of the Person\n",
      "CA Consent of Proposed Guardian, Nomination of Guardian, and Consent to Appointment of Guardian and Waiver of Notice\n",
      "CA Confidential Guardian Screening Form\n",
      "CA Petition for Special Immigrant Juvenile Findings\n",
      "CA Special Immigrant Juvenile Findings\n",
      "CA Order Appointing Guardian or Extending Guardianship of the Person\n",
      "CA Duties of Guardian (Probate)\n",
      "CA Letters of Guardianship\n",
      "CA Confidential Guardianship Status Report\n",
      "\n",
      "CA Petition for Termination of Guardianship\n",
      "CA Order Terminating Guardianship\n",
      "CA Petition for Appointment of Probate Conservator\n",
      "CA Professional Fiduciary Attachment to Petition for Appointment of Guardian or Conservator\n",
      "CA Confidential Supplemental Information\n",
      "CA Attachment Requesting Special Orders Regarding Dementia\n",
      "CA Confidential Conservator Screening Form\n",
      "CA Citation for Conservatorship\n",
      "CA Citation—Probate\n",
      "CA Order Appointing Court Investigator\n",
      "CA Order Appointing Court Investigator (Review and Successor Conservator Investigations)\n",
      "CA Order Setting Biennial Review Investigation and Directing Status Report Before Review\n",
      "CA Ex Parte Application for Order Authorizing Completion of Capacity Declaration—HIPAA\n",
      "CA Ex Parte Order Re Completion of Capacity Declaration—HIPAA\n",
      "CA Capacity Declaration—Conservatorship\n",
      "CA Dementia Attachment to Capacity Declaration—Conservatorship\n",
      "CA Ex Parte Order Authorizing Disclosure of (Proposed) Conservatee's Health Information to Court Investigator-HIPAA (Health Insurance Portability and Accountability Act of 1996)\n",
      "CA Order Appointing Probate Conservator\n",
      "CA Notice of Conservatee's Rights\n",
      "CA Attachment to Notice of Conservatee's Rights\n",
      "CA Duties of Conservator and Acknowledgment of Receipt of Handbook for Conservators\n",
      "CA Letters of Conservatorship\n",
      "CA Determination of Conservatee's Appropriate Level of Care\n",
      "CA Conservatorship Registration Cover Sheet and Attestation of Conservatee's Non-Residence in California\n",
      "CA Notice of Intent to Register Conservatorship\n",
      "CA Conservatorship Registrant's Acknowledgment of Receipt of Handbook for Conservators\n",
      "CA Petition for Transfer Orders (California Conservatorship Jurisdiction Act)\n",
      "CA Provisional Order for Transfer (California Conservatorship Jurisdiction Act)\n",
      "CA Final Order Confirming Transfer (California Conservatorship Jurisdiction Act)\n",
      "CA Petition for Orders Accepting Transfer (California Conservatorship Jurisdiction Act)\n",
      "CA Provisional Order Accepting Transfer (California Conservatorship Jurisdiction Act)\n",
      "CA Final Order Accepting Transfer (California Conservatorship Jurisdiction Act)\n",
      "CA Petition for Exclusive Authority to Give Consent for Medical Treatment\n",
      "CA Order Authorizing Conservator to Give Consent for Medical Treatment\n"
     ]
    },
    {
     "name": "stderr",
     "output_type": "stream",
     "text": [
      "/Users/davidcolarusso/opt/anaconda3/lib/python3.8/site-packages/sklearn/cluster/_affinity_propagation.py:246: ConvergenceWarning: Affinity propagation did not converge, this model will not have any cluster centers.\n",
      "  warnings.warn(\"Affinity propagation did not converge, this model \"\n",
      "/Users/davidcolarusso/opt/anaconda3/lib/python3.8/site-packages/sklearn/cluster/_affinity_propagation.py:460: ConvergenceWarning: This model does not have any cluster centers because affinity propagation did not converge. Labeling every sample as '-1'.\n",
      "  warnings.warn(\"This model does not have any cluster centers \"\n"
     ]
    },
    {
     "name": "stdout",
     "output_type": "stream",
     "text": [
      "CA Ex Parte Petition for Final Discharge and Order\n",
      "\n",
      "CA Notice of Conservatee's Death\n",
      "CA Schedule A, Receipts, Dividends—Standard Account\n",
      "CA Schedule A, Receipts, Interest—Standard Account\n",
      "CA Schedule A, Receipts, Pensions, Annuities, and Other Regular Periodic Payments—Standard Account\n",
      "CA Schedule A, Receipts, Rent—Standard Account\n",
      "CA Schedule A, Receipts, Social Security, Veterans' Benefits, Other Public Benefits—Standard Account\n",
      "CA Schedule A, Receipts, Other Receipts—Standard Account\n",
      "CA Schedule A and C, Receipts and Disbursements Worksheet—Standard Account\n",
      "CA Additional Property Received During Period of Account—Standard and Simplified Accounts\n",
      "CA Schedule B, Gains on Sales—Standard and Simplified Accounts\n",
      "CA Schedule C, Disbursements, Conservatee's Caregiver Expenses—Standard Account\n",
      "CA Schedule C, Disbursements, Rental Property Expenses—Standard Account\n",
      "CA Schedule C, Disbursements, Other Expenses—Standard Account\n",
      "CA Schedule C, Disbursements, Conservatee's Residential or Long-Term Care Facility Living Expenses—Standard Account\n",
      "CA Schedule C, Disbursements, Ward's Education Expenses—Standard Account\n",
      "CA Schedule C, Disbursements, Fiduciary and Attorney Fees—Standard Account\n",
      "CA Schedule C, Disbursements, General Administration Expenses—Standard Account\n",
      "CA Schedule C, Disbursements, Investment Expenses—Standard Account\n",
      "CA Schedule C, Disbursements, Living Expenses—Standard Account\n",
      "CA Schedule C, Disbursements, Medical Expenses—Standard Account\n",
      "CA Schedule C, Disbursements, Property Sale Expenses—Standard Account\n",
      "CA Schedule D, Losses on Sales—Standard and Simplified Accounts\n",
      "CA Distributions to Conservatee or Ward—Standard and Simplified Accounts\n",
      "CA Cash Assets on Hand at End of Account Period—Standard and Simplified Accounts\n",
      "CA Non-Cash Assets on Hand at End of Account Period—Standard and Simplified Accounts\n",
      "CA Schedule F, Changes in Form of Assets—Standard and Simplified Accounts\n",
      "CA Schedule G, Liabilities at End of Account Period—Standard and Simplified Accounts\n",
      "CA Net Income From a Trade or Business—Standard Account\n",
      "CA Net Loss From a Trade or Business—Standard Account\n",
      "CA Other Charges—Standard and Simplified Accounts\n",
      "CA Other Credits—Standard and Simplified Accounts\n",
      "CA Cash Assets on Hand at Beginning of Account Period—Standard and Simplified Accounts\n",
      "CA Non-Cash Assets on Hand at Beginning of Account Period—Standard and Simplified Accounts\n",
      "CA Summary of Account—Standard and Simplified Accounts\n",
      "CA Schedule A, Receipts—Simplified Account\n",
      "CA Additional Property Received During Period of Account—Standard and Simplified Accounts\n",
      "CA Schedule B, Gains on Sales—Standard and Simplified Accounts\n",
      "CA Schedule C, Disbursements—Simplified Account\n",
      "CA Schedule D, Losses on Sales—Standard and Simplified Accounts\n",
      "CA Distributions to Conservatee or Ward—Standard and Simplified Accounts\n",
      "CA Cash Assets on Hand at End of Account Period—Standard and Simplified Accounts\n",
      "CA Non-Cash Assets on Hand at End of Account Period —Standard and Simplified Accounts\n",
      "CA Schedule F, Changes in Form of Assets—Standard and Simplified Accounts\n",
      "CA Schedule G, Liabilities at End of Account Period—Standard and Simplified Accounts\n",
      "CA Other Charges—Standard and Simplified Accounts\n",
      "CA Other Credits—Standard and Simplified Accounts\n",
      "CA Cash Assets on Hand at Beginning of Account Period—Standard and Simplified Accounts\n",
      "CA Non-Cash Assets on Hand at Beginning of Account Period—Standard and Simplified Accounts\n",
      "CA Summary of Account—Standard and Simplified Accounts\n",
      "CA Request and Order for Waiver of Accounting\n",
      "CA Forms You Need to Ask the Court to Appoint a Guardian of the Person\n",
      "\n",
      "CA What Is Proof of Service in a Guardianship?\n",
      "\n",
      "CA Advisory Notice to Defendant\n",
      "\n",
      "CA Notice of Court Hearing\n",
      "CA Response to Gun Violence Emergency Protective Order\n",
      "CA How Can I Respond to a Gun Violence Emergency Protective Order? \n",
      "CA Proof of Service by Mail (Gun Violence Prevention)\n",
      "CA Gun Violence Restraining Order After Hearing on EPO-002 (CLETS-HGV) \n",
      "CA Petition for Gun Violence Restraining Order\n",
      "CA Can a Gun Violence Restraining Order Help Me?\n",
      "CA Notice of Court Hearing\n",
      "CA Temporary Gun Violence Restraining Order (CLETS-TGV)\n",
      "CA Request to Continue Court Hearing for Gun Violence Restraining Order (EPO-002 or Temporary Restraining Order) (Gun Violence Prevention)\n",
      "CA Order on Request to Continue Hearing (EPO-002 or Temporary Restraining Order) (CLETS-EGV or CLETS-TGV) (Gun Violence Prevention)\n"
     ]
    },
    {
     "name": "stderr",
     "output_type": "stream",
     "text": [
      "/Users/davidcolarusso/opt/anaconda3/lib/python3.8/site-packages/sklearn/cluster/_affinity_propagation.py:246: ConvergenceWarning: Affinity propagation did not converge, this model will not have any cluster centers.\n",
      "  warnings.warn(\"Affinity propagation did not converge, this model \"\n",
      "/Users/davidcolarusso/opt/anaconda3/lib/python3.8/site-packages/sklearn/cluster/_affinity_propagation.py:460: ConvergenceWarning: This model does not have any cluster centers because affinity propagation did not converge. Labeling every sample as '-1'.\n",
      "  warnings.warn(\"This model does not have any cluster centers \"\n"
     ]
    },
    {
     "name": "stdout",
     "output_type": "stream",
     "text": [
      "CA Response to Petition for Gun Violence Restraining Order\n",
      "CA How Can I Respond to a Petition for a Gun Violence Restraining Order?\n",
      "CA Consent to Gun Violence Restraining Order and Surrender of Firearms\n",
      "CA Gun Violence Restraining Order After Hearing or Consent to Gun Violence Restraining Order (CLETS-OGV)\n",
      "CA Proof of Personal Service\n",
      "CA What Is \"Proof of Personal Service\"?\n",
      "CA Proof of Service by Mail\n",
      "CA Request to Terminate Gun Violence Restraining Order\n",
      "CA Notice of Hearing on Request to Terminate Gun Violence Restraining Order\n",
      "CA Response to Request to Terminate Gun Violence Restraining Order\n",
      "CA Order on Request to Terminate Gun Violence Restraining Order\n",
      "CA Request to Renew Gun Violence Restraining Order\n",
      "CA Notice of Hearing on Request to Renew Gun Violence Restraining Order\n",
      "CA Response to Request to Renew Gun Violence Restraining Order\n",
      "CA Order on Request to Renew Gun Violence Restraining Order\n",
      "CA Proof of Firearms, Ammunition, and Magazines Turned In, Sold, or Stored\n",
      "CA How Do I Turn In, Sell, or Store My Firearms, Ammunition, and Magazines?\n",
      "CA Petition for Writ of Habeas Corpus\n",
      "CA Petition for Writ of Habeas Corpus—LPS Act (Mental Health)\n",
      "CA Petition for Writ Of Habeas Corpus—Penal Commitment (Mental Health)\n",
      "CA Notice and Request for Ruling\n",
      "CA Declaration of Counsel Re Minimum Qualifications for Appointment in Death Penalty-Related Habeas Corpus Proceedings\n",
      "CA Order Appointing Counsel in Death Penalty-Related Habeas Corpus Proceedings\n",
      "CA Petitioner's Notice of Appeal-Death Penalty-Related Habeas Corpus Decision\n",
      "CA Information Sheet on Indian Child Inquiry Attachments and Notice of Child Custody Proceeding for Indian Child\n",
      "CA Indian Child Inquiry Attachment\n",
      "CA Parental Notification of Indian Status\n",
      "CA Notice of Child Custody Proceeding for Indian Child (Indian Child Welfare Act)\n",
      "CA Attachment to Notice of Child Custody Proceeding for Indian Child\n",
      "CA Notice of Designation of Tribal Representative in a Court Proceeding Involving an Indian Child\n",
      "CA Notice of Petition and Petition to Transfer Case Involving an Indian Child to Tribal Jurisdiction\n",
      "CA Order on Petition to Transfer Case Involving an Indian Child to Tribal Jurisdiction\n",
      "CA Request for Ex Parte Hearing to Return Physical Custody of an Indian Child\n",
      "CA Order on Request for Ex Parte Hearing to Return Physical Custody of an Indian Child\n",
      "CA Order After Hearing on Ex Parte Request to Return Physical Custody of an Indian Child\n",
      "CA Tribal Information Form\n",
      "CA Instructions Sheet for Tribal Information Form\n",
      "CA Agreement of Parent or Indian Custodian to Temporary Custody of Indian Child\n",
      "CA Semiannual Report to the Judicial Council on the Use of Noncertified or Nonregistered Interpreters\n",
      "CA Semiannual Report to the Judicial Council on the Use of Nonregistered Interpreters (Attachment to INT-001)\n",
      "CA Procedures to Appoint a Noncertified or Nonregistered Spoken Language Interpreter as Either Provisionally Qualified or Temporary\n",
      "CA Qualifications of a Noncertified or Nonregistered Spoken Language Interpreter\n",
      "CA Certification of Unavailability of Certified or Registered Interpreter\n",
      "CA Temporary Use of a Noncertified or Nonregistered Spoken Language Interpreter\n",
      "CA Foreign Language Interpreter's Duties—Civil And Small Claims (For Noncertified And Nonregistered Interpreters)\n",
      "\n",
      "CA Request for Interpreter (Civil)\n",
      "CA Judgment\n",
      "CA Juror Questionnaire for Civil Cases\n",
      "CA Juror Questionnaire for Criminal Cases/Capital Case Supplement\n",
      "CA Juror Questionnaire for Expedited Jury Trials\n",
      "CA Juror's Motion to Set Aside Sanctions and Order\n",
      "CA What happens if your child is taken from your home?\n",
      "CA Juvenile Justice Court—Information for Parents\n",
      "CA Juvenile Dependency Petition (Version One)\n"
     ]
    },
    {
     "name": "stderr",
     "output_type": "stream",
     "text": [
      "/Users/davidcolarusso/opt/anaconda3/lib/python3.8/site-packages/sklearn/cluster/_affinity_propagation.py:136: UserWarning: All samples have mutually equal similarities. Returning arbitrary cluster center(s).\n",
      "  warnings.warn(\"All samples have mutually equal similarities. \"\n",
      "/Users/davidcolarusso/opt/anaconda3/lib/python3.8/site-packages/sklearn/cluster/_affinity_propagation.py:246: ConvergenceWarning: Affinity propagation did not converge, this model will not have any cluster centers.\n",
      "  warnings.warn(\"Affinity propagation did not converge, this model \"\n",
      "/Users/davidcolarusso/opt/anaconda3/lib/python3.8/site-packages/sklearn/cluster/_affinity_propagation.py:460: ConvergenceWarning: This model does not have any cluster centers because affinity propagation did not converge. Labeling every sample as '-1'.\n",
      "  warnings.warn(\"This model does not have any cluster centers \"\n"
     ]
    },
    {
     "name": "stdout",
     "output_type": "stream",
     "text": [
      "CA Additional Children Attachment—Juvenile Dependency Petition\n",
      "CA Juvenile Dependency Petition (Version Two)\n",
      "CA Serious Physical Harm (§ 300 (a))\n",
      "CA Failure To Protect (§ 300 (b))\n",
      "CA Serious Emotional Damage (§ 300 (c))\n",
      "CA Sexual Abuse (§ 300 (d))\n",
      "CA Severe Physical Abuse (§ 300 (e))\n",
      "CA Caused Another Child's Death Through Abuse or Neglect (§ 300 (f))\n",
      "CA No Provision for Support (§ 300 (g))\n",
      "CA Freed for Adoption (§ 300 (h))\n",
      "CA Cruelty (§ 300 (i))\n",
      "CA Abuse of Sibling (§ 300 (i))\n",
      "CA Paying for Lawyers in Dependency Court—Information for Parents and Guardians\n",
      "CA Order to Appear for Financial Evaluation\n"
     ]
    },
    {
     "name": "stderr",
     "output_type": "stream",
     "text": [
      "/Users/davidcolarusso/opt/anaconda3/lib/python3.8/site-packages/sklearn/cluster/_affinity_propagation.py:136: UserWarning: All samples have mutually equal similarities. Returning arbitrary cluster center(s).\n",
      "  warnings.warn(\"All samples have mutually equal similarities. \"\n"
     ]
    },
    {
     "name": "stdout",
     "output_type": "stream",
     "text": [
      "CA Financial Declaration—Juvenile Dependency\n",
      "CA Recommendation Regarding Ability to Repay Cost of Legal Services\n",
      "CA Response to Recommendation Regarding Ability to Repay Cost of Legal Services\n",
      "CA Order for Repayment of Cost of Legal Services\n",
      "CA Juvenile Dependency—Cost of Appointed Counsel: Repayment Recommendation/Response/Order\n",
      "CA Notification of Mailing Address\n",
      "CA E-Mail Notice of Hearing: Consent, Withdrawal of Consent, Address Change\n"
     ]
    },
    {
     "name": "stderr",
     "output_type": "stream",
     "text": [
      "/Users/davidcolarusso/opt/anaconda3/lib/python3.8/site-packages/sklearn/cluster/_affinity_propagation.py:246: ConvergenceWarning: Affinity propagation did not converge, this model will not have any cluster centers.\n",
      "  warnings.warn(\"Affinity propagation did not converge, this model \"\n",
      "/Users/davidcolarusso/opt/anaconda3/lib/python3.8/site-packages/sklearn/cluster/_affinity_propagation.py:460: ConvergenceWarning: This model does not have any cluster centers because affinity propagation did not converge. Labeling every sample as '-1'.\n",
      "  warnings.warn(\"This model does not have any cluster centers \"\n"
     ]
    },
    {
     "name": "stdout",
     "output_type": "stream",
     "text": [
      "CA Supplemental Petition for More Restrictive Placement (Attachment) (Welf. & Inst. Code, § 387)\n",
      "CA Request to Change Court Order\n",
      "CA Confidential Information (Request to Change Court Order)\n",
      "CA Court Order on Form JV-180, Request to Change Court Order\n",
      "CA Order After Hearing on Form JV-180, Request to Change Court Order\n",
      "CA Child's Information Sheet—Request to Change Court Order (Welf. & Inst. Code, §§ 353.1, 388)\n",
      "CA Waiver of Rights—Juvenile Dependency\n",
      "CA Waiver of Reunification Services\n",
      "CA Custody Order—Juvenile—Final Judgment\n",
      "CA Visitation Order—Juvenile\n"
     ]
    },
    {
     "name": "stderr",
     "output_type": "stream",
     "text": [
      "/Users/davidcolarusso/opt/anaconda3/lib/python3.8/site-packages/sklearn/cluster/_affinity_propagation.py:246: ConvergenceWarning: Affinity propagation did not converge, this model will not have any cluster centers.\n",
      "  warnings.warn(\"Affinity propagation did not converge, this model \"\n",
      "/Users/davidcolarusso/opt/anaconda3/lib/python3.8/site-packages/sklearn/cluster/_affinity_propagation.py:460: ConvergenceWarning: This model does not have any cluster centers because affinity propagation did not converge. Labeling every sample as '-1'.\n",
      "  warnings.warn(\"This model does not have any cluster centers \"\n"
     ]
    },
    {
     "name": "stdout",
     "output_type": "stream",
     "text": [
      "CA Reasons for No or Supervised Visitation—Juvenile\n",
      "CA Application to Commence Proceedings by Affidavit and Decision by Social Worker (Welf. & Inst. Code, § 329)\n",
      "CA Application to Review Decision by Social Worker Not to Commence Proceedings\n",
      "CA Request for Hearing on Waiver of Presumptive Transfer\n",
      "CA Notice of and Order on Request for Hearing on Waiver of Presumptive Transfer\n",
      "CA Instructions for Requesting a Hearing to Review Waiver of Presumptive Transfer of Specialty Mental Health Services\n",
      "CA Order After Hearing on Waiver of Presumptive Transfer\n"
     ]
    },
    {
     "name": "stderr",
     "output_type": "stream",
     "text": [
      "/Users/davidcolarusso/opt/anaconda3/lib/python3.8/site-packages/sklearn/cluster/_affinity_propagation.py:246: ConvergenceWarning: Affinity propagation did not converge, this model will not have any cluster centers.\n",
      "  warnings.warn(\"Affinity propagation did not converge, this model \"\n",
      "/Users/davidcolarusso/opt/anaconda3/lib/python3.8/site-packages/sklearn/cluster/_affinity_propagation.py:460: ConvergenceWarning: This model does not have any cluster centers because affinity propagation did not converge. Labeling every sample as '-1'.\n",
      "  warnings.warn(\"This model does not have any cluster centers \"\n"
     ]
    },
    {
     "name": "stdout",
     "output_type": "stream",
     "text": [
      "CA Order Delegating Judicial Authority Over Psychotropic Medication\n",
      "CA Guide to Psychotropic Medication Forms\n",
      "CA Child's Opinion About the Medicine\n"
     ]
    },
    {
     "name": "stderr",
     "output_type": "stream",
     "text": [
      "/Users/davidcolarusso/opt/anaconda3/lib/python3.8/site-packages/sklearn/cluster/_affinity_propagation.py:246: ConvergenceWarning: Affinity propagation did not converge, this model will not have any cluster centers.\n",
      "  warnings.warn(\"Affinity propagation did not converge, this model \"\n",
      "/Users/davidcolarusso/opt/anaconda3/lib/python3.8/site-packages/sklearn/cluster/_affinity_propagation.py:460: ConvergenceWarning: This model does not have any cluster centers because affinity propagation did not converge. Labeling every sample as '-1'.\n",
      "  warnings.warn(\"This model does not have any cluster centers \"\n"
     ]
    },
    {
     "name": "stdout",
     "output_type": "stream",
     "text": [
      "CA Statement About Medicine Prescribed\n",
      "CA Application For Psychotropic Medication\n"
     ]
    },
    {
     "name": "stderr",
     "output_type": "stream",
     "text": [
      "/Users/davidcolarusso/opt/anaconda3/lib/python3.8/site-packages/sklearn/cluster/_affinity_propagation.py:246: ConvergenceWarning: Affinity propagation did not converge, this model will not have any cluster centers.\n",
      "  warnings.warn(\"Affinity propagation did not converge, this model \"\n",
      "/Users/davidcolarusso/opt/anaconda3/lib/python3.8/site-packages/sklearn/cluster/_affinity_propagation.py:460: ConvergenceWarning: This model does not have any cluster centers because affinity propagation did not converge. Labeling every sample as '-1'.\n",
      "  warnings.warn(\"This model does not have any cluster centers \"\n"
     ]
    },
    {
     "name": "stdout",
     "output_type": "stream",
     "text": [
      "CA Physician's Statement—Attachment\n"
     ]
    },
    {
     "name": "stderr",
     "output_type": "stream",
     "text": [
      "/Users/davidcolarusso/opt/anaconda3/lib/python3.8/site-packages/sklearn/cluster/_affinity_propagation.py:246: ConvergenceWarning: Affinity propagation did not converge, this model will not have any cluster centers.\n",
      "  warnings.warn(\"Affinity propagation did not converge, this model \"\n",
      "/Users/davidcolarusso/opt/anaconda3/lib/python3.8/site-packages/sklearn/cluster/_affinity_propagation.py:460: ConvergenceWarning: This model does not have any cluster centers because affinity propagation did not converge. Labeling every sample as '-1'.\n",
      "  warnings.warn(\"This model does not have any cluster centers \"\n"
     ]
    },
    {
     "name": "stdout",
     "output_type": "stream",
     "text": [
      "CA Physician's Request to Continue Medication—Attachment\n"
     ]
    },
    {
     "name": "stderr",
     "output_type": "stream",
     "text": [
      "/Users/davidcolarusso/opt/anaconda3/lib/python3.8/site-packages/sklearn/cluster/_affinity_propagation.py:246: ConvergenceWarning: Affinity propagation did not converge, this model will not have any cluster centers.\n",
      "  warnings.warn(\"Affinity propagation did not converge, this model \"\n",
      "/Users/davidcolarusso/opt/anaconda3/lib/python3.8/site-packages/sklearn/cluster/_affinity_propagation.py:460: ConvergenceWarning: This model does not have any cluster centers because affinity propagation did not converge. Labeling every sample as '-1'.\n",
      "  warnings.warn(\"This model does not have any cluster centers \"\n"
     ]
    },
    {
     "name": "stdout",
     "output_type": "stream",
     "text": [
      "CA Proof of Notice of Application\n"
     ]
    },
    {
     "name": "stderr",
     "output_type": "stream",
     "text": [
      "/Users/davidcolarusso/opt/anaconda3/lib/python3.8/site-packages/sklearn/cluster/_affinity_propagation.py:246: ConvergenceWarning: Affinity propagation did not converge, this model will not have any cluster centers.\n",
      "  warnings.warn(\"Affinity propagation did not converge, this model \"\n",
      "/Users/davidcolarusso/opt/anaconda3/lib/python3.8/site-packages/sklearn/cluster/_affinity_propagation.py:460: ConvergenceWarning: This model does not have any cluster centers because affinity propagation did not converge. Labeling every sample as '-1'.\n",
      "  warnings.warn(\"This model does not have any cluster centers \"\n"
     ]
    },
    {
     "name": "stdout",
     "output_type": "stream",
     "text": [
      "CA Input on Application for Psychotropic Medication\n"
     ]
    },
    {
     "name": "stderr",
     "output_type": "stream",
     "text": [
      "/Users/davidcolarusso/opt/anaconda3/lib/python3.8/site-packages/sklearn/cluster/_affinity_propagation.py:246: ConvergenceWarning: Affinity propagation did not converge, this model will not have any cluster centers.\n",
      "  warnings.warn(\"Affinity propagation did not converge, this model \"\n",
      "/Users/davidcolarusso/opt/anaconda3/lib/python3.8/site-packages/sklearn/cluster/_affinity_propagation.py:460: ConvergenceWarning: This model does not have any cluster centers because affinity propagation did not converge. Labeling every sample as '-1'.\n",
      "  warnings.warn(\"This model does not have any cluster centers \"\n"
     ]
    },
    {
     "name": "stdout",
     "output_type": "stream",
     "text": [
      "CA Order on Application for Psychotropic Medication\n",
      "CA County Report on Psychotropic Medication\n",
      "CA Your Child's Health and Education\n"
     ]
    },
    {
     "name": "stderr",
     "output_type": "stream",
     "text": [
      "/Users/davidcolarusso/opt/anaconda3/lib/python3.8/site-packages/sklearn/cluster/_affinity_propagation.py:246: ConvergenceWarning: Affinity propagation did not converge, this model will not have any cluster centers.\n",
      "  warnings.warn(\"Affinity propagation did not converge, this model \"\n",
      "/Users/davidcolarusso/opt/anaconda3/lib/python3.8/site-packages/sklearn/cluster/_affinity_propagation.py:460: ConvergenceWarning: This model does not have any cluster centers because affinity propagation did not converge. Labeling every sample as '-1'.\n",
      "  warnings.warn(\"This model does not have any cluster centers \"\n"
     ]
    },
    {
     "name": "stdout",
     "output_type": "stream",
     "text": [
      "CA Authorization to Release Health and Mental Health Information\n",
      "CA Consent to Release Education Information\n",
      "CA Position on Release of Information to Medical Board of California\n"
     ]
    },
    {
     "name": "stderr",
     "output_type": "stream",
     "text": [
      "/Users/davidcolarusso/opt/anaconda3/lib/python3.8/site-packages/sklearn/cluster/_affinity_propagation.py:246: ConvergenceWarning: Affinity propagation did not converge, this model will not have any cluster centers.\n",
      "  warnings.warn(\"Affinity propagation did not converge, this model \"\n",
      "/Users/davidcolarusso/opt/anaconda3/lib/python3.8/site-packages/sklearn/cluster/_affinity_propagation.py:460: ConvergenceWarning: This model does not have any cluster centers because affinity propagation did not converge. Labeling every sample as '-1'.\n",
      "  warnings.warn(\"This model does not have any cluster centers \"\n"
     ]
    },
    {
     "name": "stdout",
     "output_type": "stream",
     "text": [
      "CA Background on Release of Information to Medical Board of California\n",
      "CA Withdrawal of Release of Information to Medical Board of California\n",
      "CA Placing Agency's Request for Review of Placement in Short-Term Residential Therapeutic Program\n",
      "CA Input on Placement in Short-Term Residential Therapeutic Program\n",
      "CA Proof of Service—Short-Term Residential Therapeutic Program Placement\n",
      "CA Notice of Hearing on Placement in Short-Term Residential Therapeutic Program\n",
      "CA Order on Placement in Short-Term Residential Therapeutic Program\n",
      "CA Request for Restraining Order—Juvenile\n"
     ]
    },
    {
     "name": "stderr",
     "output_type": "stream",
     "text": [
      "/Users/davidcolarusso/opt/anaconda3/lib/python3.8/site-packages/sklearn/cluster/_affinity_propagation.py:246: ConvergenceWarning: Affinity propagation did not converge, this model will not have any cluster centers.\n",
      "  warnings.warn(\"Affinity propagation did not converge, this model \"\n",
      "/Users/davidcolarusso/opt/anaconda3/lib/python3.8/site-packages/sklearn/cluster/_affinity_propagation.py:460: ConvergenceWarning: This model does not have any cluster centers because affinity propagation did not converge. Labeling every sample as '-1'.\n",
      "  warnings.warn(\"This model does not have any cluster centers \"\n"
     ]
    },
    {
     "name": "stdout",
     "output_type": "stream",
     "text": [
      "CA Answer to Request for Restraining Order—Juvenile\n",
      "\n",
      "CA Notice of Hearing and Temporary Restraining Order—Juvenile\n"
     ]
    },
    {
     "name": "stderr",
     "output_type": "stream",
     "text": [
      "/Users/davidcolarusso/opt/anaconda3/lib/python3.8/site-packages/sklearn/cluster/_affinity_propagation.py:246: ConvergenceWarning: Affinity propagation did not converge, this model will not have any cluster centers.\n",
      "  warnings.warn(\"Affinity propagation did not converge, this model \"\n",
      "/Users/davidcolarusso/opt/anaconda3/lib/python3.8/site-packages/sklearn/cluster/_affinity_propagation.py:460: ConvergenceWarning: This model does not have any cluster centers because affinity propagation did not converge. Labeling every sample as '-1'.\n",
      "  warnings.warn(\"This model does not have any cluster centers \"\n"
     ]
    },
    {
     "name": "stdout",
     "output_type": "stream",
     "text": [
      "CA Request and Order to Continue Hearing\n"
     ]
    },
    {
     "name": "stderr",
     "output_type": "stream",
     "text": [
      "/Users/davidcolarusso/opt/anaconda3/lib/python3.8/site-packages/sklearn/cluster/_affinity_propagation.py:246: ConvergenceWarning: Affinity propagation did not converge, this model will not have any cluster centers.\n",
      "  warnings.warn(\"Affinity propagation did not converge, this model \"\n",
      "/Users/davidcolarusso/opt/anaconda3/lib/python3.8/site-packages/sklearn/cluster/_affinity_propagation.py:460: ConvergenceWarning: This model does not have any cluster centers because affinity propagation did not converge. Labeling every sample as '-1'.\n",
      "  warnings.warn(\"This model does not have any cluster centers \"\n"
     ]
    },
    {
     "name": "stdout",
     "output_type": "stream",
     "text": [
      "CA Proof of Firearms Turned In, Sold, or Stored\n",
      "CA How Do I Turn In, Sell, or Store My Firearms?\n",
      "CA Restraining Order—Juvenile (CLETS—JUV)\n"
     ]
    },
    {
     "name": "stderr",
     "output_type": "stream",
     "text": [
      "/Users/davidcolarusso/opt/anaconda3/lib/python3.8/site-packages/sklearn/cluster/_affinity_propagation.py:246: ConvergenceWarning: Affinity propagation did not converge, this model will not have any cluster centers.\n",
      "  warnings.warn(\"Affinity propagation did not converge, this model \"\n",
      "/Users/davidcolarusso/opt/anaconda3/lib/python3.8/site-packages/sklearn/cluster/_affinity_propagation.py:460: ConvergenceWarning: This model does not have any cluster centers because affinity propagation did not converge. Labeling every sample as '-1'.\n",
      "  warnings.warn(\"This model does not have any cluster centers \"\n"
     ]
    },
    {
     "name": "stdout",
     "output_type": "stream",
     "text": [
      "CA Change to Restraining Order After Hearing\n",
      "CA Notice of Review Hearing\n",
      "CA Notice of Hearing—Nonminor\n",
      "CA Proof of service—Nonminor\n"
     ]
    },
    {
     "name": "stderr",
     "output_type": "stream",
     "text": [
      "/Users/davidcolarusso/opt/anaconda3/lib/python3.8/site-packages/sklearn/cluster/_affinity_propagation.py:246: ConvergenceWarning: Affinity propagation did not converge, this model will not have any cluster centers.\n",
      "  warnings.warn(\"Affinity propagation did not converge, this model \"\n",
      "/Users/davidcolarusso/opt/anaconda3/lib/python3.8/site-packages/sklearn/cluster/_affinity_propagation.py:460: ConvergenceWarning: This model does not have any cluster centers because affinity propagation did not converge. Labeling every sample as '-1'.\n",
      "  warnings.warn(\"This model does not have any cluster centers \"\n"
     ]
    },
    {
     "name": "stdout",
     "output_type": "stream",
     "text": [
      "CA Relative Information\n"
     ]
    },
    {
     "name": "stderr",
     "output_type": "stream",
     "text": [
      "/Users/davidcolarusso/opt/anaconda3/lib/python3.8/site-packages/sklearn/cluster/_affinity_propagation.py:246: ConvergenceWarning: Affinity propagation did not converge, this model will not have any cluster centers.\n",
      "  warnings.warn(\"Affinity propagation did not converge, this model \"\n",
      "/Users/davidcolarusso/opt/anaconda3/lib/python3.8/site-packages/sklearn/cluster/_affinity_propagation.py:460: ConvergenceWarning: This model does not have any cluster centers because affinity propagation did not converge. Labeling every sample as '-1'.\n",
      "  warnings.warn(\"This model does not have any cluster centers \"\n"
     ]
    },
    {
     "name": "stdout",
     "output_type": "stream",
     "text": [
      "CA Confidential Information\n",
      "CA Caregiver Information Form\n",
      "CA Instructions to Complete the Caregiver Information Form\n",
      "\n",
      "CA Information on Requesting Access to Records for Persons With a Limited Right to Appeal\n",
      "CA De Facto Parent Request\n",
      "CA De Facto Parent Statement\n",
      "CA De Facto Parent Order\n",
      "CA Order Ending De Facto Parent Status\n",
      "CA De Facto Parent Pamphlet\n"
     ]
    },
    {
     "name": "stderr",
     "output_type": "stream",
     "text": [
      "/Users/davidcolarusso/opt/anaconda3/lib/python3.8/site-packages/sklearn/cluster/_affinity_propagation.py:136: UserWarning: All samples have mutually equal similarities. Returning arbitrary cluster center(s).\n",
      "  warnings.warn(\"All samples have mutually equal similarities. \"\n"
     ]
    },
    {
     "name": "stdout",
     "output_type": "stream",
     "text": [
      "CA Notice of Hearing on Selection of a Permanent Plan\n",
      "CA Citation for Publication Under Welfare and Institutions Code Section 294\n",
      "CA Proof of Service Under Section 366.26 of the Welfare And Institutions Code\n",
      "CA Orders under Welfare and Institutions Code Sections 366.24, 366.26, 727.3, 727.31\n",
      "CA Request for Prospective Adoptive Parent Designation\n"
     ]
    },
    {
     "name": "stderr",
     "output_type": "stream",
     "text": [
      "/Users/davidcolarusso/opt/anaconda3/lib/python3.8/site-packages/sklearn/cluster/_affinity_propagation.py:246: ConvergenceWarning: Affinity propagation did not converge, this model will not have any cluster centers.\n",
      "  warnings.warn(\"Affinity propagation did not converge, this model \"\n",
      "/Users/davidcolarusso/opt/anaconda3/lib/python3.8/site-packages/sklearn/cluster/_affinity_propagation.py:460: ConvergenceWarning: This model does not have any cluster centers because affinity propagation did not converge. Labeling every sample as '-1'.\n",
      "  warnings.warn(\"This model does not have any cluster centers \"\n"
     ]
    },
    {
     "name": "stdout",
     "output_type": "stream",
     "text": [
      "CA Confidential Information—Prospective Adoptive Parent\n",
      "CA Notice of Intent to Remove Child\n",
      "CA Notice of Emergency Removal\n",
      "CA Objection to Removal\n",
      "CA Proof of Notice\n",
      "CA Instructions for Notice of Prospective Adoptive Parent Hearing\n",
      "CA Prospective Adoptive Parent Designation Order\n",
      "CA Prospective Adoptive Parent Order After Hearing\n",
      "CA Letters of Guardianship (Juvenile)\n",
      "CA Becoming a Child's Guardian in Juvenile Court\n"
     ]
    },
    {
     "name": "stderr",
     "output_type": "stream",
     "text": [
      "/Users/davidcolarusso/opt/anaconda3/lib/python3.8/site-packages/sklearn/cluster/_affinity_propagation.py:136: UserWarning: All samples have mutually equal similarities. Returning arbitrary cluster center(s).\n",
      "  warnings.warn(\"All samples have mutually equal similarities. \"\n"
     ]
    },
    {
     "name": "stdout",
     "output_type": "stream",
     "text": [
      "CA Request for Special Immigrant Juvenile Findings\n"
     ]
    },
    {
     "name": "stderr",
     "output_type": "stream",
     "text": [
      "/Users/davidcolarusso/opt/anaconda3/lib/python3.8/site-packages/sklearn/cluster/_affinity_propagation.py:246: ConvergenceWarning: Affinity propagation did not converge, this model will not have any cluster centers.\n",
      "  warnings.warn(\"Affinity propagation did not converge, this model \"\n",
      "/Users/davidcolarusso/opt/anaconda3/lib/python3.8/site-packages/sklearn/cluster/_affinity_propagation.py:460: ConvergenceWarning: This model does not have any cluster centers because affinity propagation did not converge. Labeling every sample as '-1'.\n",
      "  warnings.warn(\"This model does not have any cluster centers \"\n"
     ]
    },
    {
     "name": "stdout",
     "output_type": "stream",
     "text": [
      "CA Special Immigrant Juvenile Findings\n",
      "CA First Review Hearing After Youth Turns 16 Years of Age—Information, Documents, and Services\n",
      "CA Review Hearing for Youth Approaching 18 Years of Age—Information, Documents, and Services\n",
      "CA Review Hearing for Youth 18 Years of Age or Older—Information, Documents, and Services\n",
      "CA Termination of Dependency for Adoption (Juvenile)\n",
      "CA Termination of Juvenile Court Jurisdiction—Nonminor\n",
      "CA Findings and Orders After Hearing to Consider Termination of Juvenile Court Jurisdiction Over a Nonminor\n"
     ]
    },
    {
     "name": "stderr",
     "output_type": "stream",
     "text": [
      "/Users/davidcolarusso/opt/anaconda3/lib/python3.8/site-packages/sklearn/cluster/_affinity_propagation.py:246: ConvergenceWarning: Affinity propagation did not converge, this model will not have any cluster centers.\n",
      "  warnings.warn(\"Affinity propagation did not converge, this model \"\n",
      "/Users/davidcolarusso/opt/anaconda3/lib/python3.8/site-packages/sklearn/cluster/_affinity_propagation.py:460: ConvergenceWarning: This model does not have any cluster centers because affinity propagation did not converge. Labeling every sample as '-1'.\n",
      "  warnings.warn(\"This model does not have any cluster centers \"\n"
     ]
    },
    {
     "name": "stdout",
     "output_type": "stream",
     "text": [
      "CA Visitation Attachment: Parent, Legal Guardian, Indian Custodian, Other Important Person\n",
      "CA Visitation Attachment: Sibling\n",
      "CA Visitation Attachment: Grandparent\n",
      "CA Sibling Attachment: Contact and Placement\n"
     ]
    },
    {
     "name": "stderr",
     "output_type": "stream",
     "text": [
      "/Users/davidcolarusso/opt/anaconda3/lib/python3.8/site-packages/sklearn/cluster/_affinity_propagation.py:246: ConvergenceWarning: Affinity propagation did not converge, this model will not have any cluster centers.\n",
      "  warnings.warn(\"Affinity propagation did not converge, this model \"\n",
      "/Users/davidcolarusso/opt/anaconda3/lib/python3.8/site-packages/sklearn/cluster/_affinity_propagation.py:460: ConvergenceWarning: This model does not have any cluster centers because affinity propagation did not converge. Labeling every sample as '-1'.\n",
      "  warnings.warn(\"This model does not have any cluster centers \"\n"
     ]
    },
    {
     "name": "stdout",
     "output_type": "stream",
     "text": [
      "CA Continuance—Continuance—Dependency Detention Hearing\n",
      "CA Continuance—General\n",
      "CA Findings and Orders After Detention Hearing (Welf. & Inst. Code, § 319)\n",
      "CA Findings and Orders After Jurisdiction Hearing (Welf. & Inst. Code, § 356)\n",
      "CA Findings and Orders After Dispositional Hearing (Welf. & Inst. Code, § 361 et seq.)\n",
      "CA Dispositional Attachment: Dismissal of Petition With or Without Informal Supervision (Welf. & Inst. Code, § 360(b))\n",
      "CA Dispositional Attachment: In-Home Placement With Formal Supervision (Welf. & Inst. Code, § 361)\n",
      "CA Dispositional Attachment: Appointment of Guardian (Welf. & Inst. Code, § 360(a))\n"
     ]
    },
    {
     "name": "stderr",
     "output_type": "stream",
     "text": [
      "/Users/davidcolarusso/opt/anaconda3/lib/python3.8/site-packages/sklearn/cluster/_affinity_propagation.py:246: ConvergenceWarning: Affinity propagation did not converge, this model will not have any cluster centers.\n",
      "  warnings.warn(\"Affinity propagation did not converge, this model \"\n",
      "/Users/davidcolarusso/opt/anaconda3/lib/python3.8/site-packages/sklearn/cluster/_affinity_propagation.py:460: ConvergenceWarning: This model does not have any cluster centers because affinity propagation did not converge. Labeling every sample as '-1'.\n",
      "  warnings.warn(\"This model does not have any cluster centers \"\n"
     ]
    },
    {
     "name": "stdout",
     "output_type": "stream",
     "text": [
      "CA Guardianship—Consent and Waiver of Rights\n",
      "CA Guardianship—Child's Consent and Waiver of Rights\n",
      "CA Dispositional Attachment: Removal From Custodial Parent-Placement With Previously Noncustodial Parent (Welf. & Inst. Code, §§ 361, 361.2)\n",
      "CA Dispositional Attachment: Removal From Custodial Parent—Placement With Nonparent (Welf. & Inst. Code, §§ 361, 361.2)\n",
      "CA Findings and Orders After In-Home Status Review Hearing (Welf. & Inst. Code, § 364)\n",
      "CA Findings and Orders After In-Home Status Review Hearing—Child Placed With Previously Noncustodial Parent (Welf. & Inst. Code, §§ 364, 366.21)\n",
      "CA Findings and Orders After Six-Month Status Review Hearing (Welf. & Inst. Code, § 366.21(e))\n",
      "CA Six-Month Prepermanency Attachment: Child Reunified (Welf. & Inst. Code, § 366.21(e))\n",
      "CA Six-Month Permanency Attachment: Reunification Services Continued (Welf. & Inst. Code, § 366.21(e))\n",
      "CA Six-Month Permanency Attachment: Reunification Services Terminated (Welf. & Inst. Code, § 366.21(e))\n",
      "CA Findings and Orders After 12-Month Permanency Hearing (Welf. & Inst. Code, § 366.21(f))\n"
     ]
    },
    {
     "name": "stderr",
     "output_type": "stream",
     "text": [
      "/Users/davidcolarusso/opt/anaconda3/lib/python3.8/site-packages/sklearn/cluster/_affinity_propagation.py:246: ConvergenceWarning: Affinity propagation did not converge, this model will not have any cluster centers.\n",
      "  warnings.warn(\"Affinity propagation did not converge, this model \"\n",
      "/Users/davidcolarusso/opt/anaconda3/lib/python3.8/site-packages/sklearn/cluster/_affinity_propagation.py:460: ConvergenceWarning: This model does not have any cluster centers because affinity propagation did not converge. Labeling every sample as '-1'.\n",
      "  warnings.warn(\"This model does not have any cluster centers \"\n"
     ]
    },
    {
     "name": "stdout",
     "output_type": "stream",
     "text": [
      "CA Twelve-Month Permanency Attachment: Child Reunified (Welf. & Inst. Code, § 366.21(f))\n",
      "CA Twelve-Month Permanency Attachment: Reunification Services Continued (Welf. & Inst. Code, § 366.21(f))\n",
      "CA Twelve-Month Permanency Attachment: Reunification Services Terminated (Welf. & Inst. Code, § 366.21(f))\n",
      "CA Findings and Orders After 18-Month Permanency Hearing (Welf. & Inst. Code, § 366.22)\n"
     ]
    },
    {
     "name": "stderr",
     "output_type": "stream",
     "text": [
      "/Users/davidcolarusso/opt/anaconda3/lib/python3.8/site-packages/sklearn/cluster/_affinity_propagation.py:246: ConvergenceWarning: Affinity propagation did not converge, this model will not have any cluster centers.\n",
      "  warnings.warn(\"Affinity propagation did not converge, this model \"\n",
      "/Users/davidcolarusso/opt/anaconda3/lib/python3.8/site-packages/sklearn/cluster/_affinity_propagation.py:460: ConvergenceWarning: This model does not have any cluster centers because affinity propagation did not converge. Labeling every sample as '-1'.\n",
      "  warnings.warn(\"This model does not have any cluster centers \"\n"
     ]
    },
    {
     "name": "stdout",
     "output_type": "stream",
     "text": [
      "CA Eighteen-Month Permanency Attachment: Child Reunified (Welf. & Inst. Code, § 366.22)\n",
      "CA Eighteen-Month Permanency Attachment: Reunification Services Terminated (Welf. & Inst. Code, § 366.22)\n",
      "CA Eighteen-Month Permanency Attachment: Reunification Services Continued (Welf. & Inst. Code, § 366.22)\n",
      "CA Findings and Orders After Postpermanency Hearing—Parental Rights Terminated; Permanent Plan of Adoption (Welf. & Inst. Code, § 366.3(f))\n",
      "CA Findings and Orders After Postpermanency Hearing—Permanent Plan Other Than Adoption (Welf. & Inst. Code, § 366.3)\n",
      "CA Order Granting Authority to Consent to Medical, Surgical, and Dental Care (Welf. & Inst. Code, § 366.27)\n",
      "CA Order for Prisoner's Appearance at Hearing Affecting Parental Rights\n",
      "CA Prisoner's Statement Regarding Appearance at Hearing Affecting Parental Rights\n",
      "CA Findings and Orders After 24-Month Permanency Hearing (Welf. & Inst. Code, § 366.25)\n"
     ]
    },
    {
     "name": "stderr",
     "output_type": "stream",
     "text": [
      "/Users/davidcolarusso/opt/anaconda3/lib/python3.8/site-packages/sklearn/cluster/_affinity_propagation.py:246: ConvergenceWarning: Affinity propagation did not converge, this model will not have any cluster centers.\n",
      "  warnings.warn(\"Affinity propagation did not converge, this model \"\n",
      "/Users/davidcolarusso/opt/anaconda3/lib/python3.8/site-packages/sklearn/cluster/_affinity_propagation.py:460: ConvergenceWarning: This model does not have any cluster centers because affinity propagation did not converge. Labeling every sample as '-1'.\n",
      "  warnings.warn(\"This model does not have any cluster centers \"\n"
     ]
    },
    {
     "name": "stdout",
     "output_type": "stream",
     "text": [
      "CA Twenty-four-Month Permanency Attachment: Child Reunified (Welf. & Inst. Code, § 366.25)\n",
      "CA Twenty-four-Month Permanency Attachment: Reunification Services Terminated (Welf. & Inst. Code, § 366.25)\n",
      "CA Attachment: Additional Findings and Orders for Child Approaching Majority—Dependency\n",
      "CA Findings and Orders After Nonminor Disposition Hearing\n",
      "CA Dispositional Attachment: Nonminor Dependent\n",
      "CA Findings and Orders After Nonminor Dependent Status Review Hearing\n",
      "CA Nonminor's Informed Consent to Hold Disposition Hearing\n",
      "CA How to Ask to Return to Juvenile Court Jurisdiction and Foster Care\n",
      "CA Request to Return to Juvenile Court Jurisdiction and Foster Care\n"
     ]
    },
    {
     "name": "stderr",
     "output_type": "stream",
     "text": [
      "/Users/davidcolarusso/opt/anaconda3/lib/python3.8/site-packages/sklearn/cluster/_affinity_propagation.py:246: ConvergenceWarning: Affinity propagation did not converge, this model will not have any cluster centers.\n",
      "  warnings.warn(\"Affinity propagation did not converge, this model \"\n",
      "/Users/davidcolarusso/opt/anaconda3/lib/python3.8/site-packages/sklearn/cluster/_affinity_propagation.py:460: ConvergenceWarning: This model does not have any cluster centers because affinity propagation did not converge. Labeling every sample as '-1'.\n",
      "  warnings.warn(\"This model does not have any cluster centers \"\n"
     ]
    },
    {
     "name": "stdout",
     "output_type": "stream",
     "text": [
      "CA Confidential Information—Request to Return to Juvenile Court Jurisdiction and Foster Care\n",
      "CA Findings and Orders Regarding Prima Facie Showing on Nonminor's Request to Reenter Foster Care\n",
      "CA Findings and Order After Hearing to Consider Nonminor's Request to Reenter Foster Care\n"
     ]
    },
    {
     "name": "stderr",
     "output_type": "stream",
     "text": [
      "/Users/davidcolarusso/opt/anaconda3/lib/python3.8/site-packages/sklearn/cluster/_affinity_propagation.py:246: ConvergenceWarning: Affinity propagation did not converge, this model will not have any cluster centers.\n",
      "  warnings.warn(\"Affinity propagation did not converge, this model \"\n",
      "/Users/davidcolarusso/opt/anaconda3/lib/python3.8/site-packages/sklearn/cluster/_affinity_propagation.py:460: ConvergenceWarning: This model does not have any cluster centers because affinity propagation did not converge. Labeling every sample as '-1'.\n",
      "  warnings.warn(\"This model does not have any cluster centers \"\n"
     ]
    },
    {
     "name": "stdout",
     "output_type": "stream",
     "text": [
      "CA Nonminor Dependent—Consent to Copy and Inspect Nonminor Dependent Court File\n",
      "CA Agreement of Adoption of Nonminor Dependent\n"
     ]
    },
    {
     "name": "stderr",
     "output_type": "stream",
     "text": [
      "/Users/davidcolarusso/opt/anaconda3/lib/python3.8/site-packages/sklearn/cluster/_affinity_propagation.py:246: ConvergenceWarning: Affinity propagation did not converge, this model will not have any cluster centers.\n",
      "  warnings.warn(\"Affinity propagation did not converge, this model \"\n",
      "/Users/davidcolarusso/opt/anaconda3/lib/python3.8/site-packages/sklearn/cluster/_affinity_propagation.py:460: ConvergenceWarning: This model does not have any cluster centers because affinity propagation did not converge. Labeling every sample as '-1'.\n",
      "  warnings.warn(\"This model does not have any cluster centers \"\n"
     ]
    },
    {
     "name": "stdout",
     "output_type": "stream",
     "text": [
      "CA Consent of Spouse or Registered Partner to Adoption of Nonminor Dependent\n",
      "CA Order of Adoption of Nonminor Dependent\n"
     ]
    },
    {
     "name": "stderr",
     "output_type": "stream",
     "text": [
      "/Users/davidcolarusso/opt/anaconda3/lib/python3.8/site-packages/sklearn/cluster/_affinity_propagation.py:246: ConvergenceWarning: Affinity propagation did not converge, this model will not have any cluster centers.\n",
      "  warnings.warn(\"Affinity propagation did not converge, this model \"\n",
      "/Users/davidcolarusso/opt/anaconda3/lib/python3.8/site-packages/sklearn/cluster/_affinity_propagation.py:460: ConvergenceWarning: This model does not have any cluster centers because affinity propagation did not converge. Labeling every sample as '-1'.\n",
      "  warnings.warn(\"This model does not have any cluster centers \"\n"
     ]
    },
    {
     "name": "stdout",
     "output_type": "stream",
     "text": [
      "CA Parentage Inquiry\n",
      "CA Parentage—Findings and Judgment\n",
      "CA Statement Regarding Parentage (Juvenile)\n",
      "CA Proof of Service—Juvenile\n"
     ]
    },
    {
     "name": "stderr",
     "output_type": "stream",
     "text": [
      "/Users/davidcolarusso/opt/anaconda3/lib/python3.8/site-packages/sklearn/cluster/_affinity_propagation.py:246: ConvergenceWarning: Affinity propagation did not converge, this model will not have any cluster centers.\n",
      "  warnings.warn(\"Affinity propagation did not converge, this model \"\n",
      "/Users/davidcolarusso/opt/anaconda3/lib/python3.8/site-packages/sklearn/cluster/_affinity_propagation.py:460: ConvergenceWarning: This model does not have any cluster centers because affinity propagation did not converge. Labeling every sample as '-1'.\n",
      "  warnings.warn(\"This model does not have any cluster centers \"\n"
     ]
    },
    {
     "name": "stdout",
     "output_type": "stream",
     "text": [
      "CA Attachment to Proof of Service-Juvenile (Additional Person Served)\n"
     ]
    },
    {
     "name": "stderr",
     "output_type": "stream",
     "text": [
      "/Users/davidcolarusso/opt/anaconda3/lib/python3.8/site-packages/sklearn/cluster/_affinity_propagation.py:246: ConvergenceWarning: Affinity propagation did not converge, this model will not have any cluster centers.\n",
      "  warnings.warn(\"Affinity propagation did not converge, this model \"\n",
      "/Users/davidcolarusso/opt/anaconda3/lib/python3.8/site-packages/sklearn/cluster/_affinity_propagation.py:460: ConvergenceWarning: This model does not have any cluster centers because affinity propagation did not converge. Labeling every sample as '-1'.\n",
      "  warnings.warn(\"This model does not have any cluster centers \"\n"
     ]
    },
    {
     "name": "stdout",
     "output_type": "stream",
     "text": [
      "CA Fax Filing Cover Sheet\n",
      "CA Order to Attend Court or Provide Documents: Subpoena/Subpoena Duces Tecum\n",
      "CA Certified Request for Pupil Records—Truancy\n",
      "CA Local Educational Agency Response to JV-530\n",
      "CA Order Designating Educational Rights Holder\n",
      "CA Attachment to Order Designating Educational Rights Holder\n",
      "CA Information on Educational Rights Holders\n",
      "CA Local Educational Agency Response to JV-535—Appointment of Surrogate Parent\n"
     ]
    },
    {
     "name": "stderr",
     "output_type": "stream",
     "text": [
      "/Users/davidcolarusso/opt/anaconda3/lib/python3.8/site-packages/sklearn/cluster/_affinity_propagation.py:246: ConvergenceWarning: Affinity propagation did not converge, this model will not have any cluster centers.\n",
      "  warnings.warn(\"Affinity propagation did not converge, this model \"\n",
      "/Users/davidcolarusso/opt/anaconda3/lib/python3.8/site-packages/sklearn/cluster/_affinity_propagation.py:460: ConvergenceWarning: This model does not have any cluster centers because affinity propagation did not converge. Labeling every sample as '-1'.\n",
      "  warnings.warn(\"This model does not have any cluster centers \"\n"
     ]
    },
    {
     "name": "stdout",
     "output_type": "stream",
     "text": [
      "CA Educational Rights Holder Statement\n"
     ]
    },
    {
     "name": "stderr",
     "output_type": "stream",
     "text": [
      "/Users/davidcolarusso/opt/anaconda3/lib/python3.8/site-packages/sklearn/cluster/_affinity_propagation.py:246: ConvergenceWarning: Affinity propagation did not converge, this model will not have any cluster centers.\n",
      "  warnings.warn(\"Affinity propagation did not converge, this model \"\n",
      "/Users/davidcolarusso/opt/anaconda3/lib/python3.8/site-packages/sklearn/cluster/_affinity_propagation.py:460: ConvergenceWarning: This model does not have any cluster centers because affinity propagation did not converge. Labeling every sample as '-1'.\n",
      "  warnings.warn(\"This model does not have any cluster centers \"\n"
     ]
    },
    {
     "name": "stdout",
     "output_type": "stream",
     "text": [
      "CA Findings and Orders Regarding Transfer from School of Origin\n"
     ]
    },
    {
     "name": "stderr",
     "output_type": "stream",
     "text": [
      "/Users/davidcolarusso/opt/anaconda3/lib/python3.8/site-packages/sklearn/cluster/_affinity_propagation.py:246: ConvergenceWarning: Affinity propagation did not converge, this model will not have any cluster centers.\n",
      "  warnings.warn(\"Affinity propagation did not converge, this model \"\n",
      "/Users/davidcolarusso/opt/anaconda3/lib/python3.8/site-packages/sklearn/cluster/_affinity_propagation.py:460: ConvergenceWarning: This model does not have any cluster centers because affinity propagation did not converge. Labeling every sample as '-1'.\n",
      "  warnings.warn(\"This model does not have any cluster centers \"\n"
     ]
    },
    {
     "name": "stdout",
     "output_type": "stream",
     "text": [
      "CA Request for Hearing Regarding Child's Access to Services\n",
      "CA Notice of Hearing on Joinder—Juvenile\n",
      "CA Motion for Transfer Out\n"
     ]
    },
    {
     "name": "stderr",
     "output_type": "stream",
     "text": [
      "/Users/davidcolarusso/opt/anaconda3/lib/python3.8/site-packages/sklearn/cluster/_affinity_propagation.py:246: ConvergenceWarning: Affinity propagation did not converge, this model will not have any cluster centers.\n",
      "  warnings.warn(\"Affinity propagation did not converge, this model \"\n",
      "/Users/davidcolarusso/opt/anaconda3/lib/python3.8/site-packages/sklearn/cluster/_affinity_propagation.py:460: ConvergenceWarning: This model does not have any cluster centers because affinity propagation did not converge. Labeling every sample as '-1'.\n",
      "  warnings.warn(\"This model does not have any cluster centers \"\n"
     ]
    },
    {
     "name": "stdout",
     "output_type": "stream",
     "text": [
      "CA Juvenile Court Transfer—Out Orders\n"
     ]
    },
    {
     "name": "stderr",
     "output_type": "stream",
     "text": [
      "/Users/davidcolarusso/opt/anaconda3/lib/python3.8/site-packages/sklearn/cluster/_affinity_propagation.py:246: ConvergenceWarning: Affinity propagation did not converge, this model will not have any cluster centers.\n",
      "  warnings.warn(\"Affinity propagation did not converge, this model \"\n",
      "/Users/davidcolarusso/opt/anaconda3/lib/python3.8/site-packages/sklearn/cluster/_affinity_propagation.py:460: ConvergenceWarning: This model does not have any cluster centers because affinity propagation did not converge. Labeling every sample as '-1'.\n",
      "  warnings.warn(\"This model does not have any cluster centers \"\n"
     ]
    },
    {
     "name": "stdout",
     "output_type": "stream",
     "text": [
      "CA Juvenile Court Transfer-Out Orders—Nonminor Dependent\n"
     ]
    },
    {
     "name": "stderr",
     "output_type": "stream",
     "text": [
      "/Users/davidcolarusso/opt/anaconda3/lib/python3.8/site-packages/sklearn/cluster/_affinity_propagation.py:246: ConvergenceWarning: Affinity propagation did not converge, this model will not have any cluster centers.\n",
      "  warnings.warn(\"Affinity propagation did not converge, this model \"\n",
      "/Users/davidcolarusso/opt/anaconda3/lib/python3.8/site-packages/sklearn/cluster/_affinity_propagation.py:460: ConvergenceWarning: This model does not have any cluster centers because affinity propagation did not converge. Labeling every sample as '-1'.\n",
      "  warnings.warn(\"This model does not have any cluster centers \"\n"
     ]
    },
    {
     "name": "stdout",
     "output_type": "stream",
     "text": [
      "CA Notice of Intent to Place Child Out of County\n",
      "CA Objection to Out-of-County Placement and Notice of Hearing\n"
     ]
    },
    {
     "name": "stderr",
     "output_type": "stream",
     "text": [
      "/Users/davidcolarusso/opt/anaconda3/lib/python3.8/site-packages/sklearn/cluster/_affinity_propagation.py:246: ConvergenceWarning: Affinity propagation did not converge, this model will not have any cluster centers.\n",
      "  warnings.warn(\"Affinity propagation did not converge, this model \"\n",
      "/Users/davidcolarusso/opt/anaconda3/lib/python3.8/site-packages/sklearn/cluster/_affinity_propagation.py:460: ConvergenceWarning: This model does not have any cluster centers because affinity propagation did not converge. Labeling every sample as '-1'.\n",
      "  warnings.warn(\"This model does not have any cluster centers \"\n"
     ]
    },
    {
     "name": "stdout",
     "output_type": "stream",
     "text": [
      "CA Request for Assistance with Expedited Placement Under the Interstate Compact on the Placement of Children\n",
      "CA Expedited Placement Under the Interstate Compact on the Placement of Children: Findings and Orders\n",
      "CA Proof of Service—Petition for Access to Juvenile Case File\n"
     ]
    },
    {
     "name": "stderr",
     "output_type": "stream",
     "text": [
      "/Users/davidcolarusso/opt/anaconda3/lib/python3.8/site-packages/sklearn/cluster/_affinity_propagation.py:246: ConvergenceWarning: Affinity propagation did not converge, this model will not have any cluster centers.\n",
      "  warnings.warn(\"Affinity propagation did not converge, this model \"\n",
      "/Users/davidcolarusso/opt/anaconda3/lib/python3.8/site-packages/sklearn/cluster/_affinity_propagation.py:460: ConvergenceWarning: This model does not have any cluster centers because affinity propagation did not converge. Labeling every sample as '-1'.\n",
      "  warnings.warn(\"This model does not have any cluster centers \"\n"
     ]
    },
    {
     "name": "stdout",
     "output_type": "stream",
     "text": [
      "CA Petition for Access to Juvenile Case File\n",
      "CA Notice of Petition for Access to Juvenile Case File\n",
      "CA Objection to Release of Juvenile Case File\n",
      "CA Order on Petition for Access to Juvenile Case File\n",
      "CA Order After Judicial Review on Petition for Access to Juvenile Case File\n",
      "CA Petition to Obtain Report of Law Enforcement Agency\n",
      "CA Notice to Child and Parent/Guardian RE: Release of Juvenile Police Records and Objection\n",
      "CA Order to Seal Juvenile Records—Welfare and Institutions Code Section 781\n"
     ]
    },
    {
     "name": "stderr",
     "output_type": "stream",
     "text": [
      "/Users/davidcolarusso/opt/anaconda3/lib/python3.8/site-packages/sklearn/cluster/_affinity_propagation.py:246: ConvergenceWarning: Affinity propagation did not converge, this model will not have any cluster centers.\n",
      "  warnings.warn(\"Affinity propagation did not converge, this model \"\n",
      "/Users/davidcolarusso/opt/anaconda3/lib/python3.8/site-packages/sklearn/cluster/_affinity_propagation.py:460: ConvergenceWarning: This model does not have any cluster centers because affinity propagation did not converge. Labeling every sample as '-1'.\n",
      "  warnings.warn(\"This model does not have any cluster centers \"\n"
     ]
    },
    {
     "name": "stdout",
     "output_type": "stream",
     "text": [
      "CA Acknowledgment of Juvenile Record Sealed\n",
      "CA Prosecutor Request for Access to Sealed Juvenile Case File\n",
      "CA Notice of Prosecutor Request for Access to Sealed Juvenile Case File\n",
      "CA Response to Prosecutor Request for Access to Sealed Juvenile Case File\n",
      "CA Request to Seal Juvenile Records\n",
      "CA How to Ask the Court to Seal Your Records\n",
      "CA Dismissal and Sealing of Records—Welfare and Institutions Code Section 786\n",
      "CA Sealing of Records for Satisfactory Completion of Probation\n",
      "CA Probation Department Notice on Sealing of Records After Diversion Program\n",
      "CA Petition to Review Denial of Sealing of Records After Diversion Program\n",
      "CA Order on Prosecutor Request for Access to Sealed File\n",
      "CA Juvenile Wardship Petition\n",
      "CA Child Habitually Disobedient § 601(a)\n",
      "CA Child Habitually Truant § 601(b)\n",
      "CA Deferred Entry of Judgment Notice of Noncompliance\n",
      "CA Waiver of Rights—Juvenile Justice\n",
      "CA Violation of Law By Child\n",
      "CA Informal Probation Agreement\n",
      "CA Terms and Conditions\n",
      "CA Notice of Hearing—Juvenile Delinquency Proceeding\n",
      "CA Promise to Appear—Juvenile Delinquency (Juvenile 14 years or Older)\n",
      "CA Delinquency Court Proceeding Findings and Orders\n"
     ]
    },
    {
     "name": "stderr",
     "output_type": "stream",
     "text": [
      "/Users/davidcolarusso/opt/anaconda3/lib/python3.8/site-packages/sklearn/cluster/_affinity_propagation.py:246: ConvergenceWarning: Affinity propagation did not converge, this model will not have any cluster centers.\n",
      "  warnings.warn(\"Affinity propagation did not converge, this model \"\n",
      "/Users/davidcolarusso/opt/anaconda3/lib/python3.8/site-packages/sklearn/cluster/_affinity_propagation.py:460: ConvergenceWarning: This model does not have any cluster centers because affinity propagation did not converge. Labeling every sample as '-1'.\n",
      "  warnings.warn(\"This model does not have any cluster centers \"\n"
     ]
    },
    {
     "name": "stdout",
     "output_type": "stream",
     "text": [
      "CA Initial Appearance Hearing—Juvenile Delinquency\n",
      "CA Jurisdiction Hearing—Juvenile Delinquency\n",
      "CA Disposition—Juvenile Delinquency\n"
     ]
    },
    {
     "name": "stderr",
     "output_type": "stream",
     "text": [
      "/Users/davidcolarusso/opt/anaconda3/lib/python3.8/site-packages/sklearn/cluster/_affinity_propagation.py:246: ConvergenceWarning: Affinity propagation did not converge, this model will not have any cluster centers.\n",
      "  warnings.warn(\"Affinity propagation did not converge, this model \"\n",
      "/Users/davidcolarusso/opt/anaconda3/lib/python3.8/site-packages/sklearn/cluster/_affinity_propagation.py:460: ConvergenceWarning: This model does not have any cluster centers because affinity propagation did not converge. Labeling every sample as '-1'.\n",
      "  warnings.warn(\"This model does not have any cluster centers \"\n"
     ]
    },
    {
     "name": "stdout",
     "output_type": "stream",
     "text": [
      "CA Custodial and Out-of-Home Placement Disposition Attachment\n",
      "CA Findings and Orders After Six-Month Prepermanency Hearing (Welf. & Inst. Code, § 727.2)\n"
     ]
    },
    {
     "name": "stderr",
     "output_type": "stream",
     "text": [
      "/Users/davidcolarusso/opt/anaconda3/lib/python3.8/site-packages/sklearn/cluster/_affinity_propagation.py:246: ConvergenceWarning: Affinity propagation did not converge, this model will not have any cluster centers.\n",
      "  warnings.warn(\"Affinity propagation did not converge, this model \"\n",
      "/Users/davidcolarusso/opt/anaconda3/lib/python3.8/site-packages/sklearn/cluster/_affinity_propagation.py:460: ConvergenceWarning: This model does not have any cluster centers because affinity propagation did not converge. Labeling every sample as '-1'.\n",
      "  warnings.warn(\"This model does not have any cluster centers \"\n"
     ]
    },
    {
     "name": "stdout",
     "output_type": "stream",
     "text": [
      "CA Findings and Orders After Permanency Hearing (Welf. & Inst. Code, § 727.3)\n"
     ]
    },
    {
     "name": "stderr",
     "output_type": "stream",
     "text": [
      "/Users/davidcolarusso/opt/anaconda3/lib/python3.8/site-packages/sklearn/cluster/_affinity_propagation.py:246: ConvergenceWarning: Affinity propagation did not converge, this model will not have any cluster centers.\n",
      "  warnings.warn(\"Affinity propagation did not converge, this model \"\n",
      "/Users/davidcolarusso/opt/anaconda3/lib/python3.8/site-packages/sklearn/cluster/_affinity_propagation.py:460: ConvergenceWarning: This model does not have any cluster centers because affinity propagation did not converge. Labeling every sample as '-1'.\n",
      "  warnings.warn(\"This model does not have any cluster centers \"\n"
     ]
    },
    {
     "name": "stdout",
     "output_type": "stream",
     "text": [
      "CA Findings and Orders After Postpermanency Hearing (Welf. & Inst. Code, § 727.3)\n"
     ]
    },
    {
     "name": "stderr",
     "output_type": "stream",
     "text": [
      "/Users/davidcolarusso/opt/anaconda3/lib/python3.8/site-packages/sklearn/cluster/_affinity_propagation.py:246: ConvergenceWarning: Affinity propagation did not converge, this model will not have any cluster centers.\n",
      "  warnings.warn(\"Affinity propagation did not converge, this model \"\n",
      "/Users/davidcolarusso/opt/anaconda3/lib/python3.8/site-packages/sklearn/cluster/_affinity_propagation.py:460: ConvergenceWarning: This model does not have any cluster centers because affinity propagation did not converge. Labeling every sample as '-1'.\n",
      "  warnings.warn(\"This model does not have any cluster centers \"\n"
     ]
    },
    {
     "name": "stdout",
     "output_type": "stream",
     "text": [
      "CA Findings and Orders for Child Approaching Majority—Delinquency\n",
      "CA Attachment: Hearing for Dismissal—Additional Findings and Orders—Foster Care Placement—Delinquency\n",
      "CA Findings and Orders After Hearing to Modify Delinquency Jurisdiction to Transition Jurisdiction for Child Younger Than 18 Years of Age\n"
     ]
    },
    {
     "name": "stderr",
     "output_type": "stream",
     "text": [
      "/Users/davidcolarusso/opt/anaconda3/lib/python3.8/site-packages/sklearn/cluster/_affinity_propagation.py:246: ConvergenceWarning: Affinity propagation did not converge, this model will not have any cluster centers.\n",
      "  warnings.warn(\"Affinity propagation did not converge, this model \"\n",
      "/Users/davidcolarusso/opt/anaconda3/lib/python3.8/site-packages/sklearn/cluster/_affinity_propagation.py:460: ConvergenceWarning: This model does not have any cluster centers because affinity propagation did not converge. Labeling every sample as '-1'.\n",
      "  warnings.warn(\"This model does not have any cluster centers \"\n"
     ]
    },
    {
     "name": "stdout",
     "output_type": "stream",
     "text": [
      "CA Findings and Orders After Hearing to Modify Delinquency Jurisdiction to Transition Jurisdiction for Ward Older Than 18 Years of Age\n"
     ]
    },
    {
     "name": "stderr",
     "output_type": "stream",
     "text": [
      "/Users/davidcolarusso/opt/anaconda3/lib/python3.8/site-packages/sklearn/cluster/_affinity_propagation.py:246: ConvergenceWarning: Affinity propagation did not converge, this model will not have any cluster centers.\n",
      "  warnings.warn(\"Affinity propagation did not converge, this model \"\n",
      "/Users/davidcolarusso/opt/anaconda3/lib/python3.8/site-packages/sklearn/cluster/_affinity_propagation.py:460: ConvergenceWarning: This model does not have any cluster centers because affinity propagation did not converge. Labeling every sample as '-1'.\n",
      "  warnings.warn(\"This model does not have any cluster centers \"\n"
     ]
    },
    {
     "name": "stdout",
     "output_type": "stream",
     "text": [
      "CA Continuance—Juvenile Delinquency\n",
      "CA School Notification of Court Adjudication (Welf. & Inst. Code Section 827(b))\n",
      "CA Notification to Sheriff of Juvenile Delinquency Felony Adjudication (Welf. & Inst. Code Section 827.2)\n",
      "CA Declaration of Eligibility for Appointment to Represent Youth in Delinquency Court\n",
      "CA Order to Transfer Juvenile to Criminal Court Jurisdiction (Welfare and Institutions Code, § 707)\n"
     ]
    },
    {
     "name": "stderr",
     "output_type": "stream",
     "text": [
      "/Users/davidcolarusso/opt/anaconda3/lib/python3.8/site-packages/sklearn/cluster/_affinity_propagation.py:246: ConvergenceWarning: Affinity propagation did not converge, this model will not have any cluster centers.\n",
      "  warnings.warn(\"Affinity propagation did not converge, this model \"\n",
      "/Users/davidcolarusso/opt/anaconda3/lib/python3.8/site-packages/sklearn/cluster/_affinity_propagation.py:460: ConvergenceWarning: This model does not have any cluster centers because affinity propagation did not converge. Labeling every sample as '-1'.\n",
      "  warnings.warn(\"This model does not have any cluster centers \"\n"
     ]
    },
    {
     "name": "stdout",
     "output_type": "stream",
     "text": [
      "CA Commitment to the California Department of Corrections and Rehabilitation, Division of Juvenile Facilities\n",
      "CA Juvenile Notice of Violation of Probation\n",
      "CA Petition to Modify, Change, or Set Aside Previous Orders—Change of Circumstances\n",
      "CA Request to Vacate Disposition and Dismiss Penal Code Section 647f\n",
      "CA Order After Request to Vacate Disposition and Dismiss Penal Code Section 647f Adjudication\n",
      "CA Request to Reduce Juvenile Marijuana Offense\n",
      "CA Attachment to Request to Reduce Juvenile Marijuana Offense (Health and Safety Code, § 11361.8(m))\n",
      "CA Prosecuting Agency Response to Request to Reduce Juvenile Marijuana Offense (Health and Safety Code, § 11361.8(m))\n",
      "CA Order After Request to Reduce Juvenile Marijuana Offense (Health and Safety Code, § 11361.8(m))\n",
      "CA Request to Expunge Arrest or Vacate Adjudication (Human Trafficking Victim) (Penal Code, § 236.14)\n",
      "CA Order after Request to Expunge Arrest or Vacate Adjudication (Human Trafficking Victim) (Penal Code, § 236.14)\n",
      "CA Determination of Eligibility—Deferred Entry of Judgment—Juvenile\n",
      "CA Citation and Written Notification for Deferred Entry of Judgment—Juvenile\n",
      "CA Deferred Entry of Judgment—Dismissal and Sealing of Juvenile Records\n",
      "CA Deferred Entry of Judgment Order\n",
      "CA Order for Victim Restitution\n"
     ]
    },
    {
     "name": "stderr",
     "output_type": "stream",
     "text": [
      "/Users/davidcolarusso/opt/anaconda3/lib/python3.8/site-packages/sklearn/cluster/_affinity_propagation.py:246: ConvergenceWarning: Affinity propagation did not converge, this model will not have any cluster centers.\n",
      "  warnings.warn(\"Affinity propagation did not converge, this model \"\n",
      "/Users/davidcolarusso/opt/anaconda3/lib/python3.8/site-packages/sklearn/cluster/_affinity_propagation.py:460: ConvergenceWarning: This model does not have any cluster centers because affinity propagation did not converge. Labeling every sample as '-1'.\n",
      "  warnings.warn(\"This model does not have any cluster centers \"\n"
     ]
    },
    {
     "name": "stdout",
     "output_type": "stream",
     "text": [
      "CA Abstract of Judgment—Restitution\n"
     ]
    },
    {
     "name": "stderr",
     "output_type": "stream",
     "text": [
      "/Users/davidcolarusso/opt/anaconda3/lib/python3.8/site-packages/sklearn/cluster/_affinity_propagation.py:246: ConvergenceWarning: Affinity propagation did not converge, this model will not have any cluster centers.\n",
      "  warnings.warn(\"Affinity propagation did not converge, this model \"\n",
      "/Users/davidcolarusso/opt/anaconda3/lib/python3.8/site-packages/sklearn/cluster/_affinity_propagation.py:460: ConvergenceWarning: This model does not have any cluster centers because affinity propagation did not converge. Labeling every sample as '-1'.\n",
      "  warnings.warn(\"This model does not have any cluster centers \"\n"
     ]
    },
    {
     "name": "stdout",
     "output_type": "stream",
     "text": [
      "CA Instructions: Order for Restitution and Abstract of Judgment\n",
      "CA Instructions: Abstract of Judgment—Restitution\n",
      "CA Petition to Terminate Wardship and Order\n",
      "CA Petition for Expungement of DNA Profiles and Samples (Pen. Code, § 299)\n",
      "CA Order for Expungement of DNA Profiles and Samples (Pen. Code, § 299)\n",
      "CA Notice of Appeal—Juvenile\n",
      "CA Information Regarding Appeal Rights\n",
      "\n",
      "CA Recommendation for Appointment of Appellate Attorney for Child\n",
      "CA Application for Extension of Time to File Brief (Juvenile Delinquency)\n",
      "CA Application for Extension of Time to File Brief (Juvenile Dependency)\n",
      "CA Notice of Intent to File Writ Petition and Request for Record to Review Order Setting a Hearing Under Welfare and Institutions Code Section 366.26 (California Rules of Court, Rule 8.450)\n",
      "CA Notice of Intent to File Writ Petition and Request for Record to Review Order Designating or Denying Specific Placement of a Dependent Child After Termination of Parental Rights (California Rules of Court, Rule 8.454)\n",
      "CA Petition for Extraordinary Writ\n",
      "CA Denial of Petition (California Rules of Court, Rules 8.452, 8.456)\n",
      "CA Notice of Action (California Rules of Court, Rule 8.452)\n",
      "CA Notice of Available Language Assistance—Service Provider\n",
      "CA Service Not Available in My Language: Request to Change Court Order\n",
      "CA Service Not Available in My Language: Order\n",
      "CA Facsimile Transmission Cover Sheet (Fax Filing)\n",
      "CA Memorandum of Costs (Summary)\n",
      "CA Memorandum of Costs (Worksheet)\n",
      "CA Memorandum of Costs After Judgment, Acknowledgement of Credit, and Declaration of Accrued Interest\n",
      "CA Information Sheet for Calculating Interest and Amount Owed on a Judgment\n",
      "CA Additional Page [to be attached to any form]\n",
      "CA Attachment to Judicial Council Form\n",
      "CA Declaration\n",
      "CA Attached Declaration\n",
      "CA Notice of Change of Address or Other Contact\n",
      "CA Substitution of Attorney—Civil (Without Court Order)\n",
      "CA Notice of Motion and Motion to Be Relieved as Counsel—Civil\n",
      "CA Declaration in Support of Attorney's Motion to Be Relieved as Counsel—Civil\n",
      "CA Order Granting Attorney's Motion to Be Relieved as Counsel—Civil\n",
      "CA Petition for Review of Denial of Request to Remove Name From Gang Database\n"
     ]
    },
    {
     "name": "stderr",
     "output_type": "stream",
     "text": [
      "/Users/davidcolarusso/opt/anaconda3/lib/python3.8/site-packages/sklearn/cluster/_affinity_propagation.py:246: ConvergenceWarning: Affinity propagation did not converge, this model will not have any cluster centers.\n",
      "  warnings.warn(\"Affinity propagation did not converge, this model \"\n",
      "/Users/davidcolarusso/opt/anaconda3/lib/python3.8/site-packages/sklearn/cluster/_affinity_propagation.py:460: ConvergenceWarning: This model does not have any cluster centers because affinity propagation did not converge. Labeling every sample as '-1'.\n",
      "  warnings.warn(\"This model does not have any cluster centers \"\n"
     ]
    },
    {
     "name": "stdout",
     "output_type": "stream",
     "text": [
      "CA Confidential Reference List of Identifiers\n",
      "CA Confidential Information Form Under Civil Code Section 1708.85\n",
      "CA Claim Opposing Forfeiture\n",
      "CA Claim Opposing Forfeiture of Vehicle (Vehicle Code § 14607.6)\n",
      "CA Petition for Forfeiture of Vehicle and Notice of Hearing\n",
      "\n",
      "CA Petition for Approval of Compromise of Claim or Action or Disposition of Proceeds of Judgment for Minor or Person With A Disability\n",
      "CA Additional Medical Service Providers Attachment to Petition for Approval of Compromise of Claim or Action or Disposition of Proceeds of Judgment\n",
      "CA Petition for Expedited Approval of Compromise of Claim or Action or Disposition of Proceeds of Judgment for Minor or Person With a Disability\n",
      "CA Order Approving Compromise of Claim or Action or Disposition of Proceeds of Judgment for Minor or Person With a Disability\n",
      "CA Order to Deposit Funds Into Blocked Account\n",
      "CA Acknowledgment of Receipt of Order and Funds for Deposit in Blocked Account\n",
      "CA Petition to Withdraw Funds From Blocked Account\n",
      "CA Order Authorizing Withdrawal of Funds From Blocked Account\n",
      "CA Disability Accommodation Request\n",
      "CA How to Request a Disability Accommodation for Court\n",
      "CA Media Request to Photograph, Record, or Broadcast\n",
      "CA Order on Media Request to Permit Coverage\n",
      "CA Court Clerks Office: Signage\n",
      "CA Petition to Determine If Dog Is Potentially Dangerous or Vicious\n",
      "CA Notice of Hearing (Menacing Dog)\n",
      "CA Order After Hearing (Menacing Dog)\n",
      "\n",
      "CA Notice of Appeal (Menacing Dog)\n",
      "CA Notice of Petition and Petition for Relief From Financial Obligation During Military Service\n",
      "CA Declaration in Support of Petition for Relief From Financial Obligations During Military Service\n",
      "CA Order on Petition for Relief From Financial Obligations During Military Service\n",
      "CA Notification of Military Veteran/Reserve/Active Status\n",
      "CA Petition for Dismissal (Military Personnel)\n",
      "CA Order for Dismissal (Military Personnel)\n",
      "\n",
      "CA Petition for Resentencing Based on Health Conditions due to Military Service Listed in Penal Code Section 1170.91(b)\n",
      "CA Petition for Change of Name\n",
      "CA Instructions for Filing a Petition for Change of Name\n",
      "CA Attachment to Petition for Change of Name\n",
      "CA Supplemental Attachment to Petition for Change of Name (Declaration of Guardian)\n",
      "\n",
      "CA Order to Show Cause for Change of Name\n",
      "CA Proof of Service of Order to Show Cause\n",
      "CA Order to Show Cause for Change of Name to Conform to Gender Identity (Same as NC-225*)\n",
      "CA Decree Changing Name\n",
      "CA Decree Changing Name of Minor (by Guardian)\n",
      "CA Notice of Hearing on Petition\n",
      "CA Petition for Change of Name, Recognition of Change of Gender, and Issuance of New Birth Certificate\n",
      "CA Order to Show Cause for Change of Name to Conform to Gender Identity (same as NC-125*)\n",
      "CA Decree Changing Name and Order Recognizing Change of Gender and for Issuance of New Birth Certificate\n",
      "CA Petition for Recognition of Change of Gender and for Issuance of New Birth Certificate\n",
      "CA Order Recognizing Change of Gender and for Issuance of New Birth Certificate\n",
      "CA Confidential Cover Sheet—Name Change Proceeding Under Address Confidentiality Program (Safe at Home)\n",
      "CA Information Sheet for Name Change Proceedings Under Address Confidentiality Program (Safe at Home)\n",
      "\n",
      "CA Application to File Documents Under Seal in Name Change Proceeding Under Address Confidentiality Program (Safe at Home)\n",
      "CA Declaration in Support of Application to File Documents Under Seal in Name Change Proceeding Under Address Confidentiality Program (Safe at Home)\n",
      "CA Order on Application to File Documents Under Seal in Name Change Proceeding Under Address Confidentiality Program (Safe at Home)\n",
      "CA Petition for Recognition of Minor's Change of Gender and Issuance of New Birth Certificate\n",
      "CA Instructions for Filing Petition for Recognition of Minor's Change of Gender and Issuance of New Birth Certificate (and Change of Name)\n",
      "CA Supplemental Attachment to Petition for Change of Name (Declaration of Guardian)\n",
      "CA Order to Show Cause for Recognition of Minor's Change of Gender and Issuance of New Birth Certificate\n",
      "CA Order Recognizing Change of Gender and for Issuance of New Birth Certificate (By Guardian or Dependency Attorney)\n",
      "CA General Denial\n",
      "CA Complaint—Contract\n",
      "CA Cause of Action—Breach of Contract\n",
      "CA Cause of Action—Common Counts\n",
      "CA Cause of Action—Fraud\n",
      "CA Answer—Contract\n",
      "CA Complaint—Recovery of COVID-19 Rental Debt\n",
      "CA Answer—Recovery of COVID-19 Rental Debt\n"
     ]
    },
    {
     "name": "stderr",
     "output_type": "stream",
     "text": [
      "/Users/davidcolarusso/opt/anaconda3/lib/python3.8/site-packages/sklearn/cluster/_affinity_propagation.py:246: ConvergenceWarning: Affinity propagation did not converge, this model will not have any cluster centers.\n",
      "  warnings.warn(\"Affinity propagation did not converge, this model \"\n",
      "/Users/davidcolarusso/opt/anaconda3/lib/python3.8/site-packages/sklearn/cluster/_affinity_propagation.py:460: ConvergenceWarning: This model does not have any cluster centers because affinity propagation did not converge. Labeling every sample as '-1'.\n",
      "  warnings.warn(\"This model does not have any cluster centers \"\n"
     ]
    },
    {
     "name": "stdout",
     "output_type": "stream",
     "text": [
      "CA Verification by Plaintiff Regarding Rental Assistance—Recovery of COVID-19 Rental Debt\n",
      "CA COMPLAINT—Personal Injury, Property Damage, Wrongful Death\n"
     ]
    },
    {
     "name": "stderr",
     "output_type": "stream",
     "text": [
      "/Users/davidcolarusso/opt/anaconda3/lib/python3.8/site-packages/sklearn/cluster/_affinity_propagation.py:246: ConvergenceWarning: Affinity propagation did not converge, this model will not have any cluster centers.\n",
      "  warnings.warn(\"Affinity propagation did not converge, this model \"\n",
      "/Users/davidcolarusso/opt/anaconda3/lib/python3.8/site-packages/sklearn/cluster/_affinity_propagation.py:460: ConvergenceWarning: This model does not have any cluster centers because affinity propagation did not converge. Labeling every sample as '-1'.\n",
      "  warnings.warn(\"This model does not have any cluster centers \"\n"
     ]
    },
    {
     "name": "stdout",
     "output_type": "stream",
     "text": [
      "CA Cause of Action—Motor Vehicle\n",
      "CA Cause of Action—General Negligence\n",
      "CA Cause of Action—Intentional Tort\n",
      "CA Cause of Action—Premises Liability\n",
      "CA Cause of Action—Products Liability\n",
      "CA Exemplary Damages Attachment\n",
      "CA Cross-Complaint—Personal Injury, Property Damage, Wrongful Death\n",
      "CA ANSWER—Personal Injury, Property Damage, Wrongful Death\n",
      "CA Proof of Service of Summons\n",
      "CA Notice and Acknowledgment of Receipt—Civil\n",
      "CA Proof of Personal Service—Civil (Proof of Service) / Information Sheet for Proof of Personal Service—Civil\n",
      "CA Attachment to Proof of Personal Service—Civil (Documents Served)\n",
      "CA Attachment to Proof of Personal Service—Civil (Persons Served)\n",
      "CA Proof of Service by First-Class Mail—Civil (Proof of Service)/Information Sheet for Proof of Service by First-Class Mail—Civil\n",
      "CA Attachment to Proof of Service by First-Class Mail—Civil (Documents Service)\n",
      "CA Attachment to Proof of Service by First-Class Mail—Civil (Persons Served)\n",
      "CA Proof of Service—Civil (Proof of Service)\n",
      "CA Attachment to Proof of Service—Civil (Documents Served)\n",
      "CA Attachment to Proof of Service—Civil (Persons Served)\n",
      "CA Proof of Electronic Service\n",
      "CA Attachment to Proof of Electronic Service (Documents Served)\n",
      "CA Attachment to Proof of Electronic Service (Persons Served)\n",
      "CA Ex Parte Order Appointing Receiver and Order to Show Cause and Temporary Restraining Order—Rents, Issues, and Profits\n",
      "CA Order Confirming Appointment of Receiver and Preliminary Injunction—Rents, Issues, and Profits\n",
      "CA Order to Show Cause and Temporary Restraining Order—Rents, Issues, and Profits\n",
      "CA Order Appointing Receiver After Hearing and Preliminary Injunction—Rents, Issues, and Profits\n",
      "CA Notice of Intent to Destroy Superior Court Records; Offer to Transfer Possession\n",
      "CA Request for Transfer or Extension of Time for Retention of Superior Court Records\n",
      "CA Notice of Hearing on Request for Transfer or Extension of Time for Retention of Superior Court Records; Court Record; Release and Receipt of Records\n",
      "CA Release and Receipt of Superior Court Records\n",
      "CA Plaintiff's Claim and ORDER to Go to Small Claims Court (Small Claims)\n",
      "CA Other Plaintiffs or Defendants (Attachment to Plaintiff's Claim and ORDER to Go to Small Claims Court)\n"
     ]
    },
    {
     "name": "stderr",
     "output_type": "stream",
     "text": [
      "/Users/davidcolarusso/opt/anaconda3/lib/python3.8/site-packages/sklearn/cluster/_affinity_propagation.py:246: ConvergenceWarning: Affinity propagation did not converge, this model will not have any cluster centers.\n",
      "  warnings.warn(\"Affinity propagation did not converge, this model \"\n",
      "/Users/davidcolarusso/opt/anaconda3/lib/python3.8/site-packages/sklearn/cluster/_affinity_propagation.py:460: ConvergenceWarning: This model does not have any cluster centers because affinity propagation did not converge. Labeling every sample as '-1'.\n",
      "  warnings.warn(\"This model does not have any cluster centers \"\n"
     ]
    },
    {
     "name": "stdout",
     "output_type": "stream",
     "text": [
      "CA Information for the Plaintiff (Small Claims)\n",
      "CA Attorney Fee Dispute (After Arbitration) (Attachment to Plaintiff's Claim and ORDER to Go to Small Claims Court)\n",
      "CA Fictitious Business Name (Small Claims)\n",
      "CA Proof of Service (Small Claims)\n",
      "CA Proof of Mailing (Substituted Service) (Small Claims)\n",
      "CA What Is Proof of Service? (Small Claims)\n",
      "CA How to Serve a Business or Public Entity (Small Claims)\n",
      "CA Request for Court Order and Answer\n",
      "CA Order on Request for Court Order\n",
      "CA Small Claims Subpoena for Personal Appearance and Production of Documents at Trial or Hearing and Declaration\n"
     ]
    },
    {
     "name": "stderr",
     "output_type": "stream",
     "text": [
      "/Users/davidcolarusso/opt/anaconda3/lib/python3.8/site-packages/sklearn/cluster/_affinity_propagation.py:246: ConvergenceWarning: Affinity propagation did not converge, this model will not have any cluster centers.\n",
      "  warnings.warn(\"Affinity propagation did not converge, this model \"\n",
      "/Users/davidcolarusso/opt/anaconda3/lib/python3.8/site-packages/sklearn/cluster/_affinity_propagation.py:460: ConvergenceWarning: This model does not have any cluster centers because affinity propagation did not converge. Labeling every sample as '-1'.\n",
      "  warnings.warn(\"This model does not have any cluster centers \"\n"
     ]
    },
    {
     "name": "stdout",
     "output_type": "stream",
     "text": [
      "CA Request to Correct or Cancel Judgment and Answer (Small Claims)\n",
      "CA Order on Request to Correct or Cancel Judgment\n",
      "CA Authorization to Appear on Behalf of Party\n",
      "CA Proof of Service by Mail (Small Claims)\n",
      "CA Clerk's Certificate of Mailing\n",
      "CA Request to Amend Party Name Before Hearing (Small Claims)\n",
      "CA Defendant's Claim and ORDER to Go to Small Claims Court\n",
      "CA Other Plaintiffs or Defendants (Attachment to Defendant's Claim and ORDER to Go to Small Claims Court)\n",
      "CA Notice of Entry of Judgment (Small Claims)\n",
      "CA Attorney-Client Fee Dispute (Attachment to Notice of Entry of Judgment)\n",
      "CA Judgment Debtor's Statement of Assets (Small Claims)\n",
      "\n",
      "CA Application and Order to Produce Statement of Assets and to Appear For Examination\n",
      "CA Notice of Motion to Vacate Judgment and Declaration\n",
      "CA Notice of Appeal\n",
      "CA Request to Pay Judgment to Court\n",
      "CA Request to Postpone Trial (Small Claims) (For Information for the Plaintiff, see SC-100-INFO)\n",
      "CA Order on Request to Postpone Trial (Small Claims)\n",
      "CA Notice of Entry of Judgment (Small Claims)\n",
      "CA What to Do After the Court Decides Your Small Claims Case\n",
      "\n",
      "CA Decision on Attorney-Client Fee Dispute (Small Claims)\n",
      "CA Request to Make Payments (Small Claims)\n",
      "CA Payments in Small Claims Cases\n"
     ]
    },
    {
     "name": "stderr",
     "output_type": "stream",
     "text": [
      "/Users/davidcolarusso/opt/anaconda3/lib/python3.8/site-packages/sklearn/cluster/_affinity_propagation.py:136: UserWarning: All samples have mutually equal similarities. Returning arbitrary cluster center(s).\n",
      "  warnings.warn(\"All samples have mutually equal similarities. \"\n"
     ]
    },
    {
     "name": "stdout",
     "output_type": "stream",
     "text": [
      "CA Response to Request to Make Payments (Small Claims)\n",
      "CA Order on Request to Make Payments (Small Claims)\n",
      "CA Declaration of Default in Payment of Judgment\n",
      "CA Response to Declaration of Default in Payment of Judgment\n",
      "CA Order on Declaration of Default in Payments\n",
      "CA Attachment to Order on Declaration of Default in Payments\n",
      "CA Acknowledgment of Satisfaction of Judgment\n",
      "CA Petition for Writ (Small Claims)\n"
     ]
    },
    {
     "name": "stderr",
     "output_type": "stream",
     "text": [
      "/Users/davidcolarusso/opt/anaconda3/lib/python3.8/site-packages/sklearn/cluster/_affinity_propagation.py:246: ConvergenceWarning: Affinity propagation did not converge, this model will not have any cluster centers.\n",
      "  warnings.warn(\"Affinity propagation did not converge, this model \"\n",
      "/Users/davidcolarusso/opt/anaconda3/lib/python3.8/site-packages/sklearn/cluster/_affinity_propagation.py:460: ConvergenceWarning: This model does not have any cluster centers because affinity propagation did not converge. Labeling every sample as '-1'.\n",
      "  warnings.warn(\"This model does not have any cluster centers \"\n"
     ]
    },
    {
     "name": "stdout",
     "output_type": "stream",
     "text": [
      "CA Information on Writ Proceedings in Small Claims Cases\n",
      "\n",
      "CA Plaintiff's Claim and ORDER to Go to Small Claims Court (COVID-19 Rental Debt)\n",
      "CA Other Plaintiffs or Defendants (COVID-19 Rental Debt)\n",
      "CA COVID-19 Rental Debt in Small Claims Court\n",
      "CA Confidential Information Form Under Code of Civil Procedure Section 367.3\n",
      "CA Motion to Place Documents Under Seal Under Code of Civil Procedure Section 367.3\n",
      "CA Instructions for Motion to Place Documents Under Seal Under Code of Civil Procedure Section 367.3\n",
      "CA Declaration in Support of Motion to Place Documents Under Seal Under Code of Civil Procedure Section 367.3\n",
      "CA Order on Motion to Place Documents Under Seal Under Code of Civil Procedure Section 367.3\n",
      "CA Ex Parte Application for Order Shortening Time for Hearing on Motion to Place Documents Under Seal Under Code of Civil Procedure Section 367.3\n",
      "CA Declaration Regarding Notice and Service of Ex Parte Application for Order Shortening Time for Hearing on Motion to Place Documents Under Seal Under Code of Civil Procedure Section 367.3\n",
      "CA Order on Ex Parte Application for Order Shortening Time for Hearing on Motion to Place Documents Under Seal Under Code of Civil Procedure Section 367.3\n",
      "CA Civil Subpoena for Personal Appearance at Trial or Hearing\n",
      "CA Civil Subpoena (Duces Tecum) for Personal Appearance and Production of Documents, Electronically Stored Information, and Things at Trial or Hearing and Declaration\n",
      "CA Deposition Subpoena for Production of Business Records\n",
      "CA Deposition Subpoena for Personal Appearance\n",
      "CA Deposition Subpoena for Personal Appearance and Production of Documents and Things\n",
      "CA Notice to Consumer or Employee and Objection\n",
      "CA Application for Discovery Subpoena in Action Pending Outside California\n",
      "CA Subpoena for Production of Business Records in Action Pending Outside California\n",
      "CA Deposition Subpoena for Personal Appearance in Action Pending Outside California\n",
      "CA Deposition Subpoena for Personal Appearance and Production of Documents, Electronically Stored Information, and Things in Action Pending Outside California\n",
      "CA Subpoena for Inspection of Premises in Action Pending Outside California\n",
      "CA Summons\n",
      "CA Summons—Cross-Complaint\n",
      "CA Summons (Joint Debtor)\n",
      "CA Summons—Unlawful Detainer—Eviction\n",
      "CA Summons—Enforcement of State Housing Law\n",
      "CA Additional Parties Attachment (Attachment to Summons)\n",
      "CA Declaration of Lost Summons After Service\n",
      "CA Petition for Private Postsecondary School Violence Restraining Orders\n",
      "CA How Do I Get an Order to Prohibit Private Postsecondary School Violence?\n",
      "CA Notice of Court Hearing (Private Postsecondary School Violence Prevention)\n"
     ]
    },
    {
     "name": "stderr",
     "output_type": "stream",
     "text": [
      "/Users/davidcolarusso/opt/anaconda3/lib/python3.8/site-packages/sklearn/cluster/_affinity_propagation.py:136: UserWarning: All samples have mutually equal similarities. Returning arbitrary cluster center(s).\n",
      "  warnings.warn(\"All samples have mutually equal similarities. \"\n"
     ]
    },
    {
     "name": "stdout",
     "output_type": "stream",
     "text": [
      "CA Temporary Restraining Order (CLETS-TSV)\n",
      "CA Request to Continue Court Hearing (Temporary Restraining Order) (Private Postsecondary School Violence Prevention)\n",
      "CA How to Ask for a New Hearing Date (Private Postsecondary School Violence Prevention)\n",
      "CA Order on Request to Continue Hearing (Temporary Restraining Order) (CLETS-TSV) (Private Postsecondary School Violence Prevention)\n",
      "CA Response to Petition for Private Postsecondary School Violence Restraining Orders\n",
      "CA How Can I Respond to a Petition for Private Postsecondary School Violence Restraining Orders?\n",
      "CA Private Postsecondary School Violence Restraining Order After Hearing (CLETS-SVO)\n",
      "CA Proof of Personal Service\n",
      "CA What Is Proof of Personal Service?\n"
     ]
    },
    {
     "name": "stderr",
     "output_type": "stream",
     "text": [
      "/Users/davidcolarusso/opt/anaconda3/lib/python3.8/site-packages/sklearn/cluster/_affinity_propagation.py:136: UserWarning: All samples have mutually equal similarities. Returning arbitrary cluster center(s).\n",
      "  warnings.warn(\"All samples have mutually equal similarities. \"\n"
     ]
    },
    {
     "name": "stdout",
     "output_type": "stream",
     "text": [
      "CA Proof of Service of Response by Mail\n",
      "CA Proof of Service of Order After Hearing by Mail\n",
      "CA Request to Modify/Terminate Private Postsecondary School Violence Restraining Order\n",
      "CA Notice of Hearing on Request to Modify/Terminate Private Postsecondary School Violence Restraining Order\n",
      "CA Response to Request to Modify/Terminate Private Postsecondary School Violence Restraining Order\n",
      "CA Order on Request to Modify/Terminate Private Postsecondary School Violence Restraining Order\n",
      "CA Request to Renew Restraining Order\n",
      "CA Notice of Hearing to Renew Restraining Order\n",
      "CA Response to Request to Renew Restraining Order\n",
      "CA Order Renewing Private Postsecondary School Violence Restraining Order\n",
      "CA Proof of Firearms Turned In, Sold, or Stored\n",
      "CA How Do I Turn In, Sell, or Store My Firearms?\n",
      "CA Petition for Order Prohibiting Abuse or Program Misconduct\n"
     ]
    },
    {
     "name": "stderr",
     "output_type": "stream",
     "text": [
      "/Users/davidcolarusso/opt/anaconda3/lib/python3.8/site-packages/sklearn/cluster/_affinity_propagation.py:246: ConvergenceWarning: Affinity propagation did not converge, this model will not have any cluster centers.\n",
      "  warnings.warn(\"Affinity propagation did not converge, this model \"\n",
      "/Users/davidcolarusso/opt/anaconda3/lib/python3.8/site-packages/sklearn/cluster/_affinity_propagation.py:460: ConvergenceWarning: This model does not have any cluster centers because affinity propagation did not converge. Labeling every sample as '-1'.\n",
      "  warnings.warn(\"This model does not have any cluster centers \"\n"
     ]
    },
    {
     "name": "stdout",
     "output_type": "stream",
     "text": [
      "CA Order to Show Cause and Temporary Restraining Order\n"
     ]
    },
    {
     "name": "stderr",
     "output_type": "stream",
     "text": [
      "/Users/davidcolarusso/opt/anaconda3/lib/python3.8/site-packages/sklearn/cluster/_affinity_propagation.py:246: ConvergenceWarning: Affinity propagation did not converge, this model will not have any cluster centers.\n",
      "  warnings.warn(\"Affinity propagation did not converge, this model \"\n",
      "/Users/davidcolarusso/opt/anaconda3/lib/python3.8/site-packages/sklearn/cluster/_affinity_propagation.py:460: ConvergenceWarning: This model does not have any cluster centers because affinity propagation did not converge. Labeling every sample as '-1'.\n",
      "  warnings.warn(\"This model does not have any cluster centers \"\n"
     ]
    },
    {
     "name": "stdout",
     "output_type": "stream",
     "text": [
      "CA Participant's Response\n"
     ]
    },
    {
     "name": "stderr",
     "output_type": "stream",
     "text": [
      "/Users/davidcolarusso/opt/anaconda3/lib/python3.8/site-packages/sklearn/cluster/_affinity_propagation.py:246: ConvergenceWarning: Affinity propagation did not converge, this model will not have any cluster centers.\n",
      "  warnings.warn(\"Affinity propagation did not converge, this model \"\n",
      "/Users/davidcolarusso/opt/anaconda3/lib/python3.8/site-packages/sklearn/cluster/_affinity_propagation.py:460: ConvergenceWarning: This model does not have any cluster centers because affinity propagation did not converge. Labeling every sample as '-1'.\n",
      "  warnings.warn(\"This model does not have any cluster centers \"\n"
     ]
    },
    {
     "name": "stdout",
     "output_type": "stream",
     "text": [
      "CA Order After Hearing\n"
     ]
    },
    {
     "name": "stderr",
     "output_type": "stream",
     "text": [
      "/Users/davidcolarusso/opt/anaconda3/lib/python3.8/site-packages/sklearn/cluster/_affinity_propagation.py:246: ConvergenceWarning: Affinity propagation did not converge, this model will not have any cluster centers.\n",
      "  warnings.warn(\"Affinity propagation did not converge, this model \"\n",
      "/Users/davidcolarusso/opt/anaconda3/lib/python3.8/site-packages/sklearn/cluster/_affinity_propagation.py:460: ConvergenceWarning: This model does not have any cluster centers because affinity propagation did not converge. Labeling every sample as '-1'.\n",
      "  warnings.warn(\"This model does not have any cluster centers \"\n"
     ]
    },
    {
     "name": "stdout",
     "output_type": "stream",
     "text": [
      "CA Proof of Personal Service\n"
     ]
    },
    {
     "name": "stderr",
     "output_type": "stream",
     "text": [
      "/Users/davidcolarusso/opt/anaconda3/lib/python3.8/site-packages/sklearn/cluster/_affinity_propagation.py:246: ConvergenceWarning: Affinity propagation did not converge, this model will not have any cluster centers.\n",
      "  warnings.warn(\"Affinity propagation did not converge, this model \"\n",
      "/Users/davidcolarusso/opt/anaconda3/lib/python3.8/site-packages/sklearn/cluster/_affinity_propagation.py:460: ConvergenceWarning: This model does not have any cluster centers because affinity propagation did not converge. Labeling every sample as '-1'.\n",
      "  warnings.warn(\"This model does not have any cluster centers \"\n"
     ]
    },
    {
     "name": "stdout",
     "output_type": "stream",
     "text": [
      "CA Restatement of Transitional Housing Misconduct Act\n",
      "CA Instructions for Program Operators\n",
      "CA Instructions for Participants\n",
      "CA Notice of Correction and Proof of Service\n",
      "\n",
      "CA Continuation of Notice to Appear\n",
      "\n",
      "CA Continuation of Citation\n",
      "\n",
      "CA Automated Traffic Enforcement System Notice to Appear\n",
      "\n",
      "CA Nontraffic Notice to Appear\n",
      "\n",
      "CA Traffic/Nontraffic Notice to Appear\n",
      "\n",
      "CA Electronic Traffic/Nontraffic Notice to Appear (4 format)\n",
      "\n",
      "CA Electronic Traffic/Nontraffic Notice to Appear (3 format)\n",
      "\n",
      "CA Instructions to Defendant\n",
      "CA Request for Trial by Written Declaration\n"
     ]
    },
    {
     "name": "stderr",
     "output_type": "stream",
     "text": [
      "/Users/davidcolarusso/opt/anaconda3/lib/python3.8/site-packages/sklearn/cluster/_affinity_propagation.py:136: UserWarning: All samples have mutually equal similarities. Returning arbitrary cluster center(s).\n",
      "  warnings.warn(\"All samples have mutually equal similarities. \"\n"
     ]
    },
    {
     "name": "stdout",
     "output_type": "stream",
     "text": [
      "CA Notice and Instructions to Arresting Officer\n",
      "CA Decision and Notice of Decision\n",
      "CA Request for New Trial (Trial de Novo)\n",
      "CA Order and Notice to Defendant of New Trial (Trial de Novo)\n",
      "CA Officer's Declaration\n",
      "CA Agreement to Pay and Forfeit Bail Installments\n",
      "\n",
      "CA Online Agreement to Pay and Forfeit Bail Installments\n",
      "\n",
      "CA Agreement to Pay Traffic Violator School Fees in Installments\n",
      "\n",
      "CA Online Agreement to Pay Traffic Violator School Fees in Installments\n",
      "\n",
      "CA Can't Afford to Pay Fine: Traffic and Other Infractions\n",
      "CA Can't Afford to Pay Fine: Traffic and Other Infractions (Court Order)\n"
     ]
    },
    {
     "name": "stderr",
     "output_type": "stream",
     "text": [
      "/Users/davidcolarusso/opt/anaconda3/lib/python3.8/site-packages/sklearn/cluster/_affinity_propagation.py:246: ConvergenceWarning: Affinity propagation did not converge, this model will not have any cluster centers.\n",
      "  warnings.warn(\"Affinity propagation did not converge, this model \"\n",
      "/Users/davidcolarusso/opt/anaconda3/lib/python3.8/site-packages/sklearn/cluster/_affinity_propagation.py:460: ConvergenceWarning: This model does not have any cluster centers because affinity propagation did not converge. Labeling every sample as '-1'.\n",
      "  warnings.warn(\"This model does not have any cluster centers \"\n"
     ]
    },
    {
     "name": "stdout",
     "output_type": "stream",
     "text": [
      "CA Instruction to Defendant for Remote Video Proceeding\n"
     ]
    },
    {
     "name": "stderr",
     "output_type": "stream",
     "text": [
      "/Users/davidcolarusso/opt/anaconda3/lib/python3.8/site-packages/sklearn/cluster/_affinity_propagation.py:246: ConvergenceWarning: Affinity propagation did not converge, this model will not have any cluster centers.\n",
      "  warnings.warn(\"Affinity propagation did not converge, this model \"\n",
      "/Users/davidcolarusso/opt/anaconda3/lib/python3.8/site-packages/sklearn/cluster/_affinity_propagation.py:460: ConvergenceWarning: This model does not have any cluster centers because affinity propagation did not converge. Labeling every sample as '-1'.\n",
      "  warnings.warn(\"This model does not have any cluster centers \"\n"
     ]
    },
    {
     "name": "stdout",
     "output_type": "stream",
     "text": [
      "CA Notice and Waiver of Rights and Request for Remote Video Arraignment and Trial\n",
      "CA Notice and Waiver of Rights and Request for Remote Video Proceeding\n",
      "CA Notice to Appear and Related Forms\n",
      "\n",
      "CA Complaint—Unlawful Detainer\n",
      "CA Plaintiff's Mandatory Cover Sheet and Supplemental Allegations—Unlawful Detainer\n",
      "CA Cover Sheet for Declaration of Covid-19–Related Financial Distress\n",
      "CA Attachment—Declaration of Covid-19–Related Financial Distress\n",
      "CA Answer—Unlawful Detainer\n",
      "CA Form Interrogatories—Unlawful Detainer\n",
      "CA Judgment—Unlawful Detainer\n",
      "CA Judgment—Unlawful Detainer Attachment\n",
      "CA Stipulation for Entry of Judgment\n",
      "\n",
      "CA Declaration for Default Judgment by Court (Unlawful Detainer—Civ. Proc., § 585(d))\n",
      "\n",
      "CA Verification by Landlord Regarding Rental Assistance—Unlawful Detainer\n",
      "CA Application to Prevent Forfeiture Due to COVID-19 Rental Debt\n",
      "CA Request/Counter-Request to Set Case for Trial—Unlawful Detainer\n",
      "\n",
      "CA Prefiling Order—Vexatious Litigant\n",
      "CA Request to File New Litigation by Vexatious Litigant\n",
      "CA Order to File New Litigation by Vexatious Litigant\n",
      "CA Application for Order to Vacate Prefiling Order and Remove Plaintiff/Petitioner From Judicial Council Vexatious Litigant List\n",
      "CA Order on Application to Vacate Prefiling Order and Remove Plaintiff/Petitioner from Judicial Council Vexatious Litigant List\n",
      "CA Application for Earnings Withholding Order\n",
      "CA Earnings Withholding Order\n",
      "CA Employee Instructions\n"
     ]
    },
    {
     "name": "stderr",
     "output_type": "stream",
     "text": [
      "/Users/davidcolarusso/opt/anaconda3/lib/python3.8/site-packages/sklearn/cluster/_affinity_propagation.py:136: UserWarning: All samples have mutually equal similarities. Returning arbitrary cluster center(s).\n",
      "  warnings.warn(\"All samples have mutually equal similarities. \"\n"
     ]
    },
    {
     "name": "stdout",
     "output_type": "stream",
     "text": [
      "CA Earnings Withholding Order for Support\n",
      "CA Employer's Return\n",
      "CA Claim of Exemption\n",
      "CA Financial Statement\n",
      "CA Notice of Filing of Claim of Exemption\n",
      "CA Notice of Opposition to Claim of Exemption\n",
      "CA Notice of Hearing on Claim of Exemption\n",
      "CA Order Determining Claim of Exemption\n",
      "CA Notice of Termination or Modification of Earnings Withholding Order\n",
      "CA Application for Earnings Withholding Order for Taxes (State Tax Liability)\n",
      "CA Confidential Supplement to Application for Earnings Withholding Order for Taxes (State Tax Liability)\n",
      "CA Earnings Withholding Order for Taxes (State Tax Liability)\n",
      "CA Notice Of Hearing—Earnings Withholding Order for Taxes (State Tax Liability)\n",
      "CA Temporary Earnings Withholding Order for Taxes (State Tax Liability)\n",
      "CA Confidential Supplement to Temporary Earnings Withholding Order for Taxes (State Tax Liability)\n",
      "CA Claim of Exemption and Financial Declaration (State Tax Liability)\n",
      "CA Earnings Withholding Order for Elder and Dependent Adult Financial Abuse\n",
      "CA Confidential Statement of Judgment Debtor's Social Security Number\n",
      "CA Petition for Workplace Violence Restraining Orders\n",
      "CA How Do I Get an Order to Prohibit Workplace Violence?\n",
      "CA Notice of Court Hearing\n"
     ]
    },
    {
     "name": "stderr",
     "output_type": "stream",
     "text": [
      "/Users/davidcolarusso/opt/anaconda3/lib/python3.8/site-packages/sklearn/cluster/_affinity_propagation.py:136: UserWarning: All samples have mutually equal similarities. Returning arbitrary cluster center(s).\n",
      "  warnings.warn(\"All samples have mutually equal similarities. \"\n"
     ]
    },
    {
     "name": "stdout",
     "output_type": "stream",
     "text": [
      "CA Temporary Restraining Order (CLETS-TWH)\n",
      "CA Request to Continue Court Hearing (Temporary Restraining Order) (Workplace Violence Prevention)\n",
      "CA How to Ask for a New Hearing Date (Workplace Violence Prevention)\n",
      "CA Order on Request to Continue Hearing (Temporary Restraining Order) (CLETS-TWH) (Workplace Violence Prevention)\n",
      "CA Response to Petition for Workplace Violence Restraining Orders\n",
      "CA How Can I Respond to a Petition for Workplace Violence Restraining Orders?\n",
      "CA Workplace Violence Restraining Order After hearing (CLETS-WHO)\n",
      "CA Proof of Personal Service\n",
      "CA What Is Proof of Personal Service?\n"
     ]
    },
    {
     "name": "stderr",
     "output_type": "stream",
     "text": [
      "/Users/davidcolarusso/opt/anaconda3/lib/python3.8/site-packages/sklearn/cluster/_affinity_propagation.py:136: UserWarning: All samples have mutually equal similarities. Returning arbitrary cluster center(s).\n",
      "  warnings.warn(\"All samples have mutually equal similarities. \"\n"
     ]
    },
    {
     "name": "stdout",
     "output_type": "stream",
     "text": [
      "CA Proof of Service of Response by Mail\n",
      "CA Proof of Service of Order After Hearing by Mail\n",
      "CA Request to Modify/Terminate Workplace Violence Restraining Order\n",
      "CA Notice of Hearing on Request to Modify/Terminate Workplace Violence Restraining Order\n",
      "CA Response to Request to Modify/Terminate Workplace Violence Restraining Order\n",
      "CA Order on Request to Modify/Terminate Workplace Violence Restraining Order\n",
      "CA Request to Renew Restraining Order\n"
     ]
    }
   ],
   "source": [
    "path = \"../../\"\n",
    "\n",
    "for jur in jurs:    \n",
    "    if not os.path.exists(\"docs/form/%s\"%(jur[0])):\n",
    "        os.makedirs(\"docs/form/%s\"%(jur[0]))\n",
    "    else:\n",
    "        shutil.rmtree(\"docs/form/%s\"%(jur[0]))\n",
    "        os.makedirs(\"docs/form/%s\"%(jur[0]))\n",
    "        \n",
    "\n",
    "for index,row in files_df.iterrows():\n",
    "    print(row[\"jurisdiction\"],row[\"title\"])\n",
    "    \n",
    "    html = header(row[\"jurisdiction\"]+\": \"+row[\"title\"],\"description goes here\",path,wide=1)+formview([row[\"jurisdiction\"],\"\"],path)+footer(path)\n",
    "    text_file = open(\"docs/form/%s/%s.html\"%(row[\"jurisdiction\"],row[\"id\"]), \"w\", encoding=\"utf-8\")\n",
    "    \n",
    "    text_file.write(html)\n",
    "    text_file.close()"
   ]
  },
  {
   "cell_type": "code",
   "execution_count": null,
   "metadata": {},
   "outputs": [],
   "source": [
    "files_sim_df[files_sim_df[\"similarity\"]!=0][\"similarity\"].median()"
   ]
  },
  {
   "cell_type": "code",
   "execution_count": null,
   "metadata": {},
   "outputs": [],
   "source": []
  },
  {
   "cell_type": "code",
   "execution_count": null,
   "metadata": {},
   "outputs": [],
   "source": []
  }
 ],
 "metadata": {
  "kernelspec": {
   "display_name": "Python 3",
   "language": "python",
   "name": "python3"
  },
  "language_info": {
   "codemirror_mode": {
    "name": "ipython",
    "version": 3
   },
   "file_extension": ".py",
   "mimetype": "text/x-python",
   "name": "python",
   "nbconvert_exporter": "python",
   "pygments_lexer": "ipython3",
   "version": "3.8.8"
  }
 },
 "nbformat": 4,
 "nbformat_minor": 2
}
