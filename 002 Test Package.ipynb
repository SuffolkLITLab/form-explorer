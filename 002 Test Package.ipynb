{
 "cells": [
  {
   "cell_type": "code",
   "execution_count": 1,
   "id": "b565075a",
   "metadata": {},
   "outputs": [],
   "source": [
    "import sys  \n",
    "sys.path.insert(0, '/lib')\n",
    "    \n",
    "import lib.lit_explorer as lit\n",
    "#from lib.lit_explorer import *"
   ]
  },
  {
   "cell_type": "code",
   "execution_count": 2,
   "id": "a658ccee",
   "metadata": {},
   "outputs": [
    {
     "data": {
      "text/plain": [
       "'asdasd asdsa'"
      ]
     },
     "execution_count": 2,
     "metadata": {},
     "output_type": "execute_result"
    }
   ],
   "source": [
    "lit.reCase(\"asdasd_asdsa\")"
   ]
  },
  {
   "cell_type": "code",
   "execution_count": 3,
   "id": "d849c6d8",
   "metadata": {},
   "outputs": [
    {
     "data": {
      "text/plain": [
       "'users1_name'"
      ]
     },
     "execution_count": 3,
     "metadata": {},
     "output_type": "execute_result"
    }
   ],
   "source": [
    "lit.regex_norm_field(\"Name\")"
   ]
  },
  {
   "cell_type": "code",
   "execution_count": 4,
   "id": "255d5021",
   "metadata": {},
   "outputs": [
    {
     "data": {
      "text/plain": [
       "'name_field_fill'"
      ]
     },
     "execution_count": 4,
     "metadata": {},
     "output_type": "execute_result"
    }
   ],
   "source": [
    "lit.reformat_field(\"this is a name field where you fill out your name\")"
   ]
  },
  {
   "cell_type": "code",
   "execution_count": 5,
   "id": "9a1cb8b0",
   "metadata": {},
   "outputs": [
    {
     "data": {
      "text/plain": [
       "('case_thing', 0.43)"
      ]
     },
     "execution_count": 5,
     "metadata": {},
     "output_type": "execute_result"
    }
   ],
   "source": [
    "lit.normalize_name(\"UT\",None,2,0.3,\"null\",\"Case thing\")"
   ]
  },
  {
   "cell_type": "code",
   "execution_count": 6,
   "id": "a2f928bf",
   "metadata": {},
   "outputs": [
    {
     "data": {
      "text/plain": [
       "{'screen_0': ['user', 'name', 'address'], 'screen_1': ['street']}"
      ]
     },
     "execution_count": 6,
     "metadata": {},
     "output_type": "execute_result"
    }
   ],
   "source": [
    "lit.cluster_screens([\"user\",\"name\",\"address\",\"street\"])"
   ]
  },
  {
   "cell_type": "code",
   "execution_count": null,
   "id": "17e5c5f2",
   "metadata": {},
   "outputs": [],
   "source": []
  }
 ],
 "metadata": {
  "kernelspec": {
   "display_name": "Python 3",
   "language": "python",
   "name": "python3"
  },
  "language_info": {
   "codemirror_mode": {
    "name": "ipython",
    "version": 3
   },
   "file_extension": ".py",
   "mimetype": "text/x-python",
   "name": "python",
   "nbconvert_exporter": "python",
   "pygments_lexer": "ipython3",
   "version": "3.8.8"
  }
 },
 "nbformat": 4,
 "nbformat_minor": 5
}
