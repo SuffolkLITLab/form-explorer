{
 "cells": [
  {
   "cell_type": "code",
   "execution_count": null,
   "id": "b7c5415c",
   "metadata": {},
   "outputs": [],
   "source": [
    "import sys  \n",
    "sys.path.insert(0, '/lib')\n",
    "import lib.lit_explorer as lit"
   ]
  },
  {
   "cell_type": "code",
   "execution_count": null,
   "id": "9f913280",
   "metadata": {},
   "outputs": [],
   "source": [
    "lit.reCase(\"Deal with snake_case, camelCase and similarly-formated text.\")"
   ]
  },
  {
   "cell_type": "code",
   "execution_count": null,
   "id": "0a8c453b",
   "metadata": {},
   "outputs": [],
   "source": [
    "lit.regex_norm_field(\"your name\")"
   ]
  },
  {
   "cell_type": "code",
   "execution_count": null,
   "id": "c7169b41",
   "metadata": {},
   "outputs": [],
   "source": [
    "lit.reformat_field(\"this is a variable where you fill out your name\")"
   ]
  },
  {
   "cell_type": "code",
   "execution_count": null,
   "id": "d7c15a6c",
   "metadata": {},
   "outputs": [],
   "source": [
    "lit.normalize_name(\"UT\",None,2,0.3,\"null\",\"Case Number\")"
   ]
  },
  {
   "cell_type": "code",
   "execution_count": null,
   "id": "4464cbd4",
   "metadata": {},
   "outputs": [],
   "source": [
    "lit.read_pdf(\"../data/processed/www.courts.michigan.gov/forms/147d1063a642a9f94693331190cc14599152610dc5cd489b5d17e46d.pdf\")"
   ]
  },
  {
   "cell_type": "code",
   "execution_count": null,
   "id": "1ab8a861",
   "metadata": {},
   "outputs": [],
   "source": [
    "stats = lit.parse_form(\"../data/processed/www.courts.michigan.gov/forms/147d1063a642a9f94693331190cc14599152610dc5cd489b5d17e46d.pdf\",title=None,jur=\"MI\",cat=None,normalize=1,use_spot=1,rewrite=0)\n",
    "stats"
   ]
  },
  {
   "cell_type": "code",
   "execution_count": null,
   "id": "3c54b41f",
   "metadata": {},
   "outputs": [],
   "source": [
    "lit.cluster_screens(stats[\"fields\"],damping=0.7)"
   ]
  },
  {
   "cell_type": "code",
   "execution_count": null,
   "id": "9a3ebba7",
   "metadata": {},
   "outputs": [],
   "source": []
  }
 ],
 "metadata": {
  "kernelspec": {
   "display_name": "Python 3",
   "language": "python",
   "name": "python3"
  },
  "language_info": {
   "codemirror_mode": {
    "name": "ipython",
    "version": 3
   },
   "file_extension": ".py",
   "mimetype": "text/x-python",
   "name": "python",
   "nbconvert_exporter": "python",
   "pygments_lexer": "ipython3",
   "version": "3.8.8"
  }
 },
 "nbformat": 4,
 "nbformat_minor": 5
}
