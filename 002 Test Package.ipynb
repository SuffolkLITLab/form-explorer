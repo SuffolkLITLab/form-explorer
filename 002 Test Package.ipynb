{
 "cells": [
  {
   "cell_type": "code",
   "execution_count": 1,
   "id": "5ca57e48",
   "metadata": {},
   "outputs": [],
   "source": [
    "import sys  \n",
    "sys.path.insert(0, '/lib')\n",
    "import lib.lit_explorer as lit"
   ]
  },
  {
   "cell_type": "code",
   "execution_count": 2,
   "id": "d67ad980",
   "metadata": {},
   "outputs": [
    {
     "data": {
      "text/plain": [
       "'Deal with snake case, camel Case and similarly formated text.'"
      ]
     },
     "execution_count": 2,
     "metadata": {},
     "output_type": "execute_result"
    }
   ],
   "source": [
    "lit.reCase(\"Deal with snake_case, camelCase and similarly-formated text.\")"
   ]
  },
  {
   "cell_type": "code",
   "execution_count": 3,
   "id": "b5c485e5",
   "metadata": {},
   "outputs": [
    {
     "data": {
      "text/plain": [
       "'users1_name'"
      ]
     },
     "execution_count": 3,
     "metadata": {},
     "output_type": "execute_result"
    }
   ],
   "source": [
    "lit.regex_norm_field(\"your name\")"
   ]
  },
  {
   "cell_type": "code",
   "execution_count": 10,
   "id": "12db58df",
   "metadata": {},
   "outputs": [
    {
     "data": {
      "text/plain": [
       "'variable_fill_name'"
      ]
     },
     "execution_count": 10,
     "metadata": {},
     "output_type": "execute_result"
    }
   ],
   "source": [
    "lit.reformat_field(\"this is a variable where you fill out your name\")"
   ]
  },
  {
   "cell_type": "code",
   "execution_count": 13,
   "id": "322162b5",
   "metadata": {},
   "outputs": [
    {
     "data": {
      "text/plain": [
       "('*docket_number', 1.0)"
      ]
     },
     "execution_count": 13,
     "metadata": {},
     "output_type": "execute_result"
    }
   ],
   "source": [
    "lit.normalize_name(\"UT\",None,2,0.3,\"null\",\"Case Number\")"
   ]
  },
  {
   "cell_type": "code",
   "execution_count": 6,
   "id": "83e7d8ad",
   "metadata": {},
   "outputs": [
    {
     "data": {
      "text/plain": [
       "{'screen_0': ['users1_name',\n",
       "  'users1_birthdate',\n",
       "  'users1_address_line_one',\n",
       "  'users1_address_line_two',\n",
       "  'users1_address_city',\n",
       "  'users1_address_state',\n",
       "  'users1_address_zip',\n",
       "  'users1_phone_number',\n",
       "  'users1_email',\n",
       "  'users1_signature'],\n",
       " 'screen_1': ['plantiffs1_name',\n",
       "  'defendants1_name',\n",
       "  'petitioners1_name',\n",
       "  'respondents1_name'],\n",
       " 'screen_2': ['docket_number'],\n",
       " 'screen_3': ['trial_court_county'],\n",
       " 'screen_4': ['signature_date']}"
      ]
     },
     "execution_count": 6,
     "metadata": {},
     "output_type": "execute_result"
    }
   ],
   "source": [
    "fields= [\"users1_name\",\"users1_birthdate\",\"users1_address_line_one\",\"users1_address_line_two\",\"users1_address_city\",\"users1_address_state\",\"users1_address_zip\",\"users1_phone_number\",\"users1_email\",\"plantiffs1_name\",\"defendants1_name\",\"petitioners1_name\",\"respondents1_name\",\"docket_number\",\"trial_court_county\",\"users1_signature\",\"signature_date\"]\n",
    "lit.cluster_screens(fields,damping=0.7)"
   ]
  },
  {
   "cell_type": "code",
   "execution_count": 7,
   "id": "646d3783",
   "metadata": {},
   "outputs": [
    {
     "data": {
      "text/plain": [
       "\"APPLICATION1. Onjudgment was entered against the defendant (s) and the plaintiff was awarded\\n possession of the following described property: 2. No payment has been made on the judgment or no rent has been received since the date of judgment, except the sum of\\n $ received under the following conditions: \\n 3. The plaintiff has complied with the terms of the judgment. \\n 4. The time stated in the judgment before an order of eviction can be issued has elapsed. \\n I declare that the statements above are true to the best of my information, knowledge, and belief. ORDER OF EVICTIONIN THE NAME OF THE PEOPLE OF THE STATE OF MICHIGAN: To the Court Officer: You are ordered to restore the plaintiff to, and put the plaintiff in, full possession of the premises. NOTE: In tenancy cases, this order must be executed within 56 days of the issuance date. DC 107 (3/16) APPLICATION AND ORDER OF EVICTION, Landlord Tenant / Land Contract\\n MCL 600. 5744, MCR 4. 201 (L) , MCR 4. 202 (K) Court address Court telephone no. Defendant's name (s) and address (es) Plaintiff's name, address, and telephone no. v Plaintiff's attorney, bar no. , address, and telephone no. Date Plaintiff/Attorney signature Date Date issued Judge Bar no. STATE OF MICHIGANJUDICIAL DISTRICTCASE NO. Approved, SCAO2 nd copy - Defendant 3 rd copy - Plaintiff APPLICATION AND ORDER OF EVICTIONLandlord Tenant / Land Contract NOTE: An application may be required even though arequest for an order of eviction is granted in the judgment. Original - Officer return\\n 1 st copy - Court APPLICATION AND ORDEROF EVICTIONCASE NO. RETURNI certify and return that on I executed the order of eviction on the other side of this form\\n by evictingfrom the property, and I have restored the plaintiff to peaceful possession as ordered. Date (Deputy) sheriff/Court officer/Bailiff Date Name (s) $$Service fee Miles traveled Fee\\n Incorrect address fee Miles traveled Fee\\n TOTAL FEE$$$\""
      ]
     },
     "execution_count": 7,
     "metadata": {},
     "output_type": "execute_result"
    }
   ],
   "source": [
    "lit.read_pdf(\"../data/processed/www.courts.michigan.gov/forms/147d1063a642a9f94693331190cc14599152610dc5cd489b5d17e46d.pdf\")"
   ]
  },
  {
   "cell_type": "code",
   "execution_count": 14,
   "id": "d12feaae",
   "metadata": {},
   "outputs": [
    {
     "data": {
      "text/plain": [
       "{'title': 'APPLICATION1. Onjudgment was entered against the defendant (s) and the plaintiff was awarded',\n",
       " 'category': None,\n",
       " 'pages': 2,\n",
       " 'reading grade level': 11.5,\n",
       " 'list': ['CO-07-00-00-00', 'CO-00-00-00-00', 'HO-00-00-00-00'],\n",
       " 'avg fields per page': 13.5,\n",
       " 'fields': ['state_michigan_judicial_district',\n",
       "  'text__1',\n",
       "  'text__2',\n",
       "  'text__3',\n",
       "  'text__4',\n",
       "  'defendant_names_addresses',\n",
       "  '1_on',\n",
       "  'judgment_entered_defendants_plaintiff_awarded',\n",
       "  'possession_following_described_property__1',\n",
       "  'possession_following_described_property__2',\n",
       "  'payment_made_judgment_rent_received_since_date_except_sum',\n",
       "  'received_following_conditions',\n",
       "  'unknown__1',\n",
       "  'unknown__2',\n",
       "  'declare_statements_true_best_information_knowledge_belief',\n",
       "  'text__5',\n",
       "  'signature_date__1',\n",
       "  'text__6',\n",
       "  'signature_date__2',\n",
       "  'service_fee',\n",
       "  'text__7',\n",
       "  'text__8',\n",
       "  'text__9',\n",
       "  'text__10',\n",
       "  'text__11',\n",
       "  'total_fee',\n",
       "  '*docket_number'],\n",
       " 'fields_conf': [0.57,\n",
       "  0.51,\n",
       "  0.52,\n",
       "  0.53,\n",
       "  0.53,\n",
       "  0.62,\n",
       "  0.67,\n",
       "  0.64,\n",
       "  0.59,\n",
       "  0.64,\n",
       "  0.68,\n",
       "  0.68,\n",
       "  0.58,\n",
       "  0.63,\n",
       "  0.59,\n",
       "  0.53,\n",
       "  0.53,\n",
       "  0.55,\n",
       "  0.56,\n",
       "  0.65,\n",
       "  0.48,\n",
       "  0.51,\n",
       "  0.59,\n",
       "  0.53,\n",
       "  0.57,\n",
       "  0.7,\n",
       "  1],\n",
       " 'fields_old': ['state_michigan_judicial_district',\n",
       "  'text__1',\n",
       "  'text__2',\n",
       "  'text__3',\n",
       "  'text__4',\n",
       "  'defendant_names_addresses',\n",
       "  '1_on',\n",
       "  'judgment_entered_defendants_plaintiff_awarded',\n",
       "  'possession_following_described_property__1',\n",
       "  'possession_following_described_property__2',\n",
       "  'payment_made_judgment_rent_received_since_date_except_sum',\n",
       "  'received_following_conditions',\n",
       "  'unknown__1',\n",
       "  'unknown__2',\n",
       "  'declare_statements_true_best_information_knowledge_belief',\n",
       "  'text__5',\n",
       "  'signature_date__1',\n",
       "  'text__6',\n",
       "  'signature_date__2',\n",
       "  'service_fee',\n",
       "  'text__7',\n",
       "  'text__8',\n",
       "  'text__9',\n",
       "  'text__10',\n",
       "  'text__11',\n",
       "  'total_fee',\n",
       "  'docket_number']}"
      ]
     },
     "execution_count": 14,
     "metadata": {},
     "output_type": "execute_result"
    }
   ],
   "source": [
    "lit.parse_form(\"../data/processed/www.courts.michigan.gov/forms/147d1063a642a9f94693331190cc14599152610dc5cd489b5d17e46d.pdf\",title=None,jur=\"MI\",cat=None,normalize=1,use_spot=1,rewrite=0)"
   ]
  },
  {
   "cell_type": "code",
   "execution_count": null,
   "id": "f5e27822",
   "metadata": {},
   "outputs": [],
   "source": []
  }
 ],
 "metadata": {
  "kernelspec": {
   "display_name": "Python 3",
   "language": "python",
   "name": "python3"
  },
  "language_info": {
   "codemirror_mode": {
    "name": "ipython",
    "version": 3
   },
   "file_extension": ".py",
   "mimetype": "text/x-python",
   "name": "python",
   "nbconvert_exporter": "python",
   "pygments_lexer": "ipython3",
   "version": "3.8.8"
  }
 },
 "nbformat": 4,
 "nbformat_minor": 5
}
