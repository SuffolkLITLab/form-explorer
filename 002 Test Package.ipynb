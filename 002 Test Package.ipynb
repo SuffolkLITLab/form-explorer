{
 "cells": [
  {
   "cell_type": "code",
   "execution_count": null,
   "metadata": {},
   "outputs": [],
   "source": [
    "import sys  \n",
    "sys.path.insert(0, '/lib')\n",
    "import lib.lit_explorer as lit"
   ]
  },
  {
   "cell_type": "code",
   "execution_count": 1,
   "metadata": {},
   "outputs": [
    {
     "name": "stderr",
     "output_type": "stream",
     "text": [
      "C:\\Users\\dcolarusso\\AppData\\Local\\Continuum\\anaconda3\\envs\\NLP-2020-01-07\\lib\\site-packages\\sklearn\\base.py:318: UserWarning: Trying to unpickle estimator DecisionTreeClassifier from version 0.24.1 when using version 0.22. This might lead to breaking code or invalid results. Use at your own risk.\n",
      "  UserWarning)\n",
      "C:\\Users\\dcolarusso\\AppData\\Local\\Continuum\\anaconda3\\envs\\NLP-2020-01-07\\lib\\site-packages\\sklearn\\base.py:318: UserWarning: Trying to unpickle estimator RandomForestClassifier from version 0.24.1 when using version 0.22. This might lead to breaking code or invalid results. Use at your own risk.\n",
      "  UserWarning)\n"
     ]
    }
   ],
   "source": [
    "import formfyxer as ff"
   ]
  },
  {
   "cell_type": "code",
   "execution_count": 2,
   "metadata": {},
   "outputs": [
    {
     "data": {
      "text/plain": [
       "'Reformat snake case, camel Case and similarly formated text into individual words.'"
      ]
     },
     "execution_count": 2,
     "metadata": {},
     "output_type": "execute_result"
    }
   ],
   "source": [
    "ff.reCase(\"Reformat snake_case, camelCase and similarly-formated text into individual words.\")"
   ]
  },
  {
   "cell_type": "code",
   "execution_count": 3,
   "metadata": {},
   "outputs": [
    {
     "data": {
      "text/plain": [
       "'users1_name'"
      ]
     },
     "execution_count": 3,
     "metadata": {},
     "output_type": "execute_result"
    }
   ],
   "source": [
    "ff.regex_norm_field(\"your name\")"
   ]
  },
  {
   "cell_type": "code",
   "execution_count": 4,
   "metadata": {},
   "outputs": [
    {
     "data": {
      "text/plain": [
       "'variable_fill_name'"
      ]
     },
     "execution_count": 4,
     "metadata": {},
     "output_type": "execute_result"
    }
   ],
   "source": [
    "ff.reformat_field(\"this is a variable where you fill out your name\")"
   ]
  },
  {
   "cell_type": "code",
   "execution_count": 5,
   "metadata": {},
   "outputs": [
    {
     "data": {
      "text/plain": [
       "('*docket_number', 1.0)"
      ]
     },
     "execution_count": 5,
     "metadata": {},
     "output_type": "execute_result"
    }
   ],
   "source": [
    "ff.normalize_name(\"UT\",None,2,0.3,\"null\",\"Case Number\")"
   ]
  },
  {
   "cell_type": "code",
   "execution_count": 6,
   "metadata": {},
   "outputs": [
    {
     "data": {
      "text/plain": [
       "'Waiver of \\n Rights\\n \\n Approved Board of District Court Judges \\n December 17, 2010\\n \\n Revised \\n November 26\\n , 2019\\n \\n Page \\n 1\\n \\n of \\n 2\\n \\n \\n \\n \\n Name\\n \\n \\n \\n \\n Address\\n \\n \\n \\n \\n City, State, Zip\\n \\n \\n \\n \\n Phone\\n \\n \\n \\n Check your email. \\n You will receive information and \\n documents at this email address. \\n \\n \\n Email\\n \\n In the District Court of Utah\\n \\n _ __ __ __ Judicial District _ __ __ __ __ __ Count\\n y\\n \\n Court Address _ __ __ __ __ __ __ __ __ __ __ __ __ __ __ __ __ __ _\\n \\n In the Matter of the Adoption of\\n \\n _ __ __ __ __\\n _ __ __ __ __ __ __ __ _\\n \\n (\\n \\n ) \\n \\n Waiver \\n of Rights\\n \\n _ __ __ __ __ _\\n _ __ __ __ _\\n _ __\\n \\n Case Number\\n \\n _ __ __ __ __ _\\n _ __ __ __ _\\n _ __\\n \\n Jud\\n ge\\n \\n _ __ __ __ __ _\\n _ __ __ __ _\\n _ __\\n \\n Commissioner\\n \\n Do not sign this document without reading it. \\n Do not sign it unless everything \\n stated is true and correct. \\n If you have any questions, \\n talk with\\n \\n an attorney\\n . \\n \\n \\n \\n You have the right to be notified of hearings and \\n to be served with papers in this \\n matter. You have the right to intervene and oppose the adoption. \\n By signing this \\n document you are giving up \\n these\\n \\n rights\\n . \\n \\n \\n \\n If you \\n want to waive your rights\\n , complete this form, sign it, \\n and \\n return\\n \\n it \\n to the \\n Petitioner\\n . \\n \\n \\n \\n If yo\\n u \\n want to intervene and \\n oppose the adoption, \\n file a motion to intervene \\n with \\n this\\n \\n court\\n \\n within 30 days after the \\n Notice of Petition to Adopt\\n \\n was served on you. \\n \\n 1\\n . \\n \\n I make this statement free from \\n duress\\n . \\n \\n Waiver of \\n Rights\\n \\n Approved Board of District Court Judges \\n December 17, 2010\\n \\n Revised \\n November 26\\n , 2019\\n \\n Page \\n 2\\n \\n of \\n 2\\n \\n \\n 2\\n . \\n \\n I am the \\n adoptee\\n \\n \\n [ ] \\n Guardian\\n \\n without the right\\n \\n to consent to the adoption\\n \\n [ ] \\n Custodian\\n \\n [ ] \\n S\\n p\\n ouse\\n \\n 3\\n . \\n \\n I understand that\\n : \\n \\n \\n \\n I have the right to be notified of hearings and to be served with papers in this \\n matter. \\n \\n \\n \\n I have the right to intervene and oppose the adoption. \\n \\n \\n \\n By signing this document \\n I am\\n \\n givin\\n g up \\n these\\n \\n rights\\n . \\n \\n 4\\n . \\n \\n Understanding all of this, \\n I \\n voluntarily \\n waive my right to \\n be notified of hearings \\n and served with papers in this matter\\n , and\\n \\n I voluntarily waive my right to \\n intervene in this matter. \\n \\n Do not sign this document without reading it. \\n Do n\\n ot sign it unless everything \\n stated is true and correct. \\n If you have any questions, \\n talk with\\n \\n an attorney\\n . \\n \\n \\n \\n I declare under \\n criminal \\n penalty \\n under the law of Utah\\n \\n that everything stated \\n in this document is true\\n . \\n \\n Signed at _ __ __ __ __ __ __ __ __ __ __ _\\n _ __ __ __ __ __ __ _ (city, and state or country) . \\n \\n \\n Sign\\n atu\\n \\n \\n \\n Date\\n \\n Printed Name'"
      ]
     },
     "execution_count": 6,
     "metadata": {},
     "output_type": "execute_result"
    }
   ],
   "source": [
    "ff.read_pdf(\"../data/raw/Waiver_Rights.pdf\")"
   ]
  },
  {
   "cell_type": "code",
   "execution_count": 12,
   "metadata": {},
   "outputs": [
    {
     "data": {
      "text/plain": [
       "['HO-02-00-00-00', 'HO-05-00-00-00', 'HO-06-00-00-00', 'HO-00-00-00-00']"
      ]
     },
     "execution_count": 12,
     "metadata": {},
     "output_type": "execute_result"
    }
   ],
   "source": [
    "ff.spot(\"my landlord kicked me out\")"
   ]
  },
  {
   "cell_type": "code",
   "execution_count": 13,
   "metadata": {},
   "outputs": [
    {
     "data": {
      "text/plain": [
       "{'title': 'Waiver of',\n",
       " 'category': None,\n",
       " 'pages': 2,\n",
       " 'reading grade level': 7.5,\n",
       " 'list': [],\n",
       " 'avg fields per page': 0.0,\n",
       " 'fields': [],\n",
       " 'fields_conf': [],\n",
       " 'fields_old': [],\n",
       " 'text': 'Waiver of . Rights. . Approved Board of District Court Judges . December 17, 2010. . Revised . November 26. , 2019. . Page . 1. . of . 2. . . . . Name. . . . . Address. . . . . City, State, Zip. . . . . Phone. . . . Check your email. . You will receive information and . documents at this email address. . . . Email. . In the District Court of Utah. . Judicial District Count. y. . Court Address . . In the Matter of the Adoption of. . . . . (. . ) . . Waiver . of Rights. . . . . . Case Number. . . . . . Jud. ge. . . . . . Commissioner. . Do not sign this document without reading it. . Do not sign it unless everything . stated is true and correct. . If you have any questions, . talk with. . an attorney. . . . . . You have the right to be notified of hearings and . to be served with papers in this . matter. You have the right to intervene and oppose the adoption. . By signing this . document you are giving up . these. . rights. . . . . . If you . want to waive your rights. , complete this form, sign it, . and . return. . it . to the . Petitioner. . . . . . If yo. u . want to intervene and . oppose the adoption, . file a motion to intervene . with . this. . court. . within 30 days after the . Notice of Petition to Adopt. . was served on you. . . 1. . . . I make this statement free from . duress. . . . Waiver of . Rights. . Approved Board of District Court Judges . December 17, 2010. . Revised . November 26. , 2019. . Page . 2. . of . 2. . . 2. . . . I am the . adoptee. . . [ ] . Guardian. . without the right. . to consent to the adoption. . [ ] . Custodian. . [ ] . S. p. ouse. . 3. . . . I understand that. : . . . . I have the right to be notified of hearings and to be served with papers in this . matter. . . . . I have the right to intervene and oppose the adoption. . . . . By signing this document . I am. . givin. g up . these. . rights. . . . 4. . . . Understanding all of this, . I . voluntarily . waive my right to . be notified of hearings . and served with papers in this matter. , and. . I voluntarily waive my right to . intervene in this matter. . . Do not sign this document without reading it. . Do n. ot sign it unless everything . stated is true and correct. . If you have any questions, . talk with. . an attorney. . . . . . I declare under . criminal . penalty . under the law of Utah. . that everything stated . in this document is true. . . . Signed at . (city, and state or country) . . . . Sign. atu. . . . Date. . Printed Name'}"
      ]
     },
     "execution_count": 13,
     "metadata": {},
     "output_type": "execute_result"
    }
   ],
   "source": [
    "stats = ff.parse_form(\"../data/raw/Waiver_Rights.pdf\",title=None,jur=\"UT\",cat=None,normalize=0,use_spot=0,rewrite=0)\n",
    "stats"
   ]
  },
  {
   "cell_type": "code",
   "execution_count": 9,
   "metadata": {},
   "outputs": [
    {
     "data": {
      "text/plain": [
       "{'screen_0': ['users1_name',\n",
       "  'users1_birthdate',\n",
       "  'users1_address_line_one',\n",
       "  'users1_address_line_two',\n",
       "  'users1_address_city',\n",
       "  'users1_address_state',\n",
       "  'users1_address_zip',\n",
       "  'users1_phone_number',\n",
       "  'users1_email',\n",
       "  'users1_signature'],\n",
       " 'screen_1': ['plantiffs1_name',\n",
       "  'defendants1_name',\n",
       "  'petitioners1_name',\n",
       "  'respondents1_name'],\n",
       " 'screen_2': ['docket_number'],\n",
       " 'screen_3': ['trial_court_county'],\n",
       " 'screen_4': ['signature_date']}"
      ]
     },
     "execution_count": 9,
     "metadata": {},
     "output_type": "execute_result"
    }
   ],
   "source": [
    "fields= [\n",
    "        \"users1_name\",\n",
    "        \"users1_birthdate\",\n",
    "        \"users1_address_line_one\",\n",
    "        \"users1_address_line_two\",\n",
    "        \"users1_address_city\",\n",
    "        \"users1_address_state\",\n",
    "        \"users1_address_zip\",\n",
    "        \"users1_phone_number\",\n",
    "        \"users1_email\",\n",
    "        \"plantiffs1_name\",\n",
    "        \"defendants1_name\",\n",
    "        \"petitioners1_name\",\n",
    "        \"respondents1_name\",\n",
    "        \"docket_number\",\n",
    "        \"trial_court_county\",\n",
    "        \"users1_signature\",\n",
    "        \"signature_date\"\n",
    "        ]\n",
    "\n",
    "\n",
    "ff.cluster_screens(fields,damping=0.7)"
   ]
  },
  {
   "cell_type": "code",
   "execution_count": null,
   "metadata": {},
   "outputs": [],
   "source": []
  }
 ],
 "metadata": {
  "kernelspec": {
   "display_name": "Python 3",
   "language": "python",
   "name": "python3"
  },
  "language_info": {
   "codemirror_mode": {
    "name": "ipython",
    "version": 3
   },
   "file_extension": ".py",
   "mimetype": "text/x-python",
   "name": "python",
   "nbconvert_exporter": "python",
   "pygments_lexer": "ipython3",
   "version": "3.7.5"
  }
 },
 "nbformat": 4,
 "nbformat_minor": 5
}
