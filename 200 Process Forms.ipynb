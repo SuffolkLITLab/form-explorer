{
 "cells": [
  {
   "cell_type": "markdown",
   "metadata": {},
   "source": [
    "To Do:\n",
    "- Make work based on jurs list"
   ]
  },
  {
   "cell_type": "code",
   "execution_count": 4,
   "metadata": {},
   "outputs": [],
   "source": [
    "import pandas as pd"
   ]
  },
  {
   "cell_type": "code",
   "execution_count": 5,
   "metadata": {},
   "outputs": [],
   "source": [
    "import formfyxer as lit"
   ]
  },
  {
   "cell_type": "code",
   "execution_count": 33,
   "metadata": {},
   "outputs": [],
   "source": [
    "jurs = [\n",
    "        \"AK\",\n",
    "        \"AL\",\n",
    "        #\"CA\",#\n",
    "        \"CO\",\n",
    "        \"CT\",\n",
    "        \"DE\",\n",
    "        \"HI\",\n",
    "        \"ID\",\n",
    "        \"IL\",\n",
    "        \"KS\",\n",
    "        #\"MA\",#\n",
    "        #\"ME\",#\n",
    "        \"MD\",\n",
    "        #\"MI\",#\n",
    "        #\"MN\",#\n",
    "        \"NC\",\n",
    "        \"NE\",\n",
    "        \"NV\",\n",
    "        \"SD\",\n",
    "        #\"UT\",#\n",
    "        \"VA\",\n",
    "        \"VT\",\n",
    "        \"WA\",\n",
    "        \"WI\",\n",
    "        \"WY\",\n",
    "        ]\n"
   ]
  },
  {
   "cell_type": "code",
   "execution_count": 34,
   "metadata": {},
   "outputs": [],
   "source": [
    "lookup = {\n",
    "        \"AK\":\"courts.alaska.gov\",\n",
    "        \"AL\":\"eforms.alacourt.gov\",\n",
    "        \"CA\":\"www.courts.ca.gov\",\n",
    "        \"CO\":\"www.courts.state.co.us\",\n",
    "        \"CT\":\"www.jud.ct.gov\",\n",
    "        \"DE\":\"courts.delaware.gov\",\n",
    "        \"HI\":\"www.courts.state.hi.us\",\n",
    "        \"ID\":\"courtselfhelp.idaho.gov\",\n",
    "        \"IL\":\"www.illinoiscourts.gov\",\n",
    "        \"KS\":\"kansasjudicialcouncil.org\",\n",
    "        \"MA\":\"www.mass.gov\",\n",
    "        \"ME\":\"mjbportal.courts.maine.gov\",\n",
    "        \"MD\":\"www.courts.state.md.us\",\n",
    "        \"MI\":\"www.courts.michigan.gov\",\n",
    "        \"MN\":\"www.mncourts.gov\",\n",
    "        \"NC\":\"www.nccourts.gov\",\n",
    "        \"NE\":\"supremecourt.nebraska.gov\",\n",
    "        \"NV\":\"selfhelp.nvcourts.gov\",\n",
    "        \"SD\":\"ujslawhelp.sd.gov\",\n",
    "        \"UT\":\"www.utcourts.gov\",\n",
    "        \"VA\":\"www.vacourts.gov\",\n",
    "        \"VT\":\"www.vermontjudiciary.org\",\n",
    "        \"WA\":\"www.courts.wa.gov\",\n",
    "        \"WI\":\"www.wicourts.gov\",\n",
    "        \"WY\":\"courts.state.wy.us\"\n",
    "}"
   ]
  },
  {
   "cell_type": "code",
   "execution_count": 37,
   "metadata": {},
   "outputs": [
    {
     "name": "stdout",
     "output_type": "stream",
     "text": [
      "AK courts.alaska.gov\n",
      "AL eforms.alacourt.gov\n",
      "CO www.courts.state.co.us\n",
      "CT www.jud.ct.gov\n",
      "DE courts.delaware.gov\n",
      "HI www.courts.state.hi.us\n",
      "ID courtselfhelp.idaho.gov\n",
      "IL www.illinoiscourts.gov\n",
      "KS kansasjudicialcouncil.org\n",
      "MD www.courts.state.md.us\n",
      "NC www.nccourts.gov\n",
      "NE supremecourt.nebraska.gov\n",
      "NV selfhelp.nvcourts.gov\n",
      "SD ujslawhelp.sd.gov\n",
      "VA www.vacourts.gov\n",
      "VT www.vermontjudiciary.org\n",
      "WA www.courts.wa.gov\n",
      "WI www.wicourts.gov\n",
      "WY courts.state.wy.us\n",
      "no 'status'\n"
     ]
    },
    {
     "data": {
      "text/html": [
       "<div>\n",
       "<style scoped>\n",
       "    .dataframe tbody tr th:only-of-type {\n",
       "        vertical-align: middle;\n",
       "    }\n",
       "\n",
       "    .dataframe tbody tr th {\n",
       "        vertical-align: top;\n",
       "    }\n",
       "\n",
       "    .dataframe thead th {\n",
       "        text-align: right;\n",
       "    }\n",
       "</style>\n",
       "<table border=\"1\" class=\"dataframe\">\n",
       "  <thead>\n",
       "    <tr style=\"text-align: right;\">\n",
       "      <th></th>\n",
       "      <th>id</th>\n",
       "      <th>jurisdiction</th>\n",
       "      <th>source</th>\n",
       "      <th>title</th>\n",
       "      <th>group</th>\n",
       "      <th>url</th>\n",
       "      <th>filename</th>\n",
       "      <th>downloaded_on</th>\n",
       "    </tr>\n",
       "  </thead>\n",
       "  <tbody>\n",
       "    <tr>\n",
       "      <th>0</th>\n",
       "      <td>9174d60bba63599e1506732cb93e52b9</td>\n",
       "      <td>AK</td>\n",
       "      <td>courts.alaska.gov</td>\n",
       "      <td>ADM-121 |  Attorney Fees Billing Form</td>\n",
       "      <td>Administration</td>\n",
       "      <td>https://public.courts.alaska.gov/web/forms/doc...</td>\n",
       "      <td>adm-121.pdf</td>\n",
       "      <td>2022-03-27</td>\n",
       "    </tr>\n",
       "    <tr>\n",
       "      <th>1</th>\n",
       "      <td>0bdc34ad40e5dbb31996a7bcf2d9038d</td>\n",
       "      <td>AK</td>\n",
       "      <td>courts.alaska.gov</td>\n",
       "      <td>ADM-122 |  Billing Form for Post-Trial Juror C...</td>\n",
       "      <td>Administration</td>\n",
       "      <td>https://public.courts.alaska.gov/web/forms/doc...</td>\n",
       "      <td>adm-122.pdf</td>\n",
       "      <td>2022-03-27</td>\n",
       "    </tr>\n",
       "    <tr>\n",
       "      <th>2</th>\n",
       "      <td>c8ce1a328aa5ca940c3a5255584a8882</td>\n",
       "      <td>AK</td>\n",
       "      <td>courts.alaska.gov</td>\n",
       "      <td>ADM-124 |  Screening Investigation Billing Form</td>\n",
       "      <td>Administration</td>\n",
       "      <td>https://public.courts.alaska.gov/web/forms/doc...</td>\n",
       "      <td>adm-124.pdf</td>\n",
       "      <td>2022-03-27</td>\n",
       "    </tr>\n",
       "    <tr>\n",
       "      <th>3</th>\n",
       "      <td>4110a9f835393a1c5e2cece1dc5431c9</td>\n",
       "      <td>AK</td>\n",
       "      <td>courts.alaska.gov</td>\n",
       "      <td>ADM-229 |  Supplemental Application - Magistra...</td>\n",
       "      <td>Administration</td>\n",
       "      <td>https://public.courts.alaska.gov/web/forms/doc...</td>\n",
       "      <td>adm-229.pdf</td>\n",
       "      <td>2022-03-27</td>\n",
       "    </tr>\n",
       "    <tr>\n",
       "      <th>4</th>\n",
       "      <td>34773c480d8be370a3f77d2a1a3fa0d0</td>\n",
       "      <td>AK</td>\n",
       "      <td>courts.alaska.gov</td>\n",
       "      <td>ADM-302 |  Forms Requisition</td>\n",
       "      <td>Administration</td>\n",
       "      <td>https://public.courts.alaska.gov/web/forms/doc...</td>\n",
       "      <td>adm-302.pdf</td>\n",
       "      <td>2022-03-27</td>\n",
       "    </tr>\n",
       "    <tr>\n",
       "      <th>...</th>\n",
       "      <td>...</td>\n",
       "      <td>...</td>\n",
       "      <td>...</td>\n",
       "      <td>...</td>\n",
       "      <td>...</td>\n",
       "      <td>...</td>\n",
       "      <td>...</td>\n",
       "      <td>...</td>\n",
       "    </tr>\n",
       "    <tr>\n",
       "      <th>12811</th>\n",
       "      <td>d9b1eef66e5ea25a995ead571b3f2227</td>\n",
       "      <td>WY</td>\n",
       "      <td>courts.state.wy.us</td>\n",
       "      <td>Circuit Court Notice of Appeal</td>\n",
       "      <td>Criminal Notice of Appeal Forms</td>\n",
       "      <td>https://www.courts.state.wy.us/wp-content/uplo...</td>\n",
       "      <td>Notice-of-Appeal_packet_Circuit-05.13.2020.pdf</td>\n",
       "      <td>2022-03-28</td>\n",
       "    </tr>\n",
       "    <tr>\n",
       "      <th>12812</th>\n",
       "      <td>4ab9e6807e266d2271160c86626d6d64</td>\n",
       "      <td>WY</td>\n",
       "      <td>courts.state.wy.us</td>\n",
       "      <td>Affidavit of Indigency and Request for Waiver ...</td>\n",
       "      <td>Criminal Notice of Appeal Forms</td>\n",
       "      <td>https://www.courts.state.wy.us/wp-content/uplo...</td>\n",
       "      <td>Affidavit-of-Indigency-Form.pdf</td>\n",
       "      <td>2022-03-28</td>\n",
       "    </tr>\n",
       "    <tr>\n",
       "      <th>12813</th>\n",
       "      <td>e8a0301e6d1dbc9a39277014da3f0806</td>\n",
       "      <td>WY</td>\n",
       "      <td>courts.state.wy.us</td>\n",
       "      <td>Case Cover Sheet</td>\n",
       "      <td>Other Forms</td>\n",
       "      <td>http://courts.state.wy.us/wp-content/uploads/2...</td>\n",
       "      <td>WRCP31Final_CivilCoverSheet-20150708.pdf</td>\n",
       "      <td>2022-03-28</td>\n",
       "    </tr>\n",
       "    <tr>\n",
       "      <th>12814</th>\n",
       "      <td>4aea312774f21ab524b54cd272f1b4b1</td>\n",
       "      <td>WY</td>\n",
       "      <td>courts.state.wy.us</td>\n",
       "      <td>Order / Instructions for Civil Coversheet</td>\n",
       "      <td>Other Forms</td>\n",
       "      <td>http://courts.state.wy.us/wp-content/uploads/2...</td>\n",
       "      <td>civpro_2012082300.pdf</td>\n",
       "      <td>2022-03-28</td>\n",
       "    </tr>\n",
       "    <tr>\n",
       "      <th>12815</th>\n",
       "      <td>634a81f09b7496eda57b9c98ecb6860f</td>\n",
       "      <td>WY</td>\n",
       "      <td>courts.state.wy.us</td>\n",
       "      <td>State of Wyoming Confidential Information Form</td>\n",
       "      <td>Other Forms</td>\n",
       "      <td>http://www.courts.state.wy.us/wp-content/uploa...</td>\n",
       "      <td>State-of-Wyoming-Confidential-Information-Form...</td>\n",
       "      <td>2022-03-28</td>\n",
       "    </tr>\n",
       "  </tbody>\n",
       "</table>\n",
       "<p>12816 rows × 8 columns</p>\n",
       "</div>"
      ],
      "text/plain": [
       "                                     id jurisdiction              source  \\\n",
       "0      9174d60bba63599e1506732cb93e52b9           AK   courts.alaska.gov   \n",
       "1      0bdc34ad40e5dbb31996a7bcf2d9038d           AK   courts.alaska.gov   \n",
       "2      c8ce1a328aa5ca940c3a5255584a8882           AK   courts.alaska.gov   \n",
       "3      4110a9f835393a1c5e2cece1dc5431c9           AK   courts.alaska.gov   \n",
       "4      34773c480d8be370a3f77d2a1a3fa0d0           AK   courts.alaska.gov   \n",
       "...                                 ...          ...                 ...   \n",
       "12811  d9b1eef66e5ea25a995ead571b3f2227           WY  courts.state.wy.us   \n",
       "12812  4ab9e6807e266d2271160c86626d6d64           WY  courts.state.wy.us   \n",
       "12813  e8a0301e6d1dbc9a39277014da3f0806           WY  courts.state.wy.us   \n",
       "12814  4aea312774f21ab524b54cd272f1b4b1           WY  courts.state.wy.us   \n",
       "12815  634a81f09b7496eda57b9c98ecb6860f           WY  courts.state.wy.us   \n",
       "\n",
       "                                                   title  \\\n",
       "0                  ADM-121 |  Attorney Fees Billing Form   \n",
       "1      ADM-122 |  Billing Form for Post-Trial Juror C...   \n",
       "2        ADM-124 |  Screening Investigation Billing Form   \n",
       "3      ADM-229 |  Supplemental Application - Magistra...   \n",
       "4                           ADM-302 |  Forms Requisition   \n",
       "...                                                  ...   \n",
       "12811                     Circuit Court Notice of Appeal   \n",
       "12812  Affidavit of Indigency and Request for Waiver ...   \n",
       "12813                                   Case Cover Sheet   \n",
       "12814          Order / Instructions for Civil Coversheet   \n",
       "12815     State of Wyoming Confidential Information Form   \n",
       "\n",
       "                                 group  \\\n",
       "0                       Administration   \n",
       "1                       Administration   \n",
       "2                       Administration   \n",
       "3                       Administration   \n",
       "4                       Administration   \n",
       "...                                ...   \n",
       "12811  Criminal Notice of Appeal Forms   \n",
       "12812  Criminal Notice of Appeal Forms   \n",
       "12813                      Other Forms   \n",
       "12814                      Other Forms   \n",
       "12815                      Other Forms   \n",
       "\n",
       "                                                     url  \\\n",
       "0      https://public.courts.alaska.gov/web/forms/doc...   \n",
       "1      https://public.courts.alaska.gov/web/forms/doc...   \n",
       "2      https://public.courts.alaska.gov/web/forms/doc...   \n",
       "3      https://public.courts.alaska.gov/web/forms/doc...   \n",
       "4      https://public.courts.alaska.gov/web/forms/doc...   \n",
       "...                                                  ...   \n",
       "12811  https://www.courts.state.wy.us/wp-content/uplo...   \n",
       "12812  https://www.courts.state.wy.us/wp-content/uplo...   \n",
       "12813  http://courts.state.wy.us/wp-content/uploads/2...   \n",
       "12814  http://courts.state.wy.us/wp-content/uploads/2...   \n",
       "12815  http://www.courts.state.wy.us/wp-content/uploa...   \n",
       "\n",
       "                                                filename downloaded_on  \n",
       "0                                            adm-121.pdf    2022-03-27  \n",
       "1                                            adm-122.pdf    2022-03-27  \n",
       "2                                            adm-124.pdf    2022-03-27  \n",
       "3                                            adm-229.pdf    2022-03-27  \n",
       "4                                            adm-302.pdf    2022-03-27  \n",
       "...                                                  ...           ...  \n",
       "12811     Notice-of-Appeal_packet_Circuit-05.13.2020.pdf    2022-03-28  \n",
       "12812                    Affidavit-of-Indigency-Form.pdf    2022-03-28  \n",
       "12813           WRCP31Final_CivilCoverSheet-20150708.pdf    2022-03-28  \n",
       "12814                              civpro_2012082300.pdf    2022-03-28  \n",
       "12815  State-of-Wyoming-Confidential-Information-Form...    2022-03-28  \n",
       "\n",
       "[12816 rows x 8 columns]"
      ]
     },
     "execution_count": 37,
     "metadata": {},
     "output_type": "execute_result"
    }
   ],
   "source": [
    "df = pd.DataFrame()\n",
    "for jur in jurs:\n",
    "    print(jur,lookup[jur])\n",
    "    df_tmp = pd.read_csv(\"../data/raw/\"+lookup[jur]+\"/form_data.csv\")#[:1]\n",
    "    \n",
    "    df_tmp[\"source\"] = lookup[jur]\n",
    "    df_tmp = df_tmp.rename(columns={\"downloaded\": \"downloaded_on\"})\n",
    "    df_tmp = df_tmp.rename(columns={\"file_format\": \"filetype\"})\n",
    "    \n",
    "    df = pd.concat([df,df_tmp],ignore_index=True)\n",
    "\n",
    "try:\n",
    "    df = df[(df[\"type\"]!=\"doc\")]\n",
    "except:\n",
    "    print(\"no 'type'\")\n",
    "try:\n",
    "    df = df[(df[\"status\"]!=1)]\n",
    "except:\n",
    "    print(\"no 'status'\")\n",
    "try:\n",
    "    df = df[(df[\"error\"]!=1)]\n",
    "except:\n",
    "    print(\"no 'error'\")\n",
    "\n",
    "df = df[[\"id\",\"jurisdiction\",\"source\",\"title\",\"group\",\"url\",\"filename\",\"downloaded_on\"]]\n",
    "    \n",
    "df#.head()"
   ]
  },
  {
   "cell_type": "markdown",
   "metadata": {},
   "source": [
    "before running next cell place copy of raw forms in processed folders. "
   ]
  },
  {
   "cell_type": "code",
   "execution_count": 38,
   "metadata": {
    "scrolled": true
   },
   "outputs": [
    {
     "name": "stdout",
     "output_type": "stream",
     "text": [
      "12816\n",
      "0*, 1*, 2*, 3*, "
     ]
    },
    {
     "name": "stderr",
     "output_type": "stream",
     "text": [
      "PdfReadWarning: Xref table not zero-indexed. ID numbers for objects will be corrected. [pdf.py:1736]\n"
     ]
    },
    {
     "name": "stdout",
     "output_type": "stream",
     "text": [
      "4*, 5*, 6*, 7*, 8*, 9*, 10*, 11*, "
     ]
    },
    {
     "name": "stderr",
     "output_type": "stream",
     "text": [
      "PdfReadWarning: Xref table not zero-indexed. ID numbers for objects will be corrected. [pdf.py:1736]\n"
     ]
    },
    {
     "name": "stdout",
     "output_type": "stream",
     "text": [
      "12*, 13*, 14*, 15*, "
     ]
    },
    {
     "name": "stderr",
     "output_type": "stream",
     "text": [
      "PdfReadWarning: Xref table not zero-indexed. ID numbers for objects will be corrected. [pdf.py:1736]\n"
     ]
    },
    {
     "name": "stdout",
     "output_type": "stream",
     "text": [
      "16*, 17*, "
     ]
    },
    {
     "name": "stderr",
     "output_type": "stream",
     "text": [
      "PdfReadWarning: Xref table not zero-indexed. ID numbers for objects will be corrected. [pdf.py:1736]\n"
     ]
    },
    {
     "name": "stdout",
     "output_type": "stream",
     "text": [
      "18*, 19*, 20*, "
     ]
    },
    {
     "name": "stderr",
     "output_type": "stream",
     "text": [
      "PdfReadWarning: Xref table not zero-indexed. ID numbers for objects will be corrected. [pdf.py:1736]\n"
     ]
    },
    {
     "name": "stdout",
     "output_type": "stream",
     "text": [
      "21*, 22*, 23*, 24*, 25*, 26*, 27*, "
     ]
    },
    {
     "name": "stderr",
     "output_type": "stream",
     "text": [
      "PdfReadWarning: Xref table not zero-indexed. ID numbers for objects will be corrected. [pdf.py:1736]\n"
     ]
    },
    {
     "name": "stdout",
     "output_type": "stream",
     "text": [
      "28*, "
     ]
    },
    {
     "name": "stderr",
     "output_type": "stream",
     "text": [
      "PdfReadWarning: Xref table not zero-indexed. ID numbers for objects will be corrected. [pdf.py:1736]\n"
     ]
    },
    {
     "name": "stdout",
     "output_type": "stream",
     "text": [
      "29*, 30*, "
     ]
    },
    {
     "name": "stderr",
     "output_type": "stream",
     "text": [
      "PdfReadWarning: Xref table not zero-indexed. ID numbers for objects will be corrected. [pdf.py:1736]\n"
     ]
    },
    {
     "name": "stdout",
     "output_type": "stream",
     "text": [
      "31*, 32*, 33*, "
     ]
    },
    {
     "name": "stderr",
     "output_type": "stream",
     "text": [
      "PdfReadWarning: Xref table not zero-indexed. ID numbers for objects will be corrected. [pdf.py:1736]\n"
     ]
    },
    {
     "name": "stdout",
     "output_type": "stream",
     "text": [
      "34*, "
     ]
    },
    {
     "name": "stderr",
     "output_type": "stream",
     "text": [
      "PdfReadWarning: Xref table not zero-indexed. ID numbers for objects will be corrected. [pdf.py:1736]\n"
     ]
    },
    {
     "name": "stdout",
     "output_type": "stream",
     "text": [
      "35*, "
     ]
    },
    {
     "name": "stderr",
     "output_type": "stream",
     "text": [
      "PdfReadWarning: Xref table not zero-indexed. ID numbers for objects will be corrected. [pdf.py:1736]\n"
     ]
    },
    {
     "name": "stdout",
     "output_type": "stream",
     "text": [
      "36*, 37*, 38*, "
     ]
    },
    {
     "name": "stderr",
     "output_type": "stream",
     "text": [
      "PdfReadWarning: Xref table not zero-indexed. ID numbers for objects will be corrected. [pdf.py:1736]\n"
     ]
    },
    {
     "name": "stdout",
     "output_type": "stream",
     "text": [
      "39*, "
     ]
    },
    {
     "name": "stderr",
     "output_type": "stream",
     "text": [
      "PdfReadWarning: Xref table not zero-indexed. ID numbers for objects will be corrected. [pdf.py:1736]\n"
     ]
    },
    {
     "name": "stdout",
     "output_type": "stream",
     "text": [
      "40*, 41*, 42*, 43*, "
     ]
    },
    {
     "name": "stderr",
     "output_type": "stream",
     "text": [
      "PdfReadWarning: Xref table not zero-indexed. ID numbers for objects will be corrected. [pdf.py:1736]\n"
     ]
    },
    {
     "name": "stdout",
     "output_type": "stream",
     "text": [
      "44*, 45*, "
     ]
    },
    {
     "name": "stderr",
     "output_type": "stream",
     "text": [
      "PdfReadWarning: Xref table not zero-indexed. ID numbers for objects will be corrected. [pdf.py:1736]\n"
     ]
    },
    {
     "name": "stdout",
     "output_type": "stream",
     "text": [
      "46*, "
     ]
    },
    {
     "name": "stderr",
     "output_type": "stream",
     "text": [
      "PdfReadWarning: Xref table not zero-indexed. ID numbers for objects will be corrected. [pdf.py:1736]\n"
     ]
    },
    {
     "name": "stdout",
     "output_type": "stream",
     "text": [
      "47*, 48*, 49*, 50*, 51*, 52*, 53*, 54*, 55*, 56*, 57*, 58*, 59*, 60*, 61*, 62*, 63*, 64*, "
     ]
    },
    {
     "name": "stderr",
     "output_type": "stream",
     "text": [
      "PdfReadWarning: Xref table not zero-indexed. ID numbers for objects will be corrected. [pdf.py:1736]\n"
     ]
    },
    {
     "name": "stdout",
     "output_type": "stream",
     "text": [
      "65*, "
     ]
    },
    {
     "name": "stderr",
     "output_type": "stream",
     "text": [
      "PdfReadWarning: Xref table not zero-indexed. ID numbers for objects will be corrected. [pdf.py:1736]\n"
     ]
    },
    {
     "name": "stdout",
     "output_type": "stream",
     "text": [
      "66*, 67*, 68*, 69*, 70*, 71*, "
     ]
    },
    {
     "name": "stderr",
     "output_type": "stream",
     "text": [
      "PdfReadWarning: Xref table not zero-indexed. ID numbers for objects will be corrected. [pdf.py:1736]\n"
     ]
    },
    {
     "name": "stdout",
     "output_type": "stream",
     "text": [
      "72*, 73*, 74*, 75*, 76*, 77*, 78*, "
     ]
    },
    {
     "name": "stderr",
     "output_type": "stream",
     "text": [
      "PdfReadWarning: Xref table not zero-indexed. ID numbers for objects will be corrected. [pdf.py:1736]\n"
     ]
    },
    {
     "name": "stdout",
     "output_type": "stream",
     "text": [
      "79*, 80*, 81*, 82*, 83*, 84*, 85*, 86*, 87*, 88*, "
     ]
    },
    {
     "name": "stderr",
     "output_type": "stream",
     "text": [
      "PdfReadWarning: Xref table not zero-indexed. ID numbers for objects will be corrected. [pdf.py:1736]\n"
     ]
    },
    {
     "name": "stdout",
     "output_type": "stream",
     "text": [
      "89*, 90*, 91*, "
     ]
    },
    {
     "name": "stderr",
     "output_type": "stream",
     "text": [
      "PdfReadWarning: Xref table not zero-indexed. ID numbers for objects will be corrected. [pdf.py:1736]\n"
     ]
    },
    {
     "name": "stdout",
     "output_type": "stream",
     "text": [
      "92*, 93*, 94*, 95*, 96*, 97*, 98*, "
     ]
    },
    {
     "name": "stderr",
     "output_type": "stream",
     "text": [
      "PdfReadWarning: Xref table not zero-indexed. ID numbers for objects will be corrected. [pdf.py:1736]\n"
     ]
    },
    {
     "name": "stdout",
     "output_type": "stream",
     "text": [
      "99*, 100*, 101*, 102*, "
     ]
    },
    {
     "name": "stderr",
     "output_type": "stream",
     "text": [
      "PdfReadWarning: Xref table not zero-indexed. ID numbers for objects will be corrected. [pdf.py:1736]\n"
     ]
    },
    {
     "name": "stdout",
     "output_type": "stream",
     "text": [
      "103*, 104*, 105*, "
     ]
    },
    {
     "name": "stderr",
     "output_type": "stream",
     "text": [
      "PdfReadWarning: Xref table not zero-indexed. ID numbers for objects will be corrected. [pdf.py:1736]\n"
     ]
    },
    {
     "name": "stdout",
     "output_type": "stream",
     "text": [
      "106*, 107*, 108*, 109*, 110*, 111*, "
     ]
    },
    {
     "name": "stderr",
     "output_type": "stream",
     "text": [
      "PdfReadWarning: Xref table not zero-indexed. ID numbers for objects will be corrected. [pdf.py:1736]\n"
     ]
    },
    {
     "name": "stdout",
     "output_type": "stream",
     "text": [
      "112*, 113*, "
     ]
    },
    {
     "name": "stderr",
     "output_type": "stream",
     "text": [
      "PdfReadWarning: Xref table not zero-indexed. ID numbers for objects will be corrected. [pdf.py:1736]\n"
     ]
    },
    {
     "name": "stdout",
     "output_type": "stream",
     "text": [
      "114*, 115*, 116*, 117*, "
     ]
    },
    {
     "name": "stderr",
     "output_type": "stream",
     "text": [
      "PdfReadWarning: Xref table not zero-indexed. ID numbers for objects will be corrected. [pdf.py:1736]\n"
     ]
    },
    {
     "name": "stdout",
     "output_type": "stream",
     "text": [
      "118*, 119*, "
     ]
    },
    {
     "name": "stderr",
     "output_type": "stream",
     "text": [
      "PdfReadWarning: Xref table not zero-indexed. ID numbers for objects will be corrected. [pdf.py:1736]\n"
     ]
    },
    {
     "name": "stdout",
     "output_type": "stream",
     "text": [
      "120*, 121*, 122*, 123*, 124*, 125*, 126*, "
     ]
    },
    {
     "name": "stderr",
     "output_type": "stream",
     "text": [
      "PdfReadWarning: Xref table not zero-indexed. ID numbers for objects will be corrected. [pdf.py:1736]\n"
     ]
    },
    {
     "name": "stdout",
     "output_type": "stream",
     "text": [
      "127*, "
     ]
    },
    {
     "name": "stderr",
     "output_type": "stream",
     "text": [
      "PdfReadWarning: Xref table not zero-indexed. ID numbers for objects will be corrected. [pdf.py:1736]\n"
     ]
    },
    {
     "name": "stdout",
     "output_type": "stream",
     "text": [
      "128*, 129*, "
     ]
    },
    {
     "name": "stderr",
     "output_type": "stream",
     "text": [
      "PdfReadWarning: Xref table not zero-indexed. ID numbers for objects will be corrected. [pdf.py:1736]\n"
     ]
    },
    {
     "name": "stdout",
     "output_type": "stream",
     "text": [
      "130*, 131*, "
     ]
    },
    {
     "name": "stderr",
     "output_type": "stream",
     "text": [
      "PdfReadWarning: Xref table not zero-indexed. ID numbers for objects will be corrected. [pdf.py:1736]\n"
     ]
    },
    {
     "name": "stdout",
     "output_type": "stream",
     "text": [
      "132*, "
     ]
    },
    {
     "name": "stderr",
     "output_type": "stream",
     "text": [
      "PdfReadWarning: Xref table not zero-indexed. ID numbers for objects will be corrected. [pdf.py:1736]\n"
     ]
    },
    {
     "name": "stdout",
     "output_type": "stream",
     "text": [
      "133*, 134*, 135*, 136*, "
     ]
    },
    {
     "name": "stderr",
     "output_type": "stream",
     "text": [
      "PdfReadWarning: Xref table not zero-indexed. ID numbers for objects will be corrected. [pdf.py:1736]\n"
     ]
    },
    {
     "name": "stdout",
     "output_type": "stream",
     "text": [
      "137*, 138*, "
     ]
    },
    {
     "name": "stderr",
     "output_type": "stream",
     "text": [
      "PdfReadWarning: Xref table not zero-indexed. ID numbers for objects will be corrected. [pdf.py:1736]\n"
     ]
    },
    {
     "name": "stdout",
     "output_type": "stream",
     "text": [
      "139*, 140*, 141*, "
     ]
    },
    {
     "name": "stderr",
     "output_type": "stream",
     "text": [
      "PdfReadWarning: Xref table not zero-indexed. ID numbers for objects will be corrected. [pdf.py:1736]\n"
     ]
    },
    {
     "name": "stdout",
     "output_type": "stream",
     "text": [
      "142*, 143*, 144*, 145*, "
     ]
    },
    {
     "name": "stderr",
     "output_type": "stream",
     "text": [
      "PdfReadWarning: Xref table not zero-indexed. ID numbers for objects will be corrected. [pdf.py:1736]\n"
     ]
    },
    {
     "name": "stdout",
     "output_type": "stream",
     "text": [
      "146*, 147*, "
     ]
    },
    {
     "name": "stderr",
     "output_type": "stream",
     "text": [
      "PdfReadWarning: Xref table not zero-indexed. ID numbers for objects will be corrected. [pdf.py:1736]\n"
     ]
    },
    {
     "name": "stdout",
     "output_type": "stream",
     "text": [
      "148*, 149*, 150*, 151*, 152*, 153*, 154*, 155*, 156*, 157*, "
     ]
    },
    {
     "name": "stderr",
     "output_type": "stream",
     "text": [
      "PdfReadWarning: Xref table not zero-indexed. ID numbers for objects will be corrected. [pdf.py:1736]\n"
     ]
    },
    {
     "name": "stdout",
     "output_type": "stream",
     "text": [
      "158*, 159*, 160*, 161*, 162*, 163*, 164*, 165*, 166*, "
     ]
    },
    {
     "name": "stderr",
     "output_type": "stream",
     "text": [
      "PdfReadWarning: Xref table not zero-indexed. ID numbers for objects will be corrected. [pdf.py:1736]\n"
     ]
    },
    {
     "name": "stdout",
     "output_type": "stream",
     "text": [
      "167*, "
     ]
    },
    {
     "name": "stderr",
     "output_type": "stream",
     "text": [
      "PdfReadWarning: Xref table not zero-indexed. ID numbers for objects will be corrected. [pdf.py:1736]\n"
     ]
    },
    {
     "name": "stdout",
     "output_type": "stream",
     "text": [
      "168*, 169*, 170*, "
     ]
    },
    {
     "name": "stderr",
     "output_type": "stream",
     "text": [
      "PdfReadWarning: Xref table not zero-indexed. ID numbers for objects will be corrected. [pdf.py:1736]\n"
     ]
    },
    {
     "name": "stdout",
     "output_type": "stream",
     "text": [
      "171*, "
     ]
    },
    {
     "name": "stderr",
     "output_type": "stream",
     "text": [
      "PdfReadWarning: Xref table not zero-indexed. ID numbers for objects will be corrected. [pdf.py:1736]\n"
     ]
    },
    {
     "name": "stdout",
     "output_type": "stream",
     "text": [
      "172*, 173*, 174*, 175*, 176*, 177*, 178*, 179*, 180*, "
     ]
    },
    {
     "name": "stderr",
     "output_type": "stream",
     "text": [
      "PdfReadWarning: Xref table not zero-indexed. ID numbers for objects will be corrected. [pdf.py:1736]\n"
     ]
    },
    {
     "name": "stdout",
     "output_type": "stream",
     "text": [
      "181*, 182*, 183*, 184*, 185*, 186*, 187*, 188*, 189*, 190*, 191*, 192*, 193*, 194*, 195*, 196*, 197*, "
     ]
    },
    {
     "name": "stderr",
     "output_type": "stream",
     "text": [
      "PdfReadWarning: Xref table not zero-indexed. ID numbers for objects will be corrected. [pdf.py:1736]\n"
     ]
    },
    {
     "name": "stdout",
     "output_type": "stream",
     "text": [
      "198*, 199*, 200*, 201*, 202*, 203*, 204*, 205*, 206*, 207*, 208*, 209*, 210*, "
     ]
    },
    {
     "name": "stderr",
     "output_type": "stream",
     "text": [
      "PdfReadWarning: Xref table not zero-indexed. ID numbers for objects will be corrected. [pdf.py:1736]\n"
     ]
    },
    {
     "name": "stdout",
     "output_type": "stream",
     "text": [
      "211*, 212*, 213*, 214*, 215*, 216*, 217*, 218*, "
     ]
    },
    {
     "name": "stderr",
     "output_type": "stream",
     "text": [
      "PdfReadWarning: Xref table not zero-indexed. ID numbers for objects will be corrected. [pdf.py:1736]\n"
     ]
    },
    {
     "name": "stdout",
     "output_type": "stream",
     "text": [
      "219*, 220*, 221*, 222*, 223*, 224*, 225*, 226*, 227*, "
     ]
    },
    {
     "name": "stderr",
     "output_type": "stream",
     "text": [
      "PdfReadWarning: Xref table not zero-indexed. ID numbers for objects will be corrected. [pdf.py:1736]\n"
     ]
    },
    {
     "name": "stdout",
     "output_type": "stream",
     "text": [
      "228*, 229*, "
     ]
    },
    {
     "name": "stderr",
     "output_type": "stream",
     "text": [
      "PdfReadWarning: Xref table not zero-indexed. ID numbers for objects will be corrected. [pdf.py:1736]\n"
     ]
    },
    {
     "name": "stdout",
     "output_type": "stream",
     "text": [
      "230*, 231*, "
     ]
    },
    {
     "name": "stderr",
     "output_type": "stream",
     "text": [
      "PdfReadWarning: Xref table not zero-indexed. ID numbers for objects will be corrected. [pdf.py:1736]\n"
     ]
    },
    {
     "name": "stdout",
     "output_type": "stream",
     "text": [
      "232*, "
     ]
    },
    {
     "name": "stderr",
     "output_type": "stream",
     "text": [
      "PdfReadWarning: Xref table not zero-indexed. ID numbers for objects will be corrected. [pdf.py:1736]\n"
     ]
    },
    {
     "name": "stdout",
     "output_type": "stream",
     "text": [
      "233*, 234*, 235*, 236*, "
     ]
    },
    {
     "name": "stderr",
     "output_type": "stream",
     "text": [
      "PdfReadWarning: Xref table not zero-indexed. ID numbers for objects will be corrected. [pdf.py:1736]\n"
     ]
    },
    {
     "name": "stdout",
     "output_type": "stream",
     "text": [
      "237*, 238*, 239*, 240*, 241*, "
     ]
    },
    {
     "name": "stderr",
     "output_type": "stream",
     "text": [
      "PdfReadWarning: Xref table not zero-indexed. ID numbers for objects will be corrected. [pdf.py:1736]\n"
     ]
    },
    {
     "name": "stdout",
     "output_type": "stream",
     "text": [
      "242*, 243*, 244*, "
     ]
    },
    {
     "name": "stderr",
     "output_type": "stream",
     "text": [
      "PdfReadWarning: Xref table not zero-indexed. ID numbers for objects will be corrected. [pdf.py:1736]\n"
     ]
    },
    {
     "name": "stdout",
     "output_type": "stream",
     "text": [
      "245*, 246*, 247*, 248*, "
     ]
    },
    {
     "name": "stderr",
     "output_type": "stream",
     "text": [
      "PdfReadWarning: Xref table not zero-indexed. ID numbers for objects will be corrected. [pdf.py:1736]\n"
     ]
    },
    {
     "name": "stdout",
     "output_type": "stream",
     "text": [
      "249*, 250*, 251*, "
     ]
    },
    {
     "name": "stderr",
     "output_type": "stream",
     "text": [
      "PdfReadWarning: Xref table not zero-indexed. ID numbers for objects will be corrected. [pdf.py:1736]\n"
     ]
    },
    {
     "name": "stdout",
     "output_type": "stream",
     "text": [
      "252*, 253*, 254*, 255*, 256*, "
     ]
    },
    {
     "name": "stderr",
     "output_type": "stream",
     "text": [
      "PdfReadWarning: Xref table not zero-indexed. ID numbers for objects will be corrected. [pdf.py:1736]\n"
     ]
    },
    {
     "name": "stdout",
     "output_type": "stream",
     "text": [
      "257*, "
     ]
    },
    {
     "name": "stderr",
     "output_type": "stream",
     "text": [
      "PdfReadWarning: Xref table not zero-indexed. ID numbers for objects will be corrected. [pdf.py:1736]\n"
     ]
    },
    {
     "name": "stdout",
     "output_type": "stream",
     "text": [
      "258*, 259*, 260*, 261*, 262*, 263*, 264*, 265*, 266*, 267*, 268*, "
     ]
    },
    {
     "name": "stderr",
     "output_type": "stream",
     "text": [
      "PdfReadWarning: Xref table not zero-indexed. ID numbers for objects will be corrected. [pdf.py:1736]\n"
     ]
    },
    {
     "name": "stdout",
     "output_type": "stream",
     "text": [
      "269*, 270*, 271*, 272*, 273*, 274*, 275*, 276*, 277*, 278*, 279*, 280*, 281*, "
     ]
    },
    {
     "name": "stderr",
     "output_type": "stream",
     "text": [
      "PdfReadWarning: Xref table not zero-indexed. ID numbers for objects will be corrected. [pdf.py:1736]\n"
     ]
    },
    {
     "name": "stdout",
     "output_type": "stream",
     "text": [
      "282*, "
     ]
    },
    {
     "name": "stderr",
     "output_type": "stream",
     "text": [
      "PdfReadWarning: Xref table not zero-indexed. ID numbers for objects will be corrected. [pdf.py:1736]\n"
     ]
    },
    {
     "name": "stdout",
     "output_type": "stream",
     "text": [
      "283*, 284*, 285*, 286*, "
     ]
    },
    {
     "name": "stderr",
     "output_type": "stream",
     "text": [
      "PdfReadWarning: Xref table not zero-indexed. ID numbers for objects will be corrected. [pdf.py:1736]\n"
     ]
    },
    {
     "name": "stdout",
     "output_type": "stream",
     "text": [
      "287*, "
     ]
    },
    {
     "name": "stderr",
     "output_type": "stream",
     "text": [
      "PdfReadWarning: Xref table not zero-indexed. ID numbers for objects will be corrected. [pdf.py:1736]\n"
     ]
    },
    {
     "name": "stdout",
     "output_type": "stream",
     "text": [
      "288*, 289*, "
     ]
    },
    {
     "name": "stderr",
     "output_type": "stream",
     "text": [
      "PdfReadWarning: Xref table not zero-indexed. ID numbers for objects will be corrected. [pdf.py:1736]\n"
     ]
    },
    {
     "name": "stdout",
     "output_type": "stream",
     "text": [
      "290*, 291*, "
     ]
    },
    {
     "name": "stderr",
     "output_type": "stream",
     "text": [
      "PdfReadWarning: Xref table not zero-indexed. ID numbers for objects will be corrected. [pdf.py:1736]\n"
     ]
    },
    {
     "name": "stdout",
     "output_type": "stream",
     "text": [
      "292*, "
     ]
    },
    {
     "name": "stderr",
     "output_type": "stream",
     "text": [
      "PdfReadWarning: Xref table not zero-indexed. ID numbers for objects will be corrected. [pdf.py:1736]\n"
     ]
    },
    {
     "name": "stdout",
     "output_type": "stream",
     "text": [
      "293*, "
     ]
    },
    {
     "name": "stderr",
     "output_type": "stream",
     "text": [
      "PdfReadWarning: Xref table not zero-indexed. ID numbers for objects will be corrected. [pdf.py:1736]\n"
     ]
    },
    {
     "name": "stdout",
     "output_type": "stream",
     "text": [
      "294*, 295*, 296*, 297*, 298*, 299*, 300*, "
     ]
    },
    {
     "name": "stderr",
     "output_type": "stream",
     "text": [
      "PdfReadWarning: Xref table not zero-indexed. ID numbers for objects will be corrected. [pdf.py:1736]\n"
     ]
    },
    {
     "name": "stdout",
     "output_type": "stream",
     "text": [
      "301*, "
     ]
    },
    {
     "name": "stderr",
     "output_type": "stream",
     "text": [
      "PdfReadWarning: Xref table not zero-indexed. ID numbers for objects will be corrected. [pdf.py:1736]\n"
     ]
    },
    {
     "name": "stdout",
     "output_type": "stream",
     "text": [
      "302*, 303*, "
     ]
    },
    {
     "name": "stderr",
     "output_type": "stream",
     "text": [
      "PdfReadWarning: Xref table not zero-indexed. ID numbers for objects will be corrected. [pdf.py:1736]\n"
     ]
    },
    {
     "name": "stdout",
     "output_type": "stream",
     "text": [
      "304*, "
     ]
    },
    {
     "name": "stderr",
     "output_type": "stream",
     "text": [
      "PdfReadWarning: Xref table not zero-indexed. ID numbers for objects will be corrected. [pdf.py:1736]\n"
     ]
    },
    {
     "name": "stdout",
     "output_type": "stream",
     "text": [
      "305*, 306*, "
     ]
    },
    {
     "name": "stderr",
     "output_type": "stream",
     "text": [
      "PdfReadWarning: Xref table not zero-indexed. ID numbers for objects will be corrected. [pdf.py:1736]\n"
     ]
    },
    {
     "name": "stdout",
     "output_type": "stream",
     "text": [
      "307*, "
     ]
    },
    {
     "name": "stderr",
     "output_type": "stream",
     "text": [
      "PdfReadWarning: Xref table not zero-indexed. ID numbers for objects will be corrected. [pdf.py:1736]\n"
     ]
    },
    {
     "name": "stdout",
     "output_type": "stream",
     "text": [
      "308*, 309*, 310*, 311*, 312*, "
     ]
    },
    {
     "name": "stderr",
     "output_type": "stream",
     "text": [
      "PdfReadWarning: Xref table not zero-indexed. ID numbers for objects will be corrected. [pdf.py:1736]\n"
     ]
    },
    {
     "name": "stdout",
     "output_type": "stream",
     "text": [
      "313*, 314*, 315*, 316*, 317*, "
     ]
    },
    {
     "name": "stderr",
     "output_type": "stream",
     "text": [
      "PdfReadWarning: Xref table not zero-indexed. ID numbers for objects will be corrected. [pdf.py:1736]\n"
     ]
    },
    {
     "name": "stdout",
     "output_type": "stream",
     "text": [
      "318*, "
     ]
    },
    {
     "name": "stderr",
     "output_type": "stream",
     "text": [
      "PdfReadWarning: Xref table not zero-indexed. ID numbers for objects will be corrected. [pdf.py:1736]\n"
     ]
    },
    {
     "name": "stdout",
     "output_type": "stream",
     "text": [
      "319*, 320*, 321*, 322*, 323*, 324*, 325*, "
     ]
    },
    {
     "name": "stderr",
     "output_type": "stream",
     "text": [
      "PdfReadWarning: Xref table not zero-indexed. ID numbers for objects will be corrected. [pdf.py:1736]\n"
     ]
    },
    {
     "name": "stdout",
     "output_type": "stream",
     "text": [
      "326*, "
     ]
    },
    {
     "name": "stderr",
     "output_type": "stream",
     "text": [
      "PdfReadWarning: Xref table not zero-indexed. ID numbers for objects will be corrected. [pdf.py:1736]\n"
     ]
    },
    {
     "name": "stdout",
     "output_type": "stream",
     "text": [
      "327*, "
     ]
    },
    {
     "name": "stderr",
     "output_type": "stream",
     "text": [
      "PdfReadWarning: Xref table not zero-indexed. ID numbers for objects will be corrected. [pdf.py:1736]\n"
     ]
    },
    {
     "name": "stdout",
     "output_type": "stream",
     "text": [
      "328*, 329*, 330*, 331*, 332*, 333*, 334*, 335*, 336*, 337*, 338*, 339*, "
     ]
    },
    {
     "name": "stderr",
     "output_type": "stream",
     "text": [
      "PdfReadWarning: Xref table not zero-indexed. ID numbers for objects will be corrected. [pdf.py:1736]\n"
     ]
    },
    {
     "name": "stdout",
     "output_type": "stream",
     "text": [
      "340*, "
     ]
    },
    {
     "name": "stderr",
     "output_type": "stream",
     "text": [
      "PdfReadWarning: Xref table not zero-indexed. ID numbers for objects will be corrected. [pdf.py:1736]\n"
     ]
    },
    {
     "name": "stdout",
     "output_type": "stream",
     "text": [
      "341*, "
     ]
    },
    {
     "name": "stderr",
     "output_type": "stream",
     "text": [
      "PdfReadWarning: Xref table not zero-indexed. ID numbers for objects will be corrected. [pdf.py:1736]\n"
     ]
    },
    {
     "name": "stdout",
     "output_type": "stream",
     "text": [
      "342*, "
     ]
    },
    {
     "name": "stderr",
     "output_type": "stream",
     "text": [
      "PdfReadWarning: Xref table not zero-indexed. ID numbers for objects will be corrected. [pdf.py:1736]\n"
     ]
    },
    {
     "name": "stdout",
     "output_type": "stream",
     "text": [
      "343*, "
     ]
    },
    {
     "name": "stderr",
     "output_type": "stream",
     "text": [
      "PdfReadWarning: Xref table not zero-indexed. ID numbers for objects will be corrected. [pdf.py:1736]\n"
     ]
    },
    {
     "name": "stdout",
     "output_type": "stream",
     "text": [
      "344*, "
     ]
    },
    {
     "name": "stderr",
     "output_type": "stream",
     "text": [
      "PdfReadWarning: Xref table not zero-indexed. ID numbers for objects will be corrected. [pdf.py:1736]\n"
     ]
    },
    {
     "name": "stdout",
     "output_type": "stream",
     "text": [
      "345*, 346*, "
     ]
    },
    {
     "name": "stderr",
     "output_type": "stream",
     "text": [
      "PdfReadWarning: Xref table not zero-indexed. ID numbers for objects will be corrected. [pdf.py:1736]\n"
     ]
    },
    {
     "name": "stdout",
     "output_type": "stream",
     "text": [
      "347*, 348*, "
     ]
    },
    {
     "name": "stderr",
     "output_type": "stream",
     "text": [
      "PdfReadWarning: Xref table not zero-indexed. ID numbers for objects will be corrected. [pdf.py:1736]\n"
     ]
    },
    {
     "name": "stdout",
     "output_type": "stream",
     "text": [
      "349*, "
     ]
    },
    {
     "name": "stderr",
     "output_type": "stream",
     "text": [
      "PdfReadWarning: Xref table not zero-indexed. ID numbers for objects will be corrected. [pdf.py:1736]\n"
     ]
    },
    {
     "name": "stdout",
     "output_type": "stream",
     "text": [
      "350*, 351*, 352*, "
     ]
    },
    {
     "name": "stderr",
     "output_type": "stream",
     "text": [
      "PdfReadWarning: Xref table not zero-indexed. ID numbers for objects will be corrected. [pdf.py:1736]\n"
     ]
    },
    {
     "name": "stdout",
     "output_type": "stream",
     "text": [
      "353*, 354*, 355*, 356*, "
     ]
    },
    {
     "name": "stderr",
     "output_type": "stream",
     "text": [
      "PdfReadWarning: Xref table not zero-indexed. ID numbers for objects will be corrected. [pdf.py:1736]\n"
     ]
    },
    {
     "name": "stdout",
     "output_type": "stream",
     "text": [
      "357*, 358*, 359*, 360*, 361*, "
     ]
    },
    {
     "name": "stderr",
     "output_type": "stream",
     "text": [
      "PdfReadWarning: Xref table not zero-indexed. ID numbers for objects will be corrected. [pdf.py:1736]\n"
     ]
    },
    {
     "name": "stdout",
     "output_type": "stream",
     "text": [
      "362*, 363*, 364*, 365*, "
     ]
    },
    {
     "name": "stderr",
     "output_type": "stream",
     "text": [
      "PdfReadWarning: Xref table not zero-indexed. ID numbers for objects will be corrected. [pdf.py:1736]\n"
     ]
    },
    {
     "name": "stdout",
     "output_type": "stream",
     "text": [
      "366*, 367*, 368*, "
     ]
    },
    {
     "name": "stderr",
     "output_type": "stream",
     "text": [
      "PdfReadWarning: Xref table not zero-indexed. ID numbers for objects will be corrected. [pdf.py:1736]\n"
     ]
    },
    {
     "name": "stdout",
     "output_type": "stream",
     "text": [
      "369*, 370*, 371*, 372*, "
     ]
    },
    {
     "name": "stderr",
     "output_type": "stream",
     "text": [
      "PdfReadWarning: Xref table not zero-indexed. ID numbers for objects will be corrected. [pdf.py:1736]\n"
     ]
    },
    {
     "name": "stdout",
     "output_type": "stream",
     "text": [
      "373*, 374*, 375*, 376*, 377*, 378*, "
     ]
    },
    {
     "name": "stderr",
     "output_type": "stream",
     "text": [
      "PdfReadWarning: Xref table not zero-indexed. ID numbers for objects will be corrected. [pdf.py:1736]\n"
     ]
    },
    {
     "name": "stdout",
     "output_type": "stream",
     "text": [
      "379*, 380*, "
     ]
    },
    {
     "name": "stderr",
     "output_type": "stream",
     "text": [
      "PdfReadWarning: Xref table not zero-indexed. ID numbers for objects will be corrected. [pdf.py:1736]\n"
     ]
    },
    {
     "name": "stdout",
     "output_type": "stream",
     "text": [
      "381*, 382*, 383*, 384*, 385*, "
     ]
    },
    {
     "name": "stderr",
     "output_type": "stream",
     "text": [
      "PdfReadWarning: Xref table not zero-indexed. ID numbers for objects will be corrected. [pdf.py:1736]\n"
     ]
    },
    {
     "name": "stdout",
     "output_type": "stream",
     "text": [
      "386*, 387*, 388*, 389*, 390*, 391*, "
     ]
    },
    {
     "name": "stderr",
     "output_type": "stream",
     "text": [
      "PdfReadWarning: Xref table not zero-indexed. ID numbers for objects will be corrected. [pdf.py:1736]\n"
     ]
    },
    {
     "name": "stdout",
     "output_type": "stream",
     "text": [
      "392*, 393*, 394*, 395*, "
     ]
    },
    {
     "name": "stderr",
     "output_type": "stream",
     "text": [
      "PdfReadWarning: Xref table not zero-indexed. ID numbers for objects will be corrected. [pdf.py:1736]\n"
     ]
    },
    {
     "name": "stdout",
     "output_type": "stream",
     "text": [
      "396*, "
     ]
    },
    {
     "name": "stderr",
     "output_type": "stream",
     "text": [
      "PdfReadWarning: Xref table not zero-indexed. ID numbers for objects will be corrected. [pdf.py:1736]\n"
     ]
    },
    {
     "name": "stdout",
     "output_type": "stream",
     "text": [
      "397*, 398*, 399*, 400*, 401*, 402*, 403*, "
     ]
    },
    {
     "name": "stderr",
     "output_type": "stream",
     "text": [
      "PdfReadWarning: Xref table not zero-indexed. ID numbers for objects will be corrected. [pdf.py:1736]\n"
     ]
    },
    {
     "name": "stdout",
     "output_type": "stream",
     "text": [
      "404*, "
     ]
    },
    {
     "name": "stderr",
     "output_type": "stream",
     "text": [
      "PdfReadWarning: Xref table not zero-indexed. ID numbers for objects will be corrected. [pdf.py:1736]\n"
     ]
    },
    {
     "name": "stdout",
     "output_type": "stream",
     "text": [
      "405*, 406*, "
     ]
    },
    {
     "name": "stderr",
     "output_type": "stream",
     "text": [
      "PdfReadWarning: Xref table not zero-indexed. ID numbers for objects will be corrected. [pdf.py:1736]\n"
     ]
    },
    {
     "name": "stdout",
     "output_type": "stream",
     "text": [
      "407*, 408*, 409*, 410*, 411*, 412*, "
     ]
    },
    {
     "name": "stderr",
     "output_type": "stream",
     "text": [
      "PdfReadWarning: Xref table not zero-indexed. ID numbers for objects will be corrected. [pdf.py:1736]\n"
     ]
    },
    {
     "name": "stdout",
     "output_type": "stream",
     "text": [
      "413*, 414*, "
     ]
    },
    {
     "name": "stderr",
     "output_type": "stream",
     "text": [
      "PdfReadWarning: Xref table not zero-indexed. ID numbers for objects will be corrected. [pdf.py:1736]\n"
     ]
    },
    {
     "name": "stdout",
     "output_type": "stream",
     "text": [
      "415*, 416*, "
     ]
    },
    {
     "name": "stderr",
     "output_type": "stream",
     "text": [
      "PdfReadWarning: Xref table not zero-indexed. ID numbers for objects will be corrected. [pdf.py:1736]\n"
     ]
    },
    {
     "name": "stdout",
     "output_type": "stream",
     "text": [
      "417*, 418*, 419*, 420*, "
     ]
    },
    {
     "name": "stderr",
     "output_type": "stream",
     "text": [
      "PdfReadWarning: Xref table not zero-indexed. ID numbers for objects will be corrected. [pdf.py:1736]\n"
     ]
    },
    {
     "name": "stdout",
     "output_type": "stream",
     "text": [
      "421*, 422*, 423*, 424*, 425*, "
     ]
    },
    {
     "name": "stderr",
     "output_type": "stream",
     "text": [
      "PdfReadWarning: Xref table not zero-indexed. ID numbers for objects will be corrected. [pdf.py:1736]\n"
     ]
    },
    {
     "name": "stdout",
     "output_type": "stream",
     "text": [
      "426*, "
     ]
    },
    {
     "name": "stderr",
     "output_type": "stream",
     "text": [
      "PdfReadWarning: Xref table not zero-indexed. ID numbers for objects will be corrected. [pdf.py:1736]\n"
     ]
    },
    {
     "name": "stdout",
     "output_type": "stream",
     "text": [
      "427*, "
     ]
    },
    {
     "name": "stderr",
     "output_type": "stream",
     "text": [
      "PdfReadWarning: Xref table not zero-indexed. ID numbers for objects will be corrected. [pdf.py:1736]\n"
     ]
    },
    {
     "name": "stdout",
     "output_type": "stream",
     "text": [
      "428*, 429*, "
     ]
    },
    {
     "name": "stderr",
     "output_type": "stream",
     "text": [
      "PdfReadWarning: Xref table not zero-indexed. ID numbers for objects will be corrected. [pdf.py:1736]\n"
     ]
    },
    {
     "name": "stdout",
     "output_type": "stream",
     "text": [
      "430*, 431*, 432*, "
     ]
    },
    {
     "name": "stderr",
     "output_type": "stream",
     "text": [
      "PdfReadWarning: Xref table not zero-indexed. ID numbers for objects will be corrected. [pdf.py:1736]\n"
     ]
    },
    {
     "name": "stdout",
     "output_type": "stream",
     "text": [
      "433*, 434*, 435*, "
     ]
    },
    {
     "name": "stderr",
     "output_type": "stream",
     "text": [
      "PdfReadWarning: Xref table not zero-indexed. ID numbers for objects will be corrected. [pdf.py:1736]\n"
     ]
    },
    {
     "name": "stdout",
     "output_type": "stream",
     "text": [
      "436*, 437*, 438*, 439*, 440*, 441*, 442*, 443*, "
     ]
    },
    {
     "name": "stderr",
     "output_type": "stream",
     "text": [
      "PdfReadWarning: Xref table not zero-indexed. ID numbers for objects will be corrected. [pdf.py:1736]\n"
     ]
    },
    {
     "name": "stdout",
     "output_type": "stream",
     "text": [
      "444*, 445*, 446*, 447*, "
     ]
    },
    {
     "name": "stderr",
     "output_type": "stream",
     "text": [
      "PdfReadWarning: Xref table not zero-indexed. ID numbers for objects will be corrected. [pdf.py:1736]\n"
     ]
    },
    {
     "name": "stdout",
     "output_type": "stream",
     "text": [
      "448*, 449*, 450*, 451*, 452*, "
     ]
    },
    {
     "name": "stderr",
     "output_type": "stream",
     "text": [
      "PdfReadWarning: Xref table not zero-indexed. ID numbers for objects will be corrected. [pdf.py:1736]\n"
     ]
    },
    {
     "name": "stdout",
     "output_type": "stream",
     "text": [
      "453*, 454*, 455*, 456*, 457*, 458*, 459*, 460*, 461*, 462*, 463*, 464*, 465*, 466*, 467*, 468*, 469*, 470*, 471*, 472*, 473*, "
     ]
    },
    {
     "name": "stderr",
     "output_type": "stream",
     "text": [
      "PdfReadWarning: Xref table not zero-indexed. ID numbers for objects will be corrected. [pdf.py:1736]\n"
     ]
    },
    {
     "name": "stdout",
     "output_type": "stream",
     "text": [
      "474*, 475*, 476*, 477*, 478*, "
     ]
    },
    {
     "name": "stderr",
     "output_type": "stream",
     "text": [
      "PdfReadWarning: Xref table not zero-indexed. ID numbers for objects will be corrected. [pdf.py:1736]\n"
     ]
    },
    {
     "name": "stdout",
     "output_type": "stream",
     "text": [
      "479*, 480*, 481*, 482*, 483*, 484*, 485*, "
     ]
    },
    {
     "name": "stderr",
     "output_type": "stream",
     "text": [
      "PdfReadWarning: Xref table not zero-indexed. ID numbers for objects will be corrected. [pdf.py:1736]\n"
     ]
    },
    {
     "name": "stdout",
     "output_type": "stream",
     "text": [
      "486*, 487*, 488*, "
     ]
    },
    {
     "name": "stderr",
     "output_type": "stream",
     "text": [
      "PdfReadWarning: Xref table not zero-indexed. ID numbers for objects will be corrected. [pdf.py:1736]\n"
     ]
    },
    {
     "name": "stdout",
     "output_type": "stream",
     "text": [
      "489*, 490*, "
     ]
    },
    {
     "name": "stderr",
     "output_type": "stream",
     "text": [
      "PdfReadWarning: Xref table not zero-indexed. ID numbers for objects will be corrected. [pdf.py:1736]\n"
     ]
    },
    {
     "name": "stdout",
     "output_type": "stream",
     "text": [
      "491*, 492*, 493*, 494*, 495*, "
     ]
    },
    {
     "name": "stderr",
     "output_type": "stream",
     "text": [
      "PdfReadWarning: Xref table not zero-indexed. ID numbers for objects will be corrected. [pdf.py:1736]\n"
     ]
    },
    {
     "name": "stdout",
     "output_type": "stream",
     "text": [
      "496*, 497*, 498*, 499*, 500*, 501*, 502*, "
     ]
    },
    {
     "name": "stderr",
     "output_type": "stream",
     "text": [
      "PdfReadWarning: Xref table not zero-indexed. ID numbers for objects will be corrected. [pdf.py:1736]\n"
     ]
    },
    {
     "name": "stdout",
     "output_type": "stream",
     "text": [
      "503*, 504*, 505*, 506*, 507*, 508*, "
     ]
    },
    {
     "name": "stderr",
     "output_type": "stream",
     "text": [
      "PdfReadWarning: Xref table not zero-indexed. ID numbers for objects will be corrected. [pdf.py:1736]\n"
     ]
    },
    {
     "name": "stdout",
     "output_type": "stream",
     "text": [
      "509*, "
     ]
    },
    {
     "name": "stderr",
     "output_type": "stream",
     "text": [
      "PdfReadWarning: Xref table not zero-indexed. ID numbers for objects will be corrected. [pdf.py:1736]\n"
     ]
    },
    {
     "name": "stdout",
     "output_type": "stream",
     "text": [
      "510*, 511*, 512*, 513*, 514*, 515*, 516*, 517*, 518*, 519*, "
     ]
    },
    {
     "name": "stderr",
     "output_type": "stream",
     "text": [
      "PdfReadWarning: Xref table not zero-indexed. ID numbers for objects will be corrected. [pdf.py:1736]\n"
     ]
    },
    {
     "name": "stdout",
     "output_type": "stream",
     "text": [
      "520*, "
     ]
    },
    {
     "name": "stderr",
     "output_type": "stream",
     "text": [
      "PdfReadWarning: Xref table not zero-indexed. ID numbers for objects will be corrected. [pdf.py:1736]\n"
     ]
    },
    {
     "name": "stdout",
     "output_type": "stream",
     "text": [
      "521*, 522*, 523*, 524*, 525*, 526*, 527*, "
     ]
    },
    {
     "name": "stderr",
     "output_type": "stream",
     "text": [
      "PdfReadWarning: Xref table not zero-indexed. ID numbers for objects will be corrected. [pdf.py:1736]\n"
     ]
    },
    {
     "name": "stdout",
     "output_type": "stream",
     "text": [
      "528*, 529*, 530*, "
     ]
    },
    {
     "name": "stderr",
     "output_type": "stream",
     "text": [
      "PdfReadWarning: Xref table not zero-indexed. ID numbers for objects will be corrected. [pdf.py:1736]\n"
     ]
    },
    {
     "name": "stdout",
     "output_type": "stream",
     "text": [
      "531*, 532*, 533*, 534*, "
     ]
    },
    {
     "name": "stderr",
     "output_type": "stream",
     "text": [
      "PdfReadWarning: Xref table not zero-indexed. ID numbers for objects will be corrected. [pdf.py:1736]\n"
     ]
    },
    {
     "name": "stdout",
     "output_type": "stream",
     "text": [
      "535*, 536*, 537*, 538*, 539*, "
     ]
    },
    {
     "name": "stderr",
     "output_type": "stream",
     "text": [
      "PdfReadWarning: Xref table not zero-indexed. ID numbers for objects will be corrected. [pdf.py:1736]\n"
     ]
    },
    {
     "name": "stdout",
     "output_type": "stream",
     "text": [
      "540*, 541*, 542*, 543*, "
     ]
    },
    {
     "name": "stderr",
     "output_type": "stream",
     "text": [
      "PdfReadWarning: Xref table not zero-indexed. ID numbers for objects will be corrected. [pdf.py:1736]\n"
     ]
    },
    {
     "name": "stdout",
     "output_type": "stream",
     "text": [
      "544*, 545*, 546*, 547*, 548*, 549*, 550*, 551*, "
     ]
    },
    {
     "name": "stderr",
     "output_type": "stream",
     "text": [
      "PdfReadWarning: Xref table not zero-indexed. ID numbers for objects will be corrected. [pdf.py:1736]\n"
     ]
    },
    {
     "name": "stdout",
     "output_type": "stream",
     "text": [
      "552*, 553*, 554*, "
     ]
    },
    {
     "name": "stderr",
     "output_type": "stream",
     "text": [
      "PdfReadWarning: Xref table not zero-indexed. ID numbers for objects will be corrected. [pdf.py:1736]\n"
     ]
    },
    {
     "name": "stdout",
     "output_type": "stream",
     "text": [
      "555*, 556*, 557*, "
     ]
    },
    {
     "name": "stderr",
     "output_type": "stream",
     "text": [
      "PdfReadWarning: Xref table not zero-indexed. ID numbers for objects will be corrected. [pdf.py:1736]\n"
     ]
    },
    {
     "name": "stdout",
     "output_type": "stream",
     "text": [
      "558*, 559*, 560*, 561*, 562*, 563*, 564*, 565*, 566*, "
     ]
    },
    {
     "name": "stderr",
     "output_type": "stream",
     "text": [
      "PdfReadWarning: Xref table not zero-indexed. ID numbers for objects will be corrected. [pdf.py:1736]\n"
     ]
    },
    {
     "name": "stdout",
     "output_type": "stream",
     "text": [
      "567*, 568*, 569*, 570*, 571*, 572*, 573*, "
     ]
    },
    {
     "name": "stderr",
     "output_type": "stream",
     "text": [
      "PdfReadWarning: Xref table not zero-indexed. ID numbers for objects will be corrected. [pdf.py:1736]\n"
     ]
    },
    {
     "name": "stdout",
     "output_type": "stream",
     "text": [
      "574*, 575*, 576*, "
     ]
    },
    {
     "name": "stderr",
     "output_type": "stream",
     "text": [
      "PdfReadWarning: Xref table not zero-indexed. ID numbers for objects will be corrected. [pdf.py:1736]\n"
     ]
    },
    {
     "name": "stdout",
     "output_type": "stream",
     "text": [
      "577*, 578*, 579*, 580*, 581*, 582*, 583*, "
     ]
    },
    {
     "name": "stderr",
     "output_type": "stream",
     "text": [
      "PdfReadWarning: Xref table not zero-indexed. ID numbers for objects will be corrected. [pdf.py:1736]\n"
     ]
    },
    {
     "name": "stdout",
     "output_type": "stream",
     "text": [
      "584*, 585*, 586*, 587*, 588*, 589*, 590*, 591*, 592*, "
     ]
    },
    {
     "name": "stderr",
     "output_type": "stream",
     "text": [
      "PdfReadWarning: Xref table not zero-indexed. ID numbers for objects will be corrected. [pdf.py:1736]\n"
     ]
    },
    {
     "name": "stdout",
     "output_type": "stream",
     "text": [
      "593*, 594*, 595*, 596*, 597*, 598*, 599*, 600*, 601*, 602*, 603*, 604*, 605*, 606*, 607*, 608*, 609*, 610*, 611*, 612*, 613*, 614*, 615*, 616*, 617*, 618*, 619*, 620*, 621*, 622*, 623*, 624*, 625*, 626*, 627*, 628*, 629*, 630*, 631*, 632*, 633*, 634*, 635*, 636*, 637*, 638*, 639*, 640*, 641*, 642*, 643*, "
     ]
    },
    {
     "name": "stderr",
     "output_type": "stream",
     "text": [
      "PdfReadWarning: Xref table not zero-indexed. ID numbers for objects will be corrected. [pdf.py:1736]\n"
     ]
    },
    {
     "name": "stdout",
     "output_type": "stream",
     "text": [
      "644*, 645*, 646*, 647*, 648*, 649*, 650*, 651*, 652*, 653*, 654*, 655*, 656*, 657*, 658*, 659*, 660*, 661*, 662*, 663*, 664*, 665*, 666*, 667*, 668*, 669*, 670*, 671*, 672*, 673*, 674*, 675*, 676*, 677*, 678*, 679*, 680*, 681*, 682*, 683*, 684*, 685*, 686*, 687*, 688*, 689*, 690*, 691*, 692*, 693*, 694*, 695*, 696*, 697*, 698*, 699*, 700*, 701*, 702*, 703*, 704*, 705*, 706*, 707*, 708*, 709*, 710*, 711*, 712*, 713*, 714*, 715*, 716*, 717*, 718*, 719*, 720*, 721*, 722*, 723*, "
     ]
    },
    {
     "name": "stderr",
     "output_type": "stream",
     "text": [
      "PdfReadWarning: Xref table not zero-indexed. ID numbers for objects will be corrected. [pdf.py:1736]\n"
     ]
    },
    {
     "name": "stdout",
     "output_type": "stream",
     "text": [
      "724*, 725*, 726*, 727*, 728*, "
     ]
    },
    {
     "name": "stderr",
     "output_type": "stream",
     "text": [
      "PdfReadWarning: Xref table not zero-indexed. ID numbers for objects will be corrected. [pdf.py:1736]\n"
     ]
    },
    {
     "name": "stdout",
     "output_type": "stream",
     "text": [
      "729*, 730*, 731*, "
     ]
    },
    {
     "name": "stderr",
     "output_type": "stream",
     "text": [
      "PdfReadWarning: Xref table not zero-indexed. ID numbers for objects will be corrected. [pdf.py:1736]\n"
     ]
    },
    {
     "name": "stdout",
     "output_type": "stream",
     "text": [
      "732*, "
     ]
    },
    {
     "name": "stderr",
     "output_type": "stream",
     "text": [
      "PdfReadWarning: Xref table not zero-indexed. ID numbers for objects will be corrected. [pdf.py:1736]\n"
     ]
    },
    {
     "name": "stdout",
     "output_type": "stream",
     "text": [
      "733*, 734*, 735*, 736*, 737*, 738*, 739*, 740*, 741*, 742*, 743*, "
     ]
    },
    {
     "name": "stderr",
     "output_type": "stream",
     "text": [
      "PdfReadWarning: Xref table not zero-indexed. ID numbers for objects will be corrected. [pdf.py:1736]\n"
     ]
    },
    {
     "name": "stdout",
     "output_type": "stream",
     "text": [
      "744*, 745*, "
     ]
    },
    {
     "name": "stderr",
     "output_type": "stream",
     "text": [
      "PdfReadWarning: Xref table not zero-indexed. ID numbers for objects will be corrected. [pdf.py:1736]\n"
     ]
    },
    {
     "name": "stdout",
     "output_type": "stream",
     "text": [
      "746*, 747*, 748*, 749*, "
     ]
    },
    {
     "name": "stderr",
     "output_type": "stream",
     "text": [
      "PdfReadWarning: Xref table not zero-indexed. ID numbers for objects will be corrected. [pdf.py:1736]\n"
     ]
    },
    {
     "name": "stdout",
     "output_type": "stream",
     "text": [
      "750*, 751*, 752*, "
     ]
    },
    {
     "name": "stderr",
     "output_type": "stream",
     "text": [
      "PdfReadWarning: Xref table not zero-indexed. ID numbers for objects will be corrected. [pdf.py:1736]\n"
     ]
    },
    {
     "name": "stdout",
     "output_type": "stream",
     "text": [
      "753*, 754*, "
     ]
    },
    {
     "name": "stderr",
     "output_type": "stream",
     "text": [
      "PdfReadWarning: Xref table not zero-indexed. ID numbers for objects will be corrected. [pdf.py:1736]\n"
     ]
    },
    {
     "name": "stdout",
     "output_type": "stream",
     "text": [
      "755*, 756*, 757*, 758*, 759*, 760*, 761*, 762*, 763*, 764*, 765*, 766*, 767*, "
     ]
    },
    {
     "name": "stderr",
     "output_type": "stream",
     "text": [
      "PdfReadWarning: Xref table not zero-indexed. ID numbers for objects will be corrected. [pdf.py:1736]\n"
     ]
    },
    {
     "name": "stdout",
     "output_type": "stream",
     "text": [
      "768*, 769*, 770*, 771*, 772*, 773*, 774*, 775*, 776*, 777*, "
     ]
    },
    {
     "name": "stderr",
     "output_type": "stream",
     "text": [
      "PdfReadWarning: Xref table not zero-indexed. ID numbers for objects will be corrected. [pdf.py:1736]\n"
     ]
    },
    {
     "name": "stdout",
     "output_type": "stream",
     "text": [
      "778*, 779*, 780*, 781*, 782*, "
     ]
    },
    {
     "name": "stderr",
     "output_type": "stream",
     "text": [
      "PdfReadWarning: Xref table not zero-indexed. ID numbers for objects will be corrected. [pdf.py:1736]\n"
     ]
    },
    {
     "name": "stdout",
     "output_type": "stream",
     "text": [
      "783*, 784*, 785*, 786*, 787*, 788*, 789*, 790*, 791*, 792*, 793*, 794*, 795*, 796*, 797*, 798*, 799*, 800*, 801*, 802*, 803*, 804*, 805*, 806*, 807*, "
     ]
    },
    {
     "name": "stderr",
     "output_type": "stream",
     "text": [
      "PdfReadWarning: Xref table not zero-indexed. ID numbers for objects will be corrected. [pdf.py:1736]\n"
     ]
    },
    {
     "name": "stdout",
     "output_type": "stream",
     "text": [
      "808*, 809*, 810*, 811*, "
     ]
    },
    {
     "name": "stderr",
     "output_type": "stream",
     "text": [
      "PdfReadWarning: Xref table not zero-indexed. ID numbers for objects will be corrected. [pdf.py:1736]\n"
     ]
    },
    {
     "name": "stdout",
     "output_type": "stream",
     "text": [
      "812*, "
     ]
    },
    {
     "name": "stderr",
     "output_type": "stream",
     "text": [
      "PdfReadWarning: Xref table not zero-indexed. ID numbers for objects will be corrected. [pdf.py:1736]\n"
     ]
    },
    {
     "name": "stdout",
     "output_type": "stream",
     "text": [
      "813*, 814*, "
     ]
    },
    {
     "name": "stderr",
     "output_type": "stream",
     "text": [
      "PdfReadWarning: Xref table not zero-indexed. ID numbers for objects will be corrected. [pdf.py:1736]\n"
     ]
    },
    {
     "name": "stdout",
     "output_type": "stream",
     "text": [
      "815*, 816*, 817*, 818*, 819*, 820*, "
     ]
    },
    {
     "name": "stderr",
     "output_type": "stream",
     "text": [
      "PdfReadWarning: Xref table not zero-indexed. ID numbers for objects will be corrected. [pdf.py:1736]\n"
     ]
    },
    {
     "name": "stdout",
     "output_type": "stream",
     "text": [
      "821*, 822*, 823*, 824*, 825*, 826*, "
     ]
    },
    {
     "name": "stderr",
     "output_type": "stream",
     "text": [
      "PdfReadWarning: Xref table not zero-indexed. ID numbers for objects will be corrected. [pdf.py:1736]\n"
     ]
    },
    {
     "name": "stdout",
     "output_type": "stream",
     "text": [
      "827*, 828*, 829*, 830*, "
     ]
    },
    {
     "name": "stderr",
     "output_type": "stream",
     "text": [
      "PdfReadWarning: Xref table not zero-indexed. ID numbers for objects will be corrected. [pdf.py:1736]\n"
     ]
    },
    {
     "name": "stdout",
     "output_type": "stream",
     "text": [
      "831*, "
     ]
    },
    {
     "name": "stderr",
     "output_type": "stream",
     "text": [
      "PdfReadWarning: Xref table not zero-indexed. ID numbers for objects will be corrected. [pdf.py:1736]\n"
     ]
    },
    {
     "name": "stdout",
     "output_type": "stream",
     "text": [
      "832*, "
     ]
    },
    {
     "name": "stderr",
     "output_type": "stream",
     "text": [
      "PdfReadWarning: Xref table not zero-indexed. ID numbers for objects will be corrected. [pdf.py:1736]\n"
     ]
    },
    {
     "name": "stdout",
     "output_type": "stream",
     "text": [
      "833*, 834*, "
     ]
    },
    {
     "name": "stderr",
     "output_type": "stream",
     "text": [
      "PdfReadWarning: Xref table not zero-indexed. ID numbers for objects will be corrected. [pdf.py:1736]\n"
     ]
    },
    {
     "name": "stdout",
     "output_type": "stream",
     "text": [
      "835*, 836*, 837*, "
     ]
    },
    {
     "name": "stderr",
     "output_type": "stream",
     "text": [
      "PdfReadWarning: Xref table not zero-indexed. ID numbers for objects will be corrected. [pdf.py:1736]\n"
     ]
    },
    {
     "name": "stdout",
     "output_type": "stream",
     "text": [
      "838*, "
     ]
    },
    {
     "name": "stderr",
     "output_type": "stream",
     "text": [
      "PdfReadWarning: Xref table not zero-indexed. ID numbers for objects will be corrected. [pdf.py:1736]\n"
     ]
    },
    {
     "name": "stdout",
     "output_type": "stream",
     "text": [
      "839*, 840*, 841*, "
     ]
    },
    {
     "name": "stderr",
     "output_type": "stream",
     "text": [
      "PdfReadWarning: Xref table not zero-indexed. ID numbers for objects will be corrected. [pdf.py:1736]\n"
     ]
    },
    {
     "name": "stdout",
     "output_type": "stream",
     "text": [
      "842*, 843*, "
     ]
    },
    {
     "name": "stderr",
     "output_type": "stream",
     "text": [
      "PdfReadWarning: Xref table not zero-indexed. ID numbers for objects will be corrected. [pdf.py:1736]\n"
     ]
    },
    {
     "name": "stdout",
     "output_type": "stream",
     "text": [
      "844*, 845*, 846*, 847*, 848*, 849*, 850*, 851*, 852*, 853*, 854*, 855*, 856*, 857*, 858*, 859*, 860*, 861*, 862*, 863*, 864*, 865*, 866*, 867*, 868*, 869*, 870*, 871*, 872*, 873*, 874*, "
     ]
    },
    {
     "name": "stderr",
     "output_type": "stream",
     "text": [
      "PdfReadWarning: Xref table not zero-indexed. ID numbers for objects will be corrected. [pdf.py:1736]\n"
     ]
    },
    {
     "name": "stdout",
     "output_type": "stream",
     "text": [
      "875*, "
     ]
    },
    {
     "name": "stderr",
     "output_type": "stream",
     "text": [
      "PdfReadWarning: Xref table not zero-indexed. ID numbers for objects will be corrected. [pdf.py:1736]\n"
     ]
    },
    {
     "name": "stdout",
     "output_type": "stream",
     "text": [
      "876*, 877*, 878*, 879*, 880*, 881*, 882*, 883*, 884*, 885*, 886*, 887*, 888*, 889*, 890*, 891*, 892*, 893*, 894*, 895*, 896*, 897*, 898*, 899*, 900*, 901*, 902*, 903*, 904*, 905*, 906*, 907*, 908*, 909*, 910*, 911*, 912*, 913*, 914*, 915*, 916*, 917*, 918*, 919*, 920*, 921*, 922*, 923*, 924*, 925*, 926*, 927*, 928*, 929*, 930*, "
     ]
    },
    {
     "name": "stderr",
     "output_type": "stream",
     "text": [
      "PdfReadWarning: Xref table not zero-indexed. ID numbers for objects will be corrected. [pdf.py:1736]\n"
     ]
    },
    {
     "name": "stdout",
     "output_type": "stream",
     "text": [
      "931*, 932*, 933*, 934*, 935*, 936*, 937*, 938*, 939*, "
     ]
    },
    {
     "name": "stderr",
     "output_type": "stream",
     "text": [
      "PdfReadWarning: Xref table not zero-indexed. ID numbers for objects will be corrected. [pdf.py:1736]\n"
     ]
    },
    {
     "name": "stdout",
     "output_type": "stream",
     "text": [
      "940*, 941*, 942*, 943*, "
     ]
    },
    {
     "name": "stderr",
     "output_type": "stream",
     "text": [
      "PdfReadWarning: Xref table not zero-indexed. ID numbers for objects will be corrected. [pdf.py:1736]\n"
     ]
    },
    {
     "name": "stdout",
     "output_type": "stream",
     "text": [
      "944*, 945*, "
     ]
    },
    {
     "name": "stderr",
     "output_type": "stream",
     "text": [
      "PdfReadWarning: Xref table not zero-indexed. ID numbers for objects will be corrected. [pdf.py:1736]\n"
     ]
    },
    {
     "name": "stdout",
     "output_type": "stream",
     "text": [
      "946*, 947*, 948*, "
     ]
    },
    {
     "name": "stderr",
     "output_type": "stream",
     "text": [
      "PdfReadWarning: Xref table not zero-indexed. ID numbers for objects will be corrected. [pdf.py:1736]\n"
     ]
    },
    {
     "name": "stdout",
     "output_type": "stream",
     "text": [
      "949*, "
     ]
    },
    {
     "name": "stderr",
     "output_type": "stream",
     "text": [
      "PdfReadWarning: Xref table not zero-indexed. ID numbers for objects will be corrected. [pdf.py:1736]\n"
     ]
    },
    {
     "name": "stdout",
     "output_type": "stream",
     "text": [
      "950*, 951*, 952*, "
     ]
    },
    {
     "name": "stderr",
     "output_type": "stream",
     "text": [
      "PdfReadWarning: Xref table not zero-indexed. ID numbers for objects will be corrected. [pdf.py:1736]\n"
     ]
    },
    {
     "name": "stdout",
     "output_type": "stream",
     "text": [
      "953*, "
     ]
    },
    {
     "name": "stderr",
     "output_type": "stream",
     "text": [
      "PdfReadWarning: Xref table not zero-indexed. ID numbers for objects will be corrected. [pdf.py:1736]\n"
     ]
    },
    {
     "name": "stdout",
     "output_type": "stream",
     "text": [
      "954*, "
     ]
    },
    {
     "name": "stderr",
     "output_type": "stream",
     "text": [
      "PdfReadWarning: Xref table not zero-indexed. ID numbers for objects will be corrected. [pdf.py:1736]\n"
     ]
    },
    {
     "name": "stdout",
     "output_type": "stream",
     "text": [
      "955*, "
     ]
    },
    {
     "name": "stderr",
     "output_type": "stream",
     "text": [
      "PdfReadWarning: Xref table not zero-indexed. ID numbers for objects will be corrected. [pdf.py:1736]\n"
     ]
    },
    {
     "name": "stdout",
     "output_type": "stream",
     "text": [
      "956*, "
     ]
    },
    {
     "name": "stderr",
     "output_type": "stream",
     "text": [
      "PdfReadWarning: Xref table not zero-indexed. ID numbers for objects will be corrected. [pdf.py:1736]\n"
     ]
    },
    {
     "name": "stdout",
     "output_type": "stream",
     "text": [
      "957*, "
     ]
    },
    {
     "name": "stderr",
     "output_type": "stream",
     "text": [
      "PdfReadWarning: Xref table not zero-indexed. ID numbers for objects will be corrected. [pdf.py:1736]\n"
     ]
    },
    {
     "name": "stdout",
     "output_type": "stream",
     "text": [
      "958*, 959*, 960*, 961*, "
     ]
    },
    {
     "name": "stderr",
     "output_type": "stream",
     "text": [
      "PdfReadWarning: Xref table not zero-indexed. ID numbers for objects will be corrected. [pdf.py:1736]\n"
     ]
    },
    {
     "name": "stdout",
     "output_type": "stream",
     "text": [
      "962*, "
     ]
    },
    {
     "name": "stderr",
     "output_type": "stream",
     "text": [
      "PdfReadWarning: Xref table not zero-indexed. ID numbers for objects will be corrected. [pdf.py:1736]\n"
     ]
    },
    {
     "name": "stdout",
     "output_type": "stream",
     "text": [
      "963*, 964*, "
     ]
    },
    {
     "name": "stderr",
     "output_type": "stream",
     "text": [
      "PdfReadWarning: Xref table not zero-indexed. ID numbers for objects will be corrected. [pdf.py:1736]\n"
     ]
    },
    {
     "name": "stdout",
     "output_type": "stream",
     "text": [
      "965*, "
     ]
    },
    {
     "name": "stderr",
     "output_type": "stream",
     "text": [
      "PdfReadWarning: Xref table not zero-indexed. ID numbers for objects will be corrected. [pdf.py:1736]\n"
     ]
    },
    {
     "name": "stdout",
     "output_type": "stream",
     "text": [
      "966*, 967*, "
     ]
    },
    {
     "name": "stderr",
     "output_type": "stream",
     "text": [
      "PdfReadWarning: Xref table not zero-indexed. ID numbers for objects will be corrected. [pdf.py:1736]\n"
     ]
    },
    {
     "name": "stdout",
     "output_type": "stream",
     "text": [
      "968*, 969*, "
     ]
    },
    {
     "name": "stderr",
     "output_type": "stream",
     "text": [
      "PdfReadWarning: Xref table not zero-indexed. ID numbers for objects will be corrected. [pdf.py:1736]\n"
     ]
    },
    {
     "name": "stdout",
     "output_type": "stream",
     "text": [
      "970*, 971*, "
     ]
    },
    {
     "name": "stderr",
     "output_type": "stream",
     "text": [
      "PdfReadWarning: Xref table not zero-indexed. ID numbers for objects will be corrected. [pdf.py:1736]\n"
     ]
    },
    {
     "name": "stdout",
     "output_type": "stream",
     "text": [
      "972*, 973*, 974*, 975*, 976*, 977*, 978*, 979*, "
     ]
    },
    {
     "name": "stderr",
     "output_type": "stream",
     "text": [
      "PdfReadWarning: Xref table not zero-indexed. ID numbers for objects will be corrected. [pdf.py:1736]\n"
     ]
    },
    {
     "name": "stdout",
     "output_type": "stream",
     "text": [
      "980*, "
     ]
    },
    {
     "name": "stderr",
     "output_type": "stream",
     "text": [
      "PdfReadWarning: Xref table not zero-indexed. ID numbers for objects will be corrected. [pdf.py:1736]\n"
     ]
    },
    {
     "name": "stdout",
     "output_type": "stream",
     "text": [
      "981*, 982*, 983*, 984*, 985*, 986*, 987*, 988*, 989*, 990*, 991*, "
     ]
    },
    {
     "name": "stderr",
     "output_type": "stream",
     "text": [
      "PdfReadWarning: Xref table not zero-indexed. ID numbers for objects will be corrected. [pdf.py:1736]\n"
     ]
    },
    {
     "name": "stdout",
     "output_type": "stream",
     "text": [
      "992*, 993*, 994*, "
     ]
    },
    {
     "name": "stderr",
     "output_type": "stream",
     "text": [
      "PdfReadWarning: Xref table not zero-indexed. ID numbers for objects will be corrected. [pdf.py:1736]\n"
     ]
    },
    {
     "name": "stdout",
     "output_type": "stream",
     "text": [
      "995*, 996*, 997*, 998*, "
     ]
    },
    {
     "name": "stderr",
     "output_type": "stream",
     "text": [
      "PdfReadWarning: Xref table not zero-indexed. ID numbers for objects will be corrected. [pdf.py:1736]\n"
     ]
    },
    {
     "name": "stdout",
     "output_type": "stream",
     "text": [
      "999*, 1000*, 1001*, "
     ]
    },
    {
     "name": "stderr",
     "output_type": "stream",
     "text": [
      "PdfReadWarning: Xref table not zero-indexed. ID numbers for objects will be corrected. [pdf.py:1736]\n"
     ]
    },
    {
     "name": "stdout",
     "output_type": "stream",
     "text": [
      "1002*, 1003*, "
     ]
    },
    {
     "name": "stderr",
     "output_type": "stream",
     "text": [
      "PdfReadWarning: Xref table not zero-indexed. ID numbers for objects will be corrected. [pdf.py:1736]\n"
     ]
    },
    {
     "name": "stdout",
     "output_type": "stream",
     "text": [
      "1004*, 1005*, 1006*, 1007*, error: ../data/raw/eforms.alacourt.gov/forms/98bfba4c9d724c05c405fb3159802fc0.pdf\n",
      "1008*, "
     ]
    },
    {
     "name": "stderr",
     "output_type": "stream",
     "text": [
      "PdfReadWarning: Xref table not zero-indexed. ID numbers for objects will be corrected. [pdf.py:1736]\n"
     ]
    },
    {
     "name": "stdout",
     "output_type": "stream",
     "text": [
      "1009*, error: ../data/raw/eforms.alacourt.gov/forms/77a1f118855cb2d9938e373249c4b127.pdf\n",
      "1010*, error: ../data/raw/eforms.alacourt.gov/forms/0f6f2384e9433b3d77acdc66e7425dec.pdf\n",
      "1011*, error: ../data/raw/eforms.alacourt.gov/forms/02fed772a687bf0607fd12ce173059f7.pdf\n",
      "1012*, error: ../data/raw/eforms.alacourt.gov/forms/0968e0e5829e08b3c36ac4e50cd4e687.pdf\n",
      "1013*, "
     ]
    },
    {
     "name": "stderr",
     "output_type": "stream",
     "text": [
      "PdfReadWarning: Xref table not zero-indexed. ID numbers for objects will be corrected. [pdf.py:1736]\n"
     ]
    },
    {
     "name": "stdout",
     "output_type": "stream",
     "text": [
      "1014*, error: ../data/raw/eforms.alacourt.gov/forms/3fa103805818eba6e7b258dda8a7cde6.pdf\n",
      "1015*, error: ../data/raw/eforms.alacourt.gov/forms/088aef1c2f344d92f5d0288f8cc72139.pdf\n",
      "1016*, error: ../data/raw/eforms.alacourt.gov/forms/78c0e5ff301a0ba76fd95b51fe1ae88c.pdf\n",
      "1017*, error: ../data/raw/eforms.alacourt.gov/forms/d37fc85003e9303640396ed100ea8e50.pdf\n",
      "1018*, error: ../data/raw/eforms.alacourt.gov/forms/a662a1b5a31a5e87d5165b103f3cd24c.pdf\n",
      "1019*, error: ../data/raw/eforms.alacourt.gov/forms/3980a804d33f743dcd96ee9d49e5949f.pdf\n",
      "1020*, error: ../data/raw/eforms.alacourt.gov/forms/1a33af166b8117a080245be61b583741.pdf\n",
      "1021*, error: ../data/raw/eforms.alacourt.gov/forms/69a19862488e5c5de4b97c1df45c0098.pdf\n",
      "1022*, error: ../data/raw/eforms.alacourt.gov/forms/a892cde09cf42942fc5c95405a2468d4.pdf\n",
      "1023*, "
     ]
    },
    {
     "name": "stderr",
     "output_type": "stream",
     "text": [
      "PdfReadWarning: Xref table not zero-indexed. ID numbers for objects will be corrected. [pdf.py:1736]\n"
     ]
    },
    {
     "name": "stdout",
     "output_type": "stream",
     "text": [
      "1024*, 1025*, error: ../data/raw/eforms.alacourt.gov/forms/fd4d3c5c3398bb0d988da48fb3a09f60.pdf\n",
      "1026*, 1027*, error: ../data/raw/eforms.alacourt.gov/forms/dba286e6fa880e72dd354292da7afa62.pdf\n",
      "1028*, error: ../data/raw/eforms.alacourt.gov/forms/73d16d5f2a9cc36bda1fcb80164352bb.pdf\n",
      "1029*, 1030*, error: ../data/raw/eforms.alacourt.gov/forms/d6be0650dcad3c1cf173955596d312a2.pdf\n",
      "1031*, "
     ]
    },
    {
     "name": "stderr",
     "output_type": "stream",
     "text": [
      "PdfReadWarning: Xref table not zero-indexed. ID numbers for objects will be corrected. [pdf.py:1736]\n"
     ]
    },
    {
     "name": "stdout",
     "output_type": "stream",
     "text": [
      "1032*, error: ../data/raw/eforms.alacourt.gov/forms/17ce3ac42697e4177018ebdd06daf6ca.pdf\n",
      "1033*, 1034*, error: ../data/raw/eforms.alacourt.gov/forms/726ba53d3465b0a24077dae9ce39f2fb.pdf\n",
      "1035*, error: ../data/raw/eforms.alacourt.gov/forms/543127b3234be7faa113577be7a858ff.pdf\n",
      "1036*, "
     ]
    },
    {
     "name": "stderr",
     "output_type": "stream",
     "text": [
      "PdfReadWarning: Xref table not zero-indexed. ID numbers for objects will be corrected. [pdf.py:1736]\n"
     ]
    },
    {
     "name": "stdout",
     "output_type": "stream",
     "text": [
      "1037*, "
     ]
    },
    {
     "name": "stderr",
     "output_type": "stream",
     "text": [
      "PdfReadWarning: Xref table not zero-indexed. ID numbers for objects will be corrected. [pdf.py:1736]\n"
     ]
    },
    {
     "name": "stdout",
     "output_type": "stream",
     "text": [
      "1038*, "
     ]
    },
    {
     "name": "stderr",
     "output_type": "stream",
     "text": [
      "PdfReadWarning: Xref table not zero-indexed. ID numbers for objects will be corrected. [pdf.py:1736]\n"
     ]
    },
    {
     "name": "stdout",
     "output_type": "stream",
     "text": [
      "1039*, 1040*, "
     ]
    },
    {
     "name": "stderr",
     "output_type": "stream",
     "text": [
      "PdfReadWarning: Xref table not zero-indexed. ID numbers for objects will be corrected. [pdf.py:1736]\n"
     ]
    },
    {
     "name": "stdout",
     "output_type": "stream",
     "text": [
      "1041*, "
     ]
    },
    {
     "name": "stderr",
     "output_type": "stream",
     "text": [
      "PdfReadWarning: Xref table not zero-indexed. ID numbers for objects will be corrected. [pdf.py:1736]\n"
     ]
    },
    {
     "name": "stdout",
     "output_type": "stream",
     "text": [
      "1042*, error: ../data/raw/eforms.alacourt.gov/forms/41f9a1289fd945dac0d2331c1c7b7770.pdf\n",
      "1043*, error: ../data/raw/eforms.alacourt.gov/forms/eccd696f5f1fcbf4699a8d9d1e0dd33f.pdf\n",
      "1044*, 1045*, error: ../data/raw/eforms.alacourt.gov/forms/d4bffc47489eb915eff782efa83d98b9.pdf\n",
      "1046*, "
     ]
    },
    {
     "name": "stderr",
     "output_type": "stream",
     "text": [
      "PdfReadWarning: Xref table not zero-indexed. ID numbers for objects will be corrected. [pdf.py:1736]\n"
     ]
    },
    {
     "name": "stdout",
     "output_type": "stream",
     "text": [
      "1047*, error: ../data/raw/eforms.alacourt.gov/forms/4e90d3357f02fd9866e2fe6133266321.pdf\n",
      "1048*, 1049*, error: ../data/raw/eforms.alacourt.gov/forms/4cb3a785c199aacd6d5a6ac8bf6db2a1.pdf\n",
      "1050*, error: ../data/raw/eforms.alacourt.gov/forms/eef93fb2e4a1e1ec9015ad158332bb03.pdf\n",
      "1051*, error: ../data/raw/eforms.alacourt.gov/forms/7f9341ae7602e45a99fa6dd97691ce5a.pdf\n",
      "1052*, error: ../data/raw/eforms.alacourt.gov/forms/53af3295225e09ceb93347d6c17623a5.pdf\n",
      "1053*, error: ../data/raw/eforms.alacourt.gov/forms/fa821831bccebeb3e5642385bc76e280.pdf\n",
      "1054*, error: ../data/raw/eforms.alacourt.gov/forms/8a7f211fdd404900442e626049f4df31.pdf\n",
      "1055*, 1056*, error: ../data/raw/eforms.alacourt.gov/forms/1f8a988124b03f055c157ff930b0190d.pdf\n",
      "1057*, error: ../data/raw/eforms.alacourt.gov/forms/ce8b9d5761b3e02737ac57ca541b19f4.pdf\n",
      "1058*, error: ../data/raw/eforms.alacourt.gov/forms/a1e0eaf87ddc93294b406259f95e6192.pdf\n",
      "1059*, error: ../data/raw/eforms.alacourt.gov/forms/32a6dfdafdf92a2646561e726d254a12.pdf\n",
      "1060*, error: ../data/raw/eforms.alacourt.gov/forms/760970d91e7e46ab990548bd004b8800.pdf\n",
      "1061*, error: ../data/raw/eforms.alacourt.gov/forms/e432f6c4d630ca946228bae47a65c807.pdf\n",
      "1062*, error: ../data/raw/eforms.alacourt.gov/forms/fee150341856bef9dc33885f64dcab6f.pdf\n",
      "1063*, 1064*, error: ../data/raw/eforms.alacourt.gov/forms/7d85b176909e3392a91e2c925386fd85.pdf\n",
      "1065*, 1066*, error: ../data/raw/eforms.alacourt.gov/forms/10d2610d92236bbc9104a7c0fd4b0755.pdf\n",
      "1067*, "
     ]
    },
    {
     "name": "stderr",
     "output_type": "stream",
     "text": [
      "PdfReadWarning: Xref table not zero-indexed. ID numbers for objects will be corrected. [pdf.py:1736]\n"
     ]
    },
    {
     "name": "stdout",
     "output_type": "stream",
     "text": [
      "1068*, "
     ]
    },
    {
     "name": "stderr",
     "output_type": "stream",
     "text": [
      "PdfReadWarning: Xref table not zero-indexed. ID numbers for objects will be corrected. [pdf.py:1736]\n"
     ]
    },
    {
     "name": "stdout",
     "output_type": "stream",
     "text": [
      "1069*, "
     ]
    },
    {
     "name": "stderr",
     "output_type": "stream",
     "text": [
      "PdfReadWarning: Xref table not zero-indexed. ID numbers for objects will be corrected. [pdf.py:1736]\n"
     ]
    },
    {
     "name": "stdout",
     "output_type": "stream",
     "text": [
      "1070*, error: ../data/raw/eforms.alacourt.gov/forms/9eef0596ad1b5cfafa70ff9b65c6be1d.pdf\n",
      "1071*, error: ../data/raw/eforms.alacourt.gov/forms/12128da972054955fb809408e965256b.pdf\n",
      "1072*, error: ../data/raw/eforms.alacourt.gov/forms/122a92574f0e95aedb0baa40262040d2.pdf\n",
      "1073*, error: ../data/raw/eforms.alacourt.gov/forms/76c3b26f2a410abd11221f9c00008c3e.pdf\n",
      "1074*, error: ../data/raw/eforms.alacourt.gov/forms/3549033b651a8288d2bb2c3f704ee4d1.pdf\n",
      "1075*, error: ../data/raw/eforms.alacourt.gov/forms/be4d4b53794d224fed862fbbcad63761.pdf\n",
      "1076*, error: ../data/raw/eforms.alacourt.gov/forms/8799859ce0239e4c1eb52b432473b3f8.pdf\n",
      "1077*, "
     ]
    },
    {
     "name": "stderr",
     "output_type": "stream",
     "text": [
      "PdfReadWarning: Xref table not zero-indexed. ID numbers for objects will be corrected. [pdf.py:1736]\n"
     ]
    },
    {
     "name": "stdout",
     "output_type": "stream",
     "text": [
      "1078*, error: ../data/raw/eforms.alacourt.gov/forms/c334f341e2dfe613c926c4b38ce8558b.pdf\n",
      "1079*, error: ../data/raw/eforms.alacourt.gov/forms/d514062f02b403db3d3eecc970159a53.pdf\n",
      "1080*, error: ../data/raw/eforms.alacourt.gov/forms/2d76e7abbc85b754829d896cbac6b86f.pdf\n",
      "1081*, "
     ]
    },
    {
     "name": "stderr",
     "output_type": "stream",
     "text": [
      "PdfReadWarning: Xref table not zero-indexed. ID numbers for objects will be corrected. [pdf.py:1736]\n"
     ]
    },
    {
     "name": "stdout",
     "output_type": "stream",
     "text": [
      "1082*, error: ../data/raw/eforms.alacourt.gov/forms/0753362aebdc67655067704b087b56f4.pdf\n",
      "1083*, error: ../data/raw/eforms.alacourt.gov/forms/b67c7df2c83a68c331d753c059b72b17.pdf\n",
      "1084*, error: ../data/raw/eforms.alacourt.gov/forms/63517ede552dad1fc4274097f508dd70.pdf\n",
      "1085*, error: ../data/raw/eforms.alacourt.gov/forms/8346f55c98b022a4b384e166c93fd2ac.pdf\n",
      "1086*, "
     ]
    },
    {
     "name": "stderr",
     "output_type": "stream",
     "text": [
      "PdfReadWarning: Xref table not zero-indexed. ID numbers for objects will be corrected. [pdf.py:1736]\n"
     ]
    },
    {
     "name": "stdout",
     "output_type": "stream",
     "text": [
      "1087*, error: ../data/raw/eforms.alacourt.gov/forms/b6888690d2e0b415dfc4e6256dc6cadc.pdf\n",
      "1088*, error: ../data/raw/eforms.alacourt.gov/forms/8b6f90870db6956eede907146abeaf35.pdf\n",
      "1089*, error: ../data/raw/eforms.alacourt.gov/forms/9bf9a5c5c6e8c08d40ed3bab89d92a3f.pdf\n",
      "1090*, 1091*, error: ../data/raw/eforms.alacourt.gov/forms/7bc2e281b13443ef9203695ffecc109f.pdf\n",
      "1092*, error: ../data/raw/eforms.alacourt.gov/forms/421ddccf53e26e62e8c2d9bbde19b97f.pdf\n",
      "1093*, error: ../data/raw/eforms.alacourt.gov/forms/dd5afda01837bf9d5bafb73c971d49cb.pdf\n",
      "1094*, error: ../data/raw/eforms.alacourt.gov/forms/98bfba4c9d724c05c405fb3159802fc0.pdf\n",
      "1095*, 1096*, error: ../data/raw/eforms.alacourt.gov/forms/54ba88d95cd8a18ca9474eee9c70f421.pdf\n",
      "1097*, error: ../data/raw/eforms.alacourt.gov/forms/71c2edbeaeb899e3401ee245955f2804.pdf\n",
      "1098*, error: ../data/raw/eforms.alacourt.gov/forms/89258f3d2589fd083a2736b65ab757fe.pdf\n",
      "1099*, 1100*, error: ../data/raw/eforms.alacourt.gov/forms/fe30d50a20ea8056721f36541297b4c5.pdf\n",
      "1101*, error: ../data/raw/eforms.alacourt.gov/forms/076a7e49693f398101edb8a85b4a583c.pdf\n",
      "1102*, "
     ]
    },
    {
     "name": "stderr",
     "output_type": "stream",
     "text": [
      "PdfReadWarning: Xref table not zero-indexed. ID numbers for objects will be corrected. [pdf.py:1736]\n"
     ]
    },
    {
     "name": "stdout",
     "output_type": "stream",
     "text": [
      "1103*, 1104*, error: ../data/raw/eforms.alacourt.gov/forms/6e00968e6dc619f01c48f139a4abbcfa.pdf\n",
      "1105*, error: ../data/raw/eforms.alacourt.gov/forms/443aa239f3cad4b5d20ee781d9f628b2.pdf\n",
      "1106*, "
     ]
    },
    {
     "name": "stderr",
     "output_type": "stream",
     "text": [
      "PdfReadWarning: Xref table not zero-indexed. ID numbers for objects will be corrected. [pdf.py:1736]\n"
     ]
    },
    {
     "name": "stdout",
     "output_type": "stream",
     "text": [
      "Timed out!\n",
      "1107*, 1108*, 1109*, error: ../data/raw/eforms.alacourt.gov/forms/bd375b906b80566190ad5a6b5a45793d.pdf\n",
      "1110*, 1111*, error: ../data/raw/eforms.alacourt.gov/forms/bb7a92e0a0a39c83700548c4faf6e927.pdf\n",
      "1112*, 1113*, "
     ]
    },
    {
     "name": "stderr",
     "output_type": "stream",
     "text": [
      "PdfReadWarning: Xref table not zero-indexed. ID numbers for objects will be corrected. [pdf.py:1736]\n"
     ]
    },
    {
     "name": "stdout",
     "output_type": "stream",
     "text": [
      "1114*, "
     ]
    },
    {
     "name": "stderr",
     "output_type": "stream",
     "text": [
      "PdfReadWarning: Xref table not zero-indexed. ID numbers for objects will be corrected. [pdf.py:1736]\n"
     ]
    },
    {
     "name": "stdout",
     "output_type": "stream",
     "text": [
      "1115*, error: ../data/raw/eforms.alacourt.gov/forms/5d792cebc9ccab50d80df9d3161d2be3.pdf\n",
      "1116*, error: ../data/raw/eforms.alacourt.gov/forms/03d72ca961c1c07a9e218de72a414b10.pdf\n",
      "1117*, "
     ]
    },
    {
     "name": "stderr",
     "output_type": "stream",
     "text": [
      "PdfReadWarning: Xref table not zero-indexed. ID numbers for objects will be corrected. [pdf.py:1736]\n"
     ]
    },
    {
     "name": "stdout",
     "output_type": "stream",
     "text": [
      "1118*, error: ../data/raw/eforms.alacourt.gov/forms/352688b79e1a4cbbd79d70b86424f0d2.pdf\n",
      "1119*, error: ../data/raw/eforms.alacourt.gov/forms/53bb624644b321255e3ede12434908f0.pdf\n",
      "1120*, error: ../data/raw/eforms.alacourt.gov/forms/27fe962732315c2b611bbed71927fd5e.pdf\n",
      "1121*, 1122*, "
     ]
    },
    {
     "name": "stderr",
     "output_type": "stream",
     "text": [
      "PdfReadWarning: Xref table not zero-indexed. ID numbers for objects will be corrected. [pdf.py:1736]\n"
     ]
    },
    {
     "name": "stdout",
     "output_type": "stream",
     "text": [
      "1123*, error: ../data/raw/eforms.alacourt.gov/forms/376002e57836cfb2dc869754e6c0050e.pdf\n",
      "1124*, error: ../data/raw/eforms.alacourt.gov/forms/6de7933805d3c2fa3bc9b96824aea6ae.pdf\n",
      "1125*, error: ../data/raw/eforms.alacourt.gov/forms/aa76b66fe63dd6b15e55f8475facfc19.pdf\n",
      "1126*, error: ../data/raw/eforms.alacourt.gov/forms/372bbe347342803b24a48855a4e39d6f.pdf\n",
      "1127*, error: ../data/raw/eforms.alacourt.gov/forms/fcdc63da8e78a8bb6b34c40553da0f5b.pdf\n",
      "1128*, "
     ]
    },
    {
     "name": "stderr",
     "output_type": "stream",
     "text": [
      "PdfReadWarning: Xref table not zero-indexed. ID numbers for objects will be corrected. [pdf.py:1736]\n"
     ]
    },
    {
     "name": "stdout",
     "output_type": "stream",
     "text": [
      "1129*, 1130*, 1131*, "
     ]
    },
    {
     "name": "stderr",
     "output_type": "stream",
     "text": [
      "PdfReadWarning: Xref table not zero-indexed. ID numbers for objects will be corrected. [pdf.py:1736]\n"
     ]
    },
    {
     "name": "stdout",
     "output_type": "stream",
     "text": [
      "1132*, "
     ]
    },
    {
     "name": "stderr",
     "output_type": "stream",
     "text": [
      "PdfReadWarning: Xref table not zero-indexed. ID numbers for objects will be corrected. [pdf.py:1736]\n"
     ]
    },
    {
     "name": "stdout",
     "output_type": "stream",
     "text": [
      "1133*, "
     ]
    },
    {
     "name": "stderr",
     "output_type": "stream",
     "text": [
      "PdfReadWarning: Xref table not zero-indexed. ID numbers for objects will be corrected. [pdf.py:1736]\n"
     ]
    },
    {
     "name": "stdout",
     "output_type": "stream",
     "text": [
      "1134*, "
     ]
    },
    {
     "name": "stderr",
     "output_type": "stream",
     "text": [
      "PdfReadWarning: Xref table not zero-indexed. ID numbers for objects will be corrected. [pdf.py:1736]\n"
     ]
    },
    {
     "name": "stdout",
     "output_type": "stream",
     "text": [
      "1135*, error: ../data/raw/eforms.alacourt.gov/forms/e0371c6e7f5c65823e8ce237a015563d.pdf\n",
      "1136*, "
     ]
    },
    {
     "name": "stderr",
     "output_type": "stream",
     "text": [
      "PdfReadWarning: Xref table not zero-indexed. ID numbers for objects will be corrected. [pdf.py:1736]\n"
     ]
    },
    {
     "name": "stdout",
     "output_type": "stream",
     "text": [
      "1137*, error: ../data/raw/eforms.alacourt.gov/forms/5ee077c9bf7c15a394d09106b6fa4e64.pdf\n",
      "1138*, 1139*, error: ../data/raw/eforms.alacourt.gov/forms/9a85225c636d1c8f6aa361934e6917ae.pdf\n",
      "1140*, "
     ]
    },
    {
     "name": "stderr",
     "output_type": "stream",
     "text": [
      "PdfReadWarning: Xref table not zero-indexed. ID numbers for objects will be corrected. [pdf.py:1736]\n"
     ]
    },
    {
     "name": "stdout",
     "output_type": "stream",
     "text": [
      "1141*, error: ../data/raw/eforms.alacourt.gov/forms/492192be31c6e024c7d0e8f476fcad6f.pdf\n",
      "1142*, "
     ]
    },
    {
     "name": "stderr",
     "output_type": "stream",
     "text": [
      "PdfReadWarning: Xref table not zero-indexed. ID numbers for objects will be corrected. [pdf.py:1736]\n"
     ]
    },
    {
     "name": "stdout",
     "output_type": "stream",
     "text": [
      "1143*, "
     ]
    },
    {
     "name": "stderr",
     "output_type": "stream",
     "text": [
      "PdfReadWarning: Xref table not zero-indexed. ID numbers for objects will be corrected. [pdf.py:1736]\n"
     ]
    },
    {
     "name": "stdout",
     "output_type": "stream",
     "text": [
      "1144*, error: ../data/raw/eforms.alacourt.gov/forms/dfe32a0e0f6cc01f8f4a6a671a7e6cdd.pdf\n",
      "1145*, "
     ]
    },
    {
     "name": "stderr",
     "output_type": "stream",
     "text": [
      "PdfReadWarning: Xref table not zero-indexed. ID numbers for objects will be corrected. [pdf.py:1736]\n"
     ]
    },
    {
     "name": "stdout",
     "output_type": "stream",
     "text": [
      "1146*, error: ../data/raw/eforms.alacourt.gov/forms/f6db68820dbdd56ff5641779d8511114.pdf\n",
      "1147*, error: ../data/raw/eforms.alacourt.gov/forms/55164e4d60dfcbcb5da813176aa5179b.pdf\n",
      "1148*, error: ../data/raw/eforms.alacourt.gov/forms/5aaae086b9e117d1f32fb9102e125908.pdf\n",
      "1149*, error: ../data/raw/eforms.alacourt.gov/forms/80cdc6c42ad469bd554803769df7be24.pdf\n",
      "1150*, 1151*, 1152*, 1153*, 1154*, "
     ]
    },
    {
     "name": "stderr",
     "output_type": "stream",
     "text": [
      "PdfReadWarning: Xref table not zero-indexed. ID numbers for objects will be corrected. [pdf.py:1736]\n"
     ]
    },
    {
     "name": "stdout",
     "output_type": "stream",
     "text": [
      "1155*, error: ../data/raw/eforms.alacourt.gov/forms/4f2f9881f6d2704442372f5c763ef227.pdf\n",
      "1156*, 1157*, error: ../data/raw/eforms.alacourt.gov/forms/4f13f860ba189926305c83fa23c2c9f7.pdf\n",
      "1158*, error: ../data/raw/eforms.alacourt.gov/forms/d36316bfa84591942a38192844c0c1fc.pdf\n",
      "1159*, error: ../data/raw/eforms.alacourt.gov/forms/9637da1a49f6d01ace29da6be75b2c74.pdf\n",
      "1160*, error: ../data/raw/eforms.alacourt.gov/forms/9b0c32f338ab31e6be6e0209aae7bed1.pdf\n",
      "1161*, 1162*, 1163*, error: ../data/raw/eforms.alacourt.gov/forms/98bfba4c9d724c05c405fb3159802fc0.pdf\n",
      "1164*, 1165*, error: ../data/raw/eforms.alacourt.gov/forms/54ba88d95cd8a18ca9474eee9c70f421.pdf\n",
      "1166*, error: ../data/raw/eforms.alacourt.gov/forms/71c2edbeaeb899e3401ee245955f2804.pdf\n",
      "1167*, error: ../data/raw/eforms.alacourt.gov/forms/89258f3d2589fd083a2736b65ab757fe.pdf\n",
      "1168*, 1169*, error: ../data/raw/eforms.alacourt.gov/forms/fe30d50a20ea8056721f36541297b4c5.pdf\n",
      "1170*, error: ../data/raw/eforms.alacourt.gov/forms/076a7e49693f398101edb8a85b4a583c.pdf\n",
      "1171*, "
     ]
    },
    {
     "name": "stderr",
     "output_type": "stream",
     "text": [
      "PdfReadWarning: Xref table not zero-indexed. ID numbers for objects will be corrected. [pdf.py:1736]\n"
     ]
    },
    {
     "name": "stdout",
     "output_type": "stream",
     "text": [
      "1172*, error: ../data/raw/eforms.alacourt.gov/forms/6e00968e6dc619f01c48f139a4abbcfa.pdf\n",
      "1173*, 1174*, 1175*, error: ../data/raw/eforms.alacourt.gov/forms/4f13f860ba189926305c83fa23c2c9f7.pdf\n",
      "1176*, error: ../data/raw/eforms.alacourt.gov/forms/d36316bfa84591942a38192844c0c1fc.pdf\n",
      "1177*, error: ../data/raw/eforms.alacourt.gov/forms/9637da1a49f6d01ace29da6be75b2c74.pdf\n",
      "1178*, Timed out!\n",
      "1179*, 1180*, 1181*, 1182*, error: ../data/raw/eforms.alacourt.gov/forms/5d792cebc9ccab50d80df9d3161d2be3.pdf\n",
      "1183*, error: ../data/raw/eforms.alacourt.gov/forms/352688b79e1a4cbbd79d70b86424f0d2.pdf\n",
      "1184*, error: ../data/raw/eforms.alacourt.gov/forms/53bb624644b321255e3ede12434908f0.pdf\n",
      "1185*, 1186*, 1187*, "
     ]
    },
    {
     "name": "stderr",
     "output_type": "stream",
     "text": [
      "PdfReadWarning: Xref table not zero-indexed. ID numbers for objects will be corrected. [pdf.py:1736]\n"
     ]
    },
    {
     "name": "stdout",
     "output_type": "stream",
     "text": [
      "1188*, error: ../data/raw/eforms.alacourt.gov/forms/376002e57836cfb2dc869754e6c0050e.pdf\n",
      "1189*, error: ../data/raw/eforms.alacourt.gov/forms/6de7933805d3c2fa3bc9b96824aea6ae.pdf\n",
      "1190*, error: ../data/raw/eforms.alacourt.gov/forms/aa76b66fe63dd6b15e55f8475facfc19.pdf\n",
      "1191*, error: ../data/raw/eforms.alacourt.gov/forms/372bbe347342803b24a48855a4e39d6f.pdf\n",
      "1192*, error: ../data/raw/eforms.alacourt.gov/forms/fcdc63da8e78a8bb6b34c40553da0f5b.pdf\n",
      "1193*, 1194*, "
     ]
    },
    {
     "name": "stderr",
     "output_type": "stream",
     "text": [
      "PdfReadWarning: Xref table not zero-indexed. ID numbers for objects will be corrected. [pdf.py:1736]\n"
     ]
    },
    {
     "name": "stdout",
     "output_type": "stream",
     "text": [
      "1195*, 1196*, 1197*, 1198*, 1199*, 1200*, "
     ]
    },
    {
     "name": "stderr",
     "output_type": "stream",
     "text": [
      "PdfReadWarning: Xref table not zero-indexed. ID numbers for objects will be corrected. [pdf.py:1736]\n"
     ]
    },
    {
     "name": "stdout",
     "output_type": "stream",
     "text": [
      "1201*, error: ../data/raw/eforms.alacourt.gov/forms/9b0c32f338ab31e6be6e0209aae7bed1.pdf\n",
      "1202*, error: ../data/raw/eforms.alacourt.gov/forms/dfe32a0e0f6cc01f8f4a6a671a7e6cdd.pdf\n",
      "1203*, error: ../data/raw/eforms.alacourt.gov/forms/f6db68820dbdd56ff5641779d8511114.pdf\n",
      "1204*, error: ../data/raw/eforms.alacourt.gov/forms/72669106410d0b6460c6151473b13a78.pdf\n",
      "1205*, error: ../data/raw/eforms.alacourt.gov/forms/68375da7ee845f4f2e5c48ea6b9065d2.pdf\n",
      "1206*, error: ../data/raw/eforms.alacourt.gov/forms/84572a44abf87830e4064179fbc91607.pdf\n",
      "1207*, error: ../data/raw/eforms.alacourt.gov/forms/4200e76f700ceca2be4cd08906498858.pdf\n",
      "1208*, error: ../data/raw/eforms.alacourt.gov/forms/0a578100b1d4c927e729f91155c3e3fa.pdf\n",
      "1209*, error: ../data/raw/eforms.alacourt.gov/forms/42766c95e3d89bb2215bdf57a450d012.pdf\n",
      "1210*, "
     ]
    },
    {
     "name": "stderr",
     "output_type": "stream",
     "text": [
      "PdfReadWarning: Xref table not zero-indexed. ID numbers for objects will be corrected. [pdf.py:1736]\n"
     ]
    },
    {
     "name": "stdout",
     "output_type": "stream",
     "text": [
      "1211*, error: ../data/raw/eforms.alacourt.gov/forms/dea1bda4224e1d7457615d1848bd5c24.pdf\n",
      "1212*, error: ../data/raw/eforms.alacourt.gov/forms/3a88cf7fee44cf96a2437fc53f8fbfca.pdf\n",
      "1213*, error: ../data/raw/eforms.alacourt.gov/forms/75d45d84e928738c526417eebdc1b49b.pdf\n",
      "1214*, "
     ]
    },
    {
     "name": "stderr",
     "output_type": "stream",
     "text": [
      "PdfReadWarning: Xref table not zero-indexed. ID numbers for objects will be corrected. [pdf.py:1736]\n"
     ]
    },
    {
     "name": "stdout",
     "output_type": "stream",
     "text": [
      "1215*, error: ../data/raw/eforms.alacourt.gov/forms/57f7ce41c57028472c6ffef35808b1d4.pdf\n",
      "1216*, error: ../data/raw/eforms.alacourt.gov/forms/5b2825ae1ce20ad1b2c0d5082dca764c.pdf\n",
      "1217*, "
     ]
    },
    {
     "name": "stderr",
     "output_type": "stream",
     "text": [
      "PdfReadWarning: Xref table not zero-indexed. ID numbers for objects will be corrected. [pdf.py:1736]\n"
     ]
    },
    {
     "name": "stdout",
     "output_type": "stream",
     "text": [
      "1218*, error: ../data/raw/eforms.alacourt.gov/forms/b925867246148f397f6b86bfa2cf852f.pdf\n",
      "1219*, error: ../data/raw/eforms.alacourt.gov/forms/16b82541e7e3b5ea4d84eaa5295e4a6e.pdf\n",
      "1220*, "
     ]
    },
    {
     "name": "stderr",
     "output_type": "stream",
     "text": [
      "PdfReadWarning: Xref table not zero-indexed. ID numbers for objects will be corrected. [pdf.py:1736]\n"
     ]
    },
    {
     "name": "stdout",
     "output_type": "stream",
     "text": [
      "1221*, error: ../data/raw/eforms.alacourt.gov/forms/d684003c45da2802b46d4135058ff1ba.pdf\n",
      "1222*, error: ../data/raw/eforms.alacourt.gov/forms/c57f201891f2fc81ebdd8a01f28bab6b.pdf\n",
      "1223*, error: ../data/raw/eforms.alacourt.gov/forms/aa8dc3cd3cb2cd26a1024d34bc99a2f9.pdf\n",
      "1224*, "
     ]
    },
    {
     "name": "stderr",
     "output_type": "stream",
     "text": [
      "PdfReadWarning: Xref table not zero-indexed. ID numbers for objects will be corrected. [pdf.py:1736]\n"
     ]
    },
    {
     "name": "stdout",
     "output_type": "stream",
     "text": [
      "1225*, error: ../data/raw/eforms.alacourt.gov/forms/4b81a9dd91efbf8fabd7723003f644ac.pdf\n",
      "1226*, error: ../data/raw/eforms.alacourt.gov/forms/10231b14ae506784f885ecade70b1513.pdf\n",
      "1227*, "
     ]
    },
    {
     "name": "stderr",
     "output_type": "stream",
     "text": [
      "PdfReadWarning: Xref table not zero-indexed. ID numbers for objects will be corrected. [pdf.py:1736]\n"
     ]
    },
    {
     "name": "stdout",
     "output_type": "stream",
     "text": [
      "1228*, "
     ]
    },
    {
     "name": "stderr",
     "output_type": "stream",
     "text": [
      "PdfReadWarning: Xref table not zero-indexed. ID numbers for objects will be corrected. [pdf.py:1736]\n"
     ]
    },
    {
     "name": "stdout",
     "output_type": "stream",
     "text": [
      "1229*, error: ../data/raw/eforms.alacourt.gov/forms/3be2bbecec85b8c8c0c2e40f488fe70f.pdf\n",
      "1230*, error: ../data/raw/eforms.alacourt.gov/forms/1ad9c73a50a12a85d00e6119a8d409a3.pdf\n",
      "1231*, "
     ]
    },
    {
     "name": "stderr",
     "output_type": "stream",
     "text": [
      "PdfReadWarning: Xref table not zero-indexed. ID numbers for objects will be corrected. [pdf.py:1736]\n"
     ]
    },
    {
     "name": "stdout",
     "output_type": "stream",
     "text": [
      "1232*, "
     ]
    },
    {
     "name": "stderr",
     "output_type": "stream",
     "text": [
      "PdfReadWarning: Xref table not zero-indexed. ID numbers for objects will be corrected. [pdf.py:1736]\n"
     ]
    },
    {
     "name": "stdout",
     "output_type": "stream",
     "text": [
      "1233*, error: ../data/raw/eforms.alacourt.gov/forms/75de69b61e1f60608faa3b0af6a6923c.pdf\n",
      "1234*, error: ../data/raw/eforms.alacourt.gov/forms/466d1e8450b1bc9bf0b7fbe30d02a49d.pdf\n",
      "1235*, "
     ]
    },
    {
     "name": "stderr",
     "output_type": "stream",
     "text": [
      "PdfReadWarning: Xref table not zero-indexed. ID numbers for objects will be corrected. [pdf.py:1736]\n"
     ]
    },
    {
     "name": "stdout",
     "output_type": "stream",
     "text": [
      "1236*, "
     ]
    },
    {
     "name": "stderr",
     "output_type": "stream",
     "text": [
      "PdfReadWarning: Xref table not zero-indexed. ID numbers for objects will be corrected. [pdf.py:1736]\n"
     ]
    },
    {
     "name": "stdout",
     "output_type": "stream",
     "text": [
      "1237*, 1238*, error: ../data/raw/eforms.alacourt.gov/forms/f2437e6ad10bef05dff593f988c7c154.pdf\n",
      "1239*, "
     ]
    },
    {
     "name": "stderr",
     "output_type": "stream",
     "text": [
      "PdfReadWarning: Xref table not zero-indexed. ID numbers for objects will be corrected. [pdf.py:1736]\n"
     ]
    },
    {
     "name": "stdout",
     "output_type": "stream",
     "text": [
      "1240*, "
     ]
    },
    {
     "name": "stderr",
     "output_type": "stream",
     "text": [
      "PdfReadWarning: Xref table not zero-indexed. ID numbers for objects will be corrected. [pdf.py:1736]\n"
     ]
    },
    {
     "name": "stdout",
     "output_type": "stream",
     "text": [
      "1241*, "
     ]
    },
    {
     "name": "stderr",
     "output_type": "stream",
     "text": [
      "PdfReadWarning: Xref table not zero-indexed. ID numbers for objects will be corrected. [pdf.py:1736]\n"
     ]
    },
    {
     "name": "stdout",
     "output_type": "stream",
     "text": [
      "1242*, error: ../data/raw/eforms.alacourt.gov/forms/809ba87fde1c1c39eb560a0a9470c05c.pdf\n",
      "1243*, "
     ]
    },
    {
     "name": "stderr",
     "output_type": "stream",
     "text": [
      "PdfReadWarning: Xref table not zero-indexed. ID numbers for objects will be corrected. [pdf.py:1736]\n"
     ]
    },
    {
     "name": "stdout",
     "output_type": "stream",
     "text": [
      "1244*, error: ../data/raw/eforms.alacourt.gov/forms/a19246c3907e4f3203bd5646079d5478.pdf\n",
      "1245*, error: ../data/raw/eforms.alacourt.gov/forms/b1bffc2a1be2c79ce64eb6beed0025a1.pdf\n",
      "1246*, "
     ]
    },
    {
     "name": "stderr",
     "output_type": "stream",
     "text": [
      "PdfReadWarning: Xref table not zero-indexed. ID numbers for objects will be corrected. [pdf.py:1736]\n"
     ]
    },
    {
     "name": "stdout",
     "output_type": "stream",
     "text": [
      "1247*, error: ../data/raw/eforms.alacourt.gov/forms/508bb55ac00cebe6e51be2a8b5194d4a.pdf\n",
      "1248*, "
     ]
    },
    {
     "name": "stderr",
     "output_type": "stream",
     "text": [
      "PdfReadWarning: Xref table not zero-indexed. ID numbers for objects will be corrected. [pdf.py:1736]\n"
     ]
    },
    {
     "name": "stdout",
     "output_type": "stream",
     "text": [
      "1249*, error: ../data/raw/eforms.alacourt.gov/forms/6691aab83985b26ff52ee5777868f29b.pdf\n",
      "1250*, error: ../data/raw/eforms.alacourt.gov/forms/55050febb6b9f3bd762cd0938929b6b2.pdf\n",
      "1251*, error: ../data/raw/eforms.alacourt.gov/forms/80dadc6894a957961d03e088bc7a6c94.pdf\n",
      "1252*, "
     ]
    },
    {
     "name": "stderr",
     "output_type": "stream",
     "text": [
      "PdfReadWarning: Xref table not zero-indexed. ID numbers for objects will be corrected. [pdf.py:1736]\n"
     ]
    },
    {
     "name": "stdout",
     "output_type": "stream",
     "text": [
      "1253*, error: ../data/raw/eforms.alacourt.gov/forms/f1693b6272f206d307134456e9c4161f.pdf\n",
      "1254*, error: ../data/raw/eforms.alacourt.gov/forms/251c1385df90583735f152a89cb588b7.pdf\n",
      "1255*, 1256*, error: ../data/raw/eforms.alacourt.gov/forms/3a239aaefc43cb2cd2a2dc589d2d81fd.pdf\n",
      "1257*, "
     ]
    },
    {
     "name": "stderr",
     "output_type": "stream",
     "text": [
      "PdfReadWarning: Xref table not zero-indexed. ID numbers for objects will be corrected. [pdf.py:1736]\n"
     ]
    },
    {
     "name": "stdout",
     "output_type": "stream",
     "text": [
      "1258*, "
     ]
    },
    {
     "name": "stderr",
     "output_type": "stream",
     "text": [
      "PdfReadWarning: Xref table not zero-indexed. ID numbers for objects will be corrected. [pdf.py:1736]\n"
     ]
    },
    {
     "name": "stdout",
     "output_type": "stream",
     "text": [
      "1259*, error: ../data/raw/eforms.alacourt.gov/forms/7a31847553e6919b1d2a681ee1d5ac4a.pdf\n",
      "1260*, error: ../data/raw/eforms.alacourt.gov/forms/1cdfc17f535009a2a8c31d0df532f45e.pdf\n",
      "1261*, "
     ]
    },
    {
     "name": "stderr",
     "output_type": "stream",
     "text": [
      "PdfReadWarning: Xref table not zero-indexed. ID numbers for objects will be corrected. [pdf.py:1736]\n"
     ]
    },
    {
     "name": "stdout",
     "output_type": "stream",
     "text": [
      "1262*, error: ../data/raw/eforms.alacourt.gov/forms/9cfb24360914647f76a5a2960d25aa78.pdf\n",
      "1263*, "
     ]
    },
    {
     "name": "stderr",
     "output_type": "stream",
     "text": [
      "PdfReadWarning: Xref table not zero-indexed. ID numbers for objects will be corrected. [pdf.py:1736]\n"
     ]
    },
    {
     "name": "stdout",
     "output_type": "stream",
     "text": [
      "1264*, "
     ]
    },
    {
     "name": "stderr",
     "output_type": "stream",
     "text": [
      "PdfReadWarning: Xref table not zero-indexed. ID numbers for objects will be corrected. [pdf.py:1736]\n"
     ]
    },
    {
     "name": "stdout",
     "output_type": "stream",
     "text": [
      "1265*, "
     ]
    },
    {
     "name": "stderr",
     "output_type": "stream",
     "text": [
      "PdfReadWarning: Xref table not zero-indexed. ID numbers for objects will be corrected. [pdf.py:1736]\n"
     ]
    },
    {
     "name": "stdout",
     "output_type": "stream",
     "text": [
      "1266*, error: ../data/raw/eforms.alacourt.gov/forms/72c1396d6dbd26fd36f3a7137b1c003f.pdf\n",
      "1267*, error: ../data/raw/eforms.alacourt.gov/forms/0d065b03019fae823df91d798339247a.pdf\n",
      "1268*, error: ../data/raw/eforms.alacourt.gov/forms/0445eadd63ea6f60c0543729e6b7ccc8.pdf\n",
      "1269*, error: ../data/raw/eforms.alacourt.gov/forms/f33f7aa0d83c1da238e385d52749cd34.pdf\n",
      "1270*, 1271*, 1272*, error: ../data/raw/eforms.alacourt.gov/forms/d99f46edf3739b6268b6ea75f5af49e9.pdf\n",
      "1273*, error: ../data/raw/eforms.alacourt.gov/forms/faeae5c33bada13921c5b4982109afad.pdf\n",
      "1274*, 1275*, 1276*, 1277*, 1278*, 1279*, 1280*, error: ../data/raw/eforms.alacourt.gov/forms/425396ea6678c9041b4b872f9381f6d7.pdf\n",
      "1281*, 1282*, error: ../data/raw/eforms.alacourt.gov/forms/659870d73b0b5cdb1a85926328cf03d9.pdf\n",
      "1283*, error: ../data/raw/eforms.alacourt.gov/forms/e7f50b18fc93456638dcfe7619cdeec4.pdf\n",
      "1284*, 1285*, 1286*, error: ../data/raw/eforms.alacourt.gov/forms/6a33dec8cf6aaca3f328ce0e97e8cb22.pdf\n",
      "1287*, error: ../data/raw/eforms.alacourt.gov/forms/6e3fd44e20258b2846b35e1395c09b13.pdf\n",
      "1288*, error: ../data/raw/eforms.alacourt.gov/forms/800f6b1725170621f13ef6a0e2f93644.pdf\n",
      "1289*, error: ../data/raw/eforms.alacourt.gov/forms/268a762cd19bf0e182efd044b40f5625.pdf\n",
      "1290*, 1291*, error: ../data/raw/eforms.alacourt.gov/forms/47617c3a0c1ba1eb5e49abeb0aa00a14.pdf\n",
      "1292*, 1293*, error: ../data/raw/eforms.alacourt.gov/forms/3a1f2ff3a028bc2633bc889c9c2228e8.pdf\n",
      "1294*, error: ../data/raw/eforms.alacourt.gov/forms/56179276b0f655d0f41d0835c7488060.pdf\n",
      "1295*, error: ../data/raw/eforms.alacourt.gov/forms/ad5023682a58a430f383d5b11d1693dc.pdf\n",
      "1296*, error: ../data/raw/eforms.alacourt.gov/forms/1cf1166c1d839e2b961e6d9504a011f5.pdf\n",
      "1297*, 1298*, "
     ]
    },
    {
     "name": "stderr",
     "output_type": "stream",
     "text": [
      "PdfReadWarning: Xref table not zero-indexed. ID numbers for objects will be corrected. [pdf.py:1736]\n"
     ]
    },
    {
     "name": "stdout",
     "output_type": "stream",
     "text": [
      "1299*, error: ../data/raw/eforms.alacourt.gov/forms/3ff9ce037d89f9be45d282ba1ab739e8.pdf\n",
      "1300*, 1301*, "
     ]
    },
    {
     "name": "stderr",
     "output_type": "stream",
     "text": [
      "PdfReadWarning: Xref table not zero-indexed. ID numbers for objects will be corrected. [pdf.py:1736]\n"
     ]
    },
    {
     "name": "stdout",
     "output_type": "stream",
     "text": [
      "1302*, error: ../data/raw/eforms.alacourt.gov/forms/35afc4d8b47f77bad315e449644e5ac3.pdf\n",
      "1303*, error: ../data/raw/eforms.alacourt.gov/forms/fbbae6256b1ea5c81b08b74137d1bd9b.pdf\n",
      "1304*, error: ../data/raw/eforms.alacourt.gov/forms/f55b9639125e0eb48908758f4d30978e.pdf\n",
      "1305*, error: ../data/raw/eforms.alacourt.gov/forms/d27e4fa912dccef026eee22859e6395d.pdf\n",
      "1306*, error: ../data/raw/eforms.alacourt.gov/forms/c0b2d0822f9c430ae9462e07ded60648.pdf\n",
      "1307*, 1308*, "
     ]
    },
    {
     "name": "stderr",
     "output_type": "stream",
     "text": [
      "PdfReadWarning: Xref table not zero-indexed. ID numbers for objects will be corrected. [pdf.py:1736]\n"
     ]
    },
    {
     "name": "stdout",
     "output_type": "stream",
     "text": [
      "1309*, error: ../data/raw/eforms.alacourt.gov/forms/6b2bfcaa0a0e3060956d6a8e56d8c10e.pdf\n",
      "1310*, error: ../data/raw/eforms.alacourt.gov/forms/d27757243cc0bf7988ac3bec5b4381cc.pdf\n",
      "1311*, error: ../data/raw/eforms.alacourt.gov/forms/6c87eeca08c8f07cad826974fad89a62.pdf\n",
      "1312*, error: ../data/raw/eforms.alacourt.gov/forms/c4288f70b9a5df1465ff04749dbf17d5.pdf\n",
      "1313*, 1314*, error: ../data/raw/eforms.alacourt.gov/forms/5bed2402303e764a221eead94e2378b0.pdf\n",
      "1315*, "
     ]
    },
    {
     "name": "stderr",
     "output_type": "stream",
     "text": [
      "PdfReadWarning: Xref table not zero-indexed. ID numbers for objects will be corrected. [pdf.py:1736]\n"
     ]
    },
    {
     "name": "stdout",
     "output_type": "stream",
     "text": [
      "1316*, 1317*, error: ../data/raw/eforms.alacourt.gov/forms/890551701b9b9bfac5411c79871a00b7.pdf\n",
      "1318*, 1319*, "
     ]
    },
    {
     "name": "stderr",
     "output_type": "stream",
     "text": [
      "PdfReadWarning: Xref table not zero-indexed. ID numbers for objects will be corrected. [pdf.py:1736]\n"
     ]
    },
    {
     "name": "stdout",
     "output_type": "stream",
     "text": [
      "1320*, error: ../data/raw/eforms.alacourt.gov/forms/e314a9686e3d23ed5ef924525cd40174.pdf\n",
      "1321*, error: ../data/raw/eforms.alacourt.gov/forms/8e17a9b6c52e52673f8612b8625548ff.pdf\n",
      "1322*, error: ../data/raw/eforms.alacourt.gov/forms/26c429e808f35f99513bf4093ce671ae.pdf\n",
      "1323*, 1324*, error: ../data/raw/eforms.alacourt.gov/forms/ed8bb661a6f534218ee72f3d4e6a2eed.pdf\n",
      "1325*, error: ../data/raw/eforms.alacourt.gov/forms/4816fd5e8c59cb21a10d2049c922aabf.pdf\n",
      "1326*, error: ../data/raw/eforms.alacourt.gov/forms/6e938013779f3bd852b457a57b038f8e.pdf\n",
      "1327*, "
     ]
    },
    {
     "name": "stderr",
     "output_type": "stream",
     "text": [
      "PdfReadWarning: Xref table not zero-indexed. ID numbers for objects will be corrected. [pdf.py:1736]\n"
     ]
    },
    {
     "name": "stdout",
     "output_type": "stream",
     "text": [
      "1328*, error: ../data/raw/eforms.alacourt.gov/forms/c2011bd8fc861c01813db16084fbeda8.pdf\n",
      "1329*, error: ../data/raw/eforms.alacourt.gov/forms/9f77ca32b9ec6f461ebf4cda996fc74c.pdf\n",
      "1330*, 1331*, error: ../data/raw/eforms.alacourt.gov/forms/2fa56a4652718837c29048299545e066.pdf\n",
      "1332*, 1333*, 1334*, 1335*, 1336*, error: ../data/raw/eforms.alacourt.gov/forms/016044cc8f07c9c99229e03855cf57d3.pdf\n",
      "1337*, error: ../data/raw/eforms.alacourt.gov/forms/981aad1a3b42dbcb78bf42251988b052.pdf\n",
      "1338*, error: ../data/raw/eforms.alacourt.gov/forms/085a88376e1667675d0e1bd1759f7d5d.pdf\n",
      "1339*, 1340*, error: ../data/raw/eforms.alacourt.gov/forms/1106365190dd1e21765ca2284038fbfa.pdf\n",
      "1341*, error: ../data/raw/eforms.alacourt.gov/forms/8ef55ab2116deef8d8d43d9b1568ddd8.pdf\n",
      "1342*, error: ../data/raw/eforms.alacourt.gov/forms/f3f49f18ce72b87c6efc3d51acdb8f72.pdf\n",
      "1343*, error: ../data/raw/eforms.alacourt.gov/forms/23e886b8b032c59fe68ed6995813509c.pdf\n",
      "1344*, 1345*, 1346*, error: ../data/raw/eforms.alacourt.gov/forms/8c01ef8cd064437d2bf7503463dfd44c.pdf\n",
      "1347*, 1348*, error: ../data/raw/eforms.alacourt.gov/forms/d80de7fbe690a9ecb95e03b3556a3218.pdf\n",
      "1349*, 1350*, 1351*, "
     ]
    },
    {
     "name": "stderr",
     "output_type": "stream",
     "text": [
      "PdfReadWarning: Xref table not zero-indexed. ID numbers for objects will be corrected. [pdf.py:1736]\n"
     ]
    },
    {
     "name": "stdout",
     "output_type": "stream",
     "text": [
      "1352*, error: ../data/raw/eforms.alacourt.gov/forms/c2c17e4b5402f5a0e848c4eb4eca8cde.pdf\n",
      "1353*, error: ../data/raw/eforms.alacourt.gov/forms/feb58d1786d6d60c6cad893917007eac.pdf\n",
      "1354*, error: ../data/raw/eforms.alacourt.gov/forms/22ef10d1c798272fd33308f1d32e1fa1.pdf\n",
      "1355*, 1356*, 1357*, error: ../data/raw/eforms.alacourt.gov/forms/bf59839e97a8bed5797f759abcec28b7.pdf\n",
      "1358*, 1359*, error: ../data/raw/eforms.alacourt.gov/forms/bf797249caad0ae19fbd391d65b05f46.pdf\n",
      "1360*, "
     ]
    },
    {
     "name": "stderr",
     "output_type": "stream",
     "text": [
      "PdfReadWarning: Xref table not zero-indexed. ID numbers for objects will be corrected. [pdf.py:1736]\n"
     ]
    },
    {
     "name": "stdout",
     "output_type": "stream",
     "text": [
      "1361*, error: ../data/raw/eforms.alacourt.gov/forms/e4bac3b16634f7ce93e08b0117303431.pdf\n",
      "1362*, error: ../data/raw/eforms.alacourt.gov/forms/d44623d8fe8c541df297582575c34410.pdf\n",
      "1363*, 1364*, error: ../data/raw/eforms.alacourt.gov/forms/f2271697547ebf379d84c74fbfc1c77c.pdf\n",
      "1365*, "
     ]
    },
    {
     "name": "stderr",
     "output_type": "stream",
     "text": [
      "PdfReadWarning: Xref table not zero-indexed. ID numbers for objects will be corrected. [pdf.py:1736]\n"
     ]
    },
    {
     "name": "stdout",
     "output_type": "stream",
     "text": [
      "1366*, "
     ]
    },
    {
     "name": "stderr",
     "output_type": "stream",
     "text": [
      "PdfReadWarning: Xref table not zero-indexed. ID numbers for objects will be corrected. [pdf.py:1736]\n"
     ]
    },
    {
     "name": "stdout",
     "output_type": "stream",
     "text": [
      "1367*, error: ../data/raw/eforms.alacourt.gov/forms/b6ca9d1077ea904d55980cf8eccbd7de.pdf\n",
      "1368*, error: ../data/raw/eforms.alacourt.gov/forms/69d89eb09d45b875136cb749caccaed0.pdf\n",
      "1369*, error: ../data/raw/eforms.alacourt.gov/forms/3466881da535926ede23121be62447c5.pdf\n",
      "1370*, 1371*, "
     ]
    },
    {
     "name": "stderr",
     "output_type": "stream",
     "text": [
      "PdfReadWarning: Xref table not zero-indexed. ID numbers for objects will be corrected. [pdf.py:1736]\n"
     ]
    },
    {
     "name": "stdout",
     "output_type": "stream",
     "text": [
      "1372*, error: ../data/raw/eforms.alacourt.gov/forms/05e673e1df67f81d5cf6d52e88ca0bb8.pdf\n",
      "1373*, error: ../data/raw/eforms.alacourt.gov/forms/b5618e113a3cea964991c069f7676f5c.pdf\n",
      "1374*, 1375*, error: ../data/raw/eforms.alacourt.gov/forms/54678107cb3327fe19a446c13e40d0fb.pdf\n",
      "1376*, 1377*, error: ../data/raw/eforms.alacourt.gov/forms/43f83d0fcbd344d7a07f651228f06784.pdf\n",
      "1378*, error: ../data/raw/eforms.alacourt.gov/forms/083799b8a2d7cd46407d730433c1480d.pdf\n",
      "1379*, "
     ]
    },
    {
     "name": "stderr",
     "output_type": "stream",
     "text": [
      "PdfReadWarning: Xref table not zero-indexed. ID numbers for objects will be corrected. [pdf.py:1736]\n"
     ]
    },
    {
     "name": "stdout",
     "output_type": "stream",
     "text": [
      "1380*, error: ../data/raw/eforms.alacourt.gov/forms/344ee764376d0023f48bc810082a650d.pdf\n",
      "1381*, error: ../data/raw/eforms.alacourt.gov/forms/65b70e4b3342082e11125d54de74ec44.pdf\n",
      "1382*, error: ../data/raw/eforms.alacourt.gov/forms/4191e2bcb4656254b12ba5cda7bfa31c.pdf\n",
      "1383*, error: ../data/raw/eforms.alacourt.gov/forms/7acd894687a424dd2d866dad74c4b799.pdf\n",
      "1384*, error: ../data/raw/eforms.alacourt.gov/forms/15d080ae219cc46af4ebaa0833592323.pdf\n",
      "1385*, error: ../data/raw/eforms.alacourt.gov/forms/4833ca9bede2557f9b56982d52e6cb96.pdf\n",
      "1386*, error: ../data/raw/eforms.alacourt.gov/forms/469c0a33973c1d9fc6b12c796c0a9667.pdf\n",
      "1387*, error: ../data/raw/eforms.alacourt.gov/forms/b6fdbff2fa72c9be7904b7962828fd8c.pdf\n",
      "1388*, error: ../data/raw/eforms.alacourt.gov/forms/1403fd8200ce3d818564dc544e8486f2.pdf\n",
      "1389*, error: ../data/raw/eforms.alacourt.gov/forms/7f5b9b95e36de06fceee7dde7151ac30.pdf\n",
      "1390*, 1391*, error: ../data/raw/eforms.alacourt.gov/forms/0795bd1041d287754da886e889b8476a.pdf\n",
      "1392*, "
     ]
    },
    {
     "name": "stderr",
     "output_type": "stream",
     "text": [
      "PdfReadWarning: Xref table not zero-indexed. ID numbers for objects will be corrected. [pdf.py:1736]\n"
     ]
    },
    {
     "name": "stdout",
     "output_type": "stream",
     "text": [
      "1393*, 1394*, "
     ]
    },
    {
     "name": "stderr",
     "output_type": "stream",
     "text": [
      "PdfReadWarning: Xref table not zero-indexed. ID numbers for objects will be corrected. [pdf.py:1736]\n"
     ]
    },
    {
     "name": "stdout",
     "output_type": "stream",
     "text": [
      "1395*, error: ../data/raw/eforms.alacourt.gov/forms/028afeedc982ec35e66ad44e36756c32.pdf\n",
      "1396*, "
     ]
    },
    {
     "name": "stderr",
     "output_type": "stream",
     "text": [
      "PdfReadWarning: Xref table not zero-indexed. ID numbers for objects will be corrected. [pdf.py:1736]\n"
     ]
    },
    {
     "name": "stdout",
     "output_type": "stream",
     "text": [
      "1397*, error: ../data/raw/eforms.alacourt.gov/forms/99e8ef204b9ffee2dff45c9d6ef9aadb.pdf\n",
      "1398*, 1399*, "
     ]
    },
    {
     "name": "stderr",
     "output_type": "stream",
     "text": [
      "PdfReadWarning: Xref table not zero-indexed. ID numbers for objects will be corrected. [pdf.py:1736]\n"
     ]
    },
    {
     "name": "stdout",
     "output_type": "stream",
     "text": [
      "1400*, error: ../data/raw/eforms.alacourt.gov/forms/0f39de1f3e9578f7f98a81e83d3cf14e.pdf\n",
      "1401*, error: ../data/raw/eforms.alacourt.gov/forms/99a3a43c464230b5933929e5fca273e8.pdf\n",
      "1402*, 1403*, error: ../data/raw/eforms.alacourt.gov/forms/bb4bdb38b2d74b2a5e7f02056b9df53a.pdf\n",
      "1404*, error: ../data/raw/eforms.alacourt.gov/forms/09d5ed7cd52f9fbd5aa1f9c7e27e3c7f.pdf\n",
      "1405*, error: ../data/raw/eforms.alacourt.gov/forms/01bac6df9b06ef6d36e17819ab802508.pdf\n",
      "1406*, error: ../data/raw/eforms.alacourt.gov/forms/246bbb717fdd707e024d7840acf08d6c.pdf\n",
      "1407*, error: ../data/raw/eforms.alacourt.gov/forms/b057d1a1ecef52699752bd60840b01ba.pdf\n",
      "1408*, error: ../data/raw/eforms.alacourt.gov/forms/a6224f612129f72ea6a8da3657c2f656.pdf\n",
      "1409*, error: ../data/raw/eforms.alacourt.gov/forms/f89d196952c44a2eac8050ce47f43e24.pdf\n",
      "1410*, 1411*, error: ../data/raw/eforms.alacourt.gov/forms/3630a32b248fb2c19ef47a438d3745a7.pdf\n",
      "1412*, error: ../data/raw/eforms.alacourt.gov/forms/95130e7275c390818a6a2d9314f21ee7.pdf\n",
      "1413*, error: ../data/raw/eforms.alacourt.gov/forms/1556363a16d6b0541fcb563ac701d505.pdf\n",
      "1414*, error: ../data/raw/eforms.alacourt.gov/forms/d5af84de650d54461d05e86e648841da.pdf\n",
      "1415*, error: ../data/raw/eforms.alacourt.gov/forms/eb95138bc9fe8517b1de2ea659515ed4.pdf\n",
      "1416*, error: ../data/raw/eforms.alacourt.gov/forms/e92a6ceaca022abaedfd35846b2d1500.pdf\n",
      "1417*, error: ../data/raw/eforms.alacourt.gov/forms/bea26bcab378cbd47f2e340312d9a051.pdf\n",
      "1418*, error: ../data/raw/eforms.alacourt.gov/forms/d36dc29857a8d399ba3dc5857aa1a391.pdf\n",
      "1419*, error: ../data/raw/eforms.alacourt.gov/forms/7da71e3bbd340c00ceba2983fffce278.pdf\n",
      "1420*, error: ../data/raw/eforms.alacourt.gov/forms/098311f00fa811c7873544f1bcf8669c.pdf\n",
      "1421*, error: ../data/raw/eforms.alacourt.gov/forms/a08eab8237a4f587adda625c7847bf06.pdf\n",
      "1422*, "
     ]
    },
    {
     "name": "stderr",
     "output_type": "stream",
     "text": [
      "PdfReadWarning: Xref table not zero-indexed. ID numbers for objects will be corrected. [pdf.py:1736]\n"
     ]
    },
    {
     "name": "stdout",
     "output_type": "stream",
     "text": [
      "1423*, error: ../data/raw/eforms.alacourt.gov/forms/47d4197c759ebabac0fea5b24ede3010.pdf\n",
      "1424*, error: ../data/raw/eforms.alacourt.gov/forms/f36ee43ced7d447c67544ea1a1f9edd9.pdf\n",
      "1425*, error: ../data/raw/eforms.alacourt.gov/forms/ed14cd71bd38c02d18e2720f22b15fe1.pdf\n",
      "1426*, error: ../data/raw/eforms.alacourt.gov/forms/4afad298b0bbac15ec037dbd6a99fd0e.pdf\n",
      "1427*, 1428*, error: ../data/raw/eforms.alacourt.gov/forms/7cffc01fc94a39d6a285934cd39c6ee5.pdf\n",
      "1429*, 1430*, 1431*, error: ../data/raw/eforms.alacourt.gov/forms/6065803d18b60b8dadf19f0f6e0ff92d.pdf\n",
      "1432*, error: ../data/raw/eforms.alacourt.gov/forms/6cd0cc9fb6e412bd281bc4a7de6da156.pdf\n",
      "1433*, error: ../data/raw/eforms.alacourt.gov/forms/ed86a6398df18c3b37329c54a62eb835.pdf\n",
      "1434*, error: ../data/raw/eforms.alacourt.gov/forms/27e5dc4c2382c8f8ae75443c631d3fa0.pdf\n",
      "1435*, error: ../data/raw/eforms.alacourt.gov/forms/0ee2c297fb35f59182dd7d3fce2b795d.pdf\n",
      "1436*, 1437*, error: ../data/raw/eforms.alacourt.gov/forms/c3db9b2ad12834ce2e881707cfac2f2f.pdf\n",
      "1438*, error: ../data/raw/eforms.alacourt.gov/forms/41e59c2a5d6a98b0e3266a21e34512b2.pdf\n",
      "1439*, "
     ]
    },
    {
     "name": "stderr",
     "output_type": "stream",
     "text": [
      "PdfReadWarning: Xref table not zero-indexed. ID numbers for objects will be corrected. [pdf.py:1736]\n"
     ]
    },
    {
     "name": "stdout",
     "output_type": "stream",
     "text": [
      "1440*, error: ../data/raw/eforms.alacourt.gov/forms/39f55a458f88d0140c55c8e762eaa6e0.pdf\n",
      "1441*, "
     ]
    },
    {
     "name": "stderr",
     "output_type": "stream",
     "text": [
      "PdfReadWarning: Xref table not zero-indexed. ID numbers for objects will be corrected. [pdf.py:1736]\n"
     ]
    },
    {
     "name": "stdout",
     "output_type": "stream",
     "text": [
      "1442*, error: ../data/raw/eforms.alacourt.gov/forms/61f9a385d056149b6f8a4e332d08afc2.pdf\n",
      "1443*, error: ../data/raw/eforms.alacourt.gov/forms/e5eecd62b6f69d257facf54cd2395103.pdf\n",
      "1444*, error: ../data/raw/eforms.alacourt.gov/forms/f36ac690bf3cdb9211387734966ccefe.pdf\n",
      "1445*, error: ../data/raw/eforms.alacourt.gov/forms/f88d7fc35e710711c680fe6119ba1cd5.pdf\n",
      "1446*, "
     ]
    },
    {
     "name": "stderr",
     "output_type": "stream",
     "text": [
      "PdfReadWarning: Xref table not zero-indexed. ID numbers for objects will be corrected. [pdf.py:1736]\n"
     ]
    },
    {
     "name": "stdout",
     "output_type": "stream",
     "text": [
      "1447*, 1448*, error: ../data/raw/eforms.alacourt.gov/forms/e06467cef935869332017cd31e542c51.pdf\n",
      "1449*, 1450*, error: ../data/raw/eforms.alacourt.gov/forms/542d60eb7fc1cd1607c4dc5d70a76a05.pdf\n",
      "1451*, error: ../data/raw/eforms.alacourt.gov/forms/f28fd39caab3e2e8cd6cd854b654463b.pdf\n",
      "1452*, "
     ]
    },
    {
     "name": "stderr",
     "output_type": "stream",
     "text": [
      "PdfReadWarning: Xref table not zero-indexed. ID numbers for objects will be corrected. [pdf.py:1736]\n"
     ]
    },
    {
     "name": "stdout",
     "output_type": "stream",
     "text": [
      "1453*, error: ../data/raw/eforms.alacourt.gov/forms/a5a4934c4f2832d8d1db2a8a054a1b17.pdf\n",
      "1454*, error: ../data/raw/eforms.alacourt.gov/forms/e48e7fbcc8de75e5b8afba7cb1b55a0e.pdf\n",
      "1455*, error: ../data/raw/eforms.alacourt.gov/forms/02ba010af39e5769bf4cd384bc4dec95.pdf\n",
      "1456*, error: ../data/raw/eforms.alacourt.gov/forms/90139c5ff396f85b6ea9396c260fa8a8.pdf\n",
      "1457*, error: ../data/raw/eforms.alacourt.gov/forms/01bba3b3777507c54cf07c8f23225313.pdf\n",
      "1458*, error: ../data/raw/eforms.alacourt.gov/forms/278c9dc8b994844c8000a4558187e459.pdf\n",
      "1459*, error: ../data/raw/eforms.alacourt.gov/forms/e75cee4cc78efbe37431a4a3769e5897.pdf\n",
      "1460*, 1461*, error: ../data/raw/eforms.alacourt.gov/forms/f7df24cb1ae9dd355a26754738020693.pdf\n",
      "1462*, error: ../data/raw/eforms.alacourt.gov/forms/f16942eedf4da1cf54a128743459d43e.pdf\n",
      "1463*, 1464*, 1465*, error: ../data/raw/eforms.alacourt.gov/forms/a549fa0f8687a401b7061a903b457d10.pdf\n",
      "1466*, error: ../data/raw/eforms.alacourt.gov/forms/c073652d5a8f65cf02174fc9321f67ae.pdf\n",
      "1467*, error: ../data/raw/eforms.alacourt.gov/forms/3798b5d962ce19fe32e65fb15771e738.pdf\n",
      "1468*, error: ../data/raw/eforms.alacourt.gov/forms/b1e051936544e8d3d7c1bf1782833baf.pdf\n",
      "1469*, "
     ]
    },
    {
     "name": "stderr",
     "output_type": "stream",
     "text": [
      "PdfReadWarning: Xref table not zero-indexed. ID numbers for objects will be corrected. [pdf.py:1736]\n"
     ]
    },
    {
     "name": "stdout",
     "output_type": "stream",
     "text": [
      "1470*, error: ../data/raw/eforms.alacourt.gov/forms/8b09a6c23af7a878e783a72a007fe94c.pdf\n",
      "1471*, "
     ]
    },
    {
     "name": "stderr",
     "output_type": "stream",
     "text": [
      "PdfReadWarning: Xref table not zero-indexed. ID numbers for objects will be corrected. [pdf.py:1736]\n"
     ]
    },
    {
     "name": "stdout",
     "output_type": "stream",
     "text": [
      "1472*, error: ../data/raw/eforms.alacourt.gov/forms/4ad6f70b7b72a2a88c1d35113fd7b916.pdf\n",
      "1473*, "
     ]
    },
    {
     "name": "stderr",
     "output_type": "stream",
     "text": [
      "PdfReadWarning: Xref table not zero-indexed. ID numbers for objects will be corrected. [pdf.py:1736]\n"
     ]
    },
    {
     "name": "stdout",
     "output_type": "stream",
     "text": [
      "1474*, error: ../data/raw/eforms.alacourt.gov/forms/f0835d39776d802b7eee6eba390a8e7b.pdf\n",
      "1475*, "
     ]
    },
    {
     "name": "stderr",
     "output_type": "stream",
     "text": [
      "PdfReadWarning: Xref table not zero-indexed. ID numbers for objects will be corrected. [pdf.py:1736]\n"
     ]
    },
    {
     "name": "stdout",
     "output_type": "stream",
     "text": [
      "1476*, error: ../data/raw/eforms.alacourt.gov/forms/a484cc6ad39cf71ed0fc0b07762eb9cf.pdf\n",
      "1477*, "
     ]
    },
    {
     "name": "stderr",
     "output_type": "stream",
     "text": [
      "PdfReadWarning: Xref table not zero-indexed. ID numbers for objects will be corrected. [pdf.py:1736]\n"
     ]
    },
    {
     "name": "stdout",
     "output_type": "stream",
     "text": [
      "1478*, error: ../data/raw/eforms.alacourt.gov/forms/3ab1c6fa379b85ee9976f3fdc503c86b.pdf\n",
      "1479*, error: ../data/raw/eforms.alacourt.gov/forms/dc0d419484033fbd3b8b844102eab5a0.pdf\n",
      "1480*, "
     ]
    },
    {
     "name": "stderr",
     "output_type": "stream",
     "text": [
      "PdfReadWarning: Xref table not zero-indexed. ID numbers for objects will be corrected. [pdf.py:1736]\n"
     ]
    },
    {
     "name": "stdout",
     "output_type": "stream",
     "text": [
      "1481*, error: ../data/raw/eforms.alacourt.gov/forms/2389bc912ca84037922b1d09e8006a58.pdf\n",
      "1482*, error: ../data/raw/eforms.alacourt.gov/forms/efcda4fffdb292a23a390fabb540798f.pdf\n",
      "1483*, error: ../data/raw/eforms.alacourt.gov/forms/8f271a2f940871a5a545f854b41fe3aa.pdf\n",
      "1484*, error: ../data/raw/eforms.alacourt.gov/forms/ce1264b502474d0bd0ce9bfc515b5177.pdf\n",
      "1485*, 1486*, error: ../data/raw/eforms.alacourt.gov/forms/3b9938049b2e12fd9c29e74badbbe9bb.pdf\n",
      "1487*, error: ../data/raw/eforms.alacourt.gov/forms/db0882c3401d779af1e6abd440f14d9f.pdf\n",
      "1488*, "
     ]
    },
    {
     "name": "stderr",
     "output_type": "stream",
     "text": [
      "PdfReadWarning: Xref table not zero-indexed. ID numbers for objects will be corrected. [pdf.py:1736]\n"
     ]
    },
    {
     "name": "stdout",
     "output_type": "stream",
     "text": [
      "1489*, error: ../data/raw/eforms.alacourt.gov/forms/fbd47d972f3c1beae1e05be15a0253c4.pdf\n",
      "1490*, 1491*, error: ../data/raw/eforms.alacourt.gov/forms/aa7a9d805528fe330cedb3ae55da19d4.pdf\n",
      "1492*, 1493*, error: ../data/raw/eforms.alacourt.gov/forms/dea517d1486ba8b2b305a9428b8567b5.pdf\n",
      "1494*, error: ../data/raw/eforms.alacourt.gov/forms/72d5b76a3a3fb6b7a0c85e48bd4cfc65.pdf\n",
      "1495*, 1496*, error: ../data/raw/eforms.alacourt.gov/forms/75a05d815c068edb8da77a7c20883879.pdf\n",
      "1497*, error: ../data/raw/eforms.alacourt.gov/forms/eeed30c68f8ec259713e3cbe9bf980c2.pdf\n",
      "1498*, error: ../data/raw/eforms.alacourt.gov/forms/b8c0eba5c442f8c1aabdf0e313bbac90.pdf\n",
      "1499*, error: ../data/raw/eforms.alacourt.gov/forms/4b347a97dcb05124b331b9bfacf10763.pdf\n",
      "1500*, error: ../data/raw/eforms.alacourt.gov/forms/50a3a83fd744bc29c357552d3ce3932c.pdf\n",
      "1501*, error: ../data/raw/eforms.alacourt.gov/forms/ed86a6398df18c3b37329c54a62eb835.pdf\n",
      "1502*, error: ../data/raw/eforms.alacourt.gov/forms/27e5dc4c2382c8f8ae75443c631d3fa0.pdf\n",
      "1503*, error: ../data/raw/eforms.alacourt.gov/forms/0ee2c297fb35f59182dd7d3fce2b795d.pdf\n",
      "1504*, error: ../data/raw/eforms.alacourt.gov/forms/41e59c2a5d6a98b0e3266a21e34512b2.pdf\n",
      "1505*, 1506*, error: ../data/raw/eforms.alacourt.gov/forms/f28fd39caab3e2e8cd6cd854b654463b.pdf\n",
      "1507*, error: ../data/raw/eforms.alacourt.gov/forms/f16942eedf4da1cf54a128743459d43e.pdf\n",
      "1508*, 1509*, error: ../data/raw/eforms.alacourt.gov/forms/50a3a83fd744bc29c357552d3ce3932c.pdf\n",
      "1510*, 1511*, error: ../data/raw/eforms.alacourt.gov/forms/61f9a385d056149b6f8a4e332d08afc2.pdf\n",
      "1512*, error: ../data/raw/eforms.alacourt.gov/forms/f88d7fc35e710711c680fe6119ba1cd5.pdf\n",
      "1513*, error: ../data/raw/eforms.alacourt.gov/forms/e48e7fbcc8de75e5b8afba7cb1b55a0e.pdf\n",
      "1514*, 1515*, error: ../data/raw/eforms.alacourt.gov/forms/f7df24cb1ae9dd355a26754738020693.pdf\n",
      "1516*, 1517*, error: ../data/raw/eforms.alacourt.gov/forms/fbd47d972f3c1beae1e05be15a0253c4.pdf\n",
      "1518*, 1519*, error: ../data/raw/eforms.alacourt.gov/forms/aa7a9d805528fe330cedb3ae55da19d4.pdf\n",
      "1520*, 1521*, error: ../data/raw/eforms.alacourt.gov/forms/dea517d1486ba8b2b305a9428b8567b5.pdf\n",
      "1522*, error: ../data/raw/eforms.alacourt.gov/forms/e5eecd62b6f69d257facf54cd2395103.pdf\n",
      "1523*, error: ../data/raw/eforms.alacourt.gov/forms/f36ac690bf3cdb9211387734966ccefe.pdf\n",
      "1524*, error: ../data/raw/eforms.alacourt.gov/forms/542d60eb7fc1cd1607c4dc5d70a76a05.pdf\n",
      "1525*, error: ../data/raw/eforms.alacourt.gov/forms/02ba010af39e5769bf4cd384bc4dec95.pdf\n",
      "1526*, error: ../data/raw/eforms.alacourt.gov/forms/90139c5ff396f85b6ea9396c260fa8a8.pdf\n",
      "1527*, 1528*, error: ../data/raw/eforms.alacourt.gov/forms/6cd0cc9fb6e412bd281bc4a7de6da156.pdf\n",
      "1529*, 1530*, error: ../data/raw/eforms.alacourt.gov/forms/c3db9b2ad12834ce2e881707cfac2f2f.pdf\n",
      "1531*, error: ../data/raw/eforms.alacourt.gov/forms/278c9dc8b994844c8000a4558187e459.pdf\n",
      "1532*, error: ../data/raw/eforms.alacourt.gov/forms/e75cee4cc78efbe37431a4a3769e5897.pdf\n",
      "1533*, error: ../data/raw/eforms.alacourt.gov/forms/8b09a6c23af7a878e783a72a007fe94c.pdf\n",
      "1534*, error: ../data/raw/eforms.alacourt.gov/forms/dc0d419484033fbd3b8b844102eab5a0.pdf\n",
      "1535*, 1536*, error: ../data/raw/eforms.alacourt.gov/forms/75a05d815c068edb8da77a7c20883879.pdf\n",
      "1537*, error: ../data/raw/eforms.alacourt.gov/forms/b8c0eba5c442f8c1aabdf0e313bbac90.pdf\n",
      "1538*, error: ../data/raw/eforms.alacourt.gov/forms/4b347a97dcb05124b331b9bfacf10763.pdf\n",
      "1539*, error: ../data/raw/eforms.alacourt.gov/forms/39f55a458f88d0140c55c8e762eaa6e0.pdf\n",
      "1540*, 1541*, 1542*, 1543*, error: ../data/raw/eforms.alacourt.gov/forms/01bba3b3777507c54cf07c8f23225313.pdf\n",
      "1544*, error: ../data/raw/eforms.alacourt.gov/forms/2389bc912ca84037922b1d09e8006a58.pdf\n",
      "1545*, error: ../data/raw/eforms.alacourt.gov/forms/e06467cef935869332017cd31e542c51.pdf\n",
      "1546*, 1547*, error: ../data/raw/eforms.alacourt.gov/forms/a5a4934c4f2832d8d1db2a8a054a1b17.pdf\n",
      "1548*, "
     ]
    },
    {
     "name": "stderr",
     "output_type": "stream",
     "text": [
      "PdfReadWarning: Xref table not zero-indexed. ID numbers for objects will be corrected. [pdf.py:1736]\n"
     ]
    },
    {
     "name": "stdout",
     "output_type": "stream",
     "text": [
      "1549*, error: ../data/raw/eforms.alacourt.gov/forms/4ad6f70b7b72a2a88c1d35113fd7b916.pdf\n",
      "1550*, "
     ]
    },
    {
     "name": "stderr",
     "output_type": "stream",
     "text": [
      "PdfReadWarning: Xref table not zero-indexed. ID numbers for objects will be corrected. [pdf.py:1736]\n"
     ]
    },
    {
     "name": "stdout",
     "output_type": "stream",
     "text": [
      "1551*, error: ../data/raw/eforms.alacourt.gov/forms/f0835d39776d802b7eee6eba390a8e7b.pdf\n",
      "1552*, 1553*, error: ../data/raw/eforms.alacourt.gov/forms/a484cc6ad39cf71ed0fc0b07762eb9cf.pdf\n",
      "1554*, 1555*, error: ../data/raw/eforms.alacourt.gov/forms/3ab1c6fa379b85ee9976f3fdc503c86b.pdf\n",
      "1556*, error: ../data/raw/eforms.alacourt.gov/forms/6065803d18b60b8dadf19f0f6e0ff92d.pdf\n",
      "1557*, 1558*, error: ../data/raw/eforms.alacourt.gov/forms/01bba3b3777507c54cf07c8f23225313.pdf\n",
      "1559*, 1560*, error: ../data/raw/eforms.alacourt.gov/forms/a549fa0f8687a401b7061a903b457d10.pdf\n",
      "1561*, error: ../data/raw/eforms.alacourt.gov/forms/efcda4fffdb292a23a390fabb540798f.pdf\n",
      "1562*, error: ../data/raw/eforms.alacourt.gov/forms/8f271a2f940871a5a545f854b41fe3aa.pdf\n",
      "1563*, error: ../data/raw/eforms.alacourt.gov/forms/ce1264b502474d0bd0ce9bfc515b5177.pdf\n",
      "1564*, 1565*, error: ../data/raw/eforms.alacourt.gov/forms/3b9938049b2e12fd9c29e74badbbe9bb.pdf\n",
      "1566*, error: ../data/raw/eforms.alacourt.gov/forms/db0882c3401d779af1e6abd440f14d9f.pdf\n",
      "1567*, error: ../data/raw/eforms.alacourt.gov/forms/c073652d5a8f65cf02174fc9321f67ae.pdf\n",
      "1568*, error: ../data/raw/eforms.alacourt.gov/forms/3798b5d962ce19fe32e65fb15771e738.pdf\n",
      "1569*, error: ../data/raw/eforms.alacourt.gov/forms/b1e051936544e8d3d7c1bf1782833baf.pdf\n",
      "1570*, error: ../data/raw/eforms.alacourt.gov/forms/188876cb88792dcd78bbca6031ef710d.pdf\n",
      "1571*, error: ../data/raw/eforms.alacourt.gov/forms/7cdb02355a606b64ec7b4086615f33ae.pdf\n",
      "1572*, error: ../data/raw/eforms.alacourt.gov/forms/0edcbb15169ab4845895c78d7235b564.pdf\n",
      "1573*, error: ../data/raw/eforms.alacourt.gov/forms/76181ab20a9b7815f2ed06f8750000e4.pdf\n",
      "1574*, "
     ]
    },
    {
     "name": "stderr",
     "output_type": "stream",
     "text": [
      "PdfReadWarning: Xref table not zero-indexed. ID numbers for objects will be corrected. [pdf.py:1736]\n"
     ]
    },
    {
     "name": "stdout",
     "output_type": "stream",
     "text": [
      "1575*, "
     ]
    },
    {
     "name": "stderr",
     "output_type": "stream",
     "text": [
      "PdfReadWarning: Xref table not zero-indexed. ID numbers for objects will be corrected. [pdf.py:1736]\n"
     ]
    },
    {
     "name": "stdout",
     "output_type": "stream",
     "text": [
      "1576*, error: ../data/raw/eforms.alacourt.gov/forms/ebf76ad2588a464152ac2c762e0b14ef.pdf\n",
      "1577*, "
     ]
    },
    {
     "name": "stderr",
     "output_type": "stream",
     "text": [
      "PdfReadWarning: Xref table not zero-indexed. ID numbers for objects will be corrected. [pdf.py:1736]\n"
     ]
    },
    {
     "name": "stdout",
     "output_type": "stream",
     "text": [
      "1578*, "
     ]
    },
    {
     "name": "stderr",
     "output_type": "stream",
     "text": [
      "PdfReadWarning: Xref table not zero-indexed. ID numbers for objects will be corrected. [pdf.py:1736]\n"
     ]
    },
    {
     "name": "stdout",
     "output_type": "stream",
     "text": [
      "1579*, error: ../data/raw/eforms.alacourt.gov/forms/23b7750fb059c2ceca79cefba5a3d6ef.pdf\n",
      "1580*, error: ../data/raw/eforms.alacourt.gov/forms/5e43751fd7c6748ef8de163a988093e1.pdf\n",
      "1581*, 1582*, error: ../data/raw/eforms.alacourt.gov/forms/989b09419a73dbeec017edaf799a2a75.pdf\n",
      "1583*, error: ../data/raw/eforms.alacourt.gov/forms/3e4764e2d4ba97b32cd402fc2ef9de64.pdf\n",
      "1584*, error: ../data/raw/eforms.alacourt.gov/forms/4185b6b51a9b2ddf4d025f399871aa31.pdf\n",
      "1585*, error: ../data/raw/eforms.alacourt.gov/forms/54299fb2f25f13af5fac6a4fa50832e3.pdf\n",
      "1586*, 1587*, error: ../data/raw/eforms.alacourt.gov/forms/f07cd5d0d70d9a02eb7d8ae9f9c5481f.pdf\n",
      "1588*, 1589*, error: ../data/raw/eforms.alacourt.gov/forms/258f2a2603cac6379d3e10b02acb1e4d.pdf\n",
      "1590*, error: ../data/raw/eforms.alacourt.gov/forms/13854de5ef5c5b0f84984715d767e05e.pdf\n",
      "1591*, error: ../data/raw/eforms.alacourt.gov/forms/93ce3bef6f4ab7517347eedb38791602.pdf\n",
      "1592*, "
     ]
    },
    {
     "name": "stderr",
     "output_type": "stream",
     "text": [
      "PdfReadWarning: Xref table not zero-indexed. ID numbers for objects will be corrected. [pdf.py:1736]\n"
     ]
    },
    {
     "name": "stdout",
     "output_type": "stream",
     "text": [
      "1593*, 1594*, error: ../data/raw/eforms.alacourt.gov/forms/dc6f1284b4c9f8784fdfae741a9d1137.pdf\n",
      "1595*, 1596*, 1597*, error: ../data/raw/eforms.alacourt.gov/forms/7f05bf3812ae6f6958a543ce623e49b5.pdf\n",
      "1598*, "
     ]
    },
    {
     "name": "stderr",
     "output_type": "stream",
     "text": [
      "PdfReadWarning: Xref table not zero-indexed. ID numbers for objects will be corrected. [pdf.py:1736]\n"
     ]
    },
    {
     "name": "stdout",
     "output_type": "stream",
     "text": [
      "1599*, "
     ]
    },
    {
     "name": "stderr",
     "output_type": "stream",
     "text": [
      "PdfReadWarning: Xref table not zero-indexed. ID numbers for objects will be corrected. [pdf.py:1736]\n"
     ]
    },
    {
     "name": "stdout",
     "output_type": "stream",
     "text": [
      "1600*, error: ../data/raw/eforms.alacourt.gov/forms/132bd147eb66f3aab62a430a05cd02a4.pdf\n",
      "1601*, 1602*, error: ../data/raw/eforms.alacourt.gov/forms/24784a0cf861e945c600002023809129.pdf\n",
      "1603*, error: ../data/raw/eforms.alacourt.gov/forms/8a05eb663200f9442c621bddba33fb6f.pdf\n",
      "1604*, "
     ]
    },
    {
     "name": "stderr",
     "output_type": "stream",
     "text": [
      "PdfReadWarning: Xref table not zero-indexed. ID numbers for objects will be corrected. [pdf.py:1736]\n"
     ]
    },
    {
     "name": "stdout",
     "output_type": "stream",
     "text": [
      "1605*, error: ../data/raw/eforms.alacourt.gov/forms/fde9a8e6eed7c71a2b32e327bad212a6.pdf\n",
      "1606*, error: ../data/raw/eforms.alacourt.gov/forms/58c265cb6c18df9e451f5044865fc458.pdf\n",
      "1607*, "
     ]
    },
    {
     "name": "stderr",
     "output_type": "stream",
     "text": [
      "PdfReadWarning: Xref table not zero-indexed. ID numbers for objects will be corrected. [pdf.py:1736]\n"
     ]
    },
    {
     "name": "stdout",
     "output_type": "stream",
     "text": [
      "1608*, 1609*, "
     ]
    },
    {
     "name": "stderr",
     "output_type": "stream",
     "text": [
      "PdfReadWarning: Xref table not zero-indexed. ID numbers for objects will be corrected. [pdf.py:1736]\n"
     ]
    },
    {
     "name": "stdout",
     "output_type": "stream",
     "text": [
      "1610*, error: ../data/raw/eforms.alacourt.gov/forms/6809e127f51bb1e2218b16ef17bd9958.pdf\n",
      "1611*, error: ../data/raw/eforms.alacourt.gov/forms/3edbefe8106122229bf8576508e07d1c.pdf\n",
      "1612*, error: ../data/raw/eforms.alacourt.gov/forms/8b81feceb9b0829cf931c89ba9d760ba.pdf\n",
      "1613*, 1614*, error: ../data/raw/eforms.alacourt.gov/forms/49b2d0c9859a6e20286339f9c1c10744.pdf\n",
      "1615*, "
     ]
    },
    {
     "name": "stderr",
     "output_type": "stream",
     "text": [
      "PdfReadWarning: Xref table not zero-indexed. ID numbers for objects will be corrected. [pdf.py:1736]\n"
     ]
    },
    {
     "name": "stdout",
     "output_type": "stream",
     "text": [
      "1616*, error: ../data/raw/eforms.alacourt.gov/forms/507d732bb0c11afa606e3f68e0fbbaa4.pdf\n",
      "1617*, error: ../data/raw/eforms.alacourt.gov/forms/0daab4ed012fb35a5d5884031d73bb6d.pdf\n",
      "1618*, 1619*, error: ../data/raw/eforms.alacourt.gov/forms/e2f28a45ad088330d4cabf051af54817.pdf\n",
      "1620*, error: ../data/raw/eforms.alacourt.gov/forms/b3feeeb00aaabd2afe7f157f59f51fd5.pdf\n",
      "1621*, "
     ]
    },
    {
     "name": "stderr",
     "output_type": "stream",
     "text": [
      "PdfReadWarning: Xref table not zero-indexed. ID numbers for objects will be corrected. [pdf.py:1736]\n"
     ]
    },
    {
     "name": "stdout",
     "output_type": "stream",
     "text": [
      "1622*, "
     ]
    },
    {
     "name": "stderr",
     "output_type": "stream",
     "text": [
      "PdfReadWarning: Xref table not zero-indexed. ID numbers for objects will be corrected. [pdf.py:1736]\n"
     ]
    },
    {
     "name": "stdout",
     "output_type": "stream",
     "text": [
      "1623*, error: ../data/raw/eforms.alacourt.gov/forms/40c7bfd60c49f0fc07fa2187d6e4a90d.pdf\n",
      "1624*, error: ../data/raw/eforms.alacourt.gov/forms/10e9f88d3be31ac14dfd674581001933.pdf\n",
      "1625*, "
     ]
    },
    {
     "name": "stderr",
     "output_type": "stream",
     "text": [
      "PdfReadWarning: Xref table not zero-indexed. ID numbers for objects will be corrected. [pdf.py:1736]\n"
     ]
    },
    {
     "name": "stdout",
     "output_type": "stream",
     "text": [
      "1626*, error: ../data/raw/eforms.alacourt.gov/forms/a8e0c3b16c798e3d2fc1bf8130e0e541.pdf\n",
      "1627*, "
     ]
    },
    {
     "name": "stderr",
     "output_type": "stream",
     "text": [
      "PdfReadWarning: Xref table not zero-indexed. ID numbers for objects will be corrected. [pdf.py:1736]\n"
     ]
    },
    {
     "name": "stdout",
     "output_type": "stream",
     "text": [
      "1628*, "
     ]
    },
    {
     "name": "stderr",
     "output_type": "stream",
     "text": [
      "PdfReadWarning: Xref table not zero-indexed. ID numbers for objects will be corrected. [pdf.py:1736]\n"
     ]
    },
    {
     "name": "stdout",
     "output_type": "stream",
     "text": [
      "1629*, error: ../data/raw/eforms.alacourt.gov/forms/f7f51320c2f37640ee9495c4c1424837.pdf\n",
      "1630*, "
     ]
    },
    {
     "name": "stderr",
     "output_type": "stream",
     "text": [
      "PdfReadWarning: Xref table not zero-indexed. ID numbers for objects will be corrected. [pdf.py:1736]\n"
     ]
    },
    {
     "name": "stdout",
     "output_type": "stream",
     "text": [
      "1631*, error: ../data/raw/eforms.alacourt.gov/forms/7bf8f4f33edd7139169bf7b6f46c9d8c.pdf\n",
      "1632*, 1633*, 1634*, 1635*, "
     ]
    },
    {
     "name": "stderr",
     "output_type": "stream",
     "text": [
      "PdfReadWarning: Xref table not zero-indexed. ID numbers for objects will be corrected. [pdf.py:1736]\n"
     ]
    },
    {
     "name": "stdout",
     "output_type": "stream",
     "text": [
      "1636*, error: ../data/raw/eforms.alacourt.gov/forms/47b24ce87af806df7c26766163842ace.pdf\n",
      "1637*, error: ../data/raw/eforms.alacourt.gov/forms/071a1a24bb643ca12bfc3316ba68ebe0.pdf\n",
      "1638*, error: ../data/raw/eforms.alacourt.gov/forms/7c459292d08c22fd30ff1736335f3014.pdf\n",
      "1639*, error: ../data/raw/eforms.alacourt.gov/forms/e41143732abdd4f5299355255bb344e7.pdf\n",
      "1640*, error: ../data/raw/eforms.alacourt.gov/forms/8496eab7956248de1c0bc1927554d37e.pdf\n",
      "1641*, 1642*, "
     ]
    },
    {
     "name": "stderr",
     "output_type": "stream",
     "text": [
      "PdfReadWarning: Xref table not zero-indexed. ID numbers for objects will be corrected. [pdf.py:1736]\n"
     ]
    },
    {
     "name": "stdout",
     "output_type": "stream",
     "text": [
      "1643*, error: ../data/raw/eforms.alacourt.gov/forms/18e805f31f60304c93476b9325074360.pdf\n",
      "1644*, error: ../data/raw/eforms.alacourt.gov/forms/fc5295661ce3d934d0a32e428ad5b217.pdf\n",
      "1645*, error: ../data/raw/eforms.alacourt.gov/forms/e6b9ee48522556426dd5b3c63c87a132.pdf\n",
      "1646*, error: ../data/raw/eforms.alacourt.gov/forms/f146bff0c5e9fbef685cd55646145e9a.pdf\n",
      "1647*, error: ../data/raw/eforms.alacourt.gov/forms/fe8fdb6fffaf383c561efb33814ff888.pdf\n",
      "1648*, 1649*, error: ../data/raw/eforms.alacourt.gov/forms/dffed822028c1c0cdf567ef6eebe95e5.pdf\n",
      "1650*, 1651*, error: ../data/raw/eforms.alacourt.gov/forms/91ea50f44569e9e218fdf548e2c84c13.pdf\n",
      "1652*, error: ../data/raw/eforms.alacourt.gov/forms/dc0021783642b80d409e25bea5e2090d.pdf\n",
      "1653*, error: ../data/raw/eforms.alacourt.gov/forms/78774fabe0b29040885803f841f48026.pdf\n",
      "1654*, error: ../data/raw/eforms.alacourt.gov/forms/f7a8ce7d3361b422c12427f2c67f9ad8.pdf\n",
      "1655*, error: ../data/raw/eforms.alacourt.gov/forms/40065e5b8bf47f9c8c18a216911745e1.pdf\n",
      "1656*, 1657*, error: ../data/raw/eforms.alacourt.gov/forms/06764eb41486c273264acf2512f93559.pdf\n",
      "1658*, error: ../data/raw/eforms.alacourt.gov/forms/288f619125a721e3acb7acd5ac3c2334.pdf\n",
      "1659*, error: ../data/raw/eforms.alacourt.gov/forms/1dfdff913e1a46bcb3eff124d9e85f6d.pdf\n",
      "1660*, "
     ]
    },
    {
     "name": "stderr",
     "output_type": "stream",
     "text": [
      "PdfReadWarning: Xref table not zero-indexed. ID numbers for objects will be corrected. [pdf.py:1736]\n"
     ]
    },
    {
     "name": "stdout",
     "output_type": "stream",
     "text": [
      "1661*, "
     ]
    },
    {
     "name": "stderr",
     "output_type": "stream",
     "text": [
      "PdfReadWarning: Xref table not zero-indexed. ID numbers for objects will be corrected. [pdf.py:1736]\n"
     ]
    },
    {
     "name": "stdout",
     "output_type": "stream",
     "text": [
      "1662*, error: ../data/raw/eforms.alacourt.gov/forms/7f8a960de891539a6bb52bab4904f2c4.pdf\n",
      "1663*, error: ../data/raw/eforms.alacourt.gov/forms/bec65fdf5828d56ec05f74119b17aa90.pdf\n",
      "1664*, error: ../data/raw/eforms.alacourt.gov/forms/0af28a815017727d9bf9004b7a42fbbc.pdf\n",
      "1665*, error: ../data/raw/eforms.alacourt.gov/forms/57146df6265ec58ad52a954e4398b737.pdf\n",
      "1666*, error: ../data/raw/eforms.alacourt.gov/forms/2675d745457b0db3ec6cd371769c5093.pdf\n",
      "1667*, 1668*, error: ../data/raw/eforms.alacourt.gov/forms/5aaae086b9e117d1f32fb9102e125908.pdf\n",
      "1669*, "
     ]
    },
    {
     "name": "stderr",
     "output_type": "stream",
     "text": [
      "PdfReadWarning: Xref table not zero-indexed. ID numbers for objects will be corrected. [pdf.py:1736]\n"
     ]
    },
    {
     "name": "stdout",
     "output_type": "stream",
     "text": [
      "1670*, 1671*, error: ../data/raw/eforms.alacourt.gov/forms/fb143a04350cb366a3dcc7c08ee23b5c.pdf\n",
      "1672*, "
     ]
    },
    {
     "name": "stderr",
     "output_type": "stream",
     "text": [
      "PdfReadWarning: Xref table not zero-indexed. ID numbers for objects will be corrected. [pdf.py:1736]\n"
     ]
    },
    {
     "name": "stdout",
     "output_type": "stream",
     "text": [
      "1673*, error: ../data/raw/eforms.alacourt.gov/forms/e2ec643d6a03cb0c5fe14f603795c1ee.pdf\n",
      "1674*, error: ../data/raw/eforms.alacourt.gov/forms/2303a2ae8eaf271ffde8246261f8a904.pdf\n",
      "1675*, "
     ]
    },
    {
     "name": "stderr",
     "output_type": "stream",
     "text": [
      "PdfReadWarning: Xref table not zero-indexed. ID numbers for objects will be corrected. [pdf.py:1736]\n"
     ]
    },
    {
     "name": "stdout",
     "output_type": "stream",
     "text": [
      "1676*, error: ../data/raw/eforms.alacourt.gov/forms/2e557d5640113f1cc15c5c5effb3074f.pdf\n",
      "1677*, "
     ]
    },
    {
     "name": "stderr",
     "output_type": "stream",
     "text": [
      "PdfReadWarning: Xref table not zero-indexed. ID numbers for objects will be corrected. [pdf.py:1736]\n"
     ]
    },
    {
     "name": "stdout",
     "output_type": "stream",
     "text": [
      "1678*, error: ../data/raw/eforms.alacourt.gov/forms/cb3ce57eff81fb47a011aa2e25074ffd.pdf\n",
      "1679*, 1680*, error: ../data/raw/eforms.alacourt.gov/forms/549fb0fdb1e94f04e53cacaca78893a3.pdf\n",
      "1681*, 1682*, error: ../data/raw/eforms.alacourt.gov/forms/934999661ea857867594eae61cd9a30f.pdf\n",
      "1683*, "
     ]
    },
    {
     "name": "stderr",
     "output_type": "stream",
     "text": [
      "PdfReadWarning: Xref table not zero-indexed. ID numbers for objects will be corrected. [pdf.py:1736]\n"
     ]
    },
    {
     "name": "stdout",
     "output_type": "stream",
     "text": [
      "1684*, error: ../data/raw/eforms.alacourt.gov/forms/88b4614c334635bd660a30c36a0e8351.pdf\n",
      "1685*, 1686*, error: ../data/raw/eforms.alacourt.gov/forms/9c223fb3a5e1725a2ee12264aec3191e.pdf\n",
      "1687*, error: ../data/raw/eforms.alacourt.gov/forms/4e69a593e31666676625727999e732bd.pdf\n",
      "1688*, 1689*, error: ../data/raw/eforms.alacourt.gov/forms/d7426885e75496d71e04cf8ad79102bb.pdf\n",
      "1690*, error: ../data/raw/eforms.alacourt.gov/forms/43069fa78d1e9e3943613ef6d1f378ce.pdf\n",
      "1691*, "
     ]
    },
    {
     "name": "stderr",
     "output_type": "stream",
     "text": [
      "PdfReadWarning: Xref table not zero-indexed. ID numbers for objects will be corrected. [pdf.py:1736]\n"
     ]
    },
    {
     "name": "stdout",
     "output_type": "stream",
     "text": [
      "1692*, error: ../data/raw/eforms.alacourt.gov/forms/1213ebd72d1ff9f163ec47a2aa56037e.pdf\n",
      "1693*, 1694*, 1695*, 1696*, error: ../data/raw/eforms.alacourt.gov/forms/0fa73da13ec217c48e7aceeaad7fc8bf.pdf\n",
      "1697*, error: ../data/raw/eforms.alacourt.gov/forms/4980ff3210bb02d20eb35132b3808c68.pdf\n",
      "1698*, error: ../data/raw/eforms.alacourt.gov/forms/0c1863da0fb049daa0fef6984c41bc2d.pdf\n",
      "1699*, error: ../data/raw/eforms.alacourt.gov/forms/a6f5a5455120f793a92af0dd303449a3.pdf\n",
      "1700*, error: ../data/raw/eforms.alacourt.gov/forms/937dd1e45dacea9ef70026627fafa4af.pdf\n",
      "1701*, error: ../data/raw/eforms.alacourt.gov/forms/b65fbd39d3c2f5906b406b8b2370afe0.pdf\n",
      "1702*, 1703*, error: ../data/raw/eforms.alacourt.gov/forms/54d50d6669fd8b602b5074c3d36b4f5e.pdf\n",
      "1704*, 1705*, "
     ]
    },
    {
     "name": "stderr",
     "output_type": "stream",
     "text": [
      "PdfReadWarning: Xref table not zero-indexed. ID numbers for objects will be corrected. [pdf.py:1736]\n"
     ]
    },
    {
     "name": "stdout",
     "output_type": "stream",
     "text": [
      "1706*, 1707*, error: ../data/raw/eforms.alacourt.gov/forms/b7518844b2223c5d940536d7d6b46232.pdf\n",
      "1708*, error: ../data/raw/eforms.alacourt.gov/forms/5372c5ab14126f463854807eb913116b.pdf\n",
      "1709*, "
     ]
    },
    {
     "name": "stderr",
     "output_type": "stream",
     "text": [
      "PdfReadWarning: Xref table not zero-indexed. ID numbers for objects will be corrected. [pdf.py:1736]\n"
     ]
    },
    {
     "name": "stdout",
     "output_type": "stream",
     "text": [
      "1710*, "
     ]
    },
    {
     "name": "stderr",
     "output_type": "stream",
     "text": [
      "PdfReadWarning: Xref table not zero-indexed. ID numbers for objects will be corrected. [pdf.py:1736]\n"
     ]
    },
    {
     "name": "stdout",
     "output_type": "stream",
     "text": [
      "1711*, error: ../data/raw/eforms.alacourt.gov/forms/7464ea4ddc5a1c96f9a3352628e61628.pdf\n",
      "1712*, "
     ]
    },
    {
     "name": "stderr",
     "output_type": "stream",
     "text": [
      "PdfReadWarning: Xref table not zero-indexed. ID numbers for objects will be corrected. [pdf.py:1736]\n"
     ]
    },
    {
     "name": "stdout",
     "output_type": "stream",
     "text": [
      "1713*, error: ../data/raw/eforms.alacourt.gov/forms/1220121a3fea5c4ee747183262768664.pdf\n",
      "1714*, "
     ]
    },
    {
     "name": "stderr",
     "output_type": "stream",
     "text": [
      "PdfReadWarning: Xref table not zero-indexed. ID numbers for objects will be corrected. [pdf.py:1736]\n"
     ]
    },
    {
     "name": "stdout",
     "output_type": "stream",
     "text": [
      "1715*, error: ../data/raw/eforms.alacourt.gov/forms/1f2509ffb98a30787a46f0e4bfb20b31.pdf\n",
      "1716*, error: ../data/raw/eforms.alacourt.gov/forms/cf5ef6539286e240d808ec04d193d4c0.pdf\n",
      "1717*, error: ../data/raw/eforms.alacourt.gov/forms/6a6ff6db39b843ff2fec960d35cac581.pdf\n",
      "1718*, error: ../data/raw/eforms.alacourt.gov/forms/29c06629270bb92d773ba9ff53392ea2.pdf\n",
      "1719*, error: ../data/raw/eforms.alacourt.gov/forms/67420fb4673b6318e64c611fc8cec617.pdf\n",
      "1720*, 1721*, error: ../data/raw/eforms.alacourt.gov/forms/fbb54a77a5bf1c63def882b8dd29ae10.pdf\n",
      "1722*, "
     ]
    },
    {
     "name": "stderr",
     "output_type": "stream",
     "text": [
      "PdfReadWarning: Xref table not zero-indexed. ID numbers for objects will be corrected. [pdf.py:1736]\n"
     ]
    },
    {
     "name": "stdout",
     "output_type": "stream",
     "text": [
      "1723*, error: ../data/raw/eforms.alacourt.gov/forms/1e6f5e92a99d8c1d59dd44c74b9012b3.pdf\n",
      "1724*, error: ../data/raw/eforms.alacourt.gov/forms/4fb81c7c87eccd181c4938ebc2fc4ea2.pdf\n",
      "1725*, error: ../data/raw/eforms.alacourt.gov/forms/9818bc77236c8cb2f8ce57aded626288.pdf\n",
      "1726*, error: ../data/raw/eforms.alacourt.gov/forms/d0f05eb6077772b99ffb804ccb7b396e.pdf\n",
      "1727*, "
     ]
    },
    {
     "name": "stderr",
     "output_type": "stream",
     "text": [
      "PdfReadWarning: Xref table not zero-indexed. ID numbers for objects will be corrected. [pdf.py:1736]\n"
     ]
    },
    {
     "name": "stdout",
     "output_type": "stream",
     "text": [
      "1728*, 1729*, error: ../data/raw/eforms.alacourt.gov/forms/b285800fce0da1362f0d59573543abbf.pdf\n",
      "1730*, error: ../data/raw/eforms.alacourt.gov/forms/b6ff40f55b71e24d5e7b22b1cccdf84a.pdf\n",
      "1731*, error: ../data/raw/eforms.alacourt.gov/forms/f48dbc12e1bb543d49f4c56a04148605.pdf\n",
      "1732*, error: ../data/raw/eforms.alacourt.gov/forms/d543c504b63bcb90f466f102bf06b3b4.pdf\n",
      "1733*, 1734*, error: ../data/raw/eforms.alacourt.gov/forms/a852be6ac80bee789cbbe287bd7122ca.pdf\n",
      "1735*, "
     ]
    },
    {
     "name": "stderr",
     "output_type": "stream",
     "text": [
      "PdfReadWarning: Xref table not zero-indexed. ID numbers for objects will be corrected. [pdf.py:1736]\n"
     ]
    },
    {
     "name": "stdout",
     "output_type": "stream",
     "text": [
      "1736*, error: ../data/raw/eforms.alacourt.gov/forms/1cd2b02b801bcdde0169ce243e268311.pdf\n",
      "1737*, error: ../data/raw/eforms.alacourt.gov/forms/dd290d88f0b839f1fd16f8def01f04e1.pdf\n",
      "1738*, error: ../data/raw/eforms.alacourt.gov/forms/115857135b697dc978095142f70b7797.pdf\n",
      "1739*, "
     ]
    },
    {
     "name": "stderr",
     "output_type": "stream",
     "text": [
      "PdfReadWarning: Xref table not zero-indexed. ID numbers for objects will be corrected. [pdf.py:1736]\n"
     ]
    },
    {
     "name": "stdout",
     "output_type": "stream",
     "text": [
      "1740*, error: ../data/raw/eforms.alacourt.gov/forms/239fcd3b121fa49051631b9dcd8e8a09.pdf\n",
      "1741*, "
     ]
    },
    {
     "name": "stderr",
     "output_type": "stream",
     "text": [
      "PdfReadWarning: Xref table not zero-indexed. ID numbers for objects will be corrected. [pdf.py:1736]\n"
     ]
    },
    {
     "name": "stdout",
     "output_type": "stream",
     "text": [
      "1742*, 1743*, 1744*, 1745*, 1746*, 1747*, 1748*, 1749*, 1750*, 1751*, 1752*, 1753*, 1754*, 1755*, 1756*, 1757*, 1758*, 1759*, 1760*, 1761*, 1762*, 1763*, 1764*, 1765*, 1766*, 1767*, 1768*, 1769*, 1770*, 1771*, 1772*, 1773*, 1774*, 1775*, 1776*, 1777*, 1778*, 1779*, 1780*, 1781*, 1782*, 1783*, 1784*, 1785*, 1786*, 1787*, 1788*, 1789*, 1790*, 1791*, 1792*, 1793*, 1794*, 1795*, 1796*, 1797*, error: ../data/raw/www.courts.state.co.us/forms/dae2be8944f986e38bb1a8fd1d851d77.pdf\n",
      "1798*, 1799*, 1800*, 1801*, 1802*, 1803*, 1804*, 1805*, 1806*, 1807*, 1808*, 1809*, 1810*, 1811*, 1812*, 1813*, 1814*, 1815*, 1816*, 1817*, 1818*, 1819*, 1820*, 1821*, 1822*, 1823*, 1824*, 1825*, 1826*, 1827*, 1828*, 1829*, 1830*, 1831*, error: ../data/raw/www.courts.state.co.us/forms/585794253d2a4c37dc3bdec17f79b55f.pdf\n",
      "1832*, error: ../data/raw/www.courts.state.co.us/forms/7c699489594c31a402c9da800475caae.pdf\n",
      "1833*, error: ../data/raw/www.courts.state.co.us/forms/433291ce4d180614a5bf5099c9b566d0.pdf\n",
      "1834*, 1835*, 1836*, 1837*, 1838*, 1839*, 1840*, 1841*, 1842*, 1843*, 1844*, 1845*, 1846*, 1847*, 1848*, 1849*, 1850*, 1851*, 1852*, 1853*, 1854*, 1855*, 1856*, error: ../data/raw/www.courts.state.co.us/forms/450d83989fe8e655e0c897409eebbdd3.pdf\n",
      "1857*, error: ../data/raw/www.courts.state.co.us/forms/856d2d1c3c39795a37ef6b08bcf4582e.pdf\n",
      "1858*, 1859*, 1860*, 1861*, 1862*, 1863*, 1864*, 1865*, 1866*, 1867*, 1868*, 1869*, 1870*, 1871*, 1872*, 1873*, 1874*, 1875*, 1876*, 1877*, 1878*, 1879*, 1880*, 1881*, 1882*, 1883*, 1884*, 1885*, 1886*, 1887*, 1888*, 1889*, error: ../data/raw/www.courts.state.co.us/forms/5289652fa7891a81f57afb85b71a97cc.pdf\n",
      "1890*, error: ../data/raw/www.courts.state.co.us/forms/b8ef51f9dd2a3cdf6660e1c55e93a156.pdf\n",
      "1891*, 1892*, 1893*, 1894*, 1895*, 1896*, 1897*, 1898*, 1899*, 1900*, 1901*, 1902*, 1903*, 1904*, 1905*, 1906*, 1907*, 1908*, 1909*, 1910*, 1911*, 1912*, 1913*, 1914*, 1915*, 1916*, 1917*, 1918*, 1919*, 1920*, 1921*, 1922*, 1923*, 1924*, 1925*, 1926*, 1927*, 1928*, 1929*, 1930*, 1931*, 1932*, 1933*, 1934*, 1935*, 1936*, 1937*, 1938*, 1939*, 1940*, 1941*, 1942*, 1943*, 1944*, 1945*, 1946*, 1947*, 1948*, 1949*, 1950*, 1951*, 1952*, 1953*, 1954*, 1955*, "
     ]
    },
    {
     "name": "stderr",
     "output_type": "stream",
     "text": [
      "PdfReadWarning: Xref table not zero-indexed. ID numbers for objects will be corrected. [pdf.py:1736]\n"
     ]
    },
    {
     "name": "stdout",
     "output_type": "stream",
     "text": [
      "1956*, 1957*, 1958*, 1959*, 1960*, 1961*, 1962*, 1963*, 1964*, 1965*, 1966*, 1967*, 1968*, 1969*, 1970*, 1971*, 1972*, 1973*, 1974*, 1975*, 1976*, 1977*, 1978*, 1979*, 1980*, 1981*, 1982*, 1983*, 1984*, 1985*, 1986*, 1987*, 1988*, 1989*, 1990*, 1991*, 1992*, 1993*, 1994*, 1995*, 1996*, 1997*, 1998*, 1999*, 2000*, 2001*, 2002*, 2003*, 2004*, 2005*, 2006*, 2007*, 2008*, 2009*, 2010*, 2011*, 2012*, 2013*, 2014*, 2015*, 2016*, 2017*, 2018*, 2019*, 2020*, 2021*, 2022*, 2023*, 2024*, 2025*, 2026*, 2027*, 2028*, 2029*, 2030*, 2031*, 2032*, 2033*, 2034*, 2035*, 2036*, 2037*, 2038*, 2039*, 2040*, 2041*, 2042*, 2043*, 2044*, 2045*, 2046*, 2047*, 2048*, 2049*, 2050*, 2051*, 2052*, 2053*, 2054*, 2055*, 2056*, 2057*, 2058*, 2059*, 2060*, 2061*, 2062*, 2063*, 2064*, 2065*, 2066*, 2067*, 2068*, 2069*, 2070*, 2071*, error: ../data/raw/www.courts.state.co.us/forms/820e9a6143598b0448e865898d397709.pdf\n",
      "2072*, 2073*, 2074*, 2075*, 2076*, 2077*, 2078*, 2079*, 2080*, 2081*, 2082*, 2083*, 2084*, 2085*, 2086*, 2087*, 2088*, 2089*, 2090*, 2091*, 2092*, 2093*, 2094*, 2095*, 2096*, 2097*, 2098*, 2099*, 2100*, 2101*, 2102*, 2103*, 2104*, 2105*, 2106*, 2107*, 2108*, 2109*, 2110*, 2111*, 2112*, 2113*, 2114*, 2115*, 2116*, 2117*, 2118*, 2119*, 2120*, 2121*, 2122*, 2123*, 2124*, 2125*, 2126*, 2127*, 2128*, 2129*, 2130*, 2131*, 2132*, 2133*, 2134*, 2135*, 2136*, 2137*, 2138*, 2139*, 2140*, 2141*, 2142*, 2143*, 2144*, 2145*, 2146*, 2147*, 2148*, 2149*, 2150*, 2151*, 2152*, 2153*, 2154*, 2155*, 2156*, 2157*, 2158*, 2159*, 2160*, 2161*, 2162*, 2163*, 2164*, 2165*, 2166*, 2167*, 2168*, 2169*, 2170*, 2171*, "
     ]
    },
    {
     "name": "stderr",
     "output_type": "stream",
     "text": [
      "PdfReadWarning: Xref table not zero-indexed. ID numbers for objects will be corrected. [pdf.py:1736]\n"
     ]
    },
    {
     "name": "stdout",
     "output_type": "stream",
     "text": [
      "2172*, 2173*, 2174*, "
     ]
    },
    {
     "name": "stderr",
     "output_type": "stream",
     "text": [
      "PdfReadWarning: Xref table not zero-indexed. ID numbers for objects will be corrected. [pdf.py:1736]\n"
     ]
    },
    {
     "name": "stdout",
     "output_type": "stream",
     "text": [
      "2175*, 2176*, 2177*, 2178*, 2179*, 2180*, "
     ]
    },
    {
     "name": "stderr",
     "output_type": "stream",
     "text": [
      "PdfReadWarning: Xref table not zero-indexed. ID numbers for objects will be corrected. [pdf.py:1736]\n"
     ]
    },
    {
     "name": "stdout",
     "output_type": "stream",
     "text": [
      "2181*, 2182*, 2183*, 2184*, 2185*, 2186*, 2187*, 2188*, 2189*, 2190*, 2191*, 2192*, "
     ]
    },
    {
     "name": "stderr",
     "output_type": "stream",
     "text": [
      "PdfReadWarning: Xref table not zero-indexed. ID numbers for objects will be corrected. [pdf.py:1736]\n"
     ]
    },
    {
     "name": "stdout",
     "output_type": "stream",
     "text": [
      "2193*, 2194*, 2195*, 2196*, 2197*, 2198*, 2199*, 2200*, 2201*, 2202*, 2203*, 2204*, 2205*, 2206*, 2207*, 2208*, "
     ]
    },
    {
     "name": "stderr",
     "output_type": "stream",
     "text": [
      "PdfReadWarning: Xref table not zero-indexed. ID numbers for objects will be corrected. [pdf.py:1736]\n"
     ]
    },
    {
     "name": "stdout",
     "output_type": "stream",
     "text": [
      "2209*, 2210*, 2211*, 2212*, 2213*, 2214*, 2215*, 2216*, 2217*, 2218*, 2219*, 2220*, 2221*, 2222*, 2223*, 2224*, 2225*, 2226*, 2227*, 2228*, 2229*, 2230*, 2231*, 2232*, 2233*, 2234*, 2235*, 2236*, 2237*, 2238*, 2239*, 2240*, "
     ]
    },
    {
     "name": "stderr",
     "output_type": "stream",
     "text": [
      "PdfReadWarning: Xref table not zero-indexed. ID numbers for objects will be corrected. [pdf.py:1736]\n"
     ]
    },
    {
     "name": "stdout",
     "output_type": "stream",
     "text": [
      "2241*, 2242*, 2243*, 2244*, 2245*, 2246*, 2247*, 2248*, 2249*, 2250*, "
     ]
    },
    {
     "name": "stderr",
     "output_type": "stream",
     "text": [
      "PdfReadWarning: Xref table not zero-indexed. ID numbers for objects will be corrected. [pdf.py:1736]\n"
     ]
    },
    {
     "name": "stdout",
     "output_type": "stream",
     "text": [
      "2251*, 2252*, 2253*, 2254*, 2255*, 2256*, 2257*, 2258*, 2259*, 2260*, 2261*, 2262*, 2263*, 2264*, 2265*, 2266*, 2267*, 2268*, 2269*, 2270*, 2271*, 2272*, 2273*, 2274*, 2275*, 2276*, 2277*, 2278*, 2279*, 2280*, 2281*, 2282*, 2283*, 2284*, 2285*, 2286*, 2287*, 2288*, 2289*, 2290*, 2291*, 2292*, 2293*, 2294*, 2295*, 2296*, 2297*, 2298*, 2299*, 2300*, 2301*, 2302*, 2303*, 2304*, 2305*, 2306*, 2307*, 2308*, 2309*, 2310*, 2311*, 2312*, 2313*, 2314*, 2315*, 2316*, 2317*, 2318*, 2319*, 2320*, 2321*, 2322*, 2323*, 2324*, 2325*, 2326*, 2327*, 2328*, 2329*, 2330*, 2331*, 2332*, 2333*, 2334*, 2335*, 2336*, 2337*, 2338*, 2339*, 2340*, 2341*, 2342*, 2343*, 2344*, 2345*, 2346*, 2347*, 2348*, 2349*, "
     ]
    },
    {
     "name": "stderr",
     "output_type": "stream",
     "text": [
      "PdfReadWarning: Xref table not zero-indexed. ID numbers for objects will be corrected. [pdf.py:1736]\n"
     ]
    },
    {
     "name": "stdout",
     "output_type": "stream",
     "text": [
      "2350*, 2351*, 2352*, 2353*, 2354*, 2355*, 2356*, 2357*, 2358*, 2359*, 2360*, 2361*, 2362*, 2363*, 2364*, 2365*, 2366*, 2367*, 2368*, 2369*, 2370*, 2371*, 2372*, 2373*, 2374*, 2375*, 2376*, 2377*, 2378*, 2379*, 2380*, 2381*, 2382*, 2383*, 2384*, 2385*, 2386*, 2387*, 2388*, 2389*, 2390*, 2391*, 2392*, 2393*, 2394*, 2395*, 2396*, 2397*, 2398*, 2399*, 2400*, 2401*, 2402*, 2403*, 2404*, 2405*, 2406*, 2407*, 2408*, 2409*, 2410*, 2411*, 2412*, 2413*, 2414*, 2415*, 2416*, 2417*, 2418*, 2419*, 2420*, 2421*, 2422*, 2423*, 2424*, 2425*, 2426*, 2427*, 2428*, 2429*, 2430*, 2431*, 2432*, 2433*, 2434*, 2435*, 2436*, 2437*, 2438*, 2439*, 2440*, 2441*, 2442*, 2443*, 2444*, 2445*, 2446*, 2447*, 2448*, 2449*, 2450*, 2451*, 2452*, 2453*, 2454*, 2455*, 2456*, 2457*, 2458*, 2459*, 2460*, 2461*, 2462*, 2463*, 2464*, 2465*, 2466*, 2467*, 2468*, 2469*, 2470*, 2471*, 2472*, 2473*, 2474*, 2475*, 2476*, 2477*, 2478*, 2479*, 2480*, 2481*, 2482*, 2483*, 2484*, 2485*, 2486*, 2487*, 2488*, 2489*, 2490*, 2491*, 2492*, 2493*, 2494*, 2495*, 2496*, 2497*, 2498*, 2499*, 2500*, 2501*, 2502*, 2503*, 2504*, 2505*, 2506*, 2507*, 2508*, 2509*, 2510*, 2511*, 2512*, 2513*, 2514*, 2515*, 2516*, 2517*, 2518*, 2519*, 2520*, 2521*, 2522*, 2523*, 2524*, 2525*, 2526*, 2527*, 2528*, 2529*, 2530*, 2531*, 2532*, 2533*, 2534*, 2535*, 2536*, 2537*, 2538*, 2539*, 2540*, 2541*, 2542*, 2543*, 2544*, 2545*, 2546*, 2547*, 2548*, 2549*, 2550*, 2551*, 2552*, 2553*, 2554*, 2555*, 2556*, 2557*, 2558*, 2559*, 2560*, 2561*, 2562*, 2563*, 2564*, 2565*, 2566*, 2567*, 2568*, 2569*, 2570*, 2571*, 2572*, 2573*, 2574*, 2575*, 2576*, 2577*, 2578*, 2579*, 2580*, 2581*, 2582*, 2583*, 2584*, 2585*, 2586*, 2587*, 2588*, 2589*, 2590*, 2591*, 2592*, 2593*, 2594*, 2595*, 2596*, 2597*, 2598*, 2599*, 2600*, 2601*, 2602*, 2603*, 2604*, 2605*, 2606*, 2607*, 2608*, 2609*, 2610*, 2611*, 2612*, 2613*, 2614*, 2615*, 2616*, 2617*, 2618*, 2619*, 2620*, 2621*, 2622*, "
     ]
    },
    {
     "name": "stderr",
     "output_type": "stream",
     "text": [
      "PdfReadWarning: Xref table not zero-indexed. ID numbers for objects will be corrected. [pdf.py:1736]\n"
     ]
    },
    {
     "name": "stdout",
     "output_type": "stream",
     "text": [
      "2623*, 2624*, 2625*, 2626*, 2627*, 2628*, 2629*, "
     ]
    },
    {
     "name": "stderr",
     "output_type": "stream",
     "text": [
      "PdfReadWarning: Xref table not zero-indexed. ID numbers for objects will be corrected. [pdf.py:1736]\n"
     ]
    },
    {
     "name": "stdout",
     "output_type": "stream",
     "text": [
      "2630*, 2631*, 2632*, 2633*, 2634*, 2635*, 2636*, 2637*, 2638*, 2639*, "
     ]
    },
    {
     "name": "stderr",
     "output_type": "stream",
     "text": [
      "PdfReadWarning: Xref table not zero-indexed. ID numbers for objects will be corrected. [pdf.py:1736]\n"
     ]
    },
    {
     "name": "stdout",
     "output_type": "stream",
     "text": [
      "2640*, "
     ]
    },
    {
     "name": "stderr",
     "output_type": "stream",
     "text": [
      "PdfReadWarning: Xref table not zero-indexed. ID numbers for objects will be corrected. [pdf.py:1736]\n"
     ]
    },
    {
     "name": "stdout",
     "output_type": "stream",
     "text": [
      "2641*, "
     ]
    },
    {
     "name": "stderr",
     "output_type": "stream",
     "text": [
      "PdfReadWarning: Xref table not zero-indexed. ID numbers for objects will be corrected. [pdf.py:1736]\n"
     ]
    },
    {
     "name": "stdout",
     "output_type": "stream",
     "text": [
      "2642*, "
     ]
    },
    {
     "name": "stderr",
     "output_type": "stream",
     "text": [
      "PdfReadWarning: Xref table not zero-indexed. ID numbers for objects will be corrected. [pdf.py:1736]\n"
     ]
    },
    {
     "name": "stdout",
     "output_type": "stream",
     "text": [
      "2643*, "
     ]
    },
    {
     "name": "stderr",
     "output_type": "stream",
     "text": [
      "PdfReadWarning: Xref table not zero-indexed. ID numbers for objects will be corrected. [pdf.py:1736]\n"
     ]
    },
    {
     "name": "stdout",
     "output_type": "stream",
     "text": [
      "2644*, "
     ]
    },
    {
     "name": "stderr",
     "output_type": "stream",
     "text": [
      "PdfReadWarning: Xref table not zero-indexed. ID numbers for objects will be corrected. [pdf.py:1736]\n"
     ]
    },
    {
     "name": "stdout",
     "output_type": "stream",
     "text": [
      "2645*, 2646*, "
     ]
    },
    {
     "name": "stderr",
     "output_type": "stream",
     "text": [
      "PdfReadWarning: Xref table not zero-indexed. ID numbers for objects will be corrected. [pdf.py:1736]\n"
     ]
    },
    {
     "name": "stdout",
     "output_type": "stream",
     "text": [
      "2647*, "
     ]
    },
    {
     "name": "stderr",
     "output_type": "stream",
     "text": [
      "PdfReadWarning: Xref table not zero-indexed. ID numbers for objects will be corrected. [pdf.py:1736]\n"
     ]
    },
    {
     "name": "stdout",
     "output_type": "stream",
     "text": [
      "2648*, 2649*, 2650*, "
     ]
    },
    {
     "name": "stderr",
     "output_type": "stream",
     "text": [
      "PdfReadWarning: Xref table not zero-indexed. ID numbers for objects will be corrected. [pdf.py:1736]\n"
     ]
    },
    {
     "name": "stdout",
     "output_type": "stream",
     "text": [
      "2651*, 2652*, 2653*, 2654*, 2655*, 2656*, "
     ]
    },
    {
     "name": "stderr",
     "output_type": "stream",
     "text": [
      "PdfReadWarning: Xref table not zero-indexed. ID numbers for objects will be corrected. [pdf.py:1736]\n"
     ]
    },
    {
     "name": "stdout",
     "output_type": "stream",
     "text": [
      "2657*, 2658*, 2659*, 2660*, 2661*, 2662*, "
     ]
    },
    {
     "name": "stderr",
     "output_type": "stream",
     "text": [
      "PdfReadWarning: Xref table not zero-indexed. ID numbers for objects will be corrected. [pdf.py:1736]\n"
     ]
    },
    {
     "name": "stdout",
     "output_type": "stream",
     "text": [
      "2663*, 2664*, 2665*, 2666*, 2667*, 2668*, 2669*, "
     ]
    },
    {
     "name": "stderr",
     "output_type": "stream",
     "text": [
      "PdfReadWarning: Xref table not zero-indexed. ID numbers for objects will be corrected. [pdf.py:1736]\n"
     ]
    },
    {
     "name": "stdout",
     "output_type": "stream",
     "text": [
      "2670*, 2671*, 2672*, "
     ]
    },
    {
     "name": "stderr",
     "output_type": "stream",
     "text": [
      "PdfReadWarning: Xref table not zero-indexed. ID numbers for objects will be corrected. [pdf.py:1736]\n"
     ]
    },
    {
     "name": "stdout",
     "output_type": "stream",
     "text": [
      "2673*, "
     ]
    },
    {
     "name": "stderr",
     "output_type": "stream",
     "text": [
      "PdfReadWarning: Xref table not zero-indexed. ID numbers for objects will be corrected. [pdf.py:1736]\n"
     ]
    },
    {
     "name": "stdout",
     "output_type": "stream",
     "text": [
      "2674*, 2675*, "
     ]
    },
    {
     "name": "stderr",
     "output_type": "stream",
     "text": [
      "PdfReadWarning: Xref table not zero-indexed. ID numbers for objects will be corrected. [pdf.py:1736]\n"
     ]
    },
    {
     "name": "stdout",
     "output_type": "stream",
     "text": [
      "2676*, 2677*, 2678*, 2679*, 2680*, "
     ]
    },
    {
     "name": "stderr",
     "output_type": "stream",
     "text": [
      "PdfReadWarning: Xref table not zero-indexed. ID numbers for objects will be corrected. [pdf.py:1736]\n"
     ]
    },
    {
     "name": "stdout",
     "output_type": "stream",
     "text": [
      "2681*, 2682*, 2683*, 2684*, 2685*, 2686*, 2687*, 2688*, 2689*, 2690*, 2691*, 2692*, 2693*, 2694*, 2695*, 2696*, 2697*, 2698*, 2699*, 2700*, 2701*, 2702*, 2703*, 2704*, 2705*, 2706*, 2707*, 2708*, 2709*, 2710*, 2711*, 2712*, 2713*, 2714*, 2715*, 2716*, 2717*, 2718*, 2719*, 2720*, 2721*, "
     ]
    },
    {
     "name": "stderr",
     "output_type": "stream",
     "text": [
      "PdfReadWarning: Xref table not zero-indexed. ID numbers for objects will be corrected. [pdf.py:1736]\n"
     ]
    },
    {
     "name": "stdout",
     "output_type": "stream",
     "text": [
      "2722*, 2723*, 2724*, 2725*, 2726*, 2727*, 2728*, 2729*, 2730*, 2731*, 2732*, 2733*, 2734*, 2735*, 2736*, 2737*, 2738*, 2739*, 2740*, "
     ]
    },
    {
     "name": "stderr",
     "output_type": "stream",
     "text": [
      "PdfReadWarning: Xref table not zero-indexed. ID numbers for objects will be corrected. [pdf.py:1736]\n"
     ]
    },
    {
     "name": "stdout",
     "output_type": "stream",
     "text": [
      "2741*, 2742*, 2743*, 2744*, 2745*, 2746*, 2747*, "
     ]
    },
    {
     "name": "stderr",
     "output_type": "stream",
     "text": [
      "PdfReadWarning: Xref table not zero-indexed. ID numbers for objects will be corrected. [pdf.py:1736]\n"
     ]
    },
    {
     "name": "stdout",
     "output_type": "stream",
     "text": [
      "2748*, 2749*, "
     ]
    },
    {
     "name": "stderr",
     "output_type": "stream",
     "text": [
      "PdfReadWarning: Xref table not zero-indexed. ID numbers for objects will be corrected. [pdf.py:1736]\n"
     ]
    },
    {
     "name": "stdout",
     "output_type": "stream",
     "text": [
      "2750*, "
     ]
    },
    {
     "name": "stderr",
     "output_type": "stream",
     "text": [
      "PdfReadWarning: Xref table not zero-indexed. ID numbers for objects will be corrected. [pdf.py:1736]\n"
     ]
    },
    {
     "name": "stdout",
     "output_type": "stream",
     "text": [
      "2751*, 2752*, 2753*, 2754*, 2755*, 2756*, 2757*, 2758*, 2759*, 2760*, 2761*, 2762*, 2763*, 2764*, 2765*, 2766*, 2767*, 2768*, 2769*, 2770*, "
     ]
    },
    {
     "name": "stderr",
     "output_type": "stream",
     "text": [
      "PdfReadWarning: Xref table not zero-indexed. ID numbers for objects will be corrected. [pdf.py:1736]\n"
     ]
    },
    {
     "name": "stdout",
     "output_type": "stream",
     "text": [
      "2771*, 2772*, 2773*, 2774*, 2775*, 2776*, 2777*, 2778*, 2779*, 2780*, 2781*, "
     ]
    },
    {
     "name": "stderr",
     "output_type": "stream",
     "text": [
      "PdfReadWarning: Xref table not zero-indexed. ID numbers for objects will be corrected. [pdf.py:1736]\n"
     ]
    },
    {
     "name": "stdout",
     "output_type": "stream",
     "text": [
      "2782*, 2783*, 2784*, 2785*, 2786*, 2787*, 2788*, 2789*, 2790*, 2791*, 2792*, 2793*, 2794*, 2795*, 2796*, 2797*, 2798*, 2799*, 2800*, 2801*, 2802*, 2803*, 2804*, 2805*, 2806*, 2807*, 2808*, 2809*, "
     ]
    },
    {
     "name": "stderr",
     "output_type": "stream",
     "text": [
      "PdfReadWarning: Xref table not zero-indexed. ID numbers for objects will be corrected. [pdf.py:1736]\n"
     ]
    },
    {
     "name": "stdout",
     "output_type": "stream",
     "text": [
      "2810*, 2811*, 2812*, 2813*, 2814*, 2815*, 2816*, 2817*, 2818*, 2819*, 2820*, 2821*, 2822*, 2823*, 2824*, 2825*, 2826*, 2827*, 2828*, 2829*, 2830*, 2831*, 2832*, 2833*, 2834*, 2835*, 2836*, 2837*, 2838*, 2839*, 2840*, 2841*, 2842*, 2843*, 2844*, 2845*, 2846*, 2847*, 2848*, 2849*, 2850*, 2851*, 2852*, 2853*, 2854*, 2855*, 2856*, 2857*, 2858*, 2859*, 2860*, 2861*, 2862*, 2863*, 2864*, 2865*, "
     ]
    },
    {
     "name": "stderr",
     "output_type": "stream",
     "text": [
      "PdfReadWarning: Xref table not zero-indexed. ID numbers for objects will be corrected. [pdf.py:1736]\n"
     ]
    },
    {
     "name": "stdout",
     "output_type": "stream",
     "text": [
      "2866*, 2867*, 2868*, 2869*, 2870*, 2871*, 2872*, 2873*, 2874*, 2875*, 2876*, 2877*, 2878*, 2879*, 2880*, 2881*, 2882*, 2883*, 2884*, 2885*, 2886*, 2887*, 2888*, 2889*, 2890*, 2891*, 2892*, 2893*, 2894*, 2895*, 2896*, 2897*, 2898*, 2899*, 2900*, 2901*, 2902*, 2903*, 2904*, 2905*, 2906*, 2907*, 2908*, 2909*, 2910*, 2911*, 2912*, 2913*, 2914*, 2915*, 2916*, 2917*, 2918*, 2919*, 2920*, 2921*, 2922*, 2923*, 2924*, 2925*, 2926*, 2927*, 2928*, 2929*, 2930*, 2931*, 2932*, 2933*, 2934*, 2935*, 2936*, 2937*, 2938*, 2939*, 2940*, 2941*, 2942*, 2943*, 2944*, 2945*, 2946*, 2947*, 2948*, 2949*, 2950*, 2951*, 2952*, 2953*, 2954*, 2955*, 2956*, 2957*, 2958*, 2959*, 2960*, 2961*, 2962*, 2963*, 2964*, 2965*, 2966*, 2967*, 2968*, 2969*, 2970*, 2971*, 2972*, 2973*, 2974*, 2975*, 2976*, 2977*, 2978*, 2979*, 2980*, 2981*, error: ../data/raw/www.jud.ct.gov/forms/689c2a4ba996c01f8eab46dc219fbfd1.pdf\n",
      "2982*, error: ../data/raw/www.jud.ct.gov/forms/92b13ed557778448d821151eb6c77ff6.pdf\n",
      "2983*, 2984*, 2985*, 2986*, 2987*, 2988*, 2989*, 2990*, 2991*, 2992*, 2993*, 2994*, 2995*, 2996*, 2997*, 2998*, 2999*, 3000*, 3001*, 3002*, 3003*, 3004*, 3005*, 3006*, 3007*, 3008*, 3009*, 3010*, 3011*, 3012*, 3013*, error: ../data/raw/courts.delaware.gov/forms/ac5089356721ed52a961d847f664af47.pdf\n",
      "3014*, error: ../data/raw/courts.delaware.gov/forms/011ac902925e320557b7532056dca656.pdf\n",
      "3015*, 3016*, "
     ]
    },
    {
     "name": "stderr",
     "output_type": "stream",
     "text": [
      "PdfReadWarning: Xref table not zero-indexed. ID numbers for objects will be corrected. [pdf.py:1736]\n"
     ]
    },
    {
     "name": "stdout",
     "output_type": "stream",
     "text": [
      "3017*, 3018*, 3019*, 3020*, 3021*, 3022*, error: ../data/raw/courts.delaware.gov/forms/eec563f9f1ff018e5723099da8119b1e.pdf\n",
      "3023*, 3024*, 3025*, 3026*, 3027*, error: ../data/raw/courts.delaware.gov/forms/ffd3cec7812d91e4c739175f2eb65677.pdf\n",
      "3028*, error: ../data/raw/courts.delaware.gov/forms/ddd9ae89643220843d013181bf5c7f8f.pdf\n",
      "3029*, error: ../data/raw/courts.delaware.gov/forms/3e4281aed308445bc46e4f854cdb3e11.pdf\n",
      "3030*, error: ../data/raw/courts.delaware.gov/forms/0cb22eb75a73853c0f9d1483c04d58b0.pdf\n",
      "3031*, 3032*, 3033*, 3034*, "
     ]
    },
    {
     "name": "stderr",
     "output_type": "stream",
     "text": [
      "PdfReadWarning: Xref table not zero-indexed. ID numbers for objects will be corrected. [pdf.py:1736]\n"
     ]
    },
    {
     "name": "stdout",
     "output_type": "stream",
     "text": [
      "3035*, "
     ]
    },
    {
     "name": "stderr",
     "output_type": "stream",
     "text": [
      "PdfReadWarning: Xref table not zero-indexed. ID numbers for objects will be corrected. [pdf.py:1736]\n"
     ]
    },
    {
     "name": "stdout",
     "output_type": "stream",
     "text": [
      "3036*, "
     ]
    },
    {
     "name": "stderr",
     "output_type": "stream",
     "text": [
      "PdfReadWarning: Xref table not zero-indexed. ID numbers for objects will be corrected. [pdf.py:1736]\n"
     ]
    },
    {
     "name": "stdout",
     "output_type": "stream",
     "text": [
      "3037*, 3038*, "
     ]
    },
    {
     "name": "stderr",
     "output_type": "stream",
     "text": [
      "PdfReadWarning: Xref table not zero-indexed. ID numbers for objects will be corrected. [pdf.py:1736]\n"
     ]
    },
    {
     "name": "stdout",
     "output_type": "stream",
     "text": [
      "3039*, "
     ]
    },
    {
     "name": "stderr",
     "output_type": "stream",
     "text": [
      "PdfReadWarning: Xref table not zero-indexed. ID numbers for objects will be corrected. [pdf.py:1736]\n"
     ]
    },
    {
     "name": "stdout",
     "output_type": "stream",
     "text": [
      "3040*, 3041*, error: ../data/raw/courts.delaware.gov/forms/6a6f0674da3ead3180d395ef97d07aa8.pdf\n",
      "3042*, 3043*, 3044*, 3045*, 3046*, 3047*, 3048*, error: ../data/raw/courts.delaware.gov/forms/b0e3430197c79fd8e8c251452194fae6.pdf\n",
      "3049*, error: ../data/raw/courts.delaware.gov/forms/d3f293fb3a074199a2a813eb7a62bfc7.pdf\n",
      "3050*, "
     ]
    },
    {
     "name": "stderr",
     "output_type": "stream",
     "text": [
      "PdfReadWarning: Xref table not zero-indexed. ID numbers for objects will be corrected. [pdf.py:1736]\n"
     ]
    },
    {
     "name": "stdout",
     "output_type": "stream",
     "text": [
      "3051*, "
     ]
    },
    {
     "name": "stderr",
     "output_type": "stream",
     "text": [
      "PdfReadWarning: Xref table not zero-indexed. ID numbers for objects will be corrected. [pdf.py:1736]\n"
     ]
    },
    {
     "name": "stdout",
     "output_type": "stream",
     "text": [
      "3052*, "
     ]
    },
    {
     "name": "stderr",
     "output_type": "stream",
     "text": [
      "PdfReadWarning: Xref table not zero-indexed. ID numbers for objects will be corrected. [pdf.py:1736]\n"
     ]
    },
    {
     "name": "stdout",
     "output_type": "stream",
     "text": [
      "3053*, error: ../data/raw/courts.delaware.gov/forms/74dd3d906285087339576b2610fb5f33.pdf\n",
      "3054*, error: ../data/raw/courts.delaware.gov/forms/b917dea6dd7a033ad003df1ff7d9a909.pdf\n",
      "3055*, error: ../data/raw/courts.delaware.gov/forms/42be5af5e7d463651e3a666525c3cd03.pdf\n",
      "3056*, error: ../data/raw/courts.delaware.gov/forms/49a965a02b81d8e50d1985dec67c3f27.pdf\n",
      "3057*, error: ../data/raw/courts.delaware.gov/forms/311af1b47e32fb342b5679e8df41074a.pdf\n",
      "3058*, error: ../data/raw/courts.delaware.gov/forms/bd32f34ead3647a39a1ff9fc8d8ea092.pdf\n",
      "3059*, error: ../data/raw/courts.delaware.gov/forms/0f7f54d7aa9e51aa532a7e0822728a9f.pdf\n",
      "3060*, 3061*, 3062*, error: ../data/raw/courts.delaware.gov/forms/de74aa51b2bcd36ad588b3f241205ce2.pdf\n",
      "3063*, error: ../data/raw/courts.delaware.gov/forms/7488c3dae9dcefe5c5b99525be1730c1.pdf\n",
      "3064*, error: ../data/raw/courts.delaware.gov/forms/c023e853c637e279ce9140f9ef5b8ff1.pdf\n",
      "3065*, error: ../data/raw/courts.delaware.gov/forms/7c9cc32a8dd6603fe4f09e33093ddce0.pdf\n",
      "3066*, 3067*, error: ../data/raw/courts.delaware.gov/forms/ddd9ae89643220843d013181bf5c7f8f.pdf\n",
      "3068*, error: ../data/raw/courts.delaware.gov/forms/880ae0c0aeb6d26ea1bb8bd64320b4f0.pdf\n",
      "3069*, error: ../data/raw/courts.delaware.gov/forms/fe50229e22cd25b501a4a3b092fd9bf2.pdf\n",
      "3070*, 3071*, 3072*, error: ../data/raw/courts.delaware.gov/forms/d52173174aa3798e0672ee289db7696f.pdf\n",
      "3073*, error: ../data/raw/courts.delaware.gov/forms/c023e853c637e279ce9140f9ef5b8ff1.pdf\n",
      "3074*, error: ../data/raw/courts.delaware.gov/forms/77797752d177039f7b00fd37d449156b.pdf\n",
      "3075*, error: ../data/raw/courts.delaware.gov/forms/b65e77cf89286125e8c4c53d138e4969.pdf\n",
      "3076*, error: ../data/raw/courts.delaware.gov/forms/bc4c7d311640fe5b5c982a17d5314c69.pdf\n",
      "3077*, error: ../data/raw/courts.delaware.gov/forms/95d290ff111ed7a70ed867e36aa0b60e.pdf\n",
      "3078*, error: ../data/raw/courts.delaware.gov/forms/5539a3ab649e6e4a49870fd3d1a0a817.pdf\n",
      "3079*, error: ../data/raw/courts.delaware.gov/forms/006e39826d97cba213915fb1dfc54753.pdf\n",
      "3080*, error: ../data/raw/courts.delaware.gov/forms/b917dea6dd7a033ad003df1ff7d9a909.pdf\n",
      "3081*, error: ../data/raw/courts.delaware.gov/forms/ac5089356721ed52a961d847f664af47.pdf\n",
      "3082*, error: ../data/raw/courts.delaware.gov/forms/011ac902925e320557b7532056dca656.pdf\n",
      "3083*, error: ../data/raw/courts.delaware.gov/forms/64ce1c478bb3233a4269dda86ffd6307.pdf\n",
      "3084*, error: ../data/raw/courts.delaware.gov/forms/afca817e3d1a4c06578a970d2a59ec2d.pdf\n",
      "3085*, error: ../data/raw/courts.delaware.gov/forms/3e4281aed308445bc46e4f854cdb3e11.pdf\n",
      "3086*, error: ../data/raw/courts.delaware.gov/forms/0cb22eb75a73853c0f9d1483c04d58b0.pdf\n",
      "3087*, error: ../data/raw/courts.delaware.gov/forms/0c7951f091593e42397333b645b733a9.pdf\n",
      "3088*, error: ../data/raw/courts.delaware.gov/forms/2639aec9b1cb81a8cbf1faa0891c10d5.pdf\n",
      "3089*, error: ../data/raw/courts.delaware.gov/forms/5ef973253658db4e591d3b32d1f5a029.pdf\n",
      "3090*, error: ../data/raw/courts.delaware.gov/forms/db433717cd714d44bb6f3144c51e61b1.pdf\n",
      "3091*, error: ../data/raw/courts.delaware.gov/forms/8ce329c7278922ba4ee3251c1d17ac84.pdf\n",
      "3092*, error: ../data/raw/courts.delaware.gov/forms/466ebde2275a356862f03af062733928.pdf\n",
      "3093*, error: ../data/raw/courts.delaware.gov/forms/2d310b1c881767016d9071cb535cc7a9.pdf\n",
      "3094*, 3095*, error: ../data/raw/courts.delaware.gov/forms/b128326e49e758f02bf10a449083ffb9.pdf\n",
      "3096*, error: ../data/raw/courts.delaware.gov/forms/552b546df098cfcf37811eea7b732153.pdf\n",
      "3097*, error: ../data/raw/courts.delaware.gov/forms/bdbf7f9320e4c33c21c35d3ca7067a12.pdf\n",
      "3098*, error: ../data/raw/courts.delaware.gov/forms/2ce479bee18c9b69d7290afc19e816ae.pdf\n",
      "3099*, error: ../data/raw/courts.delaware.gov/forms/318d0f049150120f76a96f3491b30411.pdf\n",
      "3100*, error: ../data/raw/courts.delaware.gov/forms/b65e77cf89286125e8c4c53d138e4969.pdf\n",
      "3101*, error: ../data/raw/courts.delaware.gov/forms/06d4eabb948b86292d0458c4ecc830da.pdf\n",
      "3102*, error: ../data/raw/courts.delaware.gov/forms/a597a1644f8953b29bacccb137333219.pdf\n",
      "3103*, error: ../data/raw/courts.delaware.gov/forms/a283b07c242f2feb6dc4623ca73b28ae.pdf\n",
      "3104*, error: ../data/raw/courts.delaware.gov/forms/006e39826d97cba213915fb1dfc54753.pdf\n",
      "3105*, error: ../data/raw/courts.delaware.gov/forms/b917dea6dd7a033ad003df1ff7d9a909.pdf\n",
      "3106*, error: ../data/raw/courts.delaware.gov/forms/ac5089356721ed52a961d847f664af47.pdf\n",
      "3107*, error: ../data/raw/courts.delaware.gov/forms/011ac902925e320557b7532056dca656.pdf\n",
      "3108*, error: ../data/raw/courts.delaware.gov/forms/64ce1c478bb3233a4269dda86ffd6307.pdf\n",
      "3109*, error: ../data/raw/courts.delaware.gov/forms/3e4281aed308445bc46e4f854cdb3e11.pdf\n",
      "3110*, error: ../data/raw/courts.delaware.gov/forms/0cb22eb75a73853c0f9d1483c04d58b0.pdf\n",
      "3111*, error: ../data/raw/courts.delaware.gov/forms/d483ed51adb84cfe1084ec4f0edfbe14.pdf\n",
      "3112*, error: ../data/raw/courts.delaware.gov/forms/966efdffb9088e3c0f0dd066fa438f11.pdf\n",
      "3113*, error: ../data/raw/courts.delaware.gov/forms/f7aeca607150f5c94cdfed67b61b7657.pdf\n",
      "3114*, error: ../data/raw/courts.delaware.gov/forms/d7b8ac725773d67d1bd8e36628e9284e.pdf\n",
      "3115*, error: ../data/raw/courts.delaware.gov/forms/d983517db4cb01d0cd7a47efe3ad1318.pdf\n",
      "3116*, error: ../data/raw/courts.delaware.gov/forms/5ef973253658db4e591d3b32d1f5a029.pdf\n",
      "3117*, error: ../data/raw/courts.delaware.gov/forms/8e8afb7f01ea1ed9277b517dcc034c8f.pdf\n",
      "3118*, error: ../data/raw/courts.delaware.gov/forms/01337eeade00c83684589e2fcfcd71b8.pdf\n",
      "3119*, error: ../data/raw/courts.delaware.gov/forms/2d310b1c881767016d9071cb535cc7a9.pdf\n",
      "3120*, 3121*, 3122*, 3123*, error: ../data/raw/courts.delaware.gov/forms/70908820105ec1965d817572ac730ddc.pdf\n",
      "3124*, error: ../data/raw/courts.delaware.gov/forms/6583d53dfdedff4ebb4a75ce1daa607a.pdf\n",
      "3125*, error: ../data/raw/courts.delaware.gov/forms/f2a7f771d56f0b428470a0a8e1be9683.pdf\n",
      "3126*, error: ../data/raw/courts.delaware.gov/forms/b128326e49e758f02bf10a449083ffb9.pdf\n",
      "3127*, error: ../data/raw/courts.delaware.gov/forms/552b546df098cfcf37811eea7b732153.pdf\n",
      "3128*, error: ../data/raw/courts.delaware.gov/forms/7488c3dae9dcefe5c5b99525be1730c1.pdf\n",
      "3129*, error: ../data/raw/courts.delaware.gov/forms/b917dea6dd7a033ad003df1ff7d9a909.pdf\n",
      "3130*, error: ../data/raw/courts.delaware.gov/forms/ac5089356721ed52a961d847f664af47.pdf\n",
      "3131*, error: ../data/raw/courts.delaware.gov/forms/011ac902925e320557b7532056dca656.pdf\n",
      "3132*, error: ../data/raw/courts.delaware.gov/forms/64ce1c478bb3233a4269dda86ffd6307.pdf\n",
      "3133*, error: ../data/raw/courts.delaware.gov/forms/3e4281aed308445bc46e4f854cdb3e11.pdf\n",
      "3134*, error: ../data/raw/courts.delaware.gov/forms/0cb22eb75a73853c0f9d1483c04d58b0.pdf\n",
      "3135*, error: ../data/raw/courts.delaware.gov/forms/d483ed51adb84cfe1084ec4f0edfbe14.pdf\n",
      "3136*, error: ../data/raw/courts.delaware.gov/forms/966efdffb9088e3c0f0dd066fa438f11.pdf\n",
      "3137*, error: ../data/raw/courts.delaware.gov/forms/f7aeca607150f5c94cdfed67b61b7657.pdf\n",
      "3138*, error: ../data/raw/courts.delaware.gov/forms/d7b8ac725773d67d1bd8e36628e9284e.pdf\n",
      "3139*, error: ../data/raw/courts.delaware.gov/forms/d983517db4cb01d0cd7a47efe3ad1318.pdf\n",
      "3140*, error: ../data/raw/courts.delaware.gov/forms/5ef973253658db4e591d3b32d1f5a029.pdf\n",
      "3141*, error: ../data/raw/courts.delaware.gov/forms/8e8afb7f01ea1ed9277b517dcc034c8f.pdf\n",
      "3142*, error: ../data/raw/courts.delaware.gov/forms/01337eeade00c83684589e2fcfcd71b8.pdf\n",
      "3143*, error: ../data/raw/courts.delaware.gov/forms/2d310b1c881767016d9071cb535cc7a9.pdf\n",
      "3144*, 3145*, 3146*, error: ../data/raw/courts.delaware.gov/forms/70908820105ec1965d817572ac730ddc.pdf\n",
      "3147*, error: ../data/raw/courts.delaware.gov/forms/6583d53dfdedff4ebb4a75ce1daa607a.pdf\n",
      "3148*, error: ../data/raw/courts.delaware.gov/forms/eac8209a737024970766f21b0875d764.pdf\n",
      "3149*, error: ../data/raw/courts.delaware.gov/forms/f2a7f771d56f0b428470a0a8e1be9683.pdf\n",
      "3150*, error: ../data/raw/courts.delaware.gov/forms/b128326e49e758f02bf10a449083ffb9.pdf\n",
      "3151*, error: ../data/raw/courts.delaware.gov/forms/552b546df098cfcf37811eea7b732153.pdf\n",
      "3152*, error: ../data/raw/courts.delaware.gov/forms/bdbf7f9320e4c33c21c35d3ca7067a12.pdf\n",
      "3153*, error: ../data/raw/courts.delaware.gov/forms/7488c3dae9dcefe5c5b99525be1730c1.pdf\n",
      "3154*, error: ../data/raw/courts.delaware.gov/forms/006e39826d97cba213915fb1dfc54753.pdf\n",
      "3155*, error: ../data/raw/courts.delaware.gov/forms/ac5089356721ed52a961d847f664af47.pdf\n",
      "3156*, error: ../data/raw/courts.delaware.gov/forms/011ac902925e320557b7532056dca656.pdf\n",
      "3157*, error: ../data/raw/courts.delaware.gov/forms/3e4281aed308445bc46e4f854cdb3e11.pdf\n",
      "3158*, error: ../data/raw/courts.delaware.gov/forms/0cb22eb75a73853c0f9d1483c04d58b0.pdf\n",
      "3159*, error: ../data/raw/courts.delaware.gov/forms/790522a6b141423aaccec2bc8bc21a76.pdf\n",
      "3160*, error: ../data/raw/courts.delaware.gov/forms/0682e62f2d1bedba009d046cc1803417.pdf\n",
      "3161*, error: ../data/raw/courts.delaware.gov/forms/d483ed51adb84cfe1084ec4f0edfbe14.pdf\n",
      "3162*, error: ../data/raw/courts.delaware.gov/forms/966efdffb9088e3c0f0dd066fa438f11.pdf\n",
      "3163*, error: ../data/raw/courts.delaware.gov/forms/f7aeca607150f5c94cdfed67b61b7657.pdf\n",
      "3164*, error: ../data/raw/courts.delaware.gov/forms/8fe793ffaf60a126e9bf93cc2d790ccc.pdf\n",
      "3165*, error: ../data/raw/courts.delaware.gov/forms/d7b8ac725773d67d1bd8e36628e9284e.pdf\n",
      "3166*, error: ../data/raw/courts.delaware.gov/forms/d983517db4cb01d0cd7a47efe3ad1318.pdf\n",
      "3167*, error: ../data/raw/courts.delaware.gov/forms/5ef973253658db4e591d3b32d1f5a029.pdf\n",
      "3168*, error: ../data/raw/courts.delaware.gov/forms/db433717cd714d44bb6f3144c51e61b1.pdf\n",
      "3169*, error: ../data/raw/courts.delaware.gov/forms/b3aa945fe1f21d92f714a2970915a029.pdf\n",
      "3170*, error: ../data/raw/courts.delaware.gov/forms/8e8afb7f01ea1ed9277b517dcc034c8f.pdf\n",
      "3171*, error: ../data/raw/courts.delaware.gov/forms/01337eeade00c83684589e2fcfcd71b8.pdf\n",
      "3172*, error: ../data/raw/courts.delaware.gov/forms/b83cdb48bbf74651ae1d5f62efc768e1.pdf\n"
     ]
    },
    {
     "name": "stdout",
     "output_type": "stream",
     "text": [
      "3173*, 3174*, error: ../data/raw/courts.delaware.gov/forms/2d310b1c881767016d9071cb535cc7a9.pdf\n",
      "3175*, 3176*, 3177*, error: ../data/raw/courts.delaware.gov/forms/a6bbb54068c0ee58dbf974f148ed2f5e.pdf\n",
      "3178*, error: ../data/raw/courts.delaware.gov/forms/70908820105ec1965d817572ac730ddc.pdf\n",
      "3179*, error: ../data/raw/courts.delaware.gov/forms/c330143f00d6b96670de895b3edf4172.pdf\n",
      "3180*, error: ../data/raw/courts.delaware.gov/forms/518515def54d6ba02b036ce1fe163fe0.pdf\n",
      "3181*, error: ../data/raw/courts.delaware.gov/forms/966efdffb9088e3c0f0dd066fa438f11.pdf\n",
      "3182*, error: ../data/raw/courts.delaware.gov/forms/2d310b1c881767016d9071cb535cc7a9.pdf\n",
      "3183*, error: ../data/raw/courts.delaware.gov/forms/552b546df098cfcf37811eea7b732153.pdf\n",
      "3184*, error: ../data/raw/courts.delaware.gov/forms/7488c3dae9dcefe5c5b99525be1730c1.pdf\n",
      "3185*, error: ../data/raw/courts.delaware.gov/forms/d52173174aa3798e0672ee289db7696f.pdf\n",
      "3186*, error: ../data/raw/courts.delaware.gov/forms/06d4eabb948b86292d0458c4ecc830da.pdf\n",
      "3187*, error: ../data/raw/courts.delaware.gov/forms/a283b07c242f2feb6dc4623ca73b28ae.pdf\n",
      "3188*, error: ../data/raw/courts.delaware.gov/forms/0e6c843917b57122f66dc04ae7f15d0f.pdf\n",
      "3189*, error: ../data/raw/courts.delaware.gov/forms/95d290ff111ed7a70ed867e36aa0b60e.pdf\n",
      "3190*, error: ../data/raw/courts.delaware.gov/forms/7cad5104960ba5ecaf11809bab1f3de5.pdf\n",
      "3191*, error: ../data/raw/courts.delaware.gov/forms/65e5fb7ba8d915660ddc09d7f5d1d210.pdf\n",
      "3192*, error: ../data/raw/courts.delaware.gov/forms/10f0c890ba68c8bba218b6d82f122eea.pdf\n",
      "3193*, error: ../data/raw/courts.delaware.gov/forms/e9662ccd7252908f932096bc89d1c9ce.pdf\n",
      "3194*, 3195*, 3196*, error: ../data/raw/courts.delaware.gov/forms/966efdffb9088e3c0f0dd066fa438f11.pdf\n",
      "3197*, error: ../data/raw/courts.delaware.gov/forms/7488c3dae9dcefe5c5b99525be1730c1.pdf\n",
      "3198*, 3199*, 3200*, 3201*, 3202*, 3203*, 3204*, 3205*, 3206*, error: ../data/raw/courts.delaware.gov/forms/9ea291277f9be6bc47703cab8742ed75.pdf\n",
      "3207*, error: ../data/raw/courts.delaware.gov/forms/d52173174aa3798e0672ee289db7696f.pdf\n",
      "3208*, error: ../data/raw/courts.delaware.gov/forms/c023e853c637e279ce9140f9ef5b8ff1.pdf\n",
      "3209*, error: ../data/raw/courts.delaware.gov/forms/06d4eabb948b86292d0458c4ecc830da.pdf\n",
      "3210*, error: ../data/raw/courts.delaware.gov/forms/95d290ff111ed7a70ed867e36aa0b60e.pdf\n",
      "3211*, error: ../data/raw/courts.delaware.gov/forms/c87803e418dca153b172a2acec466401.pdf\n",
      "3212*, error: ../data/raw/courts.delaware.gov/forms/2ad1932c94e4c460dd4c452f67ac67f6.pdf\n",
      "3213*, error: ../data/raw/courts.delaware.gov/forms/9859b2aae712ba5a73a6477219d13cf6.pdf\n",
      "3214*, error: ../data/raw/courts.delaware.gov/forms/4c84972c23919f8cb35097b37a42a45c.pdf\n",
      "3215*, error: ../data/raw/courts.delaware.gov/forms/aab1599ab96171dc47bbaf6e2a85544f.pdf\n",
      "3216*, 3217*, error: ../data/raw/courts.delaware.gov/forms/ddd9ae89643220843d013181bf5c7f8f.pdf\n",
      "3218*, error: ../data/raw/courts.delaware.gov/forms/a80fe2d95df3ccc0624d88e95875a381.pdf\n",
      "3219*, error: ../data/raw/courts.delaware.gov/forms/7179413949007613701ebf7657afb436.pdf\n",
      "3220*, 3221*, 3222*, error: ../data/raw/courts.delaware.gov/forms/df95d8e8e35137222e7265e976deb463.pdf\n",
      "3223*, error: ../data/raw/courts.delaware.gov/forms/a2ac6dfc913bceea355b46a1e73389e6.pdf\n",
      "3224*, error: ../data/raw/courts.delaware.gov/forms/814b2dd49dfa8eaf3a375c1635e67706.pdf\n",
      "3225*, 3226*, error: ../data/raw/courts.delaware.gov/forms/cf0057e7d615af5fc1250c4d278e52f9.pdf\n",
      "3227*, 3228*, 3229*, error: ../data/raw/courts.delaware.gov/forms/f090c407f46187948bfbb9725bd4a2a4.pdf\n",
      "3230*, 3231*, error: ../data/raw/courts.delaware.gov/forms/57c95c961388e070bdef131556e12ad2.pdf\n",
      "3232*, error: ../data/raw/courts.delaware.gov/forms/c0f55491766490e9d7d9795c59f20d85.pdf\n",
      "3233*, error: ../data/raw/courts.delaware.gov/forms/9be2e4dc1c33f249d6a550c7aec4c979.pdf\n",
      "3234*, error: ../data/raw/courts.delaware.gov/forms/791586aef3c00b55e0db5635214c29a3.pdf\n",
      "3235*, error: ../data/raw/courts.delaware.gov/forms/d6c5714a30dae50395f68cbb317cc4a7.pdf\n",
      "3236*, error: ../data/raw/courts.delaware.gov/forms/28770ef8d389243bba2dec7ac5d2e088.pdf\n",
      "3237*, error: ../data/raw/courts.delaware.gov/forms/a80fe2d95df3ccc0624d88e95875a381.pdf\n",
      "3238*, error: ../data/raw/courts.delaware.gov/forms/7179413949007613701ebf7657afb436.pdf\n",
      "3239*, error: ../data/raw/courts.delaware.gov/forms/f9737664198ffbe9cea504d475683ee0.pdf\n",
      "3240*, error: ../data/raw/courts.delaware.gov/forms/7489ec26e7d89efa9ee9cbce9151946e.pdf\n",
      "3241*, error: ../data/raw/courts.delaware.gov/forms/1ba7c93a6af82e72be4e618473d23307.pdf\n",
      "3242*, 3243*, error: ../data/raw/courts.delaware.gov/forms/966efdffb9088e3c0f0dd066fa438f11.pdf\n",
      "3244*, error: ../data/raw/courts.delaware.gov/forms/bb2ac16f3cc5a30a7b1b01d0e56a8b45.pdf\n",
      "3245*, error: ../data/raw/courts.delaware.gov/forms/1439d1a62f3757013e8792c745359814.pdf\n",
      "3246*, error: ../data/raw/courts.delaware.gov/forms/801a4e00fedcfbfc0119f2dda0ca525c.pdf\n",
      "3247*, error: ../data/raw/courts.delaware.gov/forms/4c026a0ebe02b4587a891fe35541b3b9.pdf\n",
      "3248*, "
     ]
    },
    {
     "name": "stderr",
     "output_type": "stream",
     "text": [
      "PdfReadWarning: Xref table not zero-indexed. ID numbers for objects will be corrected. [pdf.py:1736]\n"
     ]
    },
    {
     "name": "stdout",
     "output_type": "stream",
     "text": [
      "3249*, 3250*, error: ../data/raw/courts.delaware.gov/forms/a2ac6dfc913bceea355b46a1e73389e6.pdf\n",
      "3251*, error: ../data/raw/courts.delaware.gov/forms/814b2dd49dfa8eaf3a375c1635e67706.pdf\n",
      "3252*, error: ../data/raw/courts.delaware.gov/forms/eb6ae29ebb24de917afe45bc2b9695bb.pdf\n",
      "3253*, error: ../data/raw/courts.delaware.gov/forms/eb2e1e98aa70f6f12108107390711568.pdf\n",
      "3254*, 3255*, error: ../data/raw/courts.delaware.gov/forms/27aa33def976784b707f70f892cd7656.pdf\n",
      "3256*, error: ../data/raw/courts.delaware.gov/forms/90f11192385477ceaa6ff92d38715d9f.pdf\n",
      "3257*, error: ../data/raw/courts.delaware.gov/forms/99ba9b8d94dc2a2cd08e7290d5614bc9.pdf\n",
      "3258*, error: ../data/raw/courts.delaware.gov/forms/c96ba4f567f8a5ecf3ad9bc290238441.pdf\n",
      "3259*, error: ../data/raw/courts.delaware.gov/forms/1fa5a157675869760cf6f00424a0ee16.pdf\n",
      "3260*, error: ../data/raw/courts.delaware.gov/forms/11d90c6f5c6a162a5fe6f50977fbc23b.pdf\n",
      "3261*, error: ../data/raw/courts.delaware.gov/forms/b2eb1c9783412942111569a301c26b2e.pdf\n",
      "3262*, 3263*, error: ../data/raw/courts.delaware.gov/forms/c1d9d03c8a025c4d962f3f7b5da1c94c.pdf\n",
      "3264*, error: ../data/raw/courts.delaware.gov/forms/b917dea6dd7a033ad003df1ff7d9a909.pdf\n",
      "3265*, error: ../data/raw/courts.delaware.gov/forms/ac5089356721ed52a961d847f664af47.pdf\n",
      "3266*, error: ../data/raw/courts.delaware.gov/forms/011ac902925e320557b7532056dca656.pdf\n",
      "3267*, error: ../data/raw/courts.delaware.gov/forms/3e4281aed308445bc46e4f854cdb3e11.pdf\n",
      "3268*, error: ../data/raw/courts.delaware.gov/forms/0cb22eb75a73853c0f9d1483c04d58b0.pdf\n",
      "3269*, error: ../data/raw/courts.delaware.gov/forms/d483ed51adb84cfe1084ec4f0edfbe14.pdf\n",
      "3270*, error: ../data/raw/courts.delaware.gov/forms/315423a1237f73b7795c317d9c21a723.pdf\n",
      "3271*, error: ../data/raw/courts.delaware.gov/forms/9326acdbc7422f702c3cc1d4a10cdf26.pdf\n",
      "3272*, error: ../data/raw/courts.delaware.gov/forms/9a2c064d50620e8439f77f869577df0c.pdf\n",
      "3273*, error: ../data/raw/courts.delaware.gov/forms/e43d67ae90e7623dfe8a5ab6508e55dc.pdf\n",
      "3274*, error: ../data/raw/courts.delaware.gov/forms/cdee2590d7504ebcaba44b1b90064973.pdf\n",
      "3275*, error: ../data/raw/courts.delaware.gov/forms/02220319524326397a88f2fc3a6da689.pdf\n",
      "3276*, 3277*, error: ../data/raw/courts.delaware.gov/forms/fed504a9a20a2bdeb3d43a7bbbb2bcd8.pdf\n",
      "3278*, error: ../data/raw/courts.delaware.gov/forms/966efdffb9088e3c0f0dd066fa438f11.pdf\n",
      "3279*, error: ../data/raw/courts.delaware.gov/forms/f7aeca607150f5c94cdfed67b61b7657.pdf\n",
      "3280*, error: ../data/raw/courts.delaware.gov/forms/c78f85e14a6bb0985192b739e806ede4.pdf\n",
      "3281*, error: ../data/raw/courts.delaware.gov/forms/d7b8ac725773d67d1bd8e36628e9284e.pdf\n",
      "3282*, error: ../data/raw/courts.delaware.gov/forms/d983517db4cb01d0cd7a47efe3ad1318.pdf\n",
      "3283*, error: ../data/raw/courts.delaware.gov/forms/f88a596b4cb7b2a4bb558cb2b4ea501d.pdf\n",
      "3284*, error: ../data/raw/courts.delaware.gov/forms/5ef973253658db4e591d3b32d1f5a029.pdf\n",
      "3285*, error: ../data/raw/courts.delaware.gov/forms/3268b2a8cca157ebbf96acf86430c05c.pdf\n",
      "3286*, 3287*, error: ../data/raw/courts.delaware.gov/forms/4bbe1c38c8550f4c377041f8c39686f8.pdf\n",
      "3288*, error: ../data/raw/courts.delaware.gov/forms/808ca730a7fdfd0c155cf54096285126.pdf\n",
      "3289*, error: ../data/raw/courts.delaware.gov/forms/fb776ef838cfdd4299d97cf38ee89e24.pdf\n",
      "3290*, error: ../data/raw/courts.delaware.gov/forms/c369450a9d620a777828a6936adcfaf1.pdf\n",
      "3291*, error: ../data/raw/courts.delaware.gov/forms/4cba384a8526439484c6f7a327d877ff.pdf\n",
      "3292*, error: ../data/raw/courts.delaware.gov/forms/425e3052e3ee9ccf06a614a26b76e6e5.pdf\n",
      "3293*, 3294*, error: ../data/raw/courts.delaware.gov/forms/45867d01405b22855351a2f842856123.pdf\n",
      "3295*, error: ../data/raw/courts.delaware.gov/forms/81eebc4d0c863bdcf69c503ce081e0c2.pdf\n",
      "3296*, error: ../data/raw/courts.delaware.gov/forms/5121ab2ec679045ab5e5a9d327a5f710.pdf\n",
      "3297*, 3298*, error: ../data/raw/courts.delaware.gov/forms/352d1fa77a8f6e3cca7cdcf17f0cbfdb.pdf\n",
      "3299*, 3300*, 3301*, 3302*, 3303*, 3304*, error: ../data/raw/courts.delaware.gov/forms/e05eff4a644d1cf686574aae5905d6cf.pdf\n",
      "3305*, error: ../data/raw/courts.delaware.gov/forms/9ea291277f9be6bc47703cab8742ed75.pdf\n",
      "3306*, 3307*, "
     ]
    },
    {
     "name": "stderr",
     "output_type": "stream",
     "text": [
      "PdfReadWarning: Xref table not zero-indexed. ID numbers for objects will be corrected. [pdf.py:1736]\n"
     ]
    },
    {
     "name": "stdout",
     "output_type": "stream",
     "text": [
      "3308*, 3309*, error: ../data/raw/courts.delaware.gov/forms/e6244ab97bae9e6b75f179b07348b432.pdf\n",
      "3310*, error: ../data/raw/courts.delaware.gov/forms/16f9a5eb11dc08132f866310b8b5e3a3.pdf\n",
      "3311*, error: ../data/raw/courts.delaware.gov/forms/1ae061ef4f5c1fc0b2c2a747431f0134.pdf\n",
      "3312*, 3313*, 3314*, error: ../data/raw/courts.delaware.gov/forms/eb6ae29ebb24de917afe45bc2b9695bb.pdf\n",
      "3315*, 3316*, 3317*, 3318*, error: ../data/raw/courts.delaware.gov/forms/048136c880d3cc35c7bcbd80b2e3f594.pdf\n",
      "3319*, 3320*, 3321*, 3322*, 3323*, error: ../data/raw/courts.delaware.gov/forms/e6244ab97bae9e6b75f179b07348b432.pdf\n",
      "3324*, error: ../data/raw/courts.delaware.gov/forms/b0e3430197c79fd8e8c251452194fae6.pdf\n",
      "3325*, error: ../data/raw/courts.delaware.gov/forms/d1f7bd722f5a90afbccf4488b3c6ca2a.pdf\n",
      "3326*, error: ../data/raw/courts.delaware.gov/forms/791586aef3c00b55e0db5635214c29a3.pdf\n",
      "3327*, error: ../data/raw/courts.delaware.gov/forms/ddeb0475468fa060289c9e23e412650e.pdf\n",
      "3328*, error: ../data/raw/courts.delaware.gov/forms/d6c5714a30dae50395f68cbb317cc4a7.pdf\n",
      "3329*, error: ../data/raw/courts.delaware.gov/forms/28770ef8d389243bba2dec7ac5d2e088.pdf\n",
      "3330*, 3331*, 3332*, error: ../data/raw/courts.delaware.gov/forms/2b23ef1cd8f129e230c02790dceca4fd.pdf\n",
      "3333*, error: ../data/raw/courts.delaware.gov/forms/291a8338fc6957b1e310316ff7d12276.pdf\n",
      "3334*, error: ../data/raw/courts.delaware.gov/forms/cdf05d458719921eeb74e774d00da4c1.pdf\n",
      "3335*, 3336*, 3337*, 3338*, 3339*, 3340*, error: ../data/raw/courts.delaware.gov/forms/4f094737b833e984abc6900975d3148c.pdf\n",
      "3341*, 3342*, error: ../data/raw/courts.delaware.gov/forms/966efdffb9088e3c0f0dd066fa438f11.pdf\n",
      "3343*, error: ../data/raw/courts.delaware.gov/forms/27aa33def976784b707f70f892cd7656.pdf\n",
      "3344*, error: ../data/raw/courts.delaware.gov/forms/42be5af5e7d463651e3a666525c3cd03.pdf\n",
      "3345*, error: ../data/raw/courts.delaware.gov/forms/67c0339a2d42a426adb8302e1166d677.pdf\n",
      "3346*, error: ../data/raw/courts.delaware.gov/forms/da1c6ab8fb24aacf875be246404881ff.pdf\n",
      "3347*, error: ../data/raw/courts.delaware.gov/forms/9594a5632bbb1549a9360a8d8d7f365b.pdf\n",
      "3348*, error: ../data/raw/courts.delaware.gov/forms/14ca965d8f32b993ac9603903b54ec78.pdf\n",
      "3349*, error: ../data/raw/courts.delaware.gov/forms/de74aa51b2bcd36ad588b3f241205ce2.pdf\n",
      "3350*, error: ../data/raw/courts.delaware.gov/forms/fbd0ae24f702bc381928192ebc6c6fa2.pdf\n",
      "3351*, error: ../data/raw/courts.delaware.gov/forms/d51b33e78965aa99feb921eee44413a2.pdf\n",
      "3352*, error: ../data/raw/courts.delaware.gov/forms/1788397f1d240ffa840fb79bc8c3f0e3.pdf\n",
      "3353*, error: ../data/raw/courts.delaware.gov/forms/7488c3dae9dcefe5c5b99525be1730c1.pdf\n",
      "3354*, error: ../data/raw/courts.delaware.gov/forms/b031b37a34073d707adb6b5134c77e66.pdf\n",
      "3355*, error: ../data/raw/courts.delaware.gov/forms/162bd79d59905a1dfa07aa01229a844c.pdf\n",
      "3356*, 3357*, 3358*, error: ../data/raw/courts.delaware.gov/forms/ba8018b41ab2680d3b73eb86adcbb2a4.pdf\n",
      "3359*, 3360*, 3361*, 3362*, error: ../data/raw/courts.delaware.gov/forms/7c9cc32a8dd6603fe4f09e33093ddce0.pdf\n",
      "3363*, error: ../data/raw/courts.delaware.gov/forms/06d4eabb948b86292d0458c4ecc830da.pdf\n",
      "3364*, error: ../data/raw/courts.delaware.gov/forms/a68ae5f89175e31ec8a66483413ede53.pdf\n",
      "3365*, error: ../data/raw/courts.delaware.gov/forms/b917dea6dd7a033ad003df1ff7d9a909.pdf\n",
      "3366*, error: ../data/raw/courts.delaware.gov/forms/3e4281aed308445bc46e4f854cdb3e11.pdf\n",
      "3367*, error: ../data/raw/courts.delaware.gov/forms/0cb22eb75a73853c0f9d1483c04d58b0.pdf\n",
      "3368*, error: ../data/raw/courts.delaware.gov/forms/d483ed51adb84cfe1084ec4f0edfbe14.pdf\n",
      "3369*, error: ../data/raw/courts.delaware.gov/forms/966efdffb9088e3c0f0dd066fa438f11.pdf\n",
      "3370*, error: ../data/raw/courts.delaware.gov/forms/f7aeca607150f5c94cdfed67b61b7657.pdf\n",
      "3371*, error: ../data/raw/courts.delaware.gov/forms/0c7951f091593e42397333b645b733a9.pdf\n",
      "3372*, error: ../data/raw/courts.delaware.gov/forms/880ae0c0aeb6d26ea1bb8bd64320b4f0.pdf\n",
      "3373*, error: ../data/raw/courts.delaware.gov/forms/d7b8ac725773d67d1bd8e36628e9284e.pdf\n",
      "3374*, error: ../data/raw/courts.delaware.gov/forms/d983517db4cb01d0cd7a47efe3ad1318.pdf\n",
      "3375*, error: ../data/raw/courts.delaware.gov/forms/8e8afb7f01ea1ed9277b517dcc034c8f.pdf\n",
      "3376*, error: ../data/raw/courts.delaware.gov/forms/01337eeade00c83684589e2fcfcd71b8.pdf\n",
      "3377*, error: ../data/raw/courts.delaware.gov/forms/fe50229e22cd25b501a4a3b092fd9bf2.pdf\n",
      "3378*, error: ../data/raw/courts.delaware.gov/forms/c7eee4d9943d4cffe2eeba93b15d94a9.pdf\n",
      "3379*, error: ../data/raw/courts.delaware.gov/forms/2d310b1c881767016d9071cb535cc7a9.pdf\n",
      "3380*, 3381*, 3382*, error: ../data/raw/courts.delaware.gov/forms/4c1f9ac98369d683ef958af5002e208b.pdf\n",
      "3383*, error: ../data/raw/courts.delaware.gov/forms/552b546df098cfcf37811eea7b732153.pdf\n",
      "3384*, error: ../data/raw/courts.delaware.gov/forms/7488c3dae9dcefe5c5b99525be1730c1.pdf\n",
      "3385*, error: ../data/raw/courts.delaware.gov/forms/d52173174aa3798e0672ee289db7696f.pdf\n",
      "3386*, error: ../data/raw/courts.delaware.gov/forms/c023e853c637e279ce9140f9ef5b8ff1.pdf\n",
      "3387*, error: ../data/raw/courts.delaware.gov/forms/77797752d177039f7b00fd37d449156b.pdf\n",
      "3388*, error: ../data/raw/courts.delaware.gov/forms/b65e77cf89286125e8c4c53d138e4969.pdf\n",
      "3389*, error: ../data/raw/courts.delaware.gov/forms/06d4eabb948b86292d0458c4ecc830da.pdf\n",
      "3390*, error: ../data/raw/courts.delaware.gov/forms/006e39826d97cba213915fb1dfc54753.pdf\n",
      "3391*, error: ../data/raw/courts.delaware.gov/forms/0224c0ef5a84d9e4fc0a379e5da7c5a1.pdf\n",
      "3392*, error: ../data/raw/courts.delaware.gov/forms/b917dea6dd7a033ad003df1ff7d9a909.pdf\n",
      "3393*, error: ../data/raw/courts.delaware.gov/forms/f88aed1815fc7eb420dd15a1e6293cba.pdf\n",
      "3394*, error: ../data/raw/courts.delaware.gov/forms/c330143f00d6b96670de895b3edf4172.pdf\n",
      "3395*, error: ../data/raw/courts.delaware.gov/forms/518515def54d6ba02b036ce1fe163fe0.pdf\n",
      "3396*, error: ../data/raw/courts.delaware.gov/forms/fa8a3dff7300aaf7b85cd15eb0311b37.pdf\n",
      "3397*, error: ../data/raw/courts.delaware.gov/forms/966efdffb9088e3c0f0dd066fa438f11.pdf\n",
      "3398*, error: ../data/raw/courts.delaware.gov/forms/f7aeca607150f5c94cdfed67b61b7657.pdf\n",
      "3399*, error: ../data/raw/courts.delaware.gov/forms/b884814a39d424222e7c76f89037576d.pdf\n",
      "3400*, error: ../data/raw/courts.delaware.gov/forms/d7b8ac725773d67d1bd8e36628e9284e.pdf\n",
      "3401*, error: ../data/raw/courts.delaware.gov/forms/d983517db4cb01d0cd7a47efe3ad1318.pdf\n",
      "3402*, error: ../data/raw/courts.delaware.gov/forms/8e8afb7f01ea1ed9277b517dcc034c8f.pdf\n",
      "3403*, error: ../data/raw/courts.delaware.gov/forms/01337eeade00c83684589e2fcfcd71b8.pdf\n",
      "3404*, error: ../data/raw/courts.delaware.gov/forms/fe56391960545990b9edf88f02bc6629.pdf\n",
      "3405*, error: ../data/raw/courts.delaware.gov/forms/2d310b1c881767016d9071cb535cc7a9.pdf\n",
      "3406*, error: ../data/raw/courts.delaware.gov/forms/552b546df098cfcf37811eea7b732153.pdf\n",
      "3407*, 3408*, 3409*, error: ../data/raw/courts.delaware.gov/forms/7488c3dae9dcefe5c5b99525be1730c1.pdf\n",
      "3410*, error: ../data/raw/courts.delaware.gov/forms/d52173174aa3798e0672ee289db7696f.pdf\n",
      "3411*, error: ../data/raw/courts.delaware.gov/forms/c023e853c637e279ce9140f9ef5b8ff1.pdf\n",
      "3412*, error: ../data/raw/courts.delaware.gov/forms/77797752d177039f7b00fd37d449156b.pdf\n",
      "3413*, error: ../data/raw/courts.delaware.gov/forms/b65e77cf89286125e8c4c53d138e4969.pdf\n",
      "3414*, error: ../data/raw/courts.delaware.gov/forms/06d4eabb948b86292d0458c4ecc830da.pdf\n",
      "3415*, 3416*, error: ../data/raw/courts.delaware.gov/forms/eb6ae29ebb24de917afe45bc2b9695bb.pdf\n",
      "3417*, 3418*, 3419*, "
     ]
    },
    {
     "name": "stderr",
     "output_type": "stream",
     "text": [
      "PdfReadWarning: Xref table not zero-indexed. ID numbers for objects will be corrected. [pdf.py:1736]\n"
     ]
    },
    {
     "name": "stdout",
     "output_type": "stream",
     "text": [
      "3420*, 3421*, 3422*, error: ../data/raw/courts.delaware.gov/forms/b7c0bce22d16963715e6206a435da65c.pdf\n",
      "3423*, 3424*, error: ../data/raw/courts.delaware.gov/forms/a89500065ff0132f3f1e342d45dbbfbb.pdf\n",
      "3425*, error: ../data/raw/courts.delaware.gov/forms/3864d1da884f58acd4b577ee9d0712df.pdf\n",
      "3426*, 3427*, 3428*, error: ../data/raw/courts.delaware.gov/forms/d1f7bd722f5a90afbccf4488b3c6ca2a.pdf\n",
      "3429*, error: ../data/raw/courts.delaware.gov/forms/78124d42d059c9ba27b59ffa4659bb7a.pdf\n",
      "3430*, error: ../data/raw/courts.delaware.gov/forms/791586aef3c00b55e0db5635214c29a3.pdf\n",
      "3431*, error: ../data/raw/courts.delaware.gov/forms/d6c5714a30dae50395f68cbb317cc4a7.pdf\n",
      "3432*, error: ../data/raw/courts.delaware.gov/forms/28770ef8d389243bba2dec7ac5d2e088.pdf\n",
      "3433*, error: ../data/raw/courts.delaware.gov/forms/006e39826d97cba213915fb1dfc54753.pdf\n",
      "3434*, error: ../data/raw/courts.delaware.gov/forms/b917dea6dd7a033ad003df1ff7d9a909.pdf\n",
      "3435*, error: ../data/raw/courts.delaware.gov/forms/ac5089356721ed52a961d847f664af47.pdf\n",
      "3436*, error: ../data/raw/courts.delaware.gov/forms/011ac902925e320557b7532056dca656.pdf\n",
      "3437*, error: ../data/raw/courts.delaware.gov/forms/bb916cce461190dd64b54710ef2eed0d.pdf\n",
      "3438*, error: ../data/raw/courts.delaware.gov/forms/3e4281aed308445bc46e4f854cdb3e11.pdf\n",
      "3439*, error: ../data/raw/courts.delaware.gov/forms/0cb22eb75a73853c0f9d1483c04d58b0.pdf\n",
      "3440*, error: ../data/raw/courts.delaware.gov/forms/6d7e9bbd04e483e8556f5d51197d4100.pdf\n",
      "3441*, error: ../data/raw/courts.delaware.gov/forms/966efdffb9088e3c0f0dd066fa438f11.pdf\n",
      "3442*, error: ../data/raw/courts.delaware.gov/forms/f7aeca607150f5c94cdfed67b61b7657.pdf\n",
      "3443*, error: ../data/raw/courts.delaware.gov/forms/0c7951f091593e42397333b645b733a9.pdf\n",
      "3444*, error: ../data/raw/courts.delaware.gov/forms/b884814a39d424222e7c76f89037576d.pdf\n",
      "3445*, error: ../data/raw/courts.delaware.gov/forms/95acfff929c5bb1170defb00f7a02f78.pdf\n",
      "3446*, error: ../data/raw/courts.delaware.gov/forms/d7b8ac725773d67d1bd8e36628e9284e.pdf\n",
      "3447*, error: ../data/raw/courts.delaware.gov/forms/d983517db4cb01d0cd7a47efe3ad1318.pdf\n",
      "3448*, error: ../data/raw/courts.delaware.gov/forms/5ef973253658db4e591d3b32d1f5a029.pdf\n",
      "3449*, error: ../data/raw/courts.delaware.gov/forms/db433717cd714d44bb6f3144c51e61b1.pdf\n",
      "3450*, error: ../data/raw/courts.delaware.gov/forms/b3aa945fe1f21d92f714a2970915a029.pdf\n",
      "3451*, error: ../data/raw/courts.delaware.gov/forms/8e8afb7f01ea1ed9277b517dcc034c8f.pdf\n",
      "3452*, error: ../data/raw/courts.delaware.gov/forms/01337eeade00c83684589e2fcfcd71b8.pdf\n",
      "3453*, error: ../data/raw/courts.delaware.gov/forms/c7eee4d9943d4cffe2eeba93b15d94a9.pdf\n",
      "3454*, error: ../data/raw/courts.delaware.gov/forms/061b3131439a700b2b19566a2c20741d.pdf\n",
      "3455*, error: ../data/raw/courts.delaware.gov/forms/3a75db941166312a0152974ff4cdde23.pdf\n",
      "3456*, 3457*, error: ../data/raw/courts.delaware.gov/forms/2d310b1c881767016d9071cb535cc7a9.pdf\n",
      "3458*, error: ../data/raw/courts.delaware.gov/forms/966efdffb9088e3c0f0dd066fa438f11.pdf\n",
      "3459*, 3460*, error: ../data/raw/courts.delaware.gov/forms/c53b886be5a4392ca52df7220901f967.pdf\n",
      "3461*, "
     ]
    },
    {
     "name": "stderr",
     "output_type": "stream",
     "text": [
      "PdfReadWarning: Xref table not zero-indexed. ID numbers for objects will be corrected. [pdf.py:1736]\n"
     ]
    },
    {
     "name": "stdout",
     "output_type": "stream",
     "text": [
      "3462*, "
     ]
    },
    {
     "name": "stderr",
     "output_type": "stream",
     "text": [
      "PdfReadWarning: Xref table not zero-indexed. ID numbers for objects will be corrected. [pdf.py:1736]\n"
     ]
    },
    {
     "name": "stdout",
     "output_type": "stream",
     "text": [
      "3463*, 3464*, error: ../data/raw/courts.delaware.gov/forms/e32ea0a50fff115fb94f0d1f2b7ff789.pdf\n",
      "3465*, error: ../data/raw/courts.delaware.gov/forms/006e39826d97cba213915fb1dfc54753.pdf\n",
      "3466*, error: ../data/raw/courts.delaware.gov/forms/b917dea6dd7a033ad003df1ff7d9a909.pdf\n",
      "3467*, error: ../data/raw/courts.delaware.gov/forms/ac5089356721ed52a961d847f664af47.pdf\n",
      "3468*, error: ../data/raw/courts.delaware.gov/forms/011ac902925e320557b7532056dca656.pdf\n",
      "3469*, error: ../data/raw/courts.delaware.gov/forms/3e4281aed308445bc46e4f854cdb3e11.pdf\n",
      "3470*, error: ../data/raw/courts.delaware.gov/forms/0cb22eb75a73853c0f9d1483c04d58b0.pdf\n",
      "3471*, error: ../data/raw/courts.delaware.gov/forms/0c7951f091593e42397333b645b733a9.pdf\n",
      "3472*, error: ../data/raw/courts.delaware.gov/forms/5ef973253658db4e591d3b32d1f5a029.pdf\n",
      "3473*, error: ../data/raw/courts.delaware.gov/forms/8e8afb7f01ea1ed9277b517dcc034c8f.pdf\n",
      "3474*, error: ../data/raw/courts.delaware.gov/forms/01337eeade00c83684589e2fcfcd71b8.pdf\n",
      "3475*, error: ../data/raw/courts.delaware.gov/forms/2d310b1c881767016d9071cb535cc7a9.pdf\n",
      "3476*, error: ../data/raw/courts.delaware.gov/forms/eac8209a737024970766f21b0875d764.pdf\n",
      "3477*, error: ../data/raw/courts.delaware.gov/forms/b128326e49e758f02bf10a449083ffb9.pdf\n",
      "3478*, error: ../data/raw/courts.delaware.gov/forms/552b546df098cfcf37811eea7b732153.pdf\n",
      "3479*, error: ../data/raw/courts.delaware.gov/forms/bdbf7f9320e4c33c21c35d3ca7067a12.pdf\n",
      "3480*, error: ../data/raw/courts.delaware.gov/forms/77797752d177039f7b00fd37d449156b.pdf\n",
      "3481*, error: ../data/raw/courts.delaware.gov/forms/b65e77cf89286125e8c4c53d138e4969.pdf\n",
      "3482*, error: ../data/raw/courts.delaware.gov/forms/06d4eabb948b86292d0458c4ecc830da.pdf\n",
      "3483*, error: ../data/raw/courts.delaware.gov/forms/a597a1644f8953b29bacccb137333219.pdf\n",
      "3484*, error: ../data/raw/courts.delaware.gov/forms/01bc37f34767e4ebaaed330fd2be758c.pdf\n",
      "3485*, error: ../data/raw/courts.delaware.gov/forms/0e6c843917b57122f66dc04ae7f15d0f.pdf\n",
      "3486*, error: ../data/raw/courts.delaware.gov/forms/6eb4f9c8504ddba980e1651c4c1c78b4.pdf\n",
      "3487*, error: ../data/raw/courts.delaware.gov/forms/74dd3d906285087339576b2610fb5f33.pdf\n",
      "3488*, error: ../data/raw/courts.delaware.gov/forms/dfd520e2801e6eb36b142073691419d5.pdf\n",
      "3489*, error: ../data/raw/courts.delaware.gov/forms/57f0d70a30e84d89212a212f258b3e49.pdf\n",
      "3490*, error: ../data/raw/courts.delaware.gov/forms/78124d42d059c9ba27b59ffa4659bb7a.pdf\n",
      "3491*, 3492*, 3493*, 3494*, 3495*, 3496*, 3497*, 3498*, 3499*, 3500*, 3501*, 3502*, 3503*, 3504*, 3505*, 3506*, 3507*, 3508*, 3509*, 3510*, 3511*, 3512*, 3513*, 3514*, 3515*, 3516*, 3517*, 3518*, 3519*, 3520*, 3521*, 3522*, 3523*, 3524*, error: ../data/raw/www.courts.state.hi.us/forms/e6c16fa11acc23f3e9a869f03a5b315d.pdf\n",
      "3525*, 3526*, 3527*, 3528*, 3529*, 3530*, 3531*, 3532*, 3533*, 3534*, 3535*, 3536*, 3537*, 3538*, 3539*, 3540*, 3541*, 3542*, 3543*, 3544*, 3545*, 3546*, 3547*, 3548*, 3549*, 3550*, 3551*, 3552*, 3553*, 3554*, 3555*, 3556*, 3557*, 3558*, 3559*, 3560*, 3561*, 3562*, 3563*, 3564*, 3565*, 3566*, 3567*, 3568*, 3569*, 3570*, 3571*, 3572*, 3573*, 3574*, 3575*, 3576*, 3577*, 3578*, 3579*, 3580*, 3581*, 3582*, 3583*, 3584*, 3585*, 3586*, 3587*, 3588*, 3589*, 3590*, 3591*, 3592*, 3593*, 3594*, 3595*, 3596*, 3597*, 3598*, 3599*, 3600*, 3601*, 3602*, "
     ]
    },
    {
     "name": "stderr",
     "output_type": "stream",
     "text": [
      "PdfReadWarning: Xref table not zero-indexed. ID numbers for objects will be corrected. [pdf.py:1736]\n"
     ]
    },
    {
     "name": "stdout",
     "output_type": "stream",
     "text": [
      "3603*, 3604*, 3605*, 3606*, 3607*, 3608*, 3609*, 3610*, 3611*, 3612*, 3613*, 3614*, 3615*, 3616*, 3617*, 3618*, 3619*, 3620*, 3621*, 3622*, 3623*, 3624*, 3625*, 3626*, 3627*, 3628*, 3629*, 3630*, 3631*, 3632*, 3633*, 3634*, 3635*, 3636*, 3637*, 3638*, 3639*, 3640*, 3641*, 3642*, "
     ]
    },
    {
     "name": "stderr",
     "output_type": "stream",
     "text": [
      "PdfReadWarning: Xref table not zero-indexed. ID numbers for objects will be corrected. [pdf.py:1736]\n"
     ]
    },
    {
     "name": "stdout",
     "output_type": "stream",
     "text": [
      "3643*, 3644*, 3645*, 3646*, 3647*, 3648*, 3649*, 3650*, 3651*, 3652*, 3653*, 3654*, 3655*, 3656*, 3657*, 3658*, 3659*, 3660*, 3661*, 3662*, 3663*, 3664*, 3665*, 3666*, 3667*, 3668*, 3669*, 3670*, 3671*, 3672*, 3673*, 3674*, 3675*, 3676*, 3677*, 3678*, 3679*, 3680*, 3681*, 3682*, 3683*, 3684*, 3685*, 3686*, 3687*, 3688*, 3689*, 3690*, 3691*, 3692*, 3693*, 3694*, 3695*, 3696*, 3697*, 3698*, 3699*, 3700*, 3701*, 3702*, 3703*, 3704*, 3705*, 3706*, 3707*, 3708*, 3709*, 3710*, 3711*, 3712*, 3713*, 3714*, 3715*, 3716*, 3717*, 3718*, 3719*, 3720*, 3721*, 3722*, 3723*, 3724*, 3725*, 3726*, 3727*, 3728*, 3729*, 3730*, 3731*, 3732*, 3733*, 3734*, 3735*, 3736*, 3737*, 3738*, 3739*, 3740*, 3741*, 3742*, 3743*, 3744*, 3745*, 3746*, 3747*, 3748*, 3749*, 3750*, 3751*, 3752*, 3753*, 3754*, 3755*, 3756*, 3757*, 3758*, 3759*, 3760*, 3761*, 3762*, 3763*, 3764*, 3765*, 3766*, 3767*, 3768*, 3769*, 3770*, 3771*, 3772*, 3773*, 3774*, 3775*, 3776*, 3777*, 3778*, 3779*, 3780*, 3781*, 3782*, 3783*, 3784*, 3785*, 3786*, 3787*, 3788*, 3789*, 3790*, 3791*, 3792*, 3793*, 3794*, 3795*, 3796*, 3797*, 3798*, 3799*, 3800*, 3801*, 3802*, 3803*, 3804*, 3805*, 3806*, 3807*, 3808*, 3809*, 3810*, 3811*, 3812*, 3813*, 3814*, 3815*, 3816*, 3817*, 3818*, 3819*, 3820*, 3821*, 3822*, 3823*, 3824*, 3825*, 3826*, 3827*, 3828*, 3829*, 3830*, 3831*, 3832*, 3833*, 3834*, 3835*, 3836*, 3837*, 3838*, 3839*, 3840*, 3841*, 3842*, 3843*, 3844*, 3845*, 3846*, 3847*, 3848*, 3849*, 3850*, 3851*, "
     ]
    },
    {
     "name": "stderr",
     "output_type": "stream",
     "text": [
      "PdfReadWarning: Xref table not zero-indexed. ID numbers for objects will be corrected. [pdf.py:1736]\n"
     ]
    },
    {
     "name": "stdout",
     "output_type": "stream",
     "text": [
      "3852*, 3853*, 3854*, 3855*, 3856*, 3857*, 3858*, 3859*, 3860*, 3861*, 3862*, 3863*, 3864*, 3865*, 3866*, 3867*, 3868*, 3869*, 3870*, 3871*, 3872*, 3873*, 3874*, 3875*, 3876*, 3877*, 3878*, 3879*, 3880*, 3881*, 3882*, 3883*, 3884*, 3885*, "
     ]
    },
    {
     "name": "stderr",
     "output_type": "stream",
     "text": [
      "PdfReadWarning: Xref table not zero-indexed. ID numbers for objects will be corrected. [pdf.py:1736]\n"
     ]
    },
    {
     "name": "stdout",
     "output_type": "stream",
     "text": [
      "3886*, 3887*, 3888*, 3889*, 3890*, 3891*, 3892*, 3893*, 3894*, 3895*, 3896*, 3897*, 3898*, 3899*, 3900*, 3901*, 3902*, 3903*, 3904*, 3905*, 3906*, 3907*, 3908*, 3909*, 3910*, 3911*, 3912*, 3913*, 3914*, 3915*, 3916*, 3917*, 3918*, 3919*, 3920*, 3921*, 3922*, 3923*, 3924*, 3925*, 3926*, 3927*, 3928*, 3929*, 3930*, 3931*, 3932*, 3933*, 3934*, 3935*, 3936*, 3937*, 3938*, 3939*, 3940*, 3941*, 3942*, 3943*, 3944*, 3945*, 3946*, 3947*, 3948*, 3949*, 3950*, 3951*, 3952*, 3953*, 3954*, 3955*, 3956*, 3957*, 3958*, 3959*, 3960*, 3961*, 3962*, 3963*, 3964*, 3965*, 3966*, 3967*, 3968*, 3969*, 3970*, 3971*, 3972*, 3973*, 3974*, 3975*, 3976*, 3977*, 3978*, 3979*, 3980*, 3981*, 3982*, 3983*, 3984*, 3985*, 3986*, 3987*, 3988*, 3989*, 3990*, 3991*, 3992*, 3993*, 3994*, 3995*, 3996*, 3997*, 3998*, 3999*, 4000*, 4001*, 4002*, 4003*, 4004*, 4005*, 4006*, 4007*, 4008*, 4009*, 4010*, 4011*, 4012*, 4013*, 4014*, 4015*, 4016*, 4017*, 4018*, 4019*, 4020*, 4021*, 4022*, 4023*, 4024*, 4025*, 4026*, 4027*, 4028*, 4029*, 4030*, 4031*, 4032*, 4033*, 4034*, 4035*, 4036*, 4037*, 4038*, 4039*, 4040*, 4041*, 4042*, 4043*, 4044*, 4045*, 4046*, 4047*, 4048*, 4049*, 4050*, 4051*, 4052*, 4053*, 4054*, 4055*, 4056*, 4057*, 4058*, 4059*, 4060*, 4061*, 4062*, 4063*, 4064*, 4065*, 4066*, 4067*, 4068*, 4069*, 4070*, 4071*, 4072*, 4073*, 4074*, 4075*, 4076*, 4077*, 4078*, 4079*, 4080*, 4081*, 4082*, 4083*, 4084*, 4085*, 4086*, 4087*, 4088*, 4089*, 4090*, 4091*, 4092*, 4093*, 4094*, 4095*, 4096*, 4097*, 4098*, 4099*, 4100*, 4101*, 4102*, 4103*, 4104*, 4105*, 4106*, 4107*, 4108*, 4109*, 4110*, 4111*, 4112*, 4113*, 4114*, 4115*, 4116*, 4117*, 4118*, 4119*, 4120*, 4121*, 4122*, 4123*, 4124*, 4125*, 4126*, 4127*, 4128*, 4129*, 4130*, 4131*, 4132*, 4133*, 4134*, 4135*, 4136*, 4137*, 4138*, 4139*, "
     ]
    },
    {
     "name": "stderr",
     "output_type": "stream",
     "text": [
      "PdfReadWarning: Xref table not zero-indexed. ID numbers for objects will be corrected. [pdf.py:1736]\n"
     ]
    },
    {
     "name": "stdout",
     "output_type": "stream",
     "text": [
      "4140*, 4141*, 4142*, 4143*, 4144*, 4145*, 4146*, 4147*, 4148*, 4149*, 4150*, 4151*, 4152*, 4153*, 4154*, 4155*, 4156*, 4157*, 4158*, 4159*, 4160*, 4161*, 4162*, 4163*, 4164*, 4165*, 4166*, 4167*, 4168*, 4169*, 4170*, 4171*, 4172*, 4173*, 4174*, 4175*, 4176*, 4177*, 4178*, 4179*, 4180*, 4181*, 4182*, 4183*, 4184*, 4185*, 4186*, 4187*, 4188*, 4189*, 4190*, 4191*, 4192*, 4193*, 4194*, 4195*, 4196*, 4197*, 4198*, "
     ]
    },
    {
     "name": "stderr",
     "output_type": "stream",
     "text": [
      "PdfReadWarning: Xref table not zero-indexed. ID numbers for objects will be corrected. [pdf.py:1736]\n"
     ]
    },
    {
     "name": "stdout",
     "output_type": "stream",
     "text": [
      "4199*, 4200*, 4201*, 4202*, 4203*, 4204*, 4205*, 4206*, 4207*, 4208*, 4209*, 4210*, 4211*, 4212*, 4213*, 4214*, 4215*, 4216*, 4217*, 4218*, 4219*, 4220*, 4221*, 4222*, 4223*, 4224*, 4225*, 4226*, 4227*, 4228*, 4229*, 4230*, 4231*, 4232*, 4233*, 4234*, 4235*, 4236*, 4237*, 4238*, 4239*, 4240*, 4241*, 4242*, 4243*, 4244*, 4245*, 4246*, 4247*, 4248*, 4249*, 4250*, 4251*, 4252*, 4253*, 4254*, 4255*, 4256*, 4257*, 4258*, 4259*, 4260*, 4261*, 4262*, 4263*, 4264*, 4265*, 4266*, 4267*, 4268*, 4269*, 4270*, 4271*, 4272*, 4273*, 4274*, 4275*, 4276*, 4277*, 4278*, 4279*, 4280*, 4281*, 4282*, 4283*, 4284*, 4285*, 4286*, 4287*, 4288*, 4289*, 4290*, 4291*, 4292*, 4293*, 4294*, 4295*, 4296*, 4297*, 4298*, 4299*, 4300*, 4301*, 4302*, 4303*, 4304*, 4305*, 4306*, 4307*, 4308*, 4309*, 4310*, 4311*, 4312*, 4313*, 4314*, 4315*, 4316*, 4317*, 4318*, 4319*, 4320*, 4321*, 4322*, 4323*, 4324*, 4325*, 4326*, 4327*, 4328*, 4329*, 4330*, 4331*, 4332*, 4333*, 4334*, 4335*, 4336*, 4337*, 4338*, 4339*, 4340*, 4341*, 4342*, 4343*, 4344*, 4345*, 4346*, 4347*, 4348*, 4349*, 4350*, 4351*, 4352*, 4353*, 4354*, 4355*, 4356*, 4357*, 4358*, 4359*, 4360*, 4361*, 4362*, 4363*, 4364*, 4365*, 4366*, 4367*, 4368*, 4369*, 4370*, 4371*, 4372*, 4373*, 4374*, 4375*, 4376*, 4377*, 4378*, 4379*, 4380*, 4381*, 4382*, 4383*, 4384*, 4385*, 4386*, 4387*, 4388*, 4389*, 4390*, 4391*, 4392*, 4393*, 4394*, 4395*, 4396*, 4397*, 4398*, 4399*, 4400*, 4401*, 4402*, 4403*, 4404*, 4405*, 4406*, 4407*, 4408*, 4409*, 4410*, 4411*, 4412*, 4413*, 4414*, 4415*, 4416*, 4417*, 4418*, 4419*, 4420*, 4421*, 4422*, 4423*, 4424*, 4425*, 4426*, 4427*, 4428*, 4429*, 4430*, 4431*, 4432*, 4433*, 4434*, 4435*, 4436*, 4437*, 4438*, 4439*, 4440*, 4441*, 4442*, 4443*, 4444*, 4445*, 4446*, 4447*, 4448*, 4449*, 4450*, 4451*, 4452*, 4453*, 4454*, 4455*, 4456*, 4457*, 4458*, 4459*, 4460*, 4461*, 4462*, 4463*, 4464*, 4465*, 4466*, 4467*, 4468*, 4469*, 4470*, 4471*, 4472*, 4473*, 4474*, 4475*, 4476*, 4477*, 4478*, 4479*, 4480*, 4481*, 4482*, 4483*, 4484*, 4485*, 4486*, 4487*, 4488*, 4489*, 4490*, 4491*, 4492*, 4493*, 4494*, 4495*, 4496*, 4497*, 4498*, 4499*, 4500*, 4501*, 4502*, 4503*, 4504*, 4505*, 4506*, 4507*, 4508*, "
     ]
    },
    {
     "name": "stderr",
     "output_type": "stream",
     "text": [
      "PdfReadWarning: Xref table not zero-indexed. ID numbers for objects will be corrected. [pdf.py:1736]\n"
     ]
    },
    {
     "name": "stdout",
     "output_type": "stream",
     "text": [
      "4509*, 4510*, 4511*, 4512*, 4513*, 4514*, 4515*, 4516*, 4517*, 4518*, 4519*, 4520*, 4521*, 4522*, 4523*, 4524*, 4525*, 4526*, 4527*, 4528*, 4529*, 4530*, 4531*, 4532*, 4533*, 4534*, 4535*, 4536*, 4537*, 4538*, 4539*, 4540*, 4541*, "
     ]
    },
    {
     "name": "stderr",
     "output_type": "stream",
     "text": [
      "PdfReadWarning: Xref table not zero-indexed. ID numbers for objects will be corrected. [pdf.py:1736]\n"
     ]
    },
    {
     "name": "stdout",
     "output_type": "stream",
     "text": [
      "4542*, 4543*, 4544*, 4545*, 4546*, 4547*, 4548*, 4549*, 4550*, 4551*, 4552*, 4553*, 4554*, 4555*, 4556*, 4557*, 4558*, 4559*, 4560*, 4561*, 4562*, 4563*, 4564*, 4565*, 4566*, 4567*, 4568*, 4569*, 4570*, 4571*, 4572*, 4573*, 4574*, 4575*, 4576*, 4577*, 4578*, 4579*, 4580*, 4581*, 4582*, 4583*, 4584*, 4585*, 4586*, 4587*, 4588*, 4589*, 4590*, 4591*, 4592*, 4593*, 4594*, 4595*, 4596*, 4597*, 4598*, 4599*, 4600*, 4601*, 4602*, 4603*, 4604*, 4605*, 4606*, 4607*, 4608*, 4609*, 4610*, 4611*, 4612*, 4613*, 4614*, 4615*, 4616*, "
     ]
    },
    {
     "name": "stderr",
     "output_type": "stream",
     "text": [
      "PdfReadWarning: Xref table not zero-indexed. ID numbers for objects will be corrected. [pdf.py:1736]\n"
     ]
    },
    {
     "name": "stdout",
     "output_type": "stream",
     "text": [
      "4617*, 4618*, 4619*, 4620*, 4621*, 4622*, 4623*, 4624*, 4625*, error: ../data/raw/courtselfhelp.idaho.gov/forms/23d56d4972ad6a8d02a26697d5e1f122.pdf\n",
      "4626*, 4627*, 4628*, 4629*, 4630*, 4631*, 4632*, 4633*, 4634*, 4635*, 4636*, 4637*, 4638*, 4639*, 4640*, 4641*, 4642*, 4643*, 4644*, 4645*, 4646*, 4647*, 4648*, 4649*, 4650*, 4651*, 4652*, 4653*, 4654*, 4655*, 4656*, 4657*, 4658*, 4659*, 4660*, 4661*, 4662*, 4663*, 4664*, 4665*, 4666*, 4667*, 4668*, 4669*, 4670*, 4671*, 4672*, 4673*, "
     ]
    },
    {
     "name": "stderr",
     "output_type": "stream",
     "text": [
      "PdfReadWarning: Xref table not zero-indexed. ID numbers for objects will be corrected. [pdf.py:1736]\n"
     ]
    },
    {
     "name": "stdout",
     "output_type": "stream",
     "text": [
      "4674*, 4675*, 4676*, 4677*, 4678*, 4679*, 4680*, 4681*, 4682*, 4683*, 4684*, 4685*, 4686*, 4687*, "
     ]
    },
    {
     "name": "stderr",
     "output_type": "stream",
     "text": [
      "PdfReadWarning: Xref table not zero-indexed. ID numbers for objects will be corrected. [pdf.py:1736]\n"
     ]
    },
    {
     "name": "stdout",
     "output_type": "stream",
     "text": [
      "4688*, 4689*, "
     ]
    },
    {
     "name": "stderr",
     "output_type": "stream",
     "text": [
      "PdfReadWarning: Xref table not zero-indexed. ID numbers for objects will be corrected. [pdf.py:1736]\n"
     ]
    },
    {
     "name": "stdout",
     "output_type": "stream",
     "text": [
      "4690*, 4691*, 4692*, 4693*, 4694*, "
     ]
    },
    {
     "name": "stderr",
     "output_type": "stream",
     "text": [
      "PdfReadWarning: Xref table not zero-indexed. ID numbers for objects will be corrected. [pdf.py:1736]\n"
     ]
    },
    {
     "name": "stdout",
     "output_type": "stream",
     "text": [
      "4695*, 4696*, 4697*, 4698*, 4699*, 4700*, 4701*, 4702*, 4703*, 4704*, 4705*, 4706*, 4707*, 4708*, 4709*, 4710*, 4711*, 4712*, 4713*, 4714*, 4715*, 4716*, 4717*, 4718*, 4719*, 4720*, 4721*, 4722*, 4723*, 4724*, 4725*, 4726*, 4727*, 4728*, 4729*, 4730*, 4731*, 4732*, 4733*, 4734*, 4735*, 4736*, 4737*, 4738*, "
     ]
    },
    {
     "name": "stderr",
     "output_type": "stream",
     "text": [
      "PdfReadWarning: Xref table not zero-indexed. ID numbers for objects will be corrected. [pdf.py:1736]\n"
     ]
    },
    {
     "name": "stdout",
     "output_type": "stream",
     "text": [
      "4739*, 4740*, 4741*, 4742*, 4743*, 4744*, 4745*, 4746*, 4747*, 4748*, 4749*, 4750*, 4751*, 4752*, 4753*, 4754*, 4755*, 4756*, 4757*, 4758*, 4759*, 4760*, 4761*, 4762*, 4763*, 4764*, 4765*, 4766*, 4767*, 4768*, 4769*, 4770*, 4771*, 4772*, 4773*, 4774*, 4775*, 4776*, 4777*, 4778*, 4779*, 4780*, 4781*, 4782*, 4783*, 4784*, 4785*, error: ../data/raw/www.illinoiscourts.gov/forms/25ac800159429eee0a24cc90761dc961.pdf\n",
      "4786*, 4787*, error: ../data/raw/www.illinoiscourts.gov/forms/c8f0cfd091f5032ec475a7038f6aa086.pdf\n",
      "4788*, 4789*, error: ../data/raw/www.illinoiscourts.gov/forms/a7dce88d8b4e89511bbb9243ac13a016.pdf\n",
      "4790*, 4791*, 4792*, 4793*, 4794*, 4795*, 4796*, 4797*, 4798*, 4799*, 4800*, 4801*, 4802*, 4803*, 4804*, 4805*, 4806*, 4807*, 4808*, 4809*, 4810*, 4811*, 4812*, 4813*, 4814*, 4815*, 4816*, 4817*, 4818*, 4819*, 4820*, 4821*, 4822*, 4823*, 4824*, 4825*, 4826*, 4827*, 4828*, 4829*, 4830*, 4831*, 4832*, 4833*, 4834*, 4835*, 4836*, 4837*, 4838*, 4839*, 4840*, 4841*, 4842*, 4843*, 4844*, 4845*, 4846*, 4847*, 4848*, 4849*, 4850*, 4851*, 4852*, 4853*, 4854*, 4855*, 4856*, 4857*, 4858*, 4859*, 4860*, 4861*, 4862*, 4863*, 4864*, 4865*, 4866*, 4867*, 4868*, 4869*, 4870*, 4871*, 4872*, 4873*, 4874*, 4875*, 4876*, 4877*, 4878*, 4879*, 4880*, 4881*, 4882*, 4883*, 4884*, 4885*, 4886*, 4887*, 4888*, 4889*, 4890*, 4891*, 4892*, 4893*, 4894*, 4895*, 4896*, 4897*, 4898*, 4899*, 4900*, 4901*, 4902*, 4903*, 4904*, 4905*, 4906*, 4907*, 4908*, 4909*, 4910*, 4911*, 4912*, 4913*, 4914*, 4915*, 4916*, 4917*, 4918*, 4919*, 4920*, 4921*, 4922*, 4923*, 4924*, 4925*, 4926*, 4927*, 4928*, 4929*, 4930*, 4931*, 4932*, 4933*, 4934*, 4935*, 4936*, 4937*, 4938*, 4939*, 4940*, 4941*, 4942*, 4943*, 4944*, 4945*, 4946*, 4947*, 4948*, 4949*, 4950*, 4951*, 4952*, 4953*, 4954*, 4955*, 4956*, 4957*, 4958*, 4959*, 4960*, 4961*, 4962*, 4963*, 4964*, 4965*, 4966*, 4967*, 4968*, 4969*, 4970*, 4971*, 4972*, 4973*, 4974*, 4975*, 4976*, 4977*, 4978*, 4979*, 4980*, 4981*, 4982*, 4983*, 4984*, 4985*, 4986*, 4987*, 4988*, 4989*, 4990*, 4991*, 4992*, 4993*, 4994*, 4995*, 4996*, 4997*, 4998*, 4999*, 5000*, 5001*, 5002*, 5003*, 5004*, 5005*, 5006*, 5007*, 5008*, 5009*, 5010*, 5011*, 5012*, 5013*, 5014*, 5015*, 5016*, 5017*, 5018*, 5019*, 5020*, 5021*, 5022*, 5023*, 5024*, 5025*, 5026*, 5027*, 5028*, 5029*, 5030*, 5031*, 5032*, 5033*, 5034*, 5035*, 5036*, 5037*, 5038*, 5039*, 5040*, 5041*, 5042*, 5043*, 5044*, 5045*, 5046*, 5047*, 5048*, 5049*, 5050*, 5051*, 5052*, 5053*, 5054*, 5055*, 5056*, 5057*, 5058*, 5059*, 5060*, 5061*, 5062*, 5063*, 5064*, 5065*, 5066*, 5067*, 5068*, 5069*, 5070*, 5071*, 5072*, 5073*, 5074*, 5075*, 5076*, 5077*, 5078*, 5079*, 5080*, 5081*, 5082*, 5083*, 5084*, 5085*, 5086*, 5087*, 5088*, 5089*, 5090*, 5091*, 5092*, 5093*, 5094*, 5095*, 5096*, 5097*, 5098*, 5099*, 5100*, 5101*, 5102*, 5103*, 5104*, 5105*, 5106*, 5107*, 5108*, 5109*, 5110*, 5111*, 5112*, 5113*, 5114*, 5115*, 5116*, 5117*, 5118*, 5119*, "
     ]
    },
    {
     "name": "stderr",
     "output_type": "stream",
     "text": [
      "PdfReadWarning: Xref table not zero-indexed. ID numbers for objects will be corrected. [pdf.py:1736]\n"
     ]
    },
    {
     "name": "stdout",
     "output_type": "stream",
     "text": [
      "5120*, 5121*, 5122*, 5123*, 5124*, 5125*, 5126*, 5127*, 5128*, 5129*, 5130*, 5131*, 5132*, 5133*, 5134*, 5135*, 5136*, 5137*, 5138*, 5139*, 5140*, 5141*, "
     ]
    },
    {
     "name": "stderr",
     "output_type": "stream",
     "text": [
      "PdfReadWarning: Xref table not zero-indexed. ID numbers for objects will be corrected. [pdf.py:1736]\n"
     ]
    },
    {
     "name": "stdout",
     "output_type": "stream",
     "text": [
      "5142*, 5143*, 5144*, 5145*, 5146*, 5147*, 5148*, 5149*, 5150*, 5151*, "
     ]
    },
    {
     "name": "stderr",
     "output_type": "stream",
     "text": [
      "PdfReadWarning: Xref table not zero-indexed. ID numbers for objects will be corrected. [pdf.py:1736]\n"
     ]
    },
    {
     "name": "stdout",
     "output_type": "stream",
     "text": [
      "5152*, 5153*, 5154*, 5155*, 5156*, 5157*, 5158*, 5159*, 5160*, 5161*, 5162*, 5163*, 5164*, 5165*, 5166*, 5167*, 5168*, 5169*, 5170*, 5171*, 5172*, 5173*, 5174*, 5175*, 5176*, 5177*, 5178*, 5179*, 5180*, 5181*, "
     ]
    },
    {
     "name": "stderr",
     "output_type": "stream",
     "text": [
      "PdfReadWarning: Xref table not zero-indexed. ID numbers for objects will be corrected. [pdf.py:1736]\n"
     ]
    },
    {
     "name": "stdout",
     "output_type": "stream",
     "text": [
      "5182*, 5183*, 5184*, 5185*, 5186*, 5187*, 5188*, 5189*, 5190*, 5191*, 5192*, 5193*, "
     ]
    },
    {
     "name": "stderr",
     "output_type": "stream",
     "text": [
      "PdfReadWarning: Xref table not zero-indexed. ID numbers for objects will be corrected. [pdf.py:1736]\n"
     ]
    },
    {
     "name": "stdout",
     "output_type": "stream",
     "text": [
      "5194*, 5195*, 5196*, 5197*, 5198*, 5199*, 5200*, 5201*, 5202*, 5203*, 5204*, 5205*, 5206*, 5207*, 5208*, 5209*, 5210*, 5211*, 5212*, 5213*, 5214*, 5215*, 5216*, 5217*, 5218*, 5219*, 5220*, 5221*, 5222*, 5223*, 5224*, 5225*, "
     ]
    },
    {
     "name": "stderr",
     "output_type": "stream",
     "text": [
      "PdfReadWarning: Xref table not zero-indexed. ID numbers for objects will be corrected. [pdf.py:1736]\n"
     ]
    },
    {
     "name": "stdout",
     "output_type": "stream",
     "text": [
      "5226*, 5227*, 5228*, 5229*, 5230*, 5231*, 5232*, 5233*, 5234*, 5235*, 5236*, 5237*, 5238*, 5239*, 5240*, 5241*, 5242*, 5243*, 5244*, 5245*, 5246*, 5247*, 5248*, 5249*, 5250*, 5251*, 5252*, 5253*, 5254*, 5255*, 5256*, 5257*, 5258*, 5259*, 5260*, 5261*, 5262*, 5263*, 5264*, 5265*, 5266*, 5267*, 5268*, 5269*, 5270*, 5271*, 5272*, 5273*, 5274*, 5275*, 5276*, 5277*, 5278*, 5279*, 5280*, 5281*, 5282*, 5283*, 5284*, 5285*, 5286*, 5287*, 5288*, 5289*, 5290*, 5291*, 5292*, 5293*, 5294*, 5295*, 5296*, 5297*, 5298*, 5299*, 5300*, 5301*, "
     ]
    },
    {
     "name": "stderr",
     "output_type": "stream",
     "text": [
      "PdfReadWarning: Xref table not zero-indexed. ID numbers for objects will be corrected. [pdf.py:1736]\n"
     ]
    },
    {
     "name": "stdout",
     "output_type": "stream",
     "text": [
      "5302*, 5303*, 5304*, 5305*, 5306*, 5307*, "
     ]
    },
    {
     "name": "stderr",
     "output_type": "stream",
     "text": [
      "PdfReadWarning: Xref table not zero-indexed. ID numbers for objects will be corrected. [pdf.py:1736]\n"
     ]
    },
    {
     "name": "stdout",
     "output_type": "stream",
     "text": [
      "5308*, 5309*, 5310*, 5311*, 5312*, 5313*, 5314*, 5315*, 5316*, 5317*, 5318*, 5319*, 5320*, 5321*, 5322*, 5323*, 5324*, 5325*, 5326*, 5327*, 5328*, 5329*, 5330*, 5331*, 5332*, 5333*, 5334*, 5335*, 5336*, 5337*, 5338*, 5339*, 5340*, 5341*, 5342*, 5343*, 5344*, 5345*, 5346*, 5347*, 5348*, 5349*, 5350*, 5351*, 5352*, 5353*, 5354*, 5355*, 5356*, "
     ]
    },
    {
     "name": "stderr",
     "output_type": "stream",
     "text": [
      "PdfReadWarning: Xref table not zero-indexed. ID numbers for objects will be corrected. [pdf.py:1736]\n"
     ]
    },
    {
     "name": "stdout",
     "output_type": "stream",
     "text": [
      "5357*, 5358*, 5359*, 5360*, 5361*, 5362*, 5363*, error: ../data/raw/kansasjudicialcouncil.org/forms/a822a7f2c15efdba1023f772ac358e17.pdf\n",
      "5364*, 5365*, 5366*, 5367*, 5368*, 5369*, 5370*, 5371*, 5372*, 5373*, 5374*, 5375*, 5376*, 5377*, 5378*, 5379*, 5380*, 5381*, 5382*, 5383*, 5384*, 5385*, 5386*, error: ../data/raw/kansasjudicialcouncil.org/forms/ccc5ed3a937370353ff451c8c660448c.pdf\n",
      "5387*, 5388*, 5389*, 5390*, 5391*, 5392*, 5393*, 5394*, "
     ]
    },
    {
     "name": "stderr",
     "output_type": "stream",
     "text": [
      "PdfReadWarning: Xref table not zero-indexed. ID numbers for objects will be corrected. [pdf.py:1736]\n"
     ]
    },
    {
     "name": "stdout",
     "output_type": "stream",
     "text": [
      "5395*, 5396*, 5397*, 5398*, 5399*, 5400*, 5401*, 5402*, 5403*, 5404*, 5405*, 5406*, 5407*, 5408*, 5409*, 5410*, 5411*, 5412*, 5413*, 5414*, 5415*, 5416*, 5417*, 5418*, 5419*, 5420*, 5421*, 5422*, 5423*, 5424*, 5425*, 5426*, 5427*, 5428*, 5429*, 5430*, 5431*, 5432*, 5433*, 5434*, 5435*, 5436*, 5437*, 5438*, "
     ]
    },
    {
     "name": "stderr",
     "output_type": "stream",
     "text": [
      "PdfReadWarning: Xref table not zero-indexed. ID numbers for objects will be corrected. [pdf.py:1736]\n"
     ]
    },
    {
     "name": "stdout",
     "output_type": "stream",
     "text": [
      "5439*, 5440*, 5441*, 5442*, 5443*, 5444*, 5445*, 5446*, 5447*, 5448*, 5449*, 5450*, 5451*, 5452*, 5453*, 5454*, 5455*, 5456*, 5457*, 5458*, 5459*, 5460*, 5461*, 5462*, 5463*, 5464*, 5465*, 5466*, 5467*, 5468*, 5469*, 5470*, 5471*, 5472*, 5473*, 5474*, 5475*, 5476*, 5477*, 5478*, 5479*, 5480*, 5481*, 5482*, 5483*, 5484*, 5485*, 5486*, 5487*, 5488*, 5489*, 5490*, 5491*, 5492*, 5493*, 5494*, 5495*, 5496*, 5497*, 5498*, 5499*, 5500*, 5501*, 5502*, 5503*, 5504*, 5505*, 5506*, 5507*, 5508*, 5509*, 5510*, 5511*, 5512*, 5513*, 5514*, 5515*, 5516*, 5517*, 5518*, 5519*, 5520*, 5521*, 5522*, 5523*, 5524*, 5525*, 5526*, 5527*, 5528*, 5529*, 5530*, 5531*, 5532*, 5533*, 5534*, 5535*, 5536*, 5537*, 5538*, 5539*, 5540*, 5541*, 5542*, 5543*, 5544*, 5545*, 5546*, 5547*, 5548*, 5549*, 5550*, 5551*, 5552*, 5553*, 5554*, 5555*, 5556*, 5557*, 5558*, 5559*, 5560*, 5561*, 5562*, 5563*, 5564*, 5565*, 5566*, 5567*, 5568*, 5569*, 5570*, 5571*, 5572*, 5573*, 5574*, 5575*, 5576*, 5577*, 5578*, 5579*, 5580*, 5581*, 5582*, 5583*, 5584*, 5585*, 5586*, 5587*, 5588*, 5589*, 5590*, 5591*, 5592*, 5593*, 5594*, 5595*, 5596*, 5597*, 5598*, 5599*, 5600*, 5601*, 5602*, 5603*, 5604*, 5605*, 5606*, 5607*, 5608*, 5609*, 5610*, 5611*, 5612*, 5613*, 5614*, 5615*, 5616*, 5617*, 5618*, 5619*, 5620*, 5621*, 5622*, 5623*, 5624*, 5625*, 5626*, 5627*, "
     ]
    },
    {
     "name": "stderr",
     "output_type": "stream",
     "text": [
      "PdfReadWarning: Xref table not zero-indexed. ID numbers for objects will be corrected. [pdf.py:1736]\n"
     ]
    },
    {
     "name": "stdout",
     "output_type": "stream",
     "text": [
      "5628*, 5629*, 5630*, 5631*, 5632*, 5633*, "
     ]
    },
    {
     "name": "stderr",
     "output_type": "stream",
     "text": [
      "PdfReadWarning: Xref table not zero-indexed. ID numbers for objects will be corrected. [pdf.py:1736]\n"
     ]
    },
    {
     "name": "stdout",
     "output_type": "stream",
     "text": [
      "5634*, 5635*, "
     ]
    },
    {
     "name": "stderr",
     "output_type": "stream",
     "text": [
      "PdfReadWarning: Xref table not zero-indexed. ID numbers for objects will be corrected. [pdf.py:1736]\n"
     ]
    },
    {
     "name": "stdout",
     "output_type": "stream",
     "text": [
      "5636*, 5637*, 5638*, "
     ]
    },
    {
     "name": "stderr",
     "output_type": "stream",
     "text": [
      "PdfReadWarning: Xref table not zero-indexed. ID numbers for objects will be corrected. [pdf.py:1736]\n"
     ]
    },
    {
     "name": "stdout",
     "output_type": "stream",
     "text": [
      "5639*, 5640*, 5641*, 5642*, 5643*, 5644*, 5645*, 5646*, 5647*, 5648*, 5649*, 5650*, 5651*, 5652*, 5653*, 5654*, 5655*, 5656*, 5657*, 5658*, 5659*, 5660*, 5661*, 5662*, 5663*, 5664*, 5665*, 5666*, 5667*, 5668*, 5669*, 5670*, 5671*, 5672*, 5673*, 5674*, 5675*, 5676*, 5677*, 5678*, 5679*, 5680*, 5681*, 5682*, 5683*, 5684*, 5685*, 5686*, 5687*, 5688*, 5689*, 5690*, 5691*, 5692*, 5693*, 5694*, 5695*, 5696*, 5697*, 5698*, 5699*, 5700*, 5701*, 5702*, 5703*, 5704*, 5705*, 5706*, 5707*, 5708*, 5709*, 5710*, 5711*, 5712*, 5713*, 5714*, 5715*, 5716*, 5717*, 5718*, 5719*, 5720*, 5721*, 5722*, 5723*, 5724*, 5725*, 5726*, 5727*, 5728*, 5729*, 5730*, 5731*, 5732*, 5733*, 5734*, 5735*, 5736*, 5737*, 5738*, 5739*, 5740*, 5741*, 5742*, 5743*, 5744*, 5745*, 5746*, 5747*, 5748*, 5749*, 5750*, 5751*, 5752*, 5753*, 5754*, 5755*, 5756*, 5757*, 5758*, 5759*, 5760*, 5761*, 5762*, 5763*, 5764*, 5765*, 5766*, 5767*, 5768*, "
     ]
    },
    {
     "name": "stderr",
     "output_type": "stream",
     "text": [
      "PdfReadWarning: Xref table not zero-indexed. ID numbers for objects will be corrected. [pdf.py:1736]\n"
     ]
    },
    {
     "name": "stdout",
     "output_type": "stream",
     "text": [
      "5769*, 5770*, 5771*, 5772*, 5773*, 5774*, 5775*, 5776*, 5777*, 5778*, 5779*, 5780*, 5781*, 5782*, 5783*, 5784*, 5785*, 5786*, 5787*, 5788*, 5789*, 5790*, 5791*, 5792*, 5793*, 5794*, 5795*, 5796*, 5797*, "
     ]
    },
    {
     "name": "stderr",
     "output_type": "stream",
     "text": [
      "PdfReadWarning: Xref table not zero-indexed. ID numbers for objects will be corrected. [pdf.py:1736]\n"
     ]
    },
    {
     "name": "stdout",
     "output_type": "stream",
     "text": [
      "5798*, 5799*, 5800*, 5801*, "
     ]
    },
    {
     "name": "stderr",
     "output_type": "stream",
     "text": [
      "PdfReadWarning: Xref table not zero-indexed. ID numbers for objects will be corrected. [pdf.py:1736]\n"
     ]
    },
    {
     "name": "stdout",
     "output_type": "stream",
     "text": [
      "5802*, 5803*, 5804*, 5805*, 5806*, 5807*, 5808*, 5809*, 5810*, 5811*, 5812*, 5813*, 5814*, 5815*, 5816*, 5817*, 5818*, 5819*, 5820*, 5821*, 5822*, 5823*, 5824*, 5825*, 5826*, 5827*, 5828*, 5829*, 5830*, 5831*, 5832*, 5833*, 5834*, 5835*, 5836*, 5837*, 5838*, 5839*, 5840*, "
     ]
    },
    {
     "name": "stderr",
     "output_type": "stream",
     "text": [
      "PdfReadWarning: Xref table not zero-indexed. ID numbers for objects will be corrected. [pdf.py:1736]\n"
     ]
    },
    {
     "name": "stdout",
     "output_type": "stream",
     "text": [
      "5841*, 5842*, 5843*, 5844*, 5845*, 5846*, 5847*, 5848*, 5849*, 5850*, 5851*, 5852*, 5853*, 5854*, 5855*, 5856*, 5857*, 5858*, 5859*, 5860*, 5861*, 5862*, 5863*, 5864*, 5865*, 5866*, 5867*, 5868*, 5869*, 5870*, 5871*, 5872*, 5873*, 5874*, 5875*, 5876*, 5877*, 5878*, 5879*, 5880*, 5881*, 5882*, 5883*, "
     ]
    },
    {
     "name": "stderr",
     "output_type": "stream",
     "text": [
      "PdfReadWarning: Xref table not zero-indexed. ID numbers for objects will be corrected. [pdf.py:1736]\n"
     ]
    },
    {
     "name": "stdout",
     "output_type": "stream",
     "text": [
      "5884*, 5885*, 5886*, 5887*, 5888*, 5889*, 5890*, 5891*, 5892*, 5893*, 5894*, 5895*, 5896*, 5897*, 5898*, 5899*, 5900*, 5901*, 5902*, 5903*, 5904*, "
     ]
    },
    {
     "name": "stderr",
     "output_type": "stream",
     "text": [
      "PdfReadWarning: Xref table not zero-indexed. ID numbers for objects will be corrected. [pdf.py:1736]\n"
     ]
    },
    {
     "name": "stdout",
     "output_type": "stream",
     "text": [
      "5905*, 5906*, 5907*, 5908*, 5909*, 5910*, 5911*, 5912*, 5913*, 5914*, 5915*, 5916*, 5917*, "
     ]
    },
    {
     "name": "stderr",
     "output_type": "stream",
     "text": [
      "PdfReadWarning: Xref table not zero-indexed. ID numbers for objects will be corrected. [pdf.py:1736]\n"
     ]
    },
    {
     "name": "stdout",
     "output_type": "stream",
     "text": [
      "5918*, 5919*, 5920*, 5921*, 5922*, 5923*, 5924*, 5925*, 5926*, 5927*, 5928*, 5929*, 5930*, 5931*, 5932*, 5933*, 5934*, 5935*, 5936*, 5937*, 5938*, 5939*, "
     ]
    },
    {
     "name": "stderr",
     "output_type": "stream",
     "text": [
      "PdfReadWarning: Xref table not zero-indexed. ID numbers for objects will be corrected. [pdf.py:1736]\n"
     ]
    },
    {
     "name": "stdout",
     "output_type": "stream",
     "text": [
      "5940*, 5941*, 5942*, 5943*, 5944*, 5945*, 5946*, 5947*, 5948*, 5949*, 5950*, 5951*, 5952*, 5953*, 5954*, 5955*, 5956*, 5957*, 5958*, 5959*, 5960*, 5961*, 5962*, 5963*, 5964*, 5965*, 5966*, 5967*, 5968*, 5969*, 5970*, 5971*, 5972*, 5973*, 5974*, 5975*, 5976*, 5977*, 5978*, 5979*, 5980*, 5981*, 5982*, 5983*, 5984*, 5985*, 5986*, 5987*, 5988*, 5989*, 5990*, 5991*, 5992*, 5993*, 5994*, 5995*, 5996*, 5997*, 5998*, 5999*, "
     ]
    },
    {
     "name": "stderr",
     "output_type": "stream",
     "text": [
      "PdfReadWarning: Xref table not zero-indexed. ID numbers for objects will be corrected. [pdf.py:1736]\n"
     ]
    },
    {
     "name": "stdout",
     "output_type": "stream",
     "text": [
      "6000*, 6001*, 6002*, 6003*, 6004*, 6005*, 6006*, 6007*, 6008*, 6009*, 6010*, 6011*, 6012*, 6013*, 6014*, 6015*, 6016*, 6017*, 6018*, 6019*, 6020*, 6021*, 6022*, 6023*, 6024*, 6025*, 6026*, 6027*, 6028*, 6029*, 6030*, 6031*, 6032*, 6033*, 6034*, 6035*, 6036*, 6037*, 6038*, 6039*, 6040*, 6041*, 6042*, 6043*, 6044*, 6045*, 6046*, 6047*, 6048*, 6049*, 6050*, 6051*, 6052*, 6053*, 6054*, 6055*, 6056*, 6057*, 6058*, 6059*, 6060*, 6061*, 6062*, 6063*, 6064*, 6065*, 6066*, 6067*, 6068*, 6069*, 6070*, 6071*, 6072*, 6073*, 6074*, 6075*, 6076*, 6077*, 6078*, 6079*, 6080*, 6081*, 6082*, 6083*, 6084*, 6085*, 6086*, 6087*, 6088*, 6089*, 6090*, 6091*, 6092*, 6093*, 6094*, 6095*, 6096*, 6097*, 6098*, 6099*, 6100*, 6101*, 6102*, 6103*, 6104*, 6105*, 6106*, 6107*, 6108*, 6109*, 6110*, 6111*, 6112*, 6113*, 6114*, 6115*, 6116*, 6117*, 6118*, 6119*, 6120*, "
     ]
    },
    {
     "name": "stderr",
     "output_type": "stream",
     "text": [
      "PdfReadWarning: Xref table not zero-indexed. ID numbers for objects will be corrected. [pdf.py:1736]\n"
     ]
    },
    {
     "name": "stdout",
     "output_type": "stream",
     "text": [
      "6121*, 6122*, 6123*, 6124*, 6125*, 6126*, 6127*, 6128*, 6129*, 6130*, 6131*, 6132*, 6133*, "
     ]
    },
    {
     "name": "stderr",
     "output_type": "stream",
     "text": [
      "PdfReadWarning: Xref table not zero-indexed. ID numbers for objects will be corrected. [pdf.py:1736]\n"
     ]
    },
    {
     "name": "stdout",
     "output_type": "stream",
     "text": [
      "6134*, 6135*, 6136*, 6137*, 6138*, 6139*, 6140*, 6141*, 6142*, 6143*, 6144*, 6145*, "
     ]
    },
    {
     "name": "stderr",
     "output_type": "stream",
     "text": [
      "PdfReadWarning: Xref table not zero-indexed. ID numbers for objects will be corrected. [pdf.py:1736]\n"
     ]
    },
    {
     "name": "stdout",
     "output_type": "stream",
     "text": [
      "6146*, 6147*, 6148*, 6149*, 6150*, 6151*, 6152*, "
     ]
    },
    {
     "name": "stderr",
     "output_type": "stream",
     "text": [
      "PdfReadWarning: Xref table not zero-indexed. ID numbers for objects will be corrected. [pdf.py:1736]\n"
     ]
    },
    {
     "name": "stdout",
     "output_type": "stream",
     "text": [
      "6153*, 6154*, 6155*, 6156*, "
     ]
    },
    {
     "name": "stderr",
     "output_type": "stream",
     "text": [
      "PdfReadWarning: Xref table not zero-indexed. ID numbers for objects will be corrected. [pdf.py:1736]\n"
     ]
    },
    {
     "name": "stdout",
     "output_type": "stream",
     "text": [
      "6157*, 6158*, 6159*, "
     ]
    },
    {
     "name": "stderr",
     "output_type": "stream",
     "text": [
      "PdfReadWarning: Xref table not zero-indexed. ID numbers for objects will be corrected. [pdf.py:1736]\n"
     ]
    },
    {
     "name": "stdout",
     "output_type": "stream",
     "text": [
      "6160*, 6161*, 6162*, "
     ]
    },
    {
     "name": "stderr",
     "output_type": "stream",
     "text": [
      "PdfReadWarning: Xref table not zero-indexed. ID numbers for objects will be corrected. [pdf.py:1736]\n"
     ]
    },
    {
     "name": "stdout",
     "output_type": "stream",
     "text": [
      "6163*, error: ../data/raw/www.nccourts.gov/forms/ae0198fac4771c5e8b305c78bec6d7f0.pdf\n",
      "6164*, 6165*, "
     ]
    },
    {
     "name": "stderr",
     "output_type": "stream",
     "text": [
      "PdfReadWarning: Xref table not zero-indexed. ID numbers for objects will be corrected. [pdf.py:1736]\n"
     ]
    },
    {
     "name": "stdout",
     "output_type": "stream",
     "text": [
      "6166*, "
     ]
    },
    {
     "name": "stderr",
     "output_type": "stream",
     "text": [
      "PdfReadWarning: Xref table not zero-indexed. ID numbers for objects will be corrected. [pdf.py:1736]\n"
     ]
    },
    {
     "name": "stdout",
     "output_type": "stream",
     "text": [
      "6167*, 6168*, 6169*, 6170*, 6171*, 6172*, "
     ]
    },
    {
     "name": "stderr",
     "output_type": "stream",
     "text": [
      "PdfReadWarning: Xref table not zero-indexed. ID numbers for objects will be corrected. [pdf.py:1736]\n"
     ]
    },
    {
     "name": "stdout",
     "output_type": "stream",
     "text": [
      "6173*, 6174*, 6175*, 6176*, 6177*, 6178*, "
     ]
    },
    {
     "name": "stderr",
     "output_type": "stream",
     "text": [
      "PdfReadWarning: Xref table not zero-indexed. ID numbers for objects will be corrected. [pdf.py:1736]\n"
     ]
    },
    {
     "name": "stdout",
     "output_type": "stream",
     "text": [
      "6179*, 6180*, 6181*, 6182*, "
     ]
    },
    {
     "name": "stderr",
     "output_type": "stream",
     "text": [
      "PdfReadWarning: Xref table not zero-indexed. ID numbers for objects will be corrected. [pdf.py:1736]\n"
     ]
    },
    {
     "name": "stdout",
     "output_type": "stream",
     "text": [
      "6183*, 6184*, 6185*, 6186*, "
     ]
    },
    {
     "name": "stderr",
     "output_type": "stream",
     "text": [
      "PdfReadWarning: Xref table not zero-indexed. ID numbers for objects will be corrected. [pdf.py:1736]\n"
     ]
    },
    {
     "name": "stdout",
     "output_type": "stream",
     "text": [
      "6187*, 6188*, 6189*, 6190*, 6191*, 6192*, 6193*, 6194*, 6195*, "
     ]
    },
    {
     "name": "stderr",
     "output_type": "stream",
     "text": [
      "PdfReadWarning: Xref table not zero-indexed. ID numbers for objects will be corrected. [pdf.py:1736]\n"
     ]
    },
    {
     "name": "stdout",
     "output_type": "stream",
     "text": [
      "6196*, "
     ]
    },
    {
     "name": "stderr",
     "output_type": "stream",
     "text": [
      "PdfReadWarning: Xref table not zero-indexed. ID numbers for objects will be corrected. [pdf.py:1736]\n"
     ]
    },
    {
     "name": "stdout",
     "output_type": "stream",
     "text": [
      "6197*, "
     ]
    },
    {
     "name": "stderr",
     "output_type": "stream",
     "text": [
      "PdfReadWarning: Xref table not zero-indexed. ID numbers for objects will be corrected. [pdf.py:1736]\n"
     ]
    },
    {
     "name": "stdout",
     "output_type": "stream",
     "text": [
      "6198*, 6199*, "
     ]
    },
    {
     "name": "stderr",
     "output_type": "stream",
     "text": [
      "PdfReadWarning: Xref table not zero-indexed. ID numbers for objects will be corrected. [pdf.py:1736]\n"
     ]
    },
    {
     "name": "stdout",
     "output_type": "stream",
     "text": [
      "6200*, 6201*, 6202*, 6203*, 6204*, "
     ]
    },
    {
     "name": "stderr",
     "output_type": "stream",
     "text": [
      "PdfReadWarning: Xref table not zero-indexed. ID numbers for objects will be corrected. [pdf.py:1736]\n"
     ]
    },
    {
     "name": "stdout",
     "output_type": "stream",
     "text": [
      "6205*, 6206*, 6207*, 6208*, "
     ]
    },
    {
     "name": "stderr",
     "output_type": "stream",
     "text": [
      "PdfReadWarning: Xref table not zero-indexed. ID numbers for objects will be corrected. [pdf.py:1736]\n"
     ]
    },
    {
     "name": "stdout",
     "output_type": "stream",
     "text": [
      "6209*, 6210*, 6211*, 6212*, 6213*, 6214*, 6215*, 6216*, "
     ]
    },
    {
     "name": "stderr",
     "output_type": "stream",
     "text": [
      "PdfReadWarning: Xref table not zero-indexed. ID numbers for objects will be corrected. [pdf.py:1736]\n"
     ]
    },
    {
     "name": "stdout",
     "output_type": "stream",
     "text": [
      "6217*, "
     ]
    },
    {
     "name": "stderr",
     "output_type": "stream",
     "text": [
      "PdfReadWarning: Xref table not zero-indexed. ID numbers for objects will be corrected. [pdf.py:1736]\n"
     ]
    },
    {
     "name": "stdout",
     "output_type": "stream",
     "text": [
      "6218*, "
     ]
    },
    {
     "name": "stderr",
     "output_type": "stream",
     "text": [
      "PdfReadWarning: Xref table not zero-indexed. ID numbers for objects will be corrected. [pdf.py:1736]\n"
     ]
    },
    {
     "name": "stdout",
     "output_type": "stream",
     "text": [
      "6219*, 6220*, 6221*, 6222*, 6223*, "
     ]
    },
    {
     "name": "stderr",
     "output_type": "stream",
     "text": [
      "PdfReadWarning: Xref table not zero-indexed. ID numbers for objects will be corrected. [pdf.py:1736]\n"
     ]
    },
    {
     "name": "stdout",
     "output_type": "stream",
     "text": [
      "6224*, 6225*, 6226*, 6227*, 6228*, "
     ]
    },
    {
     "name": "stderr",
     "output_type": "stream",
     "text": [
      "PdfReadWarning: Xref table not zero-indexed. ID numbers for objects will be corrected. [pdf.py:1736]\n"
     ]
    },
    {
     "name": "stdout",
     "output_type": "stream",
     "text": [
      "6229*, 6230*, 6231*, 6232*, 6233*, 6234*, 6235*, 6236*, "
     ]
    },
    {
     "name": "stderr",
     "output_type": "stream",
     "text": [
      "PdfReadWarning: Xref table not zero-indexed. ID numbers for objects will be corrected. [pdf.py:1736]\n"
     ]
    },
    {
     "name": "stdout",
     "output_type": "stream",
     "text": [
      "6237*, 6238*, "
     ]
    },
    {
     "name": "stderr",
     "output_type": "stream",
     "text": [
      "PdfReadWarning: Xref table not zero-indexed. ID numbers for objects will be corrected. [pdf.py:1736]\n"
     ]
    },
    {
     "name": "stdout",
     "output_type": "stream",
     "text": [
      "6239*, 6240*, 6241*, 6242*, "
     ]
    },
    {
     "name": "stderr",
     "output_type": "stream",
     "text": [
      "PdfReadWarning: Xref table not zero-indexed. ID numbers for objects will be corrected. [pdf.py:1736]\n"
     ]
    },
    {
     "name": "stdout",
     "output_type": "stream",
     "text": [
      "6243*, 6244*, "
     ]
    },
    {
     "name": "stderr",
     "output_type": "stream",
     "text": [
      "PdfReadWarning: Xref table not zero-indexed. ID numbers for objects will be corrected. [pdf.py:1736]\n"
     ]
    },
    {
     "name": "stdout",
     "output_type": "stream",
     "text": [
      "6245*, 6246*, "
     ]
    },
    {
     "name": "stderr",
     "output_type": "stream",
     "text": [
      "PdfReadWarning: Xref table not zero-indexed. ID numbers for objects will be corrected. [pdf.py:1736]\n"
     ]
    },
    {
     "name": "stdout",
     "output_type": "stream",
     "text": [
      "6247*, 6248*, 6249*, 6250*, "
     ]
    },
    {
     "name": "stderr",
     "output_type": "stream",
     "text": [
      "PdfReadWarning: Xref table not zero-indexed. ID numbers for objects will be corrected. [pdf.py:1736]\n"
     ]
    },
    {
     "name": "stdout",
     "output_type": "stream",
     "text": [
      "6251*, "
     ]
    },
    {
     "name": "stderr",
     "output_type": "stream",
     "text": [
      "PdfReadWarning: Xref table not zero-indexed. ID numbers for objects will be corrected. [pdf.py:1736]\n"
     ]
    },
    {
     "name": "stdout",
     "output_type": "stream",
     "text": [
      "6252*, 6253*, 6254*, "
     ]
    },
    {
     "name": "stderr",
     "output_type": "stream",
     "text": [
      "PdfReadWarning: Xref table not zero-indexed. ID numbers for objects will be corrected. [pdf.py:1736]\n"
     ]
    },
    {
     "name": "stdout",
     "output_type": "stream",
     "text": [
      "6255*, 6256*, 6257*, "
     ]
    },
    {
     "name": "stderr",
     "output_type": "stream",
     "text": [
      "PdfReadWarning: Xref table not zero-indexed. ID numbers for objects will be corrected. [pdf.py:1736]\n"
     ]
    },
    {
     "name": "stdout",
     "output_type": "stream",
     "text": [
      "6258*, 6259*, 6260*, "
     ]
    },
    {
     "name": "stderr",
     "output_type": "stream",
     "text": [
      "PdfReadWarning: Xref table not zero-indexed. ID numbers for objects will be corrected. [pdf.py:1736]\n"
     ]
    },
    {
     "name": "stdout",
     "output_type": "stream",
     "text": [
      "6261*, 6262*, 6263*, "
     ]
    },
    {
     "name": "stderr",
     "output_type": "stream",
     "text": [
      "PdfReadWarning: Xref table not zero-indexed. ID numbers for objects will be corrected. [pdf.py:1736]\n"
     ]
    },
    {
     "name": "stdout",
     "output_type": "stream",
     "text": [
      "6264*, 6265*, 6266*, "
     ]
    },
    {
     "name": "stderr",
     "output_type": "stream",
     "text": [
      "PdfReadWarning: Xref table not zero-indexed. ID numbers for objects will be corrected. [pdf.py:1736]\n"
     ]
    },
    {
     "name": "stdout",
     "output_type": "stream",
     "text": [
      "6267*, 6268*, 6269*, "
     ]
    },
    {
     "name": "stderr",
     "output_type": "stream",
     "text": [
      "PdfReadWarning: Xref table not zero-indexed. ID numbers for objects will be corrected. [pdf.py:1736]\n"
     ]
    },
    {
     "name": "stdout",
     "output_type": "stream",
     "text": [
      "6270*, 6271*, 6272*, "
     ]
    },
    {
     "name": "stderr",
     "output_type": "stream",
     "text": [
      "PdfReadWarning: Xref table not zero-indexed. ID numbers for objects will be corrected. [pdf.py:1736]\n"
     ]
    },
    {
     "name": "stdout",
     "output_type": "stream",
     "text": [
      "6273*, 6274*, 6275*, "
     ]
    },
    {
     "name": "stderr",
     "output_type": "stream",
     "text": [
      "PdfReadWarning: Xref table not zero-indexed. ID numbers for objects will be corrected. [pdf.py:1736]\n"
     ]
    },
    {
     "name": "stdout",
     "output_type": "stream",
     "text": [
      "6276*, 6277*, "
     ]
    },
    {
     "name": "stderr",
     "output_type": "stream",
     "text": [
      "PdfReadWarning: Xref table not zero-indexed. ID numbers for objects will be corrected. [pdf.py:1736]\n"
     ]
    },
    {
     "name": "stdout",
     "output_type": "stream",
     "text": [
      "6278*, 6279*, 6280*, 6281*, 6282*, 6283*, 6284*, 6285*, 6286*, 6287*, 6288*, 6289*, 6290*, 6291*, 6292*, 6293*, 6294*, 6295*, 6296*, 6297*, 6298*, 6299*, 6300*, "
     ]
    },
    {
     "name": "stderr",
     "output_type": "stream",
     "text": [
      "PdfReadWarning: Xref table not zero-indexed. ID numbers for objects will be corrected. [pdf.py:1736]\n"
     ]
    },
    {
     "name": "stdout",
     "output_type": "stream",
     "text": [
      "6301*, 6302*, 6303*, 6304*, 6305*, 6306*, "
     ]
    },
    {
     "name": "stderr",
     "output_type": "stream",
     "text": [
      "PdfReadWarning: Xref table not zero-indexed. ID numbers for objects will be corrected. [pdf.py:1736]\n"
     ]
    },
    {
     "name": "stdout",
     "output_type": "stream",
     "text": [
      "6307*, 6308*, 6309*, "
     ]
    },
    {
     "name": "stderr",
     "output_type": "stream",
     "text": [
      "PdfReadWarning: Xref table not zero-indexed. ID numbers for objects will be corrected. [pdf.py:1736]\n"
     ]
    },
    {
     "name": "stdout",
     "output_type": "stream",
     "text": [
      "6310*, 6311*, 6312*, 6313*, "
     ]
    },
    {
     "name": "stderr",
     "output_type": "stream",
     "text": [
      "PdfReadWarning: Xref table not zero-indexed. ID numbers for objects will be corrected. [pdf.py:1736]\n"
     ]
    },
    {
     "name": "stdout",
     "output_type": "stream",
     "text": [
      "6314*, 6315*, 6316*, "
     ]
    },
    {
     "name": "stderr",
     "output_type": "stream",
     "text": [
      "PdfReadWarning: Xref table not zero-indexed. ID numbers for objects will be corrected. [pdf.py:1736]\n"
     ]
    },
    {
     "name": "stdout",
     "output_type": "stream",
     "text": [
      "6317*, 6318*, 6319*, "
     ]
    },
    {
     "name": "stderr",
     "output_type": "stream",
     "text": [
      "PdfReadWarning: Xref table not zero-indexed. ID numbers for objects will be corrected. [pdf.py:1736]\n"
     ]
    },
    {
     "name": "stdout",
     "output_type": "stream",
     "text": [
      "6320*, 6321*, 6322*, "
     ]
    },
    {
     "name": "stderr",
     "output_type": "stream",
     "text": [
      "PdfReadWarning: Xref table not zero-indexed. ID numbers for objects will be corrected. [pdf.py:1736]\n"
     ]
    },
    {
     "name": "stdout",
     "output_type": "stream",
     "text": [
      "6323*, 6324*, 6325*, "
     ]
    },
    {
     "name": "stderr",
     "output_type": "stream",
     "text": [
      "PdfReadWarning: Xref table not zero-indexed. ID numbers for objects will be corrected. [pdf.py:1736]\n"
     ]
    },
    {
     "name": "stdout",
     "output_type": "stream",
     "text": [
      "6326*, 6327*, 6328*, "
     ]
    },
    {
     "name": "stderr",
     "output_type": "stream",
     "text": [
      "PdfReadWarning: Xref table not zero-indexed. ID numbers for objects will be corrected. [pdf.py:1736]\n"
     ]
    },
    {
     "name": "stdout",
     "output_type": "stream",
     "text": [
      "6329*, 6330*, 6331*, 6332*, "
     ]
    },
    {
     "name": "stderr",
     "output_type": "stream",
     "text": [
      "PdfReadWarning: Xref table not zero-indexed. ID numbers for objects will be corrected. [pdf.py:1736]\n"
     ]
    },
    {
     "name": "stdout",
     "output_type": "stream",
     "text": [
      "6333*, 6334*, 6335*, "
     ]
    },
    {
     "name": "stderr",
     "output_type": "stream",
     "text": [
      "PdfReadWarning: Xref table not zero-indexed. ID numbers for objects will be corrected. [pdf.py:1736]\n"
     ]
    },
    {
     "name": "stdout",
     "output_type": "stream",
     "text": [
      "6336*, 6337*, 6338*, "
     ]
    },
    {
     "name": "stderr",
     "output_type": "stream",
     "text": [
      "PdfReadWarning: Xref table not zero-indexed. ID numbers for objects will be corrected. [pdf.py:1736]\n"
     ]
    },
    {
     "name": "stdout",
     "output_type": "stream",
     "text": [
      "6339*, 6340*, "
     ]
    },
    {
     "name": "stderr",
     "output_type": "stream",
     "text": [
      "PdfReadWarning: Xref table not zero-indexed. ID numbers for objects will be corrected. [pdf.py:1736]\n"
     ]
    },
    {
     "name": "stdout",
     "output_type": "stream",
     "text": [
      "6341*, 6342*, "
     ]
    },
    {
     "name": "stderr",
     "output_type": "stream",
     "text": [
      "PdfReadWarning: Xref table not zero-indexed. ID numbers for objects will be corrected. [pdf.py:1736]\n"
     ]
    },
    {
     "name": "stdout",
     "output_type": "stream",
     "text": [
      "6343*, "
     ]
    },
    {
     "name": "stderr",
     "output_type": "stream",
     "text": [
      "PdfReadWarning: Xref table not zero-indexed. ID numbers for objects will be corrected. [pdf.py:1736]\n"
     ]
    },
    {
     "name": "stdout",
     "output_type": "stream",
     "text": [
      "6344*, 6345*, 6346*, 6347*, 6348*, 6349*, 6350*, "
     ]
    },
    {
     "name": "stderr",
     "output_type": "stream",
     "text": [
      "PdfReadWarning: Xref table not zero-indexed. ID numbers for objects will be corrected. [pdf.py:1736]\n"
     ]
    },
    {
     "name": "stdout",
     "output_type": "stream",
     "text": [
      "6351*, 6352*, 6353*, "
     ]
    },
    {
     "name": "stderr",
     "output_type": "stream",
     "text": [
      "PdfReadWarning: Xref table not zero-indexed. ID numbers for objects will be corrected. [pdf.py:1736]\n"
     ]
    },
    {
     "name": "stdout",
     "output_type": "stream",
     "text": [
      "6354*, 6355*, 6356*, 6357*, 6358*, "
     ]
    },
    {
     "name": "stderr",
     "output_type": "stream",
     "text": [
      "PdfReadWarning: Xref table not zero-indexed. ID numbers for objects will be corrected. [pdf.py:1736]\n"
     ]
    },
    {
     "name": "stdout",
     "output_type": "stream",
     "text": [
      "6359*, 6360*, 6361*, 6362*, 6363*, "
     ]
    },
    {
     "name": "stderr",
     "output_type": "stream",
     "text": [
      "PdfReadWarning: Xref table not zero-indexed. ID numbers for objects will be corrected. [pdf.py:1736]\n"
     ]
    },
    {
     "name": "stdout",
     "output_type": "stream",
     "text": [
      "6364*, 6365*, 6366*, 6367*, "
     ]
    },
    {
     "name": "stderr",
     "output_type": "stream",
     "text": [
      "PdfReadWarning: Xref table not zero-indexed. ID numbers for objects will be corrected. [pdf.py:1736]\n"
     ]
    },
    {
     "name": "stdout",
     "output_type": "stream",
     "text": [
      "6368*, 6369*, 6370*, "
     ]
    },
    {
     "name": "stderr",
     "output_type": "stream",
     "text": [
      "PdfReadWarning: Xref table not zero-indexed. ID numbers for objects will be corrected. [pdf.py:1736]\n"
     ]
    },
    {
     "name": "stdout",
     "output_type": "stream",
     "text": [
      "6371*, 6372*, 6373*, "
     ]
    },
    {
     "name": "stderr",
     "output_type": "stream",
     "text": [
      "PdfReadWarning: Xref table not zero-indexed. ID numbers for objects will be corrected. [pdf.py:1736]\n"
     ]
    },
    {
     "name": "stdout",
     "output_type": "stream",
     "text": [
      "6374*, 6375*, 6376*, 6377*, 6378*, 6379*, 6380*, 6381*, 6382*, 6383*, "
     ]
    },
    {
     "name": "stderr",
     "output_type": "stream",
     "text": [
      "PdfReadWarning: Xref table not zero-indexed. ID numbers for objects will be corrected. [pdf.py:1736]\n"
     ]
    },
    {
     "name": "stdout",
     "output_type": "stream",
     "text": [
      "6384*, 6385*, 6386*, 6387*, 6388*, 6389*, "
     ]
    },
    {
     "name": "stderr",
     "output_type": "stream",
     "text": [
      "PdfReadWarning: Xref table not zero-indexed. ID numbers for objects will be corrected. [pdf.py:1736]\n"
     ]
    },
    {
     "name": "stdout",
     "output_type": "stream",
     "text": [
      "6390*, 6391*, "
     ]
    },
    {
     "name": "stderr",
     "output_type": "stream",
     "text": [
      "PdfReadWarning: Xref table not zero-indexed. ID numbers for objects will be corrected. [pdf.py:1736]\n"
     ]
    },
    {
     "name": "stdout",
     "output_type": "stream",
     "text": [
      "6392*, 6393*, 6394*, "
     ]
    },
    {
     "name": "stderr",
     "output_type": "stream",
     "text": [
      "PdfReadWarning: Xref table not zero-indexed. ID numbers for objects will be corrected. [pdf.py:1736]\n"
     ]
    },
    {
     "name": "stdout",
     "output_type": "stream",
     "text": [
      "6395*, 6396*, 6397*, 6398*, 6399*, "
     ]
    },
    {
     "name": "stderr",
     "output_type": "stream",
     "text": [
      "PdfReadWarning: Xref table not zero-indexed. ID numbers for objects will be corrected. [pdf.py:1736]\n"
     ]
    },
    {
     "name": "stdout",
     "output_type": "stream",
     "text": [
      "6400*, 6401*, "
     ]
    },
    {
     "name": "stderr",
     "output_type": "stream",
     "text": [
      "PdfReadWarning: Xref table not zero-indexed. ID numbers for objects will be corrected. [pdf.py:1736]\n"
     ]
    },
    {
     "name": "stdout",
     "output_type": "stream",
     "text": [
      "6402*, 6403*, "
     ]
    },
    {
     "name": "stderr",
     "output_type": "stream",
     "text": [
      "PdfReadWarning: Xref table not zero-indexed. ID numbers for objects will be corrected. [pdf.py:1736]\n"
     ]
    },
    {
     "name": "stdout",
     "output_type": "stream",
     "text": [
      "6404*, 6405*, "
     ]
    },
    {
     "name": "stderr",
     "output_type": "stream",
     "text": [
      "PdfReadWarning: Xref table not zero-indexed. ID numbers for objects will be corrected. [pdf.py:1736]\n"
     ]
    },
    {
     "name": "stdout",
     "output_type": "stream",
     "text": [
      "6406*, 6407*, 6408*, "
     ]
    },
    {
     "name": "stderr",
     "output_type": "stream",
     "text": [
      "PdfReadWarning: Xref table not zero-indexed. ID numbers for objects will be corrected. [pdf.py:1736]\n"
     ]
    },
    {
     "name": "stdout",
     "output_type": "stream",
     "text": [
      "6409*, 6410*, 6411*, "
     ]
    },
    {
     "name": "stderr",
     "output_type": "stream",
     "text": [
      "PdfReadWarning: Xref table not zero-indexed. ID numbers for objects will be corrected. [pdf.py:1736]\n"
     ]
    },
    {
     "name": "stdout",
     "output_type": "stream",
     "text": [
      "6412*, 6413*, 6414*, "
     ]
    },
    {
     "name": "stderr",
     "output_type": "stream",
     "text": [
      "PdfReadWarning: Xref table not zero-indexed. ID numbers for objects will be corrected. [pdf.py:1736]\n"
     ]
    },
    {
     "name": "stdout",
     "output_type": "stream",
     "text": [
      "6415*, 6416*, 6417*, 6418*, 6419*, 6420*, "
     ]
    },
    {
     "name": "stderr",
     "output_type": "stream",
     "text": [
      "PdfReadWarning: Xref table not zero-indexed. ID numbers for objects will be corrected. [pdf.py:1736]\n"
     ]
    },
    {
     "name": "stdout",
     "output_type": "stream",
     "text": [
      "6421*, "
     ]
    },
    {
     "name": "stderr",
     "output_type": "stream",
     "text": [
      "PdfReadWarning: Xref table not zero-indexed. ID numbers for objects will be corrected. [pdf.py:1736]\n"
     ]
    },
    {
     "name": "stdout",
     "output_type": "stream",
     "text": [
      "6422*, "
     ]
    },
    {
     "name": "stderr",
     "output_type": "stream",
     "text": [
      "PdfReadWarning: Xref table not zero-indexed. ID numbers for objects will be corrected. [pdf.py:1736]\n"
     ]
    },
    {
     "name": "stdout",
     "output_type": "stream",
     "text": [
      "6423*, 6424*, "
     ]
    },
    {
     "name": "stderr",
     "output_type": "stream",
     "text": [
      "PdfReadWarning: Xref table not zero-indexed. ID numbers for objects will be corrected. [pdf.py:1736]\n"
     ]
    },
    {
     "name": "stdout",
     "output_type": "stream",
     "text": [
      "6425*, 6426*, 6427*, 6428*, 6429*, 6430*, 6431*, "
     ]
    },
    {
     "name": "stderr",
     "output_type": "stream",
     "text": [
      "PdfReadWarning: Xref table not zero-indexed. ID numbers for objects will be corrected. [pdf.py:1736]\n"
     ]
    },
    {
     "name": "stdout",
     "output_type": "stream",
     "text": [
      "6432*, 6433*, 6434*, 6435*, "
     ]
    },
    {
     "name": "stderr",
     "output_type": "stream",
     "text": [
      "PdfReadWarning: Xref table not zero-indexed. ID numbers for objects will be corrected. [pdf.py:1736]\n"
     ]
    },
    {
     "name": "stdout",
     "output_type": "stream",
     "text": [
      "6436*, 6437*, 6438*, "
     ]
    },
    {
     "name": "stderr",
     "output_type": "stream",
     "text": [
      "PdfReadWarning: Xref table not zero-indexed. ID numbers for objects will be corrected. [pdf.py:1736]\n"
     ]
    },
    {
     "name": "stdout",
     "output_type": "stream",
     "text": [
      "6439*, 6440*, 6441*, 6442*, 6443*, 6444*, "
     ]
    },
    {
     "name": "stderr",
     "output_type": "stream",
     "text": [
      "PdfReadWarning: Xref table not zero-indexed. ID numbers for objects will be corrected. [pdf.py:1736]\n"
     ]
    },
    {
     "name": "stdout",
     "output_type": "stream",
     "text": [
      "6445*, 6446*, 6447*, 6448*, 6449*, 6450*, "
     ]
    },
    {
     "name": "stderr",
     "output_type": "stream",
     "text": [
      "PdfReadWarning: Xref table not zero-indexed. ID numbers for objects will be corrected. [pdf.py:1736]\n"
     ]
    },
    {
     "name": "stdout",
     "output_type": "stream",
     "text": [
      "6451*, 6452*, 6453*, 6454*, 6455*, 6456*, "
     ]
    },
    {
     "name": "stderr",
     "output_type": "stream",
     "text": [
      "PdfReadWarning: Xref table not zero-indexed. ID numbers for objects will be corrected. [pdf.py:1736]\n"
     ]
    },
    {
     "name": "stdout",
     "output_type": "stream",
     "text": [
      "6457*, 6458*, "
     ]
    },
    {
     "name": "stderr",
     "output_type": "stream",
     "text": [
      "PdfReadWarning: Xref table not zero-indexed. ID numbers for objects will be corrected. [pdf.py:1736]\n"
     ]
    },
    {
     "name": "stdout",
     "output_type": "stream",
     "text": [
      "6459*, 6460*, 6461*, 6462*, "
     ]
    },
    {
     "name": "stderr",
     "output_type": "stream",
     "text": [
      "PdfReadWarning: Xref table not zero-indexed. ID numbers for objects will be corrected. [pdf.py:1736]\n"
     ]
    },
    {
     "name": "stdout",
     "output_type": "stream",
     "text": [
      "6463*, 6464*, 6465*, 6466*, 6467*, "
     ]
    },
    {
     "name": "stderr",
     "output_type": "stream",
     "text": [
      "PdfReadWarning: Xref table not zero-indexed. ID numbers for objects will be corrected. [pdf.py:1736]\n"
     ]
    },
    {
     "name": "stdout",
     "output_type": "stream",
     "text": [
      "6468*, 6469*, "
     ]
    },
    {
     "name": "stderr",
     "output_type": "stream",
     "text": [
      "PdfReadWarning: Xref table not zero-indexed. ID numbers for objects will be corrected. [pdf.py:1736]\n"
     ]
    },
    {
     "name": "stdout",
     "output_type": "stream",
     "text": [
      "6470*, 6471*, "
     ]
    },
    {
     "name": "stderr",
     "output_type": "stream",
     "text": [
      "PdfReadWarning: Xref table not zero-indexed. ID numbers for objects will be corrected. [pdf.py:1736]\n"
     ]
    },
    {
     "name": "stdout",
     "output_type": "stream",
     "text": [
      "6472*, 6473*, 6474*, "
     ]
    },
    {
     "name": "stderr",
     "output_type": "stream",
     "text": [
      "PdfReadWarning: Xref table not zero-indexed. ID numbers for objects will be corrected. [pdf.py:1736]\n"
     ]
    },
    {
     "name": "stdout",
     "output_type": "stream",
     "text": [
      "6475*, 6476*, 6477*, "
     ]
    },
    {
     "name": "stderr",
     "output_type": "stream",
     "text": [
      "PdfReadWarning: Xref table not zero-indexed. ID numbers for objects will be corrected. [pdf.py:1736]\n"
     ]
    },
    {
     "name": "stdout",
     "output_type": "stream",
     "text": [
      "6478*, 6479*, 6480*, 6481*, 6482*, "
     ]
    },
    {
     "name": "stderr",
     "output_type": "stream",
     "text": [
      "PdfReadWarning: Xref table not zero-indexed. ID numbers for objects will be corrected. [pdf.py:1736]\n"
     ]
    },
    {
     "name": "stdout",
     "output_type": "stream",
     "text": [
      "6483*, 6484*, 6485*, "
     ]
    },
    {
     "name": "stderr",
     "output_type": "stream",
     "text": [
      "PdfReadWarning: Xref table not zero-indexed. ID numbers for objects will be corrected. [pdf.py:1736]\n"
     ]
    },
    {
     "name": "stdout",
     "output_type": "stream",
     "text": [
      "6486*, 6487*, 6488*, "
     ]
    },
    {
     "name": "stderr",
     "output_type": "stream",
     "text": [
      "PdfReadWarning: Xref table not zero-indexed. ID numbers for objects will be corrected. [pdf.py:1736]\n"
     ]
    },
    {
     "name": "stdout",
     "output_type": "stream",
     "text": [
      "6489*, 6490*, 6491*, "
     ]
    },
    {
     "name": "stderr",
     "output_type": "stream",
     "text": [
      "PdfReadWarning: Xref table not zero-indexed. ID numbers for objects will be corrected. [pdf.py:1736]\n"
     ]
    },
    {
     "name": "stdout",
     "output_type": "stream",
     "text": [
      "6492*, 6493*, 6494*, "
     ]
    },
    {
     "name": "stderr",
     "output_type": "stream",
     "text": [
      "PdfReadWarning: Xref table not zero-indexed. ID numbers for objects will be corrected. [pdf.py:1736]\n"
     ]
    },
    {
     "name": "stdout",
     "output_type": "stream",
     "text": [
      "6495*, 6496*, 6497*, 6498*, 6499*, 6500*, 6501*, 6502*, "
     ]
    },
    {
     "name": "stderr",
     "output_type": "stream",
     "text": [
      "PdfReadWarning: Xref table not zero-indexed. ID numbers for objects will be corrected. [pdf.py:1736]\n"
     ]
    },
    {
     "name": "stdout",
     "output_type": "stream",
     "text": [
      "6503*, 6504*, 6505*, "
     ]
    },
    {
     "name": "stderr",
     "output_type": "stream",
     "text": [
      "PdfReadWarning: Xref table not zero-indexed. ID numbers for objects will be corrected. [pdf.py:1736]\n"
     ]
    },
    {
     "name": "stdout",
     "output_type": "stream",
     "text": [
      "6506*, 6507*, 6508*, 6509*, 6510*, "
     ]
    },
    {
     "name": "stderr",
     "output_type": "stream",
     "text": [
      "PdfReadWarning: Xref table not zero-indexed. ID numbers for objects will be corrected. [pdf.py:1736]\n"
     ]
    },
    {
     "name": "stdout",
     "output_type": "stream",
     "text": [
      "6511*, 6512*, 6513*, "
     ]
    },
    {
     "name": "stderr",
     "output_type": "stream",
     "text": [
      "PdfReadWarning: Xref table not zero-indexed. ID numbers for objects will be corrected. [pdf.py:1736]\n"
     ]
    },
    {
     "name": "stdout",
     "output_type": "stream",
     "text": [
      "6514*, "
     ]
    },
    {
     "name": "stderr",
     "output_type": "stream",
     "text": [
      "PdfReadWarning: Xref table not zero-indexed. ID numbers for objects will be corrected. [pdf.py:1736]\n"
     ]
    },
    {
     "name": "stdout",
     "output_type": "stream",
     "text": [
      "6515*, "
     ]
    },
    {
     "name": "stderr",
     "output_type": "stream",
     "text": [
      "PdfReadWarning: Xref table not zero-indexed. ID numbers for objects will be corrected. [pdf.py:1736]\n"
     ]
    },
    {
     "name": "stdout",
     "output_type": "stream",
     "text": [
      "6516*, 6517*, 6518*, 6519*, "
     ]
    },
    {
     "name": "stderr",
     "output_type": "stream",
     "text": [
      "PdfReadWarning: Xref table not zero-indexed. ID numbers for objects will be corrected. [pdf.py:1736]\n"
     ]
    },
    {
     "name": "stdout",
     "output_type": "stream",
     "text": [
      "6520*, 6521*, 6522*, 6523*, "
     ]
    },
    {
     "name": "stderr",
     "output_type": "stream",
     "text": [
      "PdfReadWarning: Xref table not zero-indexed. ID numbers for objects will be corrected. [pdf.py:1736]\n"
     ]
    },
    {
     "name": "stdout",
     "output_type": "stream",
     "text": [
      "6524*, "
     ]
    },
    {
     "name": "stderr",
     "output_type": "stream",
     "text": [
      "PdfReadWarning: Xref table not zero-indexed. ID numbers for objects will be corrected. [pdf.py:1736]\n"
     ]
    },
    {
     "name": "stdout",
     "output_type": "stream",
     "text": [
      "6525*, 6526*, 6527*, "
     ]
    },
    {
     "name": "stderr",
     "output_type": "stream",
     "text": [
      "PdfReadWarning: Xref table not zero-indexed. ID numbers for objects will be corrected. [pdf.py:1736]\n"
     ]
    },
    {
     "name": "stdout",
     "output_type": "stream",
     "text": [
      "6528*, 6529*, 6530*, 6531*, 6532*, 6533*, 6534*, "
     ]
    },
    {
     "name": "stderr",
     "output_type": "stream",
     "text": [
      "PdfReadWarning: Xref table not zero-indexed. ID numbers for objects will be corrected. [pdf.py:1736]\n"
     ]
    },
    {
     "name": "stdout",
     "output_type": "stream",
     "text": [
      "6535*, 6536*, 6537*, "
     ]
    },
    {
     "name": "stderr",
     "output_type": "stream",
     "text": [
      "PdfReadWarning: Xref table not zero-indexed. ID numbers for objects will be corrected. [pdf.py:1736]\n"
     ]
    },
    {
     "name": "stdout",
     "output_type": "stream",
     "text": [
      "6538*, 6539*, 6540*, 6541*, 6542*, "
     ]
    },
    {
     "name": "stderr",
     "output_type": "stream",
     "text": [
      "PdfReadWarning: Xref table not zero-indexed. ID numbers for objects will be corrected. [pdf.py:1736]\n"
     ]
    },
    {
     "name": "stdout",
     "output_type": "stream",
     "text": [
      "6543*, "
     ]
    },
    {
     "name": "stderr",
     "output_type": "stream",
     "text": [
      "PdfReadWarning: Xref table not zero-indexed. ID numbers for objects will be corrected. [pdf.py:1736]\n"
     ]
    },
    {
     "name": "stdout",
     "output_type": "stream",
     "text": [
      "6544*, 6545*, 6546*, 6547*, "
     ]
    },
    {
     "name": "stderr",
     "output_type": "stream",
     "text": [
      "PdfReadWarning: Xref table not zero-indexed. ID numbers for objects will be corrected. [pdf.py:1736]\n"
     ]
    },
    {
     "name": "stdout",
     "output_type": "stream",
     "text": [
      "6548*, "
     ]
    },
    {
     "name": "stderr",
     "output_type": "stream",
     "text": [
      "PdfReadWarning: Xref table not zero-indexed. ID numbers for objects will be corrected. [pdf.py:1736]\n"
     ]
    },
    {
     "name": "stdout",
     "output_type": "stream",
     "text": [
      "6549*, "
     ]
    },
    {
     "name": "stderr",
     "output_type": "stream",
     "text": [
      "PdfReadWarning: Xref table not zero-indexed. ID numbers for objects will be corrected. [pdf.py:1736]\n"
     ]
    },
    {
     "name": "stdout",
     "output_type": "stream",
     "text": [
      "6550*, "
     ]
    },
    {
     "name": "stderr",
     "output_type": "stream",
     "text": [
      "PdfReadWarning: Xref table not zero-indexed. ID numbers for objects will be corrected. [pdf.py:1736]\n"
     ]
    },
    {
     "name": "stdout",
     "output_type": "stream",
     "text": [
      "6551*, "
     ]
    },
    {
     "name": "stderr",
     "output_type": "stream",
     "text": [
      "PdfReadWarning: Xref table not zero-indexed. ID numbers for objects will be corrected. [pdf.py:1736]\n"
     ]
    },
    {
     "name": "stdout",
     "output_type": "stream",
     "text": [
      "6552*, "
     ]
    },
    {
     "name": "stderr",
     "output_type": "stream",
     "text": [
      "PdfReadWarning: Xref table not zero-indexed. ID numbers for objects will be corrected. [pdf.py:1736]\n"
     ]
    },
    {
     "name": "stdout",
     "output_type": "stream",
     "text": [
      "6553*, "
     ]
    },
    {
     "name": "stderr",
     "output_type": "stream",
     "text": [
      "PdfReadWarning: Xref table not zero-indexed. ID numbers for objects will be corrected. [pdf.py:1736]\n"
     ]
    },
    {
     "name": "stdout",
     "output_type": "stream",
     "text": [
      "6554*, "
     ]
    },
    {
     "name": "stderr",
     "output_type": "stream",
     "text": [
      "PdfReadWarning: Xref table not zero-indexed. ID numbers for objects will be corrected. [pdf.py:1736]\n"
     ]
    },
    {
     "name": "stdout",
     "output_type": "stream",
     "text": [
      "6555*, 6556*, 6557*, 6558*, 6559*, "
     ]
    },
    {
     "name": "stderr",
     "output_type": "stream",
     "text": [
      "PdfReadWarning: Xref table not zero-indexed. ID numbers for objects will be corrected. [pdf.py:1736]\n"
     ]
    },
    {
     "name": "stdout",
     "output_type": "stream",
     "text": [
      "6560*, 6561*, 6562*, "
     ]
    },
    {
     "name": "stderr",
     "output_type": "stream",
     "text": [
      "PdfReadWarning: Xref table not zero-indexed. ID numbers for objects will be corrected. [pdf.py:1736]\n"
     ]
    },
    {
     "name": "stdout",
     "output_type": "stream",
     "text": [
      "6563*, 6564*, 6565*, 6566*, "
     ]
    },
    {
     "name": "stderr",
     "output_type": "stream",
     "text": [
      "PdfReadWarning: Xref table not zero-indexed. ID numbers for objects will be corrected. [pdf.py:1736]\n"
     ]
    },
    {
     "name": "stdout",
     "output_type": "stream",
     "text": [
      "6567*, 6568*, 6569*, 6570*, 6571*, 6572*, 6573*, 6574*, 6575*, 6576*, 6577*, 6578*, 6579*, 6580*, 6581*, "
     ]
    },
    {
     "name": "stderr",
     "output_type": "stream",
     "text": [
      "PdfReadWarning: Xref table not zero-indexed. ID numbers for objects will be corrected. [pdf.py:1736]\n"
     ]
    },
    {
     "name": "stdout",
     "output_type": "stream",
     "text": [
      "6582*, 6583*, 6584*, 6585*, 6586*, 6587*, 6588*, 6589*, 6590*, 6591*, 6592*, "
     ]
    },
    {
     "name": "stderr",
     "output_type": "stream",
     "text": [
      "PdfReadWarning: Xref table not zero-indexed. ID numbers for objects will be corrected. [pdf.py:1736]\n"
     ]
    },
    {
     "name": "stdout",
     "output_type": "stream",
     "text": [
      "6593*, 6594*, "
     ]
    },
    {
     "name": "stderr",
     "output_type": "stream",
     "text": [
      "PdfReadWarning: Xref table not zero-indexed. ID numbers for objects will be corrected. [pdf.py:1736]\n"
     ]
    },
    {
     "name": "stdout",
     "output_type": "stream",
     "text": [
      "6595*, 6596*, 6597*, "
     ]
    },
    {
     "name": "stderr",
     "output_type": "stream",
     "text": [
      "PdfReadWarning: Xref table not zero-indexed. ID numbers for objects will be corrected. [pdf.py:1736]\n"
     ]
    },
    {
     "name": "stdout",
     "output_type": "stream",
     "text": [
      "6598*, 6599*, 6600*, "
     ]
    },
    {
     "name": "stderr",
     "output_type": "stream",
     "text": [
      "PdfReadWarning: Xref table not zero-indexed. ID numbers for objects will be corrected. [pdf.py:1736]\n"
     ]
    },
    {
     "name": "stdout",
     "output_type": "stream",
     "text": [
      "6601*, 6602*, 6603*, "
     ]
    },
    {
     "name": "stderr",
     "output_type": "stream",
     "text": [
      "PdfReadWarning: Xref table not zero-indexed. ID numbers for objects will be corrected. [pdf.py:1736]\n"
     ]
    },
    {
     "name": "stdout",
     "output_type": "stream",
     "text": [
      "6604*, 6605*, 6606*, 6607*, 6608*, "
     ]
    },
    {
     "name": "stderr",
     "output_type": "stream",
     "text": [
      "PdfReadWarning: Xref table not zero-indexed. ID numbers for objects will be corrected. [pdf.py:1736]\n"
     ]
    },
    {
     "name": "stdout",
     "output_type": "stream",
     "text": [
      "6609*, 6610*, 6611*, "
     ]
    },
    {
     "name": "stderr",
     "output_type": "stream",
     "text": [
      "PdfReadWarning: Xref table not zero-indexed. ID numbers for objects will be corrected. [pdf.py:1736]\n"
     ]
    },
    {
     "name": "stdout",
     "output_type": "stream",
     "text": [
      "6612*, 6613*, 6614*, "
     ]
    },
    {
     "name": "stderr",
     "output_type": "stream",
     "text": [
      "PdfReadWarning: Xref table not zero-indexed. ID numbers for objects will be corrected. [pdf.py:1736]\n"
     ]
    },
    {
     "name": "stdout",
     "output_type": "stream",
     "text": [
      "6615*, 6616*, 6617*, "
     ]
    },
    {
     "name": "stderr",
     "output_type": "stream",
     "text": [
      "PdfReadWarning: Xref table not zero-indexed. ID numbers for objects will be corrected. [pdf.py:1736]\n"
     ]
    },
    {
     "name": "stdout",
     "output_type": "stream",
     "text": [
      "6618*, 6619*, 6620*, "
     ]
    },
    {
     "name": "stderr",
     "output_type": "stream",
     "text": [
      "PdfReadWarning: Xref table not zero-indexed. ID numbers for objects will be corrected. [pdf.py:1736]\n"
     ]
    },
    {
     "name": "stdout",
     "output_type": "stream",
     "text": [
      "6621*, 6622*, 6623*, "
     ]
    },
    {
     "name": "stderr",
     "output_type": "stream",
     "text": [
      "PdfReadWarning: Xref table not zero-indexed. ID numbers for objects will be corrected. [pdf.py:1736]\n"
     ]
    },
    {
     "name": "stdout",
     "output_type": "stream",
     "text": [
      "6624*, 6625*, 6626*, "
     ]
    },
    {
     "name": "stderr",
     "output_type": "stream",
     "text": [
      "PdfReadWarning: Xref table not zero-indexed. ID numbers for objects will be corrected. [pdf.py:1736]\n"
     ]
    },
    {
     "name": "stdout",
     "output_type": "stream",
     "text": [
      "6627*, 6628*, 6629*, "
     ]
    },
    {
     "name": "stderr",
     "output_type": "stream",
     "text": [
      "PdfReadWarning: Xref table not zero-indexed. ID numbers for objects will be corrected. [pdf.py:1736]\n"
     ]
    },
    {
     "name": "stdout",
     "output_type": "stream",
     "text": [
      "6630*, 6631*, 6632*, "
     ]
    },
    {
     "name": "stderr",
     "output_type": "stream",
     "text": [
      "PdfReadWarning: Xref table not zero-indexed. ID numbers for objects will be corrected. [pdf.py:1736]\n"
     ]
    },
    {
     "name": "stdout",
     "output_type": "stream",
     "text": [
      "6633*, 6634*, 6635*, 6636*, "
     ]
    },
    {
     "name": "stderr",
     "output_type": "stream",
     "text": [
      "PdfReadWarning: Xref table not zero-indexed. ID numbers for objects will be corrected. [pdf.py:1736]\n"
     ]
    },
    {
     "name": "stdout",
     "output_type": "stream",
     "text": [
      "6637*, 6638*, 6639*, "
     ]
    },
    {
     "name": "stderr",
     "output_type": "stream",
     "text": [
      "PdfReadWarning: Xref table not zero-indexed. ID numbers for objects will be corrected. [pdf.py:1736]\n"
     ]
    },
    {
     "name": "stdout",
     "output_type": "stream",
     "text": [
      "6640*, 6641*, 6642*, 6643*, 6644*, 6645*, 6646*, "
     ]
    },
    {
     "name": "stderr",
     "output_type": "stream",
     "text": [
      "PdfReadWarning: Xref table not zero-indexed. ID numbers for objects will be corrected. [pdf.py:1736]\n"
     ]
    },
    {
     "name": "stdout",
     "output_type": "stream",
     "text": [
      "6647*, 6648*, 6649*, "
     ]
    },
    {
     "name": "stderr",
     "output_type": "stream",
     "text": [
      "PdfReadWarning: Xref table not zero-indexed. ID numbers for objects will be corrected. [pdf.py:1736]\n"
     ]
    },
    {
     "name": "stdout",
     "output_type": "stream",
     "text": [
      "6650*, 6651*, 6652*, "
     ]
    },
    {
     "name": "stderr",
     "output_type": "stream",
     "text": [
      "PdfReadWarning: Xref table not zero-indexed. ID numbers for objects will be corrected. [pdf.py:1736]\n"
     ]
    },
    {
     "name": "stdout",
     "output_type": "stream",
     "text": [
      "6653*, 6654*, 6655*, "
     ]
    },
    {
     "name": "stderr",
     "output_type": "stream",
     "text": [
      "PdfReadWarning: Xref table not zero-indexed. ID numbers for objects will be corrected. [pdf.py:1736]\n"
     ]
    },
    {
     "name": "stdout",
     "output_type": "stream",
     "text": [
      "6656*, 6657*, 6658*, "
     ]
    },
    {
     "name": "stderr",
     "output_type": "stream",
     "text": [
      "PdfReadWarning: Xref table not zero-indexed. ID numbers for objects will be corrected. [pdf.py:1736]\n"
     ]
    },
    {
     "name": "stdout",
     "output_type": "stream",
     "text": [
      "6659*, 6660*, 6661*, "
     ]
    },
    {
     "name": "stderr",
     "output_type": "stream",
     "text": [
      "PdfReadWarning: Xref table not zero-indexed. ID numbers for objects will be corrected. [pdf.py:1736]\n"
     ]
    },
    {
     "name": "stdout",
     "output_type": "stream",
     "text": [
      "6662*, 6663*, 6664*, "
     ]
    },
    {
     "name": "stderr",
     "output_type": "stream",
     "text": [
      "PdfReadWarning: Xref table not zero-indexed. ID numbers for objects will be corrected. [pdf.py:1736]\n"
     ]
    },
    {
     "name": "stdout",
     "output_type": "stream",
     "text": [
      "6665*, 6666*, 6667*, "
     ]
    },
    {
     "name": "stderr",
     "output_type": "stream",
     "text": [
      "PdfReadWarning: Xref table not zero-indexed. ID numbers for objects will be corrected. [pdf.py:1736]\n"
     ]
    },
    {
     "name": "stdout",
     "output_type": "stream",
     "text": [
      "6668*, 6669*, 6670*, "
     ]
    },
    {
     "name": "stderr",
     "output_type": "stream",
     "text": [
      "PdfReadWarning: Xref table not zero-indexed. ID numbers for objects will be corrected. [pdf.py:1736]\n"
     ]
    },
    {
     "name": "stdout",
     "output_type": "stream",
     "text": [
      "6671*, 6672*, 6673*, "
     ]
    },
    {
     "name": "stderr",
     "output_type": "stream",
     "text": [
      "PdfReadWarning: Xref table not zero-indexed. ID numbers for objects will be corrected. [pdf.py:1736]\n"
     ]
    },
    {
     "name": "stdout",
     "output_type": "stream",
     "text": [
      "6674*, 6675*, 6676*, "
     ]
    },
    {
     "name": "stderr",
     "output_type": "stream",
     "text": [
      "PdfReadWarning: Xref table not zero-indexed. ID numbers for objects will be corrected. [pdf.py:1736]\n"
     ]
    },
    {
     "name": "stdout",
     "output_type": "stream",
     "text": [
      "6677*, 6678*, 6679*, 6680*, "
     ]
    },
    {
     "name": "stderr",
     "output_type": "stream",
     "text": [
      "PdfReadWarning: Xref table not zero-indexed. ID numbers for objects will be corrected. [pdf.py:1736]\n"
     ]
    },
    {
     "name": "stdout",
     "output_type": "stream",
     "text": [
      "6681*, 6682*, 6683*, "
     ]
    },
    {
     "name": "stderr",
     "output_type": "stream",
     "text": [
      "PdfReadWarning: Xref table not zero-indexed. ID numbers for objects will be corrected. [pdf.py:1736]\n"
     ]
    },
    {
     "name": "stdout",
     "output_type": "stream",
     "text": [
      "6684*, 6685*, 6686*, 6687*, 6688*, 6689*, 6690*, "
     ]
    },
    {
     "name": "stderr",
     "output_type": "stream",
     "text": [
      "PdfReadWarning: Xref table not zero-indexed. ID numbers for objects will be corrected. [pdf.py:1736]\n"
     ]
    },
    {
     "name": "stdout",
     "output_type": "stream",
     "text": [
      "6691*, 6692*, 6693*, "
     ]
    },
    {
     "name": "stderr",
     "output_type": "stream",
     "text": [
      "PdfReadWarning: Xref table not zero-indexed. ID numbers for objects will be corrected. [pdf.py:1736]\n"
     ]
    },
    {
     "name": "stdout",
     "output_type": "stream",
     "text": [
      "6694*, 6695*, 6696*, "
     ]
    },
    {
     "name": "stderr",
     "output_type": "stream",
     "text": [
      "PdfReadWarning: Xref table not zero-indexed. ID numbers for objects will be corrected. [pdf.py:1736]\n"
     ]
    },
    {
     "name": "stdout",
     "output_type": "stream",
     "text": [
      "6697*, 6698*, 6699*, 6700*, "
     ]
    },
    {
     "name": "stderr",
     "output_type": "stream",
     "text": [
      "PdfReadWarning: Xref table not zero-indexed. ID numbers for objects will be corrected. [pdf.py:1736]\n"
     ]
    },
    {
     "name": "stdout",
     "output_type": "stream",
     "text": [
      "6701*, 6702*, 6703*, "
     ]
    },
    {
     "name": "stderr",
     "output_type": "stream",
     "text": [
      "PdfReadWarning: Xref table not zero-indexed. ID numbers for objects will be corrected. [pdf.py:1736]\n"
     ]
    },
    {
     "name": "stdout",
     "output_type": "stream",
     "text": [
      "6704*, 6705*, 6706*, 6707*, 6708*, "
     ]
    },
    {
     "name": "stderr",
     "output_type": "stream",
     "text": [
      "PdfReadWarning: Xref table not zero-indexed. ID numbers for objects will be corrected. [pdf.py:1736]\n"
     ]
    },
    {
     "name": "stdout",
     "output_type": "stream",
     "text": [
      "6709*, 6710*, 6711*, "
     ]
    },
    {
     "name": "stderr",
     "output_type": "stream",
     "text": [
      "PdfReadWarning: Xref table not zero-indexed. ID numbers for objects will be corrected. [pdf.py:1736]\n"
     ]
    },
    {
     "name": "stdout",
     "output_type": "stream",
     "text": [
      "6712*, 6713*, 6714*, 6715*, 6716*, "
     ]
    },
    {
     "name": "stderr",
     "output_type": "stream",
     "text": [
      "PdfReadWarning: Xref table not zero-indexed. ID numbers for objects will be corrected. [pdf.py:1736]\n"
     ]
    },
    {
     "name": "stdout",
     "output_type": "stream",
     "text": [
      "6717*, 6718*, 6719*, "
     ]
    },
    {
     "name": "stderr",
     "output_type": "stream",
     "text": [
      "PdfReadWarning: Xref table not zero-indexed. ID numbers for objects will be corrected. [pdf.py:1736]\n"
     ]
    },
    {
     "name": "stdout",
     "output_type": "stream",
     "text": [
      "6720*, 6721*, 6722*, 6723*, "
     ]
    },
    {
     "name": "stderr",
     "output_type": "stream",
     "text": [
      "PdfReadWarning: Xref table not zero-indexed. ID numbers for objects will be corrected. [pdf.py:1736]\n"
     ]
    },
    {
     "name": "stdout",
     "output_type": "stream",
     "text": [
      "6724*, 6725*, 6726*, 6727*, "
     ]
    },
    {
     "name": "stderr",
     "output_type": "stream",
     "text": [
      "PdfReadWarning: Xref table not zero-indexed. ID numbers for objects will be corrected. [pdf.py:1736]\n"
     ]
    },
    {
     "name": "stdout",
     "output_type": "stream",
     "text": [
      "6728*, 6729*, 6730*, 6731*, 6732*, "
     ]
    },
    {
     "name": "stderr",
     "output_type": "stream",
     "text": [
      "PdfReadWarning: Xref table not zero-indexed. ID numbers for objects will be corrected. [pdf.py:1736]\n"
     ]
    },
    {
     "name": "stdout",
     "output_type": "stream",
     "text": [
      "6733*, 6734*, 6735*, 6736*, 6737*, "
     ]
    },
    {
     "name": "stderr",
     "output_type": "stream",
     "text": [
      "PdfReadWarning: Xref table not zero-indexed. ID numbers for objects will be corrected. [pdf.py:1736]\n"
     ]
    },
    {
     "name": "stdout",
     "output_type": "stream",
     "text": [
      "6738*, 6739*, 6740*, "
     ]
    },
    {
     "name": "stderr",
     "output_type": "stream",
     "text": [
      "PdfReadWarning: Xref table not zero-indexed. ID numbers for objects will be corrected. [pdf.py:1736]\n"
     ]
    },
    {
     "name": "stdout",
     "output_type": "stream",
     "text": [
      "6741*, 6742*, 6743*, 6744*, 6745*, "
     ]
    },
    {
     "name": "stderr",
     "output_type": "stream",
     "text": [
      "PdfReadWarning: Xref table not zero-indexed. ID numbers for objects will be corrected. [pdf.py:1736]\n"
     ]
    },
    {
     "name": "stdout",
     "output_type": "stream",
     "text": [
      "6746*, 6747*, 6748*, "
     ]
    },
    {
     "name": "stderr",
     "output_type": "stream",
     "text": [
      "PdfReadWarning: Xref table not zero-indexed. ID numbers for objects will be corrected. [pdf.py:1736]\n"
     ]
    },
    {
     "name": "stdout",
     "output_type": "stream",
     "text": [
      "6749*, 6750*, "
     ]
    },
    {
     "name": "stderr",
     "output_type": "stream",
     "text": [
      "PdfReadWarning: Xref table not zero-indexed. ID numbers for objects will be corrected. [pdf.py:1736]\n"
     ]
    },
    {
     "name": "stdout",
     "output_type": "stream",
     "text": [
      "6751*, 6752*, 6753*, 6754*, 6755*, 6756*, 6757*, "
     ]
    },
    {
     "name": "stderr",
     "output_type": "stream",
     "text": [
      "PdfReadWarning: Xref table not zero-indexed. ID numbers for objects will be corrected. [pdf.py:1736]\n"
     ]
    },
    {
     "name": "stdout",
     "output_type": "stream",
     "text": [
      "6758*, 6759*, 6760*, 6761*, "
     ]
    },
    {
     "name": "stderr",
     "output_type": "stream",
     "text": [
      "PdfReadWarning: Xref table not zero-indexed. ID numbers for objects will be corrected. [pdf.py:1736]\n"
     ]
    },
    {
     "name": "stdout",
     "output_type": "stream",
     "text": [
      "6762*, 6763*, 6764*, "
     ]
    },
    {
     "name": "stderr",
     "output_type": "stream",
     "text": [
      "PdfReadWarning: Xref table not zero-indexed. ID numbers for objects will be corrected. [pdf.py:1736]\n"
     ]
    },
    {
     "name": "stdout",
     "output_type": "stream",
     "text": [
      "6765*, 6766*, "
     ]
    },
    {
     "name": "stderr",
     "output_type": "stream",
     "text": [
      "PdfReadWarning: Xref table not zero-indexed. ID numbers for objects will be corrected. [pdf.py:1736]\n"
     ]
    },
    {
     "name": "stdout",
     "output_type": "stream",
     "text": [
      "6767*, 6768*, 6769*, 6770*, "
     ]
    },
    {
     "name": "stderr",
     "output_type": "stream",
     "text": [
      "PdfReadWarning: Xref table not zero-indexed. ID numbers for objects will be corrected. [pdf.py:1736]\n"
     ]
    },
    {
     "name": "stdout",
     "output_type": "stream",
     "text": [
      "6771*, 6772*, 6773*, "
     ]
    },
    {
     "name": "stderr",
     "output_type": "stream",
     "text": [
      "PdfReadWarning: Xref table not zero-indexed. ID numbers for objects will be corrected. [pdf.py:1736]\n"
     ]
    },
    {
     "name": "stdout",
     "output_type": "stream",
     "text": [
      "6774*, 6775*, 6776*, 6777*, 6778*, 6779*, 6780*, "
     ]
    },
    {
     "name": "stderr",
     "output_type": "stream",
     "text": [
      "PdfReadWarning: Xref table not zero-indexed. ID numbers for objects will be corrected. [pdf.py:1736]\n"
     ]
    },
    {
     "name": "stdout",
     "output_type": "stream",
     "text": [
      "6781*, 6782*, 6783*, 6784*, "
     ]
    },
    {
     "name": "stderr",
     "output_type": "stream",
     "text": [
      "PdfReadWarning: Xref table not zero-indexed. ID numbers for objects will be corrected. [pdf.py:1736]\n"
     ]
    },
    {
     "name": "stdout",
     "output_type": "stream",
     "text": [
      "6785*, 6786*, 6787*, 6788*, 6789*, 6790*, 6791*, 6792*, 6793*, 6794*, 6795*, "
     ]
    },
    {
     "name": "stderr",
     "output_type": "stream",
     "text": [
      "PdfReadWarning: Xref table not zero-indexed. ID numbers for objects will be corrected. [pdf.py:1736]\n"
     ]
    },
    {
     "name": "stdout",
     "output_type": "stream",
     "text": [
      "6796*, 6797*, 6798*, 6799*, 6800*, 6801*, "
     ]
    },
    {
     "name": "stderr",
     "output_type": "stream",
     "text": [
      "PdfReadWarning: Xref table not zero-indexed. ID numbers for objects will be corrected. [pdf.py:1736]\n"
     ]
    },
    {
     "name": "stdout",
     "output_type": "stream",
     "text": [
      "6802*, 6803*, 6804*, "
     ]
    },
    {
     "name": "stderr",
     "output_type": "stream",
     "text": [
      "PdfReadWarning: Xref table not zero-indexed. ID numbers for objects will be corrected. [pdf.py:1736]\n"
     ]
    },
    {
     "name": "stdout",
     "output_type": "stream",
     "text": [
      "6805*, 6806*, 6807*, "
     ]
    },
    {
     "name": "stderr",
     "output_type": "stream",
     "text": [
      "PdfReadWarning: Xref table not zero-indexed. ID numbers for objects will be corrected. [pdf.py:1736]\n"
     ]
    },
    {
     "name": "stdout",
     "output_type": "stream",
     "text": [
      "6808*, 6809*, 6810*, "
     ]
    },
    {
     "name": "stderr",
     "output_type": "stream",
     "text": [
      "PdfReadWarning: Xref table not zero-indexed. ID numbers for objects will be corrected. [pdf.py:1736]\n"
     ]
    },
    {
     "name": "stdout",
     "output_type": "stream",
     "text": [
      "6811*, 6812*, 6813*, 6814*, "
     ]
    },
    {
     "name": "stderr",
     "output_type": "stream",
     "text": [
      "PdfReadWarning: Xref table not zero-indexed. ID numbers for objects will be corrected. [pdf.py:1736]\n"
     ]
    },
    {
     "name": "stdout",
     "output_type": "stream",
     "text": [
      "6815*, 6816*, "
     ]
    },
    {
     "name": "stderr",
     "output_type": "stream",
     "text": [
      "PdfReadWarning: Xref table not zero-indexed. ID numbers for objects will be corrected. [pdf.py:1736]\n"
     ]
    },
    {
     "name": "stdout",
     "output_type": "stream",
     "text": [
      "6817*, 6818*, 6819*, 6820*, "
     ]
    },
    {
     "name": "stderr",
     "output_type": "stream",
     "text": [
      "PdfReadWarning: Xref table not zero-indexed. ID numbers for objects will be corrected. [pdf.py:1736]\n"
     ]
    },
    {
     "name": "stdout",
     "output_type": "stream",
     "text": [
      "6821*, 6822*, "
     ]
    },
    {
     "name": "stderr",
     "output_type": "stream",
     "text": [
      "PdfReadWarning: Xref table not zero-indexed. ID numbers for objects will be corrected. [pdf.py:1736]\n"
     ]
    },
    {
     "name": "stdout",
     "output_type": "stream",
     "text": [
      "6823*, 6824*, 6825*, 6826*, 6827*, 6828*, 6829*, "
     ]
    },
    {
     "name": "stderr",
     "output_type": "stream",
     "text": [
      "PdfReadWarning: Xref table not zero-indexed. ID numbers for objects will be corrected. [pdf.py:1736]\n"
     ]
    },
    {
     "name": "stdout",
     "output_type": "stream",
     "text": [
      "6830*, 6831*, 6832*, "
     ]
    },
    {
     "name": "stderr",
     "output_type": "stream",
     "text": [
      "PdfReadWarning: Xref table not zero-indexed. ID numbers for objects will be corrected. [pdf.py:1736]\n"
     ]
    },
    {
     "name": "stdout",
     "output_type": "stream",
     "text": [
      "6833*, 6834*, 6835*, "
     ]
    },
    {
     "name": "stderr",
     "output_type": "stream",
     "text": [
      "PdfReadWarning: Xref table not zero-indexed. ID numbers for objects will be corrected. [pdf.py:1736]\n"
     ]
    },
    {
     "name": "stdout",
     "output_type": "stream",
     "text": [
      "6836*, 6837*, "
     ]
    },
    {
     "name": "stderr",
     "output_type": "stream",
     "text": [
      "PdfReadWarning: Xref table not zero-indexed. ID numbers for objects will be corrected. [pdf.py:1736]\n"
     ]
    },
    {
     "name": "stdout",
     "output_type": "stream",
     "text": [
      "6838*, 6839*, 6840*, "
     ]
    },
    {
     "name": "stderr",
     "output_type": "stream",
     "text": [
      "PdfReadWarning: Xref table not zero-indexed. ID numbers for objects will be corrected. [pdf.py:1736]\n"
     ]
    },
    {
     "name": "stdout",
     "output_type": "stream",
     "text": [
      "6841*, 6842*, 6843*, "
     ]
    },
    {
     "name": "stderr",
     "output_type": "stream",
     "text": [
      "PdfReadWarning: Xref table not zero-indexed. ID numbers for objects will be corrected. [pdf.py:1736]\n"
     ]
    },
    {
     "name": "stdout",
     "output_type": "stream",
     "text": [
      "6844*, 6845*, 6846*, "
     ]
    },
    {
     "name": "stderr",
     "output_type": "stream",
     "text": [
      "PdfReadWarning: Xref table not zero-indexed. ID numbers for objects will be corrected. [pdf.py:1736]\n"
     ]
    },
    {
     "name": "stdout",
     "output_type": "stream",
     "text": [
      "6847*, 6848*, 6849*, 6850*, "
     ]
    },
    {
     "name": "stderr",
     "output_type": "stream",
     "text": [
      "PdfReadWarning: Xref table not zero-indexed. ID numbers for objects will be corrected. [pdf.py:1736]\n"
     ]
    },
    {
     "name": "stdout",
     "output_type": "stream",
     "text": [
      "6851*, 6852*, 6853*, 6854*, "
     ]
    },
    {
     "name": "stderr",
     "output_type": "stream",
     "text": [
      "PdfReadWarning: Xref table not zero-indexed. ID numbers for objects will be corrected. [pdf.py:1736]\n"
     ]
    },
    {
     "name": "stdout",
     "output_type": "stream",
     "text": [
      "6855*, 6856*, 6857*, "
     ]
    },
    {
     "name": "stderr",
     "output_type": "stream",
     "text": [
      "PdfReadWarning: Xref table not zero-indexed. ID numbers for objects will be corrected. [pdf.py:1736]\n"
     ]
    },
    {
     "name": "stdout",
     "output_type": "stream",
     "text": [
      "6858*, "
     ]
    },
    {
     "name": "stderr",
     "output_type": "stream",
     "text": [
      "PdfReadWarning: Xref table not zero-indexed. ID numbers for objects will be corrected. [pdf.py:1736]\n"
     ]
    },
    {
     "name": "stdout",
     "output_type": "stream",
     "text": [
      "6859*, 6860*, 6861*, "
     ]
    },
    {
     "name": "stderr",
     "output_type": "stream",
     "text": [
      "PdfReadWarning: Xref table not zero-indexed. ID numbers for objects will be corrected. [pdf.py:1736]\n"
     ]
    },
    {
     "name": "stdout",
     "output_type": "stream",
     "text": [
      "6862*, 6863*, 6864*, "
     ]
    },
    {
     "name": "stderr",
     "output_type": "stream",
     "text": [
      "PdfReadWarning: Xref table not zero-indexed. ID numbers for objects will be corrected. [pdf.py:1736]\n"
     ]
    },
    {
     "name": "stdout",
     "output_type": "stream",
     "text": [
      "6865*, 6866*, 6867*, "
     ]
    },
    {
     "name": "stderr",
     "output_type": "stream",
     "text": [
      "PdfReadWarning: Xref table not zero-indexed. ID numbers for objects will be corrected. [pdf.py:1736]\n"
     ]
    },
    {
     "name": "stdout",
     "output_type": "stream",
     "text": [
      "6868*, 6869*, 6870*, 6871*, "
     ]
    },
    {
     "name": "stderr",
     "output_type": "stream",
     "text": [
      "PdfReadWarning: Xref table not zero-indexed. ID numbers for objects will be corrected. [pdf.py:1736]\n"
     ]
    },
    {
     "name": "stdout",
     "output_type": "stream",
     "text": [
      "6872*, 6873*, 6874*, 6875*, 6876*, "
     ]
    },
    {
     "name": "stderr",
     "output_type": "stream",
     "text": [
      "PdfReadWarning: Xref table not zero-indexed. ID numbers for objects will be corrected. [pdf.py:1736]\n"
     ]
    },
    {
     "name": "stdout",
     "output_type": "stream",
     "text": [
      "6877*, 6878*, 6879*, "
     ]
    },
    {
     "name": "stderr",
     "output_type": "stream",
     "text": [
      "PdfReadWarning: Xref table not zero-indexed. ID numbers for objects will be corrected. [pdf.py:1736]\n"
     ]
    },
    {
     "name": "stdout",
     "output_type": "stream",
     "text": [
      "6880*, 6881*, 6882*, 6883*, 6884*, 6885*, "
     ]
    },
    {
     "name": "stderr",
     "output_type": "stream",
     "text": [
      "PdfReadWarning: Xref table not zero-indexed. ID numbers for objects will be corrected. [pdf.py:1736]\n"
     ]
    },
    {
     "name": "stdout",
     "output_type": "stream",
     "text": [
      "6886*, 6887*, 6888*, 6889*, 6890*, 6891*, "
     ]
    },
    {
     "name": "stderr",
     "output_type": "stream",
     "text": [
      "PdfReadWarning: Xref table not zero-indexed. ID numbers for objects will be corrected. [pdf.py:1736]\n"
     ]
    },
    {
     "name": "stdout",
     "output_type": "stream",
     "text": [
      "6892*, 6893*, 6894*, 6895*, "
     ]
    },
    {
     "name": "stderr",
     "output_type": "stream",
     "text": [
      "PdfReadWarning: Xref table not zero-indexed. ID numbers for objects will be corrected. [pdf.py:1736]\n"
     ]
    },
    {
     "name": "stdout",
     "output_type": "stream",
     "text": [
      "6896*, 6897*, 6898*, "
     ]
    },
    {
     "name": "stderr",
     "output_type": "stream",
     "text": [
      "PdfReadWarning: Xref table not zero-indexed. ID numbers for objects will be corrected. [pdf.py:1736]\n"
     ]
    },
    {
     "name": "stdout",
     "output_type": "stream",
     "text": [
      "6899*, 6900*, 6901*, "
     ]
    },
    {
     "name": "stderr",
     "output_type": "stream",
     "text": [
      "PdfReadWarning: Xref table not zero-indexed. ID numbers for objects will be corrected. [pdf.py:1736]\n"
     ]
    },
    {
     "name": "stdout",
     "output_type": "stream",
     "text": [
      "6902*, 6903*, 6904*, 6905*, "
     ]
    },
    {
     "name": "stderr",
     "output_type": "stream",
     "text": [
      "PdfReadWarning: Xref table not zero-indexed. ID numbers for objects will be corrected. [pdf.py:1736]\n"
     ]
    },
    {
     "name": "stdout",
     "output_type": "stream",
     "text": [
      "6906*, 6907*, "
     ]
    },
    {
     "name": "stderr",
     "output_type": "stream",
     "text": [
      "PdfReadWarning: Xref table not zero-indexed. ID numbers for objects will be corrected. [pdf.py:1736]\n"
     ]
    },
    {
     "name": "stdout",
     "output_type": "stream",
     "text": [
      "6908*, 6909*, 6910*, "
     ]
    },
    {
     "name": "stderr",
     "output_type": "stream",
     "text": [
      "PdfReadWarning: Xref table not zero-indexed. ID numbers for objects will be corrected. [pdf.py:1736]\n"
     ]
    },
    {
     "name": "stdout",
     "output_type": "stream",
     "text": [
      "6911*, 6912*, 6913*, 6914*, "
     ]
    },
    {
     "name": "stderr",
     "output_type": "stream",
     "text": [
      "PdfReadWarning: Xref table not zero-indexed. ID numbers for objects will be corrected. [pdf.py:1736]\n"
     ]
    },
    {
     "name": "stdout",
     "output_type": "stream",
     "text": [
      "6915*, 6916*, "
     ]
    },
    {
     "name": "stderr",
     "output_type": "stream",
     "text": [
      "PdfReadWarning: Xref table not zero-indexed. ID numbers for objects will be corrected. [pdf.py:1736]\n"
     ]
    },
    {
     "name": "stdout",
     "output_type": "stream",
     "text": [
      "6917*, 6918*, 6919*, "
     ]
    },
    {
     "name": "stderr",
     "output_type": "stream",
     "text": [
      "PdfReadWarning: Xref table not zero-indexed. ID numbers for objects will be corrected. [pdf.py:1736]\n"
     ]
    },
    {
     "name": "stdout",
     "output_type": "stream",
     "text": [
      "6920*, 6921*, 6922*, "
     ]
    },
    {
     "name": "stderr",
     "output_type": "stream",
     "text": [
      "PdfReadWarning: Xref table not zero-indexed. ID numbers for objects will be corrected. [pdf.py:1736]\n"
     ]
    },
    {
     "name": "stdout",
     "output_type": "stream",
     "text": [
      "6923*, 6924*, 6925*, 6926*, "
     ]
    },
    {
     "name": "stderr",
     "output_type": "stream",
     "text": [
      "PdfReadWarning: Xref table not zero-indexed. ID numbers for objects will be corrected. [pdf.py:1736]\n"
     ]
    },
    {
     "name": "stdout",
     "output_type": "stream",
     "text": [
      "6927*, 6928*, "
     ]
    },
    {
     "name": "stderr",
     "output_type": "stream",
     "text": [
      "PdfReadWarning: Xref table not zero-indexed. ID numbers for objects will be corrected. [pdf.py:1736]\n"
     ]
    },
    {
     "name": "stdout",
     "output_type": "stream",
     "text": [
      "6929*, 6930*, 6931*, 6932*, 6933*, 6934*, 6935*, "
     ]
    },
    {
     "name": "stderr",
     "output_type": "stream",
     "text": [
      "PdfReadWarning: Xref table not zero-indexed. ID numbers for objects will be corrected. [pdf.py:1736]\n"
     ]
    },
    {
     "name": "stdout",
     "output_type": "stream",
     "text": [
      "6936*, 6937*, 6938*, "
     ]
    },
    {
     "name": "stderr",
     "output_type": "stream",
     "text": [
      "PdfReadWarning: Xref table not zero-indexed. ID numbers for objects will be corrected. [pdf.py:1736]\n"
     ]
    },
    {
     "name": "stdout",
     "output_type": "stream",
     "text": [
      "6939*, 6940*, 6941*, "
     ]
    },
    {
     "name": "stderr",
     "output_type": "stream",
     "text": [
      "PdfReadWarning: Xref table not zero-indexed. ID numbers for objects will be corrected. [pdf.py:1736]\n"
     ]
    },
    {
     "name": "stdout",
     "output_type": "stream",
     "text": [
      "6942*, 6943*, 6944*, "
     ]
    },
    {
     "name": "stderr",
     "output_type": "stream",
     "text": [
      "PdfReadWarning: Xref table not zero-indexed. ID numbers for objects will be corrected. [pdf.py:1736]\n"
     ]
    },
    {
     "name": "stdout",
     "output_type": "stream",
     "text": [
      "6945*, 6946*, 6947*, "
     ]
    },
    {
     "name": "stderr",
     "output_type": "stream",
     "text": [
      "PdfReadWarning: Xref table not zero-indexed. ID numbers for objects will be corrected. [pdf.py:1736]\n"
     ]
    },
    {
     "name": "stdout",
     "output_type": "stream",
     "text": [
      "6948*, 6949*, 6950*, "
     ]
    },
    {
     "name": "stderr",
     "output_type": "stream",
     "text": [
      "PdfReadWarning: Xref table not zero-indexed. ID numbers for objects will be corrected. [pdf.py:1736]\n"
     ]
    },
    {
     "name": "stdout",
     "output_type": "stream",
     "text": [
      "6951*, 6952*, 6953*, "
     ]
    },
    {
     "name": "stderr",
     "output_type": "stream",
     "text": [
      "PdfReadWarning: Xref table not zero-indexed. ID numbers for objects will be corrected. [pdf.py:1736]\n"
     ]
    },
    {
     "name": "stdout",
     "output_type": "stream",
     "text": [
      "6954*, 6955*, 6956*, "
     ]
    },
    {
     "name": "stderr",
     "output_type": "stream",
     "text": [
      "PdfReadWarning: Xref table not zero-indexed. ID numbers for objects will be corrected. [pdf.py:1736]\n"
     ]
    },
    {
     "name": "stdout",
     "output_type": "stream",
     "text": [
      "6957*, 6958*, 6959*, "
     ]
    },
    {
     "name": "stderr",
     "output_type": "stream",
     "text": [
      "PdfReadWarning: Xref table not zero-indexed. ID numbers for objects will be corrected. [pdf.py:1736]\n"
     ]
    },
    {
     "name": "stdout",
     "output_type": "stream",
     "text": [
      "6960*, 6961*, 6962*, "
     ]
    },
    {
     "name": "stderr",
     "output_type": "stream",
     "text": [
      "PdfReadWarning: Xref table not zero-indexed. ID numbers for objects will be corrected. [pdf.py:1736]\n"
     ]
    },
    {
     "name": "stdout",
     "output_type": "stream",
     "text": [
      "6963*, 6964*, 6965*, "
     ]
    },
    {
     "name": "stderr",
     "output_type": "stream",
     "text": [
      "PdfReadWarning: Xref table not zero-indexed. ID numbers for objects will be corrected. [pdf.py:1736]\n"
     ]
    },
    {
     "name": "stdout",
     "output_type": "stream",
     "text": [
      "6966*, 6967*, 6968*, 6969*, "
     ]
    },
    {
     "name": "stderr",
     "output_type": "stream",
     "text": [
      "PdfReadWarning: Xref table not zero-indexed. ID numbers for objects will be corrected. [pdf.py:1736]\n"
     ]
    },
    {
     "name": "stdout",
     "output_type": "stream",
     "text": [
      "6970*, 6971*, 6972*, "
     ]
    },
    {
     "name": "stderr",
     "output_type": "stream",
     "text": [
      "PdfReadWarning: Xref table not zero-indexed. ID numbers for objects will be corrected. [pdf.py:1736]\n"
     ]
    },
    {
     "name": "stdout",
     "output_type": "stream",
     "text": [
      "6973*, 6974*, 6975*, "
     ]
    },
    {
     "name": "stderr",
     "output_type": "stream",
     "text": [
      "PdfReadWarning: Xref table not zero-indexed. ID numbers for objects will be corrected. [pdf.py:1736]\n"
     ]
    },
    {
     "name": "stdout",
     "output_type": "stream",
     "text": [
      "6976*, 6977*, 6978*, "
     ]
    },
    {
     "name": "stderr",
     "output_type": "stream",
     "text": [
      "PdfReadWarning: Xref table not zero-indexed. ID numbers for objects will be corrected. [pdf.py:1736]\n"
     ]
    },
    {
     "name": "stdout",
     "output_type": "stream",
     "text": [
      "6979*, 6980*, 6981*, "
     ]
    },
    {
     "name": "stderr",
     "output_type": "stream",
     "text": [
      "PdfReadWarning: Xref table not zero-indexed. ID numbers for objects will be corrected. [pdf.py:1736]\n"
     ]
    },
    {
     "name": "stdout",
     "output_type": "stream",
     "text": [
      "6982*, 6983*, 6984*, 6985*, "
     ]
    },
    {
     "name": "stderr",
     "output_type": "stream",
     "text": [
      "PdfReadWarning: Xref table not zero-indexed. ID numbers for objects will be corrected. [pdf.py:1736]\n"
     ]
    },
    {
     "name": "stdout",
     "output_type": "stream",
     "text": [
      "6986*, 6987*, 6988*, "
     ]
    },
    {
     "name": "stderr",
     "output_type": "stream",
     "text": [
      "PdfReadWarning: Xref table not zero-indexed. ID numbers for objects will be corrected. [pdf.py:1736]\n"
     ]
    },
    {
     "name": "stdout",
     "output_type": "stream",
     "text": [
      "6989*, 6990*, 6991*, "
     ]
    },
    {
     "name": "stderr",
     "output_type": "stream",
     "text": [
      "PdfReadWarning: Xref table not zero-indexed. ID numbers for objects will be corrected. [pdf.py:1736]\n"
     ]
    },
    {
     "name": "stdout",
     "output_type": "stream",
     "text": [
      "6992*, 6993*, 6994*, 6995*, "
     ]
    },
    {
     "name": "stderr",
     "output_type": "stream",
     "text": [
      "PdfReadWarning: Xref table not zero-indexed. ID numbers for objects will be corrected. [pdf.py:1736]\n"
     ]
    },
    {
     "name": "stdout",
     "output_type": "stream",
     "text": [
      "6996*, 6997*, 6998*, 6999*, 7000*, 7001*, "
     ]
    },
    {
     "name": "stderr",
     "output_type": "stream",
     "text": [
      "PdfReadWarning: Xref table not zero-indexed. ID numbers for objects will be corrected. [pdf.py:1736]\n"
     ]
    },
    {
     "name": "stdout",
     "output_type": "stream",
     "text": [
      "7002*, 7003*, 7004*, "
     ]
    },
    {
     "name": "stderr",
     "output_type": "stream",
     "text": [
      "PdfReadWarning: Xref table not zero-indexed. ID numbers for objects will be corrected. [pdf.py:1736]\n"
     ]
    },
    {
     "name": "stdout",
     "output_type": "stream",
     "text": [
      "7005*, 7006*, 7007*, "
     ]
    },
    {
     "name": "stderr",
     "output_type": "stream",
     "text": [
      "PdfReadWarning: Xref table not zero-indexed. ID numbers for objects will be corrected. [pdf.py:1736]\n"
     ]
    },
    {
     "name": "stdout",
     "output_type": "stream",
     "text": [
      "7008*, 7009*, 7010*, "
     ]
    },
    {
     "name": "stderr",
     "output_type": "stream",
     "text": [
      "PdfReadWarning: Xref table not zero-indexed. ID numbers for objects will be corrected. [pdf.py:1736]\n"
     ]
    },
    {
     "name": "stdout",
     "output_type": "stream",
     "text": [
      "7011*, 7012*, 7013*, "
     ]
    },
    {
     "name": "stderr",
     "output_type": "stream",
     "text": [
      "PdfReadWarning: Xref table not zero-indexed. ID numbers for objects will be corrected. [pdf.py:1736]\n"
     ]
    },
    {
     "name": "stdout",
     "output_type": "stream",
     "text": [
      "7014*, 7015*, 7016*, 7017*, "
     ]
    },
    {
     "name": "stderr",
     "output_type": "stream",
     "text": [
      "PdfReadWarning: Xref table not zero-indexed. ID numbers for objects will be corrected. [pdf.py:1736]\n"
     ]
    },
    {
     "name": "stdout",
     "output_type": "stream",
     "text": [
      "7018*, 7019*, "
     ]
    },
    {
     "name": "stderr",
     "output_type": "stream",
     "text": [
      "PdfReadWarning: Xref table not zero-indexed. ID numbers for objects will be corrected. [pdf.py:1736]\n"
     ]
    },
    {
     "name": "stdout",
     "output_type": "stream",
     "text": [
      "7020*, 7021*, 7022*, "
     ]
    },
    {
     "name": "stderr",
     "output_type": "stream",
     "text": [
      "PdfReadWarning: Xref table not zero-indexed. ID numbers for objects will be corrected. [pdf.py:1736]\n"
     ]
    },
    {
     "name": "stdout",
     "output_type": "stream",
     "text": [
      "7023*, 7024*, 7025*, 7026*, "
     ]
    },
    {
     "name": "stderr",
     "output_type": "stream",
     "text": [
      "PdfReadWarning: Xref table not zero-indexed. ID numbers for objects will be corrected. [pdf.py:1736]\n"
     ]
    },
    {
     "name": "stdout",
     "output_type": "stream",
     "text": [
      "7027*, 7028*, 7029*, 7030*, "
     ]
    },
    {
     "name": "stderr",
     "output_type": "stream",
     "text": [
      "PdfReadWarning: Xref table not zero-indexed. ID numbers for objects will be corrected. [pdf.py:1736]\n"
     ]
    },
    {
     "name": "stdout",
     "output_type": "stream",
     "text": [
      "7031*, 7032*, 7033*, "
     ]
    },
    {
     "name": "stderr",
     "output_type": "stream",
     "text": [
      "PdfReadWarning: Xref table not zero-indexed. ID numbers for objects will be corrected. [pdf.py:1736]\n"
     ]
    },
    {
     "name": "stdout",
     "output_type": "stream",
     "text": [
      "7034*, 7035*, 7036*, 7037*, "
     ]
    },
    {
     "name": "stderr",
     "output_type": "stream",
     "text": [
      "PdfReadWarning: Xref table not zero-indexed. ID numbers for objects will be corrected. [pdf.py:1736]\n"
     ]
    },
    {
     "name": "stdout",
     "output_type": "stream",
     "text": [
      "7038*, 7039*, 7040*, 7041*, 7042*, "
     ]
    },
    {
     "name": "stderr",
     "output_type": "stream",
     "text": [
      "PdfReadWarning: Xref table not zero-indexed. ID numbers for objects will be corrected. [pdf.py:1736]\n"
     ]
    },
    {
     "name": "stdout",
     "output_type": "stream",
     "text": [
      "7043*, 7044*, 7045*, 7046*, 7047*, "
     ]
    },
    {
     "name": "stderr",
     "output_type": "stream",
     "text": [
      "PdfReadWarning: Xref table not zero-indexed. ID numbers for objects will be corrected. [pdf.py:1736]\n"
     ]
    },
    {
     "name": "stdout",
     "output_type": "stream",
     "text": [
      "7048*, 7049*, "
     ]
    },
    {
     "name": "stderr",
     "output_type": "stream",
     "text": [
      "PdfReadWarning: Xref table not zero-indexed. ID numbers for objects will be corrected. [pdf.py:1736]\n"
     ]
    },
    {
     "name": "stdout",
     "output_type": "stream",
     "text": [
      "7050*, 7051*, 7052*, 7053*, "
     ]
    },
    {
     "name": "stderr",
     "output_type": "stream",
     "text": [
      "PdfReadWarning: Xref table not zero-indexed. ID numbers for objects will be corrected. [pdf.py:1736]\n"
     ]
    },
    {
     "name": "stdout",
     "output_type": "stream",
     "text": [
      "7054*, 7055*, "
     ]
    },
    {
     "name": "stderr",
     "output_type": "stream",
     "text": [
      "PdfReadWarning: Xref table not zero-indexed. ID numbers for objects will be corrected. [pdf.py:1736]\n"
     ]
    },
    {
     "name": "stdout",
     "output_type": "stream",
     "text": [
      "7056*, 7057*, 7058*, "
     ]
    },
    {
     "name": "stderr",
     "output_type": "stream",
     "text": [
      "PdfReadWarning: Xref table not zero-indexed. ID numbers for objects will be corrected. [pdf.py:1736]\n"
     ]
    },
    {
     "name": "stdout",
     "output_type": "stream",
     "text": [
      "7059*, 7060*, 7061*, 7062*, "
     ]
    },
    {
     "name": "stderr",
     "output_type": "stream",
     "text": [
      "PdfReadWarning: Xref table not zero-indexed. ID numbers for objects will be corrected. [pdf.py:1736]\n"
     ]
    },
    {
     "name": "stdout",
     "output_type": "stream",
     "text": [
      "7063*, 7064*, "
     ]
    },
    {
     "name": "stderr",
     "output_type": "stream",
     "text": [
      "PdfReadWarning: Xref table not zero-indexed. ID numbers for objects will be corrected. [pdf.py:1736]\n"
     ]
    },
    {
     "name": "stdout",
     "output_type": "stream",
     "text": [
      "7065*, 7066*, 7067*, "
     ]
    },
    {
     "name": "stderr",
     "output_type": "stream",
     "text": [
      "PdfReadWarning: Xref table not zero-indexed. ID numbers for objects will be corrected. [pdf.py:1736]\n"
     ]
    },
    {
     "name": "stdout",
     "output_type": "stream",
     "text": [
      "7068*, 7069*, 7070*, "
     ]
    },
    {
     "name": "stderr",
     "output_type": "stream",
     "text": [
      "PdfReadWarning: Xref table not zero-indexed. ID numbers for objects will be corrected. [pdf.py:1736]\n"
     ]
    },
    {
     "name": "stdout",
     "output_type": "stream",
     "text": [
      "7071*, "
     ]
    },
    {
     "name": "stderr",
     "output_type": "stream",
     "text": [
      "PdfReadWarning: Xref table not zero-indexed. ID numbers for objects will be corrected. [pdf.py:1736]\n"
     ]
    },
    {
     "name": "stdout",
     "output_type": "stream",
     "text": [
      "7072*, "
     ]
    },
    {
     "name": "stderr",
     "output_type": "stream",
     "text": [
      "PdfReadWarning: Xref table not zero-indexed. ID numbers for objects will be corrected. [pdf.py:1736]\n"
     ]
    },
    {
     "name": "stdout",
     "output_type": "stream",
     "text": [
      "7073*, "
     ]
    },
    {
     "name": "stderr",
     "output_type": "stream",
     "text": [
      "PdfReadWarning: Xref table not zero-indexed. ID numbers for objects will be corrected. [pdf.py:1736]\n"
     ]
    },
    {
     "name": "stdout",
     "output_type": "stream",
     "text": [
      "7074*, 7075*, "
     ]
    },
    {
     "name": "stderr",
     "output_type": "stream",
     "text": [
      "PdfReadWarning: Xref table not zero-indexed. ID numbers for objects will be corrected. [pdf.py:1736]\n"
     ]
    },
    {
     "name": "stdout",
     "output_type": "stream",
     "text": [
      "7076*, 7077*, 7078*, 7079*, 7080*, 7081*, "
     ]
    },
    {
     "name": "stderr",
     "output_type": "stream",
     "text": [
      "PdfReadWarning: Xref table not zero-indexed. ID numbers for objects will be corrected. [pdf.py:1736]\n"
     ]
    },
    {
     "name": "stdout",
     "output_type": "stream",
     "text": [
      "7082*, 7083*, 7084*, 7085*, 7086*, "
     ]
    },
    {
     "name": "stderr",
     "output_type": "stream",
     "text": [
      "PdfReadWarning: Xref table not zero-indexed. ID numbers for objects will be corrected. [pdf.py:1736]\n"
     ]
    },
    {
     "name": "stdout",
     "output_type": "stream",
     "text": [
      "7087*, 7088*, 7089*, "
     ]
    },
    {
     "name": "stderr",
     "output_type": "stream",
     "text": [
      "PdfReadWarning: Xref table not zero-indexed. ID numbers for objects will be corrected. [pdf.py:1736]\n"
     ]
    },
    {
     "name": "stdout",
     "output_type": "stream",
     "text": [
      "7090*, 7091*, 7092*, 7093*, 7094*, 7095*, 7096*, 7097*, 7098*, 7099*, 7100*, 7101*, "
     ]
    },
    {
     "name": "stderr",
     "output_type": "stream",
     "text": [
      "PdfReadWarning: Xref table not zero-indexed. ID numbers for objects will be corrected. [pdf.py:1736]\n"
     ]
    },
    {
     "name": "stdout",
     "output_type": "stream",
     "text": [
      "7102*, 7103*, 7104*, 7105*, 7106*, "
     ]
    },
    {
     "name": "stderr",
     "output_type": "stream",
     "text": [
      "PdfReadWarning: Xref table not zero-indexed. ID numbers for objects will be corrected. [pdf.py:1736]\n"
     ]
    },
    {
     "name": "stdout",
     "output_type": "stream",
     "text": [
      "7107*, 7108*, 7109*, "
     ]
    },
    {
     "name": "stderr",
     "output_type": "stream",
     "text": [
      "PdfReadWarning: Xref table not zero-indexed. ID numbers for objects will be corrected. [pdf.py:1736]\n"
     ]
    },
    {
     "name": "stdout",
     "output_type": "stream",
     "text": [
      "7110*, 7111*, 7112*, 7113*, 7114*, 7115*, 7116*, 7117*, 7118*, 7119*, 7120*, 7121*, "
     ]
    },
    {
     "name": "stderr",
     "output_type": "stream",
     "text": [
      "PdfReadWarning: Xref table not zero-indexed. ID numbers for objects will be corrected. [pdf.py:1736]\n"
     ]
    },
    {
     "name": "stdout",
     "output_type": "stream",
     "text": [
      "7122*, 7123*, 7124*, 7125*, 7126*, "
     ]
    },
    {
     "name": "stderr",
     "output_type": "stream",
     "text": [
      "PdfReadWarning: Xref table not zero-indexed. ID numbers for objects will be corrected. [pdf.py:1736]\n"
     ]
    },
    {
     "name": "stdout",
     "output_type": "stream",
     "text": [
      "7127*, 7128*, 7129*, 7130*, 7131*, 7132*, 7133*, "
     ]
    },
    {
     "name": "stderr",
     "output_type": "stream",
     "text": [
      "PdfReadWarning: Xref table not zero-indexed. ID numbers for objects will be corrected. [pdf.py:1736]\n"
     ]
    },
    {
     "name": "stdout",
     "output_type": "stream",
     "text": [
      "7134*, "
     ]
    },
    {
     "name": "stderr",
     "output_type": "stream",
     "text": [
      "PdfReadWarning: Xref table not zero-indexed. ID numbers for objects will be corrected. [pdf.py:1736]\n"
     ]
    },
    {
     "name": "stdout",
     "output_type": "stream",
     "text": [
      "7135*, 7136*, 7137*, 7138*, "
     ]
    },
    {
     "name": "stderr",
     "output_type": "stream",
     "text": [
      "PdfReadWarning: Xref table not zero-indexed. ID numbers for objects will be corrected. [pdf.py:1736]\n"
     ]
    },
    {
     "name": "stdout",
     "output_type": "stream",
     "text": [
      "7139*, "
     ]
    },
    {
     "name": "stderr",
     "output_type": "stream",
     "text": [
      "PdfReadWarning: Xref table not zero-indexed. ID numbers for objects will be corrected. [pdf.py:1736]\n"
     ]
    },
    {
     "name": "stdout",
     "output_type": "stream",
     "text": [
      "7140*, 7141*, 7142*, "
     ]
    },
    {
     "name": "stderr",
     "output_type": "stream",
     "text": [
      "PdfReadWarning: Xref table not zero-indexed. ID numbers for objects will be corrected. [pdf.py:1736]\n"
     ]
    },
    {
     "name": "stdout",
     "output_type": "stream",
     "text": [
      "7143*, 7144*, 7145*, 7146*, 7147*, 7148*, 7149*, "
     ]
    },
    {
     "name": "stderr",
     "output_type": "stream",
     "text": [
      "PdfReadWarning: Xref table not zero-indexed. ID numbers for objects will be corrected. [pdf.py:1736]\n"
     ]
    },
    {
     "name": "stdout",
     "output_type": "stream",
     "text": [
      "7150*, 7151*, 7152*, 7153*, 7154*, "
     ]
    },
    {
     "name": "stderr",
     "output_type": "stream",
     "text": [
      "PdfReadWarning: Xref table not zero-indexed. ID numbers for objects will be corrected. [pdf.py:1736]\n"
     ]
    },
    {
     "name": "stdout",
     "output_type": "stream",
     "text": [
      "7155*, 7156*, 7157*, 7158*, 7159*, 7160*, 7161*, 7162*, 7163*, 7164*, "
     ]
    },
    {
     "name": "stderr",
     "output_type": "stream",
     "text": [
      "PdfReadWarning: Xref table not zero-indexed. ID numbers for objects will be corrected. [pdf.py:1736]\n"
     ]
    },
    {
     "name": "stdout",
     "output_type": "stream",
     "text": [
      "7165*, 7166*, 7167*, "
     ]
    },
    {
     "name": "stderr",
     "output_type": "stream",
     "text": [
      "PdfReadWarning: Xref table not zero-indexed. ID numbers for objects will be corrected. [pdf.py:1736]\n"
     ]
    },
    {
     "name": "stdout",
     "output_type": "stream",
     "text": [
      "7168*, 7169*, 7170*, "
     ]
    },
    {
     "name": "stderr",
     "output_type": "stream",
     "text": [
      "PdfReadWarning: Xref table not zero-indexed. ID numbers for objects will be corrected. [pdf.py:1736]\n"
     ]
    },
    {
     "name": "stdout",
     "output_type": "stream",
     "text": [
      "7171*, 7172*, 7173*, "
     ]
    },
    {
     "name": "stderr",
     "output_type": "stream",
     "text": [
      "PdfReadWarning: Xref table not zero-indexed. ID numbers for objects will be corrected. [pdf.py:1736]\n"
     ]
    },
    {
     "name": "stdout",
     "output_type": "stream",
     "text": [
      "7174*, 7175*, 7176*, "
     ]
    },
    {
     "name": "stderr",
     "output_type": "stream",
     "text": [
      "PdfReadWarning: Xref table not zero-indexed. ID numbers for objects will be corrected. [pdf.py:1736]\n"
     ]
    },
    {
     "name": "stdout",
     "output_type": "stream",
     "text": [
      "7177*, 7178*, 7179*, "
     ]
    },
    {
     "name": "stderr",
     "output_type": "stream",
     "text": [
      "PdfReadWarning: Xref table not zero-indexed. ID numbers for objects will be corrected. [pdf.py:1736]\n"
     ]
    },
    {
     "name": "stdout",
     "output_type": "stream",
     "text": [
      "7180*, 7181*, 7182*, "
     ]
    },
    {
     "name": "stderr",
     "output_type": "stream",
     "text": [
      "PdfReadWarning: Xref table not zero-indexed. ID numbers for objects will be corrected. [pdf.py:1736]\n"
     ]
    },
    {
     "name": "stdout",
     "output_type": "stream",
     "text": [
      "7183*, 7184*, 7185*, "
     ]
    },
    {
     "name": "stderr",
     "output_type": "stream",
     "text": [
      "PdfReadWarning: Xref table not zero-indexed. ID numbers for objects will be corrected. [pdf.py:1736]\n"
     ]
    },
    {
     "name": "stdout",
     "output_type": "stream",
     "text": [
      "7186*, 7187*, 7188*, "
     ]
    },
    {
     "name": "stderr",
     "output_type": "stream",
     "text": [
      "PdfReadWarning: Xref table not zero-indexed. ID numbers for objects will be corrected. [pdf.py:1736]\n"
     ]
    },
    {
     "name": "stdout",
     "output_type": "stream",
     "text": [
      "7189*, 7190*, 7191*, 7192*, "
     ]
    },
    {
     "name": "stderr",
     "output_type": "stream",
     "text": [
      "PdfReadWarning: Xref table not zero-indexed. ID numbers for objects will be corrected. [pdf.py:1736]\n"
     ]
    },
    {
     "name": "stdout",
     "output_type": "stream",
     "text": [
      "7193*, 7194*, 7195*, "
     ]
    },
    {
     "name": "stderr",
     "output_type": "stream",
     "text": [
      "PdfReadWarning: Xref table not zero-indexed. ID numbers for objects will be corrected. [pdf.py:1736]\n"
     ]
    },
    {
     "name": "stdout",
     "output_type": "stream",
     "text": [
      "7196*, 7197*, 7198*, "
     ]
    },
    {
     "name": "stderr",
     "output_type": "stream",
     "text": [
      "PdfReadWarning: Xref table not zero-indexed. ID numbers for objects will be corrected. [pdf.py:1736]\n"
     ]
    },
    {
     "name": "stdout",
     "output_type": "stream",
     "text": [
      "7199*, 7200*, 7201*, 7202*, 7203*, "
     ]
    },
    {
     "name": "stderr",
     "output_type": "stream",
     "text": [
      "PdfReadWarning: Xref table not zero-indexed. ID numbers for objects will be corrected. [pdf.py:1736]\n"
     ]
    },
    {
     "name": "stdout",
     "output_type": "stream",
     "text": [
      "7204*, 7205*, "
     ]
    },
    {
     "name": "stderr",
     "output_type": "stream",
     "text": [
      "PdfReadWarning: Xref table not zero-indexed. ID numbers for objects will be corrected. [pdf.py:1736]\n"
     ]
    },
    {
     "name": "stdout",
     "output_type": "stream",
     "text": [
      "7206*, 7207*, 7208*, 7209*, "
     ]
    },
    {
     "name": "stderr",
     "output_type": "stream",
     "text": [
      "PdfReadWarning: Xref table not zero-indexed. ID numbers for objects will be corrected. [pdf.py:1736]\n"
     ]
    },
    {
     "name": "stdout",
     "output_type": "stream",
     "text": [
      "7210*, 7211*, 7212*, "
     ]
    },
    {
     "name": "stderr",
     "output_type": "stream",
     "text": [
      "PdfReadWarning: Xref table not zero-indexed. ID numbers for objects will be corrected. [pdf.py:1736]\n"
     ]
    },
    {
     "name": "stdout",
     "output_type": "stream",
     "text": [
      "7213*, 7214*, 7215*, "
     ]
    },
    {
     "name": "stderr",
     "output_type": "stream",
     "text": [
      "PdfReadWarning: Xref table not zero-indexed. ID numbers for objects will be corrected. [pdf.py:1736]\n"
     ]
    },
    {
     "name": "stdout",
     "output_type": "stream",
     "text": [
      "7216*, 7217*, 7218*, 7219*, 7220*, 7221*, "
     ]
    },
    {
     "name": "stderr",
     "output_type": "stream",
     "text": [
      "PdfReadWarning: Xref table not zero-indexed. ID numbers for objects will be corrected. [pdf.py:1736]\n"
     ]
    },
    {
     "name": "stdout",
     "output_type": "stream",
     "text": [
      "7222*, 7223*, 7224*, "
     ]
    },
    {
     "name": "stderr",
     "output_type": "stream",
     "text": [
      "PdfReadWarning: Xref table not zero-indexed. ID numbers for objects will be corrected. [pdf.py:1736]\n"
     ]
    },
    {
     "name": "stdout",
     "output_type": "stream",
     "text": [
      "7225*, 7226*, 7227*, 7228*, "
     ]
    },
    {
     "name": "stderr",
     "output_type": "stream",
     "text": [
      "PdfReadWarning: Xref table not zero-indexed. ID numbers for objects will be corrected. [pdf.py:1736]\n"
     ]
    },
    {
     "name": "stdout",
     "output_type": "stream",
     "text": [
      "7229*, "
     ]
    },
    {
     "name": "stderr",
     "output_type": "stream",
     "text": [
      "PdfReadWarning: Xref table not zero-indexed. ID numbers for objects will be corrected. [pdf.py:1736]\n"
     ]
    },
    {
     "name": "stdout",
     "output_type": "stream",
     "text": [
      "7230*, "
     ]
    },
    {
     "name": "stderr",
     "output_type": "stream",
     "text": [
      "PdfReadWarning: Xref table not zero-indexed. ID numbers for objects will be corrected. [pdf.py:1736]\n"
     ]
    },
    {
     "name": "stdout",
     "output_type": "stream",
     "text": [
      "7231*, "
     ]
    },
    {
     "name": "stderr",
     "output_type": "stream",
     "text": [
      "PdfReadWarning: Xref table not zero-indexed. ID numbers for objects will be corrected. [pdf.py:1736]\n"
     ]
    },
    {
     "name": "stdout",
     "output_type": "stream",
     "text": [
      "7232*, "
     ]
    },
    {
     "name": "stderr",
     "output_type": "stream",
     "text": [
      "PdfReadWarning: Xref table not zero-indexed. ID numbers for objects will be corrected. [pdf.py:1736]\n"
     ]
    },
    {
     "name": "stdout",
     "output_type": "stream",
     "text": [
      "7233*, 7234*, 7235*, "
     ]
    },
    {
     "name": "stderr",
     "output_type": "stream",
     "text": [
      "PdfReadWarning: Xref table not zero-indexed. ID numbers for objects will be corrected. [pdf.py:1736]\n"
     ]
    },
    {
     "name": "stdout",
     "output_type": "stream",
     "text": [
      "7236*, 7237*, 7238*, 7239*, "
     ]
    },
    {
     "name": "stderr",
     "output_type": "stream",
     "text": [
      "PdfReadWarning: Xref table not zero-indexed. ID numbers for objects will be corrected. [pdf.py:1736]\n"
     ]
    },
    {
     "name": "stdout",
     "output_type": "stream",
     "text": [
      "7240*, 7241*, 7242*, 7243*, 7244*, 7245*, "
     ]
    },
    {
     "name": "stderr",
     "output_type": "stream",
     "text": [
      "PdfReadWarning: Xref table not zero-indexed. ID numbers for objects will be corrected. [pdf.py:1736]\n"
     ]
    },
    {
     "name": "stdout",
     "output_type": "stream",
     "text": [
      "7246*, "
     ]
    },
    {
     "name": "stderr",
     "output_type": "stream",
     "text": [
      "PdfReadWarning: Xref table not zero-indexed. ID numbers for objects will be corrected. [pdf.py:1736]\n"
     ]
    },
    {
     "name": "stdout",
     "output_type": "stream",
     "text": [
      "7247*, 7248*, 7249*, 7250*, 7251*, 7252*, "
     ]
    },
    {
     "name": "stderr",
     "output_type": "stream",
     "text": [
      "PdfReadWarning: Xref table not zero-indexed. ID numbers for objects will be corrected. [pdf.py:1736]\n"
     ]
    },
    {
     "name": "stdout",
     "output_type": "stream",
     "text": [
      "7253*, 7254*, "
     ]
    },
    {
     "name": "stderr",
     "output_type": "stream",
     "text": [
      "PdfReadWarning: Xref table not zero-indexed. ID numbers for objects will be corrected. [pdf.py:1736]\n"
     ]
    },
    {
     "name": "stdout",
     "output_type": "stream",
     "text": [
      "7255*, "
     ]
    },
    {
     "name": "stderr",
     "output_type": "stream",
     "text": [
      "PdfReadWarning: Xref table not zero-indexed. ID numbers for objects will be corrected. [pdf.py:1736]\n"
     ]
    },
    {
     "name": "stdout",
     "output_type": "stream",
     "text": [
      "7256*, 7257*, 7258*, 7259*, 7260*, 7261*, 7262*, "
     ]
    },
    {
     "name": "stderr",
     "output_type": "stream",
     "text": [
      "PdfReadWarning: Xref table not zero-indexed. ID numbers for objects will be corrected. [pdf.py:1736]\n"
     ]
    },
    {
     "name": "stdout",
     "output_type": "stream",
     "text": [
      "7263*, 7264*, 7265*, 7266*, "
     ]
    },
    {
     "name": "stderr",
     "output_type": "stream",
     "text": [
      "PdfReadWarning: Xref table not zero-indexed. ID numbers for objects will be corrected. [pdf.py:1736]\n"
     ]
    },
    {
     "name": "stdout",
     "output_type": "stream",
     "text": [
      "7267*, 7268*, 7269*, 7270*, "
     ]
    },
    {
     "name": "stderr",
     "output_type": "stream",
     "text": [
      "PdfReadWarning: Xref table not zero-indexed. ID numbers for objects will be corrected. [pdf.py:1736]\n"
     ]
    },
    {
     "name": "stdout",
     "output_type": "stream",
     "text": [
      "7271*, 7272*, 7273*, 7274*, "
     ]
    },
    {
     "name": "stderr",
     "output_type": "stream",
     "text": [
      "PdfReadWarning: Xref table not zero-indexed. ID numbers for objects will be corrected. [pdf.py:1736]\n"
     ]
    },
    {
     "name": "stdout",
     "output_type": "stream",
     "text": [
      "7275*, 7276*, 7277*, 7278*, 7279*, 7280*, "
     ]
    },
    {
     "name": "stderr",
     "output_type": "stream",
     "text": [
      "PdfReadWarning: Xref table not zero-indexed. ID numbers for objects will be corrected. [pdf.py:1736]\n"
     ]
    },
    {
     "name": "stdout",
     "output_type": "stream",
     "text": [
      "7281*, 7282*, 7283*, 7284*, 7285*, 7286*, 7287*, 7288*, 7289*, 7290*, "
     ]
    },
    {
     "name": "stderr",
     "output_type": "stream",
     "text": [
      "PdfReadWarning: Xref table not zero-indexed. ID numbers for objects will be corrected. [pdf.py:1736]\n"
     ]
    },
    {
     "name": "stdout",
     "output_type": "stream",
     "text": [
      "7291*, 7292*, 7293*, "
     ]
    },
    {
     "name": "stderr",
     "output_type": "stream",
     "text": [
      "PdfReadWarning: Xref table not zero-indexed. ID numbers for objects will be corrected. [pdf.py:1736]\n"
     ]
    },
    {
     "name": "stdout",
     "output_type": "stream",
     "text": [
      "7294*, 7295*, 7296*, 7297*, "
     ]
    },
    {
     "name": "stderr",
     "output_type": "stream",
     "text": [
      "PdfReadWarning: Xref table not zero-indexed. ID numbers for objects will be corrected. [pdf.py:1736]\n"
     ]
    },
    {
     "name": "stdout",
     "output_type": "stream",
     "text": [
      "7298*, 7299*, 7300*, 7301*, 7302*, 7303*, 7304*, 7305*, 7306*, 7307*, "
     ]
    },
    {
     "name": "stderr",
     "output_type": "stream",
     "text": [
      "PdfReadWarning: Xref table not zero-indexed. ID numbers for objects will be corrected. [pdf.py:1736]\n"
     ]
    },
    {
     "name": "stdout",
     "output_type": "stream",
     "text": [
      "7308*, 7309*, 7310*, 7311*, "
     ]
    },
    {
     "name": "stderr",
     "output_type": "stream",
     "text": [
      "PdfReadWarning: Xref table not zero-indexed. ID numbers for objects will be corrected. [pdf.py:1736]\n"
     ]
    },
    {
     "name": "stdout",
     "output_type": "stream",
     "text": [
      "7312*, 7313*, "
     ]
    },
    {
     "name": "stderr",
     "output_type": "stream",
     "text": [
      "PdfReadWarning: Xref table not zero-indexed. ID numbers for objects will be corrected. [pdf.py:1736]\n"
     ]
    },
    {
     "name": "stdout",
     "output_type": "stream",
     "text": [
      "7314*, 7315*, 7316*, "
     ]
    },
    {
     "name": "stderr",
     "output_type": "stream",
     "text": [
      "PdfReadWarning: Xref table not zero-indexed. ID numbers for objects will be corrected. [pdf.py:1736]\n"
     ]
    },
    {
     "name": "stdout",
     "output_type": "stream",
     "text": [
      "7317*, "
     ]
    },
    {
     "name": "stderr",
     "output_type": "stream",
     "text": [
      "PdfReadWarning: Xref table not zero-indexed. ID numbers for objects will be corrected. [pdf.py:1736]\n"
     ]
    },
    {
     "name": "stdout",
     "output_type": "stream",
     "text": [
      "7318*, 7319*, 7320*, 7321*, 7322*, 7323*, 7324*, 7325*, 7326*, 7327*, "
     ]
    },
    {
     "name": "stderr",
     "output_type": "stream",
     "text": [
      "PdfReadWarning: Xref table not zero-indexed. ID numbers for objects will be corrected. [pdf.py:1736]\n"
     ]
    },
    {
     "name": "stdout",
     "output_type": "stream",
     "text": [
      "7328*, "
     ]
    },
    {
     "name": "stderr",
     "output_type": "stream",
     "text": [
      "PdfReadWarning: Xref table not zero-indexed. ID numbers for objects will be corrected. [pdf.py:1736]\n"
     ]
    },
    {
     "name": "stdout",
     "output_type": "stream",
     "text": [
      "7329*, 7330*, 7331*, 7332*, "
     ]
    },
    {
     "name": "stderr",
     "output_type": "stream",
     "text": [
      "PdfReadWarning: Xref table not zero-indexed. ID numbers for objects will be corrected. [pdf.py:1736]\n"
     ]
    },
    {
     "name": "stdout",
     "output_type": "stream",
     "text": [
      "7333*, 7334*, 7335*, "
     ]
    },
    {
     "name": "stderr",
     "output_type": "stream",
     "text": [
      "PdfReadWarning: Xref table not zero-indexed. ID numbers for objects will be corrected. [pdf.py:1736]\n"
     ]
    },
    {
     "name": "stdout",
     "output_type": "stream",
     "text": [
      "7336*, 7337*, 7338*, 7339*, "
     ]
    },
    {
     "name": "stderr",
     "output_type": "stream",
     "text": [
      "PdfReadWarning: Xref table not zero-indexed. ID numbers for objects will be corrected. [pdf.py:1736]\n"
     ]
    },
    {
     "name": "stdout",
     "output_type": "stream",
     "text": [
      "7340*, 7341*, 7342*, "
     ]
    },
    {
     "name": "stderr",
     "output_type": "stream",
     "text": [
      "PdfReadWarning: Xref table not zero-indexed. ID numbers for objects will be corrected. [pdf.py:1736]\n"
     ]
    },
    {
     "name": "stdout",
     "output_type": "stream",
     "text": [
      "7343*, 7344*, 7345*, 7346*, "
     ]
    },
    {
     "name": "stderr",
     "output_type": "stream",
     "text": [
      "PdfReadWarning: Xref table not zero-indexed. ID numbers for objects will be corrected. [pdf.py:1736]\n"
     ]
    },
    {
     "name": "stdout",
     "output_type": "stream",
     "text": [
      "7347*, 7348*, 7349*, 7350*, 7351*, 7352*, 7353*, 7354*, 7355*, 7356*, 7357*, 7358*, 7359*, 7360*, 7361*, "
     ]
    },
    {
     "name": "stderr",
     "output_type": "stream",
     "text": [
      "PdfReadWarning: Xref table not zero-indexed. ID numbers for objects will be corrected. [pdf.py:1736]\n"
     ]
    },
    {
     "name": "stdout",
     "output_type": "stream",
     "text": [
      "7362*, 7363*, 7364*, 7365*, 7366*, 7367*, 7368*, "
     ]
    },
    {
     "name": "stderr",
     "output_type": "stream",
     "text": [
      "PdfReadWarning: Xref table not zero-indexed. ID numbers for objects will be corrected. [pdf.py:1736]\n"
     ]
    },
    {
     "name": "stdout",
     "output_type": "stream",
     "text": [
      "7369*, 7370*, 7371*, 7372*, "
     ]
    },
    {
     "name": "stderr",
     "output_type": "stream",
     "text": [
      "PdfReadWarning: Xref table not zero-indexed. ID numbers for objects will be corrected. [pdf.py:1736]\n"
     ]
    },
    {
     "name": "stdout",
     "output_type": "stream",
     "text": [
      "7373*, 7374*, 7375*, "
     ]
    },
    {
     "name": "stderr",
     "output_type": "stream",
     "text": [
      "PdfReadWarning: Xref table not zero-indexed. ID numbers for objects will be corrected. [pdf.py:1736]\n"
     ]
    },
    {
     "name": "stdout",
     "output_type": "stream",
     "text": [
      "7376*, 7377*, 7378*, "
     ]
    },
    {
     "name": "stderr",
     "output_type": "stream",
     "text": [
      "PdfReadWarning: Xref table not zero-indexed. ID numbers for objects will be corrected. [pdf.py:1736]\n"
     ]
    },
    {
     "name": "stdout",
     "output_type": "stream",
     "text": [
      "7379*, 7380*, "
     ]
    },
    {
     "name": "stderr",
     "output_type": "stream",
     "text": [
      "PdfReadWarning: Xref table not zero-indexed. ID numbers for objects will be corrected. [pdf.py:1736]\n"
     ]
    },
    {
     "name": "stdout",
     "output_type": "stream",
     "text": [
      "7381*, 7382*, 7383*, 7384*, 7385*, 7386*, 7387*, 7388*, 7389*, "
     ]
    },
    {
     "name": "stderr",
     "output_type": "stream",
     "text": [
      "PdfReadWarning: Xref table not zero-indexed. ID numbers for objects will be corrected. [pdf.py:1736]\n"
     ]
    },
    {
     "name": "stdout",
     "output_type": "stream",
     "text": [
      "7390*, 7391*, 7392*, "
     ]
    },
    {
     "name": "stderr",
     "output_type": "stream",
     "text": [
      "PdfReadWarning: Xref table not zero-indexed. ID numbers for objects will be corrected. [pdf.py:1736]\n"
     ]
    },
    {
     "name": "stdout",
     "output_type": "stream",
     "text": [
      "7393*, 7394*, 7395*, 7396*, 7397*, "
     ]
    },
    {
     "name": "stderr",
     "output_type": "stream",
     "text": [
      "PdfReadWarning: Xref table not zero-indexed. ID numbers for objects will be corrected. [pdf.py:1736]\n"
     ]
    },
    {
     "name": "stdout",
     "output_type": "stream",
     "text": [
      "7398*, 7399*, 7400*, 7401*, "
     ]
    },
    {
     "name": "stderr",
     "output_type": "stream",
     "text": [
      "PdfReadWarning: Xref table not zero-indexed. ID numbers for objects will be corrected. [pdf.py:1736]\n"
     ]
    },
    {
     "name": "stdout",
     "output_type": "stream",
     "text": [
      "7402*, "
     ]
    },
    {
     "name": "stderr",
     "output_type": "stream",
     "text": [
      "PdfReadWarning: Xref table not zero-indexed. ID numbers for objects will be corrected. [pdf.py:1736]\n"
     ]
    },
    {
     "name": "stdout",
     "output_type": "stream",
     "text": [
      "7403*, 7404*, error: ../data/raw/www.nccourts.gov/forms/18231f7fabcc49a2362fed3d8b270ed1.pdf\n",
      "7405*, error: ../data/raw/www.nccourts.gov/forms/b28698f7b8c55033587b543b8eab09e5.pdf\n",
      "7406*, "
     ]
    },
    {
     "name": "stderr",
     "output_type": "stream",
     "text": [
      "PdfReadWarning: Xref table not zero-indexed. ID numbers for objects will be corrected. [pdf.py:1736]\n"
     ]
    },
    {
     "name": "stdout",
     "output_type": "stream",
     "text": [
      "7407*, "
     ]
    },
    {
     "name": "stderr",
     "output_type": "stream",
     "text": [
      "PdfReadWarning: Xref table not zero-indexed. ID numbers for objects will be corrected. [pdf.py:1736]\n"
     ]
    },
    {
     "name": "stdout",
     "output_type": "stream",
     "text": [
      "7408*, "
     ]
    },
    {
     "name": "stderr",
     "output_type": "stream",
     "text": [
      "PdfReadWarning: Xref table not zero-indexed. ID numbers for objects will be corrected. [pdf.py:1736]\n"
     ]
    },
    {
     "name": "stdout",
     "output_type": "stream",
     "text": [
      "7409*, 7410*, 7411*, 7412*, 7413*, 7414*, 7415*, 7416*, 7417*, 7418*, 7419*, 7420*, 7421*, "
     ]
    },
    {
     "name": "stderr",
     "output_type": "stream",
     "text": [
      "PdfReadWarning: Xref table not zero-indexed. ID numbers for objects will be corrected. [pdf.py:1736]\n"
     ]
    },
    {
     "name": "stdout",
     "output_type": "stream",
     "text": [
      "7422*, 7423*, 7424*, 7425*, 7426*, 7427*, 7428*, 7429*, 7430*, 7431*, "
     ]
    },
    {
     "name": "stderr",
     "output_type": "stream",
     "text": [
      "PdfReadWarning: Xref table not zero-indexed. ID numbers for objects will be corrected. [pdf.py:1736]\n"
     ]
    },
    {
     "name": "stdout",
     "output_type": "stream",
     "text": [
      "7432*, 7433*, 7434*, "
     ]
    },
    {
     "name": "stderr",
     "output_type": "stream",
     "text": [
      "PdfReadWarning: Xref table not zero-indexed. ID numbers for objects will be corrected. [pdf.py:1736]\n"
     ]
    },
    {
     "name": "stdout",
     "output_type": "stream",
     "text": [
      "7435*, 7436*, 7437*, "
     ]
    },
    {
     "name": "stderr",
     "output_type": "stream",
     "text": [
      "PdfReadWarning: Xref table not zero-indexed. ID numbers for objects will be corrected. [pdf.py:1736]\n"
     ]
    },
    {
     "name": "stdout",
     "output_type": "stream",
     "text": [
      "7438*, 7439*, 7440*, 7441*, "
     ]
    },
    {
     "name": "stderr",
     "output_type": "stream",
     "text": [
      "PdfReadWarning: Xref table not zero-indexed. ID numbers for objects will be corrected. [pdf.py:1736]\n"
     ]
    },
    {
     "name": "stdout",
     "output_type": "stream",
     "text": [
      "7442*, 7443*, 7444*, "
     ]
    },
    {
     "name": "stderr",
     "output_type": "stream",
     "text": [
      "PdfReadWarning: Xref table not zero-indexed. ID numbers for objects will be corrected. [pdf.py:1736]\n"
     ]
    },
    {
     "name": "stdout",
     "output_type": "stream",
     "text": [
      "7445*, 7446*, 7447*, "
     ]
    },
    {
     "name": "stderr",
     "output_type": "stream",
     "text": [
      "PdfReadWarning: Xref table not zero-indexed. ID numbers for objects will be corrected. [pdf.py:1736]\n"
     ]
    },
    {
     "name": "stdout",
     "output_type": "stream",
     "text": [
      "7448*, 7449*, 7450*, 7451*, "
     ]
    },
    {
     "name": "stderr",
     "output_type": "stream",
     "text": [
      "PdfReadWarning: Xref table not zero-indexed. ID numbers for objects will be corrected. [pdf.py:1736]\n"
     ]
    },
    {
     "name": "stdout",
     "output_type": "stream",
     "text": [
      "7452*, 7453*, 7454*, 7455*, 7456*, 7457*, 7458*, "
     ]
    },
    {
     "name": "stderr",
     "output_type": "stream",
     "text": [
      "PdfReadWarning: Xref table not zero-indexed. ID numbers for objects will be corrected. [pdf.py:1736]\n"
     ]
    },
    {
     "name": "stdout",
     "output_type": "stream",
     "text": [
      "7459*, 7460*, 7461*, 7462*, "
     ]
    },
    {
     "name": "stderr",
     "output_type": "stream",
     "text": [
      "PdfReadWarning: Xref table not zero-indexed. ID numbers for objects will be corrected. [pdf.py:1736]\n"
     ]
    },
    {
     "name": "stdout",
     "output_type": "stream",
     "text": [
      "7463*, "
     ]
    },
    {
     "name": "stderr",
     "output_type": "stream",
     "text": [
      "PdfReadWarning: Xref table not zero-indexed. ID numbers for objects will be corrected. [pdf.py:1736]\n"
     ]
    },
    {
     "name": "stdout",
     "output_type": "stream",
     "text": [
      "7464*, 7465*, 7466*, 7467*, 7468*, 7469*, 7470*, 7471*, "
     ]
    },
    {
     "name": "stderr",
     "output_type": "stream",
     "text": [
      "PdfReadWarning: Xref table not zero-indexed. ID numbers for objects will be corrected. [pdf.py:1736]\n"
     ]
    },
    {
     "name": "stdout",
     "output_type": "stream",
     "text": [
      "7472*, 7473*, 7474*, 7475*, 7476*, 7477*, 7478*, 7479*, 7480*, "
     ]
    },
    {
     "name": "stderr",
     "output_type": "stream",
     "text": [
      "PdfReadWarning: Xref table not zero-indexed. ID numbers for objects will be corrected. [pdf.py:1736]\n"
     ]
    },
    {
     "name": "stdout",
     "output_type": "stream",
     "text": [
      "7481*, 7482*, 7483*, 7484*, "
     ]
    },
    {
     "name": "stderr",
     "output_type": "stream",
     "text": [
      "PdfReadWarning: Xref table not zero-indexed. ID numbers for objects will be corrected. [pdf.py:1736]\n"
     ]
    },
    {
     "name": "stdout",
     "output_type": "stream",
     "text": [
      "7485*, 7486*, 7487*, 7488*, 7489*, 7490*, 7491*, 7492*, 7493*, 7494*, 7495*, "
     ]
    },
    {
     "name": "stderr",
     "output_type": "stream",
     "text": [
      "PdfReadWarning: Xref table not zero-indexed. ID numbers for objects will be corrected. [pdf.py:1736]\n"
     ]
    },
    {
     "name": "stdout",
     "output_type": "stream",
     "text": [
      "7496*, 7497*, 7498*, "
     ]
    },
    {
     "name": "stderr",
     "output_type": "stream",
     "text": [
      "PdfReadWarning: Xref table not zero-indexed. ID numbers for objects will be corrected. [pdf.py:1736]\n"
     ]
    },
    {
     "name": "stdout",
     "output_type": "stream",
     "text": [
      "7499*, "
     ]
    },
    {
     "name": "stderr",
     "output_type": "stream",
     "text": [
      "PdfReadWarning: Xref table not zero-indexed. ID numbers for objects will be corrected. [pdf.py:1736]\n"
     ]
    },
    {
     "name": "stdout",
     "output_type": "stream",
     "text": [
      "7500*, 7501*, 7502*, "
     ]
    },
    {
     "name": "stderr",
     "output_type": "stream",
     "text": [
      "PdfReadWarning: Xref table not zero-indexed. ID numbers for objects will be corrected. [pdf.py:1736]\n"
     ]
    },
    {
     "name": "stdout",
     "output_type": "stream",
     "text": [
      "7503*, 7504*, 7505*, "
     ]
    },
    {
     "name": "stderr",
     "output_type": "stream",
     "text": [
      "PdfReadWarning: Xref table not zero-indexed. ID numbers for objects will be corrected. [pdf.py:1736]\n"
     ]
    },
    {
     "name": "stdout",
     "output_type": "stream",
     "text": [
      "7506*, 7507*, 7508*, "
     ]
    },
    {
     "name": "stderr",
     "output_type": "stream",
     "text": [
      "PdfReadWarning: Xref table not zero-indexed. ID numbers for objects will be corrected. [pdf.py:1736]\n"
     ]
    },
    {
     "name": "stdout",
     "output_type": "stream",
     "text": [
      "7509*, 7510*, 7511*, "
     ]
    },
    {
     "name": "stderr",
     "output_type": "stream",
     "text": [
      "PdfReadWarning: Xref table not zero-indexed. ID numbers for objects will be corrected. [pdf.py:1736]\n"
     ]
    },
    {
     "name": "stdout",
     "output_type": "stream",
     "text": [
      "7512*, 7513*, 7514*, "
     ]
    },
    {
     "name": "stderr",
     "output_type": "stream",
     "text": [
      "PdfReadWarning: Xref table not zero-indexed. ID numbers for objects will be corrected. [pdf.py:1736]\n"
     ]
    },
    {
     "name": "stdout",
     "output_type": "stream",
     "text": [
      "7515*, 7516*, 7517*, 7518*, "
     ]
    },
    {
     "name": "stderr",
     "output_type": "stream",
     "text": [
      "PdfReadWarning: Xref table not zero-indexed. ID numbers for objects will be corrected. [pdf.py:1736]\n"
     ]
    },
    {
     "name": "stdout",
     "output_type": "stream",
     "text": [
      "7519*, 7520*, 7521*, "
     ]
    },
    {
     "name": "stderr",
     "output_type": "stream",
     "text": [
      "PdfReadWarning: Xref table not zero-indexed. ID numbers for objects will be corrected. [pdf.py:1736]\n"
     ]
    },
    {
     "name": "stdout",
     "output_type": "stream",
     "text": [
      "7522*, 7523*, 7524*, "
     ]
    },
    {
     "name": "stderr",
     "output_type": "stream",
     "text": [
      "PdfReadWarning: Xref table not zero-indexed. ID numbers for objects will be corrected. [pdf.py:1736]\n"
     ]
    },
    {
     "name": "stdout",
     "output_type": "stream",
     "text": [
      "7525*, "
     ]
    },
    {
     "name": "stderr",
     "output_type": "stream",
     "text": [
      "PdfReadWarning: Xref table not zero-indexed. ID numbers for objects will be corrected. [pdf.py:1736]\n"
     ]
    },
    {
     "name": "stdout",
     "output_type": "stream",
     "text": [
      "7526*, 7527*, 7528*, "
     ]
    },
    {
     "name": "stderr",
     "output_type": "stream",
     "text": [
      "PdfReadWarning: Xref table not zero-indexed. ID numbers for objects will be corrected. [pdf.py:1736]\n"
     ]
    },
    {
     "name": "stdout",
     "output_type": "stream",
     "text": [
      "7529*, 7530*, 7531*, "
     ]
    },
    {
     "name": "stderr",
     "output_type": "stream",
     "text": [
      "PdfReadWarning: Xref table not zero-indexed. ID numbers for objects will be corrected. [pdf.py:1736]\n"
     ]
    },
    {
     "name": "stdout",
     "output_type": "stream",
     "text": [
      "7532*, 7533*, 7534*, 7535*, 7536*, 7537*, "
     ]
    },
    {
     "name": "stderr",
     "output_type": "stream",
     "text": [
      "PdfReadWarning: Xref table not zero-indexed. ID numbers for objects will be corrected. [pdf.py:1736]\n"
     ]
    },
    {
     "name": "stdout",
     "output_type": "stream",
     "text": [
      "7538*, "
     ]
    },
    {
     "name": "stderr",
     "output_type": "stream",
     "text": [
      "PdfReadWarning: Xref table not zero-indexed. ID numbers for objects will be corrected. [pdf.py:1736]\n"
     ]
    },
    {
     "name": "stdout",
     "output_type": "stream",
     "text": [
      "7539*, 7540*, 7541*, 7542*, "
     ]
    },
    {
     "name": "stderr",
     "output_type": "stream",
     "text": [
      "PdfReadWarning: Xref table not zero-indexed. ID numbers for objects will be corrected. [pdf.py:1736]\n"
     ]
    },
    {
     "name": "stdout",
     "output_type": "stream",
     "text": [
      "7543*, 7544*, 7545*, "
     ]
    },
    {
     "name": "stderr",
     "output_type": "stream",
     "text": [
      "PdfReadWarning: Xref table not zero-indexed. ID numbers for objects will be corrected. [pdf.py:1736]\n"
     ]
    },
    {
     "name": "stdout",
     "output_type": "stream",
     "text": [
      "7546*, 7547*, "
     ]
    },
    {
     "name": "stderr",
     "output_type": "stream",
     "text": [
      "PdfReadWarning: Xref table not zero-indexed. ID numbers for objects will be corrected. [pdf.py:1736]\n"
     ]
    },
    {
     "name": "stdout",
     "output_type": "stream",
     "text": [
      "7548*, 7549*, 7550*, "
     ]
    },
    {
     "name": "stderr",
     "output_type": "stream",
     "text": [
      "PdfReadWarning: Xref table not zero-indexed. ID numbers for objects will be corrected. [pdf.py:1736]\n"
     ]
    },
    {
     "name": "stdout",
     "output_type": "stream",
     "text": [
      "7551*, 7552*, 7553*, 7554*, 7555*, "
     ]
    },
    {
     "name": "stderr",
     "output_type": "stream",
     "text": [
      "PdfReadWarning: Xref table not zero-indexed. ID numbers for objects will be corrected. [pdf.py:1736]\n"
     ]
    },
    {
     "name": "stdout",
     "output_type": "stream",
     "text": [
      "7556*, 7557*, 7558*, "
     ]
    },
    {
     "name": "stderr",
     "output_type": "stream",
     "text": [
      "PdfReadWarning: Xref table not zero-indexed. ID numbers for objects will be corrected. [pdf.py:1736]\n"
     ]
    },
    {
     "name": "stdout",
     "output_type": "stream",
     "text": [
      "7559*, 7560*, 7561*, 7562*, "
     ]
    },
    {
     "name": "stderr",
     "output_type": "stream",
     "text": [
      "PdfReadWarning: Xref table not zero-indexed. ID numbers for objects will be corrected. [pdf.py:1736]\n"
     ]
    },
    {
     "name": "stdout",
     "output_type": "stream",
     "text": [
      "7563*, 7564*, 7565*, "
     ]
    },
    {
     "name": "stderr",
     "output_type": "stream",
     "text": [
      "PdfReadWarning: Xref table not zero-indexed. ID numbers for objects will be corrected. [pdf.py:1736]\n"
     ]
    },
    {
     "name": "stdout",
     "output_type": "stream",
     "text": [
      "7566*, "
     ]
    },
    {
     "name": "stderr",
     "output_type": "stream",
     "text": [
      "PdfReadWarning: Xref table not zero-indexed. ID numbers for objects will be corrected. [pdf.py:1736]\n"
     ]
    },
    {
     "name": "stdout",
     "output_type": "stream",
     "text": [
      "7567*, 7568*, 7569*, 7570*, 7571*, 7572*, 7573*, 7574*, 7575*, 7576*, 7577*, 7578*, 7579*, 7580*, 7581*, 7582*, 7583*, 7584*, 7585*, 7586*, 7587*, 7588*, 7589*, 7590*, 7591*, 7592*, 7593*, 7594*, 7595*, 7596*, 7597*, "
     ]
    },
    {
     "name": "stderr",
     "output_type": "stream",
     "text": [
      "PdfReadWarning: Xref table not zero-indexed. ID numbers for objects will be corrected. [pdf.py:1736]\n"
     ]
    },
    {
     "name": "stdout",
     "output_type": "stream",
     "text": [
      "7598*, 7599*, 7600*, 7601*, "
     ]
    },
    {
     "name": "stderr",
     "output_type": "stream",
     "text": [
      "PdfReadWarning: Xref table not zero-indexed. ID numbers for objects will be corrected. [pdf.py:1736]\n"
     ]
    },
    {
     "name": "stdout",
     "output_type": "stream",
     "text": [
      "7602*, 7603*, 7604*, "
     ]
    },
    {
     "name": "stderr",
     "output_type": "stream",
     "text": [
      "PdfReadWarning: Xref table not zero-indexed. ID numbers for objects will be corrected. [pdf.py:1736]\n"
     ]
    },
    {
     "name": "stdout",
     "output_type": "stream",
     "text": [
      "7605*, 7606*, 7607*, "
     ]
    },
    {
     "name": "stderr",
     "output_type": "stream",
     "text": [
      "PdfReadWarning: Xref table not zero-indexed. ID numbers for objects will be corrected. [pdf.py:1736]\n"
     ]
    },
    {
     "name": "stdout",
     "output_type": "stream",
     "text": [
      "7608*, 7609*, 7610*, "
     ]
    },
    {
     "name": "stderr",
     "output_type": "stream",
     "text": [
      "PdfReadWarning: Xref table not zero-indexed. ID numbers for objects will be corrected. [pdf.py:1736]\n"
     ]
    },
    {
     "name": "stdout",
     "output_type": "stream",
     "text": [
      "7611*, 7612*, "
     ]
    },
    {
     "name": "stderr",
     "output_type": "stream",
     "text": [
      "PdfReadWarning: Xref table not zero-indexed. ID numbers for objects will be corrected. [pdf.py:1736]\n"
     ]
    },
    {
     "name": "stdout",
     "output_type": "stream",
     "text": [
      "7613*, 7614*, 7615*, 7616*, "
     ]
    },
    {
     "name": "stderr",
     "output_type": "stream",
     "text": [
      "PdfReadWarning: Xref table not zero-indexed. ID numbers for objects will be corrected. [pdf.py:1736]\n"
     ]
    },
    {
     "name": "stdout",
     "output_type": "stream",
     "text": [
      "7617*, 7618*, "
     ]
    },
    {
     "name": "stderr",
     "output_type": "stream",
     "text": [
      "PdfReadWarning: Xref table not zero-indexed. ID numbers for objects will be corrected. [pdf.py:1736]\n"
     ]
    },
    {
     "name": "stdout",
     "output_type": "stream",
     "text": [
      "7619*, 7620*, 7621*, "
     ]
    },
    {
     "name": "stderr",
     "output_type": "stream",
     "text": [
      "PdfReadWarning: Xref table not zero-indexed. ID numbers for objects will be corrected. [pdf.py:1736]\n"
     ]
    },
    {
     "name": "stdout",
     "output_type": "stream",
     "text": [
      "7622*, "
     ]
    },
    {
     "name": "stderr",
     "output_type": "stream",
     "text": [
      "PdfReadWarning: Xref table not zero-indexed. ID numbers for objects will be corrected. [pdf.py:1736]\n"
     ]
    },
    {
     "name": "stdout",
     "output_type": "stream",
     "text": [
      "7623*, 7624*, "
     ]
    },
    {
     "name": "stderr",
     "output_type": "stream",
     "text": [
      "PdfReadWarning: Xref table not zero-indexed. ID numbers for objects will be corrected. [pdf.py:1736]\n"
     ]
    },
    {
     "name": "stdout",
     "output_type": "stream",
     "text": [
      "7625*, 7626*, 7627*, "
     ]
    },
    {
     "name": "stderr",
     "output_type": "stream",
     "text": [
      "PdfReadWarning: Xref table not zero-indexed. ID numbers for objects will be corrected. [pdf.py:1736]\n"
     ]
    },
    {
     "name": "stdout",
     "output_type": "stream",
     "text": [
      "7628*, 7629*, 7630*, "
     ]
    },
    {
     "name": "stderr",
     "output_type": "stream",
     "text": [
      "PdfReadWarning: Xref table not zero-indexed. ID numbers for objects will be corrected. [pdf.py:1736]\n"
     ]
    },
    {
     "name": "stdout",
     "output_type": "stream",
     "text": [
      "7631*, 7632*, 7633*, "
     ]
    },
    {
     "name": "stderr",
     "output_type": "stream",
     "text": [
      "PdfReadWarning: Xref table not zero-indexed. ID numbers for objects will be corrected. [pdf.py:1736]\n"
     ]
    },
    {
     "name": "stdout",
     "output_type": "stream",
     "text": [
      "7634*, 7635*, 7636*, "
     ]
    },
    {
     "name": "stderr",
     "output_type": "stream",
     "text": [
      "PdfReadWarning: Xref table not zero-indexed. ID numbers for objects will be corrected. [pdf.py:1736]\n"
     ]
    },
    {
     "name": "stdout",
     "output_type": "stream",
     "text": [
      "7637*, 7638*, 7639*, 7640*, 7641*, 7642*, 7643*, 7644*, 7645*, 7646*, 7647*, 7648*, 7649*, "
     ]
    },
    {
     "name": "stderr",
     "output_type": "stream",
     "text": [
      "PdfReadWarning: Xref table not zero-indexed. ID numbers for objects will be corrected. [pdf.py:1736]\n"
     ]
    },
    {
     "name": "stdout",
     "output_type": "stream",
     "text": [
      "7650*, "
     ]
    },
    {
     "name": "stderr",
     "output_type": "stream",
     "text": [
      "PdfReadWarning: Xref table not zero-indexed. ID numbers for objects will be corrected. [pdf.py:1736]\n"
     ]
    },
    {
     "name": "stdout",
     "output_type": "stream",
     "text": [
      "7651*, 7652*, "
     ]
    },
    {
     "name": "stderr",
     "output_type": "stream",
     "text": [
      "PdfReadWarning: Xref table not zero-indexed. ID numbers for objects will be corrected. [pdf.py:1736]\n"
     ]
    },
    {
     "name": "stdout",
     "output_type": "stream",
     "text": [
      "7653*, 7654*, "
     ]
    },
    {
     "name": "stderr",
     "output_type": "stream",
     "text": [
      "PdfReadWarning: Xref table not zero-indexed. ID numbers for objects will be corrected. [pdf.py:1736]\n"
     ]
    },
    {
     "name": "stdout",
     "output_type": "stream",
     "text": [
      "7655*, 7656*, 7657*, 7658*, "
     ]
    },
    {
     "name": "stderr",
     "output_type": "stream",
     "text": [
      "PdfReadWarning: Xref table not zero-indexed. ID numbers for objects will be corrected. [pdf.py:1736]\n"
     ]
    },
    {
     "name": "stdout",
     "output_type": "stream",
     "text": [
      "7659*, 7660*, 7661*, 7662*, 7663*, "
     ]
    },
    {
     "name": "stderr",
     "output_type": "stream",
     "text": [
      "PdfReadWarning: Xref table not zero-indexed. ID numbers for objects will be corrected. [pdf.py:1736]\n"
     ]
    },
    {
     "name": "stdout",
     "output_type": "stream",
     "text": [
      "7664*, 7665*, 7666*, "
     ]
    },
    {
     "name": "stderr",
     "output_type": "stream",
     "text": [
      "PdfReadWarning: Xref table not zero-indexed. ID numbers for objects will be corrected. [pdf.py:1736]\n"
     ]
    },
    {
     "name": "stdout",
     "output_type": "stream",
     "text": [
      "7667*, 7668*, 7669*, "
     ]
    },
    {
     "name": "stderr",
     "output_type": "stream",
     "text": [
      "PdfReadWarning: Xref table not zero-indexed. ID numbers for objects will be corrected. [pdf.py:1736]\n"
     ]
    },
    {
     "name": "stdout",
     "output_type": "stream",
     "text": [
      "7670*, 7671*, 7672*, 7673*, 7674*, 7675*, 7676*, 7677*, 7678*, 7679*, 7680*, 7681*, "
     ]
    },
    {
     "name": "stderr",
     "output_type": "stream",
     "text": [
      "PdfReadWarning: Xref table not zero-indexed. ID numbers for objects will be corrected. [pdf.py:1736]\n"
     ]
    },
    {
     "name": "stdout",
     "output_type": "stream",
     "text": [
      "7682*, 7683*, 7684*, 7685*, "
     ]
    },
    {
     "name": "stderr",
     "output_type": "stream",
     "text": [
      "PdfReadWarning: Xref table not zero-indexed. ID numbers for objects will be corrected. [pdf.py:1736]\n"
     ]
    },
    {
     "name": "stdout",
     "output_type": "stream",
     "text": [
      "7686*, 7687*, 7688*, "
     ]
    },
    {
     "name": "stderr",
     "output_type": "stream",
     "text": [
      "PdfReadWarning: Xref table not zero-indexed. ID numbers for objects will be corrected. [pdf.py:1736]\n"
     ]
    },
    {
     "name": "stdout",
     "output_type": "stream",
     "text": [
      "7689*, 7690*, 7691*, "
     ]
    },
    {
     "name": "stderr",
     "output_type": "stream",
     "text": [
      "PdfReadWarning: Xref table not zero-indexed. ID numbers for objects will be corrected. [pdf.py:1736]\n"
     ]
    },
    {
     "name": "stdout",
     "output_type": "stream",
     "text": [
      "7692*, 7693*, 7694*, "
     ]
    },
    {
     "name": "stderr",
     "output_type": "stream",
     "text": [
      "PdfReadWarning: Xref table not zero-indexed. ID numbers for objects will be corrected. [pdf.py:1736]\n"
     ]
    },
    {
     "name": "stdout",
     "output_type": "stream",
     "text": [
      "7695*, 7696*, 7697*, "
     ]
    },
    {
     "name": "stderr",
     "output_type": "stream",
     "text": [
      "PdfReadWarning: Xref table not zero-indexed. ID numbers for objects will be corrected. [pdf.py:1736]\n"
     ]
    },
    {
     "name": "stdout",
     "output_type": "stream",
     "text": [
      "7698*, 7699*, 7700*, "
     ]
    },
    {
     "name": "stderr",
     "output_type": "stream",
     "text": [
      "PdfReadWarning: Xref table not zero-indexed. ID numbers for objects will be corrected. [pdf.py:1736]\n"
     ]
    },
    {
     "name": "stdout",
     "output_type": "stream",
     "text": [
      "7701*, 7702*, 7703*, "
     ]
    },
    {
     "name": "stderr",
     "output_type": "stream",
     "text": [
      "PdfReadWarning: Xref table not zero-indexed. ID numbers for objects will be corrected. [pdf.py:1736]\n"
     ]
    },
    {
     "name": "stdout",
     "output_type": "stream",
     "text": [
      "7704*, 7705*, "
     ]
    },
    {
     "name": "stderr",
     "output_type": "stream",
     "text": [
      "PdfReadWarning: Xref table not zero-indexed. ID numbers for objects will be corrected. [pdf.py:1736]\n"
     ]
    },
    {
     "name": "stdout",
     "output_type": "stream",
     "text": [
      "7706*, 7707*, 7708*, "
     ]
    },
    {
     "name": "stderr",
     "output_type": "stream",
     "text": [
      "PdfReadWarning: Xref table not zero-indexed. ID numbers for objects will be corrected. [pdf.py:1736]\n"
     ]
    },
    {
     "name": "stdout",
     "output_type": "stream",
     "text": [
      "7709*, 7710*, 7711*, "
     ]
    },
    {
     "name": "stderr",
     "output_type": "stream",
     "text": [
      "PdfReadWarning: Xref table not zero-indexed. ID numbers for objects will be corrected. [pdf.py:1736]\n"
     ]
    },
    {
     "name": "stdout",
     "output_type": "stream",
     "text": [
      "7712*, "
     ]
    },
    {
     "name": "stderr",
     "output_type": "stream",
     "text": [
      "PdfReadWarning: Xref table not zero-indexed. ID numbers for objects will be corrected. [pdf.py:1736]\n"
     ]
    },
    {
     "name": "stdout",
     "output_type": "stream",
     "text": [
      "7713*, 7714*, 7715*, "
     ]
    },
    {
     "name": "stderr",
     "output_type": "stream",
     "text": [
      "PdfReadWarning: Xref table not zero-indexed. ID numbers for objects will be corrected. [pdf.py:1736]\n"
     ]
    },
    {
     "name": "stdout",
     "output_type": "stream",
     "text": [
      "7716*, 7717*, 7718*, 7719*, 7720*, 7721*, 7722*, "
     ]
    },
    {
     "name": "stderr",
     "output_type": "stream",
     "text": [
      "PdfReadWarning: Xref table not zero-indexed. ID numbers for objects will be corrected. [pdf.py:1736]\n"
     ]
    },
    {
     "name": "stdout",
     "output_type": "stream",
     "text": [
      "7723*, 7724*, 7725*, 7726*, "
     ]
    },
    {
     "name": "stderr",
     "output_type": "stream",
     "text": [
      "PdfReadWarning: Xref table not zero-indexed. ID numbers for objects will be corrected. [pdf.py:1736]\n"
     ]
    },
    {
     "name": "stdout",
     "output_type": "stream",
     "text": [
      "7727*, 7728*, 7729*, "
     ]
    },
    {
     "name": "stderr",
     "output_type": "stream",
     "text": [
      "PdfReadWarning: Xref table not zero-indexed. ID numbers for objects will be corrected. [pdf.py:1736]\n"
     ]
    },
    {
     "name": "stdout",
     "output_type": "stream",
     "text": [
      "7730*, 7731*, 7732*, 7733*, 7734*, "
     ]
    },
    {
     "name": "stderr",
     "output_type": "stream",
     "text": [
      "PdfReadWarning: Xref table not zero-indexed. ID numbers for objects will be corrected. [pdf.py:1736]\n"
     ]
    },
    {
     "name": "stdout",
     "output_type": "stream",
     "text": [
      "7735*, 7736*, 7737*, 7738*, "
     ]
    },
    {
     "name": "stderr",
     "output_type": "stream",
     "text": [
      "PdfReadWarning: Xref table not zero-indexed. ID numbers for objects will be corrected. [pdf.py:1736]\n"
     ]
    },
    {
     "name": "stdout",
     "output_type": "stream",
     "text": [
      "7739*, 7740*, 7741*, "
     ]
    },
    {
     "name": "stderr",
     "output_type": "stream",
     "text": [
      "PdfReadWarning: Xref table not zero-indexed. ID numbers for objects will be corrected. [pdf.py:1736]\n"
     ]
    },
    {
     "name": "stdout",
     "output_type": "stream",
     "text": [
      "7742*, 7743*, 7744*, 7745*, 7746*, 7747*, 7748*, 7749*, "
     ]
    },
    {
     "name": "stderr",
     "output_type": "stream",
     "text": [
      "PdfReadWarning: Xref table not zero-indexed. ID numbers for objects will be corrected. [pdf.py:1736]\n"
     ]
    },
    {
     "name": "stdout",
     "output_type": "stream",
     "text": [
      "7750*, 7751*, 7752*, 7753*, "
     ]
    },
    {
     "name": "stderr",
     "output_type": "stream",
     "text": [
      "PdfReadWarning: Xref table not zero-indexed. ID numbers for objects will be corrected. [pdf.py:1736]\n"
     ]
    },
    {
     "name": "stdout",
     "output_type": "stream",
     "text": [
      "7754*, 7755*, 7756*, 7757*, "
     ]
    },
    {
     "name": "stderr",
     "output_type": "stream",
     "text": [
      "PdfReadWarning: Xref table not zero-indexed. ID numbers for objects will be corrected. [pdf.py:1736]\n"
     ]
    },
    {
     "name": "stdout",
     "output_type": "stream",
     "text": [
      "7758*, 7759*, "
     ]
    },
    {
     "name": "stderr",
     "output_type": "stream",
     "text": [
      "PdfReadWarning: Xref table not zero-indexed. ID numbers for objects will be corrected. [pdf.py:1736]\n"
     ]
    },
    {
     "name": "stdout",
     "output_type": "stream",
     "text": [
      "7760*, 7761*, 7762*, 7763*, 7764*, 7765*, 7766*, 7767*, "
     ]
    },
    {
     "name": "stderr",
     "output_type": "stream",
     "text": [
      "PdfReadWarning: Xref table not zero-indexed. ID numbers for objects will be corrected. [pdf.py:1736]\n"
     ]
    },
    {
     "name": "stdout",
     "output_type": "stream",
     "text": [
      "7768*, 7769*, 7770*, "
     ]
    },
    {
     "name": "stderr",
     "output_type": "stream",
     "text": [
      "PdfReadWarning: Xref table not zero-indexed. ID numbers for objects will be corrected. [pdf.py:1736]\n"
     ]
    },
    {
     "name": "stdout",
     "output_type": "stream",
     "text": [
      "7771*, 7772*, 7773*, 7774*, 7775*, 7776*, 7777*, 7778*, 7779*, "
     ]
    },
    {
     "name": "stderr",
     "output_type": "stream",
     "text": [
      "PdfReadWarning: Xref table not zero-indexed. ID numbers for objects will be corrected. [pdf.py:1736]\n"
     ]
    },
    {
     "name": "stdout",
     "output_type": "stream",
     "text": [
      "7780*, 7781*, 7782*, "
     ]
    },
    {
     "name": "stderr",
     "output_type": "stream",
     "text": [
      "PdfReadWarning: Xref table not zero-indexed. ID numbers for objects will be corrected. [pdf.py:1736]\n"
     ]
    },
    {
     "name": "stdout",
     "output_type": "stream",
     "text": [
      "7783*, 7784*, 7785*, "
     ]
    },
    {
     "name": "stderr",
     "output_type": "stream",
     "text": [
      "PdfReadWarning: Xref table not zero-indexed. ID numbers for objects will be corrected. [pdf.py:1736]\n"
     ]
    },
    {
     "name": "stdout",
     "output_type": "stream",
     "text": [
      "7786*, 7787*, 7788*, "
     ]
    },
    {
     "name": "stderr",
     "output_type": "stream",
     "text": [
      "PdfReadWarning: Xref table not zero-indexed. ID numbers for objects will be corrected. [pdf.py:1736]\n"
     ]
    },
    {
     "name": "stdout",
     "output_type": "stream",
     "text": [
      "7789*, 7790*, 7791*, "
     ]
    },
    {
     "name": "stderr",
     "output_type": "stream",
     "text": [
      "PdfReadWarning: Xref table not zero-indexed. ID numbers for objects will be corrected. [pdf.py:1736]\n"
     ]
    },
    {
     "name": "stdout",
     "output_type": "stream",
     "text": [
      "7792*, 7793*, "
     ]
    },
    {
     "name": "stderr",
     "output_type": "stream",
     "text": [
      "PdfReadWarning: Xref table not zero-indexed. ID numbers for objects will be corrected. [pdf.py:1736]\n"
     ]
    },
    {
     "name": "stdout",
     "output_type": "stream",
     "text": [
      "7794*, 7795*, 7796*, 7797*, 7798*, 7799*, 7800*, 7801*, 7802*, 7803*, 7804*, 7805*, 7806*, 7807*, 7808*, 7809*, 7810*, "
     ]
    },
    {
     "name": "stderr",
     "output_type": "stream",
     "text": [
      "PdfReadWarning: Xref table not zero-indexed. ID numbers for objects will be corrected. [pdf.py:1736]\n"
     ]
    },
    {
     "name": "stdout",
     "output_type": "stream",
     "text": [
      "7811*, 7812*, 7813*, 7814*, 7815*, 7816*, 7817*, 7818*, 7819*, 7820*, 7821*, 7822*, 7823*, 7824*, 7825*, 7826*, 7827*, 7828*, 7829*, 7830*, 7831*, 7832*, 7833*, 7834*, 7835*, 7836*, 7837*, 7838*, 7839*, 7840*, 7841*, 7842*, 7843*, 7844*, 7845*, 7846*, 7847*, 7848*, 7849*, "
     ]
    },
    {
     "name": "stderr",
     "output_type": "stream",
     "text": [
      "PdfReadWarning: Xref table not zero-indexed. ID numbers for objects will be corrected. [pdf.py:1736]\n"
     ]
    },
    {
     "name": "stdout",
     "output_type": "stream",
     "text": [
      "7850*, 7851*, 7852*, 7853*, 7854*, 7855*, 7856*, 7857*, 7858*, 7859*, 7860*, 7861*, 7862*, 7863*, 7864*, 7865*, 7866*, 7867*, 7868*, 7869*, 7870*, 7871*, 7872*, 7873*, 7874*, 7875*, 7876*, 7877*, 7878*, 7879*, 7880*, 7881*, 7882*, 7883*, 7884*, 7885*, 7886*, 7887*, 7888*, 7889*, "
     ]
    },
    {
     "name": "stderr",
     "output_type": "stream",
     "text": [
      "PdfReadWarning: Xref table not zero-indexed. ID numbers for objects will be corrected. [pdf.py:1736]\n"
     ]
    },
    {
     "name": "stdout",
     "output_type": "stream",
     "text": [
      "7890*, 7891*, 7892*, 7893*, 7894*, 7895*, 7896*, 7897*, 7898*, 7899*, 7900*, 7901*, 7902*, 7903*, 7904*, 7905*, 7906*, 7907*, 7908*, 7909*, 7910*, 7911*, 7912*, 7913*, 7914*, 7915*, 7916*, 7917*, 7918*, 7919*, 7920*, 7921*, 7922*, 7923*, 7924*, 7925*, 7926*, 7927*, 7928*, 7929*, 7930*, 7931*, 7932*, 7933*, 7934*, 7935*, 7936*, 7937*, 7938*, 7939*, 7940*, 7941*, 7942*, 7943*, 7944*, 7945*, 7946*, 7947*, 7948*, 7949*, 7950*, 7951*, 7952*, 7953*, 7954*, 7955*, 7956*, 7957*, 7958*, 7959*, 7960*, 7961*, 7962*, 7963*, 7964*, 7965*, 7966*, 7967*, 7968*, 7969*, 7970*, 7971*, 7972*, 7973*, 7974*, 7975*, 7976*, 7977*, 7978*, 7979*, 7980*, 7981*, 7982*, 7983*, 7984*, 7985*, 7986*, 7987*, 7988*, 7989*, 7990*, 7991*, 7992*, 7993*, 7994*, 7995*, 7996*, 7997*, 7998*, 7999*, 8000*, 8001*, 8002*, 8003*, 8004*, 8005*, 8006*, 8007*, 8008*, 8009*, 8010*, 8011*, 8012*, 8013*, 8014*, 8015*, 8016*, 8017*, 8018*, 8019*, 8020*, 8021*, 8022*, 8023*, 8024*, 8025*, 8026*, 8027*, 8028*, 8029*, 8030*, 8031*, 8032*, 8033*, 8034*, 8035*, 8036*, 8037*, 8038*, 8039*, 8040*, 8041*, 8042*, 8043*, 8044*, 8045*, 8046*, 8047*, 8048*, 8049*, 8050*, 8051*, 8052*, 8053*, 8054*, 8055*, 8056*, 8057*, 8058*, 8059*, 8060*, 8061*, 8062*, 8063*, 8064*, 8065*, 8066*, 8067*, 8068*, 8069*, 8070*, 8071*, 8072*, 8073*, 8074*, 8075*, 8076*, 8077*, 8078*, 8079*, 8080*, 8081*, 8082*, 8083*, 8084*, 8085*, 8086*, 8087*, 8088*, 8089*, 8090*, 8091*, 8092*, 8093*, 8094*, 8095*, 8096*, 8097*, 8098*, 8099*, 8100*, 8101*, 8102*, 8103*, 8104*, 8105*, 8106*, 8107*, 8108*, 8109*, 8110*, 8111*, 8112*, 8113*, 8114*, 8115*, 8116*, 8117*, 8118*, 8119*, 8120*, 8121*, 8122*, 8123*, 8124*, 8125*, 8126*, 8127*, 8128*, 8129*, 8130*, 8131*, 8132*, 8133*, 8134*, 8135*, 8136*, 8137*, 8138*, 8139*, 8140*, 8141*, 8142*, 8143*, 8144*, 8145*, 8146*, 8147*, 8148*, 8149*, 8150*, 8151*, 8152*, 8153*, 8154*, 8155*, 8156*, 8157*, 8158*, 8159*, 8160*, 8161*, 8162*, 8163*, 8164*, 8165*, 8166*, 8167*, 8168*, 8169*, 8170*, 8171*, 8172*, 8173*, 8174*, 8175*, 8176*, 8177*, 8178*, 8179*, 8180*, 8181*, 8182*, 8183*, 8184*, 8185*, 8186*, 8187*, 8188*, 8189*, 8190*, 8191*, 8192*, 8193*, 8194*, 8195*, 8196*, 8197*, 8198*, 8199*, 8200*, 8201*, 8202*, 8203*, 8204*, 8205*, 8206*, 8207*, 8208*, 8209*, 8210*, 8211*, 8212*, 8213*, 8214*, 8215*, 8216*, 8217*, 8218*, 8219*, 8220*, 8221*, 8222*, 8223*, 8224*, 8225*, 8226*, 8227*, 8228*, 8229*, 8230*, 8231*, 8232*, 8233*, 8234*, 8235*, 8236*, 8237*, 8238*, 8239*, 8240*, "
     ]
    },
    {
     "name": "stderr",
     "output_type": "stream",
     "text": [
      "PdfReadWarning: Xref table not zero-indexed. ID numbers for objects will be corrected. [pdf.py:1736]\n"
     ]
    },
    {
     "name": "stdout",
     "output_type": "stream",
     "text": [
      "8241*, 8242*, 8243*, 8244*, 8245*, 8246*, 8247*, 8248*, 8249*, 8250*, 8251*, 8252*, 8253*, 8254*, 8255*, 8256*, 8257*, 8258*, 8259*, 8260*, 8261*, 8262*, 8263*, 8264*, 8265*, 8266*, 8267*, 8268*, 8269*, 8270*, 8271*, 8272*, 8273*, 8274*, 8275*, 8276*, 8277*, 8278*, 8279*, 8280*, 8281*, 8282*, 8283*, 8284*, 8285*, 8286*, 8287*, 8288*, 8289*, 8290*, 8291*, 8292*, 8293*, 8294*, 8295*, 8296*, 8297*, 8298*, 8299*, 8300*, 8301*, 8302*, 8303*, 8304*, 8305*, 8306*, 8307*, 8308*, 8309*, 8310*, 8311*, 8312*, 8313*, 8314*, 8315*, 8316*, 8317*, 8318*, 8319*, 8320*, 8321*, 8322*, 8323*, 8324*, 8325*, 8326*, 8327*, 8328*, 8329*, 8330*, 8331*, 8332*, 8333*, 8334*, 8335*, 8336*, 8337*, 8338*, 8339*, 8340*, 8341*, 8342*, 8343*, 8344*, 8345*, 8346*, 8347*, 8348*, 8349*, 8350*, 8351*, 8352*, 8353*, 8354*, 8355*, 8356*, 8357*, 8358*, 8359*, 8360*, 8361*, 8362*, 8363*, 8364*, 8365*, 8366*, 8367*, 8368*, 8369*, 8370*, 8371*, 8372*, 8373*, 8374*, 8375*, 8376*, 8377*, 8378*, 8379*, 8380*, 8381*, 8382*, 8383*, 8384*, 8385*, 8386*, 8387*, 8388*, 8389*, 8390*, 8391*, 8392*, 8393*, 8394*, 8395*, 8396*, 8397*, 8398*, 8399*, 8400*, 8401*, 8402*, 8403*, 8404*, 8405*, 8406*, 8407*, 8408*, 8409*, 8410*, 8411*, 8412*, 8413*, 8414*, 8415*, 8416*, 8417*, 8418*, 8419*, 8420*, 8421*, 8422*, 8423*, 8424*, 8425*, 8426*, 8427*, 8428*, 8429*, 8430*, 8431*, 8432*, 8433*, 8434*, 8435*, 8436*, 8437*, 8438*, 8439*, 8440*, "
     ]
    },
    {
     "name": "stderr",
     "output_type": "stream",
     "text": [
      "PdfReadWarning: Xref table not zero-indexed. ID numbers for objects will be corrected. [pdf.py:1736]\n"
     ]
    },
    {
     "name": "stdout",
     "output_type": "stream",
     "text": [
      "8441*, 8442*, 8443*, 8444*, 8445*, 8446*, 8447*, 8448*, 8449*, 8450*, 8451*, 8452*, 8453*, 8454*, 8455*, 8456*, 8457*, 8458*, 8459*, 8460*, 8461*, 8462*, 8463*, 8464*, 8465*, 8466*, 8467*, 8468*, 8469*, 8470*, 8471*, 8472*, 8473*, 8474*, 8475*, 8476*, 8477*, 8478*, 8479*, 8480*, 8481*, 8482*, 8483*, 8484*, 8485*, 8486*, 8487*, 8488*, 8489*, 8490*, 8491*, 8492*, 8493*, 8494*, 8495*, 8496*, 8497*, 8498*, 8499*, 8500*, 8501*, 8502*, 8503*, 8504*, 8505*, 8506*, 8507*, 8508*, 8509*, 8510*, 8511*, 8512*, 8513*, 8514*, 8515*, 8516*, 8517*, 8518*, 8519*, 8520*, 8521*, 8522*, 8523*, 8524*, 8525*, 8526*, 8527*, 8528*, 8529*, 8530*, 8531*, 8532*, 8533*, 8534*, 8535*, 8536*, 8537*, 8538*, 8539*, 8540*, 8541*, 8542*, 8543*, 8544*, 8545*, 8546*, 8547*, 8548*, 8549*, 8550*, 8551*, 8552*, 8553*, 8554*, 8555*, 8556*, 8557*, 8558*, 8559*, 8560*, 8561*, 8562*, 8563*, 8564*, 8565*, 8566*, 8567*, 8568*, 8569*, 8570*, 8571*, 8572*, 8573*, 8574*, 8575*, 8576*, 8577*, 8578*, 8579*, 8580*, 8581*, 8582*, 8583*, 8584*, 8585*, 8586*, 8587*, 8588*, 8589*, 8590*, 8591*, 8592*, 8593*, 8594*, 8595*, 8596*, 8597*, 8598*, 8599*, 8600*, 8601*, 8602*, 8603*, 8604*, 8605*, 8606*, 8607*, 8608*, 8609*, 8610*, 8611*, 8612*, 8613*, 8614*, 8615*, 8616*, 8617*, 8618*, 8619*, 8620*, 8621*, 8622*, 8623*, 8624*, 8625*, 8626*, 8627*, 8628*, 8629*, 8630*, 8631*, 8632*, 8633*, 8634*, 8635*, 8636*, 8637*, 8638*, 8639*, "
     ]
    },
    {
     "name": "stderr",
     "output_type": "stream",
     "text": [
      "PdfReadWarning: Xref table not zero-indexed. ID numbers for objects will be corrected. [pdf.py:1736]\n"
     ]
    },
    {
     "name": "stdout",
     "output_type": "stream",
     "text": [
      "8640*, 8641*, 8642*, 8643*, 8644*, 8645*, 8646*, 8647*, 8648*, 8649*, 8650*, 8651*, 8652*, 8653*, 8654*, 8655*, 8656*, 8657*, 8658*, 8659*, 8660*, 8661*, 8662*, 8663*, 8664*, 8665*, 8666*, 8667*, 8668*, 8669*, 8670*, 8671*, 8672*, 8673*, 8674*, 8675*, 8676*, 8677*, 8678*, 8679*, 8680*, 8681*, 8682*, 8683*, 8684*, 8685*, 8686*, 8687*, 8688*, 8689*, 8690*, 8691*, 8692*, 8693*, 8694*, 8695*, 8696*, 8697*, 8698*, 8699*, 8700*, 8701*, 8702*, 8703*, 8704*, 8705*, 8706*, 8707*, 8708*, 8709*, 8710*, 8711*, 8712*, 8713*, 8714*, 8715*, 8716*, 8717*, 8718*, 8719*, 8720*, 8721*, 8722*, 8723*, 8724*, 8725*, 8726*, 8727*, 8728*, 8729*, 8730*, 8731*, 8732*, 8733*, 8734*, 8735*, 8736*, 8737*, 8738*, 8739*, 8740*, 8741*, 8742*, 8743*, 8744*, 8745*, 8746*, 8747*, 8748*, 8749*, 8750*, 8751*, 8752*, 8753*, 8754*, 8755*, 8756*, 8757*, 8758*, 8759*, 8760*, 8761*, 8762*, 8763*, 8764*, 8765*, 8766*, 8767*, 8768*, 8769*, 8770*, 8771*, 8772*, 8773*, 8774*, 8775*, 8776*, 8777*, 8778*, 8779*, 8780*, 8781*, 8782*, 8783*, 8784*, 8785*, 8786*, 8787*, 8788*, 8789*, 8790*, 8791*, 8792*, 8793*, 8794*, 8795*, 8796*, 8797*, 8798*, 8799*, 8800*, 8801*, 8802*, 8803*, 8804*, 8805*, 8806*, 8807*, 8808*, 8809*, 8810*, 8811*, 8812*, 8813*, 8814*, 8815*, 8816*, 8817*, 8818*, 8819*, 8820*, 8821*, 8822*, 8823*, 8824*, 8825*, 8826*, 8827*, 8828*, 8829*, 8830*, 8831*, 8832*, 8833*, 8834*, 8835*, 8836*, 8837*, 8838*, 8839*, 8840*, 8841*, 8842*, 8843*, 8844*, 8845*, 8846*, 8847*, 8848*, 8849*, 8850*, 8851*, 8852*, 8853*, 8854*, 8855*, 8856*, 8857*, 8858*, 8859*, 8860*, 8861*, 8862*, 8863*, 8864*, 8865*, 8866*, 8867*, 8868*, 8869*, 8870*, 8871*, 8872*, 8873*, 8874*, 8875*, 8876*, 8877*, 8878*, 8879*, 8880*, 8881*, 8882*, 8883*, 8884*, 8885*, 8886*, "
     ]
    },
    {
     "name": "stderr",
     "output_type": "stream",
     "text": [
      "PdfReadWarning: Xref table not zero-indexed. ID numbers for objects will be corrected. [pdf.py:1736]\n"
     ]
    },
    {
     "name": "stdout",
     "output_type": "stream",
     "text": [
      "8887*, 8888*, 8889*, 8890*, 8891*, 8892*, 8893*, 8894*, 8895*, 8896*, 8897*, 8898*, 8899*, 8900*, 8901*, 8902*, 8903*, 8904*, "
     ]
    },
    {
     "name": "stderr",
     "output_type": "stream",
     "text": [
      "PdfReadWarning: Xref table not zero-indexed. ID numbers for objects will be corrected. [pdf.py:1736]\n"
     ]
    },
    {
     "name": "stdout",
     "output_type": "stream",
     "text": [
      "8905*, 8906*, 8907*, 8908*, 8909*, 8910*, 8911*, 8912*, 8913*, 8914*, 8915*, 8916*, 8917*, 8918*, 8919*, 8920*, 8921*, 8922*, 8923*, 8924*, 8925*, "
     ]
    },
    {
     "name": "stderr",
     "output_type": "stream",
     "text": [
      "PdfReadWarning: Xref table not zero-indexed. ID numbers for objects will be corrected. [pdf.py:1736]\n"
     ]
    },
    {
     "name": "stdout",
     "output_type": "stream",
     "text": [
      "8926*, 8927*, 8928*, 8929*, 8930*, 8931*, 8932*, 8933*, 8934*, 8935*, 8936*, 8937*, 8938*, 8939*, 8940*, 8941*, 8942*, 8943*, 8944*, 8945*, 8946*, 8947*, 8948*, 8949*, 8950*, 8951*, 8952*, 8953*, 8954*, 8955*, 8956*, 8957*, 8958*, 8959*, 8960*, 8961*, 8962*, 8963*, 8964*, 8965*, 8966*, 8967*, 8968*, 8969*, "
     ]
    },
    {
     "name": "stderr",
     "output_type": "stream",
     "text": [
      "PdfReadWarning: Xref table not zero-indexed. ID numbers for objects will be corrected. [pdf.py:1736]\n"
     ]
    },
    {
     "name": "stdout",
     "output_type": "stream",
     "text": [
      "8970*, 8971*, 8972*, 8973*, 8974*, 8975*, 8976*, 8977*, 8978*, 8979*, 8980*, 8981*, 8982*, 8983*, 8984*, 8985*, 8986*, 8987*, 8988*, 8989*, 8990*, 8991*, 8992*, 8993*, 8994*, 8995*, 8996*, 8997*, 8998*, 8999*, 9000*, 9001*, 9002*, 9003*, 9004*, 9005*, 9006*, 9007*, 9008*, 9009*, 9010*, 9011*, 9012*, 9013*, 9014*, 9015*, 9016*, 9017*, 9018*, 9019*, 9020*, 9021*, 9022*, 9023*, 9024*, 9025*, 9026*, 9027*, 9028*, 9029*, 9030*, 9031*, 9032*, 9033*, 9034*, 9035*, 9036*, 9037*, 9038*, 9039*, 9040*, 9041*, 9042*, "
     ]
    },
    {
     "name": "stderr",
     "output_type": "stream",
     "text": [
      "PdfReadWarning: Xref table not zero-indexed. ID numbers for objects will be corrected. [pdf.py:1736]\n"
     ]
    },
    {
     "name": "stdout",
     "output_type": "stream",
     "text": [
      "9043*, 9044*, 9045*, 9046*, 9047*, 9048*, 9049*, 9050*, 9051*, 9052*, 9053*, 9054*, 9055*, 9056*, 9057*, 9058*, 9059*, 9060*, 9061*, 9062*, 9063*, 9064*, 9065*, 9066*, 9067*, 9068*, 9069*, 9070*, 9071*, 9072*, 9073*, 9074*, 9075*, 9076*, 9077*, 9078*, 9079*, 9080*, 9081*, 9082*, 9083*, 9084*, 9085*, 9086*, 9087*, 9088*, 9089*, 9090*, 9091*, 9092*, 9093*, 9094*, 9095*, 9096*, 9097*, 9098*, 9099*, 9100*, 9101*, 9102*, 9103*, 9104*, 9105*, 9106*, 9107*, 9108*, 9109*, 9110*, 9111*, 9112*, 9113*, 9114*, 9115*, 9116*, 9117*, 9118*, 9119*, 9120*, 9121*, 9122*, 9123*, 9124*, 9125*, 9126*, 9127*, 9128*, 9129*, 9130*, 9131*, 9132*, 9133*, 9134*, 9135*, 9136*, 9137*, 9138*, 9139*, 9140*, 9141*, 9142*, 9143*, 9144*, 9145*, 9146*, 9147*, 9148*, 9149*, 9150*, 9151*, 9152*, 9153*, 9154*, 9155*, 9156*, 9157*, 9158*, 9159*, 9160*, 9161*, 9162*, 9163*, 9164*, 9165*, 9166*, 9167*, 9168*, 9169*, 9170*, 9171*, 9172*, 9173*, 9174*, 9175*, 9176*, 9177*, 9178*, 9179*, 9180*, 9181*, 9182*, 9183*, 9184*, 9185*, 9186*, 9187*, 9188*, 9189*, 9190*, 9191*, 9192*, 9193*, 9194*, 9195*, 9196*, 9197*, 9198*, 9199*, 9200*, 9201*, 9202*, 9203*, 9204*, 9205*, 9206*, 9207*, 9208*, 9209*, 9210*, 9211*, 9212*, 9213*, 9214*, 9215*, 9216*, 9217*, 9218*, 9219*, 9220*, 9221*, 9222*, 9223*, 9224*, 9225*, 9226*, 9227*, 9228*, 9229*, 9230*, 9231*, 9232*, 9233*, 9234*, 9235*, 9236*, 9237*, 9238*, 9239*, 9240*, 9241*, 9242*, 9243*, 9244*, 9245*, 9246*, 9247*, 9248*, 9249*, 9250*, 9251*, 9252*, 9253*, 9254*, 9255*, 9256*, 9257*, 9258*, 9259*, 9260*, 9261*, 9262*, 9263*, 9264*, 9265*, 9266*, 9267*, 9268*, 9269*, 9270*, 9271*, 9272*, 9273*, 9274*, 9275*, 9276*, 9277*, 9278*, 9279*, 9280*, 9281*, 9282*, 9283*, 9284*, 9285*, 9286*, 9287*, 9288*, 9289*, 9290*, 9291*, 9292*, 9293*, 9294*, 9295*, 9296*, 9297*, 9298*, 9299*, 9300*, 9301*, 9302*, 9303*, 9304*, 9305*, 9306*, 9307*, 9308*, 9309*, 9310*, 9311*, 9312*, 9313*, 9314*, 9315*, 9316*, 9317*, 9318*, 9319*, 9320*, 9321*, 9322*, 9323*, 9324*, 9325*, 9326*, 9327*, 9328*, 9329*, 9330*, 9331*, 9332*, 9333*, 9334*, 9335*, 9336*, 9337*, 9338*, 9339*, 9340*, 9341*, 9342*, 9343*, 9344*, 9345*, 9346*, 9347*, 9348*, 9349*, 9350*, 9351*, 9352*, 9353*, 9354*, 9355*, 9356*, 9357*, 9358*, 9359*, 9360*, 9361*, 9362*, 9363*, 9364*, 9365*, 9366*, 9367*, 9368*, 9369*, 9370*, 9371*, 9372*, 9373*, 9374*, 9375*, 9376*, 9377*, 9378*, 9379*, 9380*, 9381*, 9382*, 9383*, 9384*, 9385*, 9386*, 9387*, 9388*, 9389*, 9390*, 9391*, 9392*, 9393*, 9394*, 9395*, 9396*, 9397*, 9398*, 9399*, 9400*, 9401*, 9402*, 9403*, 9404*, 9405*, 9406*, 9407*, 9408*, 9409*, 9410*, 9411*, 9412*, 9413*, 9414*, 9415*, 9416*, 9417*, 9418*, 9419*, 9420*, 9421*, 9422*, 9423*, "
     ]
    },
    {
     "name": "stderr",
     "output_type": "stream",
     "text": [
      "PdfReadWarning: Xref table not zero-indexed. ID numbers for objects will be corrected. [pdf.py:1736]\n"
     ]
    },
    {
     "name": "stdout",
     "output_type": "stream",
     "text": [
      "9424*, 9425*, 9426*, 9427*, 9428*, 9429*, 9430*, 9431*, 9432*, 9433*, 9434*, 9435*, 9436*, 9437*, 9438*, 9439*, 9440*, 9441*, 9442*, 9443*, 9444*, 9445*, 9446*, 9447*, 9448*, 9449*, 9450*, 9451*, 9452*, 9453*, 9454*, 9455*, 9456*, error: ../data/raw/ujslawhelp.sd.gov/forms/42d8154de12daf4f909d19e7252e1b9f.pdf\n",
      "9457*, 9458*, 9459*, 9460*, 9461*, 9462*, 9463*, 9464*, 9465*, 9466*, 9467*, 9468*, 9469*, 9470*, 9471*, 9472*, 9473*, 9474*, 9475*, 9476*, 9477*, 9478*, 9479*, 9480*, 9481*, 9482*, 9483*, 9484*, 9485*, 9486*, 9487*, 9488*, 9489*, 9490*, 9491*, 9492*, 9493*, 9494*, 9495*, 9496*, 9497*, 9498*, 9499*, 9500*, 9501*, 9502*, 9503*, 9504*, 9505*, 9506*, 9507*, 9508*, 9509*, 9510*, 9511*, 9512*, 9513*, 9514*, 9515*, "
     ]
    },
    {
     "name": "stderr",
     "output_type": "stream",
     "text": [
      "PdfReadWarning: Xref table not zero-indexed. ID numbers for objects will be corrected. [pdf.py:1736]\n"
     ]
    },
    {
     "name": "stdout",
     "output_type": "stream",
     "text": [
      "9516*, 9517*, 9518*, 9519*, 9520*, 9521*, 9522*, 9523*, 9524*, 9525*, 9526*, 9527*, 9528*, 9529*, 9530*, 9531*, 9532*, 9533*, 9534*, 9535*, 9536*, 9537*, 9538*, 9539*, 9540*, 9541*, 9542*, 9543*, 9544*, 9545*, 9546*, 9547*, 9548*, 9549*, 9550*, 9551*, 9552*, 9553*, 9554*, 9555*, 9556*, "
     ]
    },
    {
     "name": "stderr",
     "output_type": "stream",
     "text": [
      "PdfReadWarning: Xref table not zero-indexed. ID numbers for objects will be corrected. [pdf.py:1736]\n"
     ]
    },
    {
     "name": "stdout",
     "output_type": "stream",
     "text": [
      "9557*, 9558*, 9559*, 9560*, "
     ]
    },
    {
     "name": "stderr",
     "output_type": "stream",
     "text": [
      "PdfReadWarning: Xref table not zero-indexed. ID numbers for objects will be corrected. [pdf.py:1736]\n"
     ]
    },
    {
     "name": "stdout",
     "output_type": "stream",
     "text": [
      "9561*, 9562*, 9563*, 9564*, 9565*, 9566*, 9567*, "
     ]
    },
    {
     "name": "stderr",
     "output_type": "stream",
     "text": [
      "PdfReadWarning: Xref table not zero-indexed. ID numbers for objects will be corrected. [pdf.py:1736]\n"
     ]
    },
    {
     "name": "stdout",
     "output_type": "stream",
     "text": [
      "9568*, 9569*, 9570*, 9571*, 9572*, 9573*, 9574*, 9575*, 9576*, 9577*, 9578*, 9579*, 9580*, 9581*, 9582*, 9583*, 9584*, 9585*, 9586*, 9587*, 9588*, 9589*, 9590*, 9591*, 9592*, 9593*, 9594*, 9595*, 9596*, 9597*, 9598*, 9599*, 9600*, 9601*, 9602*, 9603*, 9604*, 9605*, 9606*, 9607*, 9608*, 9609*, 9610*, 9611*, 9612*, 9613*, 9614*, 9615*, 9616*, 9617*, 9618*, 9619*, 9620*, 9621*, 9622*, 9623*, 9624*, 9625*, 9626*, 9627*, 9628*, 9629*, 9630*, 9631*, 9632*, 9633*, 9634*, 9635*, 9636*, 9637*, 9638*, 9639*, 9640*, 9641*, 9642*, 9643*, 9644*, 9645*, 9646*, 9647*, 9648*, 9649*, 9650*, 9651*, 9652*, 9653*, 9654*, 9655*, 9656*, 9657*, 9658*, 9659*, 9660*, 9661*, 9662*, 9663*, 9664*, 9665*, 9666*, 9667*, "
     ]
    },
    {
     "name": "stderr",
     "output_type": "stream",
     "text": [
      "PdfReadWarning: Xref table not zero-indexed. ID numbers for objects will be corrected. [pdf.py:1736]\n"
     ]
    },
    {
     "name": "stdout",
     "output_type": "stream",
     "text": [
      "9668*, 9669*, 9670*, 9671*, 9672*, 9673*, 9674*, "
     ]
    },
    {
     "name": "stderr",
     "output_type": "stream",
     "text": [
      "PdfReadWarning: Xref table not zero-indexed. ID numbers for objects will be corrected. [pdf.py:1736]\n"
     ]
    },
    {
     "name": "stdout",
     "output_type": "stream",
     "text": [
      "9675*, 9676*, 9677*, 9678*, 9679*, 9680*, 9681*, 9682*, 9683*, 9684*, 9685*, 9686*, "
     ]
    },
    {
     "name": "stderr",
     "output_type": "stream",
     "text": [
      "PdfReadWarning: Xref table not zero-indexed. ID numbers for objects will be corrected. [pdf.py:1736]\n"
     ]
    },
    {
     "name": "stdout",
     "output_type": "stream",
     "text": [
      "9687*, 9688*, 9689*, 9690*, 9691*, 9692*, 9693*, 9694*, 9695*, 9696*, 9697*, error: ../data/raw/www.vacourts.gov/forms/083c66e62b4b54f4298978c5c188735f.pdf\n",
      "9698*, 9699*, 9700*, error: ../data/raw/www.vacourts.gov/forms/74308106871ef2fe3951a06f90cbf24b.pdf\n",
      "9701*, 9702*, 9703*, error: ../data/raw/www.vacourts.gov/forms/091b60cf8460268f938b4d9b3609b7ff.pdf\n",
      "9704*, error: ../data/raw/www.vacourts.gov/forms/5233f4a834e68e3f71c8102c6e97eb95.pdf\n",
      "9705*, 9706*, 9707*, 9708*, 9709*, 9710*, 9711*, 9712*, 9713*, 9714*, 9715*, 9716*, 9717*, 9718*, 9719*, 9720*, 9721*, 9722*, 9723*, 9724*, 9725*, 9726*, 9727*, 9728*, 9729*, 9730*, 9731*, 9732*, 9733*, 9734*, 9735*, 9736*, 9737*, 9738*, 9739*, 9740*, 9741*, 9742*, 9743*, 9744*, 9745*, 9746*, 9747*, 9748*, 9749*, 9750*, 9751*, 9752*, 9753*, 9754*, 9755*, 9756*, 9757*, 9758*, 9759*, 9760*, 9761*, 9762*, 9763*, 9764*, 9765*, 9766*, 9767*, 9768*, 9769*, 9770*, "
     ]
    },
    {
     "name": "stderr",
     "output_type": "stream",
     "text": [
      "PdfReadWarning: Xref table not zero-indexed. ID numbers for objects will be corrected. [pdf.py:1736]\n"
     ]
    },
    {
     "name": "stdout",
     "output_type": "stream",
     "text": [
      "9771*, 9772*, 9773*, 9774*, 9775*, 9776*, 9777*, 9778*, 9779*, 9780*, 9781*, 9782*, 9783*, 9784*, 9785*, 9786*, 9787*, 9788*, 9789*, 9790*, 9791*, 9792*, 9793*, 9794*, 9795*, 9796*, 9797*, 9798*, 9799*, 9800*, 9801*, 9802*, 9803*, 9804*, 9805*, 9806*, 9807*, 9808*, 9809*, 9810*, "
     ]
    },
    {
     "name": "stderr",
     "output_type": "stream",
     "text": [
      "PdfReadWarning: Xref table not zero-indexed. ID numbers for objects will be corrected. [pdf.py:1736]\n"
     ]
    },
    {
     "name": "stdout",
     "output_type": "stream",
     "text": [
      "9811*, 9812*, 9813*, 9814*, 9815*, 9816*, 9817*, 9818*, "
     ]
    },
    {
     "name": "stderr",
     "output_type": "stream",
     "text": [
      "PdfReadWarning: Xref table not zero-indexed. ID numbers for objects will be corrected. [pdf.py:1736]\n"
     ]
    },
    {
     "name": "stdout",
     "output_type": "stream",
     "text": [
      "9819*, "
     ]
    },
    {
     "name": "stderr",
     "output_type": "stream",
     "text": [
      "PdfReadWarning: Xref table not zero-indexed. ID numbers for objects will be corrected. [pdf.py:1736]\n"
     ]
    },
    {
     "name": "stdout",
     "output_type": "stream",
     "text": [
      "9820*, "
     ]
    },
    {
     "name": "stderr",
     "output_type": "stream",
     "text": [
      "PdfReadWarning: Xref table not zero-indexed. ID numbers for objects will be corrected. [pdf.py:1736]\n"
     ]
    },
    {
     "name": "stdout",
     "output_type": "stream",
     "text": [
      "9821*, "
     ]
    },
    {
     "name": "stderr",
     "output_type": "stream",
     "text": [
      "PdfReadWarning: Xref table not zero-indexed. ID numbers for objects will be corrected. [pdf.py:1736]\n"
     ]
    },
    {
     "name": "stdout",
     "output_type": "stream",
     "text": [
      "9822*, 9823*, 9824*, 9825*, 9826*, 9827*, "
     ]
    },
    {
     "name": "stderr",
     "output_type": "stream",
     "text": [
      "PdfReadWarning: Xref table not zero-indexed. ID numbers for objects will be corrected. [pdf.py:1736]\n"
     ]
    },
    {
     "name": "stdout",
     "output_type": "stream",
     "text": [
      "9828*, 9829*, 9830*, 9831*, 9832*, "
     ]
    },
    {
     "name": "stderr",
     "output_type": "stream",
     "text": [
      "PdfReadWarning: Xref table not zero-indexed. ID numbers for objects will be corrected. [pdf.py:1736]\n"
     ]
    },
    {
     "name": "stdout",
     "output_type": "stream",
     "text": [
      "9833*, 9834*, 9835*, 9836*, "
     ]
    },
    {
     "name": "stderr",
     "output_type": "stream",
     "text": [
      "PdfReadWarning: Xref table not zero-indexed. ID numbers for objects will be corrected. [pdf.py:1736]\n"
     ]
    },
    {
     "name": "stdout",
     "output_type": "stream",
     "text": [
      "9837*, 9838*, 9839*, 9840*, "
     ]
    },
    {
     "name": "stderr",
     "output_type": "stream",
     "text": [
      "PdfReadWarning: Xref table not zero-indexed. ID numbers for objects will be corrected. [pdf.py:1736]\n"
     ]
    },
    {
     "name": "stdout",
     "output_type": "stream",
     "text": [
      "9841*, 9842*, 9843*, 9844*, 9845*, 9846*, 9847*, 9848*, 9849*, 9850*, 9851*, 9852*, 9853*, 9854*, 9855*, 9856*, 9857*, 9858*, 9859*, 9860*, 9861*, 9862*, 9863*, 9864*, 9865*, 9866*, 9867*, 9868*, 9869*, 9870*, 9871*, 9872*, 9873*, 9874*, 9875*, 9876*, 9877*, 9878*, 9879*, 9880*, 9881*, 9882*, 9883*, 9884*, 9885*, 9886*, 9887*, 9888*, 9889*, 9890*, 9891*, 9892*, 9893*, 9894*, 9895*, 9896*, 9897*, 9898*, 9899*, 9900*, 9901*, 9902*, 9903*, 9904*, 9905*, 9906*, 9907*, 9908*, 9909*, 9910*, 9911*, 9912*, 9913*, 9914*, 9915*, 9916*, 9917*, 9918*, 9919*, 9920*, 9921*, 9922*, 9923*, 9924*, 9925*, 9926*, 9927*, 9928*, 9929*, 9930*, 9931*, 9932*, 9933*, 9934*, 9935*, 9936*, 9937*, 9938*, 9939*, 9940*, 9941*, 9942*, 9943*, 9944*, 9945*, 9946*, 9947*, 9948*, 9949*, 9950*, 9951*, 9952*, 9953*, 9954*, 9955*, 9956*, 9957*, 9958*, 9959*, 9960*, 9961*, 9962*, 9963*, 9964*, 9965*, 9966*, 9967*, 9968*, 9969*, 9970*, 9971*, 9972*, 9973*, 9974*, 9975*, 9976*, 9977*, 9978*, 9979*, 9980*, 9981*, 9982*, 9983*, 9984*, 9985*, 9986*, 9987*, 9988*, 9989*, 9990*, 9991*, 9992*, 9993*, 9994*, 9995*, 9996*, 9997*, 9998*, 9999*, "
     ]
    },
    {
     "name": "stderr",
     "output_type": "stream",
     "text": [
      "PdfReadWarning: Xref table not zero-indexed. ID numbers for objects will be corrected. [pdf.py:1736]\n"
     ]
    },
    {
     "name": "stdout",
     "output_type": "stream",
     "text": [
      "10000*, 10001*, 10002*, 10003*, 10004*, 10005*, 10006*, 10007*, 10008*, 10009*, 10010*, 10011*, 10012*, 10013*, 10014*, 10015*, 10016*, 10017*, 10018*, 10019*, 10020*, 10021*, 10022*, 10023*, 10024*, 10025*, 10026*, 10027*, 10028*, 10029*, 10030*, 10031*, 10032*, 10033*, 10034*, 10035*, 10036*, 10037*, 10038*, "
     ]
    },
    {
     "name": "stderr",
     "output_type": "stream",
     "text": [
      "PdfReadWarning: Xref table not zero-indexed. ID numbers for objects will be corrected. [pdf.py:1736]\n"
     ]
    },
    {
     "name": "stdout",
     "output_type": "stream",
     "text": [
      "10039*, 10040*, 10041*, 10042*, 10043*, 10044*, 10045*, 10046*, 10047*, 10048*, 10049*, 10050*, 10051*, 10052*, 10053*, 10054*, 10055*, 10056*, 10057*, 10058*, 10059*, 10060*, 10061*, 10062*, 10063*, 10064*, 10065*, 10066*, 10067*, 10068*, 10069*, 10070*, 10071*, 10072*, 10073*, 10074*, 10075*, 10076*, 10077*, 10078*, 10079*, 10080*, 10081*, 10082*, 10083*, 10084*, 10085*, 10086*, 10087*, 10088*, 10089*, 10090*, 10091*, 10092*, 10093*, 10094*, 10095*, 10096*, "
     ]
    },
    {
     "name": "stderr",
     "output_type": "stream",
     "text": [
      "PdfReadWarning: Xref table not zero-indexed. ID numbers for objects will be corrected. [pdf.py:1736]\n"
     ]
    },
    {
     "name": "stdout",
     "output_type": "stream",
     "text": [
      "10097*, 10098*, 10099*, 10100*, 10101*, 10102*, 10103*, 10104*, 10105*, 10106*, 10107*, 10108*, 10109*, 10110*, 10111*, 10112*, 10113*, 10114*, 10115*, 10116*, 10117*, 10118*, 10119*, 10120*, 10121*, 10122*, 10123*, 10124*, 10125*, 10126*, 10127*, 10128*, 10129*, 10130*, "
     ]
    },
    {
     "name": "stderr",
     "output_type": "stream",
     "text": [
      "PdfReadWarning: Xref table not zero-indexed. ID numbers for objects will be corrected. [pdf.py:1736]\n"
     ]
    },
    {
     "name": "stdout",
     "output_type": "stream",
     "text": [
      "10131*, 10132*, 10133*, 10134*, "
     ]
    },
    {
     "name": "stderr",
     "output_type": "stream",
     "text": [
      "PdfReadWarning: Xref table not zero-indexed. ID numbers for objects will be corrected. [pdf.py:1736]\n"
     ]
    },
    {
     "name": "stdout",
     "output_type": "stream",
     "text": [
      "10135*, 10136*, 10137*, 10138*, 10139*, "
     ]
    },
    {
     "name": "stderr",
     "output_type": "stream",
     "text": [
      "PdfReadWarning: Xref table not zero-indexed. ID numbers for objects will be corrected. [pdf.py:1736]\n"
     ]
    },
    {
     "name": "stdout",
     "output_type": "stream",
     "text": [
      "10140*, 10141*, 10142*, 10143*, 10144*, 10145*, 10146*, 10147*, 10148*, 10149*, 10150*, "
     ]
    },
    {
     "name": "stderr",
     "output_type": "stream",
     "text": [
      "PdfReadWarning: Xref table not zero-indexed. ID numbers for objects will be corrected. [pdf.py:1736]\n"
     ]
    },
    {
     "name": "stdout",
     "output_type": "stream",
     "text": [
      "10151*, 10152*, 10153*, 10154*, 10155*, 10156*, 10157*, "
     ]
    },
    {
     "name": "stderr",
     "output_type": "stream",
     "text": [
      "PdfReadWarning: Xref table not zero-indexed. ID numbers for objects will be corrected. [pdf.py:1736]\n"
     ]
    },
    {
     "name": "stdout",
     "output_type": "stream",
     "text": [
      "10158*, 10159*, 10160*, 10161*, 10162*, 10163*, 10164*, 10165*, 10166*, 10167*, 10168*, 10169*, 10170*, 10171*, 10172*, 10173*, 10174*, 10175*, 10176*, 10177*, 10178*, 10179*, 10180*, 10181*, 10182*, 10183*, 10184*, 10185*, 10186*, 10187*, 10188*, 10189*, 10190*, 10191*, 10192*, 10193*, 10194*, 10195*, 10196*, 10197*, 10198*, 10199*, 10200*, 10201*, 10202*, 10203*, 10204*, 10205*, 10206*, 10207*, 10208*, 10209*, 10210*, 10211*, 10212*, 10213*, 10214*, 10215*, 10216*, 10217*, 10218*, 10219*, 10220*, 10221*, 10222*, 10223*, 10224*, 10225*, 10226*, 10227*, 10228*, 10229*, 10230*, 10231*, 10232*, 10233*, 10234*, 10235*, 10236*, 10237*, 10238*, 10239*, 10240*, 10241*, 10242*, 10243*, 10244*, 10245*, 10246*, 10247*, 10248*, 10249*, 10250*, 10251*, 10252*, 10253*, 10254*, 10255*, 10256*, 10257*, 10258*, 10259*, 10260*, 10261*, 10262*, 10263*, "
     ]
    },
    {
     "name": "stderr",
     "output_type": "stream",
     "text": [
      "PdfReadWarning: Xref table not zero-indexed. ID numbers for objects will be corrected. [pdf.py:1736]\n"
     ]
    },
    {
     "name": "stdout",
     "output_type": "stream",
     "text": [
      "10264*, 10265*, 10266*, 10267*, 10268*, 10269*, 10270*, 10271*, 10272*, 10273*, 10274*, 10275*, 10276*, 10277*, 10278*, 10279*, "
     ]
    },
    {
     "name": "stderr",
     "output_type": "stream",
     "text": [
      "PdfReadWarning: Xref table not zero-indexed. ID numbers for objects will be corrected. [pdf.py:1736]\n"
     ]
    },
    {
     "name": "stdout",
     "output_type": "stream",
     "text": [
      "10280*, 10281*, 10282*, 10283*, 10284*, 10285*, 10286*, 10287*, 10288*, 10289*, 10290*, 10291*, 10292*, 10293*, 10294*, 10295*, 10296*, 10297*, 10298*, 10299*, 10300*, 10301*, 10302*, 10303*, 10304*, 10305*, 10306*, 10307*, 10308*, 10309*, 10310*, 10311*, 10312*, 10313*, 10314*, 10315*, 10316*, 10317*, 10318*, 10319*, 10320*, 10321*, 10322*, 10323*, 10324*, 10325*, 10326*, 10327*, 10328*, 10329*, 10330*, 10331*, 10332*, 10333*, 10334*, 10335*, 10336*, 10337*, 10338*, 10339*, 10340*, 10341*, 10342*, 10343*, 10344*, 10345*, 10346*, 10347*, 10348*, 10349*, 10350*, 10351*, 10352*, 10353*, 10354*, 10355*, 10356*, 10357*, 10358*, 10359*, 10360*, 10361*, 10362*, 10363*, 10364*, 10365*, 10366*, 10367*, 10368*, 10369*, 10370*, 10371*, 10372*, 10373*, 10374*, 10375*, 10376*, 10377*, 10378*, 10379*, 10380*, 10381*, 10382*, 10383*, 10384*, 10385*, 10386*, 10387*, 10388*, 10389*, 10390*, 10391*, 10392*, 10393*, 10394*, 10395*, 10396*, 10397*, 10398*, 10399*, 10400*, 10401*, 10402*, 10403*, 10404*, 10405*, 10406*, 10407*, 10408*, 10409*, 10410*, 10411*, 10412*, 10413*, 10414*, 10415*, 10416*, 10417*, 10418*, 10419*, 10420*, 10421*, 10422*, 10423*, 10424*, 10425*, 10426*, 10427*, 10428*, 10429*, 10430*, 10431*, 10432*, 10433*, 10434*, 10435*, 10436*, 10437*, 10438*, 10439*, 10440*, 10441*, 10442*, 10443*, 10444*, 10445*, 10446*, 10447*, 10448*, 10449*, 10450*, 10451*, 10452*, 10453*, 10454*, 10455*, 10456*, 10457*, 10458*, 10459*, 10460*, 10461*, 10462*, 10463*, 10464*, 10465*, 10466*, 10467*, 10468*, 10469*, 10470*, 10471*, 10472*, 10473*, 10474*, 10475*, 10476*, 10477*, 10478*, 10479*, 10480*, 10481*, 10482*, 10483*, 10484*, 10485*, 10486*, 10487*, 10488*, 10489*, 10490*, 10491*, 10492*, 10493*, 10494*, 10495*, 10496*, 10497*, 10498*, 10499*, 10500*, 10501*, 10502*, 10503*, 10504*, 10505*, 10506*, 10507*, 10508*, 10509*, 10510*, 10511*, 10512*, 10513*, 10514*, 10515*, 10516*, 10517*, 10518*, 10519*, 10520*, 10521*, 10522*, 10523*, 10524*, 10525*, 10526*, 10527*, 10528*, 10529*, 10530*, 10531*, 10532*, 10533*, 10534*, 10535*, 10536*, 10537*, 10538*, 10539*, 10540*, 10541*, 10542*, 10543*, 10544*, 10545*, 10546*, 10547*, 10548*, 10549*, 10550*, 10551*, 10552*, 10553*, 10554*, 10555*, 10556*, 10557*, 10558*, 10559*, 10560*, 10561*, 10562*, 10563*, 10564*, 10565*, 10566*, 10567*, 10568*, 10569*, 10570*, 10571*, 10572*, 10573*, 10574*, 10575*, 10576*, 10577*, 10578*, 10579*, 10580*, 10581*, 10582*, 10583*, 10584*, 10585*, 10586*, 10587*, 10588*, 10589*, 10590*, 10591*, 10592*, 10593*, 10594*, 10595*, 10596*, 10597*, 10598*, 10599*, 10600*, 10601*, 10602*, 10603*, 10604*, 10605*, 10606*, 10607*, 10608*, 10609*, 10610*, 10611*, 10612*, 10613*, 10614*, 10615*, 10616*, 10617*, 10618*, 10619*, 10620*, 10621*, 10622*, 10623*, 10624*, 10625*, 10626*, 10627*, 10628*, error: ../data/raw/www.courts.wa.gov/forms/7a3f6344ec4fee804a43f6bdd4339c40.pdf\n",
      "10629*, 10630*, error: ../data/raw/www.courts.wa.gov/forms/46f77d59bfbc8c97846c29407d692b42.pdf\n",
      "10631*, 10632*, error: ../data/raw/www.courts.wa.gov/forms/7174bd3755b2b12fdffbf487a69d4aec.pdf\n",
      "10633*, 10634*, error: ../data/raw/www.courts.wa.gov/forms/672a86a045b48633f4ab5491ea49a94c.pdf\n",
      "10635*, 10636*, error: ../data/raw/www.courts.wa.gov/forms/443fb8fc4cedc9974aacded4d1797b79.pdf\n",
      "10637*, 10638*, error: ../data/raw/www.courts.wa.gov/forms/8d0682d92029bc8009615ea53f8941eb.pdf\n",
      "10639*, 10640*, error: ../data/raw/www.courts.wa.gov/forms/b5264e8d7a887611e7f655d34c3f4094.pdf\n",
      "10641*, 10642*, 10643*, error: ../data/raw/www.courts.wa.gov/forms/12fa0d4faaf64fd11cb9a30b057d7c2f.pdf\n",
      "10644*, 10645*, error: ../data/raw/www.courts.wa.gov/forms/31cdca37900c4556b9a8dd950d658fbd.pdf\n",
      "10646*, 10647*, error: ../data/raw/www.courts.wa.gov/forms/cebc78e8f0d5b988bb95a792b232a565.pdf\n",
      "10648*, 10649*, error: ../data/raw/www.courts.wa.gov/forms/12fa0d4faaf64fd11cb9a30b057d7c2f.pdf\n",
      "10650*, 10651*, error: ../data/raw/www.courts.wa.gov/forms/3045cd080fe36c946f550f8f14c61a6b.pdf\n",
      "10652*, 10653*, 10654*, 10655*, 10656*, 10657*, error: ../data/raw/www.courts.wa.gov/forms/9e7922952e346501c9564b9e0d18b357.pdf\n",
      "10658*, error: ../data/raw/www.courts.wa.gov/forms/548a57db1a88d7ae3760140cb064b0c8.pdf\n",
      "10659*, 10660*, error: ../data/raw/www.courts.wa.gov/forms/64daa3f8feb1f556654c81778b9a8dce.pdf\n",
      "10661*, 10662*, 10663*, 10664*, 10665*, 10666*, error: ../data/raw/www.courts.wa.gov/forms/2b0eb959134ff8b480591b7d2763e718.pdf\n",
      "10667*, 10668*, 10669*, 10670*, 10671*, 10672*, 10673*, 10674*, 10675*, 10676*, 10677*, 10678*, 10679*, 10680*, 10681*, error: ../data/raw/www.courts.wa.gov/forms/2b3097d7316fc4a3956762d6c6425456.pdf\n",
      "10682*, 10683*, error: ../data/raw/www.courts.wa.gov/forms/a127e1ba3003c60d8e14c47e90550a0e.pdf\n",
      "10684*, 10685*, error: ../data/raw/www.courts.wa.gov/forms/cebc78e8f0d5b988bb95a792b232a565.pdf\n",
      "10686*, 10687*, 10688*, error: ../data/raw/www.courts.wa.gov/forms/908c810ad65df51ac27d8bad2e5d130b.pdf\n",
      "10689*, 10690*, error: ../data/raw/www.courts.wa.gov/forms/5a974d86d9b942024db969ae863fc056.pdf\n",
      "10691*, 10692*, error: ../data/raw/www.courts.wa.gov/forms/4a6ef44d49b3ccbe1bc38d0981e845a7.pdf\n",
      "10693*, 10694*, error: ../data/raw/www.courts.wa.gov/forms/200cbc06ebb8087a074c24d45f69b878.pdf\n",
      "10695*, 10696*, error: ../data/raw/www.courts.wa.gov/forms/b4f046c9a9360e6473d9ad426a8ab3c6.pdf\n",
      "10697*, 10698*, 10699*, 10700*, 10701*, 10702*, error: ../data/raw/www.courts.wa.gov/forms/69ba0b2e5604a668030324fc749e939e.pdf\n",
      "10703*, 10704*, 10705*, error: ../data/raw/www.courts.wa.gov/forms/2ebe491884ac9666175b0b33f17e7409.pdf\n",
      "10706*, 10707*, error: ../data/raw/www.courts.wa.gov/forms/6f58186c5778bdf670241cdbc44da21d.pdf\n",
      "10708*, 10709*, error: ../data/raw/www.courts.wa.gov/forms/b4d723e840395183eb06d4dd4b097722.pdf\n",
      "10710*, 10711*, error: ../data/raw/www.courts.wa.gov/forms/f30ab535d9ca77dde4261eff08ac0302.pdf\n",
      "10712*, 10713*, error: ../data/raw/www.courts.wa.gov/forms/69c3e9db61a94e90c4e0acca0154e5ae.pdf\n",
      "10714*, 10715*, error: ../data/raw/www.courts.wa.gov/forms/ba0489f36632c1c52964afa5a38d5404.pdf\n",
      "10716*, 10717*, error: ../data/raw/www.courts.wa.gov/forms/8ffd8646a40525f1d1c5add1addb32bb.pdf\n",
      "10718*, 10719*, error: ../data/raw/www.courts.wa.gov/forms/cae0996b965cb7a7cfb1a71961ca09c8.pdf\n",
      "10720*, 10721*, error: ../data/raw/www.courts.wa.gov/forms/acb9d3d11343762c83c7e2c38f4c27b3.pdf\n",
      "10722*, 10723*, error: ../data/raw/www.courts.wa.gov/forms/bbee7e8bbb95f569d7c6fac4613d5820.pdf\n",
      "10724*, 10725*, 10726*, 10727*, error: ../data/raw/www.courts.wa.gov/forms/733e2a441f667cd50161936630ccae90.pdf\n",
      "10728*, 10729*, 10730*, 10731*, 10732*, 10733*, 10734*, 10735*, error: ../data/raw/www.courts.wa.gov/forms/5a26f0b2f1d77cc3cb982d530c013c94.pdf\n",
      "10736*, 10737*, 10738*, error: ../data/raw/www.courts.wa.gov/forms/27e40eb451c9617bcc4a7e2484412669.pdf\n",
      "10739*, 10740*, 10741*, 10742*, "
     ]
    },
    {
     "name": "stderr",
     "output_type": "stream",
     "text": [
      "PdfReadWarning: Xref table not zero-indexed. ID numbers for objects will be corrected. [pdf.py:1736]\n"
     ]
    },
    {
     "name": "stdout",
     "output_type": "stream",
     "text": [
      "10743*, "
     ]
    },
    {
     "name": "stderr",
     "output_type": "stream",
     "text": [
      "PdfReadWarning: Xref table not zero-indexed. ID numbers for objects will be corrected. [pdf.py:1736]\n"
     ]
    },
    {
     "name": "stdout",
     "output_type": "stream",
     "text": [
      "10744*, error: ../data/raw/www.courts.wa.gov/forms/12fa0d4faaf64fd11cb9a30b057d7c2f.pdf\n",
      "10745*, 10746*, error: ../data/raw/www.courts.wa.gov/forms/3045cd080fe36c946f550f8f14c61a6b.pdf\n",
      "10747*, 10748*, 10749*, 10750*, error: ../data/raw/www.courts.wa.gov/forms/da747b13962b08185b653cf0a5d558eb.pdf\n",
      "10751*, 10752*, error: ../data/raw/www.courts.wa.gov/forms/9e7922952e346501c9564b9e0d18b357.pdf\n",
      "10753*, 10754*, error: ../data/raw/www.courts.wa.gov/forms/548a57db1a88d7ae3760140cb064b0c8.pdf\n",
      "10755*, 10756*, error: ../data/raw/www.courts.wa.gov/forms/64daa3f8feb1f556654c81778b9a8dce.pdf\n",
      "10757*, 10758*, 10759*, 10760*, 10761*, error: ../data/raw/www.courts.wa.gov/forms/2b0eb959134ff8b480591b7d2763e718.pdf\n",
      "10762*, 10763*, 10764*, 10765*, 10766*, 10767*, 10768*, 10769*, "
     ]
    },
    {
     "name": "stderr",
     "output_type": "stream",
     "text": [
      "PdfReadWarning: Xref table not zero-indexed. ID numbers for objects will be corrected. [pdf.py:1736]\n"
     ]
    },
    {
     "name": "stdout",
     "output_type": "stream",
     "text": [
      "10770*, 10771*, 10772*, 10773*, 10774*, "
     ]
    },
    {
     "name": "stderr",
     "output_type": "stream",
     "text": [
      "PdfReadWarning: Xref table not zero-indexed. ID numbers for objects will be corrected. [pdf.py:1736]\n"
     ]
    },
    {
     "name": "stdout",
     "output_type": "stream",
     "text": [
      "10775*, 10776*, "
     ]
    },
    {
     "name": "stderr",
     "output_type": "stream",
     "text": [
      "PdfReadWarning: Xref table not zero-indexed. ID numbers for objects will be corrected. [pdf.py:1736]\n"
     ]
    },
    {
     "name": "stdout",
     "output_type": "stream",
     "text": [
      "10777*, 10778*, 10779*, 10780*, 10781*, error: ../data/raw/www.courts.wa.gov/forms/2b3097d7316fc4a3956762d6c6425456.pdf\n",
      "10782*, 10783*, error: ../data/raw/www.courts.wa.gov/forms/a127e1ba3003c60d8e14c47e90550a0e.pdf\n",
      "10784*, 10785*, 10786*, error: ../data/raw/www.courts.wa.gov/forms/cebc78e8f0d5b988bb95a792b232a565.pdf\n",
      "10787*, 10788*, 10789*, 10790*, error: ../data/raw/www.courts.wa.gov/forms/3045cd080fe36c946f550f8f14c61a6b.pdf\n",
      "10791*, 10792*, 10793*, 10794*, 10795*, 10796*, 10797*, error: ../data/raw/www.courts.wa.gov/forms/028940cc8aaf9a35a0f1598c58b1136c.pdf\n",
      "10798*, 10799*, 10800*, error: ../data/raw/www.courts.wa.gov/forms/f3a9fabd07e786cfccc263183d8f7efd.pdf\n",
      "10801*, 10802*, error: ../data/raw/www.courts.wa.gov/forms/5a53041dd42a949aeb09a15a6627169e.pdf\n",
      "10803*, 10804*, error: ../data/raw/www.courts.wa.gov/forms/3fb3042369b50940844c8a52d7532198.pdf\n",
      "10805*, 10806*, 10807*, error: ../data/raw/www.courts.wa.gov/forms/3ac8bd3efc702fead31da0eab5b1f152.pdf\n",
      "10808*, 10809*, 10810*, error: ../data/raw/www.courts.wa.gov/forms/83bf18ef2a911a6ed62a266dc6e97f4e.pdf\n",
      "10811*, 10812*, 10813*, 10814*, 10815*, 10816*, 10817*, 10818*, 10819*, error: ../data/raw/www.courts.wa.gov/forms/3b69c22ecd8fdfc53f7213d9e3eb65fc.pdf\n",
      "10820*, 10821*, error: ../data/raw/www.courts.wa.gov/forms/341eacddd40b9cc91a861dfe1a1ac4b2.pdf\n",
      "10822*, error: ../data/raw/www.courts.wa.gov/forms/c1d81640022994c80ce55aa34988125b.pdf\n",
      "10823*, 10824*, error: ../data/raw/www.courts.wa.gov/forms/5d7bda421d02e58bfcc2fcf80930481a.pdf\n",
      "10825*, 10826*, error: ../data/raw/www.courts.wa.gov/forms/2246442ef36dee72b69b46142e7af340.pdf\n",
      "10827*, 10828*, 10829*, error: ../data/raw/www.courts.wa.gov/forms/b25396c747e3f0379ab0f486d6eac0fc.pdf\n",
      "10830*, 10831*, error: ../data/raw/www.courts.wa.gov/forms/b85e814560e59db65ed3799c7dc90e64.pdf\n",
      "10832*, 10833*, error: ../data/raw/www.courts.wa.gov/forms/deb29005e9535a3184c5494ed22b4c25.pdf\n",
      "10834*, 10835*, 10836*, error: ../data/raw/www.courts.wa.gov/forms/3045cd080fe36c946f550f8f14c61a6b.pdf\n",
      "10837*, 10838*, 10839*, 10840*, 10841*, 10842*, 10843*, 10844*, 10845*, 10846*, 10847*, 10848*, error: ../data/raw/www.courts.wa.gov/forms/b6c567d5b818202faf3a5196bb8fc7e6.pdf\n",
      "10849*, 10850*, 10851*, 10852*, 10853*, error: ../data/raw/www.courts.wa.gov/forms/ab3a91b13ab5727f1decc6d980462134.pdf\n",
      "10854*, 10855*, 10856*, 10857*, 10858*, error: ../data/raw/www.courts.wa.gov/forms/af6b9f1e9fa17150c30d901dbea2373b.pdf\n",
      "10859*, 10860*, 10861*, error: ../data/raw/www.courts.wa.gov/forms/d42a37895cc81a8d2df4a683af487e9f.pdf\n",
      "10862*, 10863*, 10864*, 10865*, error: ../data/raw/www.courts.wa.gov/forms/ec082d21209744672a988b5ea6bcc2ab.pdf\n",
      "10866*, 10867*, 10868*, 10869*, 10870*, 10871*, 10872*, 10873*, 10874*, 10875*, 10876*, 10877*, 10878*, 10879*, 10880*, 10881*, 10882*, 10883*, 10884*, 10885*, 10886*, error: ../data/raw/www.courts.wa.gov/forms/4551e4187c1228b4e24654a1f77875c6.pdf\n",
      "10887*, 10888*, error: ../data/raw/www.courts.wa.gov/forms/5873ee9030a5b0ebc413ea8946b256d7.pdf\n",
      "10889*, 10890*, 10891*, 10892*, 10893*, error: ../data/raw/www.courts.wa.gov/forms/0b8ae1c64b93b6df4f2126e548303656.pdf\n",
      "10894*, 10895*, 10896*, 10897*, 10898*, 10899*, 10900*, 10901*, 10902*, error: ../data/raw/www.courts.wa.gov/forms/e32baaf3dfeb204e86cc8a74d9cffe32.pdf\n",
      "10903*, 10904*, error: ../data/raw/www.courts.wa.gov/forms/aad7b099b6d5ad9f1c56cbc22c5c439e.pdf\n",
      "10905*, 10906*, 10907*, error: ../data/raw/www.courts.wa.gov/forms/cb61fd030a1ccd86208e35693d63aaf8.pdf\n",
      "10908*, 10909*, 10910*, error: ../data/raw/www.courts.wa.gov/forms/cc6c49029440b56d4bc9f476c5316248.pdf\n",
      "10911*, 10912*, 10913*, 10914*, 10915*, error: ../data/raw/www.courts.wa.gov/forms/1d89cf5a8b7bf734cb54b3f5e5031db8.pdf\n",
      "10916*, 10917*, 10918*, 10919*, 10920*, 10921*, 10922*, error: ../data/raw/www.courts.wa.gov/forms/c4a65b22ab803deaf54442e1b6b05beb.pdf\n",
      "10923*, 10924*, 10925*, error: ../data/raw/www.courts.wa.gov/forms/46420db183021a4928c7616a72d3fb7f.pdf\n",
      "10926*, 10927*, 10928*, 10929*, 10930*, 10931*, 10932*, 10933*, error: ../data/raw/www.courts.wa.gov/forms/6690c037eac1327d1c3daeff8e2bc10f.pdf\n",
      "10934*, 10935*, 10936*, error: ../data/raw/www.courts.wa.gov/forms/c7128303be9ce6a27ead3baf083eaf59.pdf\n",
      "10937*, 10938*, error: ../data/raw/www.courts.wa.gov/forms/2de68e77b57af5e485daf37b50ba42fc.pdf\n",
      "10939*, 10940*, error: ../data/raw/www.courts.wa.gov/forms/6de64476ab6fe99c324bddc018a4c78d.pdf\n",
      "10941*, 10942*, 10943*, 10944*, 10945*, 10946*, 10947*, error: ../data/raw/www.courts.wa.gov/forms/3ea23a19eb6652b6a15501ee80867b35.pdf\n",
      "10948*, 10949*, error: ../data/raw/www.courts.wa.gov/forms/90b4a100c6001ef5509221c43a8425a8.pdf\n",
      "10950*, 10951*, 10952*, 10953*, 10954*, 10955*, 10956*, 10957*, 10958*, 10959*, 10960*, 10961*, error: ../data/raw/www.courts.wa.gov/forms/a4bb3ab34bb871b06c1d9db98c8b5dc9.pdf\n",
      "10962*, 10963*, 10964*, 10965*, error: ../data/raw/www.courts.wa.gov/forms/d6da9ae0dae8010e488c005e0f1823dc.pdf\n",
      "10966*, 10967*, 10968*, error: ../data/raw/www.courts.wa.gov/forms/770161cc4bd130801eb33c0206aa41d3.pdf\n",
      "10969*, 10970*, 10971*, 10972*, 10973*, error: ../data/raw/www.courts.wa.gov/forms/902b81c3ff1b23d312ae5caa67439482.pdf\n",
      "10974*, 10975*, error: ../data/raw/www.courts.wa.gov/forms/40fdbfc12e48aac5dbca273133b6b3fb.pdf\n",
      "10976*, 10977*, 10978*, 10979*, error: ../data/raw/www.courts.wa.gov/forms/3a25e0cf9b3f1b06ee121c77f001cecf.pdf\n",
      "10980*, 10981*, error: ../data/raw/www.courts.wa.gov/forms/69f7f3395fa5b8c8ebce814fb9254383.pdf\n",
      "10982*, 10983*, 10984*, 10985*, error: ../data/raw/www.courts.wa.gov/forms/d3d3c65280505ff72bb7cde1a2704059.pdf\n",
      "10986*, 10987*, error: ../data/raw/www.courts.wa.gov/forms/5548bfb0f919b23f9985f2de1532dce0.pdf\n",
      "10988*, 10989*, error: ../data/raw/www.courts.wa.gov/forms/88090ab25e344eaf37d1e41c421a08ff.pdf\n",
      "10990*, 10991*, error: ../data/raw/www.courts.wa.gov/forms/2478b6465da9d7010876399fd2b52af9.pdf\n",
      "10992*, 10993*, error: ../data/raw/www.courts.wa.gov/forms/ae3080e3d55ea6b80e5558b1537586cc.pdf\n",
      "10994*, 10995*, error: ../data/raw/www.courts.wa.gov/forms/a44f018be9db0470afbd10235f38d2ad.pdf\n",
      "10996*, 10997*, error: ../data/raw/www.courts.wa.gov/forms/7639649c44698810def3fa56158daa8c.pdf\n",
      "10998*, 10999*, error: ../data/raw/www.courts.wa.gov/forms/f8afe64fe5da835f8ca1120c454f1d94.pdf\n",
      "11000*, 11001*, error: ../data/raw/www.courts.wa.gov/forms/1caa08299144edc7a68c9d5384356c8d.pdf\n",
      "11002*, 11003*, 11004*, 11005*, 11006*, 11007*, 11008*, 11009*, 11010*, 11011*, 11012*, error: ../data/raw/www.courts.wa.gov/forms/753bc5f72d5cc13e397fc1d25e1a41a2.pdf\n",
      "11013*, 11014*, error: ../data/raw/www.courts.wa.gov/forms/59150e9f349ce7ea43e80261a4586bf4.pdf\n",
      "11015*, 11016*, error: ../data/raw/www.courts.wa.gov/forms/a30700a5d37b70add9141ea85af275f4.pdf\n",
      "11017*, 11018*, 11019*, 11020*, error: ../data/raw/www.courts.wa.gov/forms/2c9a6de649d476be831fa6442c6beddd.pdf\n",
      "11021*, 11022*, 11023*, 11024*, error: ../data/raw/www.courts.wa.gov/forms/229301c2cd460e49607b7e4c398aff06.pdf\n",
      "11025*, 11026*, error: ../data/raw/www.courts.wa.gov/forms/b99c7df59658c9a1a95220e163ddd666.pdf\n",
      "11027*, 11028*, error: ../data/raw/www.courts.wa.gov/forms/9b72d65dbabf4e2da913203d858e5cd0.pdf\n",
      "11029*, 11030*, 11031*, 11032*, 11033*, 11034*, error: ../data/raw/www.courts.wa.gov/forms/e6770ce2fe1e8c55218faaf79c90ccb0.pdf\n",
      "11035*, 11036*, 11037*, 11038*, error: ../data/raw/www.courts.wa.gov/forms/8f465c38bb47cf89dc572f1022f3050e.pdf\n",
      "11039*, 11040*, error: ../data/raw/www.courts.wa.gov/forms/23697f73288d14073ea1be16dd5c0f42.pdf\n",
      "11041*, 11042*, error: ../data/raw/www.courts.wa.gov/forms/c17c25e5777473d9c7a6a19b45deb6d9.pdf\n",
      "11043*, 11044*, error: ../data/raw/www.courts.wa.gov/forms/2da42a0546549e1075a70fcaa3a257e8.pdf\n",
      "11045*, 11046*, error: ../data/raw/www.courts.wa.gov/forms/fe6365acbf395f126f4c6580db3a7d6f.pdf\n",
      "11047*, 11048*, error: ../data/raw/www.courts.wa.gov/forms/f86dbc9c6f5633b8795edca1161c0fc1.pdf\n",
      "11049*, 11050*, error: ../data/raw/www.courts.wa.gov/forms/c9d61c0f62d5880b367139026164e008.pdf\n",
      "11051*, 11052*, error: ../data/raw/www.courts.wa.gov/forms/7ca2e0b7a2050a6e1aefeaa79aee337e.pdf\n",
      "11053*, 11054*, error: ../data/raw/www.courts.wa.gov/forms/250892dd45ed35aa355c2cc0b42d83a5.pdf\n",
      "11055*, 11056*, error: ../data/raw/www.courts.wa.gov/forms/dbca210ff25fbb7cad3b9eb913b0f33c.pdf\n",
      "11057*, 11058*, error: ../data/raw/www.courts.wa.gov/forms/b90f31d17cde62a26545ed15d377f652.pdf\n"
     ]
    },
    {
     "name": "stdout",
     "output_type": "stream",
     "text": [
      "11059*, 11060*, 11061*, 11062*, 11063*, 11064*, 11065*, 11066*, 11067*, error: ../data/raw/www.courts.wa.gov/forms/4543bd28ff311d52efc88c09e5e1f103.pdf\n",
      "11068*, 11069*, error: ../data/raw/www.courts.wa.gov/forms/1fb44004cef4536226bf516b4dc89198.pdf\n",
      "11070*, 11071*, 11072*, 11073*, 11074*, 11075*, error: ../data/raw/www.courts.wa.gov/forms/3c021177ec5033141d605c1da509aaee.pdf\n",
      "11076*, 11077*, 11078*, 11079*, 11080*, 11081*, 11082*, 11083*, 11084*, 11085*, 11086*, 11087*, 11088*, error: ../data/raw/www.courts.wa.gov/forms/53a6a505adb906817821eda58d786a7d.pdf\n",
      "11089*, 11090*, 11091*, 11092*, 11093*, 11094*, error: ../data/raw/www.courts.wa.gov/forms/ea1cc5874b7d9a0cc54ec7150218a494.pdf\n",
      "11095*, 11096*, error: ../data/raw/www.courts.wa.gov/forms/09cc3fda9cd66fc12f9da2080ccbe740.pdf\n",
      "11097*, 11098*, error: ../data/raw/www.courts.wa.gov/forms/144fa35c5b30614d8d07211d9e554426.pdf\n",
      "11099*, 11100*, error: ../data/raw/www.courts.wa.gov/forms/343e2110b6cb75141dd1e2e4e0510fb9.pdf\n",
      "11101*, 11102*, error: ../data/raw/www.courts.wa.gov/forms/08197db0c05e90403002c183083bb4ae.pdf\n",
      "11103*, 11104*, error: ../data/raw/www.courts.wa.gov/forms/ee1da3787d1d7560db9167e5300c20dc.pdf\n",
      "11105*, 11106*, error: ../data/raw/www.courts.wa.gov/forms/93f9ccd3e954bee26ebc09d46fa5fd28.pdf\n",
      "11107*, 11108*, error: ../data/raw/www.courts.wa.gov/forms/ec6143e63ad40de47ff12a8c108f634b.pdf\n",
      "11109*, 11110*, error: ../data/raw/www.courts.wa.gov/forms/a9125a5bbe3129df5719b75c2de19542.pdf\n",
      "11111*, 11112*, error: ../data/raw/www.courts.wa.gov/forms/112c6e969455989ce6b0fb5dfb85469a.pdf\n",
      "11113*, 11114*, error: ../data/raw/www.courts.wa.gov/forms/1d3725431c9b0dc3837f557862f6ad70.pdf\n",
      "11115*, 11116*, 11117*, 11118*, 11119*, 11120*, 11121*, "
     ]
    },
    {
     "name": "stderr",
     "output_type": "stream",
     "text": [
      "PdfReadWarning: Xref table not zero-indexed. ID numbers for objects will be corrected. [pdf.py:1736]\n"
     ]
    },
    {
     "name": "stdout",
     "output_type": "stream",
     "text": [
      "11122*, error: ../data/raw/www.courts.wa.gov/forms/845e48a4cbb94203e2d8350b217e0566.pdf\n",
      "11123*, 11124*, error: ../data/raw/www.courts.wa.gov/forms/2c30ea886110c0ec718ca46050bcb95d.pdf\n",
      "11125*, 11126*, 11127*, 11128*, 11129*, 11130*, error: ../data/raw/www.courts.wa.gov/forms/0a819acb7c4d95dbea43387bb58ee58d.pdf\n",
      "11131*, 11132*, 11133*, error: ../data/raw/www.courts.wa.gov/forms/0cbc3d5b669bbc752bec7fcbe8d8dc39.pdf\n",
      "11134*, 11135*, 11136*, error: ../data/raw/www.courts.wa.gov/forms/695afc8c08b475a858f9e76adbafb1a7.pdf\n",
      "11137*, 11138*, error: ../data/raw/www.courts.wa.gov/forms/f0376af249552ac2b2cc5e194f2875a9.pdf\n",
      "11139*, 11140*, "
     ]
    },
    {
     "name": "stderr",
     "output_type": "stream",
     "text": [
      "PdfReadWarning: Xref table not zero-indexed. ID numbers for objects will be corrected. [pdf.py:1736]\n"
     ]
    },
    {
     "name": "stdout",
     "output_type": "stream",
     "text": [
      "11141*, "
     ]
    },
    {
     "name": "stderr",
     "output_type": "stream",
     "text": [
      "PdfReadWarning: Xref table not zero-indexed. ID numbers for objects will be corrected. [pdf.py:1736]\n"
     ]
    },
    {
     "name": "stdout",
     "output_type": "stream",
     "text": [
      "11142*, "
     ]
    },
    {
     "name": "stderr",
     "output_type": "stream",
     "text": [
      "PdfReadWarning: Xref table not zero-indexed. ID numbers for objects will be corrected. [pdf.py:1736]\n"
     ]
    },
    {
     "name": "stdout",
     "output_type": "stream",
     "text": [
      "11143*, "
     ]
    },
    {
     "name": "stderr",
     "output_type": "stream",
     "text": [
      "PdfReadWarning: Xref table not zero-indexed. ID numbers for objects will be corrected. [pdf.py:1736]\n"
     ]
    },
    {
     "name": "stdout",
     "output_type": "stream",
     "text": [
      "11144*, 11145*, 11146*, 11147*, 11148*, 11149*, "
     ]
    },
    {
     "name": "stderr",
     "output_type": "stream",
     "text": [
      "PdfReadWarning: Xref table not zero-indexed. ID numbers for objects will be corrected. [pdf.py:1736]\n"
     ]
    },
    {
     "name": "stdout",
     "output_type": "stream",
     "text": [
      "11150*, "
     ]
    },
    {
     "name": "stderr",
     "output_type": "stream",
     "text": [
      "PdfReadWarning: Xref table not zero-indexed. ID numbers for objects will be corrected. [pdf.py:1736]\n"
     ]
    },
    {
     "name": "stdout",
     "output_type": "stream",
     "text": [
      "11151*, "
     ]
    },
    {
     "name": "stderr",
     "output_type": "stream",
     "text": [
      "PdfReadWarning: Xref table not zero-indexed. ID numbers for objects will be corrected. [pdf.py:1736]\n"
     ]
    },
    {
     "name": "stdout",
     "output_type": "stream",
     "text": [
      "11152*, "
     ]
    },
    {
     "name": "stderr",
     "output_type": "stream",
     "text": [
      "PdfReadWarning: Xref table not zero-indexed. ID numbers for objects will be corrected. [pdf.py:1736]\n"
     ]
    },
    {
     "name": "stdout",
     "output_type": "stream",
     "text": [
      "11153*, error: ../data/raw/www.courts.wa.gov/forms/c5c523fb69ebffcf8acabd136893f529.pdf\n",
      "11154*, 11155*, error: ../data/raw/www.courts.wa.gov/forms/45ed1dde23672114c12009b0adbf1902.pdf\n",
      "11156*, 11157*, 11158*, 11159*, error: ../data/raw/www.courts.wa.gov/forms/3b3cfda2e7620ccb431c21d7b8659a9b.pdf\n",
      "11160*, 11161*, error: ../data/raw/www.courts.wa.gov/forms/5c960d0d2c241982c35c8c4541689a84.pdf\n",
      "11162*, 11163*, 11164*, 11165*, error: ../data/raw/www.courts.wa.gov/forms/f00ed1ffbce7bdcc316366a06be2c54d.pdf\n",
      "11166*, 11167*, error: ../data/raw/www.courts.wa.gov/forms/22796238f65fa39cc65a2972558a0073.pdf\n",
      "11168*, 11169*, error: ../data/raw/www.courts.wa.gov/forms/997c6e35943e6b458bf44573def980e3.pdf\n",
      "11170*, 11171*, error: ../data/raw/www.courts.wa.gov/forms/1e94c792cfd2c013f578fd6de036fda7.pdf\n",
      "11172*, 11173*, error: ../data/raw/www.courts.wa.gov/forms/fe261388323726273eb770f8018f289e.pdf\n",
      "11174*, 11175*, error: ../data/raw/www.courts.wa.gov/forms/8fc3d2edb2dfcb6f16448aa667ce7502.pdf\n",
      "11176*, 11177*, error: ../data/raw/www.courts.wa.gov/forms/7f44a67469661ca50e0e703b802af14c.pdf\n",
      "11178*, 11179*, error: ../data/raw/www.courts.wa.gov/forms/7ac82caf64da963f7a8b8a18a4e39e96.pdf\n",
      "11180*, 11181*, error: ../data/raw/www.courts.wa.gov/forms/f99ea9463884adf3d36e92bd56d3fb41.pdf\n",
      "11182*, 11183*, error: ../data/raw/www.courts.wa.gov/forms/65604b4555467c6ab59bab33bfe34ba3.pdf\n",
      "11184*, 11185*, error: ../data/raw/www.courts.wa.gov/forms/a35f3b0dce119335341fbb75f1690e87.pdf\n",
      "11186*, 11187*, error: ../data/raw/www.courts.wa.gov/forms/382efaaf1525c7523a8bf53387afcf2f.pdf\n",
      "11188*, 11189*, error: ../data/raw/www.courts.wa.gov/forms/bb2e56c4f46d74e9b5340867b028fe23.pdf\n",
      "11190*, 11191*, error: ../data/raw/www.courts.wa.gov/forms/e37cfec5431b33cdd9367e5cc9a287a8.pdf\n",
      "11192*, 11193*, error: ../data/raw/www.courts.wa.gov/forms/6f100ee77248b15c6f123d7d9477d968.pdf\n",
      "11194*, 11195*, error: ../data/raw/www.courts.wa.gov/forms/7ce3bc57b2b9360257553534588ed7ad.pdf\n",
      "11196*, 11197*, error: ../data/raw/www.courts.wa.gov/forms/747894ff86f82fd5ae6187270254b7a5.pdf\n",
      "11198*, 11199*, error: ../data/raw/www.courts.wa.gov/forms/80ea7e199cbfdd8403127c76320e12d1.pdf\n",
      "11200*, 11201*, error: ../data/raw/www.courts.wa.gov/forms/de62dccf95fc88e0b384c06d5f62f4fe.pdf\n",
      "11202*, 11203*, error: ../data/raw/www.courts.wa.gov/forms/4147c70a38099b03c0dd2ed182491d1e.pdf\n",
      "11204*, 11205*, error: ../data/raw/www.courts.wa.gov/forms/2260f271d76bab95a9d05405f5e75f11.pdf\n",
      "11206*, 11207*, error: ../data/raw/www.courts.wa.gov/forms/4a2f26007e18689d1ca0f71927f1b791.pdf\n",
      "11208*, 11209*, error: ../data/raw/www.courts.wa.gov/forms/c2ae786c2e9b03717a5ace88fce6c9f7.pdf\n",
      "11210*, 11211*, error: ../data/raw/www.courts.wa.gov/forms/7600ace3bac69cb7af3b6b5acac9662d.pdf\n",
      "11212*, 11213*, error: ../data/raw/www.courts.wa.gov/forms/a7bfee7aa1c5accebd6f10b7e731a9ed.pdf\n",
      "11214*, 11215*, error: ../data/raw/www.courts.wa.gov/forms/f8d2367e85a0141e50e5287fa74cde64.pdf\n",
      "11216*, 11217*, error: ../data/raw/www.courts.wa.gov/forms/d5493a169a2f42111513c5378ab91bf2.pdf\n",
      "11218*, 11219*, error: ../data/raw/www.courts.wa.gov/forms/6befa05669beb000d860436320d22158.pdf\n",
      "11220*, 11221*, error: ../data/raw/www.courts.wa.gov/forms/9296bb8d4c2a77d761b735244f947c72.pdf\n",
      "11222*, 11223*, error: ../data/raw/www.courts.wa.gov/forms/f5d6ce91536502fb4bee27c279f2397d.pdf\n",
      "11224*, 11225*, error: ../data/raw/www.courts.wa.gov/forms/3d1409ca3eddec90dbf4703a04a6aa7c.pdf\n",
      "11226*, 11227*, error: ../data/raw/www.courts.wa.gov/forms/3d68ed96b58db66df76799b2cd78ad11.pdf\n",
      "11228*, 11229*, error: ../data/raw/www.courts.wa.gov/forms/f11f3d13d0d3fba2ceb8b1cad1d6fa02.pdf\n",
      "11230*, 11231*, error: ../data/raw/www.courts.wa.gov/forms/707e5e1673d5804ea58be6f8be2e73c9.pdf\n",
      "11232*, 11233*, error: ../data/raw/www.courts.wa.gov/forms/8add48d1ad82f21d03d1447b4124d839.pdf\n",
      "11234*, 11235*, error: ../data/raw/www.courts.wa.gov/forms/304b27d0dcb9b000e277db27e4054d06.pdf\n",
      "11236*, 11237*, error: ../data/raw/www.courts.wa.gov/forms/88e3efb6fd8b3ebc7463955981a4a75e.pdf\n",
      "11238*, 11239*, error: ../data/raw/www.courts.wa.gov/forms/ffb2065c5370ffbadd9e872bd1c98c0f.pdf\n",
      "11240*, 11241*, error: ../data/raw/www.courts.wa.gov/forms/ab3a9cffcec11d0a73d6e5166acf1304.pdf\n",
      "11242*, 11243*, error: ../data/raw/www.courts.wa.gov/forms/862d018e00f7fa0244e6f84c08703cf7.pdf\n",
      "11244*, 11245*, error: ../data/raw/www.courts.wa.gov/forms/cdcd3dbb6456f0e751d5c289b72111be.pdf\n",
      "11246*, 11247*, error: ../data/raw/www.courts.wa.gov/forms/87e42df8b6cd52c61fcafa1e30a04e30.pdf\n",
      "11248*, 11249*, error: ../data/raw/www.courts.wa.gov/forms/5e14d38d33d25d5f696b52ed60a6ccac.pdf\n",
      "11250*, 11251*, error: ../data/raw/www.courts.wa.gov/forms/e7c9fed89d5c64759d597063a74c0538.pdf\n",
      "11252*, 11253*, 11254*, error: ../data/raw/www.courts.wa.gov/forms/025e11076203cc9cc4795ddf0218bbb6.pdf\n",
      "11255*, 11256*, 11257*, error: ../data/raw/www.courts.wa.gov/forms/79073bac71bddd5dc581df8c17f0acc1.pdf\n",
      "11258*, 11259*, error: ../data/raw/www.courts.wa.gov/forms/a42634bb6d7e7123a4017dc69cb6b3a9.pdf\n",
      "11260*, 11261*, 11262*, error: ../data/raw/www.courts.wa.gov/forms/a5292e822267cecbe72e0071494bd15f.pdf\n",
      "11263*, 11264*, error: ../data/raw/www.courts.wa.gov/forms/4bc4c3203e24374ef5e708c54b86ea05.pdf\n",
      "11265*, 11266*, 11267*, 11268*, 11269*, 11270*, 11271*, 11272*, 11273*, 11274*, 11275*, 11276*, 11277*, 11278*, 11279*, error: ../data/raw/www.courts.wa.gov/forms/4111d0736cff0de2115e4c5cfe22116c.pdf\n",
      "11280*, 11281*, 11282*, 11283*, error: ../data/raw/www.courts.wa.gov/forms/dbec4264ec7b663d4b8288bb0a4dae0a.pdf\n",
      "11284*, 11285*, error: ../data/raw/www.courts.wa.gov/forms/023a4dcdc819c268d51a91b9e95ffb71.pdf\n",
      "11286*, error: ../data/raw/www.courts.wa.gov/forms/33dd0520bdcc4b2e3bee4a161512059b.pdf\n",
      "11287*, 11288*, 11289*, 11290*, error: ../data/raw/www.courts.wa.gov/forms/035efa32d508bfc3b7ae251e209e4b64.pdf\n",
      "11291*, 11292*, 11293*, 11294*, 11295*, 11296*, error: ../data/raw/www.courts.wa.gov/forms/776bd44583383ccdc2e346c6a31f6185.pdf\n",
      "11297*, error: ../data/raw/www.courts.wa.gov/forms/121ebf6fb2b29c3fa0a616862ade3ff9.pdf\n",
      "11298*, 11299*, error: ../data/raw/www.courts.wa.gov/forms/cf6bbdd9199151e6c496680be1092470.pdf\n",
      "11300*, 11301*, 11302*, error: ../data/raw/www.courts.wa.gov/forms/b1d1127546869c95f7ce2622779866a4.pdf\n",
      "11303*, 11304*, 11305*, 11306*, 11307*, 11308*, 11309*, 11310*, error: ../data/raw/www.courts.wa.gov/forms/07f1456f828acc35577867c7bfd153d6.pdf\n",
      "11311*, 11312*, error: ../data/raw/www.courts.wa.gov/forms/a6ef9a94d23560f29b866372e8ecc70c.pdf\n",
      "11313*, 11314*, 11315*, 11316*, error: ../data/raw/www.courts.wa.gov/forms/9d2651358ff96e4df8449a74598c5e28.pdf\n",
      "11317*, 11318*, error: ../data/raw/www.courts.wa.gov/forms/6362da206229949772c7ad5645681b5e.pdf\n",
      "11319*, 11320*, error: ../data/raw/www.courts.wa.gov/forms/b659508de4dd1033bb48e02b98e2882f.pdf\n",
      "11321*, 11322*, error: ../data/raw/www.courts.wa.gov/forms/970514e51d763316480518e7e1d56561.pdf\n",
      "11323*, 11324*, 11325*, error: ../data/raw/www.courts.wa.gov/forms/2f25e5454f3a552938b228a285e285fd.pdf\n",
      "11326*, 11327*, error: ../data/raw/www.courts.wa.gov/forms/b64b3969ce083d5343af4fcd1d2e81cf.pdf\n",
      "11328*, 11329*, error: ../data/raw/www.courts.wa.gov/forms/fd54d8fad0a8abb632e6c8ca933fa1de.pdf\n",
      "11330*, 11331*, error: ../data/raw/www.courts.wa.gov/forms/3a1985e8825894a5011d73e2abf4dc7b.pdf\n",
      "11332*, 11333*, 11334*, 11335*, 11336*, error: ../data/raw/www.courts.wa.gov/forms/83688f69ad37c8d48306e3b1be9ead7b.pdf\n",
      "11337*, error: ../data/raw/www.courts.wa.gov/forms/8ac5ce548f3e5d2bae8126eaf5feee45.pdf\n",
      "11338*, error: ../data/raw/www.courts.wa.gov/forms/5108ccec3f82dafbf8823da9bdb7d043.pdf\n",
      "11339*, error: ../data/raw/www.courts.wa.gov/forms/473a3e47fb266f697fdf959e7ef9c695.pdf\n",
      "11340*, error: ../data/raw/www.courts.wa.gov/forms/a38ca84f14465501e7e602e0a9c72f04.pdf\n",
      "11341*, error: ../data/raw/www.courts.wa.gov/forms/e56d5319e67dcba32f483dc5342b6d3c.pdf\n",
      "11342*, error: ../data/raw/www.courts.wa.gov/forms/15890429f85c1370744df6e5938f9f2a.pdf\n",
      "11343*, 11344*, error: ../data/raw/www.courts.wa.gov/forms/671c3500abb48cde899aa21d846f81a9.pdf\n",
      "11345*, 11346*, error: ../data/raw/www.courts.wa.gov/forms/db30d2e51ca2c22483298c2c3b4408b8.pdf\n",
      "11347*, 11348*, error: ../data/raw/www.courts.wa.gov/forms/fd1cf3b0842669b895cfbb3738822ece.pdf\n",
      "11349*, 11350*, 11351*, error: ../data/raw/www.courts.wa.gov/forms/790e3c02efd0e4c51b3189b2a336f97c.pdf\n"
     ]
    },
    {
     "name": "stdout",
     "output_type": "stream",
     "text": [
      "11352*, 11353*, 11354*, 11355*, error: ../data/raw/www.courts.wa.gov/forms/e4d36bf1c05b61b4a74d65a35b90e0b7.pdf\n",
      "11356*, 11357*, error: ../data/raw/www.courts.wa.gov/forms/b5292cc33a71d2551dd75ece141714a7.pdf\n",
      "11358*, 11359*, 11360*, error: ../data/raw/www.courts.wa.gov/forms/3b3cfda2e7620ccb431c21d7b8659a9b.pdf\n",
      "11361*, 11362*, error: ../data/raw/www.courts.wa.gov/forms/5c960d0d2c241982c35c8c4541689a84.pdf\n",
      "11363*, 11364*, 11365*, 11366*, error: ../data/raw/www.courts.wa.gov/forms/997c6e35943e6b458bf44573def980e3.pdf\n",
      "11367*, 11368*, 11369*, 11370*, 11371*, 11372*, 11373*, 11374*, 11375*, 11376*, 11377*, error: ../data/raw/www.courts.wa.gov/forms/76a7e2a2e35cbb4505fa1503a76734fd.pdf\n",
      "11378*, 11379*, error: ../data/raw/www.courts.wa.gov/forms/45c3cb567068508e92cef844b283d2e7.pdf\n",
      "11380*, 11381*, error: ../data/raw/www.courts.wa.gov/forms/49fd10c6b41977a9a3b473396483a23c.pdf\n",
      "11382*, 11383*, 11384*, error: ../data/raw/www.courts.wa.gov/forms/01086766c8db0dfb52735080a9efb0fe.pdf\n",
      "11385*, 11386*, 11387*, 11388*, 11389*, 11390*, 11391*, 11392*, error: ../data/raw/www.courts.wa.gov/forms/1e94c792cfd2c013f578fd6de036fda7.pdf\n",
      "11393*, 11394*, error: ../data/raw/www.courts.wa.gov/forms/fe261388323726273eb770f8018f289e.pdf\n",
      "11395*, 11396*, error: ../data/raw/www.courts.wa.gov/forms/8fc3d2edb2dfcb6f16448aa667ce7502.pdf\n",
      "11397*, 11398*, error: ../data/raw/www.courts.wa.gov/forms/7f44a67469661ca50e0e703b802af14c.pdf\n",
      "11399*, 11400*, error: ../data/raw/www.courts.wa.gov/forms/7ac82caf64da963f7a8b8a18a4e39e96.pdf\n",
      "11401*, 11402*, error: ../data/raw/www.courts.wa.gov/forms/f99ea9463884adf3d36e92bd56d3fb41.pdf\n",
      "11403*, 11404*, error: ../data/raw/www.courts.wa.gov/forms/65604b4555467c6ab59bab33bfe34ba3.pdf\n",
      "11405*, 11406*, error: ../data/raw/www.courts.wa.gov/forms/a35f3b0dce119335341fbb75f1690e87.pdf\n",
      "11407*, 11408*, error: ../data/raw/www.courts.wa.gov/forms/382efaaf1525c7523a8bf53387afcf2f.pdf\n",
      "11409*, 11410*, error: ../data/raw/www.courts.wa.gov/forms/bb2e56c4f46d74e9b5340867b028fe23.pdf\n",
      "11411*, 11412*, 11413*, 11414*, error: ../data/raw/www.courts.wa.gov/forms/3aca92470aa5e5360eabc87a43ceff5e.pdf\n",
      "11415*, 11416*, error: ../data/raw/www.courts.wa.gov/forms/202ac287f8d591f9458df4f36398a619.pdf\n",
      "11417*, 11418*, 11419*, error: ../data/raw/www.courts.wa.gov/forms/afee4d220ec4683b3fc4f1093003aec3.pdf\n",
      "11420*, 11421*, 11422*, 11423*, 11424*, 11425*, error: ../data/raw/www.courts.wa.gov/forms/b8f2dfb522a3229e2641bfd80c6c1bc0.pdf\n",
      "11426*, 11427*, 11428*, error: ../data/raw/www.courts.wa.gov/forms/048209e80229f2dbd7bc2af6670523a0.pdf\n",
      "11429*, 11430*, error: ../data/raw/www.courts.wa.gov/forms/05985fcf183b1e01893dfd7df31434a4.pdf\n",
      "11431*, 11432*, 11433*, 11434*, error: ../data/raw/www.courts.wa.gov/forms/20d1dac220240670647f45152d7cd3c4.pdf\n",
      "11435*, 11436*, 11437*, 11438*, 11439*, 11440*, error: ../data/raw/www.courts.wa.gov/forms/12fa0d4faaf64fd11cb9a30b057d7c2f.pdf\n",
      "11441*, 11442*, error: ../data/raw/www.courts.wa.gov/forms/3045cd080fe36c946f550f8f14c61a6b.pdf\n",
      "11443*, 11444*, 11445*, 11446*, 11447*, error: ../data/raw/www.courts.wa.gov/forms/9e7922952e346501c9564b9e0d18b357.pdf\n",
      "11448*, 11449*, 11450*, error: ../data/raw/www.courts.wa.gov/forms/548a57db1a88d7ae3760140cb064b0c8.pdf\n",
      "11451*, 11452*, error: ../data/raw/www.courts.wa.gov/forms/64daa3f8feb1f556654c81778b9a8dce.pdf\n",
      "11453*, 11454*, 11455*, 11456*, 11457*, error: ../data/raw/www.courts.wa.gov/forms/2b0eb959134ff8b480591b7d2763e718.pdf\n",
      "11458*, 11459*, 11460*, 11461*, 11462*, 11463*, 11464*, 11465*, 11466*, 11467*, 11468*, 11469*, 11470*, 11471*, error: ../data/raw/www.courts.wa.gov/forms/2b3097d7316fc4a3956762d6c6425456.pdf\n",
      "11472*, 11473*, error: ../data/raw/www.courts.wa.gov/forms/cebc78e8f0d5b988bb95a792b232a565.pdf\n",
      "11474*, 11475*, error: ../data/raw/www.courts.wa.gov/forms/a127e1ba3003c60d8e14c47e90550a0e.pdf\n",
      "11476*, 11477*, 11478*, 11479*, error: ../data/raw/www.courts.wa.gov/forms/3045cd080fe36c946f550f8f14c61a6b.pdf\n",
      "11480*, 11481*, 11482*, error: ../data/raw/www.courts.wa.gov/forms/f7c98de24253776f5e39f2f8a559c94d.pdf\n",
      "11483*, 11484*, error: ../data/raw/www.courts.wa.gov/forms/9e7922952e346501c9564b9e0d18b357.pdf\n",
      "11485*, error: ../data/raw/www.courts.wa.gov/forms/548a57db1a88d7ae3760140cb064b0c8.pdf\n",
      "11486*, 11487*, error: ../data/raw/www.courts.wa.gov/forms/64daa3f8feb1f556654c81778b9a8dce.pdf\n",
      "11488*, 11489*, 11490*, 11491*, 11492*, 11493*, error: ../data/raw/www.courts.wa.gov/forms/2b0eb959134ff8b480591b7d2763e718.pdf\n",
      "11494*, 11495*, 11496*, 11497*, 11498*, 11499*, 11500*, 11501*, 11502*, 11503*, 11504*, error: ../data/raw/www.courts.wa.gov/forms/2b3097d7316fc4a3956762d6c6425456.pdf\n",
      "11505*, 11506*, error: ../data/raw/www.courts.wa.gov/forms/a127e1ba3003c60d8e14c47e90550a0e.pdf\n",
      "11507*, 11508*, error: ../data/raw/www.courts.wa.gov/forms/cebc78e8f0d5b988bb95a792b232a565.pdf\n",
      "11509*, 11510*, 11511*, 11512*, 11513*, error: ../data/raw/www.courts.wa.gov/forms/2b0eb959134ff8b480591b7d2763e718.pdf\n",
      "11514*, 11515*, 11516*, 11517*, 11518*, 11519*, 11520*, 11521*, 11522*, 11523*, 11524*, 11525*, 11526*, 11527*, 11528*, 11529*, 11530*, error: ../data/raw/www.courts.wa.gov/forms/b8f2dfb522a3229e2641bfd80c6c1bc0.pdf\n",
      "11531*, 11532*, 11533*, error: ../data/raw/www.courts.wa.gov/forms/048209e80229f2dbd7bc2af6670523a0.pdf\n",
      "11534*, 11535*, error: ../data/raw/www.courts.wa.gov/forms/05985fcf183b1e01893dfd7df31434a4.pdf\n",
      "11536*, 11537*, 11538*, 11539*, error: ../data/raw/www.courts.wa.gov/forms/b1d1127546869c95f7ce2622779866a4.pdf\n",
      "11540*, 11541*, error: ../data/raw/www.courts.wa.gov/forms/f67b7e83862c38e0154e4c0f78b5d1c8.pdf\n",
      "11542*, 11543*, error: ../data/raw/www.courts.wa.gov/forms/b6316a14b7809cfa08a7a37de1b2fa4a.pdf\n",
      "11544*, 11545*, 11546*, error: ../data/raw/www.courts.wa.gov/forms/753bc5f72d5cc13e397fc1d25e1a41a2.pdf\n",
      "11547*, 11548*, error: ../data/raw/www.courts.wa.gov/forms/59150e9f349ce7ea43e80261a4586bf4.pdf\n",
      "11549*, 11550*, error: ../data/raw/www.courts.wa.gov/forms/a30700a5d37b70add9141ea85af275f4.pdf\n",
      "11551*, 11552*, 11553*, 11554*, error: ../data/raw/www.courts.wa.gov/forms/2c9a6de649d476be831fa6442c6beddd.pdf\n",
      "11555*, 11556*, 11557*, 11558*, error: ../data/raw/www.courts.wa.gov/forms/064feb70f0b0d19453e9435cdae8ece1.pdf\n",
      "11559*, 11560*, error: ../data/raw/www.courts.wa.gov/forms/78e95aff075c96356525c30373825cad.pdf\n",
      "11561*, 11562*, error: ../data/raw/www.courts.wa.gov/forms/12fa0d4faaf64fd11cb9a30b057d7c2f.pdf\n",
      "11563*, 11564*, error: ../data/raw/www.courts.wa.gov/forms/3045cd080fe36c946f550f8f14c61a6b.pdf\n",
      "11565*, 11566*, 11567*, 11568*, error: ../data/raw/www.courts.wa.gov/forms/9e7922952e346501c9564b9e0d18b357.pdf\n",
      "11569*, 11570*, error: ../data/raw/www.courts.wa.gov/forms/548a57db1a88d7ae3760140cb064b0c8.pdf\n",
      "11571*, 11572*, error: ../data/raw/www.courts.wa.gov/forms/64daa3f8feb1f556654c81778b9a8dce.pdf\n",
      "11573*, 11574*, 11575*, error: ../data/raw/www.courts.wa.gov/forms/bc00b5549f4b85056f888496ab65b5cf.pdf\n",
      "11576*, 11577*, error: ../data/raw/www.courts.wa.gov/forms/31f5f8b8cf019a9e337244846e6bee65.pdf\n",
      "11578*, 11579*, error: ../data/raw/www.courts.wa.gov/forms/c9678cb1b5a309c65a7cabc73d7a9c20.pdf\n",
      "11580*, 11581*, 11582*, error: ../data/raw/www.courts.wa.gov/forms/a127e1ba3003c60d8e14c47e90550a0e.pdf\n",
      "11583*, 11584*, error: ../data/raw/www.courts.wa.gov/forms/cebc78e8f0d5b988bb95a792b232a565.pdf\n",
      "11585*, 11586*, error: ../data/raw/www.courts.wa.gov/forms/2b3097d7316fc4a3956762d6c6425456.pdf\n",
      "11587*, 11588*, error: ../data/raw/www.courts.wa.gov/forms/ec87742a172cf0a0ea07ff656f53d31f.pdf\n",
      "11589*, 11590*, error: ../data/raw/www.courts.wa.gov/forms/42677a05b6eba9a1a4d5be93b6037e6a.pdf\n"
     ]
    },
    {
     "name": "stdout",
     "output_type": "stream",
     "text": [
      "11591*, 11592, 11593, 11594, 11595, 11596, 11597, 11598, 11599, 11600, 11601, 11602, 11603, 11604, 11605, 11606, 11607, 11608, 11609, 11610, 11611, 11612, 11613, 11614, 11615, 11616, 11617, 11618, 11619, 11620, 11621, 11622, 11623, 11624, 11625, 11626, 11627, 11628, 11629, 11630, 11631, 11632, 11633, 11634, 11635, 11636, 11637, 11638, 11639, 11640, 11641, 11642, 11643, 11644, 11645, 11646, 11647, 11648, 11649, 11650, 11651, 11652, 11653, 11654, 11655, 11656, 11657, 11658, 11659, 11660, 11661, 11662, 11663, 11664, 11665, 11666, 11667, 11668, 11669, 11670, 11671, 11672, 11673, 11674, 11675, 11676, 11677, 11678, 11679, 11680, 11681, 11682, 11683, 11684, 11685, 11686, 11687, 11688, 11689, 11690, 11691, 11692, 11693, 11694, 11695, 11696, 11697, 11698, 11699, 11700, 11701, 11702, 11703, 11704, 11705, 11706, 11707, 11708, 11709, 11710, 11711, 11712, 11713, 11714, 11715, 11716, 11717, 11718, 11719, 11720, 11721, 11722, 11723, 11724, 11725, 11726, 11727, 11728, 11729, 11730, 11731, 11732, 11733, 11734, 11735, 11736, 11737, 11738, 11739, 11740, 11741, 11742, 11743, 11744, 11745, 11746, 11747, 11748, 11749, 11750, 11751, 11752, 11753, 11754, 11755, 11756, 11757, 11758, 11759, 11760, 11761, 11762, 11763, 11764, 11765, 11766, 11767, 11768, 11769, 11770, 11771, 11772, 11773, 11774, 11775, 11776, 11777, 11778, 11779, 11780, 11781, 11782, 11783, 11784, 11785, 11786, 11787, 11788, 11789, 11790, 11791, 11792, 11793, 11794, 11795, 11796, 11797, 11798, 11799, 11800, 11801, 11802, 11803, 11804, 11805, 11806, 11807, 11808, 11809, 11810, 11811, 11812, 11813, 11814, 11815, 11816, 11817, 11818, 11819, 11820, 11821, 11822, 11823, 11824, 11825, 11826, 11827, 11828, 11829, 11830, 11831, 11832, 11833, 11834, 11835, 11836, 11837, 11838, 11839, 11840, 11841, 11842, 11843, 11844, 11845, 11846, 11847, 11848, 11849, 11850, 11851, 11852, 11853, 11854, 11855, 11856, 11857, 11858, 11859, 11860, 11861, 11862, 11863, 11864, 11865, 11866, 11867, 11868, 11869, 11870, 11871, 11872, 11873, 11874, 11875, 11876, 11877, 11878, 11879, 11880, 11881, 11882, 11883, 11884, 11885, 11886, 11887, 11888, 11889, 11890, 11891, 11892, 11893, 11894, 11895, 11896, 11897, 11898, 11899, 11900, 11901, 11902, 11903, 11904, 11905, 11906, 11907, 11908, 11909, 11910, 11911, 11912, 11913, 11914, 11915, 11916, 11917, 11918, 11919, 11920, 11921, 11922, 11923, 11924, 11925, 11926, 11927, 11928, 11929, 11930, 11931, 11932, 11933, 11934, 11935, 11936, 11937, 11938, 11939, 11940, 11941, 11942, 11943, 11944, 11945, 11946, 11947, 11948, 11949, 11950, 11951, 11952, 11953, 11954, 11955, 11956, 11957, 11958, 11959, 11960, 11961, 11962, 11963, 11964, 11965, 11966, 11967, 11968, 11969, 11970, 11971, 11972, 11973, 11974, 11975, 11976, 11977, 11978, 11979, 11980, 11981, 11982, 11983, 11984, 11985, 11986, 11987, 11988, 11989, 11990, 11991, 11992, 11993, 11994, 11995, 11996, 11997, 11998, 11999, 12000, 12001, 12002, 12003, 12004, 12005, 12006, 12007, 12008, 12009, 12010, 12011, 12012, 12013, 12014, 12015, 12016, 12017, 12018, 12019, 12020, 12021, 12022, 12023, 12024, 12025, 12026, 12027, 12028, 12029, 12030, 12031, 12032, 12033, 12034, 12035, 12036, 12037, 12038, 12039, 12040, 12041, 12042, 12043, 12044, 12045, 12046, 12047, 12048, 12049, 12050, 12051, 12052, 12053, 12054, 12055, 12056, 12057, 12058, 12059, 12060, 12061, 12062, 12063, 12064, 12065, 12066, 12067, 12068, 12069, 12070, 12071, 12072, 12073, 12074, 12075, 12076, 12077, 12078, 12079, 12080, 12081, 12082, 12083, 12084, 12085, 12086, 12087, 12088, 12089, 12090, 12091, 12092, 12093, 12094, 12095, 12096, 12097, 12098, 12099, 12100, 12101, 12102, 12103, 12104, 12105, 12106, 12107, 12108, 12109, 12110, 12111, 12112, 12113, 12114, 12115, 12116, 12117, 12118, 12119, 12120, 12121, 12122, 12123, 12124, 12125, 12126, 12127, 12128, 12129, 12130, 12131, 12132, 12133, 12134, 12135, 12136, 12137, 12138, 12139, 12140, 12141, 12142, 12143, 12144, 12145, 12146, 12147, 12148, 12149, 12150, 12151, 12152, 12153, 12154, 12155, 12156, 12157, 12158, 12159, 12160, 12161, 12162, 12163, 12164, 12165, 12166, 12167, 12168, 12169, 12170, 12171, 12172, 12173, 12174, 12175, 12176, 12177, 12178, 12179, 12180, 12181, 12182, 12183, 12184, 12185, 12186, 12187, 12188, 12189, 12190, 12191, 12192, 12193, 12194, 12195, 12196, 12197, 12198, 12199, 12200, 12201, 12202, 12203, 12204, 12205, 12206, 12207, 12208, 12209, 12210, 12211, 12212, 12213, 12214, 12215, 12216, 12217, 12218, 12219, 12220, 12221, 12222, 12223, 12224, 12225, 12226, 12227, 12228, 12229, 12230, 12231, 12232, 12233, 12234, 12235, 12236, 12237, 12238, 12239, 12240, 12241, 12242, 12243, 12244, 12245, 12246, 12247, 12248, 12249, 12250, 12251, 12252, 12253, 12254, 12255, 12256, 12257, 12258, 12259, 12260, 12261, 12262, 12263, 12264, 12265, 12266, 12267, 12268, 12269, 12270, 12271, 12272, 12273, 12274, 12275, 12276, 12277, 12278, 12279, 12280, 12281, 12282, 12283, 12284, 12285, 12286, 12287, 12288, 12289, 12290, 12291, 12292, 12293, 12294, 12295, 12296, 12297, 12298, 12299, 12300, 12301, 12302, 12303, 12304, 12305, 12306, 12307, 12308, 12309, 12310, 12311, 12312, 12313, 12314, 12315, 12316, 12317, 12318, 12319, 12320, 12321, 12322, 12323, 12324, 12325, 12326, 12327, 12328, 12329, 12330, 12331, 12332, 12333, 12334, 12335, 12336, 12337, 12338, 12339, 12340, 12341, 12342, 12343, 12344, 12345, 12346, 12347, 12348, 12349, 12350, 12351, 12352, 12353, 12354, 12355, 12356, 12357, 12358, 12359, 12360, 12361, 12362, 12363, 12364, 12365, 12366, 12367, 12368, 12369, 12370, 12371, 12372, 12373, 12374, 12375, 12376, 12377, 12378, 12379, 12380, 12381, 12382, 12383, 12384, 12385, 12386, 12387, 12388, 12389, 12390, 12391, 12392, 12393, 12394, 12395, 12396, 12397, 12398, 12399, 12400, 12401, 12402, 12403, 12404, 12405, 12406, 12407, 12408*, 12409*, 12410*, 12411*, 12412*, 12413*, 12414*, 12415*, 12416*, 12417*, 12418*, 12419*, 12420*, 12421*, 12422*, 12423*, 12424*, 12425*, 12426*, 12427*, 12428*, 12429*, 12430*, 12431*, 12432*, 12433*, 12434*, 12435*, 12436*, 12437*, 12438*, 12439*, 12440*, 12441*, 12442*, 12443*, 12444*, 12445*, 12446*, 12447*, 12448*, 12449*, 12450*, 12451*, 12452*, 12453*, 12454*, 12455*, 12456*, 12457*, 12458*, 12459*, 12460*, 12461*, 12462*, 12463*, 12464*, 12465*, 12466*, 12467*, 12468*, 12469*, 12470*, 12471*, 12472*, 12473*, 12474*, 12475*, 12476*, 12477*, 12478*, 12479*, 12480*, 12481*, 12482*, 12483*, 12484*, 12485*, 12486*, 12487*, 12488*, 12489*, 12490*, 12491*, 12492*, 12493*, 12494*, 12495*, 12496*, 12497*, 12498*, 12499*, 12500*, 12501*, 12502*, 12503*, 12504*, 12505*, 12506*, 12507*, 12508*, 12509*, 12510*, 12511*, 12512*, 12513*, 12514*, 12515*, 12516*, 12517*, 12518*, 12519*, 12520*, 12521*, 12522*, 12523*, 12524*, 12525*, 12526*, 12527*, 12528*, 12529*, 12530*, 12531*, 12532*, 12533*, 12534*, 12535*, 12536*, 12537*, 12538*, 12539*, 12540*, 12541*, 12542*, 12543*, 12544*, 12545*, 12546*, 12547*, 12548*, 12549*, 12550*, 12551*, 12552*, 12553*, 12554*, 12555*, 12556*, 12557*, 12558*, 12559*, 12560*, 12561*, 12562*, 12563*, 12564*, 12565*, 12566*, 12567*, 12568*, 12569*, 12570*, 12571*, 12572*, 12573*, 12574*, 12575*, 12576*, 12577*, 12578*, 12579*, 12580*, 12581*, 12582*, 12583*, 12584*, 12585*, 12586*, 12587*, 12588*, 12589*, 12590*, 12591*, 12592*, 12593*, 12594*, 12595*, 12596*, 12597*, 12598*, 12599*, 12600*, 12601*, 12602*, 12603*, 12604*, 12605*, 12606*, 12607*, 12608*, 12609*, 12610*, 12611*, 12612*, 12613*, 12614*, 12615*, 12616*, 12617*, 12618*, 12619*, 12620*, 12621*, 12622*, 12623*, 12624*, 12625*, 12626*, 12627*, 12628*, 12629*, 12630*, 12631*, 12632*, 12633*, 12634*, 12635*, 12636*, 12637*, 12638*, 12639*, 12640*, 12641*, 12642*, 12643*, 12644*, 12645*, 12646*, 12647*, 12648*, 12649*, 12650*, 12651*, 12652*, 12653*, 12654*, 12655*, 12656*, 12657*, 12658*, 12659*, 12660*, 12661*, 12662*, 12663*, 12664*, 12665*, 12666*, 12667*, 12668*, 12669*, 12670*, 12671*, 12672*, 12673*, 12674*, 12675*, 12676*, 12677*, 12678*, 12679*, 12680*, 12681*, 12682*, 12683*, 12684*, 12685*, 12686*, 12687*, 12688*, 12689*, 12690*, 12691*, 12692*, 12693*, 12694*, 12695*, 12696*, 12697*, 12698*, 12699*, 12700*, 12701*, 12702*, 12703*, 12704*, 12705*, 12706*, 12707*, 12708*, 12709*, 12710*, 12711*, 12712*, 12713*, 12714*, 12715*, 12716*, 12717*, "
     ]
    },
    {
     "name": "stdout",
     "output_type": "stream",
     "text": [
      "12718*, 12719*, 12720*, 12721*, 12722*, 12723*, 12724*, 12725*, 12726*, 12727*, 12728*, 12729*, 12730*, 12731*, 12732*, 12733*, 12734*, 12735*, 12736*, 12737*, 12738*, 12739*, 12740*, 12741*, 12742*, 12743*, 12744*, 12745*, 12746*, 12747*, 12748*, 12749*, 12750*, 12751*, 12752*, 12753*, 12754*, 12755*, 12756*, 12757*, 12758*, 12759*, 12760*, 12761*, 12762*, 12763*, 12764*, 12765*, 12766*, 12767*, 12768*, 12769*, 12770*, 12771*, 12772*, 12773*, 12774*, 12775*, 12776*, 12777*, 12778*, 12779*, 12780*, 12781*, 12782*, 12783*, 12784*, 12785*, 12786*, 12787*, 12788*, 12789*, 12790*, 12791*, 12792*, 12793*, 12794*, 12795*, 12796*, 12797*, 12798*, 12799*, 12800*, 12801*, 12802*, 12803*, 12804*, 12805*, 12806*, 12807*, 12808*, 12809*, 12810*, 12811*, 12812*, 12813*, 12814*, 12815*, "
     ]
    },
    {
     "data": {
      "text/html": [
       "<div>\n",
       "<style scoped>\n",
       "    .dataframe tbody tr th:only-of-type {\n",
       "        vertical-align: middle;\n",
       "    }\n",
       "\n",
       "    .dataframe tbody tr th {\n",
       "        vertical-align: top;\n",
       "    }\n",
       "\n",
       "    .dataframe thead th {\n",
       "        text-align: right;\n",
       "    }\n",
       "</style>\n",
       "<table border=\"1\" class=\"dataframe\">\n",
       "  <thead>\n",
       "    <tr style=\"text-align: right;\">\n",
       "      <th></th>\n",
       "      <th>id</th>\n",
       "      <th>jurisdiction</th>\n",
       "      <th>source</th>\n",
       "      <th>title</th>\n",
       "      <th>group</th>\n",
       "      <th>url</th>\n",
       "      <th>filename</th>\n",
       "      <th>downloaded_on</th>\n",
       "      <th>pages</th>\n",
       "      <th>fields</th>\n",
       "      <th>fields_conf</th>\n",
       "      <th>fields_old</th>\n",
       "      <th>f_per_p</th>\n",
       "      <th>reading</th>\n",
       "      <th>list</th>\n",
       "      <th>text</th>\n",
       "    </tr>\n",
       "  </thead>\n",
       "  <tbody>\n",
       "    <tr>\n",
       "      <th>0</th>\n",
       "      <td>9174d60bba63599e1506732cb93e52b9</td>\n",
       "      <td>AK</td>\n",
       "      <td>courts.alaska.gov</td>\n",
       "      <td>ADM-121 |  Attorney Fees Billing Form</td>\n",
       "      <td>Administration</td>\n",
       "      <td>https://public.courts.alaska.gov/web/forms/doc...</td>\n",
       "      <td>adm-121.pdf</td>\n",
       "      <td>2022-03-27</td>\n",
       "      <td>1</td>\n",
       "      <td>[case_name, *docket_number, attorney_name, law...</td>\n",
       "      <td>[0.6, 1.0, 0.63, 0.72, 1.0, 1.0, 0.59, 0.54, 0...</td>\n",
       "      <td>[caseName, caseNo, attorneyName, lawFirm, addr...</td>\n",
       "      <td>21.0</td>\n",
       "      <td>7.5</td>\n",
       "      <td>[]</td>\n",
       "      <td>ADM. -. 121 (. 1/1. 8. ) (cs) . . Admin. R. 12...</td>\n",
       "    </tr>\n",
       "    <tr>\n",
       "      <th>1</th>\n",
       "      <td>0bdc34ad40e5dbb31996a7bcf2d9038d</td>\n",
       "      <td>AK</td>\n",
       "      <td>courts.alaska.gov</td>\n",
       "      <td>ADM-122 |  Billing Form for Post-Trial Juror C...</td>\n",
       "      <td>Administration</td>\n",
       "      <td>https://public.courts.alaska.gov/web/forms/doc...</td>\n",
       "      <td>adm-122.pdf</td>\n",
       "      <td>2022-03-27</td>\n",
       "      <td>1</td>\n",
       "      <td>[juror_counseling, jury_panel, served, grand_j...</td>\n",
       "      <td>[0.63, 0.76, 0.49, 0.58, 0.6, 0.55, 0.56, 0.65...</td>\n",
       "      <td>[jurorCounseling, juryPanel, servedOn, grandJu...</td>\n",
       "      <td>23.0</td>\n",
       "      <td>5.5</td>\n",
       "      <td>[]</td>\n",
       "      <td>ADM. -. 122 (. 2. /. 21. ) . . AS 12. 45. 018....</td>\n",
       "    </tr>\n",
       "    <tr>\n",
       "      <th>2</th>\n",
       "      <td>c8ce1a328aa5ca940c3a5255584a8882</td>\n",
       "      <td>AK</td>\n",
       "      <td>courts.alaska.gov</td>\n",
       "      <td>ADM-124 |  Screening Investigation Billing Form</td>\n",
       "      <td>Administration</td>\n",
       "      <td>https://public.courts.alaska.gov/web/forms/doc...</td>\n",
       "      <td>adm-124.pdf</td>\n",
       "      <td>2022-03-27</td>\n",
       "      <td>1</td>\n",
       "      <td>[type_respondent_name, type_case_number, type_...</td>\n",
       "      <td>[0.58, 0.51, 0.54, 0.58, 0.58, 0.49, 0.55, 0.5...</td>\n",
       "      <td>[Type the respondent's name here, type the cas...</td>\n",
       "      <td>19.0</td>\n",
       "      <td>10.5</td>\n",
       "      <td>[]</td>\n",
       "      <td>ADM. -. 124. . (. 6. /21. ) (cs) . . AS 47. 30...</td>\n",
       "    </tr>\n",
       "    <tr>\n",
       "      <th>3</th>\n",
       "      <td>4110a9f835393a1c5e2cece1dc5431c9</td>\n",
       "      <td>AK</td>\n",
       "      <td>courts.alaska.gov</td>\n",
       "      <td>ADM-229 |  Supplemental Application - Magistra...</td>\n",
       "      <td>Administration</td>\n",
       "      <td>https://public.courts.alaska.gov/web/forms/doc...</td>\n",
       "      <td>adm-229.pdf</td>\n",
       "      <td>2022-03-27</td>\n",
       "      <td>9</td>\n",
       "      <td>[]</td>\n",
       "      <td>[]</td>\n",
       "      <td>[]</td>\n",
       "      <td>0.0</td>\n",
       "      <td>7.5</td>\n",
       "      <td>{'status': 400, 'message': '`text` must be gre...</td>\n",
       "      <td>Page . 1. . of . 8. . ADM. -. 229 (1/18. ) (cs...</td>\n",
       "    </tr>\n",
       "    <tr>\n",
       "      <th>4</th>\n",
       "      <td>34773c480d8be370a3f77d2a1a3fa0d0</td>\n",
       "      <td>AK</td>\n",
       "      <td>courts.alaska.gov</td>\n",
       "      <td>ADM-302 |  Forms Requisition</td>\n",
       "      <td>Administration</td>\n",
       "      <td>https://public.courts.alaska.gov/web/forms/doc...</td>\n",
       "      <td>adm-302.pdf</td>\n",
       "      <td>2022-03-27</td>\n",
       "      <td>1</td>\n",
       "      <td>[submit_e_mail, unknown__1, unknown__2, unknow...</td>\n",
       "      <td>[0.6, 0.68, 0.55, 0.5, 0.49, 0.54, 0.55, 0.55,...</td>\n",
       "      <td>[Submit by E-Mail, 0, 1, 2, 3, 4, 5, 6, 7, 8, ...</td>\n",
       "      <td>24.0</td>\n",
       "      <td>6.5</td>\n",
       "      <td>[]</td>\n",
       "      <td>ADM-. 302 . (4/17) . FORMS REQUISITION . FORMS...</td>\n",
       "    </tr>\n",
       "    <tr>\n",
       "      <th>...</th>\n",
       "      <td>...</td>\n",
       "      <td>...</td>\n",
       "      <td>...</td>\n",
       "      <td>...</td>\n",
       "      <td>...</td>\n",
       "      <td>...</td>\n",
       "      <td>...</td>\n",
       "      <td>...</td>\n",
       "      <td>...</td>\n",
       "      <td>...</td>\n",
       "      <td>...</td>\n",
       "      <td>...</td>\n",
       "      <td>...</td>\n",
       "      <td>...</td>\n",
       "      <td>...</td>\n",
       "      <td>...</td>\n",
       "    </tr>\n",
       "    <tr>\n",
       "      <th>12811</th>\n",
       "      <td>d9b1eef66e5ea25a995ead571b3f2227</td>\n",
       "      <td>WY</td>\n",
       "      <td>courts.state.wy.us</td>\n",
       "      <td>Circuit Court Notice of Appeal</td>\n",
       "      <td>Criminal Notice of Appeal Forms</td>\n",
       "      <td>https://www.courts.state.wy.us/wp-content/uplo...</td>\n",
       "      <td>Notice-of-Appeal_packet_Circuit-05.13.2020.pdf</td>\n",
       "      <td>2022-03-28</td>\n",
       "      <td>6</td>\n",
       "      <td>[]</td>\n",
       "      <td>[]</td>\n",
       "      <td>[]</td>\n",
       "      <td>0.0</td>\n",
       "      <td>16.5</td>\n",
       "      <td>{'status': 400, 'message': '`text` must be gre...</td>\n",
       "      <td>STATE OF WYOMING . . ) . . . IN THE . CIRCUIT....</td>\n",
       "    </tr>\n",
       "    <tr>\n",
       "      <th>12812</th>\n",
       "      <td>4ab9e6807e266d2271160c86626d6d64</td>\n",
       "      <td>WY</td>\n",
       "      <td>courts.state.wy.us</td>\n",
       "      <td>Affidavit of Indigency and Request for Waiver ...</td>\n",
       "      <td>Criminal Notice of Appeal Forms</td>\n",
       "      <td>https://www.courts.state.wy.us/wp-content/uplo...</td>\n",
       "      <td>Affidavit-of-Indigency-Form.pdf</td>\n",
       "      <td>2022-03-28</td>\n",
       "      <td>4</td>\n",
       "      <td>[]</td>\n",
       "      <td>[]</td>\n",
       "      <td>[]</td>\n",
       "      <td>0.0</td>\n",
       "      <td>7.5</td>\n",
       "      <td>{'status': 400, 'message': '`text` must be gre...</td>\n",
       "      <td>Affidavit of Indigency and Request for Waiver ...</td>\n",
       "    </tr>\n",
       "    <tr>\n",
       "      <th>12813</th>\n",
       "      <td>e8a0301e6d1dbc9a39277014da3f0806</td>\n",
       "      <td>WY</td>\n",
       "      <td>courts.state.wy.us</td>\n",
       "      <td>Case Cover Sheet</td>\n",
       "      <td>Other Forms</td>\n",
       "      <td>http://courts.state.wy.us/wp-content/uploads/2...</td>\n",
       "      <td>WRCP31Final_CivilCoverSheet-20150708.pdf</td>\n",
       "      <td>2022-03-28</td>\n",
       "      <td>1</td>\n",
       "      <td>[unknown__1, unknown__2, plaintiff_name_curren...</td>\n",
       "      <td>[0.55, 0.5, 0.55, 1.0, 0.59, 0.68, 0.69, 0.53,...</td>\n",
       "      <td>[1, 2, Plaintiff  Name and Current Address, De...</td>\n",
       "      <td>12.0</td>\n",
       "      <td>11.5</td>\n",
       "      <td>[]</td>\n",
       "      <td>CIVIL COVER SHEET. This civil cover sheet and ...</td>\n",
       "    </tr>\n",
       "    <tr>\n",
       "      <th>12814</th>\n",
       "      <td>4aea312774f21ab524b54cd272f1b4b1</td>\n",
       "      <td>WY</td>\n",
       "      <td>courts.state.wy.us</td>\n",
       "      <td>Order / Instructions for Civil Coversheet</td>\n",
       "      <td>Other Forms</td>\n",
       "      <td>http://courts.state.wy.us/wp-content/uploads/2...</td>\n",
       "      <td>civpro_2012082300.pdf</td>\n",
       "      <td>2022-03-28</td>\n",
       "      <td>4</td>\n",
       "      <td>[]</td>\n",
       "      <td>[]</td>\n",
       "      <td>[]</td>\n",
       "      <td>0.0</td>\n",
       "      <td>8.5</td>\n",
       "      <td>{'status': 400, 'message': '`text` must be gre...</td>\n",
       "      <td>I. N THE . S. UPREME . C. OURT. , . . S. TATE ...</td>\n",
       "    </tr>\n",
       "    <tr>\n",
       "      <th>12815</th>\n",
       "      <td>634a81f09b7496eda57b9c98ecb6860f</td>\n",
       "      <td>WY</td>\n",
       "      <td>courts.state.wy.us</td>\n",
       "      <td>State of Wyoming Confidential Information Form</td>\n",
       "      <td>Other Forms</td>\n",
       "      <td>http://www.courts.state.wy.us/wp-content/uploa...</td>\n",
       "      <td>State-of-Wyoming-Confidential-Information-Form...</td>\n",
       "      <td>2022-03-28</td>\n",
       "      <td>1</td>\n",
       "      <td>[]</td>\n",
       "      <td>[]</td>\n",
       "      <td>[]</td>\n",
       "      <td>0.0</td>\n",
       "      <td>10.5</td>\n",
       "      <td>[]</td>\n",
       "      <td>STATE OF WYOMING CONFIDENTIAL INFORMATION FORM...</td>\n",
       "    </tr>\n",
       "  </tbody>\n",
       "</table>\n",
       "<p>12816 rows × 16 columns</p>\n",
       "</div>"
      ],
      "text/plain": [
       "                                     id jurisdiction              source  \\\n",
       "0      9174d60bba63599e1506732cb93e52b9           AK   courts.alaska.gov   \n",
       "1      0bdc34ad40e5dbb31996a7bcf2d9038d           AK   courts.alaska.gov   \n",
       "2      c8ce1a328aa5ca940c3a5255584a8882           AK   courts.alaska.gov   \n",
       "3      4110a9f835393a1c5e2cece1dc5431c9           AK   courts.alaska.gov   \n",
       "4      34773c480d8be370a3f77d2a1a3fa0d0           AK   courts.alaska.gov   \n",
       "...                                 ...          ...                 ...   \n",
       "12811  d9b1eef66e5ea25a995ead571b3f2227           WY  courts.state.wy.us   \n",
       "12812  4ab9e6807e266d2271160c86626d6d64           WY  courts.state.wy.us   \n",
       "12813  e8a0301e6d1dbc9a39277014da3f0806           WY  courts.state.wy.us   \n",
       "12814  4aea312774f21ab524b54cd272f1b4b1           WY  courts.state.wy.us   \n",
       "12815  634a81f09b7496eda57b9c98ecb6860f           WY  courts.state.wy.us   \n",
       "\n",
       "                                                   title  \\\n",
       "0                  ADM-121 |  Attorney Fees Billing Form   \n",
       "1      ADM-122 |  Billing Form for Post-Trial Juror C...   \n",
       "2        ADM-124 |  Screening Investigation Billing Form   \n",
       "3      ADM-229 |  Supplemental Application - Magistra...   \n",
       "4                           ADM-302 |  Forms Requisition   \n",
       "...                                                  ...   \n",
       "12811                     Circuit Court Notice of Appeal   \n",
       "12812  Affidavit of Indigency and Request for Waiver ...   \n",
       "12813                                   Case Cover Sheet   \n",
       "12814          Order / Instructions for Civil Coversheet   \n",
       "12815     State of Wyoming Confidential Information Form   \n",
       "\n",
       "                                 group  \\\n",
       "0                       Administration   \n",
       "1                       Administration   \n",
       "2                       Administration   \n",
       "3                       Administration   \n",
       "4                       Administration   \n",
       "...                                ...   \n",
       "12811  Criminal Notice of Appeal Forms   \n",
       "12812  Criminal Notice of Appeal Forms   \n",
       "12813                      Other Forms   \n",
       "12814                      Other Forms   \n",
       "12815                      Other Forms   \n",
       "\n",
       "                                                     url  \\\n",
       "0      https://public.courts.alaska.gov/web/forms/doc...   \n",
       "1      https://public.courts.alaska.gov/web/forms/doc...   \n",
       "2      https://public.courts.alaska.gov/web/forms/doc...   \n",
       "3      https://public.courts.alaska.gov/web/forms/doc...   \n",
       "4      https://public.courts.alaska.gov/web/forms/doc...   \n",
       "...                                                  ...   \n",
       "12811  https://www.courts.state.wy.us/wp-content/uplo...   \n",
       "12812  https://www.courts.state.wy.us/wp-content/uplo...   \n",
       "12813  http://courts.state.wy.us/wp-content/uploads/2...   \n",
       "12814  http://courts.state.wy.us/wp-content/uploads/2...   \n",
       "12815  http://www.courts.state.wy.us/wp-content/uploa...   \n",
       "\n",
       "                                                filename downloaded_on pages  \\\n",
       "0                                            adm-121.pdf    2022-03-27     1   \n",
       "1                                            adm-122.pdf    2022-03-27     1   \n",
       "2                                            adm-124.pdf    2022-03-27     1   \n",
       "3                                            adm-229.pdf    2022-03-27     9   \n",
       "4                                            adm-302.pdf    2022-03-27     1   \n",
       "...                                                  ...           ...   ...   \n",
       "12811     Notice-of-Appeal_packet_Circuit-05.13.2020.pdf    2022-03-28     6   \n",
       "12812                    Affidavit-of-Indigency-Form.pdf    2022-03-28     4   \n",
       "12813           WRCP31Final_CivilCoverSheet-20150708.pdf    2022-03-28     1   \n",
       "12814                              civpro_2012082300.pdf    2022-03-28     4   \n",
       "12815  State-of-Wyoming-Confidential-Information-Form...    2022-03-28     1   \n",
       "\n",
       "                                                  fields  \\\n",
       "0      [case_name, *docket_number, attorney_name, law...   \n",
       "1      [juror_counseling, jury_panel, served, grand_j...   \n",
       "2      [type_respondent_name, type_case_number, type_...   \n",
       "3                                                     []   \n",
       "4      [submit_e_mail, unknown__1, unknown__2, unknow...   \n",
       "...                                                  ...   \n",
       "12811                                                 []   \n",
       "12812                                                 []   \n",
       "12813  [unknown__1, unknown__2, plaintiff_name_curren...   \n",
       "12814                                                 []   \n",
       "12815                                                 []   \n",
       "\n",
       "                                             fields_conf  \\\n",
       "0      [0.6, 1.0, 0.63, 0.72, 1.0, 1.0, 0.59, 0.54, 0...   \n",
       "1      [0.63, 0.76, 0.49, 0.58, 0.6, 0.55, 0.56, 0.65...   \n",
       "2      [0.58, 0.51, 0.54, 0.58, 0.58, 0.49, 0.55, 0.5...   \n",
       "3                                                     []   \n",
       "4      [0.6, 0.68, 0.55, 0.5, 0.49, 0.54, 0.55, 0.55,...   \n",
       "...                                                  ...   \n",
       "12811                                                 []   \n",
       "12812                                                 []   \n",
       "12813  [0.55, 0.5, 0.55, 1.0, 0.59, 0.68, 0.69, 0.53,...   \n",
       "12814                                                 []   \n",
       "12815                                                 []   \n",
       "\n",
       "                                              fields_old f_per_p reading  \\\n",
       "0      [caseName, caseNo, attorneyName, lawFirm, addr...    21.0     7.5   \n",
       "1      [jurorCounseling, juryPanel, servedOn, grandJu...    23.0     5.5   \n",
       "2      [Type the respondent's name here, type the cas...    19.0    10.5   \n",
       "3                                                     []     0.0     7.5   \n",
       "4      [Submit by E-Mail, 0, 1, 2, 3, 4, 5, 6, 7, 8, ...    24.0     6.5   \n",
       "...                                                  ...     ...     ...   \n",
       "12811                                                 []     0.0    16.5   \n",
       "12812                                                 []     0.0     7.5   \n",
       "12813  [1, 2, Plaintiff  Name and Current Address, De...    12.0    11.5   \n",
       "12814                                                 []     0.0     8.5   \n",
       "12815                                                 []     0.0    10.5   \n",
       "\n",
       "                                                    list  \\\n",
       "0                                                     []   \n",
       "1                                                     []   \n",
       "2                                                     []   \n",
       "3      {'status': 400, 'message': '`text` must be gre...   \n",
       "4                                                     []   \n",
       "...                                                  ...   \n",
       "12811  {'status': 400, 'message': '`text` must be gre...   \n",
       "12812  {'status': 400, 'message': '`text` must be gre...   \n",
       "12813                                                 []   \n",
       "12814  {'status': 400, 'message': '`text` must be gre...   \n",
       "12815                                                 []   \n",
       "\n",
       "                                                    text  \n",
       "0      ADM. -. 121 (. 1/1. 8. ) (cs) . . Admin. R. 12...  \n",
       "1      ADM. -. 122 (. 2. /. 21. ) . . AS 12. 45. 018....  \n",
       "2      ADM. -. 124. . (. 6. /21. ) (cs) . . AS 47. 30...  \n",
       "3      Page . 1. . of . 8. . ADM. -. 229 (1/18. ) (cs...  \n",
       "4      ADM-. 302 . (4/17) . FORMS REQUISITION . FORMS...  \n",
       "...                                                  ...  \n",
       "12811  STATE OF WYOMING . . ) . . . IN THE . CIRCUIT....  \n",
       "12812  Affidavit of Indigency and Request for Waiver ...  \n",
       "12813  CIVIL COVER SHEET. This civil cover sheet and ...  \n",
       "12814  I. N THE . S. UPREME . C. OURT. , . . S. TATE ...  \n",
       "12815  STATE OF WYOMING CONFIDENTIAL INFORMATION FORM...  \n",
       "\n",
       "[12816 rows x 16 columns]"
      ]
     },
     "execution_count": 38,
     "metadata": {},
     "output_type": "execute_result"
    }
   ],
   "source": [
    "df[\"pages\"] = \"\"\n",
    "df[\"fields\"] = \"\"\n",
    "df[\"fields_conf\"] = \"\"\n",
    "df[\"fields_old\"] = \"\"\n",
    "df[\"f_per_p\"] = \"\"\n",
    "df[\"reading\"] = \"\"\n",
    "df[\"list\"] = \"\"\n",
    "df[\"text\"] = \"\"\n",
    "\n",
    "print(len(df))\n",
    "i=0\n",
    "#for index,row in df[:2].iterrows():\n",
    "for index,row in df.iterrows():\n",
    "    if (row[\"pages\"] == \"\") & (row[\"jurisdiction\"] in jurs):\n",
    "        print(\"%s*, \"%i, end='')\n",
    "        try:\n",
    "            stats = lit.parse_form(\"../data/processed/\"+row[\"source\"]+\"/forms/\"+row[\"id\"]+\".pdf\",title=row[\"title\"],jur=row[\"jurisdiction\"],cat=row[\"group\"],normalize=1,use_spot=1,rewrite=1)\n",
    "            df.at[index, 'pages'] = stats[\"pages\"]\n",
    "            df.at[index, 'fields'] = stats[\"fields\"]\n",
    "            df.at[index, 'fields_conf'] = stats[\"fields_conf\"]\n",
    "            df.at[index, 'fields_old'] = stats[\"fields_old\"]\n",
    "            df.at[index, 'f_per_p'] = stats[\"avg fields per page\"]\n",
    "            df.at[index, 'reading'] = stats[\"reading grade level\"]\n",
    "            df.at[index, 'list'] = stats[\"list\"]\n",
    "            df.at[index, 'text'] = stats[\"text\"]\n",
    "            #print(index)\n",
    "        except:\n",
    "            print(\"error: \"+\"../data/raw/\"+row[\"source\"]+\"/forms/\"+row[\"id\"]+\".pdf\")\n",
    "    else:\n",
    "        print(\"%s, \"%i, end='')\n",
    "        \n",
    "    i+=1\n",
    "\n",
    "df"
   ]
  },
  {
   "cell_type": "code",
   "execution_count": 48,
   "metadata": {},
   "outputs": [],
   "source": [
    "df[\"f_per_p\"] = pd.to_numeric(df[\"f_per_p\"])"
   ]
  },
  {
   "cell_type": "code",
   "execution_count": 49,
   "metadata": {},
   "outputs": [
    {
     "data": {
      "text/html": [
       "<div>\n",
       "<style scoped>\n",
       "    .dataframe tbody tr th:only-of-type {\n",
       "        vertical-align: middle;\n",
       "    }\n",
       "\n",
       "    .dataframe tbody tr th {\n",
       "        vertical-align: top;\n",
       "    }\n",
       "\n",
       "    .dataframe thead th {\n",
       "        text-align: right;\n",
       "    }\n",
       "</style>\n",
       "<table border=\"1\" class=\"dataframe\">\n",
       "  <thead>\n",
       "    <tr style=\"text-align: right;\">\n",
       "      <th></th>\n",
       "      <th>id</th>\n",
       "      <th>jurisdiction</th>\n",
       "      <th>source</th>\n",
       "      <th>title</th>\n",
       "      <th>group</th>\n",
       "      <th>url</th>\n",
       "      <th>filename</th>\n",
       "      <th>downloaded_on</th>\n",
       "      <th>pages</th>\n",
       "      <th>fields</th>\n",
       "      <th>fields_conf</th>\n",
       "      <th>fields_old</th>\n",
       "      <th>f_per_p</th>\n",
       "      <th>reading</th>\n",
       "      <th>list</th>\n",
       "      <th>text</th>\n",
       "    </tr>\n",
       "  </thead>\n",
       "  <tbody>\n",
       "    <tr>\n",
       "      <th>0</th>\n",
       "      <td>9174d60bba63599e1506732cb93e52b9</td>\n",
       "      <td>AK</td>\n",
       "      <td>courts.alaska.gov</td>\n",
       "      <td>ADM-121 |  Attorney Fees Billing Form</td>\n",
       "      <td>Administration</td>\n",
       "      <td>https://public.courts.alaska.gov/web/forms/doc...</td>\n",
       "      <td>adm-121.pdf</td>\n",
       "      <td>2022-03-27</td>\n",
       "      <td>1</td>\n",
       "      <td>[case_name, *docket_number, attorney_name, law...</td>\n",
       "      <td>[0.6, 1.0, 0.63, 0.72, 1.0, 1.0, 0.59, 0.54, 0...</td>\n",
       "      <td>[caseName, caseNo, attorneyName, lawFirm, addr...</td>\n",
       "      <td>21.0</td>\n",
       "      <td>7.5</td>\n",
       "      <td>[]</td>\n",
       "      <td>ADM. -. 121 (. 1/1. 8. ) (cs) . . Admin. R. 12...</td>\n",
       "    </tr>\n",
       "    <tr>\n",
       "      <th>1</th>\n",
       "      <td>0bdc34ad40e5dbb31996a7bcf2d9038d</td>\n",
       "      <td>AK</td>\n",
       "      <td>courts.alaska.gov</td>\n",
       "      <td>ADM-122 |  Billing Form for Post-Trial Juror C...</td>\n",
       "      <td>Administration</td>\n",
       "      <td>https://public.courts.alaska.gov/web/forms/doc...</td>\n",
       "      <td>adm-122.pdf</td>\n",
       "      <td>2022-03-27</td>\n",
       "      <td>1</td>\n",
       "      <td>[juror_counseling, jury_panel, served, grand_j...</td>\n",
       "      <td>[0.63, 0.76, 0.49, 0.58, 0.6, 0.55, 0.56, 0.65...</td>\n",
       "      <td>[jurorCounseling, juryPanel, servedOn, grandJu...</td>\n",
       "      <td>23.0</td>\n",
       "      <td>5.5</td>\n",
       "      <td>[]</td>\n",
       "      <td>ADM. -. 122 (. 2. /. 21. ) . . AS 12. 45. 018....</td>\n",
       "    </tr>\n",
       "    <tr>\n",
       "      <th>2</th>\n",
       "      <td>c8ce1a328aa5ca940c3a5255584a8882</td>\n",
       "      <td>AK</td>\n",
       "      <td>courts.alaska.gov</td>\n",
       "      <td>ADM-124 |  Screening Investigation Billing Form</td>\n",
       "      <td>Administration</td>\n",
       "      <td>https://public.courts.alaska.gov/web/forms/doc...</td>\n",
       "      <td>adm-124.pdf</td>\n",
       "      <td>2022-03-27</td>\n",
       "      <td>1</td>\n",
       "      <td>[type_respondent_name, type_case_number, type_...</td>\n",
       "      <td>[0.58, 0.51, 0.54, 0.58, 0.58, 0.49, 0.55, 0.5...</td>\n",
       "      <td>[Type the respondent's name here, type the cas...</td>\n",
       "      <td>19.0</td>\n",
       "      <td>10.5</td>\n",
       "      <td>[]</td>\n",
       "      <td>ADM. -. 124. . (. 6. /21. ) (cs) . . AS 47. 30...</td>\n",
       "    </tr>\n",
       "    <tr>\n",
       "      <th>4</th>\n",
       "      <td>34773c480d8be370a3f77d2a1a3fa0d0</td>\n",
       "      <td>AK</td>\n",
       "      <td>courts.alaska.gov</td>\n",
       "      <td>ADM-302 |  Forms Requisition</td>\n",
       "      <td>Administration</td>\n",
       "      <td>https://public.courts.alaska.gov/web/forms/doc...</td>\n",
       "      <td>adm-302.pdf</td>\n",
       "      <td>2022-03-27</td>\n",
       "      <td>1</td>\n",
       "      <td>[submit_e_mail, unknown__1, unknown__2, unknow...</td>\n",
       "      <td>[0.6, 0.68, 0.55, 0.5, 0.49, 0.54, 0.55, 0.55,...</td>\n",
       "      <td>[Submit by E-Mail, 0, 1, 2, 3, 4, 5, 6, 7, 8, ...</td>\n",
       "      <td>24.0</td>\n",
       "      <td>6.5</td>\n",
       "      <td>[]</td>\n",
       "      <td>ADM-. 302 . (4/17) . FORMS REQUISITION . FORMS...</td>\n",
       "    </tr>\n",
       "    <tr>\n",
       "      <th>7</th>\n",
       "      <td>09828af5164b8938c9f5c3cbee0569c0</td>\n",
       "      <td>AK</td>\n",
       "      <td>courts.alaska.gov</td>\n",
       "      <td>ADM-800 |  Customer Service Questionnaire</td>\n",
       "      <td>Administration</td>\n",
       "      <td>https://public.courts.alaska.gov/web/forms/doc...</td>\n",
       "      <td>adm-800.pdf</td>\n",
       "      <td>2022-03-27</td>\n",
       "      <td>1</td>\n",
       "      <td>[date_visited, time_visited, reason__1, reason...</td>\n",
       "      <td>[0.44, 0.52, 0.54, 0.56, 0.56, 0.48, 0.51, 0.5...</td>\n",
       "      <td>[dateVisited, timeVisited, reason1, reason2, r...</td>\n",
       "      <td>41.0</td>\n",
       "      <td>8.5</td>\n",
       "      <td>[]</td>\n",
       "      <td>ADM 800 (. /1) (Green) . CUSTOMER SERV. ICE QU...</td>\n",
       "    </tr>\n",
       "    <tr>\n",
       "      <th>...</th>\n",
       "      <td>...</td>\n",
       "      <td>...</td>\n",
       "      <td>...</td>\n",
       "      <td>...</td>\n",
       "      <td>...</td>\n",
       "      <td>...</td>\n",
       "      <td>...</td>\n",
       "      <td>...</td>\n",
       "      <td>...</td>\n",
       "      <td>...</td>\n",
       "      <td>...</td>\n",
       "      <td>...</td>\n",
       "      <td>...</td>\n",
       "      <td>...</td>\n",
       "      <td>...</td>\n",
       "      <td>...</td>\n",
       "    </tr>\n",
       "    <tr>\n",
       "      <th>12806</th>\n",
       "      <td>3649f8e39b42bd6653f77444dbac2a9f</td>\n",
       "      <td>WY</td>\n",
       "      <td>courts.state.wy.us</td>\n",
       "      <td>Order Granting Motion to Terminate Stalking Or...</td>\n",
       "      <td>Protection Orders</td>\n",
       "      <td>https://www.courts.state.wy.us/wp-content/uplo...</td>\n",
       "      <td>STOrderGrantingMotiontoTerminate.pdf</td>\n",
       "      <td>2022-03-28</td>\n",
       "      <td>1</td>\n",
       "      <td>[*users1_name, st, name, terminate_order_prote...</td>\n",
       "      <td>[1.0, 0.5, 0.55, 0.55, 0.62, 0.58, 0.61, 0.51,...</td>\n",
       "      <td>[Name, ST, Name_2, Terminate Order of Protecti...</td>\n",
       "      <td>11.0</td>\n",
       "      <td>12.5</td>\n",
       "      <td>[CO-07-00-00-00, CO-00-00-00-00]</td>\n",
       "      <td>Order Granting Motion to Terminate Page 1 of 1...</td>\n",
       "    </tr>\n",
       "    <tr>\n",
       "      <th>12807</th>\n",
       "      <td>82de0286f4668c01249ac6a7b854f980</td>\n",
       "      <td>WY</td>\n",
       "      <td>courts.state.wy.us</td>\n",
       "      <td>Order Denying Motion to Terminate Stalking Ord...</td>\n",
       "      <td>Protection Orders</td>\n",
       "      <td>https://www.courts.state.wy.us/wp-content/uplo...</td>\n",
       "      <td>STOrderDenyingMotiontoTerminate.pdf</td>\n",
       "      <td>2022-03-28</td>\n",
       "      <td>1</td>\n",
       "      <td>[*users1_name, st, name, undefined, remains_fu...</td>\n",
       "      <td>[1.0, 0.5, 0.55, 0.62, 0.63, 0.51, 0.5, 0.58, ...</td>\n",
       "      <td>[Name, ST, Name_2, undefined, remains in full ...</td>\n",
       "      <td>9.0</td>\n",
       "      <td>7.5</td>\n",
       "      <td>[CO-07-00-00-00, CO-00-00-00-00]</td>\n",
       "      <td>Order Denying Motion to Terminate Page 1 of 1 ...</td>\n",
       "    </tr>\n",
       "    <tr>\n",
       "      <th>12808</th>\n",
       "      <td>6392da792d342e0a8813d74e36e4402b</td>\n",
       "      <td>WY</td>\n",
       "      <td>courts.state.wy.us</td>\n",
       "      <td>Stalking Motion and Affidavit to Show Cause</td>\n",
       "      <td>Protection Orders</td>\n",
       "      <td>https://www.courts.state.wy.us/wp-content/uplo...</td>\n",
       "      <td>STMotionandAffidavitforOSC.pdf</td>\n",
       "      <td>2022-03-28</td>\n",
       "      <td>2</td>\n",
       "      <td>[*users1_name, st, name, respondent_violated_o...</td>\n",
       "      <td>[1.0, 0.5, 0.55, 0.57, 0.66, 0.56, 0.42, 0.46,...</td>\n",
       "      <td>[Name, ST, Name_2, 2 Respondent violated the O...</td>\n",
       "      <td>7.5</td>\n",
       "      <td>9.5</td>\n",
       "      <td>[]</td>\n",
       "      <td>Motion and Affidavit for Order . to Show Cause...</td>\n",
       "    </tr>\n",
       "    <tr>\n",
       "      <th>12809</th>\n",
       "      <td>b11a0c83c9adb1053662f328adb97851</td>\n",
       "      <td>WY</td>\n",
       "      <td>courts.state.wy.us</td>\n",
       "      <td>Order to Show Cause in Stalking Cause</td>\n",
       "      <td>Protection Orders</td>\n",
       "      <td>https://www.courts.state.wy.us/wp-content/uplo...</td>\n",
       "      <td>STOrdertoShowCause.pdf</td>\n",
       "      <td>2022-03-28</td>\n",
       "      <td>2</td>\n",
       "      <td>[*users1_name, st, name, based_records_proceed...</td>\n",
       "      <td>[1.0, 0.5, 0.55, 0.49, 0.51, 0.5, 0.51, 0.52]</td>\n",
       "      <td>[Name, ST, Name_2, Based on the records and pr...</td>\n",
       "      <td>4.0</td>\n",
       "      <td>10.5</td>\n",
       "      <td>[FA-07-00-00-00, CO-07-00-00-00, CR-00-00-00-0...</td>\n",
       "      <td>Stalking Order to Show Cause Page 1 of 1 . Rev...</td>\n",
       "    </tr>\n",
       "    <tr>\n",
       "      <th>12813</th>\n",
       "      <td>e8a0301e6d1dbc9a39277014da3f0806</td>\n",
       "      <td>WY</td>\n",
       "      <td>courts.state.wy.us</td>\n",
       "      <td>Case Cover Sheet</td>\n",
       "      <td>Other Forms</td>\n",
       "      <td>http://courts.state.wy.us/wp-content/uploads/2...</td>\n",
       "      <td>WRCP31Final_CivilCoverSheet-20150708.pdf</td>\n",
       "      <td>2022-03-28</td>\n",
       "      <td>1</td>\n",
       "      <td>[unknown__1, unknown__2, plaintiff_name_curren...</td>\n",
       "      <td>[0.55, 0.5, 0.55, 1.0, 0.59, 0.68, 0.69, 0.53,...</td>\n",
       "      <td>[1, 2, Plaintiff  Name and Current Address, De...</td>\n",
       "      <td>12.0</td>\n",
       "      <td>11.5</td>\n",
       "      <td>[]</td>\n",
       "      <td>CIVIL COVER SHEET. This civil cover sheet and ...</td>\n",
       "    </tr>\n",
       "  </tbody>\n",
       "</table>\n",
       "<p>6488 rows × 16 columns</p>\n",
       "</div>"
      ],
      "text/plain": [
       "                                     id jurisdiction              source  \\\n",
       "0      9174d60bba63599e1506732cb93e52b9           AK   courts.alaska.gov   \n",
       "1      0bdc34ad40e5dbb31996a7bcf2d9038d           AK   courts.alaska.gov   \n",
       "2      c8ce1a328aa5ca940c3a5255584a8882           AK   courts.alaska.gov   \n",
       "4      34773c480d8be370a3f77d2a1a3fa0d0           AK   courts.alaska.gov   \n",
       "7      09828af5164b8938c9f5c3cbee0569c0           AK   courts.alaska.gov   \n",
       "...                                 ...          ...                 ...   \n",
       "12806  3649f8e39b42bd6653f77444dbac2a9f           WY  courts.state.wy.us   \n",
       "12807  82de0286f4668c01249ac6a7b854f980           WY  courts.state.wy.us   \n",
       "12808  6392da792d342e0a8813d74e36e4402b           WY  courts.state.wy.us   \n",
       "12809  b11a0c83c9adb1053662f328adb97851           WY  courts.state.wy.us   \n",
       "12813  e8a0301e6d1dbc9a39277014da3f0806           WY  courts.state.wy.us   \n",
       "\n",
       "                                                   title              group  \\\n",
       "0                  ADM-121 |  Attorney Fees Billing Form     Administration   \n",
       "1      ADM-122 |  Billing Form for Post-Trial Juror C...     Administration   \n",
       "2        ADM-124 |  Screening Investigation Billing Form     Administration   \n",
       "4                           ADM-302 |  Forms Requisition     Administration   \n",
       "7              ADM-800 |  Customer Service Questionnaire     Administration   \n",
       "...                                                  ...                ...   \n",
       "12806  Order Granting Motion to Terminate Stalking Or...  Protection Orders   \n",
       "12807  Order Denying Motion to Terminate Stalking Ord...  Protection Orders   \n",
       "12808        Stalking Motion and Affidavit to Show Cause  Protection Orders   \n",
       "12809              Order to Show Cause in Stalking Cause  Protection Orders   \n",
       "12813                                   Case Cover Sheet        Other Forms   \n",
       "\n",
       "                                                     url  \\\n",
       "0      https://public.courts.alaska.gov/web/forms/doc...   \n",
       "1      https://public.courts.alaska.gov/web/forms/doc...   \n",
       "2      https://public.courts.alaska.gov/web/forms/doc...   \n",
       "4      https://public.courts.alaska.gov/web/forms/doc...   \n",
       "7      https://public.courts.alaska.gov/web/forms/doc...   \n",
       "...                                                  ...   \n",
       "12806  https://www.courts.state.wy.us/wp-content/uplo...   \n",
       "12807  https://www.courts.state.wy.us/wp-content/uplo...   \n",
       "12808  https://www.courts.state.wy.us/wp-content/uplo...   \n",
       "12809  https://www.courts.state.wy.us/wp-content/uplo...   \n",
       "12813  http://courts.state.wy.us/wp-content/uploads/2...   \n",
       "\n",
       "                                       filename downloaded_on pages  \\\n",
       "0                                   adm-121.pdf    2022-03-27     1   \n",
       "1                                   adm-122.pdf    2022-03-27     1   \n",
       "2                                   adm-124.pdf    2022-03-27     1   \n",
       "4                                   adm-302.pdf    2022-03-27     1   \n",
       "7                                   adm-800.pdf    2022-03-27     1   \n",
       "...                                         ...           ...   ...   \n",
       "12806      STOrderGrantingMotiontoTerminate.pdf    2022-03-28     1   \n",
       "12807       STOrderDenyingMotiontoTerminate.pdf    2022-03-28     1   \n",
       "12808            STMotionandAffidavitforOSC.pdf    2022-03-28     2   \n",
       "12809                    STOrdertoShowCause.pdf    2022-03-28     2   \n",
       "12813  WRCP31Final_CivilCoverSheet-20150708.pdf    2022-03-28     1   \n",
       "\n",
       "                                                  fields  \\\n",
       "0      [case_name, *docket_number, attorney_name, law...   \n",
       "1      [juror_counseling, jury_panel, served, grand_j...   \n",
       "2      [type_respondent_name, type_case_number, type_...   \n",
       "4      [submit_e_mail, unknown__1, unknown__2, unknow...   \n",
       "7      [date_visited, time_visited, reason__1, reason...   \n",
       "...                                                  ...   \n",
       "12806  [*users1_name, st, name, terminate_order_prote...   \n",
       "12807  [*users1_name, st, name, undefined, remains_fu...   \n",
       "12808  [*users1_name, st, name, respondent_violated_o...   \n",
       "12809  [*users1_name, st, name, based_records_proceed...   \n",
       "12813  [unknown__1, unknown__2, plaintiff_name_curren...   \n",
       "\n",
       "                                             fields_conf  \\\n",
       "0      [0.6, 1.0, 0.63, 0.72, 1.0, 1.0, 0.59, 0.54, 0...   \n",
       "1      [0.63, 0.76, 0.49, 0.58, 0.6, 0.55, 0.56, 0.65...   \n",
       "2      [0.58, 0.51, 0.54, 0.58, 0.58, 0.49, 0.55, 0.5...   \n",
       "4      [0.6, 0.68, 0.55, 0.5, 0.49, 0.54, 0.55, 0.55,...   \n",
       "7      [0.44, 0.52, 0.54, 0.56, 0.56, 0.48, 0.51, 0.5...   \n",
       "...                                                  ...   \n",
       "12806  [1.0, 0.5, 0.55, 0.55, 0.62, 0.58, 0.61, 0.51,...   \n",
       "12807  [1.0, 0.5, 0.55, 0.62, 0.63, 0.51, 0.5, 0.58, ...   \n",
       "12808  [1.0, 0.5, 0.55, 0.57, 0.66, 0.56, 0.42, 0.46,...   \n",
       "12809      [1.0, 0.5, 0.55, 0.49, 0.51, 0.5, 0.51, 0.52]   \n",
       "12813  [0.55, 0.5, 0.55, 1.0, 0.59, 0.68, 0.69, 0.53,...   \n",
       "\n",
       "                                              fields_old  f_per_p reading  \\\n",
       "0      [caseName, caseNo, attorneyName, lawFirm, addr...     21.0     7.5   \n",
       "1      [jurorCounseling, juryPanel, servedOn, grandJu...     23.0     5.5   \n",
       "2      [Type the respondent's name here, type the cas...     19.0    10.5   \n",
       "4      [Submit by E-Mail, 0, 1, 2, 3, 4, 5, 6, 7, 8, ...     24.0     6.5   \n",
       "7      [dateVisited, timeVisited, reason1, reason2, r...     41.0     8.5   \n",
       "...                                                  ...      ...     ...   \n",
       "12806  [Name, ST, Name_2, Terminate Order of Protecti...     11.0    12.5   \n",
       "12807  [Name, ST, Name_2, undefined, remains in full ...      9.0     7.5   \n",
       "12808  [Name, ST, Name_2, 2 Respondent violated the O...      7.5     9.5   \n",
       "12809  [Name, ST, Name_2, Based on the records and pr...      4.0    10.5   \n",
       "12813  [1, 2, Plaintiff  Name and Current Address, De...     12.0    11.5   \n",
       "\n",
       "                                                    list  \\\n",
       "0                                                     []   \n",
       "1                                                     []   \n",
       "2                                                     []   \n",
       "4                                                     []   \n",
       "7                                                     []   \n",
       "...                                                  ...   \n",
       "12806                   [CO-07-00-00-00, CO-00-00-00-00]   \n",
       "12807                   [CO-07-00-00-00, CO-00-00-00-00]   \n",
       "12808                                                 []   \n",
       "12809  [FA-07-00-00-00, CO-07-00-00-00, CR-00-00-00-0...   \n",
       "12813                                                 []   \n",
       "\n",
       "                                                    text  \n",
       "0      ADM. -. 121 (. 1/1. 8. ) (cs) . . Admin. R. 12...  \n",
       "1      ADM. -. 122 (. 2. /. 21. ) . . AS 12. 45. 018....  \n",
       "2      ADM. -. 124. . (. 6. /21. ) (cs) . . AS 47. 30...  \n",
       "4      ADM-. 302 . (4/17) . FORMS REQUISITION . FORMS...  \n",
       "7      ADM 800 (. /1) (Green) . CUSTOMER SERV. ICE QU...  \n",
       "...                                                  ...  \n",
       "12806  Order Granting Motion to Terminate Page 1 of 1...  \n",
       "12807  Order Denying Motion to Terminate Page 1 of 1 ...  \n",
       "12808  Motion and Affidavit for Order . to Show Cause...  \n",
       "12809  Stalking Order to Show Cause Page 1 of 1 . Rev...  \n",
       "12813  CIVIL COVER SHEET. This civil cover sheet and ...  \n",
       "\n",
       "[6488 rows x 16 columns]"
      ]
     },
     "execution_count": 49,
     "metadata": {},
     "output_type": "execute_result"
    }
   ],
   "source": [
    "df0 = df[df[\"f_per_p\"]>0]\n",
    "df0"
   ]
  },
  {
   "cell_type": "code",
   "execution_count": 50,
   "metadata": {},
   "outputs": [
    {
     "data": {
      "text/html": [
       "<div>\n",
       "<style scoped>\n",
       "    .dataframe tbody tr th:only-of-type {\n",
       "        vertical-align: middle;\n",
       "    }\n",
       "\n",
       "    .dataframe tbody tr th {\n",
       "        vertical-align: top;\n",
       "    }\n",
       "\n",
       "    .dataframe thead th {\n",
       "        text-align: right;\n",
       "    }\n",
       "</style>\n",
       "<table border=\"1\" class=\"dataframe\">\n",
       "  <thead>\n",
       "    <tr style=\"text-align: right;\">\n",
       "      <th></th>\n",
       "      <th>id</th>\n",
       "      <th>jurisdiction</th>\n",
       "      <th>source</th>\n",
       "      <th>title</th>\n",
       "      <th>group</th>\n",
       "      <th>url</th>\n",
       "      <th>filename</th>\n",
       "      <th>downloaded</th>\n",
       "      <th>pages</th>\n",
       "      <th>fields</th>\n",
       "      <th>fields_conf</th>\n",
       "      <th>fields_old</th>\n",
       "      <th>f_per_p</th>\n",
       "      <th>reading</th>\n",
       "      <th>list</th>\n",
       "      <th>text</th>\n",
       "    </tr>\n",
       "  </thead>\n",
       "  <tbody>\n",
       "    <tr>\n",
       "      <th>0</th>\n",
       "      <td>04b3a0734774c02edf8eb9056d23954aa38e96c77c3392...</td>\n",
       "      <td>UT</td>\n",
       "      <td>www.utcourts.gov</td>\n",
       "      <td>Community Service Worksheet Third District Juv...</td>\n",
       "      <td>3rd District Juvenile Court: Forms and Pamphlets</td>\n",
       "      <td>https://www.utcourts.gov/courts/juv/juvsites/3...</td>\n",
       "      <td>COMMUNITY%20SERVICE%20WORKSHEET-FRONT%20AND%20...</td>\n",
       "      <td>2021-11-11</td>\n",
       "      <td>2.0</td>\n",
       "      <td>['name__1', 'name__2', '*docket_number', '*use...</td>\n",
       "      <td>[0.63, 0.61, 1, 1, 1, 0.61, 0.52, 0.53, 0.6, 0...</td>\n",
       "      <td>['name__1', 'name__2', 'docket_number', 'users...</td>\n",
       "      <td>7.500000</td>\n",
       "      <td>10.5</td>\n",
       "      <td>[]</td>\n",
       "      <td>COMMUNITY SERVICE WORKSHEET\\n THIRD DISTRICT J...</td>\n",
       "    </tr>\n",
       "    <tr>\n",
       "      <th>1</th>\n",
       "      <td>6e420f1b3575cfd8ef94b71977da9e38252e3395a78439...</td>\n",
       "      <td>UT</td>\n",
       "      <td>www.utcourts.gov</td>\n",
       "      <td>Third District Juvenile Court Work Program Ref...</td>\n",
       "      <td>3rd District Juvenile Court: Forms and Pamphlets</td>\n",
       "      <td>https://www.utcourts.gov/courts/juv/juvsites/3...</td>\n",
       "      <td>Work_Crew_Application-2007.pdf</td>\n",
       "      <td>2021-11-11</td>\n",
       "      <td>2.0</td>\n",
       "      <td>['*docket_number', '*users1_birthdate', 'male'...</td>\n",
       "      <td>[1, 1, 0.69, 0.61, 1, 1, 1, 0.56, 0.68, 0.67, ...</td>\n",
       "      <td>['docket_number', 'users1_birthdate', 'male', ...</td>\n",
       "      <td>19.000000</td>\n",
       "      <td>10.5</td>\n",
       "      <td>['GO-00-00-00-00']</td>\n",
       "      <td>THIRD DISTRICT JUVENILE COURT WORK PROGRAM REF...</td>\n",
       "    </tr>\n",
       "    <tr>\n",
       "      <th>2</th>\n",
       "      <td>2532cd2b6d3aaff8c47726a0abd168fb4e5cdb4977c065...</td>\n",
       "      <td>UT</td>\n",
       "      <td>www.utcourts.gov</td>\n",
       "      <td>Utah State District Juvenile Court Probation O...</td>\n",
       "      <td>3rd District Juvenile Court: Forms and Pamphlets</td>\n",
       "      <td>https://www.utcourts.gov/courts/juv/juvsites/3...</td>\n",
       "      <td>Probation%20Order%20revised.050502.pdf</td>\n",
       "      <td>2021-11-11</td>\n",
       "      <td>5.0</td>\n",
       "      <td>['probation_department_order_court', 'special_...</td>\n",
       "      <td>[0.73, 0.65, 0.7, 0.54, 0.68, 0.67, 0.62, 0.59...</td>\n",
       "      <td>['of the probation department or by order of t...</td>\n",
       "      <td>4.800000</td>\n",
       "      <td>12.5</td>\n",
       "      <td>[]</td>\n",
       "      <td>Page 1 of 4\\n UTAH STATE DISTRICT JUVENILE COU...</td>\n",
       "    </tr>\n",
       "    <tr>\n",
       "      <th>3</th>\n",
       "      <td>f6a6814890f21c11524d5785d772272916ff95909b7dba...</td>\n",
       "      <td>UT</td>\n",
       "      <td>www.utcourts.gov</td>\n",
       "      <td>Adoptee's Consent to Adoption and Waiver of Ri...</td>\n",
       "      <td>Adopting a Minor Stepchild</td>\n",
       "      <td>https://www.utcourts.gov/howto/family/adoption...</td>\n",
       "      <td>02_Consent_Adoptee.pdf</td>\n",
       "      <td>2021-11-11</td>\n",
       "      <td>3.0</td>\n",
       "      <td>['*users1_name', '*users1_address_line_one', '...</td>\n",
       "      <td>[1.0, 1.0, 1.0, 1.0, 0.61, 0.7, 0.67, 1.0, 0.6...</td>\n",
       "      <td>['Name', 'Address', 'City State Zip', 'Phone',...</td>\n",
       "      <td>14.666667</td>\n",
       "      <td>6.5</td>\n",
       "      <td>[]</td>\n",
       "      <td>Consent to Adoption and Waiver of \\n Rights\\n ...</td>\n",
       "    </tr>\n",
       "    <tr>\n",
       "      <th>4</th>\n",
       "      <td>be656a9a361db7c3532026b0bae372e704beb160fce37e...</td>\n",
       "      <td>UT</td>\n",
       "      <td>www.utcourts.gov</td>\n",
       "      <td>Adoption Agreement</td>\n",
       "      <td>Adopting a Minor Stepchild</td>\n",
       "      <td>https://www.utcourts.gov/howto/family/adoption...</td>\n",
       "      <td>08_Agreement.pdf</td>\n",
       "      <td>2021-11-11</td>\n",
       "      <td>1.0</td>\n",
       "      <td>['*users1_name', '*users1_address_line_one', '...</td>\n",
       "      <td>[1.0, 1.0, 1.0, 1.0, 0.61, 0.7, 0.67, 1.0, 0.6...</td>\n",
       "      <td>['Name', 'Address', 'City State Zip', 'Phone',...</td>\n",
       "      <td>19.000000</td>\n",
       "      <td>7.5</td>\n",
       "      <td>['GO-00-00-00-00']</td>\n",
       "      <td>Adoption\\n \\n Agreement\\n \\n Approved Board of...</td>\n",
       "    </tr>\n",
       "    <tr>\n",
       "      <th>...</th>\n",
       "      <td>...</td>\n",
       "      <td>...</td>\n",
       "      <td>...</td>\n",
       "      <td>...</td>\n",
       "      <td>...</td>\n",
       "      <td>...</td>\n",
       "      <td>...</td>\n",
       "      <td>...</td>\n",
       "      <td>...</td>\n",
       "      <td>...</td>\n",
       "      <td>...</td>\n",
       "      <td>...</td>\n",
       "      <td>...</td>\n",
       "      <td>...</td>\n",
       "      <td>...</td>\n",
       "      <td>...</td>\n",
       "    </tr>\n",
       "    <tr>\n",
       "      <th>3525</th>\n",
       "      <td>1d46195c6d160f20ed804a7c6422fb53</td>\n",
       "      <td>MN</td>\n",
       "      <td>www.mncourts.gov</td>\n",
       "      <td>Lao - Probation Violation Statement of Rights</td>\n",
       "      <td>Criminal</td>\n",
       "      <td>https://www.mncourts.gov/mncourtsgov/media/Cou...</td>\n",
       "      <td>CRM206-(Laotian).pdf</td>\n",
       "      <td>2022-02-06</td>\n",
       "      <td>2.0</td>\n",
       "      <td>['jud_dist', 'case_num', 'county', 'header', '...</td>\n",
       "      <td>[0.57, 0.57, 0.64, 0.46, 0.53, 0.43, 0.48, 0.4...</td>\n",
       "      <td>['JudDist', 'CaseNum', 'County', 'Header', 'Ra...</td>\n",
       "      <td>7.500000</td>\n",
       "      <td>31.5</td>\n",
       "      <td>['CR-00-00-00-00']</td>\n",
       "      <td>Probation Violation or Violation of Sentencing...</td>\n",
       "    </tr>\n",
       "    <tr>\n",
       "      <th>3526</th>\n",
       "      <td>f40569ebd2ac4c6094a89458312e7116</td>\n",
       "      <td>MN</td>\n",
       "      <td>www.mncourts.gov</td>\n",
       "      <td>Russian - Probation Violation Statement of Rights</td>\n",
       "      <td>Criminal</td>\n",
       "      <td>https://www.mncourts.gov/mncourtsgov/media/Cou...</td>\n",
       "      <td>CRM206-(Russian).pdf</td>\n",
       "      <td>2022-02-06</td>\n",
       "      <td>2.0</td>\n",
       "      <td>['jud_dist', 'case_num', 'county', 'header', '...</td>\n",
       "      <td>[0.57, 0.57, 0.64, 0.46, 0.49, 0.53, 0.62, 0.5...</td>\n",
       "      <td>['JudDist', 'CaseNum', 'County', 'Header', 'Ra...</td>\n",
       "      <td>7.500000</td>\n",
       "      <td>29.5</td>\n",
       "      <td>[]</td>\n",
       "      <td>Probation Violation or Violation of Sentencing...</td>\n",
       "    </tr>\n",
       "    <tr>\n",
       "      <th>3527</th>\n",
       "      <td>08a546d2cd00106b23ce7cf60b9fd7f4</td>\n",
       "      <td>MN</td>\n",
       "      <td>www.mncourts.gov</td>\n",
       "      <td>Somali - Probation Violation Statement of Rights</td>\n",
       "      <td>Criminal</td>\n",
       "      <td>https://www.mncourts.gov/mncourtsgov/media/Cou...</td>\n",
       "      <td>CRM206-(Somali).pdf</td>\n",
       "      <td>2022-02-06</td>\n",
       "      <td>2.0</td>\n",
       "      <td>['*users1_name__1', 'defendent', 'jud_dist', '...</td>\n",
       "      <td>[1.0, 0.64, 0.57, 0.57, 0.64, 0.46, 0.48, 0.55...</td>\n",
       "      <td>['Name', 'Defendent', 'JudDist', 'CaseNum', 'C...</td>\n",
       "      <td>9.000000</td>\n",
       "      <td>14.5</td>\n",
       "      <td>['CO-00-00-00-00', 'CO-07-00-00-00']</td>\n",
       "      <td>English Somali Form Page 1 of 2 Approved by Co...</td>\n",
       "    </tr>\n",
       "    <tr>\n",
       "      <th>3528</th>\n",
       "      <td>c7bb83b51018c792d8ea2d215bcba19e</td>\n",
       "      <td>MN</td>\n",
       "      <td>www.mncourts.gov</td>\n",
       "      <td>Spanish - Probation Violation Statement of Rights</td>\n",
       "      <td>Criminal</td>\n",
       "      <td>https://www.mncourts.gov/mncourtsgov/media/Cou...</td>\n",
       "      <td>CRM206-(Spanish).pdf</td>\n",
       "      <td>2022-02-06</td>\n",
       "      <td>2.0</td>\n",
       "      <td>['jud_dist', 'case_num', 'county', 'header', '...</td>\n",
       "      <td>[0.57, 0.57, 0.64, 0.46, 0.55, 0.53, 0.62, 0.5...</td>\n",
       "      <td>['JudDist', 'CaseNum', 'County', 'Header', 'Ra...</td>\n",
       "      <td>8.000000</td>\n",
       "      <td>18.5</td>\n",
       "      <td>['CR-00-00-00-00']</td>\n",
       "      <td>Probation Violation or Violation of Sentencing...</td>\n",
       "    </tr>\n",
       "    <tr>\n",
       "      <th>3529</th>\n",
       "      <td>eb0675afbc021089880addf06f685fd6</td>\n",
       "      <td>MN</td>\n",
       "      <td>www.mncourts.gov</td>\n",
       "      <td>Vietnamese - Probation Violation Statement of ...</td>\n",
       "      <td>Criminal</td>\n",
       "      <td>https://www.mncourts.gov/mncourtsgov/media/Cou...</td>\n",
       "      <td>CRM206-(Vietnamese).pdf</td>\n",
       "      <td>2022-02-06</td>\n",
       "      <td>2.0</td>\n",
       "      <td>['jud_dist', 'case_num', 'county', 'header', '...</td>\n",
       "      <td>[0.57, 0.57, 0.64, 0.46, 0.62, 0.59, 0.59, 0.5...</td>\n",
       "      <td>['JudDist', 'CaseNum', 'County', 'Header', 'un...</td>\n",
       "      <td>8.000000</td>\n",
       "      <td>11.5</td>\n",
       "      <td>[]</td>\n",
       "      <td>Form - Vietnamese Translation . Page 1 of 2 . ...</td>\n",
       "    </tr>\n",
       "  </tbody>\n",
       "</table>\n",
       "<p>3530 rows × 16 columns</p>\n",
       "</div>"
      ],
      "text/plain": [
       "                                                     id jurisdiction  \\\n",
       "0     04b3a0734774c02edf8eb9056d23954aa38e96c77c3392...           UT   \n",
       "1     6e420f1b3575cfd8ef94b71977da9e38252e3395a78439...           UT   \n",
       "2     2532cd2b6d3aaff8c47726a0abd168fb4e5cdb4977c065...           UT   \n",
       "3     f6a6814890f21c11524d5785d772272916ff95909b7dba...           UT   \n",
       "4     be656a9a361db7c3532026b0bae372e704beb160fce37e...           UT   \n",
       "...                                                 ...          ...   \n",
       "3525                   1d46195c6d160f20ed804a7c6422fb53           MN   \n",
       "3526                   f40569ebd2ac4c6094a89458312e7116           MN   \n",
       "3527                   08a546d2cd00106b23ce7cf60b9fd7f4           MN   \n",
       "3528                   c7bb83b51018c792d8ea2d215bcba19e           MN   \n",
       "3529                   eb0675afbc021089880addf06f685fd6           MN   \n",
       "\n",
       "                source                                              title  \\\n",
       "0     www.utcourts.gov  Community Service Worksheet Third District Juv...   \n",
       "1     www.utcourts.gov  Third District Juvenile Court Work Program Ref...   \n",
       "2     www.utcourts.gov  Utah State District Juvenile Court Probation O...   \n",
       "3     www.utcourts.gov  Adoptee's Consent to Adoption and Waiver of Ri...   \n",
       "4     www.utcourts.gov                                Adoption Agreement    \n",
       "...                ...                                                ...   \n",
       "3525  www.mncourts.gov      Lao - Probation Violation Statement of Rights   \n",
       "3526  www.mncourts.gov  Russian - Probation Violation Statement of Rights   \n",
       "3527  www.mncourts.gov   Somali - Probation Violation Statement of Rights   \n",
       "3528  www.mncourts.gov  Spanish - Probation Violation Statement of Rights   \n",
       "3529  www.mncourts.gov  Vietnamese - Probation Violation Statement of ...   \n",
       "\n",
       "                                                 group  \\\n",
       "0     3rd District Juvenile Court: Forms and Pamphlets   \n",
       "1     3rd District Juvenile Court: Forms and Pamphlets   \n",
       "2     3rd District Juvenile Court: Forms and Pamphlets   \n",
       "3                           Adopting a Minor Stepchild   \n",
       "4                           Adopting a Minor Stepchild   \n",
       "...                                                ...   \n",
       "3525                                          Criminal   \n",
       "3526                                          Criminal   \n",
       "3527                                          Criminal   \n",
       "3528                                          Criminal   \n",
       "3529                                          Criminal   \n",
       "\n",
       "                                                    url  \\\n",
       "0     https://www.utcourts.gov/courts/juv/juvsites/3...   \n",
       "1     https://www.utcourts.gov/courts/juv/juvsites/3...   \n",
       "2     https://www.utcourts.gov/courts/juv/juvsites/3...   \n",
       "3     https://www.utcourts.gov/howto/family/adoption...   \n",
       "4     https://www.utcourts.gov/howto/family/adoption...   \n",
       "...                                                 ...   \n",
       "3525  https://www.mncourts.gov/mncourtsgov/media/Cou...   \n",
       "3526  https://www.mncourts.gov/mncourtsgov/media/Cou...   \n",
       "3527  https://www.mncourts.gov/mncourtsgov/media/Cou...   \n",
       "3528  https://www.mncourts.gov/mncourtsgov/media/Cou...   \n",
       "3529  https://www.mncourts.gov/mncourtsgov/media/Cou...   \n",
       "\n",
       "                                               filename  downloaded  pages  \\\n",
       "0     COMMUNITY%20SERVICE%20WORKSHEET-FRONT%20AND%20...  2021-11-11    2.0   \n",
       "1                        Work_Crew_Application-2007.pdf  2021-11-11    2.0   \n",
       "2                Probation%20Order%20revised.050502.pdf  2021-11-11    5.0   \n",
       "3                                02_Consent_Adoptee.pdf  2021-11-11    3.0   \n",
       "4                                      08_Agreement.pdf  2021-11-11    1.0   \n",
       "...                                                 ...         ...    ...   \n",
       "3525                               CRM206-(Laotian).pdf  2022-02-06    2.0   \n",
       "3526                               CRM206-(Russian).pdf  2022-02-06    2.0   \n",
       "3527                                CRM206-(Somali).pdf  2022-02-06    2.0   \n",
       "3528                               CRM206-(Spanish).pdf  2022-02-06    2.0   \n",
       "3529                            CRM206-(Vietnamese).pdf  2022-02-06    2.0   \n",
       "\n",
       "                                                 fields  \\\n",
       "0     ['name__1', 'name__2', '*docket_number', '*use...   \n",
       "1     ['*docket_number', '*users1_birthdate', 'male'...   \n",
       "2     ['probation_department_order_court', 'special_...   \n",
       "3     ['*users1_name', '*users1_address_line_one', '...   \n",
       "4     ['*users1_name', '*users1_address_line_one', '...   \n",
       "...                                                 ...   \n",
       "3525  ['jud_dist', 'case_num', 'county', 'header', '...   \n",
       "3526  ['jud_dist', 'case_num', 'county', 'header', '...   \n",
       "3527  ['*users1_name__1', 'defendent', 'jud_dist', '...   \n",
       "3528  ['jud_dist', 'case_num', 'county', 'header', '...   \n",
       "3529  ['jud_dist', 'case_num', 'county', 'header', '...   \n",
       "\n",
       "                                            fields_conf  \\\n",
       "0     [0.63, 0.61, 1, 1, 1, 0.61, 0.52, 0.53, 0.6, 0...   \n",
       "1     [1, 1, 0.69, 0.61, 1, 1, 1, 0.56, 0.68, 0.67, ...   \n",
       "2     [0.73, 0.65, 0.7, 0.54, 0.68, 0.67, 0.62, 0.59...   \n",
       "3     [1.0, 1.0, 1.0, 1.0, 0.61, 0.7, 0.67, 1.0, 0.6...   \n",
       "4     [1.0, 1.0, 1.0, 1.0, 0.61, 0.7, 0.67, 1.0, 0.6...   \n",
       "...                                                 ...   \n",
       "3525  [0.57, 0.57, 0.64, 0.46, 0.53, 0.43, 0.48, 0.4...   \n",
       "3526  [0.57, 0.57, 0.64, 0.46, 0.49, 0.53, 0.62, 0.5...   \n",
       "3527  [1.0, 0.64, 0.57, 0.57, 0.64, 0.46, 0.48, 0.55...   \n",
       "3528  [0.57, 0.57, 0.64, 0.46, 0.55, 0.53, 0.62, 0.5...   \n",
       "3529  [0.57, 0.57, 0.64, 0.46, 0.62, 0.59, 0.59, 0.5...   \n",
       "\n",
       "                                             fields_old    f_per_p  reading  \\\n",
       "0     ['name__1', 'name__2', 'docket_number', 'users...   7.500000     10.5   \n",
       "1     ['docket_number', 'users1_birthdate', 'male', ...  19.000000     10.5   \n",
       "2     ['of the probation department or by order of t...   4.800000     12.5   \n",
       "3     ['Name', 'Address', 'City State Zip', 'Phone',...  14.666667      6.5   \n",
       "4     ['Name', 'Address', 'City State Zip', 'Phone',...  19.000000      7.5   \n",
       "...                                                 ...        ...      ...   \n",
       "3525  ['JudDist', 'CaseNum', 'County', 'Header', 'Ra...   7.500000     31.5   \n",
       "3526  ['JudDist', 'CaseNum', 'County', 'Header', 'Ra...   7.500000     29.5   \n",
       "3527  ['Name', 'Defendent', 'JudDist', 'CaseNum', 'C...   9.000000     14.5   \n",
       "3528  ['JudDist', 'CaseNum', 'County', 'Header', 'Ra...   8.000000     18.5   \n",
       "3529  ['JudDist', 'CaseNum', 'County', 'Header', 'un...   8.000000     11.5   \n",
       "\n",
       "                                      list  \\\n",
       "0                                       []   \n",
       "1                       ['GO-00-00-00-00']   \n",
       "2                                       []   \n",
       "3                                       []   \n",
       "4                       ['GO-00-00-00-00']   \n",
       "...                                    ...   \n",
       "3525                    ['CR-00-00-00-00']   \n",
       "3526                                    []   \n",
       "3527  ['CO-00-00-00-00', 'CO-07-00-00-00']   \n",
       "3528                    ['CR-00-00-00-00']   \n",
       "3529                                    []   \n",
       "\n",
       "                                                   text  \n",
       "0     COMMUNITY SERVICE WORKSHEET\\n THIRD DISTRICT J...  \n",
       "1     THIRD DISTRICT JUVENILE COURT WORK PROGRAM REF...  \n",
       "2     Page 1 of 4\\n UTAH STATE DISTRICT JUVENILE COU...  \n",
       "3     Consent to Adoption and Waiver of \\n Rights\\n ...  \n",
       "4     Adoption\\n \\n Agreement\\n \\n Approved Board of...  \n",
       "...                                                 ...  \n",
       "3525  Probation Violation or Violation of Sentencing...  \n",
       "3526  Probation Violation or Violation of Sentencing...  \n",
       "3527  English Somali Form Page 1 of 2 Approved by Co...  \n",
       "3528  Probation Violation or Violation of Sentencing...  \n",
       "3529  Form - Vietnamese Translation . Page 1 of 2 . ...  \n",
       "\n",
       "[3530 rows x 16 columns]"
      ]
     },
     "metadata": {},
     "output_type": "display_data"
    }
   ],
   "source": [
    "df1 = pd.read_csv(\"../data/processed/form_data.csv\")\n",
    "display(df1)"
   ]
  },
  {
   "cell_type": "code",
   "execution_count": 51,
   "metadata": {},
   "outputs": [
    {
     "data": {
      "text/html": [
       "<div>\n",
       "<style scoped>\n",
       "    .dataframe tbody tr th:only-of-type {\n",
       "        vertical-align: middle;\n",
       "    }\n",
       "\n",
       "    .dataframe tbody tr th {\n",
       "        vertical-align: top;\n",
       "    }\n",
       "\n",
       "    .dataframe thead th {\n",
       "        text-align: right;\n",
       "    }\n",
       "</style>\n",
       "<table border=\"1\" class=\"dataframe\">\n",
       "  <thead>\n",
       "    <tr style=\"text-align: right;\">\n",
       "      <th></th>\n",
       "      <th>id</th>\n",
       "      <th>jurisdiction</th>\n",
       "      <th>source</th>\n",
       "      <th>title</th>\n",
       "      <th>group</th>\n",
       "      <th>url</th>\n",
       "      <th>filename</th>\n",
       "      <th>downloaded</th>\n",
       "      <th>pages</th>\n",
       "      <th>fields</th>\n",
       "      <th>fields_conf</th>\n",
       "      <th>fields_old</th>\n",
       "      <th>f_per_p</th>\n",
       "      <th>reading</th>\n",
       "      <th>list</th>\n",
       "      <th>text</th>\n",
       "      <th>downloaded_on</th>\n",
       "    </tr>\n",
       "  </thead>\n",
       "  <tbody>\n",
       "    <tr>\n",
       "      <th>0</th>\n",
       "      <td>04b3a0734774c02edf8eb9056d23954aa38e96c77c3392...</td>\n",
       "      <td>UT</td>\n",
       "      <td>www.utcourts.gov</td>\n",
       "      <td>Community Service Worksheet Third District Juv...</td>\n",
       "      <td>3rd District Juvenile Court: Forms and Pamphlets</td>\n",
       "      <td>https://www.utcourts.gov/courts/juv/juvsites/3...</td>\n",
       "      <td>COMMUNITY%20SERVICE%20WORKSHEET-FRONT%20AND%20...</td>\n",
       "      <td>2021-11-11</td>\n",
       "      <td>2.0</td>\n",
       "      <td>['name__1', 'name__2', '*docket_number', '*use...</td>\n",
       "      <td>[0.63, 0.61, 1, 1, 1, 0.61, 0.52, 0.53, 0.6, 0...</td>\n",
       "      <td>['name__1', 'name__2', 'docket_number', 'users...</td>\n",
       "      <td>7.500000</td>\n",
       "      <td>10.5</td>\n",
       "      <td>[]</td>\n",
       "      <td>COMMUNITY SERVICE WORKSHEET\\n THIRD DISTRICT J...</td>\n",
       "      <td>NaN</td>\n",
       "    </tr>\n",
       "    <tr>\n",
       "      <th>1</th>\n",
       "      <td>6e420f1b3575cfd8ef94b71977da9e38252e3395a78439...</td>\n",
       "      <td>UT</td>\n",
       "      <td>www.utcourts.gov</td>\n",
       "      <td>Third District Juvenile Court Work Program Ref...</td>\n",
       "      <td>3rd District Juvenile Court: Forms and Pamphlets</td>\n",
       "      <td>https://www.utcourts.gov/courts/juv/juvsites/3...</td>\n",
       "      <td>Work_Crew_Application-2007.pdf</td>\n",
       "      <td>2021-11-11</td>\n",
       "      <td>2.0</td>\n",
       "      <td>['*docket_number', '*users1_birthdate', 'male'...</td>\n",
       "      <td>[1, 1, 0.69, 0.61, 1, 1, 1, 0.56, 0.68, 0.67, ...</td>\n",
       "      <td>['docket_number', 'users1_birthdate', 'male', ...</td>\n",
       "      <td>19.000000</td>\n",
       "      <td>10.5</td>\n",
       "      <td>['GO-00-00-00-00']</td>\n",
       "      <td>THIRD DISTRICT JUVENILE COURT WORK PROGRAM REF...</td>\n",
       "      <td>NaN</td>\n",
       "    </tr>\n",
       "    <tr>\n",
       "      <th>2</th>\n",
       "      <td>2532cd2b6d3aaff8c47726a0abd168fb4e5cdb4977c065...</td>\n",
       "      <td>UT</td>\n",
       "      <td>www.utcourts.gov</td>\n",
       "      <td>Utah State District Juvenile Court Probation O...</td>\n",
       "      <td>3rd District Juvenile Court: Forms and Pamphlets</td>\n",
       "      <td>https://www.utcourts.gov/courts/juv/juvsites/3...</td>\n",
       "      <td>Probation%20Order%20revised.050502.pdf</td>\n",
       "      <td>2021-11-11</td>\n",
       "      <td>5.0</td>\n",
       "      <td>['probation_department_order_court', 'special_...</td>\n",
       "      <td>[0.73, 0.65, 0.7, 0.54, 0.68, 0.67, 0.62, 0.59...</td>\n",
       "      <td>['of the probation department or by order of t...</td>\n",
       "      <td>4.800000</td>\n",
       "      <td>12.5</td>\n",
       "      <td>[]</td>\n",
       "      <td>Page 1 of 4\\n UTAH STATE DISTRICT JUVENILE COU...</td>\n",
       "      <td>NaN</td>\n",
       "    </tr>\n",
       "    <tr>\n",
       "      <th>3</th>\n",
       "      <td>f6a6814890f21c11524d5785d772272916ff95909b7dba...</td>\n",
       "      <td>UT</td>\n",
       "      <td>www.utcourts.gov</td>\n",
       "      <td>Adoptee's Consent to Adoption and Waiver of Ri...</td>\n",
       "      <td>Adopting a Minor Stepchild</td>\n",
       "      <td>https://www.utcourts.gov/howto/family/adoption...</td>\n",
       "      <td>02_Consent_Adoptee.pdf</td>\n",
       "      <td>2021-11-11</td>\n",
       "      <td>3.0</td>\n",
       "      <td>['*users1_name', '*users1_address_line_one', '...</td>\n",
       "      <td>[1.0, 1.0, 1.0, 1.0, 0.61, 0.7, 0.67, 1.0, 0.6...</td>\n",
       "      <td>['Name', 'Address', 'City State Zip', 'Phone',...</td>\n",
       "      <td>14.666667</td>\n",
       "      <td>6.5</td>\n",
       "      <td>[]</td>\n",
       "      <td>Consent to Adoption and Waiver of \\n Rights\\n ...</td>\n",
       "      <td>NaN</td>\n",
       "    </tr>\n",
       "    <tr>\n",
       "      <th>4</th>\n",
       "      <td>be656a9a361db7c3532026b0bae372e704beb160fce37e...</td>\n",
       "      <td>UT</td>\n",
       "      <td>www.utcourts.gov</td>\n",
       "      <td>Adoption Agreement</td>\n",
       "      <td>Adopting a Minor Stepchild</td>\n",
       "      <td>https://www.utcourts.gov/howto/family/adoption...</td>\n",
       "      <td>08_Agreement.pdf</td>\n",
       "      <td>2021-11-11</td>\n",
       "      <td>1.0</td>\n",
       "      <td>['*users1_name', '*users1_address_line_one', '...</td>\n",
       "      <td>[1.0, 1.0, 1.0, 1.0, 0.61, 0.7, 0.67, 1.0, 0.6...</td>\n",
       "      <td>['Name', 'Address', 'City State Zip', 'Phone',...</td>\n",
       "      <td>19.000000</td>\n",
       "      <td>7.5</td>\n",
       "      <td>['GO-00-00-00-00']</td>\n",
       "      <td>Adoption\\n \\n Agreement\\n \\n Approved Board of...</td>\n",
       "      <td>NaN</td>\n",
       "    </tr>\n",
       "    <tr>\n",
       "      <th>...</th>\n",
       "      <td>...</td>\n",
       "      <td>...</td>\n",
       "      <td>...</td>\n",
       "      <td>...</td>\n",
       "      <td>...</td>\n",
       "      <td>...</td>\n",
       "      <td>...</td>\n",
       "      <td>...</td>\n",
       "      <td>...</td>\n",
       "      <td>...</td>\n",
       "      <td>...</td>\n",
       "      <td>...</td>\n",
       "      <td>...</td>\n",
       "      <td>...</td>\n",
       "      <td>...</td>\n",
       "      <td>...</td>\n",
       "      <td>...</td>\n",
       "    </tr>\n",
       "    <tr>\n",
       "      <th>10013</th>\n",
       "      <td>3649f8e39b42bd6653f77444dbac2a9f</td>\n",
       "      <td>WY</td>\n",
       "      <td>courts.state.wy.us</td>\n",
       "      <td>Order Granting Motion to Terminate Stalking Or...</td>\n",
       "      <td>Protection Orders</td>\n",
       "      <td>https://www.courts.state.wy.us/wp-content/uplo...</td>\n",
       "      <td>STOrderGrantingMotiontoTerminate.pdf</td>\n",
       "      <td>NaN</td>\n",
       "      <td>1</td>\n",
       "      <td>[*users1_name, st, name, terminate_order_prote...</td>\n",
       "      <td>[1.0, 0.5, 0.55, 0.55, 0.62, 0.58, 0.61, 0.51,...</td>\n",
       "      <td>[Name, ST, Name_2, Terminate Order of Protecti...</td>\n",
       "      <td>11.000000</td>\n",
       "      <td>12.5</td>\n",
       "      <td>[CO-07-00-00-00, CO-00-00-00-00]</td>\n",
       "      <td>Order Granting Motion to Terminate Page 1 of 1...</td>\n",
       "      <td>2022-03-28</td>\n",
       "    </tr>\n",
       "    <tr>\n",
       "      <th>10014</th>\n",
       "      <td>82de0286f4668c01249ac6a7b854f980</td>\n",
       "      <td>WY</td>\n",
       "      <td>courts.state.wy.us</td>\n",
       "      <td>Order Denying Motion to Terminate Stalking Ord...</td>\n",
       "      <td>Protection Orders</td>\n",
       "      <td>https://www.courts.state.wy.us/wp-content/uplo...</td>\n",
       "      <td>STOrderDenyingMotiontoTerminate.pdf</td>\n",
       "      <td>NaN</td>\n",
       "      <td>1</td>\n",
       "      <td>[*users1_name, st, name, undefined, remains_fu...</td>\n",
       "      <td>[1.0, 0.5, 0.55, 0.62, 0.63, 0.51, 0.5, 0.58, ...</td>\n",
       "      <td>[Name, ST, Name_2, undefined, remains in full ...</td>\n",
       "      <td>9.000000</td>\n",
       "      <td>7.5</td>\n",
       "      <td>[CO-07-00-00-00, CO-00-00-00-00]</td>\n",
       "      <td>Order Denying Motion to Terminate Page 1 of 1 ...</td>\n",
       "      <td>2022-03-28</td>\n",
       "    </tr>\n",
       "    <tr>\n",
       "      <th>10015</th>\n",
       "      <td>6392da792d342e0a8813d74e36e4402b</td>\n",
       "      <td>WY</td>\n",
       "      <td>courts.state.wy.us</td>\n",
       "      <td>Stalking Motion and Affidavit to Show Cause</td>\n",
       "      <td>Protection Orders</td>\n",
       "      <td>https://www.courts.state.wy.us/wp-content/uplo...</td>\n",
       "      <td>STMotionandAffidavitforOSC.pdf</td>\n",
       "      <td>NaN</td>\n",
       "      <td>2</td>\n",
       "      <td>[*users1_name, st, name, respondent_violated_o...</td>\n",
       "      <td>[1.0, 0.5, 0.55, 0.57, 0.66, 0.56, 0.42, 0.46,...</td>\n",
       "      <td>[Name, ST, Name_2, 2 Respondent violated the O...</td>\n",
       "      <td>7.500000</td>\n",
       "      <td>9.5</td>\n",
       "      <td>[]</td>\n",
       "      <td>Motion and Affidavit for Order . to Show Cause...</td>\n",
       "      <td>2022-03-28</td>\n",
       "    </tr>\n",
       "    <tr>\n",
       "      <th>10016</th>\n",
       "      <td>b11a0c83c9adb1053662f328adb97851</td>\n",
       "      <td>WY</td>\n",
       "      <td>courts.state.wy.us</td>\n",
       "      <td>Order to Show Cause in Stalking Cause</td>\n",
       "      <td>Protection Orders</td>\n",
       "      <td>https://www.courts.state.wy.us/wp-content/uplo...</td>\n",
       "      <td>STOrdertoShowCause.pdf</td>\n",
       "      <td>NaN</td>\n",
       "      <td>2</td>\n",
       "      <td>[*users1_name, st, name, based_records_proceed...</td>\n",
       "      <td>[1.0, 0.5, 0.55, 0.49, 0.51, 0.5, 0.51, 0.52]</td>\n",
       "      <td>[Name, ST, Name_2, Based on the records and pr...</td>\n",
       "      <td>4.000000</td>\n",
       "      <td>10.5</td>\n",
       "      <td>[FA-07-00-00-00, CO-07-00-00-00, CR-00-00-00-0...</td>\n",
       "      <td>Stalking Order to Show Cause Page 1 of 1 . Rev...</td>\n",
       "      <td>2022-03-28</td>\n",
       "    </tr>\n",
       "    <tr>\n",
       "      <th>10017</th>\n",
       "      <td>e8a0301e6d1dbc9a39277014da3f0806</td>\n",
       "      <td>WY</td>\n",
       "      <td>courts.state.wy.us</td>\n",
       "      <td>Case Cover Sheet</td>\n",
       "      <td>Other Forms</td>\n",
       "      <td>http://courts.state.wy.us/wp-content/uploads/2...</td>\n",
       "      <td>WRCP31Final_CivilCoverSheet-20150708.pdf</td>\n",
       "      <td>NaN</td>\n",
       "      <td>1</td>\n",
       "      <td>[unknown__1, unknown__2, plaintiff_name_curren...</td>\n",
       "      <td>[0.55, 0.5, 0.55, 1.0, 0.59, 0.68, 0.69, 0.53,...</td>\n",
       "      <td>[1, 2, Plaintiff  Name and Current Address, De...</td>\n",
       "      <td>12.000000</td>\n",
       "      <td>11.5</td>\n",
       "      <td>[]</td>\n",
       "      <td>CIVIL COVER SHEET. This civil cover sheet and ...</td>\n",
       "      <td>2022-03-28</td>\n",
       "    </tr>\n",
       "  </tbody>\n",
       "</table>\n",
       "<p>10018 rows × 17 columns</p>\n",
       "</div>"
      ],
      "text/plain": [
       "                                                      id jurisdiction  \\\n",
       "0      04b3a0734774c02edf8eb9056d23954aa38e96c77c3392...           UT   \n",
       "1      6e420f1b3575cfd8ef94b71977da9e38252e3395a78439...           UT   \n",
       "2      2532cd2b6d3aaff8c47726a0abd168fb4e5cdb4977c065...           UT   \n",
       "3      f6a6814890f21c11524d5785d772272916ff95909b7dba...           UT   \n",
       "4      be656a9a361db7c3532026b0bae372e704beb160fce37e...           UT   \n",
       "...                                                  ...          ...   \n",
       "10013                   3649f8e39b42bd6653f77444dbac2a9f           WY   \n",
       "10014                   82de0286f4668c01249ac6a7b854f980           WY   \n",
       "10015                   6392da792d342e0a8813d74e36e4402b           WY   \n",
       "10016                   b11a0c83c9adb1053662f328adb97851           WY   \n",
       "10017                   e8a0301e6d1dbc9a39277014da3f0806           WY   \n",
       "\n",
       "                   source                                              title  \\\n",
       "0        www.utcourts.gov  Community Service Worksheet Third District Juv...   \n",
       "1        www.utcourts.gov  Third District Juvenile Court Work Program Ref...   \n",
       "2        www.utcourts.gov  Utah State District Juvenile Court Probation O...   \n",
       "3        www.utcourts.gov  Adoptee's Consent to Adoption and Waiver of Ri...   \n",
       "4        www.utcourts.gov                                Adoption Agreement    \n",
       "...                   ...                                                ...   \n",
       "10013  courts.state.wy.us  Order Granting Motion to Terminate Stalking Or...   \n",
       "10014  courts.state.wy.us  Order Denying Motion to Terminate Stalking Ord...   \n",
       "10015  courts.state.wy.us        Stalking Motion and Affidavit to Show Cause   \n",
       "10016  courts.state.wy.us              Order to Show Cause in Stalking Cause   \n",
       "10017  courts.state.wy.us                                   Case Cover Sheet   \n",
       "\n",
       "                                                  group  \\\n",
       "0      3rd District Juvenile Court: Forms and Pamphlets   \n",
       "1      3rd District Juvenile Court: Forms and Pamphlets   \n",
       "2      3rd District Juvenile Court: Forms and Pamphlets   \n",
       "3                            Adopting a Minor Stepchild   \n",
       "4                            Adopting a Minor Stepchild   \n",
       "...                                                 ...   \n",
       "10013                                 Protection Orders   \n",
       "10014                                 Protection Orders   \n",
       "10015                                 Protection Orders   \n",
       "10016                                 Protection Orders   \n",
       "10017                                       Other Forms   \n",
       "\n",
       "                                                     url  \\\n",
       "0      https://www.utcourts.gov/courts/juv/juvsites/3...   \n",
       "1      https://www.utcourts.gov/courts/juv/juvsites/3...   \n",
       "2      https://www.utcourts.gov/courts/juv/juvsites/3...   \n",
       "3      https://www.utcourts.gov/howto/family/adoption...   \n",
       "4      https://www.utcourts.gov/howto/family/adoption...   \n",
       "...                                                  ...   \n",
       "10013  https://www.courts.state.wy.us/wp-content/uplo...   \n",
       "10014  https://www.courts.state.wy.us/wp-content/uplo...   \n",
       "10015  https://www.courts.state.wy.us/wp-content/uplo...   \n",
       "10016  https://www.courts.state.wy.us/wp-content/uplo...   \n",
       "10017  http://courts.state.wy.us/wp-content/uploads/2...   \n",
       "\n",
       "                                                filename  downloaded pages  \\\n",
       "0      COMMUNITY%20SERVICE%20WORKSHEET-FRONT%20AND%20...  2021-11-11   2.0   \n",
       "1                         Work_Crew_Application-2007.pdf  2021-11-11   2.0   \n",
       "2                 Probation%20Order%20revised.050502.pdf  2021-11-11   5.0   \n",
       "3                                 02_Consent_Adoptee.pdf  2021-11-11   3.0   \n",
       "4                                       08_Agreement.pdf  2021-11-11   1.0   \n",
       "...                                                  ...         ...   ...   \n",
       "10013               STOrderGrantingMotiontoTerminate.pdf         NaN     1   \n",
       "10014                STOrderDenyingMotiontoTerminate.pdf         NaN     1   \n",
       "10015                     STMotionandAffidavitforOSC.pdf         NaN     2   \n",
       "10016                             STOrdertoShowCause.pdf         NaN     2   \n",
       "10017           WRCP31Final_CivilCoverSheet-20150708.pdf         NaN     1   \n",
       "\n",
       "                                                  fields  \\\n",
       "0      ['name__1', 'name__2', '*docket_number', '*use...   \n",
       "1      ['*docket_number', '*users1_birthdate', 'male'...   \n",
       "2      ['probation_department_order_court', 'special_...   \n",
       "3      ['*users1_name', '*users1_address_line_one', '...   \n",
       "4      ['*users1_name', '*users1_address_line_one', '...   \n",
       "...                                                  ...   \n",
       "10013  [*users1_name, st, name, terminate_order_prote...   \n",
       "10014  [*users1_name, st, name, undefined, remains_fu...   \n",
       "10015  [*users1_name, st, name, respondent_violated_o...   \n",
       "10016  [*users1_name, st, name, based_records_proceed...   \n",
       "10017  [unknown__1, unknown__2, plaintiff_name_curren...   \n",
       "\n",
       "                                             fields_conf  \\\n",
       "0      [0.63, 0.61, 1, 1, 1, 0.61, 0.52, 0.53, 0.6, 0...   \n",
       "1      [1, 1, 0.69, 0.61, 1, 1, 1, 0.56, 0.68, 0.67, ...   \n",
       "2      [0.73, 0.65, 0.7, 0.54, 0.68, 0.67, 0.62, 0.59...   \n",
       "3      [1.0, 1.0, 1.0, 1.0, 0.61, 0.7, 0.67, 1.0, 0.6...   \n",
       "4      [1.0, 1.0, 1.0, 1.0, 0.61, 0.7, 0.67, 1.0, 0.6...   \n",
       "...                                                  ...   \n",
       "10013  [1.0, 0.5, 0.55, 0.55, 0.62, 0.58, 0.61, 0.51,...   \n",
       "10014  [1.0, 0.5, 0.55, 0.62, 0.63, 0.51, 0.5, 0.58, ...   \n",
       "10015  [1.0, 0.5, 0.55, 0.57, 0.66, 0.56, 0.42, 0.46,...   \n",
       "10016      [1.0, 0.5, 0.55, 0.49, 0.51, 0.5, 0.51, 0.52]   \n",
       "10017  [0.55, 0.5, 0.55, 1.0, 0.59, 0.68, 0.69, 0.53,...   \n",
       "\n",
       "                                              fields_old    f_per_p reading  \\\n",
       "0      ['name__1', 'name__2', 'docket_number', 'users...   7.500000    10.5   \n",
       "1      ['docket_number', 'users1_birthdate', 'male', ...  19.000000    10.5   \n",
       "2      ['of the probation department or by order of t...   4.800000    12.5   \n",
       "3      ['Name', 'Address', 'City State Zip', 'Phone',...  14.666667     6.5   \n",
       "4      ['Name', 'Address', 'City State Zip', 'Phone',...  19.000000     7.5   \n",
       "...                                                  ...        ...     ...   \n",
       "10013  [Name, ST, Name_2, Terminate Order of Protecti...  11.000000    12.5   \n",
       "10014  [Name, ST, Name_2, undefined, remains in full ...   9.000000     7.5   \n",
       "10015  [Name, ST, Name_2, 2 Respondent violated the O...   7.500000     9.5   \n",
       "10016  [Name, ST, Name_2, Based on the records and pr...   4.000000    10.5   \n",
       "10017  [1, 2, Plaintiff  Name and Current Address, De...  12.000000    11.5   \n",
       "\n",
       "                                                    list  \\\n",
       "0                                                     []   \n",
       "1                                     ['GO-00-00-00-00']   \n",
       "2                                                     []   \n",
       "3                                                     []   \n",
       "4                                     ['GO-00-00-00-00']   \n",
       "...                                                  ...   \n",
       "10013                   [CO-07-00-00-00, CO-00-00-00-00]   \n",
       "10014                   [CO-07-00-00-00, CO-00-00-00-00]   \n",
       "10015                                                 []   \n",
       "10016  [FA-07-00-00-00, CO-07-00-00-00, CR-00-00-00-0...   \n",
       "10017                                                 []   \n",
       "\n",
       "                                                    text downloaded_on  \n",
       "0      COMMUNITY SERVICE WORKSHEET\\n THIRD DISTRICT J...           NaN  \n",
       "1      THIRD DISTRICT JUVENILE COURT WORK PROGRAM REF...           NaN  \n",
       "2      Page 1 of 4\\n UTAH STATE DISTRICT JUVENILE COU...           NaN  \n",
       "3      Consent to Adoption and Waiver of \\n Rights\\n ...           NaN  \n",
       "4      Adoption\\n \\n Agreement\\n \\n Approved Board of...           NaN  \n",
       "...                                                  ...           ...  \n",
       "10013  Order Granting Motion to Terminate Page 1 of 1...    2022-03-28  \n",
       "10014  Order Denying Motion to Terminate Page 1 of 1 ...    2022-03-28  \n",
       "10015  Motion and Affidavit for Order . to Show Cause...    2022-03-28  \n",
       "10016  Stalking Order to Show Cause Page 1 of 1 . Rev...    2022-03-28  \n",
       "10017  CIVIL COVER SHEET. This civil cover sheet and ...    2022-03-28  \n",
       "\n",
       "[10018 rows x 17 columns]"
      ]
     },
     "metadata": {},
     "output_type": "display_data"
    }
   ],
   "source": [
    "dfall = pd.concat([df1,df0],ignore_index=True)\n",
    "display(dfall)"
   ]
  },
  {
   "cell_type": "code",
   "execution_count": 52,
   "metadata": {},
   "outputs": [],
   "source": [
    "dfall.to_csv(\"../data/processed/form_data.csv\", index=False, encoding=\"utf-8\")    "
   ]
  },
  {
   "cell_type": "code",
   "execution_count": 6,
   "metadata": {},
   "outputs": [],
   "source": [
    "#df.to_csv(\"../data/processed/form_data.csv\", index=False, encoding=\"utf-8\")    "
   ]
  },
  {
   "cell_type": "code",
   "execution_count": null,
   "metadata": {},
   "outputs": [],
   "source": []
  },
  {
   "cell_type": "code",
   "execution_count": null,
   "metadata": {},
   "outputs": [],
   "source": []
  },
  {
   "cell_type": "code",
   "execution_count": null,
   "metadata": {},
   "outputs": [],
   "source": []
  },
  {
   "cell_type": "code",
   "execution_count": null,
   "metadata": {},
   "outputs": [],
   "source": []
  },
  {
   "cell_type": "code",
   "execution_count": null,
   "metadata": {},
   "outputs": [],
   "source": []
  },
  {
   "cell_type": "code",
   "execution_count": null,
   "metadata": {},
   "outputs": [],
   "source": []
  },
  {
   "cell_type": "code",
   "execution_count": null,
   "metadata": {},
   "outputs": [],
   "source": []
  },
  {
   "cell_type": "code",
   "execution_count": 23,
   "metadata": {},
   "outputs": [
    {
     "name": "stdout",
     "output_type": "stream",
     "text": [
      "10.5\n",
      "10.5\n",
      "12.5\n",
      "6.5\n",
      "7.5\n",
      "8.5\n",
      "11.5\n",
      "8.5\n",
      "7.5\n",
      "6.5\n",
      "7.5\n",
      "8.5\n",
      "6.5\n",
      "6.5\n",
      "8.5\n",
      "6.5\n",
      "6.5\n",
      "5.5\n",
      "7.5\n",
      "8.5\n",
      "6.5\n",
      "7.5\n",
      "19.5\n",
      "6.5\n",
      "7.5\n",
      "5.5\n",
      "5.5\n",
      "7.5\n",
      "5.5\n",
      "7.5\n",
      "6.5\n",
      "6.5\n",
      "7.5\n",
      "6.5\n",
      "7.5\n",
      "7.5\n",
      "7.5\n",
      "7.5\n",
      "7.5\n",
      "12.5\n",
      "9.5\n",
      "6.5\n",
      "12.5\n",
      "9.5\n",
      "8.5\n",
      "10.5\n",
      "8.5\n",
      "11.5\n",
      "9.5\n",
      "5.5\n",
      "8.5\n",
      "8.5\n",
      "9.5\n",
      "8.5\n",
      "5.5\n",
      "5.5\n",
      "4.5\n",
      "5.5\n",
      "5.5\n",
      "8.5\n",
      "8.5\n",
      "9.5\n",
      "6.5\n",
      "14.5\n",
      "11.5\n",
      "6.5\n",
      "15.5\n",
      "5.5\n",
      "10.5\n",
      "12.5\n",
      "12.5\n",
      "7.5\n",
      "12.5\n",
      "7.5\n",
      "12.5\n",
      "5.5\n",
      "10.5\n",
      "10.5\n",
      "6.5\n",
      "6.5\n",
      "7.5\n",
      "7.5\n",
      "9.5\n",
      "6.5\n",
      "10.5\n",
      "10.5\n",
      "7.5\n",
      "6.5\n",
      "9.5\n",
      "10.5\n",
      "7.5\n",
      "9.5\n",
      "10.5\n",
      "8.5\n",
      "8.5\n",
      "9.5\n",
      "8.5\n",
      "9.5\n",
      "9.5\n",
      "14.5\n",
      "7.5\n",
      "10.5\n",
      "10.5\n",
      "15.5\n",
      "7.5\n",
      "9.5\n",
      "9.5\n",
      "11.5\n",
      "6.5\n",
      "9.5\n",
      "12.5\n",
      "7.5\n",
      "7.5\n",
      "12.5\n",
      "11.5\n",
      "11.5\n",
      "11.5\n",
      "5.5\n",
      "11.5\n",
      "10.5\n",
      "6.5\n",
      "7.5\n",
      "8.5\n",
      "10.5\n",
      "8.5\n",
      "8.5\n",
      "8.5\n",
      "9.5\n",
      "10.5\n",
      "12.5\n",
      "6.5\n",
      "5.5\n",
      "8.5\n",
      "8.5\n",
      "12.5\n",
      "6.5\n",
      "6.5\n",
      "6.5\n",
      "8.5\n",
      "9.5\n",
      "15.5\n",
      "6.5\n",
      "6.5\n",
      "8.5\n",
      "5.5\n",
      "8.5\n",
      "7.5\n",
      "7.5\n",
      "7.5\n",
      "8.5\n",
      "5.5\n",
      "6.5\n",
      "6.5\n",
      "9.5\n",
      "12.5\n",
      "10.5\n",
      "10.5\n",
      "7.5\n",
      "8.5\n",
      "8.5\n",
      "8.5\n",
      "6.5\n",
      "6.5\n",
      "9.5\n",
      "12.5\n",
      "5.5\n",
      "8.5\n",
      "235.5\n",
      "27.5\n",
      "13.5\n",
      "7.5\n",
      "4.5\n",
      "7.5\n",
      "10.5\n",
      "7.5\n",
      "9.5\n",
      "10.5\n",
      "6.5\n",
      "11.5\n",
      "8.5\n",
      "7.5\n",
      "10.5\n",
      "8.5\n",
      "10.5\n",
      "8.5\n",
      "12.5\n",
      "8.5\n",
      "7.5\n",
      "8.5\n",
      "8.5\n",
      "8.5\n",
      "7.5\n",
      "8.5\n",
      "8.5\n",
      "6.5\n",
      "9.5\n",
      "10.5\n",
      "10.5\n",
      "10.5\n",
      "10.5\n",
      "15.5\n",
      "10.5\n",
      "12.5\n",
      "8.5\n",
      "16.5\n",
      "7.5\n",
      "10.5\n",
      "7.5\n",
      "6.5\n",
      "7.5\n",
      "6.5\n",
      "6.5\n",
      "7.5\n",
      "7.5\n",
      "5.5\n",
      "12.5\n",
      "6.5\n",
      "6.5\n",
      "6.5\n",
      "4.5\n",
      "6.5\n",
      "7.5\n",
      "8.5\n",
      "7.5\n",
      "5.5\n",
      "12.5\n",
      "9.5\n",
      "12.5\n",
      "15.5\n",
      "16.5\n",
      "10.5\n",
      "9.5\n",
      "10.5\n",
      "11.5\n",
      "9.5\n",
      "7.5\n",
      "7.5\n",
      "6.5\n",
      "10.5\n",
      "6.5\n",
      "10.5\n",
      "6.5\n",
      "9.5\n",
      "8.5\n",
      "9.5\n",
      "9.5\n",
      "13.5\n",
      "7.5\n",
      "9.5\n",
      "8.5\n",
      "12.5\n",
      "10.5\n",
      "9.5\n",
      "10.5\n",
      "6.5\n",
      "10.5\n",
      "11.5\n",
      "6.5\n",
      "10.5\n",
      "7.5\n",
      "6.5\n",
      "5.5\n",
      "6.5\n",
      "7.5\n",
      "6.5\n",
      "9.5\n",
      "6.5\n",
      "14.5\n",
      "7.5\n",
      "7.5\n",
      "8.5\n",
      "9.5\n",
      "9.5\n",
      "8.5\n",
      "13.5\n",
      "9.5\n",
      "9.5\n",
      "6.5\n",
      "6.5\n",
      "9.5\n",
      "9.5\n",
      "16.5\n",
      "12.5\n",
      "7.5\n",
      "6.5\n",
      "12.5\n",
      "6.5\n",
      "9.5\n",
      "6.5\n",
      "6.5\n",
      "13.5\n",
      "8.5\n",
      "6.5\n",
      "10.5\n",
      "7.5\n",
      "6.5\n",
      "8.5\n",
      "9.5\n",
      "9.5\n",
      "5.5\n",
      "5.5\n",
      "5.5\n",
      "10.5\n",
      "10.5\n",
      "8.5\n",
      "8.5\n",
      "9.5\n",
      "9.5\n",
      "9.5\n",
      "12.5\n",
      "17.5\n",
      "12.5\n",
      "7.5\n",
      "7.5\n",
      "7.5\n",
      "7.5\n",
      "6.5\n",
      "6.5\n",
      "8.5\n",
      "8.5\n",
      "10.5\n",
      "6.5\n",
      "7.5\n",
      "11.5\n",
      "6.5\n",
      "7.5\n",
      "6.5\n",
      "6.5\n",
      "6.5\n",
      "6.5\n",
      "6.5\n",
      "5.5\n",
      "8.5\n",
      "6.5\n",
      "12.5\n",
      "9.5\n",
      "7.5\n",
      "10.5\n",
      "7.5\n",
      "10.5\n",
      "12.5\n",
      "12.5\n",
      "9.5\n",
      "7.5\n",
      "12.5\n",
      "12.5\n",
      "10.5\n",
      "6.5\n",
      "8.5\n",
      "5.5\n",
      "8.5\n",
      "6.5\n",
      "8.5\n",
      "6.5\n",
      "8.5\n",
      "6.5\n",
      "7.5\n",
      "7.5\n",
      "9.5\n",
      "12.5\n",
      "6.5\n",
      "8.5\n",
      "6.5\n",
      "10.5\n",
      "8.5\n",
      "6.5\n",
      "6.5\n",
      "7.5\n",
      "8.5\n",
      "12.5\n",
      "10.5\n",
      "5.5\n",
      "7.5\n",
      "9.5\n",
      "9.5\n",
      "9.5\n",
      "8.5\n",
      "6.5\n",
      "7.5\n",
      "7.5\n",
      "12.5\n",
      "12.5\n",
      "6.5\n",
      "7.5\n",
      "6.5\n",
      "7.5\n",
      "8.5\n",
      "12.5\n",
      "6.5\n",
      "7.5\n",
      "7.5\n",
      "8.5\n",
      "6.5\n",
      "8.5\n",
      "5.5\n",
      "8.5\n",
      "5.5\n",
      "9.5\n",
      "7.5\n",
      "10.5\n",
      "7.5\n",
      "8.5\n",
      "7.5\n",
      "6.5\n",
      "8.5\n",
      "6.5\n",
      "9.5\n",
      "9.5\n",
      "10.5\n",
      "4.5\n",
      "8.5\n",
      "9.5\n",
      "12.5\n",
      "6.5\n",
      "9.5\n",
      "6.5\n",
      "16.5\n",
      "6.5\n",
      "10.5\n",
      "7.5\n",
      "9.5\n",
      "12.5\n",
      "6.5\n",
      "15.5\n",
      "7.5\n",
      "8.5\n",
      "7.5\n",
      "13.5\n",
      "10.5\n",
      "7.5\n",
      "5.5\n",
      "8.5\n",
      "6.5\n",
      "10.5\n",
      "6.5\n",
      "6.5\n",
      "8.5\n",
      "6.5\n",
      "10.5\n",
      "7.5\n",
      "7.5\n",
      "7.5\n",
      "6.5\n",
      "10.5\n",
      "5.5\n",
      "4.5\n",
      "9.5\n",
      "6.5\n",
      "5.5\n",
      "4.5\n",
      "7.5\n",
      "12.5\n",
      "12.5\n",
      "10.5\n",
      "11.5\n",
      "8.5\n",
      "10.5\n",
      "6.5\n",
      "12.5\n",
      "16.5\n",
      "6.5\n",
      "12.5\n",
      "10.5\n",
      "6.5\n",
      "6.5\n",
      "6.5\n",
      "6.5\n",
      "12.5\n",
      "7.5\n",
      "11.5\n",
      "10.5\n",
      "10.5\n",
      "12.5\n",
      "12.5\n",
      "7.5\n",
      "7.5\n",
      "7.5\n",
      "9.5\n",
      "9.5\n",
      "10.5\n",
      "6.5\n",
      "7.5\n",
      "6.5\n",
      "10.5\n",
      "10.5\n",
      "8.5\n",
      "8.5\n",
      "8.5\n",
      "7.5\n",
      "10.5\n",
      "12.5\n",
      "8.5\n",
      "8.5\n",
      "8.5\n",
      "11.5\n",
      "7.5\n",
      "7.5\n",
      "7.5\n",
      "7.5\n",
      "8.5\n",
      "8.5\n",
      "8.5\n",
      "10.5\n",
      "6.5\n",
      "8.5\n",
      "9.5\n",
      "7.5\n",
      "5.5\n",
      "10.5\n",
      "6.5\n",
      "14.5\n",
      "8.5\n",
      "7.5\n",
      "6.5\n",
      "7.5\n",
      "7.5\n",
      "6.5\n",
      "11.5\n",
      "7.5\n",
      "6.5\n",
      "6.5\n",
      "8.5\n",
      "9.5\n",
      "4.5\n",
      "9.5\n",
      "8.5\n",
      "6.5\n",
      "9.5\n",
      "9.5\n",
      "8.5\n",
      "7.5\n",
      "6.5\n",
      "8.5\n",
      "7.5\n",
      "7.5\n",
      "7.5\n",
      "10.5\n",
      "7.5\n",
      "12.5\n",
      "8.5\n",
      "8.5\n",
      "9.5\n",
      "10.5\n",
      "13.5\n",
      "8.5\n",
      "9.5\n",
      "6.5\n",
      "7.5\n",
      "9.5\n",
      "9.5\n",
      "7.5\n",
      "7.5\n",
      "10.5\n",
      "10.5\n",
      "8.5\n",
      "10.5\n",
      "10.5\n",
      "6.5\n",
      "8.5\n",
      "5.5\n",
      "8.5\n",
      "7.5\n",
      "8.5\n",
      "7.5\n",
      "8.5\n",
      "6.5\n",
      "7.5\n",
      "7.5\n",
      "5.5\n",
      "8.5\n",
      "8.5\n",
      "8.5\n",
      "8.5\n",
      "7.5\n",
      "7.5\n",
      "6.5\n",
      "12.5\n",
      "8.5\n",
      "10.5\n",
      "9.5\n",
      "7.5\n",
      "6.5\n",
      "8.5\n",
      "5.5\n",
      "7.5\n",
      "8.5\n",
      "5.5\n",
      "7.5\n",
      "8.5\n",
      "9.5\n",
      "7.5\n",
      "7.5\n",
      "7.5\n",
      "17.5\n",
      "7.5\n",
      "8.5\n",
      "6.5\n",
      "6.5\n",
      "6.5\n",
      "6.5\n",
      "6.5\n",
      "12.5\n",
      "9.5\n",
      "9.5\n",
      "12.5\n",
      "8.5\n",
      "11.5\n",
      "9.5\n",
      "9.5\n",
      "6.5\n",
      "6.5\n",
      "6.5\n",
      "11.5\n",
      "11.5\n",
      "9.5\n",
      "9.5\n",
      "7.5\n",
      "11.5\n",
      "11.5\n",
      "9.5\n",
      "9.5\n",
      "9.5\n",
      "8.5\n",
      "6.5\n",
      "7.5\n",
      "7.5\n",
      "8.5\n",
      "9.5\n",
      "7.5\n",
      "10.5\n",
      "11.5\n",
      "7.5\n",
      "9.5\n",
      "8.5\n",
      "12.5\n",
      "6.5\n",
      "6.5\n",
      "9.5\n",
      "9.5\n",
      "10.5\n",
      "8.5\n",
      "10.5\n",
      "6.5\n",
      "7.5\n",
      "5.5\n",
      "6.5\n",
      "8.5\n",
      "5.5\n",
      "7.5\n",
      "8.5\n",
      "10.5\n",
      "8.5\n",
      "8.5\n",
      "9.5\n",
      "9.5\n",
      "16.5\n",
      "6.5\n",
      "6.5\n",
      "6.5\n",
      "6.5\n",
      "6.5\n",
      "6.5\n",
      "6.5\n",
      "6.5\n",
      "11.5\n",
      "11.5\n",
      "9.5\n",
      "10.5\n",
      "8.5\n",
      "13.5\n",
      "11.5\n",
      "8.5\n",
      "8.5\n",
      "8.5\n",
      "9.5\n",
      "9.5\n",
      "9.5\n",
      "12.5\n",
      "12.5\n",
      "9.5\n",
      "8.5\n",
      "10.5\n",
      "12.5\n",
      "9.5\n",
      "10.5\n",
      "6.5\n",
      "11.5\n",
      "11.5\n",
      "9.5\n",
      "8.5\n",
      "11.5\n",
      "8.5\n",
      "17.5\n",
      "8.5\n",
      "8.5\n",
      "10.5\n",
      "11.5\n",
      "12.5\n",
      "12.5\n",
      "11.5\n",
      "4.5\n",
      "10.5\n",
      "10.5\n",
      "10.5\n",
      "11.5\n",
      "9.5\n",
      "8.5\n",
      "7.5\n",
      "8.5\n",
      "9.5\n",
      "11.5\n",
      "9.5\n",
      "12.5\n",
      "13.5\n",
      "9.5\n",
      "9.5\n",
      "7.5\n",
      "10.5\n",
      "2.5\n",
      "8.5\n",
      "6.5\n",
      "8.5\n",
      "7.5\n",
      "4.5\n",
      "7.5\n",
      "9.5\n",
      "11.5\n",
      "11.5\n",
      "11.5\n",
      "9.5\n",
      "7.5\n",
      "13.5\n",
      "12.5\n",
      "10.5\n",
      "7.5\n",
      "10.5\n",
      "9.5\n",
      "7.5\n",
      "7.5\n",
      "7.5\n",
      "10.5\n",
      "11.5\n",
      "11.5\n",
      "10.5\n",
      "10.5\n",
      "25.5\n",
      "8.5\n",
      "8.5\n",
      "8.5\n",
      "11.5\n",
      "12.5\n",
      "10.5\n",
      "11.5\n",
      "11.5\n",
      "8.5\n",
      "9.5\n",
      "9.5\n",
      "26.5\n",
      "9.5\n",
      "5.5\n",
      "8.5\n",
      "10.5\n",
      "9.5\n",
      "8.5\n",
      "10.5\n",
      "12.5\n",
      "9.5\n",
      "10.5\n",
      "16.5\n",
      "11.5\n",
      "8.5\n",
      "10.5\n",
      "9.5\n",
      "9.5\n",
      "9.5\n",
      "12.5\n",
      "7.5\n",
      "6.5\n",
      "9.5\n",
      "7.5\n",
      "11.5\n",
      "12.5\n",
      "9.5\n",
      "9.5\n",
      "10.5\n",
      "9.5\n",
      "9.5\n",
      "9.5\n",
      "11.5\n",
      "12.5\n",
      "10.5\n",
      "11.5\n",
      "11.5\n",
      "10.5\n",
      "12.5\n",
      "9.5\n",
      "9.5\n",
      "9.5\n",
      "10.5\n",
      "7.5\n",
      "9.5\n",
      "8.5\n",
      "8.5\n",
      "8.5\n",
      "8.5\n",
      "8.5\n",
      "12.5\n",
      "11.5\n",
      "10.5\n",
      "10.5\n",
      "10.5\n",
      "10.5\n",
      "10.5\n",
      "7.5\n",
      "7.5\n",
      "9.5\n",
      "10.5\n",
      "9.5\n",
      "9.5\n",
      "8.5\n",
      "8.5\n",
      "9.5\n",
      "13.5\n",
      "8.5\n",
      "6.5\n",
      "8.5\n",
      "11.5\n",
      "9.5\n",
      "9.5\n",
      "9.5\n",
      "14.5\n",
      "10.5\n",
      "10.5\n",
      "10.5\n",
      "9.5\n",
      "11.5\n",
      "8.5\n",
      "14.5\n",
      "11.5\n",
      "12.5\n",
      "9.5\n",
      "9.5\n",
      "9.5\n",
      "11.5\n",
      "12.5\n",
      "12.5\n",
      "10.5\n",
      "10.5\n",
      "8.5\n",
      "8.5\n",
      "12.5\n",
      "8.5\n",
      "9.5\n",
      "9.5\n",
      "9.5\n",
      "9.5\n",
      "12.5\n",
      "9.5\n",
      "9.5\n",
      "7.5\n",
      "8.5\n",
      "6.5\n",
      "7.5\n",
      "8.5\n",
      "9.5\n",
      "13.5\n",
      "9.5\n",
      "10.5\n",
      "9.5\n",
      "13.5\n",
      "9.5\n",
      "12.5\n",
      "10.5\n",
      "8.5\n",
      "11.5\n",
      "8.5\n",
      "7.5\n",
      "12.5\n",
      "12.5\n",
      "10.5\n",
      "12.5\n",
      "10.5\n",
      "10.5\n",
      "9.5\n",
      "8.5\n",
      "8.5\n",
      "9.5\n",
      "9.5\n",
      "10.5\n",
      "11.5\n",
      "10.5\n",
      "10.5\n",
      "9.5\n",
      "9.5\n",
      "10.5\n",
      "10.5\n",
      "10.5\n",
      "8.5\n",
      "11.5\n",
      "22.5\n",
      "10.5\n",
      "8.5\n",
      "11.5\n",
      "11.5\n",
      "10.5\n",
      "6.5\n",
      "16.5\n",
      "10.5\n",
      "13.5\n",
      "9.5\n",
      "10.5\n",
      "10.5\n",
      "10.5\n",
      "5.5\n",
      "12.5\n",
      "13.5\n",
      "10.5\n",
      "8.5\n",
      "9.5\n",
      "11.5\n",
      "11.5\n",
      "8.5\n",
      "8.5\n",
      "12.5\n",
      "8.5\n",
      "11.5\n",
      "8.5\n",
      "13.5\n",
      "10.5\n",
      "9.5\n",
      "7.5\n",
      "8.5\n",
      "9.5\n",
      "8.5\n",
      "10.5\n",
      "6.5\n",
      "5.5\n",
      "7.5\n",
      "10.5\n",
      "6.5\n",
      "5.5\n",
      "9.5\n",
      "6.5\n",
      "8.5\n",
      "5.5\n",
      "9.5\n",
      "11.5\n",
      "6.5\n",
      "8.5\n",
      "9.5\n",
      "7.5\n",
      "11.5\n",
      "10.5\n",
      "10.5\n",
      "7.5\n",
      "10.5\n",
      "11.5\n",
      "16.5\n",
      "13.5\n",
      "9.5\n",
      "8.5\n",
      "8.5\n",
      "8.5\n",
      "8.5\n",
      "9.5\n",
      "8.5\n",
      "9.5\n",
      "10.5\n",
      "12.5\n",
      "7.5\n",
      "10.5\n",
      "9.5\n",
      "8.5\n",
      "8.5\n",
      "8.5\n",
      "8.5\n",
      "12.5\n",
      "10.5\n",
      "8.5\n",
      "9.5\n",
      "9.5\n",
      "8.5\n",
      "10.5\n",
      "12.5\n",
      "11.5\n",
      "10.5\n",
      "9.5\n",
      "7.5\n",
      "9.5\n",
      "9.5\n",
      "9.5\n",
      "9.5\n",
      "7.5\n",
      "10.5\n",
      "8.5\n",
      "10.5\n",
      "8.5\n",
      "9.5\n",
      "11.5\n",
      "10.5\n",
      "15.5\n",
      "10.5\n",
      "12.5\n",
      "9.5\n",
      "11.5\n",
      "12.5\n",
      "12.5\n",
      "11.5\n",
      "11.5\n",
      "10.5\n",
      "12.5\n",
      "10.5\n",
      "14.5\n",
      "9.5\n",
      "6.5\n",
      "8.5\n",
      "6.5\n",
      "8.5\n",
      "8.5\n",
      "12.5\n",
      "10.5\n",
      "11.5\n",
      "1.5\n",
      "10.5\n",
      "12.5\n",
      "7.5\n",
      "7.5\n",
      "11.5\n",
      "12.5\n",
      "9.5\n",
      "10.5\n",
      "12.5\n",
      "4.5\n",
      "4.5\n",
      "7.5\n",
      "11.5\n",
      "9.5\n",
      "10.5\n",
      "11.5\n",
      "10.5\n",
      "12.5\n",
      "10.5\n",
      "11.5\n",
      "7.5\n",
      "9.5\n",
      "8.5\n",
      "8.5\n",
      "4.5\n",
      "9.5\n",
      "5.5\n",
      "10.5\n",
      "12.5\n",
      "9.5\n",
      "12.5\n",
      "12.5\n",
      "10.5\n",
      "9.5\n",
      "12.5\n",
      "9.5\n",
      "11.5\n",
      "11.5\n",
      "13.5\n",
      "7.5\n",
      "8.5\n",
      "7.5\n",
      "7.5\n",
      "6.5\n",
      "9.5\n",
      "13.5\n",
      "6.5\n",
      "11.5\n",
      "7.5\n",
      "9.5\n",
      "11.5\n",
      "9.5\n",
      "6.5\n",
      "11.5\n",
      "7.5\n",
      "9.5\n",
      "7.5\n",
      "9.5\n",
      "10.5\n",
      "9.5\n",
      "8.5\n",
      "11.5\n",
      "8.5\n",
      "8.5\n",
      "8.5\n",
      "7.5\n",
      "3.5\n",
      "9.5\n",
      "8.5\n",
      "13.5\n",
      "14.5\n",
      "10.5\n",
      "8.5\n",
      "8.5\n",
      "7.5\n",
      "8.5\n",
      "7.5\n",
      "14.5\n",
      "16.5\n",
      "9.5\n",
      "9.5\n",
      "7.5\n",
      "7.5\n",
      "10.5\n",
      "11.5\n",
      "10.5\n",
      "7.5\n",
      "6.5\n",
      "8.5\n",
      "7.5\n",
      "7.5\n",
      "8.5\n",
      "10.5\n",
      "11.5\n",
      "10.5\n",
      "9.5\n",
      "10.5\n",
      "9.5\n",
      "8.5\n",
      "6.5\n",
      "7.5\n",
      "7.5\n",
      "5.5\n",
      "10.5\n",
      "11.5\n",
      "10.5\n",
      "11.5\n",
      "7.5\n",
      "8.5\n",
      "10.5\n",
      "10.5\n",
      "10.5\n",
      "9.5\n",
      "12.5\n",
      "10.5\n",
      "12.5\n",
      "10.5\n",
      "12.5\n",
      "13.5\n",
      "8.5\n",
      "7.5\n",
      "9.5\n",
      "8.5\n",
      "8.5\n",
      "9.5\n",
      "8.5\n",
      "8.5\n",
      "9.5\n",
      "15.5\n",
      "9.5\n",
      "7.5\n",
      "15.5\n",
      "10.5\n",
      "12.5\n",
      "8.5\n",
      "7.5\n",
      "8.5\n",
      "12.5\n",
      "10.5\n",
      "9.5\n",
      "9.5\n",
      "7.5\n",
      "7.5\n",
      "13.5\n",
      "11.5\n",
      "7.5\n",
      "7.5\n",
      "11.5\n",
      "10.5\n",
      "7.5\n",
      "10.5\n",
      "9.5\n",
      "8.5\n",
      "10.5\n",
      "8.5\n",
      "12.5\n",
      "9.5\n",
      "16.5\n",
      "13.5\n",
      "7.5\n",
      "10.5\n",
      "10.5\n",
      "12.5\n",
      "19.5\n",
      "9.5\n",
      "7.5\n",
      "8.5\n",
      "12.5\n",
      "13.5\n",
      "8.5\n",
      "9.5\n",
      "11.5\n",
      "8.5\n",
      "10.5\n",
      "8.5\n",
      "7.5\n",
      "9.5\n",
      "9.5\n",
      "8.5\n",
      "7.5\n",
      "12.5\n",
      "10.5\n",
      "12.5\n",
      "7.5\n",
      "8.5\n",
      "10.5\n",
      "9.5\n",
      "10.5\n",
      "7.5\n",
      "11.5\n",
      "9.5\n",
      "6.5\n",
      "9.5\n",
      "8.5\n",
      "9.5\n",
      "11.5\n",
      "9.5\n",
      "8.5\n",
      "11.5\n",
      "9.5\n",
      "None\n",
      "8.5\n",
      "10.5\n",
      "10.5\n",
      "7.5\n",
      "9.5\n",
      "9.5\n",
      "11.5\n",
      "9.5\n",
      "9.5\n",
      "7.5\n",
      "10.5\n",
      "7.5\n",
      "12.5\n",
      "10.5\n",
      "8.5\n",
      "12.5\n",
      "9.5\n",
      "10.5\n",
      "10.5\n",
      "7.5\n",
      "10.5\n",
      "10.5\n",
      "11.5\n",
      "12.5\n",
      "9.5\n",
      "11.5\n",
      "9.5\n",
      "9.5\n",
      "7.5\n",
      "8.5\n",
      "8.5\n",
      "10.5\n",
      "10.5\n",
      "9.5\n",
      "10.5\n",
      "11.5\n",
      "10.5\n",
      "8.5\n",
      "11.5\n",
      "9.5\n",
      "11.5\n",
      "9.5\n",
      "8.5\n",
      "9.5\n",
      "9.5\n",
      "9.5\n",
      "9.5\n",
      "9.5\n",
      "11.5\n",
      "6.5\n",
      "8.5\n",
      "9.5\n",
      "8.5\n",
      "11.5\n",
      "10.5\n",
      "11.5\n",
      "10.5\n",
      "11.5\n",
      "11.5\n",
      "11.5\n",
      "9.5\n",
      "10.5\n",
      "12.5\n",
      "8.5\n",
      "9.5\n",
      "12.5\n",
      "14.5\n",
      "10.5\n",
      "8.5\n",
      "10.5\n",
      "10.5\n",
      "12.5\n",
      "9.5\n",
      "9.5\n",
      "8.5\n",
      "6.5\n",
      "6.5\n",
      "7.5\n",
      "6.5\n",
      "9.5\n",
      "12.5\n",
      "12.5\n",
      "11.5\n",
      "10.5\n",
      "12.5\n",
      "12.5\n",
      "9.5\n",
      "8.5\n",
      "7.5\n",
      "10.5\n",
      "10.5\n",
      "10.5\n",
      "7.5\n",
      "11.5\n",
      "11.5\n",
      "10.5\n",
      "11.5\n",
      "10.5\n",
      "12.5\n",
      "11.5\n",
      "9.5\n",
      "8.5\n",
      "6.5\n",
      "8.5\n",
      "8.5\n",
      "11.5\n",
      "14.5\n",
      "8.5\n",
      "10.5\n",
      "7.5\n",
      "12.5\n",
      "12.5\n",
      "11.5\n",
      "9.5\n",
      "7.5\n",
      "9.5\n",
      "8.5\n",
      "6.5\n",
      "16.5\n",
      "10.5\n",
      "9.5\n",
      "14.5\n",
      "7.5\n",
      "10.5\n",
      "11.5\n",
      "9.5\n",
      "10.5\n",
      "9.5\n",
      "8.5\n",
      "9.5\n",
      "12.5\n",
      "9.5\n",
      "9.5\n",
      "12.5\n",
      "10.5\n",
      "15.5\n",
      "7.5\n",
      "10.5\n",
      "11.5\n",
      "8.5\n",
      "9.5\n",
      "10.5\n",
      "8.5\n",
      "11.5\n",
      "11.5\n",
      "10.5\n",
      "8.5\n",
      "11.5\n",
      "10.5\n",
      "8.5\n",
      "9.5\n",
      "10.5\n",
      "7.5\n",
      "10.5\n",
      "8.5\n",
      "12.5\n",
      "9.5\n",
      "10.5\n",
      "10.5\n",
      "8.5\n",
      "10.5\n",
      "9.5\n",
      "8.5\n",
      "7.5\n",
      "10.5\n",
      "6.5\n",
      "12.5\n",
      "9.5\n",
      "9.5\n",
      "7.5\n",
      "8.5\n",
      "11.5\n",
      "10.5\n",
      "11.5\n",
      "10.5\n",
      "15.5\n",
      "11.5\n",
      "12.5\n",
      "11.5\n",
      "11.5\n",
      "13.5\n",
      "10.5\n",
      "10.5\n",
      "12.5\n",
      "15.5\n",
      "11.5\n",
      "12.5\n",
      "14.5\n",
      "8.5\n",
      "8.5\n",
      "8.5\n",
      "4.5\n",
      "12.5\n",
      "9.5\n",
      "7.5\n",
      "8.5\n",
      "13.5\n",
      "11.5\n",
      "9.5\n",
      "8.5\n",
      "11.5\n",
      "11.5\n",
      "12.5\n",
      "9.5\n",
      "12.5\n",
      "7.5\n",
      "11.5\n",
      "7.5\n",
      "13.5\n",
      "11.5\n",
      "12.5\n",
      "8.5\n",
      "7.5\n",
      "16.5\n",
      "11.5\n",
      "14.5\n",
      "14.5\n",
      "12.5\n",
      "8.5\n",
      "10.5\n",
      "13.5\n",
      "8.5\n",
      "9.5\n",
      "11.5\n",
      "17.5\n",
      "12.5\n",
      "15.5\n",
      "7.5\n",
      "7.5\n",
      "9.5\n",
      "11.5\n",
      "9.5\n",
      "8.5\n",
      "7.5\n",
      "10.5\n",
      "8.5\n",
      "11.5\n",
      "30.5\n",
      "8.5\n",
      "13.5\n",
      "12.5\n",
      "8.5\n",
      "10.5\n",
      "8.5\n",
      "12.5\n",
      "7.5\n",
      "11.5\n",
      "10.5\n",
      "9.5\n",
      "10.5\n",
      "10.5\n",
      "10.5\n",
      "9.5\n",
      "10.5\n",
      "10.5\n",
      "11.5\n",
      "9.5\n",
      "7.5\n",
      "10.5\n",
      "9.5\n",
      "7.5\n",
      "7.5\n",
      "10.5\n",
      "12.5\n",
      "11.5\n",
      "13.5\n",
      "9.5\n",
      "7.5\n",
      "7.5\n",
      "8.5\n",
      "9.5\n",
      "9.5\n",
      "8.5\n",
      "9.5\n",
      "9.5\n",
      "9.5\n",
      "11.5\n",
      "9.5\n",
      "10.5\n",
      "12.5\n",
      "11.5\n",
      "10.5\n",
      "10.5\n",
      "12.5\n",
      "10.5\n",
      "9.5\n",
      "9.5\n",
      "11.5\n",
      "10.5\n",
      "11.5\n",
      "15.5\n",
      "13.5\n",
      "10.5\n",
      "9.5\n",
      "8.5\n",
      "11.5\n",
      "12.5\n",
      "8.5\n",
      "9.5\n",
      "11.5\n",
      "9.5\n",
      "9.5\n",
      "9.5\n",
      "11.5\n",
      "11.5\n",
      "9.5\n",
      "10.5\n",
      "9.5\n",
      "8.5\n",
      "9.5\n",
      "9.5\n",
      "9.5\n",
      "10.5\n",
      "9.5\n",
      "10.5\n",
      "9.5\n",
      "9.5\n",
      "11.5\n",
      "7.5\n",
      "9.5\n",
      "7.5\n",
      "6.5\n",
      "7.5\n",
      "8.5\n",
      "6.5\n",
      "7.5\n",
      "8.5\n",
      "7.5\n",
      "9.5\n",
      "6.5\n",
      "11.5\n",
      "9.5\n",
      "8.5\n",
      "7.5\n",
      "10.5\n",
      "8.5\n",
      "10.5\n",
      "9.5\n",
      "8.5\n",
      "8.5\n",
      "8.5\n",
      "10.5\n",
      "10.5\n",
      "9.5\n",
      "7.5\n",
      "11.5\n",
      "10.5\n",
      "9.5\n",
      "10.5\n",
      "10.5\n",
      "6.5\n",
      "6.5\n",
      "7.5\n",
      "18.5\n",
      "5.5\n",
      "12.5\n",
      "23.5\n",
      "11.5\n",
      "8.5\n",
      "16.5\n",
      "10.5\n",
      "10.5\n",
      "9.5\n",
      "10.5\n",
      "9.5\n",
      "11.5\n",
      "9.5\n",
      "8.5\n",
      "9.5\n",
      "8.5\n",
      "15.5\n",
      "7.5\n",
      "7.5\n",
      "9.5\n",
      "60.5\n",
      "11.5\n",
      "10.5\n",
      "7.5\n",
      "6.5\n",
      "9.5\n",
      "12.5\n",
      "10.5\n",
      "11.5\n",
      "11.5\n",
      "12.5\n",
      "9.5\n",
      "7.5\n",
      "9.5\n",
      "8.5\n",
      "9.5\n",
      "7.5\n",
      "7.5\n",
      "10.5\n",
      "6.5\n",
      "9.5\n",
      "9.5\n",
      "10.5\n",
      "11.5\n",
      "8.5\n",
      "6.5\n",
      "10.5\n",
      "10.5\n",
      "10.5\n",
      "22.5\n",
      "8.5\n",
      "7.5\n",
      "10.5\n",
      "9.5\n",
      "11.5\n",
      "9.5\n",
      "10.5\n",
      "10.5\n",
      "9.5\n",
      "10.5\n",
      "7.5\n",
      "10.5\n",
      "8.5\n",
      "8.5\n",
      "9.5\n",
      "9.5\n",
      "8.5\n",
      "8.5\n",
      "10.5\n",
      "9.5\n",
      "8.5\n",
      "8.5\n",
      "9.5\n",
      "9.5\n",
      "9.5\n",
      "8.5\n",
      "9.5\n",
      "8.5\n",
      "10.5\n",
      "6.5\n",
      "9.5\n",
      "10.5\n",
      "12.5\n",
      "27.5\n",
      "9.5\n",
      "17.5\n",
      "8.5\n",
      "3.5\n",
      "6.5\n",
      "8.5\n",
      "9.5\n",
      "12.5\n",
      "10.5\n",
      "8.5\n",
      "10.5\n",
      "8.5\n",
      "10.5\n",
      "7.5\n",
      "10.5\n",
      "7.5\n",
      "9.5\n",
      "9.5\n",
      "9.5\n",
      "10.5\n",
      "12.5\n",
      "10.5\n",
      "9.5\n",
      "8.5\n",
      "9.5\n",
      "8.5\n",
      "9.5\n",
      "9.5\n",
      "9.5\n",
      "7.5\n",
      "7.5\n",
      "7.5\n",
      "6.5\n",
      "7.5\n",
      "10.5\n",
      "7.5\n",
      "4.5\n",
      "7.5\n",
      "7.5\n",
      "7.5\n",
      "8.5\n",
      "9.5\n",
      "11.5\n",
      "7.5\n",
      "7.5\n",
      "8.5\n",
      "10.5\n",
      "5.5\n",
      "7.5\n",
      "6.5\n",
      "8.5\n",
      "8.5\n",
      "11.5\n",
      "7.5\n",
      "5.5\n",
      "11.5\n",
      "8.5\n",
      "10.5\n",
      "10.5\n",
      "12.5\n",
      "11.5\n",
      "10.5\n",
      "11.5\n",
      "9.5\n",
      "10.5\n",
      "9.5\n",
      "9.5\n",
      "9.5\n",
      "13.5\n",
      "9.5\n",
      "9.5\n",
      "12.5\n",
      "9.5\n",
      "10.5\n",
      "8.5\n",
      "9.5\n",
      "9.5\n",
      "9.5\n",
      "10.5\n",
      "9.5\n",
      "10.5\n",
      "10.5\n",
      "9.5\n",
      "9.5\n",
      "12.5\n",
      "11.5\n",
      "16.5\n",
      "16.5\n",
      "11.5\n",
      "11.5\n",
      "11.5\n",
      "7.5\n",
      "5.5\n",
      "11.5\n",
      "10.5\n",
      "11.5\n",
      "8.5\n",
      "11.5\n",
      "6.5\n",
      "10.5\n",
      "8.5\n",
      "15.5\n",
      "10.5\n",
      "16.5\n",
      "9.5\n",
      "10.5\n",
      "12.5\n",
      "10.5\n",
      "11.5\n",
      "11.5\n",
      "8.5\n",
      "23.5\n",
      "23.5\n",
      "13.5\n",
      "18.5\n",
      "10.5\n",
      "12.5\n",
      "15.5\n",
      "8.5\n",
      "20.5\n",
      "12.5\n",
      "12.5\n",
      "10.5\n",
      "16.5\n",
      "13.5\n",
      "15.5\n",
      "17.5\n",
      "10.5\n",
      "18.5\n",
      "13.5\n",
      "7.5\n",
      "7.5\n",
      "9.5\n",
      "12.5\n",
      "14.5\n",
      "16.5\n",
      "21.5\n",
      "16.5\n",
      "10.5\n",
      "13.5\n",
      "17.5\n",
      "14.5\n",
      "14.5\n",
      "16.5\n",
      "14.5\n",
      "15.5\n",
      "17.5\n",
      "26.5\n",
      "9.5\n",
      "15.5\n",
      "21.5\n",
      "10.5\n",
      "23.5\n",
      "9.5\n",
      "11.5\n",
      "10.5\n",
      "8.5\n",
      "8.5\n",
      "11.5\n",
      "16.5\n",
      "10.5\n",
      "23.5\n",
      "17.5\n",
      "11.5\n",
      "10.5\n",
      "12.5\n",
      "8.5\n",
      "25.5\n",
      "17.5\n",
      "8.5\n",
      "14.5\n",
      "10.5\n",
      "14.5\n",
      "21.5\n",
      "14.5\n",
      "10.5\n",
      "8.5\n",
      "13.5\n",
      "7.5\n",
      "12.5\n",
      "10.5\n",
      "13.5\n",
      "7.5\n",
      "23.5\n",
      "10.5\n",
      "9.5\n",
      "11.5\n",
      "6.5\n",
      "15.5\n",
      "12.5\n",
      "7.5\n",
      "14.5\n",
      "12.5\n",
      "12.5\n",
      "6.5\n",
      "11.5\n",
      "12.5\n",
      "7.5\n"
     ]
    },
    {
     "name": "stdout",
     "output_type": "stream",
     "text": [
      "12.5\n",
      "10.5\n",
      "11.5\n",
      "14.5\n",
      "12.5\n",
      "13.5\n",
      "15.5\n",
      "17.5\n",
      "5.5\n",
      "11.5\n",
      "7.5\n",
      "9.5\n",
      "13.5\n",
      "8.5\n",
      "12.5\n",
      "7.5\n",
      "12.5\n",
      "7.5\n",
      "6.5\n",
      "9.5\n",
      "9.5\n",
      "10.5\n",
      "14.5\n",
      "6.5\n",
      "35.5\n",
      "19.5\n",
      "13.5\n",
      "7.5\n",
      "19.5\n",
      "13.5\n",
      "16.5\n",
      "22.5\n",
      "19.5\n",
      "14.5\n",
      "13.5\n",
      "13.5\n",
      "13.5\n",
      "11.5\n",
      "16.5\n",
      "18.5\n",
      "17.5\n",
      "15.5\n",
      "13.5\n",
      "14.5\n",
      "9.5\n",
      "7.5\n",
      "12.5\n",
      "12.5\n",
      "6.5\n",
      "12.5\n",
      "7.5\n",
      "11.5\n",
      "7.5\n",
      "12.5\n",
      "11.5\n",
      "13.5\n",
      "18.5\n",
      "12.5\n",
      "14.5\n",
      "11.5\n",
      "8.5\n",
      "6.5\n",
      "10.5\n",
      "7.5\n",
      "15.5\n",
      "13.5\n",
      "11.5\n",
      "10.5\n",
      "15.5\n",
      "11.5\n",
      "12.5\n",
      "19.5\n",
      "16.5\n",
      "13.5\n",
      "14.5\n",
      "14.5\n",
      "12.5\n",
      "11.5\n",
      "14.5\n",
      "14.5\n",
      "15.5\n",
      "13.5\n",
      "10.5\n",
      "12.5\n",
      "14.5\n",
      "15.5\n",
      "10.5\n",
      "15.5\n",
      "14.5\n",
      "10.5\n",
      "15.5\n",
      "18.5\n",
      "15.5\n",
      "17.5\n",
      "23.5\n",
      "10.5\n",
      "16.5\n",
      "17.5\n",
      "12.5\n",
      "10.5\n",
      "13.5\n",
      "10.5\n",
      "22.5\n",
      "12.5\n",
      "17.5\n",
      "13.5\n",
      "8.5\n",
      "7.5\n",
      "16.5\n",
      "11.5\n",
      "16.5\n",
      "14.5\n",
      "12.5\n",
      "13.5\n",
      "15.5\n",
      "51.5\n",
      "51.5\n",
      "11.5\n",
      "13.5\n",
      "12.5\n",
      "12.5\n",
      "10.5\n",
      "11.5\n",
      "14.5\n",
      "9.5\n",
      "15.5\n",
      "12.5\n",
      "12.5\n",
      "10.5\n",
      "14.5\n",
      "11.5\n",
      "17.5\n",
      "15.5\n",
      "11.5\n",
      "18.5\n",
      "12.5\n",
      "17.5\n",
      "11.5\n",
      "11.5\n",
      "11.5\n",
      "13.5\n",
      "10.5\n",
      "17.5\n",
      "11.5\n",
      "11.5\n",
      "19.5\n",
      "19.5\n",
      "7.5\n",
      "15.5\n",
      "14.5\n",
      "18.5\n",
      "9.5\n",
      "13.5\n",
      "12.5\n",
      "14.5\n",
      "12.5\n",
      "12.5\n",
      "20.5\n",
      "8.5\n",
      "13.5\n",
      "20.5\n",
      "7.5\n",
      "11.5\n",
      "18.5\n",
      "16.5\n",
      "15.5\n",
      "12.5\n",
      "13.5\n",
      "12.5\n",
      "19.5\n",
      "14.5\n",
      "13.5\n",
      "14.5\n",
      "12.5\n",
      "14.5\n",
      "10.5\n",
      "14.5\n",
      "8.5\n",
      "11.5\n",
      "22.5\n",
      "12.5\n",
      "8.5\n",
      "17.5\n",
      "16.5\n",
      "15.5\n",
      "15.5\n",
      "17.5\n",
      "14.5\n",
      "11.5\n",
      "10.5\n",
      "7.5\n",
      "12.5\n",
      "7.5\n",
      "6.5\n",
      "12.5\n",
      "32.5\n",
      "7.5\n",
      "7.5\n",
      "16.5\n",
      "8.5\n",
      "11.5\n",
      "7.5\n",
      "10.5\n",
      "12.5\n",
      "13.5\n",
      "13.5\n",
      "6.5\n",
      "8.5\n",
      "6.5\n",
      "12.5\n",
      "24.5\n",
      "9.5\n",
      "7.5\n",
      "13.5\n",
      "13.5\n",
      "17.5\n",
      "13.5\n",
      "12.5\n",
      "7.5\n",
      "13.5\n",
      "10.5\n",
      "11.5\n",
      "14.5\n",
      "13.5\n",
      "12.5\n",
      "14.5\n",
      "10.5\n",
      "11.5\n",
      "4.5\n",
      "186.5\n",
      "10.5\n",
      "12.5\n",
      "9.5\n",
      "10.5\n",
      "6.5\n",
      "6.5\n",
      "8.5\n",
      "5.5\n",
      "7.5\n",
      "14.5\n",
      "9.5\n",
      "10.5\n",
      "9.5\n",
      "5.5\n",
      "12.5\n",
      "5.5\n",
      "7.5\n",
      "9.5\n",
      "6.5\n",
      "10.5\n",
      "16.5\n",
      "17.5\n",
      "14.5\n",
      "13.5\n",
      "6.5\n",
      "8.5\n",
      "14.5\n",
      "11.5\n",
      "14.5\n",
      "11.5\n",
      "9.5\n",
      "6.5\n",
      "13.5\n",
      "8.5\n",
      "6.5\n",
      "6.5\n",
      "6.5\n",
      "10.5\n",
      "13.5\n",
      "7.5\n",
      "12.5\n",
      "5.5\n",
      "7.5\n",
      "7.5\n",
      "7.5\n",
      "7.5\n",
      "6.5\n",
      "15.5\n",
      "15.5\n",
      "10.5\n",
      "22.5\n",
      "14.5\n",
      "9.5\n",
      "14.5\n",
      "10.5\n",
      "8.5\n",
      "17.5\n",
      "13.5\n",
      "15.5\n",
      "10.5\n",
      "12.5\n",
      "26.5\n",
      "16.5\n",
      "11.5\n",
      "16.5\n",
      "8.5\n",
      "11.5\n",
      "12.5\n",
      "15.5\n",
      "14.5\n",
      "14.5\n",
      "11.5\n",
      "8.5\n",
      "6.5\n",
      "17.5\n",
      "9.5\n",
      "7.5\n",
      "10.5\n",
      "8.5\n",
      "16.5\n",
      "9.5\n",
      "9.5\n",
      "18.5\n",
      "12.5\n",
      "13.5\n",
      "15.5\n",
      "15.5\n",
      "26.5\n",
      "10.5\n",
      "10.5\n",
      "14.5\n",
      "11.5\n",
      "11.5\n",
      "18.5\n",
      "12.5\n",
      "13.5\n",
      "14.5\n",
      "9.5\n",
      "9.5\n",
      "9.5\n",
      "16.5\n",
      "14.5\n",
      "15.5\n",
      "11.5\n",
      "11.5\n",
      "15.5\n",
      "16.5\n",
      "20.5\n",
      "8.5\n",
      "19.5\n",
      "11.5\n",
      "12.5\n",
      "7.5\n",
      "11.5\n",
      "9.5\n",
      "9.5\n",
      "18.5\n",
      "18.5\n",
      "14.5\n",
      "10.5\n",
      "10.5\n",
      "12.5\n",
      "12.5\n",
      "28.5\n",
      "7.5\n",
      "10.5\n",
      "14.5\n",
      "10.5\n",
      "13.5\n",
      "12.5\n",
      "11.5\n",
      "12.5\n",
      "9.5\n",
      "12.5\n",
      "12.5\n",
      "9.5\n",
      "10.5\n",
      "15.5\n",
      "10.5\n",
      "15.5\n",
      "13.5\n",
      "10.5\n",
      "13.5\n",
      "13.5\n",
      "10.5\n",
      "14.5\n",
      "14.5\n",
      "12.5\n",
      "11.5\n",
      "10.5\n",
      "17.5\n",
      "11.5\n",
      "14.5\n",
      "19.5\n",
      "14.5\n",
      "16.5\n",
      "15.5\n",
      "15.5\n",
      "10.5\n",
      "9.5\n",
      "27.5\n",
      "13.5\n",
      "12.5\n",
      "9.5\n",
      "9.5\n",
      "12.5\n",
      "9.5\n",
      "9.5\n",
      "9.5\n",
      "13.5\n",
      "19.5\n",
      "15.5\n",
      "18.5\n",
      "17.5\n",
      "13.5\n",
      "15.5\n",
      "12.5\n",
      "12.5\n",
      "9.5\n",
      "15.5\n",
      "5.5\n",
      "10.5\n",
      "16.5\n",
      "6.5\n",
      "10.5\n",
      "13.5\n",
      "8.5\n",
      "15.5\n",
      "16.5\n",
      "16.5\n",
      "13.5\n",
      "18.5\n",
      "12.5\n",
      "17.5\n",
      "16.5\n",
      "9.5\n",
      "12.5\n",
      "10.5\n",
      "10.5\n",
      "11.5\n",
      "19.5\n",
      "10.5\n",
      "19.5\n",
      "18.5\n",
      "16.5\n",
      "11.5\n",
      "13.5\n",
      "14.5\n",
      "9.5\n",
      "8.5\n",
      "10.5\n",
      "10.5\n",
      "10.5\n",
      "7.5\n",
      "8.5\n",
      "26.5\n",
      "10.5\n",
      "11.5\n",
      "8.5\n",
      "8.5\n",
      "11.5\n",
      "7.5\n",
      "10.5\n",
      "7.5\n",
      "15.5\n",
      "10.5\n",
      "10.5\n",
      "8.5\n",
      "10.5\n",
      "9.5\n",
      "9.5\n",
      "11.5\n",
      "14.5\n",
      "10.5\n",
      "13.5\n",
      "11.5\n",
      "16.5\n",
      "8.5\n",
      "10.5\n",
      "10.5\n",
      "8.5\n",
      "11.5\n",
      "15.5\n",
      "13.5\n",
      "8.5\n",
      "11.5\n",
      "9.5\n",
      "8.5\n",
      "20.5\n",
      "7.5\n",
      "14.5\n",
      "7.5\n",
      "8.5\n",
      "14.5\n",
      "11.5\n",
      "13.5\n",
      "10.5\n",
      "7.5\n",
      "9.5\n",
      "15.5\n",
      "12.5\n",
      "13.5\n",
      "13.5\n",
      "8.5\n",
      "10.5\n",
      "7.5\n",
      "13.5\n",
      "10.5\n",
      "8.5\n",
      "7.5\n",
      "18.5\n",
      "10.5\n",
      "10.5\n",
      "14.5\n",
      "22.5\n",
      "9.5\n",
      "8.5\n",
      "8.5\n",
      "6.5\n",
      "10.5\n",
      "9.5\n",
      "12.5\n",
      "13.5\n",
      "8.5\n",
      "9.5\n",
      "9.5\n",
      "6.5\n",
      "10.5\n",
      "6.5\n",
      "8.5\n",
      "17.5\n",
      "9.5\n",
      "9.5\n",
      "9.5\n",
      "8.5\n",
      "12.5\n",
      "8.5\n",
      "7.5\n",
      "9.5\n",
      "11.5\n",
      "9.5\n",
      "7.5\n",
      "9.5\n",
      "9.5\n",
      "8.5\n",
      "7.5\n",
      "15.5\n",
      "18.5\n",
      "15.5\n",
      "13.5\n",
      "9.5\n",
      "8.5\n",
      "11.5\n",
      "11.5\n",
      "9.5\n",
      "8.5\n",
      "21.5\n",
      "18.5\n",
      "15.5\n",
      "18.5\n",
      "12.5\n",
      "8.5\n",
      "8.5\n",
      "10.5\n",
      "9.5\n",
      "10.5\n",
      "10.5\n",
      "10.5\n",
      "9.5\n",
      "10.5\n",
      "14.5\n",
      "7.5\n",
      "10.5\n",
      "9.5\n",
      "7.5\n",
      "7.5\n",
      "7.5\n",
      "14.5\n",
      "15.5\n",
      "13.5\n",
      "18.5\n",
      "12.5\n",
      "17.5\n",
      "8.5\n",
      "17.5\n",
      "12.5\n",
      "15.5\n",
      "7.5\n",
      "17.5\n",
      "12.5\n",
      "14.5\n",
      "7.5\n",
      "18.5\n",
      "8.5\n",
      "17.5\n",
      "13.5\n",
      "13.5\n",
      "7.5\n",
      "7.5\n",
      "9.5\n",
      "9.5\n",
      "21.5\n",
      "24.5\n",
      "18.5\n",
      "14.5\n",
      "9.5\n",
      "9.5\n",
      "12.5\n",
      "14.5\n",
      "8.5\n",
      "13.5\n",
      "11.5\n",
      "14.5\n",
      "14.5\n",
      "12.5\n",
      "8.5\n",
      "12.5\n",
      "9.5\n",
      "10.5\n",
      "10.5\n",
      "8.5\n",
      "17.5\n",
      "16.5\n",
      "15.5\n",
      "8.5\n",
      "11.5\n",
      "16.5\n",
      "6.5\n",
      "18.5\n",
      "15.5\n",
      "10.5\n",
      "7.5\n",
      "10.5\n",
      "12.5\n",
      "16.5\n",
      "10.5\n",
      "8.5\n",
      "8.5\n",
      "9.5\n",
      "9.5\n",
      "9.5\n",
      "12.5\n",
      "11.5\n",
      "17.5\n",
      "10.5\n",
      "10.5\n",
      "9.5\n",
      "9.5\n",
      "13.5\n",
      "14.5\n",
      "14.5\n",
      "12.5\n",
      "13.5\n",
      "13.5\n",
      "12.5\n",
      "10.5\n",
      "14.5\n",
      "8.5\n",
      "14.5\n",
      "10.5\n",
      "13.5\n",
      "9.5\n",
      "18.5\n",
      "14.5\n",
      "20.5\n",
      "14.5\n",
      "7.5\n",
      "17.5\n",
      "19.5\n",
      "10.5\n",
      "13.5\n",
      "12.5\n",
      "18.5\n",
      "14.5\n",
      "14.5\n",
      "20.5\n",
      "10.5\n",
      "14.5\n",
      "11.5\n",
      "17.5\n",
      "12.5\n",
      "20.5\n",
      "16.5\n",
      "21.5\n",
      "18.5\n",
      "17.5\n",
      "17.5\n",
      "18.5\n",
      "15.5\n",
      "15.5\n",
      "19.5\n",
      "15.5\n",
      "15.5\n",
      "15.5\n",
      "9.5\n",
      "8.5\n",
      "9.5\n",
      "7.5\n",
      "9.5\n",
      "8.5\n",
      "7.5\n",
      "7.5\n",
      "9.5\n",
      "10.5\n",
      "8.5\n",
      "7.5\n",
      "9.5\n",
      "8.5\n",
      "8.5\n",
      "10.5\n",
      "9.5\n",
      "9.5\n",
      "9.5\n",
      "9.5\n",
      "12.5\n",
      "9.5\n",
      "7.5\n",
      "9.5\n",
      "7.5\n",
      "8.5\n",
      "8.5\n",
      "8.5\n",
      "9.5\n",
      "9.5\n",
      "8.5\n",
      "9.5\n",
      "8.5\n",
      "7.5\n",
      "7.5\n",
      "9.5\n",
      "8.5\n",
      "12.5\n",
      "9.5\n",
      "7.5\n",
      "9.5\n",
      "7.5\n",
      "8.5\n",
      "9.5\n",
      "9.5\n",
      "8.5\n",
      "9.5\n",
      "8.5\n",
      "17.5\n",
      "8.5\n",
      "7.5\n",
      "7.5\n",
      "21.5\n",
      "12.5\n",
      "8.5\n",
      "11.5\n",
      "15.5\n",
      "12.5\n",
      "8.5\n",
      "13.5\n",
      "14.5\n",
      "11.5\n",
      "12.5\n",
      "12.5\n",
      "8.5\n",
      "18.5\n",
      "15.5\n",
      "14.5\n",
      "8.5\n",
      "8.5\n",
      "9.5\n",
      "11.5\n",
      "7.5\n",
      "11.5\n",
      "8.5\n",
      "12.5\n",
      "7.5\n",
      "13.5\n",
      "7.5\n",
      "10.5\n",
      "11.5\n",
      "12.5\n",
      "12.5\n",
      "12.5\n",
      "11.5\n",
      "16.5\n",
      "14.5\n",
      "13.5\n",
      "9.5\n",
      "11.5\n",
      "12.5\n",
      "8.5\n",
      "22.5\n",
      "10.5\n",
      "15.5\n",
      "10.5\n",
      "16.5\n",
      "12.5\n",
      "9.5\n",
      "7.5\n",
      "18.5\n",
      "9.5\n",
      "8.5\n",
      "21.5\n",
      "15.5\n",
      "11.5\n",
      "13.5\n",
      "9.5\n",
      "14.5\n",
      "10.5\n",
      "12.5\n",
      "10.5\n",
      "11.5\n",
      "14.5\n",
      "6.5\n",
      "7.5\n",
      "14.5\n",
      "11.5\n",
      "13.5\n",
      "6.5\n",
      "16.5\n",
      "8.5\n",
      "6.5\n",
      "6.5\n",
      "5.5\n",
      "7.5\n",
      "6.5\n",
      "8.5\n",
      "10.5\n",
      "10.5\n",
      "8.5\n",
      "16.5\n",
      "8.5\n",
      "7.5\n",
      "7.5\n",
      "10.5\n",
      "7.5\n",
      "15.5\n",
      "8.5\n",
      "10.5\n",
      "7.5\n",
      "8.5\n",
      "7.5\n",
      "9.5\n",
      "7.5\n",
      "13.5\n",
      "13.5\n",
      "16.5\n",
      "12.5\n",
      "7.5\n",
      "9.5\n",
      "15.5\n",
      "9.5\n",
      "13.5\n",
      "15.5\n",
      "15.5\n",
      "13.5\n",
      "6.5\n",
      "8.5\n",
      "9.5\n",
      "14.5\n",
      "14.5\n",
      "18.5\n",
      "17.5\n",
      "15.5\n",
      "12.5\n",
      "10.5\n",
      "11.5\n",
      "17.5\n",
      "16.5\n",
      "14.5\n",
      "10.5\n",
      "10.5\n",
      "13.5\n",
      "8.5\n",
      "11.5\n",
      "10.5\n",
      "14.5\n",
      "10.5\n",
      "12.5\n",
      "9.5\n",
      "9.5\n",
      "6.5\n",
      "11.5\n",
      "11.5\n",
      "8.5\n",
      "10.5\n",
      "6.5\n",
      "12.5\n",
      "12.5\n",
      "9.5\n",
      "9.5\n",
      "13.5\n",
      "12.5\n",
      "6.5\n",
      "12.5\n",
      "7.5\n",
      "None\n",
      "8.5\n",
      "7.5\n",
      "9.5\n",
      "15.5\n",
      "9.5\n",
      "8.5\n",
      "6.5\n",
      "7.5\n",
      "10.5\n",
      "16.5\n",
      "11.5\n",
      "9.5\n",
      "8.5\n",
      "14.5\n",
      "8.5\n",
      "14.5\n",
      "13.5\n",
      "17.5\n",
      "19.5\n",
      "21.5\n",
      "12.5\n",
      "19.5\n",
      "14.5\n",
      "10.5\n",
      "15.5\n",
      "10.5\n",
      "21.5\n",
      "15.5\n",
      "8.5\n",
      "14.5\n",
      "10.5\n",
      "10.5\n",
      "11.5\n",
      "9.5\n",
      "13.5\n",
      "9.5\n",
      "9.5\n",
      "10.5\n",
      "14.5\n",
      "10.5\n",
      "10.5\n",
      "10.5\n",
      "8.5\n",
      "14.5\n",
      "10.5\n",
      "10.5\n",
      "8.5\n",
      "13.5\n",
      "10.5\n",
      "11.5\n",
      "8.5\n",
      "10.5\n",
      "13.5\n",
      "12.5\n",
      "10.5\n",
      "6.5\n",
      "9.5\n",
      "8.5\n",
      "11.5\n",
      "8.5\n",
      "12.5\n",
      "16.5\n",
      "11.5\n",
      "13.5\n",
      "12.5\n",
      "10.5\n",
      "10.5\n",
      "9.5\n",
      "8.5\n",
      "15.5\n",
      "13.5\n",
      "11.5\n",
      "26.5\n",
      "21.5\n",
      "10.5\n",
      "8.5\n",
      "6.5\n",
      "6.5\n",
      "6.5\n",
      "5.5\n",
      "8.5\n",
      "10.5\n",
      "8.5\n",
      "9.5\n",
      "11.5\n",
      "8.5\n",
      "12.5\n",
      "10.5\n",
      "13.5\n",
      "12.5\n",
      "14.5\n",
      "9.5\n",
      "9.5\n",
      "10.5\n",
      "10.5\n",
      "10.5\n",
      "13.5\n",
      "9.5\n",
      "9.5\n",
      "15.5\n",
      "12.5\n",
      "13.5\n",
      "13.5\n",
      "7.5\n",
      "11.5\n",
      "8.5\n",
      "7.5\n",
      "10.5\n",
      "20.5\n",
      "15.5\n",
      "18.5\n",
      "13.5\n",
      "10.5\n",
      "13.5\n",
      "21.5\n",
      "13.5\n",
      "14.5\n",
      "15.5\n",
      "10.5\n",
      "11.5\n",
      "10.5\n",
      "9.5\n",
      "8.5\n",
      "7.5\n",
      "7.5\n",
      "8.5\n",
      "9.5\n",
      "12.5\n",
      "18.5\n",
      "8.5\n",
      "10.5\n",
      "7.5\n",
      "14.5\n",
      "10.5\n",
      "10.5\n",
      "11.5\n",
      "10.5\n",
      "14.5\n",
      "9.5\n",
      "14.5\n",
      "14.5\n",
      "11.5\n",
      "12.5\n",
      "9.5\n",
      "18.5\n",
      "14.5\n",
      "10.5\n",
      "11.5\n",
      "8.5\n",
      "11.5\n",
      "13.5\n",
      "10.5\n",
      "13.5\n",
      "17.5\n",
      "13.5\n",
      "10.5\n",
      "13.5\n",
      "14.5\n",
      "10.5\n",
      "9.5\n",
      "9.5\n",
      "14.5\n",
      "11.5\n",
      "8.5\n",
      "6.5\n",
      "9.5\n",
      "16.5\n",
      "17.5\n",
      "14.5\n",
      "7.5\n",
      "10.5\n",
      "14.5\n",
      "15.5\n",
      "12.5\n",
      "10.5\n",
      "10.5\n",
      "8.5\n",
      "6.5\n",
      "22.5\n",
      "16.5\n",
      "19.5\n",
      "8.5\n",
      "14.5\n",
      "14.5\n",
      "14.5\n",
      "13.5\n",
      "16.5\n",
      "9.5\n",
      "10.5\n",
      "9.5\n",
      "9.5\n",
      "7.5\n",
      "8.5\n",
      "9.5\n",
      "8.5\n",
      "7.5\n",
      "14.5\n",
      "14.5\n",
      "11.5\n",
      "11.5\n",
      "15.5\n",
      "16.5\n",
      "30.5\n",
      "10.5\n",
      "15.5\n",
      "12.5\n",
      "11.5\n",
      "8.5\n",
      "9.5\n",
      "10.5\n",
      "10.5\n",
      "13.5\n",
      "8.5\n",
      "9.5\n",
      "17.5\n",
      "14.5\n",
      "18.5\n",
      "13.5\n",
      "11.5\n",
      "9.5\n",
      "10.5\n",
      "15.5\n",
      "23.5\n",
      "10.5\n",
      "15.5\n",
      "16.5\n",
      "12.5\n",
      "10.5\n",
      "15.5\n",
      "19.5\n",
      "13.5\n",
      "15.5\n",
      "15.5\n",
      "12.5\n",
      "21.5\n",
      "12.5\n",
      "15.5\n",
      "14.5\n",
      "9.5\n",
      "10.5\n",
      "18.5\n",
      "7.5\n",
      "24.5\n",
      "14.5\n",
      "11.5\n",
      "17.5\n",
      "13.5\n",
      "23.5\n",
      "14.5\n",
      "14.5\n",
      "14.5\n",
      "18.5\n",
      "9.5\n",
      "12.5\n",
      "9.5\n",
      "11.5\n",
      "15.5\n",
      "15.5\n",
      "22.5\n",
      "26.5\n",
      "16.5\n",
      "17.5\n",
      "11.5\n",
      "12.5\n",
      "8.5\n",
      "8.5\n",
      "11.5\n",
      "17.5\n",
      "16.5\n",
      "23.5\n",
      "9.5\n",
      "29.5\n",
      "10.5\n",
      "9.5\n",
      "12.5\n",
      "10.5\n",
      "12.5\n",
      "27.5\n",
      "15.5\n",
      "10.5\n",
      "8.5\n",
      "17.5\n",
      "11.5\n",
      "9.5\n",
      "7.5\n",
      "11.5\n",
      "13.5\n",
      "15.5\n",
      "8.5\n",
      "8.5\n",
      "11.5\n",
      "10.5\n",
      "6.5\n",
      "10.5\n",
      "14.5\n",
      "7.5\n",
      "8.5\n",
      "8.5\n",
      "11.5\n",
      "10.5\n",
      "12.5\n",
      "13.5\n",
      "6.5\n",
      "6.5\n",
      "9.5\n",
      "7.5\n",
      "57.5\n",
      "7.5\n",
      "11.5\n",
      "6.5\n",
      "9.5\n",
      "7.5\n",
      "8.5\n",
      "17.5\n",
      "11.5\n",
      "13.5\n",
      "11.5\n",
      "6.5\n",
      "11.5\n",
      "8.5\n",
      "6.5\n",
      "5.5\n",
      "7.5\n",
      "8.5\n",
      "5.5\n",
      "7.5\n",
      "8.5\n",
      "8.5\n",
      "8.5\n",
      "6.5\n",
      "17.5\n",
      "20.5\n",
      "11.5\n",
      "11.5\n",
      "20.5\n",
      "10.5\n",
      "18.5\n",
      "15.5\n",
      "14.5\n",
      "16.5\n",
      "12.5\n",
      "19.5\n",
      "21.5\n",
      "13.5\n",
      "12.5\n",
      "15.5\n",
      "14.5\n",
      "12.5\n",
      "11.5\n",
      "11.5\n",
      "10.5\n",
      "16.5\n",
      "8.5\n",
      "15.5\n",
      "9.5\n",
      "12.5\n",
      "13.5\n",
      "8.5\n",
      "11.5\n",
      "9.5\n",
      "13.5\n",
      "7.5\n",
      "14.5\n",
      "8.5\n",
      "8.5\n",
      "13.5\n",
      "9.5\n",
      "13.5\n",
      "12.5\n",
      "11.5\n",
      "7.5\n",
      "13.5\n",
      "14.5\n",
      "5.5\n",
      "7.5\n",
      "8.5\n",
      "13.5\n",
      "14.5\n",
      "9.5\n",
      "13.5\n",
      "6.5\n",
      "11.5\n",
      "11.5\n",
      "11.5\n",
      "10.5\n",
      "10.5\n",
      "18.5\n",
      "14.5\n",
      "13.5\n",
      "18.5\n",
      "16.5\n",
      "12.5\n",
      "10.5\n",
      "10.5\n",
      "9.5\n",
      "12.5\n",
      "47.5\n",
      "7.5\n",
      "6.5\n",
      "7.5\n",
      "10.5\n",
      "9.5\n",
      "14.5\n",
      "10.5\n",
      "11.5\n",
      "8.5\n",
      "8.5\n",
      "12.5\n",
      "11.5\n",
      "2.5\n",
      "None\n",
      "3.5\n",
      "None\n",
      "10.5\n",
      "11.5\n",
      "12.5\n",
      "7.5\n",
      "7.5\n",
      "12.5\n",
      "16.5\n",
      "16.5\n",
      "21.5\n",
      "16.5\n",
      "16.5\n",
      "6.5\n",
      "9.5\n",
      "17.5\n",
      "17.5\n",
      "16.5\n",
      "17.5\n",
      "21.5\n",
      "11.5\n",
      "15.5\n",
      "17.5\n",
      "16.5\n",
      "17.5\n",
      "18.5\n",
      "15.5\n",
      "10.5\n",
      "7.5\n",
      "9.5\n",
      "12.5\n",
      "10.5\n",
      "6.5\n",
      "6.5\n",
      "7.5\n",
      "9.5\n",
      "7.5\n",
      "9.5\n",
      "7.5\n",
      "11.5\n",
      "7.5\n",
      "6.5\n",
      "7.5\n",
      "10.5\n",
      "12.5\n",
      "12.5\n",
      "8.5\n",
      "12.5\n",
      "8.5\n",
      "8.5\n",
      "13.5\n",
      "9.5\n",
      "14.5\n",
      "12.5\n",
      "12.5\n",
      "6.5\n",
      "11.5\n",
      "9.5\n",
      "5.5\n",
      "7.5\n",
      "14.5\n",
      "11.5\n",
      "15.5\n",
      "10.5\n",
      "12.5\n",
      "6.5\n",
      "12.5\n",
      "7.5\n",
      "11.5\n",
      "10.5\n",
      "9.5\n"
     ]
    },
    {
     "data": {
      "text/html": [
       "<div>\n",
       "<style scoped>\n",
       "    .dataframe tbody tr th:only-of-type {\n",
       "        vertical-align: middle;\n",
       "    }\n",
       "\n",
       "    .dataframe tbody tr th {\n",
       "        vertical-align: top;\n",
       "    }\n",
       "\n",
       "    .dataframe thead th {\n",
       "        text-align: right;\n",
       "    }\n",
       "</style>\n",
       "<table border=\"1\" class=\"dataframe\">\n",
       "  <thead>\n",
       "    <tr style=\"text-align: right;\">\n",
       "      <th></th>\n",
       "      <th>id</th>\n",
       "      <th>jurisdiction</th>\n",
       "      <th>source</th>\n",
       "      <th>title</th>\n",
       "      <th>group</th>\n",
       "      <th>url</th>\n",
       "      <th>filename</th>\n",
       "      <th>downloaded</th>\n",
       "      <th>pages</th>\n",
       "      <th>fields</th>\n",
       "      <th>fields_conf</th>\n",
       "      <th>fields_old</th>\n",
       "      <th>f_per_p</th>\n",
       "      <th>reading</th>\n",
       "      <th>list</th>\n",
       "      <th>text</th>\n",
       "      <th>readbility</th>\n",
       "    </tr>\n",
       "  </thead>\n",
       "  <tbody>\n",
       "    <tr>\n",
       "      <th>0</th>\n",
       "      <td>04b3a0734774c02edf8eb9056d23954aa38e96c77c3392...</td>\n",
       "      <td>UT</td>\n",
       "      <td>www.utcourts.gov</td>\n",
       "      <td>Community Service Worksheet Third District Juv...</td>\n",
       "      <td>3rd District Juvenile Court: Forms and Pamphlets</td>\n",
       "      <td>https://www.utcourts.gov/courts/juv/juvsites/3...</td>\n",
       "      <td>COMMUNITY%20SERVICE%20WORKSHEET-FRONT%20AND%20...</td>\n",
       "      <td>2021-11-11</td>\n",
       "      <td>2.0</td>\n",
       "      <td>['name__1', 'name__2', '*docket_number', '*use...</td>\n",
       "      <td>[0.63, 0.61, 1, 1, 1, 0.61, 0.52, 0.53, 0.6, 0...</td>\n",
       "      <td>['name__1', 'name__2', 'docket_number', 'users...</td>\n",
       "      <td>7.500000</td>\n",
       "      <td>10.5</td>\n",
       "      <td>[]</td>\n",
       "      <td>COMMUNITY SERVICE WORKSHEET\\n THIRD DISTRICT J...</td>\n",
       "      <td>10.5</td>\n",
       "    </tr>\n",
       "    <tr>\n",
       "      <th>1</th>\n",
       "      <td>6e420f1b3575cfd8ef94b71977da9e38252e3395a78439...</td>\n",
       "      <td>UT</td>\n",
       "      <td>www.utcourts.gov</td>\n",
       "      <td>Third District Juvenile Court Work Program Ref...</td>\n",
       "      <td>3rd District Juvenile Court: Forms and Pamphlets</td>\n",
       "      <td>https://www.utcourts.gov/courts/juv/juvsites/3...</td>\n",
       "      <td>Work_Crew_Application-2007.pdf</td>\n",
       "      <td>2021-11-11</td>\n",
       "      <td>2.0</td>\n",
       "      <td>['*docket_number', '*users1_birthdate', 'male'...</td>\n",
       "      <td>[1, 1, 0.69, 0.61, 1, 1, 1, 0.56, 0.68, 0.67, ...</td>\n",
       "      <td>['docket_number', 'users1_birthdate', 'male', ...</td>\n",
       "      <td>19.000000</td>\n",
       "      <td>10.5</td>\n",
       "      <td>['GO-00-00-00-00']</td>\n",
       "      <td>THIRD DISTRICT JUVENILE COURT WORK PROGRAM REF...</td>\n",
       "      <td>10.5</td>\n",
       "    </tr>\n",
       "    <tr>\n",
       "      <th>2</th>\n",
       "      <td>2532cd2b6d3aaff8c47726a0abd168fb4e5cdb4977c065...</td>\n",
       "      <td>UT</td>\n",
       "      <td>www.utcourts.gov</td>\n",
       "      <td>Utah State District Juvenile Court Probation O...</td>\n",
       "      <td>3rd District Juvenile Court: Forms and Pamphlets</td>\n",
       "      <td>https://www.utcourts.gov/courts/juv/juvsites/3...</td>\n",
       "      <td>Probation%20Order%20revised.050502.pdf</td>\n",
       "      <td>2021-11-11</td>\n",
       "      <td>5.0</td>\n",
       "      <td>['probation_department_order_court', 'special_...</td>\n",
       "      <td>[0.73, 0.65, 0.7, 0.54, 0.68, 0.67, 0.62, 0.59...</td>\n",
       "      <td>['of the probation department or by order of t...</td>\n",
       "      <td>4.800000</td>\n",
       "      <td>12.5</td>\n",
       "      <td>[]</td>\n",
       "      <td>Page 1 of 4\\n UTAH STATE DISTRICT JUVENILE COU...</td>\n",
       "      <td>12.5</td>\n",
       "    </tr>\n",
       "    <tr>\n",
       "      <th>3</th>\n",
       "      <td>f6a6814890f21c11524d5785d772272916ff95909b7dba...</td>\n",
       "      <td>UT</td>\n",
       "      <td>www.utcourts.gov</td>\n",
       "      <td>Adoptee's Consent to Adoption and Waiver of Ri...</td>\n",
       "      <td>Adopting a Minor Stepchild</td>\n",
       "      <td>https://www.utcourts.gov/howto/family/adoption...</td>\n",
       "      <td>02_Consent_Adoptee.pdf</td>\n",
       "      <td>2021-11-11</td>\n",
       "      <td>3.0</td>\n",
       "      <td>['*users1_name', '*users1_address_line_one', '...</td>\n",
       "      <td>[1.0, 1.0, 1.0, 1.0, 0.61, 0.7, 0.67, 1.0, 0.6...</td>\n",
       "      <td>['Name', 'Address', 'City State Zip', 'Phone',...</td>\n",
       "      <td>14.666667</td>\n",
       "      <td>6.5</td>\n",
       "      <td>[]</td>\n",
       "      <td>Consent to Adoption and Waiver of \\n Rights\\n ...</td>\n",
       "      <td>6.5</td>\n",
       "    </tr>\n",
       "    <tr>\n",
       "      <th>4</th>\n",
       "      <td>be656a9a361db7c3532026b0bae372e704beb160fce37e...</td>\n",
       "      <td>UT</td>\n",
       "      <td>www.utcourts.gov</td>\n",
       "      <td>Adoption Agreement</td>\n",
       "      <td>Adopting a Minor Stepchild</td>\n",
       "      <td>https://www.utcourts.gov/howto/family/adoption...</td>\n",
       "      <td>08_Agreement.pdf</td>\n",
       "      <td>2021-11-11</td>\n",
       "      <td>1.0</td>\n",
       "      <td>['*users1_name', '*users1_address_line_one', '...</td>\n",
       "      <td>[1.0, 1.0, 1.0, 1.0, 0.61, 0.7, 0.67, 1.0, 0.6...</td>\n",
       "      <td>['Name', 'Address', 'City State Zip', 'Phone',...</td>\n",
       "      <td>19.000000</td>\n",
       "      <td>7.5</td>\n",
       "      <td>['GO-00-00-00-00']</td>\n",
       "      <td>Adoption\\n \\n Agreement\\n \\n Approved Board of...</td>\n",
       "      <td>7.5</td>\n",
       "    </tr>\n",
       "    <tr>\n",
       "      <th>...</th>\n",
       "      <td>...</td>\n",
       "      <td>...</td>\n",
       "      <td>...</td>\n",
       "      <td>...</td>\n",
       "      <td>...</td>\n",
       "      <td>...</td>\n",
       "      <td>...</td>\n",
       "      <td>...</td>\n",
       "      <td>...</td>\n",
       "      <td>...</td>\n",
       "      <td>...</td>\n",
       "      <td>...</td>\n",
       "      <td>...</td>\n",
       "      <td>...</td>\n",
       "      <td>...</td>\n",
       "      <td>...</td>\n",
       "      <td>...</td>\n",
       "    </tr>\n",
       "    <tr>\n",
       "      <th>3219</th>\n",
       "      <td>6efc9088604befed5fb59fc42aeee0f5</td>\n",
       "      <td>CA</td>\n",
       "      <td>www.courts.ca.gov</td>\n",
       "      <td>Notice of Hearing to Renew Restraining Order</td>\n",
       "      <td>WV</td>\n",
       "      <td>https://www.courts.ca.gov/documents/wv710.pdf</td>\n",
       "      <td>wv710.pdf</td>\n",
       "      <td>2021-11-17</td>\n",
       "      <td>2.0</td>\n",
       "      <td>['court_info', 'case_number', 'right_caption',...</td>\n",
       "      <td>[0.69, 0.56, 0.64, 0.55, 0.55, 0.69, 0.66, 0.6...</td>\n",
       "      <td>['CourtInfo[0]', 'CaseNumber[0]', 'RightCaptio...</td>\n",
       "      <td>19.000000</td>\n",
       "      <td>12.5</td>\n",
       "      <td>['CO-07-00-00-00', 'CO-00-00-00-00']</td>\n",
       "      <td>Notice of Hearing to Renew Restraining Order (...</td>\n",
       "      <td>12.5</td>\n",
       "    </tr>\n",
       "    <tr>\n",
       "      <th>3220</th>\n",
       "      <td>740afc14f63fc6bf594ee344126ddb54</td>\n",
       "      <td>CA</td>\n",
       "      <td>www.courts.ca.gov</td>\n",
       "      <td>Response to Request to Renew Restraining Order</td>\n",
       "      <td>WV</td>\n",
       "      <td>https://www.courts.ca.gov/documents/wv720.pdf</td>\n",
       "      <td>wv720.pdf</td>\n",
       "      <td>2021-11-17</td>\n",
       "      <td>2.0</td>\n",
       "      <td>['court_info', 'case_number', 'right_caption',...</td>\n",
       "      <td>[0.69, 0.56, 0.64, 0.55, 0.55, 0.69, 0.66, 0.6...</td>\n",
       "      <td>['CourtInfo[0]', 'CaseNumber[0]', 'RightCaptio...</td>\n",
       "      <td>22.000000</td>\n",
       "      <td>7.5</td>\n",
       "      <td>['CO-07-00-00-00', 'CO-00-00-00-00']</td>\n",
       "      <td>Response to Request to Renew Restraining Order...</td>\n",
       "      <td>7.5</td>\n",
       "    </tr>\n",
       "    <tr>\n",
       "      <th>3221</th>\n",
       "      <td>c3642c835a4c4c0a167fdcc4758b68d9</td>\n",
       "      <td>CA</td>\n",
       "      <td>www.courts.ca.gov</td>\n",
       "      <td>Order Renewing Workplace Violence Restraining ...</td>\n",
       "      <td>WV</td>\n",
       "      <td>https://www.courts.ca.gov/documents/wv730.pdf</td>\n",
       "      <td>wv730.pdf</td>\n",
       "      <td>2021-11-17</td>\n",
       "      <td>1.0</td>\n",
       "      <td>['court_info', 'case_number', 'right_caption',...</td>\n",
       "      <td>[0.69, 0.56, 0.64, 0.55, 0.55, 0.69, 0.66, 0.6...</td>\n",
       "      <td>['CourtInfo[0]', 'CaseNumber[0]', 'RightCaptio...</td>\n",
       "      <td>50.000000</td>\n",
       "      <td>11.5</td>\n",
       "      <td>['CO-00-00-00-00']</td>\n",
       "      <td>Order Renewing Workplace Violence Restraining ...</td>\n",
       "      <td>11.5</td>\n",
       "    </tr>\n",
       "    <tr>\n",
       "      <th>3222</th>\n",
       "      <td>e2917df3dd9a497daf3a29ca49782672</td>\n",
       "      <td>CA</td>\n",
       "      <td>www.courts.ca.gov</td>\n",
       "      <td>Proof of Firearms Turned In, Sold, or Stored</td>\n",
       "      <td>WV</td>\n",
       "      <td>https://www.courts.ca.gov/documents/wv800.pdf</td>\n",
       "      <td>wv800.pdf</td>\n",
       "      <td>2021-11-17</td>\n",
       "      <td>2.0</td>\n",
       "      <td>['turned_agent_ft', 'turned_date_dt', 'turned_...</td>\n",
       "      <td>[0.68, 0.68, 0.8, 0.68, 0.69, 0.78, 0.68, 0.7,...</td>\n",
       "      <td>['TurnedInAgent_ft[0]', 'TurnedInDate_dt[0]', ...</td>\n",
       "      <td>32.000000</td>\n",
       "      <td>10.5</td>\n",
       "      <td>[]</td>\n",
       "      <td>Signature of law enforcement agent To Law Enfo...</td>\n",
       "      <td>10.5</td>\n",
       "    </tr>\n",
       "    <tr>\n",
       "      <th>3223</th>\n",
       "      <td>bb9e239f96230c44aa199655f2e0988d</td>\n",
       "      <td>CA</td>\n",
       "      <td>www.courts.ca.gov</td>\n",
       "      <td>How Do I Turn In, Sell, or Store My Firearms?</td>\n",
       "      <td>WV</td>\n",
       "      <td>https://www.courts.ca.gov/documents/wv800info.pdf</td>\n",
       "      <td>wv800info.pdf</td>\n",
       "      <td>2021-11-17</td>\n",
       "      <td>1.0</td>\n",
       "      <td>['print_bt', 'save_bt', 'reset_bt', 'btn_foote...</td>\n",
       "      <td>[0.64, 0.61, 0.64, 0.61, 0.62, 0.66]</td>\n",
       "      <td>['Print_bt[0]', 'Save_bt[0]', 'Reset_bt[0]', '...</td>\n",
       "      <td>6.000000</td>\n",
       "      <td>9.5</td>\n",
       "      <td>[]</td>\n",
       "      <td>WV 800 INFO, Page 1 of 1 Judicial Council of C...</td>\n",
       "      <td>9.5</td>\n",
       "    </tr>\n",
       "  </tbody>\n",
       "</table>\n",
       "<p>3224 rows × 17 columns</p>\n",
       "</div>"
      ],
      "text/plain": [
       "                                                     id jurisdiction  \\\n",
       "0     04b3a0734774c02edf8eb9056d23954aa38e96c77c3392...           UT   \n",
       "1     6e420f1b3575cfd8ef94b71977da9e38252e3395a78439...           UT   \n",
       "2     2532cd2b6d3aaff8c47726a0abd168fb4e5cdb4977c065...           UT   \n",
       "3     f6a6814890f21c11524d5785d772272916ff95909b7dba...           UT   \n",
       "4     be656a9a361db7c3532026b0bae372e704beb160fce37e...           UT   \n",
       "...                                                 ...          ...   \n",
       "3219                   6efc9088604befed5fb59fc42aeee0f5           CA   \n",
       "3220                   740afc14f63fc6bf594ee344126ddb54           CA   \n",
       "3221                   c3642c835a4c4c0a167fdcc4758b68d9           CA   \n",
       "3222                   e2917df3dd9a497daf3a29ca49782672           CA   \n",
       "3223                   bb9e239f96230c44aa199655f2e0988d           CA   \n",
       "\n",
       "                 source                                              title  \\\n",
       "0      www.utcourts.gov  Community Service Worksheet Third District Juv...   \n",
       "1      www.utcourts.gov  Third District Juvenile Court Work Program Ref...   \n",
       "2      www.utcourts.gov  Utah State District Juvenile Court Probation O...   \n",
       "3      www.utcourts.gov  Adoptee's Consent to Adoption and Waiver of Ri...   \n",
       "4      www.utcourts.gov                                Adoption Agreement    \n",
       "...                 ...                                                ...   \n",
       "3219  www.courts.ca.gov       Notice of Hearing to Renew Restraining Order   \n",
       "3220  www.courts.ca.gov     Response to Request to Renew Restraining Order   \n",
       "3221  www.courts.ca.gov  Order Renewing Workplace Violence Restraining ...   \n",
       "3222  www.courts.ca.gov       Proof of Firearms Turned In, Sold, or Stored   \n",
       "3223  www.courts.ca.gov      How Do I Turn In, Sell, or Store My Firearms?   \n",
       "\n",
       "                                                 group  \\\n",
       "0     3rd District Juvenile Court: Forms and Pamphlets   \n",
       "1     3rd District Juvenile Court: Forms and Pamphlets   \n",
       "2     3rd District Juvenile Court: Forms and Pamphlets   \n",
       "3                           Adopting a Minor Stepchild   \n",
       "4                           Adopting a Minor Stepchild   \n",
       "...                                                ...   \n",
       "3219                                                WV   \n",
       "3220                                                WV   \n",
       "3221                                                WV   \n",
       "3222                                                WV   \n",
       "3223                                                WV   \n",
       "\n",
       "                                                    url  \\\n",
       "0     https://www.utcourts.gov/courts/juv/juvsites/3...   \n",
       "1     https://www.utcourts.gov/courts/juv/juvsites/3...   \n",
       "2     https://www.utcourts.gov/courts/juv/juvsites/3...   \n",
       "3     https://www.utcourts.gov/howto/family/adoption...   \n",
       "4     https://www.utcourts.gov/howto/family/adoption...   \n",
       "...                                                 ...   \n",
       "3219      https://www.courts.ca.gov/documents/wv710.pdf   \n",
       "3220      https://www.courts.ca.gov/documents/wv720.pdf   \n",
       "3221      https://www.courts.ca.gov/documents/wv730.pdf   \n",
       "3222      https://www.courts.ca.gov/documents/wv800.pdf   \n",
       "3223  https://www.courts.ca.gov/documents/wv800info.pdf   \n",
       "\n",
       "                                               filename  downloaded  pages  \\\n",
       "0     COMMUNITY%20SERVICE%20WORKSHEET-FRONT%20AND%20...  2021-11-11    2.0   \n",
       "1                        Work_Crew_Application-2007.pdf  2021-11-11    2.0   \n",
       "2                Probation%20Order%20revised.050502.pdf  2021-11-11    5.0   \n",
       "3                                02_Consent_Adoptee.pdf  2021-11-11    3.0   \n",
       "4                                      08_Agreement.pdf  2021-11-11    1.0   \n",
       "...                                                 ...         ...    ...   \n",
       "3219                                          wv710.pdf  2021-11-17    2.0   \n",
       "3220                                          wv720.pdf  2021-11-17    2.0   \n",
       "3221                                          wv730.pdf  2021-11-17    1.0   \n",
       "3222                                          wv800.pdf  2021-11-17    2.0   \n",
       "3223                                      wv800info.pdf  2021-11-17    1.0   \n",
       "\n",
       "                                                 fields  \\\n",
       "0     ['name__1', 'name__2', '*docket_number', '*use...   \n",
       "1     ['*docket_number', '*users1_birthdate', 'male'...   \n",
       "2     ['probation_department_order_court', 'special_...   \n",
       "3     ['*users1_name', '*users1_address_line_one', '...   \n",
       "4     ['*users1_name', '*users1_address_line_one', '...   \n",
       "...                                                 ...   \n",
       "3219  ['court_info', 'case_number', 'right_caption',...   \n",
       "3220  ['court_info', 'case_number', 'right_caption',...   \n",
       "3221  ['court_info', 'case_number', 'right_caption',...   \n",
       "3222  ['turned_agent_ft', 'turned_date_dt', 'turned_...   \n",
       "3223  ['print_bt', 'save_bt', 'reset_bt', 'btn_foote...   \n",
       "\n",
       "                                            fields_conf  \\\n",
       "0     [0.63, 0.61, 1, 1, 1, 0.61, 0.52, 0.53, 0.6, 0...   \n",
       "1     [1, 1, 0.69, 0.61, 1, 1, 1, 0.56, 0.68, 0.67, ...   \n",
       "2     [0.73, 0.65, 0.7, 0.54, 0.68, 0.67, 0.62, 0.59...   \n",
       "3     [1.0, 1.0, 1.0, 1.0, 0.61, 0.7, 0.67, 1.0, 0.6...   \n",
       "4     [1.0, 1.0, 1.0, 1.0, 0.61, 0.7, 0.67, 1.0, 0.6...   \n",
       "...                                                 ...   \n",
       "3219  [0.69, 0.56, 0.64, 0.55, 0.55, 0.69, 0.66, 0.6...   \n",
       "3220  [0.69, 0.56, 0.64, 0.55, 0.55, 0.69, 0.66, 0.6...   \n",
       "3221  [0.69, 0.56, 0.64, 0.55, 0.55, 0.69, 0.66, 0.6...   \n",
       "3222  [0.68, 0.68, 0.8, 0.68, 0.69, 0.78, 0.68, 0.7,...   \n",
       "3223               [0.64, 0.61, 0.64, 0.61, 0.62, 0.66]   \n",
       "\n",
       "                                             fields_old    f_per_p  reading  \\\n",
       "0     ['name__1', 'name__2', 'docket_number', 'users...   7.500000     10.5   \n",
       "1     ['docket_number', 'users1_birthdate', 'male', ...  19.000000     10.5   \n",
       "2     ['of the probation department or by order of t...   4.800000     12.5   \n",
       "3     ['Name', 'Address', 'City State Zip', 'Phone',...  14.666667      6.5   \n",
       "4     ['Name', 'Address', 'City State Zip', 'Phone',...  19.000000      7.5   \n",
       "...                                                 ...        ...      ...   \n",
       "3219  ['CourtInfo[0]', 'CaseNumber[0]', 'RightCaptio...  19.000000     12.5   \n",
       "3220  ['CourtInfo[0]', 'CaseNumber[0]', 'RightCaptio...  22.000000      7.5   \n",
       "3221  ['CourtInfo[0]', 'CaseNumber[0]', 'RightCaptio...  50.000000     11.5   \n",
       "3222  ['TurnedInAgent_ft[0]', 'TurnedInDate_dt[0]', ...  32.000000     10.5   \n",
       "3223  ['Print_bt[0]', 'Save_bt[0]', 'Reset_bt[0]', '...   6.000000      9.5   \n",
       "\n",
       "                                      list  \\\n",
       "0                                       []   \n",
       "1                       ['GO-00-00-00-00']   \n",
       "2                                       []   \n",
       "3                                       []   \n",
       "4                       ['GO-00-00-00-00']   \n",
       "...                                    ...   \n",
       "3219  ['CO-07-00-00-00', 'CO-00-00-00-00']   \n",
       "3220  ['CO-07-00-00-00', 'CO-00-00-00-00']   \n",
       "3221                    ['CO-00-00-00-00']   \n",
       "3222                                    []   \n",
       "3223                                    []   \n",
       "\n",
       "                                                   text  readbility  \n",
       "0     COMMUNITY SERVICE WORKSHEET\\n THIRD DISTRICT J...        10.5  \n",
       "1     THIRD DISTRICT JUVENILE COURT WORK PROGRAM REF...        10.5  \n",
       "2     Page 1 of 4\\n UTAH STATE DISTRICT JUVENILE COU...        12.5  \n",
       "3     Consent to Adoption and Waiver of \\n Rights\\n ...         6.5  \n",
       "4     Adoption\\n \\n Agreement\\n \\n Approved Board of...         7.5  \n",
       "...                                                 ...         ...  \n",
       "3219  Notice of Hearing to Renew Restraining Order (...        12.5  \n",
       "3220  Response to Request to Renew Restraining Order...         7.5  \n",
       "3221  Order Renewing Workplace Violence Restraining ...        11.5  \n",
       "3222  Signature of law enforcement agent To Law Enfo...        10.5  \n",
       "3223  WV 800 INFO, Page 1 of 1 Judicial Council of C...         9.5  \n",
       "\n",
       "[3224 rows x 17 columns]"
      ]
     },
     "execution_count": 23,
     "metadata": {},
     "output_type": "execute_result"
    }
   ],
   "source": [
    "import re\n",
    "import textstat\n",
    "cleanup = pd.read_csv(\"../data/processed/form_data.csv\")\n",
    "for index,row in cleanup.iterrows():\n",
    "    text = row[\"text\"]\n",
    "    try:\n",
    "        if pd.notnull(text):\n",
    "            text = re.sub(\"_\",\" \",text)\n",
    "            text = re.sub(\"\\n\",\". \",text)\n",
    "            text = re.sub(\" +\",\" \",text)\n",
    "            if text!= \"\":\n",
    "                consensus = textstat.text_standard(text)\n",
    "                readbility = eval(re.sub(\"^(\\d+)[^0-9]+(\\d+)\\w*.*\",\"(\\\\1+\\\\2)/2\",consensus))\n",
    "            else:\n",
    "                readbility = None    \n",
    "    except:\n",
    "        readbility = None    \n",
    "        \n",
    "    cleanup.at[index, 'reading'] = readbility\n",
    "        \n",
    "    print(readbility)\n",
    "\n",
    "cleanup"
   ]
  },
  {
   "cell_type": "code",
   "execution_count": 25,
   "metadata": {},
   "outputs": [
    {
     "data": {
      "text/html": [
       "<div>\n",
       "<style scoped>\n",
       "    .dataframe tbody tr th:only-of-type {\n",
       "        vertical-align: middle;\n",
       "    }\n",
       "\n",
       "    .dataframe tbody tr th {\n",
       "        vertical-align: top;\n",
       "    }\n",
       "\n",
       "    .dataframe thead th {\n",
       "        text-align: right;\n",
       "    }\n",
       "</style>\n",
       "<table border=\"1\" class=\"dataframe\">\n",
       "  <thead>\n",
       "    <tr style=\"text-align: right;\">\n",
       "      <th></th>\n",
       "      <th>id</th>\n",
       "      <th>jurisdiction</th>\n",
       "      <th>source</th>\n",
       "      <th>title</th>\n",
       "      <th>group</th>\n",
       "      <th>url</th>\n",
       "      <th>filename</th>\n",
       "      <th>downloaded</th>\n",
       "      <th>pages</th>\n",
       "      <th>fields</th>\n",
       "      <th>fields_conf</th>\n",
       "      <th>fields_old</th>\n",
       "      <th>f_per_p</th>\n",
       "      <th>reading</th>\n",
       "      <th>list</th>\n",
       "      <th>text</th>\n",
       "    </tr>\n",
       "  </thead>\n",
       "  <tbody>\n",
       "    <tr>\n",
       "      <th>0</th>\n",
       "      <td>04b3a0734774c02edf8eb9056d23954aa38e96c77c3392...</td>\n",
       "      <td>UT</td>\n",
       "      <td>www.utcourts.gov</td>\n",
       "      <td>Community Service Worksheet Third District Juv...</td>\n",
       "      <td>3rd District Juvenile Court: Forms and Pamphlets</td>\n",
       "      <td>https://www.utcourts.gov/courts/juv/juvsites/3...</td>\n",
       "      <td>COMMUNITY%20SERVICE%20WORKSHEET-FRONT%20AND%20...</td>\n",
       "      <td>2021-11-11</td>\n",
       "      <td>2.0</td>\n",
       "      <td>['name__1', 'name__2', '*docket_number', '*use...</td>\n",
       "      <td>[0.63, 0.61, 1, 1, 1, 0.61, 0.52, 0.53, 0.6, 0...</td>\n",
       "      <td>['name__1', 'name__2', 'docket_number', 'users...</td>\n",
       "      <td>7.500000</td>\n",
       "      <td>10.5</td>\n",
       "      <td>[]</td>\n",
       "      <td>COMMUNITY SERVICE WORKSHEET\\n THIRD DISTRICT J...</td>\n",
       "    </tr>\n",
       "    <tr>\n",
       "      <th>1</th>\n",
       "      <td>6e420f1b3575cfd8ef94b71977da9e38252e3395a78439...</td>\n",
       "      <td>UT</td>\n",
       "      <td>www.utcourts.gov</td>\n",
       "      <td>Third District Juvenile Court Work Program Ref...</td>\n",
       "      <td>3rd District Juvenile Court: Forms and Pamphlets</td>\n",
       "      <td>https://www.utcourts.gov/courts/juv/juvsites/3...</td>\n",
       "      <td>Work_Crew_Application-2007.pdf</td>\n",
       "      <td>2021-11-11</td>\n",
       "      <td>2.0</td>\n",
       "      <td>['*docket_number', '*users1_birthdate', 'male'...</td>\n",
       "      <td>[1, 1, 0.69, 0.61, 1, 1, 1, 0.56, 0.68, 0.67, ...</td>\n",
       "      <td>['docket_number', 'users1_birthdate', 'male', ...</td>\n",
       "      <td>19.000000</td>\n",
       "      <td>10.5</td>\n",
       "      <td>['GO-00-00-00-00']</td>\n",
       "      <td>THIRD DISTRICT JUVENILE COURT WORK PROGRAM REF...</td>\n",
       "    </tr>\n",
       "    <tr>\n",
       "      <th>2</th>\n",
       "      <td>2532cd2b6d3aaff8c47726a0abd168fb4e5cdb4977c065...</td>\n",
       "      <td>UT</td>\n",
       "      <td>www.utcourts.gov</td>\n",
       "      <td>Utah State District Juvenile Court Probation O...</td>\n",
       "      <td>3rd District Juvenile Court: Forms and Pamphlets</td>\n",
       "      <td>https://www.utcourts.gov/courts/juv/juvsites/3...</td>\n",
       "      <td>Probation%20Order%20revised.050502.pdf</td>\n",
       "      <td>2021-11-11</td>\n",
       "      <td>5.0</td>\n",
       "      <td>['probation_department_order_court', 'special_...</td>\n",
       "      <td>[0.73, 0.65, 0.7, 0.54, 0.68, 0.67, 0.62, 0.59...</td>\n",
       "      <td>['of the probation department or by order of t...</td>\n",
       "      <td>4.800000</td>\n",
       "      <td>12.5</td>\n",
       "      <td>[]</td>\n",
       "      <td>Page 1 of 4\\n UTAH STATE DISTRICT JUVENILE COU...</td>\n",
       "    </tr>\n",
       "    <tr>\n",
       "      <th>3</th>\n",
       "      <td>f6a6814890f21c11524d5785d772272916ff95909b7dba...</td>\n",
       "      <td>UT</td>\n",
       "      <td>www.utcourts.gov</td>\n",
       "      <td>Adoptee's Consent to Adoption and Waiver of Ri...</td>\n",
       "      <td>Adopting a Minor Stepchild</td>\n",
       "      <td>https://www.utcourts.gov/howto/family/adoption...</td>\n",
       "      <td>02_Consent_Adoptee.pdf</td>\n",
       "      <td>2021-11-11</td>\n",
       "      <td>3.0</td>\n",
       "      <td>['*users1_name', '*users1_address_line_one', '...</td>\n",
       "      <td>[1.0, 1.0, 1.0, 1.0, 0.61, 0.7, 0.67, 1.0, 0.6...</td>\n",
       "      <td>['Name', 'Address', 'City State Zip', 'Phone',...</td>\n",
       "      <td>14.666667</td>\n",
       "      <td>6.5</td>\n",
       "      <td>[]</td>\n",
       "      <td>Consent to Adoption and Waiver of \\n Rights\\n ...</td>\n",
       "    </tr>\n",
       "    <tr>\n",
       "      <th>4</th>\n",
       "      <td>be656a9a361db7c3532026b0bae372e704beb160fce37e...</td>\n",
       "      <td>UT</td>\n",
       "      <td>www.utcourts.gov</td>\n",
       "      <td>Adoption Agreement</td>\n",
       "      <td>Adopting a Minor Stepchild</td>\n",
       "      <td>https://www.utcourts.gov/howto/family/adoption...</td>\n",
       "      <td>08_Agreement.pdf</td>\n",
       "      <td>2021-11-11</td>\n",
       "      <td>1.0</td>\n",
       "      <td>['*users1_name', '*users1_address_line_one', '...</td>\n",
       "      <td>[1.0, 1.0, 1.0, 1.0, 0.61, 0.7, 0.67, 1.0, 0.6...</td>\n",
       "      <td>['Name', 'Address', 'City State Zip', 'Phone',...</td>\n",
       "      <td>19.000000</td>\n",
       "      <td>7.5</td>\n",
       "      <td>['GO-00-00-00-00']</td>\n",
       "      <td>Adoption\\n \\n Agreement\\n \\n Approved Board of...</td>\n",
       "    </tr>\n",
       "    <tr>\n",
       "      <th>...</th>\n",
       "      <td>...</td>\n",
       "      <td>...</td>\n",
       "      <td>...</td>\n",
       "      <td>...</td>\n",
       "      <td>...</td>\n",
       "      <td>...</td>\n",
       "      <td>...</td>\n",
       "      <td>...</td>\n",
       "      <td>...</td>\n",
       "      <td>...</td>\n",
       "      <td>...</td>\n",
       "      <td>...</td>\n",
       "      <td>...</td>\n",
       "      <td>...</td>\n",
       "      <td>...</td>\n",
       "      <td>...</td>\n",
       "    </tr>\n",
       "    <tr>\n",
       "      <th>3219</th>\n",
       "      <td>6efc9088604befed5fb59fc42aeee0f5</td>\n",
       "      <td>CA</td>\n",
       "      <td>www.courts.ca.gov</td>\n",
       "      <td>Notice of Hearing to Renew Restraining Order</td>\n",
       "      <td>WV</td>\n",
       "      <td>https://www.courts.ca.gov/documents/wv710.pdf</td>\n",
       "      <td>wv710.pdf</td>\n",
       "      <td>2021-11-17</td>\n",
       "      <td>2.0</td>\n",
       "      <td>['court_info', 'case_number', 'right_caption',...</td>\n",
       "      <td>[0.69, 0.56, 0.64, 0.55, 0.55, 0.69, 0.66, 0.6...</td>\n",
       "      <td>['CourtInfo[0]', 'CaseNumber[0]', 'RightCaptio...</td>\n",
       "      <td>19.000000</td>\n",
       "      <td>12.5</td>\n",
       "      <td>['CO-07-00-00-00', 'CO-00-00-00-00']</td>\n",
       "      <td>Notice of Hearing to Renew Restraining Order (...</td>\n",
       "    </tr>\n",
       "    <tr>\n",
       "      <th>3220</th>\n",
       "      <td>740afc14f63fc6bf594ee344126ddb54</td>\n",
       "      <td>CA</td>\n",
       "      <td>www.courts.ca.gov</td>\n",
       "      <td>Response to Request to Renew Restraining Order</td>\n",
       "      <td>WV</td>\n",
       "      <td>https://www.courts.ca.gov/documents/wv720.pdf</td>\n",
       "      <td>wv720.pdf</td>\n",
       "      <td>2021-11-17</td>\n",
       "      <td>2.0</td>\n",
       "      <td>['court_info', 'case_number', 'right_caption',...</td>\n",
       "      <td>[0.69, 0.56, 0.64, 0.55, 0.55, 0.69, 0.66, 0.6...</td>\n",
       "      <td>['CourtInfo[0]', 'CaseNumber[0]', 'RightCaptio...</td>\n",
       "      <td>22.000000</td>\n",
       "      <td>7.5</td>\n",
       "      <td>['CO-07-00-00-00', 'CO-00-00-00-00']</td>\n",
       "      <td>Response to Request to Renew Restraining Order...</td>\n",
       "    </tr>\n",
       "    <tr>\n",
       "      <th>3221</th>\n",
       "      <td>c3642c835a4c4c0a167fdcc4758b68d9</td>\n",
       "      <td>CA</td>\n",
       "      <td>www.courts.ca.gov</td>\n",
       "      <td>Order Renewing Workplace Violence Restraining ...</td>\n",
       "      <td>WV</td>\n",
       "      <td>https://www.courts.ca.gov/documents/wv730.pdf</td>\n",
       "      <td>wv730.pdf</td>\n",
       "      <td>2021-11-17</td>\n",
       "      <td>1.0</td>\n",
       "      <td>['court_info', 'case_number', 'right_caption',...</td>\n",
       "      <td>[0.69, 0.56, 0.64, 0.55, 0.55, 0.69, 0.66, 0.6...</td>\n",
       "      <td>['CourtInfo[0]', 'CaseNumber[0]', 'RightCaptio...</td>\n",
       "      <td>50.000000</td>\n",
       "      <td>11.5</td>\n",
       "      <td>['CO-00-00-00-00']</td>\n",
       "      <td>Order Renewing Workplace Violence Restraining ...</td>\n",
       "    </tr>\n",
       "    <tr>\n",
       "      <th>3222</th>\n",
       "      <td>e2917df3dd9a497daf3a29ca49782672</td>\n",
       "      <td>CA</td>\n",
       "      <td>www.courts.ca.gov</td>\n",
       "      <td>Proof of Firearms Turned In, Sold, or Stored</td>\n",
       "      <td>WV</td>\n",
       "      <td>https://www.courts.ca.gov/documents/wv800.pdf</td>\n",
       "      <td>wv800.pdf</td>\n",
       "      <td>2021-11-17</td>\n",
       "      <td>2.0</td>\n",
       "      <td>['turned_agent_ft', 'turned_date_dt', 'turned_...</td>\n",
       "      <td>[0.68, 0.68, 0.8, 0.68, 0.69, 0.78, 0.68, 0.7,...</td>\n",
       "      <td>['TurnedInAgent_ft[0]', 'TurnedInDate_dt[0]', ...</td>\n",
       "      <td>32.000000</td>\n",
       "      <td>10.5</td>\n",
       "      <td>[]</td>\n",
       "      <td>Signature of law enforcement agent To Law Enfo...</td>\n",
       "    </tr>\n",
       "    <tr>\n",
       "      <th>3223</th>\n",
       "      <td>bb9e239f96230c44aa199655f2e0988d</td>\n",
       "      <td>CA</td>\n",
       "      <td>www.courts.ca.gov</td>\n",
       "      <td>How Do I Turn In, Sell, or Store My Firearms?</td>\n",
       "      <td>WV</td>\n",
       "      <td>https://www.courts.ca.gov/documents/wv800info.pdf</td>\n",
       "      <td>wv800info.pdf</td>\n",
       "      <td>2021-11-17</td>\n",
       "      <td>1.0</td>\n",
       "      <td>['print_bt', 'save_bt', 'reset_bt', 'btn_foote...</td>\n",
       "      <td>[0.64, 0.61, 0.64, 0.61, 0.62, 0.66]</td>\n",
       "      <td>['Print_bt[0]', 'Save_bt[0]', 'Reset_bt[0]', '...</td>\n",
       "      <td>6.000000</td>\n",
       "      <td>9.5</td>\n",
       "      <td>[]</td>\n",
       "      <td>WV 800 INFO, Page 1 of 1 Judicial Council of C...</td>\n",
       "    </tr>\n",
       "  </tbody>\n",
       "</table>\n",
       "<p>3224 rows × 16 columns</p>\n",
       "</div>"
      ],
      "text/plain": [
       "                                                     id jurisdiction  \\\n",
       "0     04b3a0734774c02edf8eb9056d23954aa38e96c77c3392...           UT   \n",
       "1     6e420f1b3575cfd8ef94b71977da9e38252e3395a78439...           UT   \n",
       "2     2532cd2b6d3aaff8c47726a0abd168fb4e5cdb4977c065...           UT   \n",
       "3     f6a6814890f21c11524d5785d772272916ff95909b7dba...           UT   \n",
       "4     be656a9a361db7c3532026b0bae372e704beb160fce37e...           UT   \n",
       "...                                                 ...          ...   \n",
       "3219                   6efc9088604befed5fb59fc42aeee0f5           CA   \n",
       "3220                   740afc14f63fc6bf594ee344126ddb54           CA   \n",
       "3221                   c3642c835a4c4c0a167fdcc4758b68d9           CA   \n",
       "3222                   e2917df3dd9a497daf3a29ca49782672           CA   \n",
       "3223                   bb9e239f96230c44aa199655f2e0988d           CA   \n",
       "\n",
       "                 source                                              title  \\\n",
       "0      www.utcourts.gov  Community Service Worksheet Third District Juv...   \n",
       "1      www.utcourts.gov  Third District Juvenile Court Work Program Ref...   \n",
       "2      www.utcourts.gov  Utah State District Juvenile Court Probation O...   \n",
       "3      www.utcourts.gov  Adoptee's Consent to Adoption and Waiver of Ri...   \n",
       "4      www.utcourts.gov                                Adoption Agreement    \n",
       "...                 ...                                                ...   \n",
       "3219  www.courts.ca.gov       Notice of Hearing to Renew Restraining Order   \n",
       "3220  www.courts.ca.gov     Response to Request to Renew Restraining Order   \n",
       "3221  www.courts.ca.gov  Order Renewing Workplace Violence Restraining ...   \n",
       "3222  www.courts.ca.gov       Proof of Firearms Turned In, Sold, or Stored   \n",
       "3223  www.courts.ca.gov      How Do I Turn In, Sell, or Store My Firearms?   \n",
       "\n",
       "                                                 group  \\\n",
       "0     3rd District Juvenile Court: Forms and Pamphlets   \n",
       "1     3rd District Juvenile Court: Forms and Pamphlets   \n",
       "2     3rd District Juvenile Court: Forms and Pamphlets   \n",
       "3                           Adopting a Minor Stepchild   \n",
       "4                           Adopting a Minor Stepchild   \n",
       "...                                                ...   \n",
       "3219                                                WV   \n",
       "3220                                                WV   \n",
       "3221                                                WV   \n",
       "3222                                                WV   \n",
       "3223                                                WV   \n",
       "\n",
       "                                                    url  \\\n",
       "0     https://www.utcourts.gov/courts/juv/juvsites/3...   \n",
       "1     https://www.utcourts.gov/courts/juv/juvsites/3...   \n",
       "2     https://www.utcourts.gov/courts/juv/juvsites/3...   \n",
       "3     https://www.utcourts.gov/howto/family/adoption...   \n",
       "4     https://www.utcourts.gov/howto/family/adoption...   \n",
       "...                                                 ...   \n",
       "3219      https://www.courts.ca.gov/documents/wv710.pdf   \n",
       "3220      https://www.courts.ca.gov/documents/wv720.pdf   \n",
       "3221      https://www.courts.ca.gov/documents/wv730.pdf   \n",
       "3222      https://www.courts.ca.gov/documents/wv800.pdf   \n",
       "3223  https://www.courts.ca.gov/documents/wv800info.pdf   \n",
       "\n",
       "                                               filename  downloaded  pages  \\\n",
       "0     COMMUNITY%20SERVICE%20WORKSHEET-FRONT%20AND%20...  2021-11-11    2.0   \n",
       "1                        Work_Crew_Application-2007.pdf  2021-11-11    2.0   \n",
       "2                Probation%20Order%20revised.050502.pdf  2021-11-11    5.0   \n",
       "3                                02_Consent_Adoptee.pdf  2021-11-11    3.0   \n",
       "4                                      08_Agreement.pdf  2021-11-11    1.0   \n",
       "...                                                 ...         ...    ...   \n",
       "3219                                          wv710.pdf  2021-11-17    2.0   \n",
       "3220                                          wv720.pdf  2021-11-17    2.0   \n",
       "3221                                          wv730.pdf  2021-11-17    1.0   \n",
       "3222                                          wv800.pdf  2021-11-17    2.0   \n",
       "3223                                      wv800info.pdf  2021-11-17    1.0   \n",
       "\n",
       "                                                 fields  \\\n",
       "0     ['name__1', 'name__2', '*docket_number', '*use...   \n",
       "1     ['*docket_number', '*users1_birthdate', 'male'...   \n",
       "2     ['probation_department_order_court', 'special_...   \n",
       "3     ['*users1_name', '*users1_address_line_one', '...   \n",
       "4     ['*users1_name', '*users1_address_line_one', '...   \n",
       "...                                                 ...   \n",
       "3219  ['court_info', 'case_number', 'right_caption',...   \n",
       "3220  ['court_info', 'case_number', 'right_caption',...   \n",
       "3221  ['court_info', 'case_number', 'right_caption',...   \n",
       "3222  ['turned_agent_ft', 'turned_date_dt', 'turned_...   \n",
       "3223  ['print_bt', 'save_bt', 'reset_bt', 'btn_foote...   \n",
       "\n",
       "                                            fields_conf  \\\n",
       "0     [0.63, 0.61, 1, 1, 1, 0.61, 0.52, 0.53, 0.6, 0...   \n",
       "1     [1, 1, 0.69, 0.61, 1, 1, 1, 0.56, 0.68, 0.67, ...   \n",
       "2     [0.73, 0.65, 0.7, 0.54, 0.68, 0.67, 0.62, 0.59...   \n",
       "3     [1.0, 1.0, 1.0, 1.0, 0.61, 0.7, 0.67, 1.0, 0.6...   \n",
       "4     [1.0, 1.0, 1.0, 1.0, 0.61, 0.7, 0.67, 1.0, 0.6...   \n",
       "...                                                 ...   \n",
       "3219  [0.69, 0.56, 0.64, 0.55, 0.55, 0.69, 0.66, 0.6...   \n",
       "3220  [0.69, 0.56, 0.64, 0.55, 0.55, 0.69, 0.66, 0.6...   \n",
       "3221  [0.69, 0.56, 0.64, 0.55, 0.55, 0.69, 0.66, 0.6...   \n",
       "3222  [0.68, 0.68, 0.8, 0.68, 0.69, 0.78, 0.68, 0.7,...   \n",
       "3223               [0.64, 0.61, 0.64, 0.61, 0.62, 0.66]   \n",
       "\n",
       "                                             fields_old    f_per_p  reading  \\\n",
       "0     ['name__1', 'name__2', 'docket_number', 'users...   7.500000     10.5   \n",
       "1     ['docket_number', 'users1_birthdate', 'male', ...  19.000000     10.5   \n",
       "2     ['of the probation department or by order of t...   4.800000     12.5   \n",
       "3     ['Name', 'Address', 'City State Zip', 'Phone',...  14.666667      6.5   \n",
       "4     ['Name', 'Address', 'City State Zip', 'Phone',...  19.000000      7.5   \n",
       "...                                                 ...        ...      ...   \n",
       "3219  ['CourtInfo[0]', 'CaseNumber[0]', 'RightCaptio...  19.000000     12.5   \n",
       "3220  ['CourtInfo[0]', 'CaseNumber[0]', 'RightCaptio...  22.000000      7.5   \n",
       "3221  ['CourtInfo[0]', 'CaseNumber[0]', 'RightCaptio...  50.000000     11.5   \n",
       "3222  ['TurnedInAgent_ft[0]', 'TurnedInDate_dt[0]', ...  32.000000     10.5   \n",
       "3223  ['Print_bt[0]', 'Save_bt[0]', 'Reset_bt[0]', '...   6.000000      9.5   \n",
       "\n",
       "                                      list  \\\n",
       "0                                       []   \n",
       "1                       ['GO-00-00-00-00']   \n",
       "2                                       []   \n",
       "3                                       []   \n",
       "4                       ['GO-00-00-00-00']   \n",
       "...                                    ...   \n",
       "3219  ['CO-07-00-00-00', 'CO-00-00-00-00']   \n",
       "3220  ['CO-07-00-00-00', 'CO-00-00-00-00']   \n",
       "3221                    ['CO-00-00-00-00']   \n",
       "3222                                    []   \n",
       "3223                                    []   \n",
       "\n",
       "                                                   text  \n",
       "0     COMMUNITY SERVICE WORKSHEET\\n THIRD DISTRICT J...  \n",
       "1     THIRD DISTRICT JUVENILE COURT WORK PROGRAM REF...  \n",
       "2     Page 1 of 4\\n UTAH STATE DISTRICT JUVENILE COU...  \n",
       "3     Consent to Adoption and Waiver of \\n Rights\\n ...  \n",
       "4     Adoption\\n \\n Agreement\\n \\n Approved Board of...  \n",
       "...                                                 ...  \n",
       "3219  Notice of Hearing to Renew Restraining Order (...  \n",
       "3220  Response to Request to Renew Restraining Order...  \n",
       "3221  Order Renewing Workplace Violence Restraining ...  \n",
       "3222  Signature of law enforcement agent To Law Enfo...  \n",
       "3223  WV 800 INFO, Page 1 of 1 Judicial Council of C...  \n",
       "\n",
       "[3224 rows x 16 columns]"
      ]
     },
     "execution_count": 25,
     "metadata": {},
     "output_type": "execute_result"
    }
   ],
   "source": [
    "cleanup = cleanup.drop('readbility', 1)\n",
    "cleanup"
   ]
  },
  {
   "cell_type": "code",
   "execution_count": 26,
   "metadata": {},
   "outputs": [],
   "source": [
    "#cleanup.to_csv(\"../data/processed/form_data.csv\", index=False, encoding=\"utf-8\")    "
   ]
  },
  {
   "cell_type": "code",
   "execution_count": null,
   "metadata": {},
   "outputs": [],
   "source": []
  }
 ],
 "metadata": {
  "kernelspec": {
   "display_name": "Python 3 (ipykernel)",
   "language": "python",
   "name": "python3"
  },
  "language_info": {
   "codemirror_mode": {
    "name": "ipython",
    "version": 3
   },
   "file_extension": ".py",
   "mimetype": "text/x-python",
   "name": "python",
   "nbconvert_exporter": "python",
   "pygments_lexer": "ipython3",
   "version": "3.8.12"
  }
 },
 "nbformat": 4,
 "nbformat_minor": 2
}
