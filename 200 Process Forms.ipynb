{
 "cells": [
  {
   "cell_type": "markdown",
   "metadata": {},
   "source": [
    "To Do:\n",
    "- Make work based on jurs list"
   ]
  },
  {
   "cell_type": "code",
   "execution_count": 1,
   "metadata": {},
   "outputs": [],
   "source": [
    "import pandas as pd\n",
    "import sys  \n",
    "sys.path.insert(0, '/lib')\n",
    "import lib.lit_explorer as lit"
   ]
  },
  {
   "cell_type": "code",
   "execution_count": 2,
   "metadata": {},
   "outputs": [],
   "source": [
    "jurs = [\n",
    "        \"CA\",\n",
    "        \"MI\",\n",
    "        \"UT\",\n",
    "        \"ME\"\n",
    "        ]"
   ]
  },
  {
   "cell_type": "code",
   "execution_count": 3,
   "metadata": {},
   "outputs": [
    {
     "data": {
      "text/html": [
       "<div>\n",
       "<style scoped>\n",
       "    .dataframe tbody tr th:only-of-type {\n",
       "        vertical-align: middle;\n",
       "    }\n",
       "\n",
       "    .dataframe tbody tr th {\n",
       "        vertical-align: top;\n",
       "    }\n",
       "\n",
       "    .dataframe thead th {\n",
       "        text-align: right;\n",
       "    }\n",
       "</style>\n",
       "<table border=\"1\" class=\"dataframe\">\n",
       "  <thead>\n",
       "    <tr style=\"text-align: right;\">\n",
       "      <th></th>\n",
       "      <th>id</th>\n",
       "      <th>jurisdiction</th>\n",
       "      <th>source</th>\n",
       "      <th>title</th>\n",
       "      <th>group</th>\n",
       "      <th>url</th>\n",
       "      <th>filename</th>\n",
       "      <th>downloaded</th>\n",
       "    </tr>\n",
       "  </thead>\n",
       "  <tbody>\n",
       "    <tr>\n",
       "      <th>0</th>\n",
       "      <td>04b3a0734774c02edf8eb9056d23954aa38e96c77c3392...</td>\n",
       "      <td>UT</td>\n",
       "      <td>www.utcourts.gov</td>\n",
       "      <td>Community Service Worksheet Third District Juv...</td>\n",
       "      <td>3rd District Juvenile Court: Forms and Pamphlets</td>\n",
       "      <td>https://www.utcourts.gov/courts/juv/juvsites/3...</td>\n",
       "      <td>COMMUNITY%20SERVICE%20WORKSHEET-FRONT%20AND%20...</td>\n",
       "      <td>2021-11-11</td>\n",
       "    </tr>\n",
       "    <tr>\n",
       "      <th>1</th>\n",
       "      <td>6e420f1b3575cfd8ef94b71977da9e38252e3395a78439...</td>\n",
       "      <td>UT</td>\n",
       "      <td>www.utcourts.gov</td>\n",
       "      <td>Third District Juvenile Court Work Program Ref...</td>\n",
       "      <td>3rd District Juvenile Court: Forms and Pamphlets</td>\n",
       "      <td>https://www.utcourts.gov/courts/juv/juvsites/3...</td>\n",
       "      <td>Work_Crew_Application-2007.pdf</td>\n",
       "      <td>2021-11-11</td>\n",
       "    </tr>\n",
       "    <tr>\n",
       "      <th>2</th>\n",
       "      <td>2532cd2b6d3aaff8c47726a0abd168fb4e5cdb4977c065...</td>\n",
       "      <td>UT</td>\n",
       "      <td>www.utcourts.gov</td>\n",
       "      <td>Utah State District Juvenile Court Probation O...</td>\n",
       "      <td>3rd District Juvenile Court: Forms and Pamphlets</td>\n",
       "      <td>https://www.utcourts.gov/courts/juv/juvsites/3...</td>\n",
       "      <td>Probation%20Order%20revised.050502.pdf</td>\n",
       "      <td>2021-11-11</td>\n",
       "    </tr>\n",
       "    <tr>\n",
       "      <th>3</th>\n",
       "      <td>f6a6814890f21c11524d5785d772272916ff95909b7dba...</td>\n",
       "      <td>UT</td>\n",
       "      <td>www.utcourts.gov</td>\n",
       "      <td>Adoptee's Consent to Adoption and Waiver of Ri...</td>\n",
       "      <td>Adopting a Minor Stepchild</td>\n",
       "      <td>https://www.utcourts.gov/howto/family/adoption...</td>\n",
       "      <td>02_Consent_Adoptee.pdf</td>\n",
       "      <td>2021-11-11</td>\n",
       "    </tr>\n",
       "    <tr>\n",
       "      <th>4</th>\n",
       "      <td>be656a9a361db7c3532026b0bae372e704beb160fce37e...</td>\n",
       "      <td>UT</td>\n",
       "      <td>www.utcourts.gov</td>\n",
       "      <td>Adoption Agreement</td>\n",
       "      <td>Adopting a Minor Stepchild</td>\n",
       "      <td>https://www.utcourts.gov/howto/family/adoption...</td>\n",
       "      <td>08_Agreement.pdf</td>\n",
       "      <td>2021-11-11</td>\n",
       "    </tr>\n",
       "  </tbody>\n",
       "</table>\n",
       "</div>"
      ],
      "text/plain": [
       "                                                  id jurisdiction  \\\n",
       "0  04b3a0734774c02edf8eb9056d23954aa38e96c77c3392...           UT   \n",
       "1  6e420f1b3575cfd8ef94b71977da9e38252e3395a78439...           UT   \n",
       "2  2532cd2b6d3aaff8c47726a0abd168fb4e5cdb4977c065...           UT   \n",
       "3  f6a6814890f21c11524d5785d772272916ff95909b7dba...           UT   \n",
       "4  be656a9a361db7c3532026b0bae372e704beb160fce37e...           UT   \n",
       "\n",
       "             source                                              title  \\\n",
       "0  www.utcourts.gov  Community Service Worksheet Third District Juv...   \n",
       "1  www.utcourts.gov  Third District Juvenile Court Work Program Ref...   \n",
       "2  www.utcourts.gov  Utah State District Juvenile Court Probation O...   \n",
       "3  www.utcourts.gov  Adoptee's Consent to Adoption and Waiver of Ri...   \n",
       "4  www.utcourts.gov                                Adoption Agreement    \n",
       "\n",
       "                                              group  \\\n",
       "0  3rd District Juvenile Court: Forms and Pamphlets   \n",
       "1  3rd District Juvenile Court: Forms and Pamphlets   \n",
       "2  3rd District Juvenile Court: Forms and Pamphlets   \n",
       "3                        Adopting a Minor Stepchild   \n",
       "4                        Adopting a Minor Stepchild   \n",
       "\n",
       "                                                 url  \\\n",
       "0  https://www.utcourts.gov/courts/juv/juvsites/3...   \n",
       "1  https://www.utcourts.gov/courts/juv/juvsites/3...   \n",
       "2  https://www.utcourts.gov/courts/juv/juvsites/3...   \n",
       "3  https://www.utcourts.gov/howto/family/adoption...   \n",
       "4  https://www.utcourts.gov/howto/family/adoption...   \n",
       "\n",
       "                                            filename  downloaded  \n",
       "0  COMMUNITY%20SERVICE%20WORKSHEET-FRONT%20AND%20...  2021-11-11  \n",
       "1                     Work_Crew_Application-2007.pdf  2021-11-11  \n",
       "2             Probation%20Order%20revised.050502.pdf  2021-11-11  \n",
       "3                             02_Consent_Adoptee.pdf  2021-11-11  \n",
       "4                                   08_Agreement.pdf  2021-11-11  "
      ]
     },
     "execution_count": 3,
     "metadata": {},
     "output_type": "execute_result"
    }
   ],
   "source": [
    "files_df_ut = pd.read_csv(\"../data/raw/www.utcourts.gov/form_data.csv\")\n",
    "files_df_mi = pd.read_csv(\"../data/raw/www.courts.michigan.gov/form_data.csv\")\n",
    "files_df_me = pd.read_csv(\"../data/raw/mjbportal.courts.maine.gov/form_data.csv\")\n",
    "files_df_ca = pd.read_csv(\"../data/raw/www.courts.ca.gov/form_data.csv\")\n",
    "\n",
    "df = pd.concat([files_df_ut,files_df_mi,files_df_me,files_df_ca],ignore_index=True)\n",
    "df.head()"
   ]
  },
  {
   "cell_type": "code",
   "execution_count": 5,
   "metadata": {
    "scrolled": true
   },
   "outputs": [
    {
     "name": "stdout",
     "output_type": "stream",
     "text": [
      "3224\n",
      "0*, 1*, 2*, 3*, 4*, 5*, 6*, 7*, 8*, 9*, 10*, 11*, 12*, 13*, 14*, 15*, 16*, 17*, 18*, 19*, 20*, 21*, 22*, 23*, 24*, 25*, 26*, 27*, 28*, 29*, 30*, 31*, 32*, 33*, 34*, 35*, 36*, 37*, 38*, 39*, 40*, 41*, 42*, 43*, 44*, 45*, 46*, 47*, 48*, 49*, 50*, 51*, 52*, 53*, 54*, 55*, 56*, 57*, 58*, 59*, 60*, 61*, 62*, 63*, 64*, 65*, 66*, 67*, 68*, 69*, 70*, 71*, 72*, 73*, 74*, 75*, 76*, 77*, 78*, 79*, 80*, 81*, 82*, 83*, 84*, 85*, 86*, 87*, 88*, 89*, 90*, 91*, 92*, 93*, 94*, 95*, 96*, 97*, 98*, 99*, 100*, 101*, 102*, 103*, 104*, 105*, 106*, 107*, 108*, 109*, 110*, 111*, 112*, 113*, 114*, 115*, 116*, 117*, 118*, 119*, 120*, 121*, 122*, 123*, 124*, 125*, 126*, 127*, 128*, 129*, 130*, 131*, 132*, 133*, 134*, 135*, 136*, 137*, 138*, 139*, 140*, 141*, 142*, 143*, 144*, 145*, 146*, 147*, 148*, 149*, 150*, 151*, 152*, 153*, 154*, 155*, 156*, 157*, 158*, 159*, 160*, 161*, 162*, 163*, 164*, 165*, 166*, 167*, 168*, 169*, 170*, 171*, 172*, 173*, 174*, 175*, 176*, 177*, 178*, 179*, 180*, 181*, 182*, 183*, 184*, 185*, 186*, 187*, 188*, 189*, 190*, 191*, 192*, 193*, 194*, 195*, 196*, 197*, 198*, 199*, 200*, 201*, 202*, 203*, 204*, 205*, 206*, 207*, 208*, 209*, 210*, 211*, 212*, 213*, 214*, 215*, 216*, 217*, 218*, 219*, 220*, 221*, 222*, 223*, 224*, 225*, 226*, 227*, 228*, 229*, 230*, 231*, 232*, 233*, 234*, 235*, 236*, 237*, 238*, 239*, 240*, 241*, 242*, 243*, 244*, 245*, 246*, 247*, 248*, 249*, 250*, 251*, 252*, 253*, 254*, 255*, 256*, 257*, 258*, 259*, 260*, 261*, 262*, 263*, 264*, 265*, 266*, 267*, 268*, 269*, 270*, 271*, 272*, 273*, 274*, 275*, 276*, 277*, 278*, 279*, 280*, 281*, 282*, 283*, 284*, 285*, 286*, 287*, 288*, 289*, 290*, 291*, 292*, 293*, 294*, 295*, 296*, 297*, 298*, 299*, 300*, 301*, 302*, 303*, 304*, 305*, 306*, 307*, 308*, 309*, 310*, 311*, 312*, 313*, 314*, 315*, 316*, 317*, 318*, 319*, 320*, 321*, 322*, 323*, 324*, 325*, 326*, 327*, 328*, 329*, 330*, 331*, 332*, 333*, 334*, 335*, 336*, 337*, 338*, 339*, 340*, 341*, error: ../data/raw/www.utcourts.gov/forms/62fe775c532a219c54f2f33da989834b6441146e78e5c51b60c474be.pdf\n",
      "342*, 343*, 344*, 345*, 346*, 347*, 348*, 349*, 350*, 351*, 352*, 353*, 354*, 355*, 356*, 357*, 358*, 359*, 360*, 361*, 362*, 363*, 364*, 365*, 366*, 367*, 368*, 369*, 370*, 371*, 372*, 373*, 374*, 375*, 376*, 377*, 378*, 379*, 380*, 381*, 382*, 383*, 384*, 385*, 386*, 387*, 388*, 389*, 390*, 391*, 392*, 393*, 394*, 395*, 396*, 397*, 398*, 399*, 400*, 401*, 402*, 403*, 404*, 405*, 406*, 407*, 408*, 409*, 410*, 411*, 412*, 413*, 414*, 415*, 416*, 417*, 418*, 419*, 420*, 421*, 422*, 423*, 424*, 425*, 426*, 427*, 428*, 429*, 430*, 431*, 432*, 433*, 434*, 435*, 436*, 437*, 438*, 439*, 440*, 441*, 442*, 443*, 444*, 445*, 446*, 447*, 448*, 449*, 450*, 451*, 452*, 453*, 454*, 455*, 456*, 457*, 458*, 459*, 460*, 461*, 462*, 463*, 464*, 465*, 466*, 467*, 468*, 469*, 470*, 471*, 472*, 473*, 474*, 475*, 476*, 477*, 478*, 479*, 480*, 481*, 482*, 483*, 484*, 485*, 486*, 487*, 488*, 489*, 490*, 491*, 492*, 493*, 494*, 495*, 496*, 497*, 498*, 499*, 500*, 501*, 502*, 503*, 504*, 505*, 506*, 507*, 508*, 509*, 510*, 511*, 512*, 513*, 514*, 515*, 516*, 517*, 518*, 519*, 520*, 521*, 522*, 523*, 524*, 525*, 526*, 527*, 528*, 529*, 530*, 531*, 532*, 533*, 534*, 535*, 536*, 537*, 538*, 539*, 540*, 541*, 542*, 543*, 544*, 545*, 546*, 547*, 548*, 549*, 550*, 551*, 552*, 553*, 554*, 555*, 556*, 557*, 558*, 559*, 560*, 561*, 562*, 563*, 564*, 565*, 566*, 567*, 568*, 569*, 570*, 571*, 572*, 573*, 574*, 575*, 576*, 577*, 578*, 579*, 580*, 581*, 582*, 583*, 584*, 585*, 586*, 587*, 588*, 589*, 590*, 591*, 592*, 593*, 594*, 595*, 596*, 597*, 598*, 599*, 600*, 601*, 602*, 603*, 604*, 605*, 606*, 607*, 608*, 609*, 610*, 611*, 612*, 613*, 614*, 615*, 616*, 617*, 618*, 619*, 620*, 621*, 622*, 623*, 624*, 625*, 626*, 627*, 628*, 629*, 630*, 631*, 632*, 633*, 634*, 635*, 636*, 637*, 638*, 639*, 640*, 641*, 642*, 643*, 644*, 645*, 646*, 647*, 648*, 649*, 650*, 651*, 652*, 653*, 654*, 655*, 656*, 657*, 658*, 659*, 660*, 661*, 662*, 663*, 664*, 665*, 666*, 667*, 668*, 669*, 670*, 671*, 672*, 673*, 674*, 675*, 676*, 677*, 678*, 679*, 680*, 681*, 682*, 683*, 684*, 685*, 686*, 687*, 688*, 689*, 690*, 691*, 692*, 693*, 694*, 695*, 696*, 697*, 698*, 699*, "
     ]
    },
    {
     "name": "stderr",
     "output_type": "stream",
     "text": [
      "PdfReadWarning: Xref table not zero-indexed. ID numbers for objects will be corrected. [pdf.py:1736]\n"
     ]
    },
    {
     "name": "stdout",
     "output_type": "stream",
     "text": [
      "700*, 701*, 702*, 703*, 704*, 705*, 706*, 707*, 708*, 709*, 710*, 711*, 712*, "
     ]
    },
    {
     "name": "stderr",
     "output_type": "stream",
     "text": [
      "PdfReadWarning: Xref table not zero-indexed. ID numbers for objects will be corrected. [pdf.py:1736]\n"
     ]
    },
    {
     "name": "stdout",
     "output_type": "stream",
     "text": [
      "713*, 714*, 715*, "
     ]
    },
    {
     "name": "stderr",
     "output_type": "stream",
     "text": [
      "PdfReadWarning: Xref table not zero-indexed. ID numbers for objects will be corrected. [pdf.py:1736]\n"
     ]
    },
    {
     "name": "stdout",
     "output_type": "stream",
     "text": [
      "716*, 717*, 718*, 719*, 720*, 721*, 722*, 723*, 724*, 725*, 726*, 727*, 728*, 729*, 730*, 731*, 732*, 733*, 734*, 735*, 736*, 737*, 738*, 739*, 740*, 741*, 742*, "
     ]
    },
    {
     "name": "stderr",
     "output_type": "stream",
     "text": [
      "PdfReadWarning: Xref table not zero-indexed. ID numbers for objects will be corrected. [pdf.py:1736]\n"
     ]
    },
    {
     "name": "stdout",
     "output_type": "stream",
     "text": [
      "743*, 744*, 745*, 746*, 747*, 748*, 749*, 750*, 751*, 752*, 753*, 754*, 755*, 756*, 757*, 758*, 759*, 760*, "
     ]
    },
    {
     "name": "stderr",
     "output_type": "stream",
     "text": [
      "PdfReadWarning: Xref table not zero-indexed. ID numbers for objects will be corrected. [pdf.py:1736]\n"
     ]
    },
    {
     "name": "stdout",
     "output_type": "stream",
     "text": [
      "761*, 762*, "
     ]
    },
    {
     "name": "stderr",
     "output_type": "stream",
     "text": [
      "PdfReadWarning: Xref table not zero-indexed. ID numbers for objects will be corrected. [pdf.py:1736]\n"
     ]
    },
    {
     "name": "stdout",
     "output_type": "stream",
     "text": [
      "763*, 764*, 765*, 766*, 767*, 768*, 769*, 770*, 771*, 772*, 773*, 774*, 775*, 776*, 777*, 778*, 779*, 780*, 781*, 782*, 783*, 784*, 785*, 786*, 787*, 788*, 789*, "
     ]
    },
    {
     "name": "stderr",
     "output_type": "stream",
     "text": [
      "PdfReadWarning: Xref table not zero-indexed. ID numbers for objects will be corrected. [pdf.py:1736]\n"
     ]
    },
    {
     "name": "stdout",
     "output_type": "stream",
     "text": [
      "790*, 791*, 792*, 793*, 794*, "
     ]
    },
    {
     "name": "stderr",
     "output_type": "stream",
     "text": [
      "PdfReadWarning: Xref table not zero-indexed. ID numbers for objects will be corrected. [pdf.py:1736]\n"
     ]
    },
    {
     "name": "stdout",
     "output_type": "stream",
     "text": [
      "795*, 796*, 797*, error: ../data/raw/www.courts.michigan.gov/forms/fc40a1ea6cd3236132ee07f49918999ccbfc26c5682253dd2ed5a3f2.pdf\n",
      "798*, 799*, 800*, 801*, 802*, 803*, "
     ]
    },
    {
     "name": "stderr",
     "output_type": "stream",
     "text": [
      "PdfReadWarning: Xref table not zero-indexed. ID numbers for objects will be corrected. [pdf.py:1736]\n"
     ]
    },
    {
     "name": "stdout",
     "output_type": "stream",
     "text": [
      "804*, "
     ]
    },
    {
     "name": "stderr",
     "output_type": "stream",
     "text": [
      "PdfReadWarning: Xref table not zero-indexed. ID numbers for objects will be corrected. [pdf.py:1736]\n"
     ]
    },
    {
     "name": "stdout",
     "output_type": "stream",
     "text": [
      "805*, 806*, 807*, 808*, 809*, 810*, 811*, 812*, 813*, 814*, 815*, 816*, 817*, 818*, 819*, 820*, 821*, 822*, 823*, 824*, 825*, 826*, 827*, 828*, 829*, 830*, 831*, 832*, 833*, 834*, 835*, "
     ]
    },
    {
     "name": "stderr",
     "output_type": "stream",
     "text": [
      "PdfReadWarning: Xref table not zero-indexed. ID numbers for objects will be corrected. [pdf.py:1736]\n"
     ]
    },
    {
     "name": "stdout",
     "output_type": "stream",
     "text": [
      "836*, 837*, 838*, 839*, 840*, 841*, 842*, 843*, 844*, 845*, 846*, 847*, 848*, 849*, 850*, 851*, 852*, 853*, "
     ]
    },
    {
     "name": "stderr",
     "output_type": "stream",
     "text": [
      "PdfReadWarning: Xref table not zero-indexed. ID numbers for objects will be corrected. [pdf.py:1736]\n"
     ]
    },
    {
     "name": "stdout",
     "output_type": "stream",
     "text": [
      "854*, 855*, 856*, 857*, 858*, 859*, 860*, 861*, 862*, 863*, 864*, 865*, 866*, 867*, 868*, 869*, 870*, 871*, 872*, 873*, 874*, 875*, 876*, 877*, 878*, 879*, 880*, 881*, 882*, 883*, 884*, 885*, 886*, 887*, 888*, 889*, 890*, 891*, 892*, 893*, 894*, 895*, 896*, 897*, 898*, 899*, 900*, 901*, 902*, 903*, 904*, 905*, 906*, 907*, 908*, 909*, "
     ]
    },
    {
     "name": "stderr",
     "output_type": "stream",
     "text": [
      "PdfReadWarning: Xref table not zero-indexed. ID numbers for objects will be corrected. [pdf.py:1736]\n"
     ]
    },
    {
     "name": "stdout",
     "output_type": "stream",
     "text": [
      "910*, 911*, 912*, "
     ]
    },
    {
     "name": "stderr",
     "output_type": "stream",
     "text": [
      "PdfReadWarning: Xref table not zero-indexed. ID numbers for objects will be corrected. [pdf.py:1736]\n"
     ]
    },
    {
     "name": "stdout",
     "output_type": "stream",
     "text": [
      "913*, "
     ]
    },
    {
     "name": "stderr",
     "output_type": "stream",
     "text": [
      "PdfReadWarning: Xref table not zero-indexed. ID numbers for objects will be corrected. [pdf.py:1736]\n"
     ]
    },
    {
     "name": "stdout",
     "output_type": "stream",
     "text": [
      "914*, 915*, 916*, 917*, "
     ]
    },
    {
     "name": "stderr",
     "output_type": "stream",
     "text": [
      "PdfReadWarning: Xref table not zero-indexed. ID numbers for objects will be corrected. [pdf.py:1736]\n"
     ]
    },
    {
     "name": "stdout",
     "output_type": "stream",
     "text": [
      "918*, 919*, 920*, 921*, "
     ]
    },
    {
     "name": "stderr",
     "output_type": "stream",
     "text": [
      "PdfReadWarning: Xref table not zero-indexed. ID numbers for objects will be corrected. [pdf.py:1736]\n"
     ]
    },
    {
     "name": "stdout",
     "output_type": "stream",
     "text": [
      "922*, 923*, 924*, 925*, 926*, "
     ]
    },
    {
     "name": "stderr",
     "output_type": "stream",
     "text": [
      "PdfReadWarning: Xref table not zero-indexed. ID numbers for objects will be corrected. [pdf.py:1736]\n"
     ]
    },
    {
     "name": "stdout",
     "output_type": "stream",
     "text": [
      "927*, "
     ]
    },
    {
     "name": "stderr",
     "output_type": "stream",
     "text": [
      "PdfReadWarning: Xref table not zero-indexed. ID numbers for objects will be corrected. [pdf.py:1736]\n"
     ]
    },
    {
     "name": "stdout",
     "output_type": "stream",
     "text": [
      "928*, 929*, 930*, 931*, 932*, 933*, 934*, 935*, "
     ]
    },
    {
     "name": "stderr",
     "output_type": "stream",
     "text": [
      "PdfReadWarning: Xref table not zero-indexed. ID numbers for objects will be corrected. [pdf.py:1736]\n"
     ]
    },
    {
     "name": "stdout",
     "output_type": "stream",
     "text": [
      "936*, 937*, 938*, "
     ]
    },
    {
     "name": "stderr",
     "output_type": "stream",
     "text": [
      "PdfReadWarning: Xref table not zero-indexed. ID numbers for objects will be corrected. [pdf.py:1736]\n"
     ]
    },
    {
     "name": "stdout",
     "output_type": "stream",
     "text": [
      "939*, "
     ]
    },
    {
     "name": "stderr",
     "output_type": "stream",
     "text": [
      "PdfReadWarning: Xref table not zero-indexed. ID numbers for objects will be corrected. [pdf.py:1736]\n"
     ]
    },
    {
     "name": "stdout",
     "output_type": "stream",
     "text": [
      "940*, 941*, 942*, 943*, 944*, 945*, 946*, 947*, 948*, 949*, 950*, 951*, 952*, 953*, 954*, 955*, 956*, 957*, "
     ]
    },
    {
     "name": "stderr",
     "output_type": "stream",
     "text": [
      "PdfReadWarning: Xref table not zero-indexed. ID numbers for objects will be corrected. [pdf.py:1736]\n"
     ]
    },
    {
     "name": "stdout",
     "output_type": "stream",
     "text": [
      "958*, 959*, 960*, 961*, 962*, "
     ]
    },
    {
     "name": "stderr",
     "output_type": "stream",
     "text": [
      "PdfReadWarning: Xref table not zero-indexed. ID numbers for objects will be corrected. [pdf.py:1736]\n"
     ]
    },
    {
     "name": "stdout",
     "output_type": "stream",
     "text": [
      "963*, 964*, 965*, 966*, 967*, 968*, 969*, 970*, 971*, 972*, "
     ]
    },
    {
     "name": "stderr",
     "output_type": "stream",
     "text": [
      "PdfReadWarning: Xref table not zero-indexed. ID numbers for objects will be corrected. [pdf.py:1736]\n"
     ]
    },
    {
     "name": "stdout",
     "output_type": "stream",
     "text": [
      "973*, 974*, 975*, 976*, 977*, 978*, 979*, 980*, "
     ]
    },
    {
     "name": "stderr",
     "output_type": "stream",
     "text": [
      "PdfReadWarning: Xref table not zero-indexed. ID numbers for objects will be corrected. [pdf.py:1736]\n"
     ]
    },
    {
     "name": "stdout",
     "output_type": "stream",
     "text": [
      "981*, 982*, 983*, 984*, 985*, 986*, 987*, 988*, 989*, 990*, 991*, "
     ]
    },
    {
     "name": "stderr",
     "output_type": "stream",
     "text": [
      "PdfReadWarning: Xref table not zero-indexed. ID numbers for objects will be corrected. [pdf.py:1736]\n"
     ]
    },
    {
     "name": "stdout",
     "output_type": "stream",
     "text": [
      "992*, 993*, 994*, 995*, 996*, 997*, 998*, 999*, 1000*, 1001*, 1002*, 1003*, 1004*, 1005*, 1006*, 1007*, 1008*, 1009*, 1010*, 1011*, 1012*, 1013*, 1014*, 1015*, 1016*, 1017*, 1018*, 1019*, 1020*, 1021*, 1022*, 1023*, 1024*, 1025*, 1026*, 1027*, 1028*, 1029*, 1030*, 1031*, 1032*, 1033*, 1034*, 1035*, 1036*, 1037*, 1038*, 1039*, 1040*, 1041*, 1042*, 1043*, 1044*, 1045*, "
     ]
    },
    {
     "name": "stderr",
     "output_type": "stream",
     "text": [
      "PdfReadWarning: Xref table not zero-indexed. ID numbers for objects will be corrected. [pdf.py:1736]\n"
     ]
    },
    {
     "name": "stdout",
     "output_type": "stream",
     "text": [
      "1046*, 1047*, 1048*, 1049*, 1050*, 1051*, 1052*, 1053*, 1054*, 1055*, 1056*, 1057*, 1058*, 1059*, 1060*, 1061*, 1062*, 1063*, 1064*, 1065*, 1066*, 1067*, 1068*, 1069*, 1070*, 1071*, 1072*, 1073*, 1074*, 1075*, 1076*, 1077*, 1078*, 1079*, 1080*, 1081*, 1082*, 1083*, 1084*, 1085*, 1086*, 1087*, 1088*, 1089*, 1090*, 1091*, 1092*, 1093*, 1094*, 1095*, 1096*, 1097*, 1098*, 1099*, 1100*, 1101*, 1102*, 1103*, 1104*, 1105*, 1106*, 1107*, 1108*, 1109*, 1110*, 1111*, 1112*, 1113*, 1114*, 1115*, 1116*, 1117*, 1118*, 1119*, 1120*, 1121*, 1122*, 1123*, 1124*, 1125*, 1126*, 1127*, 1128*, 1129*, 1130*, 1131*, 1132*, 1133*, 1134*, 1135*, 1136*, 1137*, 1138*, 1139*, 1140*, 1141*, 1142*, 1143*, 1144*, 1145*, 1146*, 1147*, 1148*, 1149*, 1150*, 1151*, 1152*, 1153*, 1154*, 1155*, 1156*, 1157*, 1158*, 1159*, 1160*, 1161*, 1162*, 1163*, 1164*, 1165*, 1166*, 1167*, 1168*, 1169*, 1170*, 1171*, 1172*, 1173*, 1174*, 1175*, 1176*, "
     ]
    },
    {
     "name": "stderr",
     "output_type": "stream",
     "text": [
      "PdfReadWarning: Xref table not zero-indexed. ID numbers for objects will be corrected. [pdf.py:1736]\n"
     ]
    },
    {
     "name": "stdout",
     "output_type": "stream",
     "text": [
      "1177*, 1178*, 1179*, 1180*, "
     ]
    },
    {
     "name": "stderr",
     "output_type": "stream",
     "text": [
      "PdfReadWarning: Xref table not zero-indexed. ID numbers for objects will be corrected. [pdf.py:1736]\n"
     ]
    },
    {
     "name": "stdout",
     "output_type": "stream",
     "text": [
      "1181*, 1182*, 1183*, 1184*, 1185*, "
     ]
    },
    {
     "name": "stderr",
     "output_type": "stream",
     "text": [
      "PdfReadWarning: Xref table not zero-indexed. ID numbers for objects will be corrected. [pdf.py:1736]\n"
     ]
    },
    {
     "name": "stdout",
     "output_type": "stream",
     "text": [
      "1186*, "
     ]
    },
    {
     "name": "stderr",
     "output_type": "stream",
     "text": [
      "PdfReadWarning: Xref table not zero-indexed. ID numbers for objects will be corrected. [pdf.py:1736]\n"
     ]
    },
    {
     "name": "stdout",
     "output_type": "stream",
     "text": [
      "1187*, 1188*, 1189*, 1190*, 1191*, 1192*, 1193*, 1194*, 1195*, 1196*, 1197*, 1198*, 1199*, 1200*, 1201*, 1202*, 1203*, 1204*, 1205*, 1206*, 1207*, 1208*, 1209*, 1210*, 1211*, 1212*, 1213*, 1214*, 1215*, 1216*, 1217*, 1218*, 1219*, 1220*, 1221*, 1222*, 1223*, 1224*, 1225*, 1226*, 1227*, 1228*, 1229*, 1230*, 1231*, 1232*, 1233*, 1234*, 1235*, 1236*, 1237*, 1238*, 1239*, 1240*, 1241*, 1242*, 1243*, 1244*, 1245*, 1246*, 1247*, 1248*, 1249*, 1250*, 1251*, 1252*, 1253*, 1254*, 1255*, 1256*, 1257*, 1258*, 1259*, 1260*, 1261*, 1262*, 1263*, 1264*, 1265*, 1266*, 1267*, 1268*, 1269*, 1270*, 1271*, 1272*, 1273*, 1274*, 1275*, 1276*, 1277*, 1278*, 1279*, 1280*, 1281*, 1282*, "
     ]
    },
    {
     "name": "stderr",
     "output_type": "stream",
     "text": [
      "PdfReadWarning: Xref table not zero-indexed. ID numbers for objects will be corrected. [pdf.py:1736]\n"
     ]
    },
    {
     "name": "stdout",
     "output_type": "stream",
     "text": [
      "1283*, 1284*, 1285*, 1286*, 1287*, 1288*, 1289*, 1290*, "
     ]
    },
    {
     "name": "stderr",
     "output_type": "stream",
     "text": [
      "PdfReadWarning: Xref table not zero-indexed. ID numbers for objects will be corrected. [pdf.py:1736]\n"
     ]
    },
    {
     "name": "stdout",
     "output_type": "stream",
     "text": [
      "1291*, 1292*, 1293*, 1294*, 1295*, 1296*, 1297*, 1298*, 1299*, 1300*, 1301*, 1302*, 1303*, 1304*, 1305*, 1306*, 1307*, 1308*, 1309*, 1310*, 1311*, 1312*, 1313*, "
     ]
    },
    {
     "name": "stderr",
     "output_type": "stream",
     "text": [
      "PdfReadWarning: Xref table not zero-indexed. ID numbers for objects will be corrected. [pdf.py:1736]\n"
     ]
    },
    {
     "name": "stdout",
     "output_type": "stream",
     "text": [
      "1314*, 1315*, 1316*, 1317*, 1318*, 1319*, 1320*, "
     ]
    },
    {
     "name": "stderr",
     "output_type": "stream",
     "text": [
      "PdfReadWarning: Xref table not zero-indexed. ID numbers for objects will be corrected. [pdf.py:1736]\n"
     ]
    },
    {
     "name": "stdout",
     "output_type": "stream",
     "text": [
      "1321*, 1322*, 1323*, "
     ]
    },
    {
     "name": "stderr",
     "output_type": "stream",
     "text": [
      "PdfReadWarning: Xref table not zero-indexed. ID numbers for objects will be corrected. [pdf.py:1736]\n"
     ]
    },
    {
     "name": "stdout",
     "output_type": "stream",
     "text": [
      "1324*, 1325*, 1326*, 1327*, 1328*, 1329*, 1330*, "
     ]
    },
    {
     "name": "stderr",
     "output_type": "stream",
     "text": [
      "PdfReadWarning: Xref table not zero-indexed. ID numbers for objects will be corrected. [pdf.py:1736]\n"
     ]
    },
    {
     "name": "stdout",
     "output_type": "stream",
     "text": [
      "1331*, 1332*, 1333*, 1334*, 1335*, 1336*, 1337*, 1338*, 1339*, 1340*, 1341*, 1342*, 1343*, 1344*, 1345*, 1346*, 1347*, 1348*, 1349*, 1350*, 1351*, 1352*, 1353*, 1354*, 1355*, 1356*, 1357*, 1358*, 1359*, 1360*, 1361*, 1362*, 1363*, 1364*, 1365*, 1366*, 1367*, 1368*, 1369*, 1370*, 1371*, 1372*, 1373*, 1374*, 1375*, 1376*, 1377*, 1378*, 1379*, 1380*, 1381*, 1382*, 1383*, 1384*, 1385*, 1386*, 1387*, 1388*, 1389*, 1390*, 1391*, "
     ]
    },
    {
     "name": "stderr",
     "output_type": "stream",
     "text": [
      "PdfReadWarning: Xref table not zero-indexed. ID numbers for objects will be corrected. [pdf.py:1736]\n"
     ]
    },
    {
     "name": "stdout",
     "output_type": "stream",
     "text": [
      "1392*, "
     ]
    },
    {
     "name": "stderr",
     "output_type": "stream",
     "text": [
      "PdfReadWarning: Xref table not zero-indexed. ID numbers for objects will be corrected. [pdf.py:1736]\n"
     ]
    },
    {
     "name": "stdout",
     "output_type": "stream",
     "text": [
      "1393*, 1394*, "
     ]
    },
    {
     "name": "stderr",
     "output_type": "stream",
     "text": [
      "PdfReadWarning: Xref table not zero-indexed. ID numbers for objects will be corrected. [pdf.py:1736]\n"
     ]
    },
    {
     "name": "stdout",
     "output_type": "stream",
     "text": [
      "1395*, 1396*, "
     ]
    },
    {
     "name": "stderr",
     "output_type": "stream",
     "text": [
      "PdfReadWarning: Xref table not zero-indexed. ID numbers for objects will be corrected. [pdf.py:1736]\n"
     ]
    },
    {
     "name": "stdout",
     "output_type": "stream",
     "text": [
      "1397*, 1398*, 1399*, 1400*, 1401*, 1402*, 1403*, 1404*, 1405*, 1406*, 1407*, 1408*, 1409*, 1410*, 1411*, 1412*, 1413*, 1414*, "
     ]
    },
    {
     "name": "stderr",
     "output_type": "stream",
     "text": [
      "PdfReadWarning: Xref table not zero-indexed. ID numbers for objects will be corrected. [pdf.py:1736]\n"
     ]
    },
    {
     "name": "stdout",
     "output_type": "stream",
     "text": [
      "1415*, 1416*, 1417*, 1418*, 1419*, 1420*, 1421*, 1422*, 1423*, 1424*, 1425*, 1426*, 1427*, 1428*, 1429*, 1430*, 1431*, 1432*, 1433*, 1434*, 1435*, 1436*, 1437*, 1438*, 1439*, 1440*, 1441*, 1442*, 1443*, 1444*, 1445*, 1446*, 1447*, 1448*, 1449*, 1450*, 1451*, 1452*, 1453*, 1454*, 1455*, 1456*, 1457*, 1458*, 1459*, 1460*, "
     ]
    },
    {
     "name": "stderr",
     "output_type": "stream",
     "text": [
      "PdfReadWarning: Xref table not zero-indexed. ID numbers for objects will be corrected. [pdf.py:1736]\n"
     ]
    },
    {
     "name": "stdout",
     "output_type": "stream",
     "text": [
      "1461*, 1462*, 1463*, 1464*, 1465*, 1466*, 1467*, 1468*, "
     ]
    },
    {
     "name": "stderr",
     "output_type": "stream",
     "text": [
      "PdfReadWarning: Xref table not zero-indexed. ID numbers for objects will be corrected. [pdf.py:1736]\n"
     ]
    },
    {
     "name": "stdout",
     "output_type": "stream",
     "text": [
      "1469*, 1470*, 1471*, 1472*, 1473*, 1474*, 1475*, 1476*, 1477*, 1478*, 1479*, 1480*, 1481*, 1482*, 1483*, 1484*, 1485*, 1486*, 1487*, 1488*, 1489*, "
     ]
    },
    {
     "name": "stderr",
     "output_type": "stream",
     "text": [
      "PdfReadWarning: Xref table not zero-indexed. ID numbers for objects will be corrected. [pdf.py:1736]\n"
     ]
    },
    {
     "name": "stdout",
     "output_type": "stream",
     "text": [
      "1490*, "
     ]
    },
    {
     "name": "stderr",
     "output_type": "stream",
     "text": [
      "PdfReadWarning: Xref table not zero-indexed. ID numbers for objects will be corrected. [pdf.py:1736]\n"
     ]
    },
    {
     "name": "stdout",
     "output_type": "stream",
     "text": [
      "1491*, 1492*, 1493*, 1494*, 1495*, 1496*, 1497*, 1498*, 1499*, 1500*, 1501*, 1502*, 1503*, 1504*, 1505*, 1506*, 1507*, 1508*, "
     ]
    },
    {
     "name": "stderr",
     "output_type": "stream",
     "text": [
      "PdfReadWarning: Xref table not zero-indexed. ID numbers for objects will be corrected. [pdf.py:1736]\n"
     ]
    },
    {
     "name": "stdout",
     "output_type": "stream",
     "text": [
      "1509*, 1510*, 1511*, 1512*, 1513*, 1514*, 1515*, 1516*, "
     ]
    },
    {
     "name": "stderr",
     "output_type": "stream",
     "text": [
      "PdfReadWarning: Xref table not zero-indexed. ID numbers for objects will be corrected. [pdf.py:1736]\n"
     ]
    },
    {
     "name": "stdout",
     "output_type": "stream",
     "text": [
      "1517*, 1518*, 1519*, 1520*, 1521*, 1522*, "
     ]
    },
    {
     "name": "stderr",
     "output_type": "stream",
     "text": [
      "PdfReadWarning: Xref table not zero-indexed. ID numbers for objects will be corrected. [pdf.py:1736]\n"
     ]
    },
    {
     "name": "stdout",
     "output_type": "stream",
     "text": [
      "1523*, 1524*, 1525*, 1526*, 1527*, "
     ]
    },
    {
     "name": "stderr",
     "output_type": "stream",
     "text": [
      "PdfReadWarning: Xref table not zero-indexed. ID numbers for objects will be corrected. [pdf.py:1736]\n"
     ]
    },
    {
     "name": "stdout",
     "output_type": "stream",
     "text": [
      "1528*, 1529*, 1530*, 1531*, 1532*, 1533*, 1534*, 1535*, 1536*, 1537*, 1538*, 1539*, 1540*, 1541*, 1542*, 1543*, 1544*, 1545*, 1546*, 1547*, 1548*, 1549*, 1550*, 1551*, 1552*, 1553*, 1554*, 1555*, 1556*, 1557*, 1558*, 1559*, 1560*, 1561*, 1562*, 1563*, 1564*, 1565*, 1566*, 1567*, 1568*, 1569*, 1570*, 1571*, "
     ]
    },
    {
     "name": "stderr",
     "output_type": "stream",
     "text": [
      "PdfReadWarning: Xref table not zero-indexed. ID numbers for objects will be corrected. [pdf.py:1736]\n"
     ]
    },
    {
     "name": "stdout",
     "output_type": "stream",
     "text": [
      "1572*, 1573*, 1574*, 1575*, 1576*, 1577*, 1578*, 1579*, 1580*, 1581*, 1582*, 1583*, 1584*, 1585*, 1586*, 1587*, 1588*, 1589*, 1590*, 1591*, 1592*, 1593*, 1594*, 1595*, 1596*, 1597*, "
     ]
    },
    {
     "name": "stderr",
     "output_type": "stream",
     "text": [
      "PdfReadWarning: Xref table not zero-indexed. ID numbers for objects will be corrected. [pdf.py:1736]\n"
     ]
    },
    {
     "name": "stdout",
     "output_type": "stream",
     "text": [
      "1598*, 1599*, 1600*, 1601*, 1602*, 1603*, 1604*, 1605*, 1606*, 1607*, 1608*, 1609*, 1610*, 1611*, 1612*, 1613*, 1614*, 1615*, error: ../data/raw/mjbportal.courts.maine.gov/forms/5db02bccf681837245fb1f7d7cd6180e.pdf\n",
      "1616*, 1617*, 1618*, 1619*, 1620*, 1621*, 1622*, 1623*, 1624*, 1625*, 1626*, 1627*, 1628*, 1629*, 1630*, 1631*, 1632*, 1633*, 1634*, 1635*, 1636*, 1637*, 1638*, 1639*, 1640*, 1641*, 1642*, 1643*, 1644*, 1645*, 1646*, 1647*, 1648*, 1649*, 1650*, 1651*, 1652*, 1653*, 1654*, 1655*, 1656*, 1657*, 1658*, 1659*, 1660*, 1661*, 1662*, 1663*, 1664*, 1665*, "
     ]
    },
    {
     "name": "stderr",
     "output_type": "stream",
     "text": [
      "PdfReadWarning: Xref table not zero-indexed. ID numbers for objects will be corrected. [pdf.py:1736]\n"
     ]
    },
    {
     "name": "stdout",
     "output_type": "stream",
     "text": [
      "1666*, 1667*, 1668*, 1669*, 1670*, 1671*, 1672*, 1673*, 1674*, 1675*, 1676*, 1677*, 1678*, 1679*, 1680*, 1681*, 1682*, 1683*, 1684*, 1685*, 1686*, 1687*, 1688*, 1689*, 1690*, 1691*, 1692*, 1693*, 1694*, 1695*, 1696*, 1697*, 1698*, 1699*, 1700*, 1701*, 1702*, 1703*, 1704*, 1705*, 1706*, 1707*, 1708*, 1709*, 1710*, 1711*, "
     ]
    },
    {
     "name": "stderr",
     "output_type": "stream",
     "text": [
      "PdfReadWarning: Xref table not zero-indexed. ID numbers for objects will be corrected. [pdf.py:1736]\n"
     ]
    },
    {
     "name": "stdout",
     "output_type": "stream",
     "text": [
      "1712*, 1713*, 1714*, 1715*, 1716*, 1717*, 1718*, 1719*, 1720*, 1721*, 1722*, 1723*, 1724*, 1725*, 1726*, 1727*, 1728*, 1729*, 1730*, 1731*, 1732*, "
     ]
    },
    {
     "name": "stderr",
     "output_type": "stream",
     "text": [
      "PdfReadWarning: Xref table not zero-indexed. ID numbers for objects will be corrected. [pdf.py:1736]\n"
     ]
    },
    {
     "name": "stdout",
     "output_type": "stream",
     "text": [
      "1733*, 1734*, 1735*, 1736*, 1737*, 1738*, 1739*, 1740*, 1741*, 1742*, 1743*, 1744*, 1745*, 1746*, 1747*, 1748*, 1749*, 1750*, 1751*, 1752*, 1753*, Timed out!\n",
      "1754*, 1755*, 1756*, 1757*, 1758*, 1759*, 1760*, 1761*, 1762*, 1763*, 1764*, 1765*, 1766*, Timed out!\n",
      "1767*, 1768*, Timed out!\n",
      "1769*, 1770*, 1771*, 1772*, 1773*, 1774*, error: ../data/raw/www.courts.ca.gov/forms/0779d1041707e4ff0ec111426f11a971.pdf\n",
      "1775*, 1776*, 1777*, 1778*, 1779*, 1780*, 1781*, 1782*, 1783*, 1784*, 1785*, 1786*, 1787*, 1788*, 1789*, 1790*, 1791*, 1792*, 1793*, 1794*, 1795*, 1796*, 1797*, 1798*, 1799*, 1800*, 1801*, 1802*, 1803*, 1804*, 1805*, 1806*, 1807*, 1808*, 1809*, 1810*, 1811*, 1812*, 1813*, 1814*, 1815*, 1816*, 1817*, 1818*, 1819*, 1820*, 1821*, 1822*, 1823*, Timed out!\n",
      "1824*, 1825*, Timed out!\n",
      "1826*, 1827*, 1828*, 1829*, 1830*, 1831*, 1832*, 1833*, 1834*, 1835*, 1836*, 1837*, 1838*, 1839*, 1840*, 1841*, 1842*, 1843*, 1844*, 1845*, 1846*, 1847*, 1848*, 1849*, 1850*, 1851*, 1852*, 1853*, 1854*, 1855*, 1856*, 1857*, 1858*, 1859*, 1860*, 1861*, 1862*, 1863*, 1864*, 1865*, 1866*, 1867*, 1868*, 1869*, 1870*, 1871*, 1872*, 1873*, 1874*, 1875*, 1876*, 1877*, 1878*, 1879*, 1880*, 1881*, 1882*, 1883*, 1884*, 1885*, 1886*, 1887*, 1888*, 1889*, 1890*, 1891*, 1892*, 1893*, 1894*, 1895*, 1896*, 1897*, 1898*, 1899*, 1900*, 1901*, 1902*, 1903*, 1904*, 1905*, 1906*, 1907*, 1908*, 1909*, 1910*, 1911*, 1912*, 1913*, 1914*, 1915*, 1916*, 1917*, 1918*, 1919*, 1920*, 1921*, 1922*, 1923*, 1924*, 1925*, 1926*, 1927*, 1928*, 1929*, 1930*, 1931*, 1932*, 1933*, 1934*, 1935*, 1936*, 1937*, 1938*, 1939*, 1940*, 1941*, 1942*, 1943*, 1944*, 1945*, 1946*, 1947*, 1948*, 1949*, 1950*, 1951*, 1952*, 1953*, 1954*, 1955*, 1956*, 1957*, 1958*, 1959*, 1960*, 1961*, 1962*, 1963*, 1964*, 1965*, 1966*, 1967*, 1968*, 1969*, 1970*, 1971*, 1972*, 1973*, 1974*, 1975*, 1976*, 1977*, 1978*, 1979*, 1980*, 1981*, 1982*, 1983*, 1984*, 1985*, 1986*, 1987*, 1988*, 1989*, 1990*, 1991*, 1992*, 1993*, 1994*, 1995*, 1996*, 1997*, 1998*, 1999*, 2000*, 2001*, 2002*, 2003*, 2004*, 2005*, 2006*, 2007*, 2008*, 2009*, 2010*, 2011*, 2012*, 2013*, 2014*, 2015*, 2016*, Timed out!\n",
      "2017*, 2018*, 2019*, 2020*, 2021*, 2022*, 2023*, 2024*, 2025*, 2026*, 2027*, 2028*, 2029*, 2030*, 2031*, 2032*, 2033*, 2034*, 2035*, 2036*, 2037*, 2038*, 2039*, 2040*, 2041*, 2042*, 2043*, 2044*, 2045*, Timed out!\n",
      "2046*, 2047*, 2048*, 2049*, 2050*, 2051*, 2052*, 2053*, 2054*, 2055*, 2056*, 2057*, 2058*, 2059*, 2060*, 2061*, 2062*, 2063*, 2064*, 2065*, 2066*, 2067*, 2068*, 2069*, 2070*, 2071*, 2072*, 2073*, 2074*, 2075*, 2076*, 2077*, 2078*, 2079*, 2080*, 2081*, 2082*, 2083*, 2084*, 2085*, 2086*, 2087*, 2088*, 2089*, 2090*, 2091*, 2092*, 2093*, 2094*, 2095*, 2096*, 2097*, 2098*, 2099*, 2100*, 2101*, 2102*, 2103*, 2104*, 2105*, 2106*, 2107*, 2108*, 2109*, 2110*, 2111*, 2112*, 2113*, 2114*, 2115*, 2116*, 2117*, 2118*, 2119*, 2120*, 2121*, 2122*, 2123*, 2124*, 2125*, 2126*, 2127*, 2128*, 2129*, 2130*, 2131*, 2132*, 2133*, 2134*, 2135*, 2136*, 2137*, 2138*, 2139*, 2140*, 2141*, 2142*, 2143*, 2144*, 2145*, 2146*, 2147*, 2148*, 2149*, 2150*, 2151*, 2152*, 2153*, 2154*, 2155*, 2156*, 2157*, 2158*, 2159*, 2160*, 2161*, 2162*, 2163*, 2164*, 2165*, 2166*, 2167*, 2168*, 2169*, 2170*, 2171*, 2172*, 2173*, 2174*, 2175*, 2176*, 2177*, 2178*, 2179*, 2180*, 2181*, 2182*, 2183*, 2184*, 2185*, 2186*, 2187*, 2188*, 2189*, 2190*, 2191*, 2192*, 2193*, 2194*, 2195*, 2196*, 2197*, 2198*, 2199*, 2200*, 2201*, 2202*, Timed out!\n",
      "2203*, 2204*, 2205*, 2206*, 2207*, 2208*, 2209*, 2210*, 2211*, 2212*, 2213*, 2214*, 2215*, 2216*, 2217*, 2218*, 2219*, 2220*, 2221*, 2222*, 2223*, 2224*, 2225*, 2226*, 2227*, 2228*, 2229*, 2230*, 2231*, 2232*, 2233*, 2234*, 2235*, 2236*, 2237*, 2238*, 2239*, 2240*, 2241*, 2242*, 2243*, 2244*, 2245*, 2246*, 2247*, 2248*, 2249*, 2250*, 2251*, 2252*, 2253*, 2254*, 2255*, 2256*, 2257*, 2258*, 2259*, 2260*, 2261*, 2262*, 2263*, 2264*, 2265*, 2266*, 2267*, 2268*, 2269*, 2270*, 2271*, 2272*, 2273*, 2274*, 2275*, 2276*, 2277*, 2278*, 2279*, 2280*, 2281*, 2282*, 2283*, 2284*, 2285*, 2286*, 2287*, 2288*, 2289*, 2290*, 2291*, 2292*, 2293*, 2294*, 2295*, 2296*, 2297*, 2298*, 2299*, Timed out!\n",
      "2300*, Timed out!\n",
      "2301*, Timed out!\n",
      "2302*, Timed out!\n",
      "2303*, 2304*, 2305*, 2306*, Timed out!\n",
      "2307*, Timed out!\n",
      "2308*, Timed out!\n",
      "2309*, Timed out!\n",
      "2310*, Timed out!\n",
      "2311*, 2312*, Timed out!\n",
      "2313*, 2314*, 2315*, Timed out!\n",
      "2316*, Timed out!\n",
      "2317*, 2318*, Timed out!\n",
      "2319*, Timed out!\n",
      "2320*, Timed out!\n",
      "2321*, Timed out!\n",
      "2322*, Timed out!\n",
      "2323*, Timed out!\n",
      "2324*, Timed out!\n",
      "2325*, Timed out!\n",
      "2326*, 2327*, 2328*, 2329*, 2330*, 2331*, Timed out!\n",
      "2332*, Timed out!\n",
      "2333*, 2334*, 2335*, Timed out!\n",
      "2336*, 2337*, 2338*, 2339*, Timed out!\n",
      "2340*, 2341*, 2342*, 2343*, 2344*, 2345*, 2346*, 2347*, 2348*, 2349*, 2350*, 2351*, 2352*, 2353*, 2354*, 2355*, 2356*, 2357*, Timed out!\n",
      "2358*, 2359*, 2360*, 2361*, 2362*, 2363*, 2364*, 2365*, 2366*, 2367*, 2368*, 2369*, 2370*, 2371*, 2372*, 2373*, 2374*, 2375*, Timed out!\n",
      "2376*, 2377*, 2378*, 2379*, 2380*, 2381*, 2382*, 2383*, 2384*, 2385*, 2386*, 2387*, 2388*, Timed out!\n",
      "2389*, 2390*, 2391*, 2392*, 2393*, 2394*, 2395*, Timed out!\n",
      "2396*, 2397*, 2398*, 2399*, 2400*, Timed out!\n",
      "2401*, 2402*, 2403*, 2404*, 2405*, 2406*, 2407*, 2408*, 2409*, 2410*, 2411*, 2412*, 2413*, 2414*, 2415*, 2416*, 2417*, 2418*, 2419*, 2420*, 2421*, Timed out!\n",
      "2422*, 2423*, 2424*, 2425*, 2426*, 2427*, 2428*, 2429*, 2430*, 2431*, 2432*, 2433*, 2434*, 2435*, 2436*, 2437*, 2438*, 2439*, 2440*, 2441*, 2442*, 2443*, 2444*, 2445*, 2446*, 2447*, 2448*, 2449*, 2450*, 2451*, 2452*, 2453*, 2454*, 2455*, 2456*, 2457*, Timed out!\n",
      "2458*, 2459*, 2460*, 2461*, 2462*, 2463*, 2464*, 2465*, 2466*, 2467*, 2468*, 2469*, 2470*, 2471*, 2472*, 2473*, 2474*, 2475*, 2476*, 2477*, 2478*, 2479*, Timed out!\n",
      "2480*, 2481*, 2482*, 2483*, 2484*, 2485*, 2486*, 2487*, 2488*, 2489*, 2490*, 2491*, 2492*, 2493*, 2494*, 2495*, 2496*, 2497*, 2498*, 2499*, 2500*, 2501*, 2502*, 2503*, 2504*, 2505*, 2506*, 2507*, Timed out!\n",
      "2508*, 2509*, 2510*, 2511*, 2512*, 2513*, 2514*, 2515*, 2516*, 2517*, 2518*, 2519*, 2520*, 2521*, 2522*, 2523*, 2524*, 2525*, 2526*, 2527*, 2528*, 2529*, 2530*, 2531*, 2532*, 2533*, 2534*, 2535*, 2536*, 2537*, 2538*, 2539*, 2540*, 2541*, 2542*, Timed out!\n"
     ]
    },
    {
     "name": "stdout",
     "output_type": "stream",
     "text": [
      "2543*, 2544*, 2545*, 2546*, 2547*, 2548*, 2549*, 2550*, 2551*, 2552*, 2553*, 2554*, 2555*, 2556*, 2557*, 2558*, 2559*, 2560*, 2561*, 2562*, 2563*, 2564*, 2565*, 2566*, 2567*, 2568*, 2569*, 2570*, 2571*, 2572*, 2573*, 2574*, 2575*, 2576*, 2577*, 2578*, 2579*, 2580*, 2581*, 2582*, 2583*, 2584*, 2585*, 2586*, 2587*, 2588*, 2589*, 2590*, 2591*, 2592*, 2593*, 2594*, 2595*, 2596*, 2597*, 2598*, 2599*, 2600*, 2601*, 2602*, 2603*, 2604*, 2605*, 2606*, 2607*, 2608*, 2609*, 2610*, 2611*, 2612*, 2613*, 2614*, 2615*, 2616*, 2617*, 2618*, 2619*, 2620*, 2621*, 2622*, 2623*, 2624*, 2625*, 2626*, 2627*, 2628*, 2629*, 2630*, 2631*, 2632*, 2633*, 2634*, 2635*, 2636*, 2637*, 2638*, 2639*, 2640*, 2641*, 2642*, 2643*, 2644*, 2645*, 2646*, 2647*, 2648*, 2649*, 2650*, 2651*, 2652*, 2653*, 2654*, 2655*, 2656*, 2657*, 2658*, 2659*, 2660*, 2661*, 2662*, 2663*, 2664*, 2665*, 2666*, 2667*, 2668*, 2669*, 2670*, 2671*, 2672*, 2673*, 2674*, 2675*, 2676*, 2677*, 2678*, 2679*, 2680*, 2681*, 2682*, 2683*, 2684*, 2685*, 2686*, 2687*, 2688*, 2689*, 2690*, 2691*, 2692*, 2693*, 2694*, 2695*, 2696*, 2697*, 2698*, 2699*, 2700*, 2701*, 2702*, 2703*, 2704*, 2705*, 2706*, 2707*, 2708*, 2709*, 2710*, 2711*, 2712*, 2713*, 2714*, 2715*, 2716*, 2717*, 2718*, 2719*, 2720*, 2721*, 2722*, 2723*, 2724*, 2725*, 2726*, 2727*, 2728*, 2729*, 2730*, 2731*, 2732*, 2733*, 2734*, 2735*, 2736*, 2737*, 2738*, 2739*, 2740*, 2741*, 2742*, 2743*, 2744*, 2745*, 2746*, 2747*, 2748*, 2749*, 2750*, 2751*, 2752*, 2753*, 2754*, 2755*, 2756*, 2757*, 2758*, 2759*, 2760*, 2761*, 2762*, 2763*, 2764*, 2765*, 2766*, 2767*, 2768*, 2769*, 2770*, 2771*, 2772*, 2773*, 2774*, 2775*, 2776*, 2777*, 2778*, 2779*, 2780*, 2781*, 2782*, 2783*, 2784*, 2785*, 2786*, 2787*, 2788*, 2789*, 2790*, 2791*, 2792*, 2793*, 2794*, 2795*, 2796*, 2797*, 2798*, 2799*, 2800*, 2801*, 2802*, 2803*, 2804*, 2805*, 2806*, 2807*, 2808*, 2809*, 2810*, 2811*, 2812*, 2813*, 2814*, 2815*, 2816*, 2817*, 2818*, 2819*, 2820*, 2821*, 2822*, 2823*, 2824*, 2825*, 2826*, 2827*, 2828*, 2829*, 2830*, 2831*, 2832*, 2833*, 2834*, 2835*, 2836*, 2837*, 2838*, 2839*, 2840*, 2841*, 2842*, 2843*, 2844*, 2845*, 2846*, 2847*, 2848*, 2849*, 2850*, 2851*, 2852*, 2853*, 2854*, 2855*, 2856*, 2857*, 2858*, 2859*, 2860*, 2861*, 2862*, 2863*, 2864*, 2865*, 2866*, 2867*, 2868*, 2869*, 2870*, 2871*, 2872*, 2873*, 2874*, 2875*, 2876*, 2877*, 2878*, 2879*, 2880*, 2881*, 2882*, 2883*, 2884*, 2885*, 2886*, 2887*, 2888*, 2889*, 2890*, 2891*, 2892*, 2893*, 2894*, 2895*, 2896*, 2897*, 2898*, 2899*, 2900*, 2901*, 2902*, 2903*, 2904*, 2905*, 2906*, 2907*, 2908*, 2909*, 2910*, 2911*, 2912*, 2913*, 2914*, 2915*, 2916*, 2917*, 2918*, 2919*, 2920*, 2921*, 2922*, 2923*, 2924*, 2925*, 2926*, 2927*, 2928*, 2929*, 2930*, 2931*, 2932*, 2933*, 2934*, 2935*, 2936*, 2937*, 2938*, 2939*, 2940*, 2941*, 2942*, Timed out!\n",
      "2943*, 2944*, 2945*, 2946*, 2947*, 2948*, 2949*, 2950*, 2951*, 2952*, 2953*, 2954*, 2955*, 2956*, 2957*, 2958*, Timed out!\n",
      "2959*, 2960*, 2961*, 2962*, 2963*, 2964*, 2965*, 2966*, 2967*, 2968*, 2969*, 2970*, Timed out!\n",
      "2971*, 2972*, 2973*, 2974*, 2975*, 2976*, 2977*, 2978*, 2979*, 2980*, 2981*, 2982*, 2983*, 2984*, 2985*, 2986*, 2987*, 2988*, 2989*, 2990*, 2991*, 2992*, 2993*, 2994*, 2995*, 2996*, 2997*, 2998*, 2999*, 3000*, 3001*, 3002*, 3003*, 3004*, 3005*, 3006*, 3007*, 3008*, 3009*, 3010*, 3011*, 3012*, 3013*, 3014*, 3015*, 3016*, 3017*, 3018*, 3019*, 3020*, 3021*, 3022*, 3023*, 3024*, 3025*, 3026*, 3027*, 3028*, 3029*, 3030*, 3031*, 3032*, 3033*, 3034*, 3035*, 3036*, 3037*, 3038*, 3039*, 3040*, 3041*, 3042*, 3043*, 3044*, 3045*, 3046*, 3047*, 3048*, 3049*, 3050*, 3051*, 3052*, 3053*, 3054*, Timed out!\n",
      "3055*, 3056*, 3057*, 3058*, 3059*, 3060*, 3061*, 3062*, 3063*, 3064*, 3065*, 3066*, 3067*, 3068*, 3069*, 3070*, 3071*, 3072*, 3073*, 3074*, 3075*, 3076*, 3077*, 3078*, 3079*, 3080*, 3081*, 3082*, 3083*, 3084*, 3085*, 3086*, 3087*, 3088*, 3089*, 3090*, 3091*, 3092*, 3093*, 3094*, 3095*, 3096*, 3097*, 3098*, 3099*, 3100*, 3101*, 3102*, 3103*, 3104*, 3105*, 3106*, 3107*, 3108*, 3109*, 3110*, 3111*, 3112*, 3113*, 3114*, 3115*, 3116*, 3117*, 3118*, 3119*, 3120*, 3121*, 3122*, 3123*, 3124*, 3125*, 3126*, 3127*, 3128*, 3129*, 3130*, 3131*, 3132*, 3133*, 3134*, 3135*, 3136*, 3137*, 3138*, 3139*, 3140*, 3141*, 3142*, 3143*, 3144*, 3145*, 3146*, 3147*, 3148*, 3149*, 3150*, 3151*, 3152*, 3153*, 3154*, 3155*, 3156*, 3157*, 3158*, 3159*, 3160*, 3161*, 3162*, 3163*, 3164*, 3165*, 3166*, 3167*, 3168*, 3169*, Timed out!\n",
      "3170*, Timed out!\n",
      "3171*, 3172*, 3173*, 3174*, 3175*, 3176*, 3177*, 3178*, 3179*, 3180*, 3181*, 3182*, 3183*, 3184*, 3185*, 3186*, 3187*, 3188*, 3189*, 3190*, 3191*, 3192*, 3193*, 3194*, 3195*, 3196*, 3197*, 3198*, 3199*, 3200*, 3201*, 3202*, 3203*, 3204*, 3205*, 3206*, 3207*, 3208*, 3209*, 3210*, 3211*, 3212*, 3213*, 3214*, 3215*, 3216*, 3217*, 3218*, 3219*, 3220*, 3221*, 3222*, 3223*, "
     ]
    },
    {
     "data": {
      "text/html": [
       "<div>\n",
       "<style scoped>\n",
       "    .dataframe tbody tr th:only-of-type {\n",
       "        vertical-align: middle;\n",
       "    }\n",
       "\n",
       "    .dataframe tbody tr th {\n",
       "        vertical-align: top;\n",
       "    }\n",
       "\n",
       "    .dataframe thead th {\n",
       "        text-align: right;\n",
       "    }\n",
       "</style>\n",
       "<table border=\"1\" class=\"dataframe\">\n",
       "  <thead>\n",
       "    <tr style=\"text-align: right;\">\n",
       "      <th></th>\n",
       "      <th>id</th>\n",
       "      <th>jurisdiction</th>\n",
       "      <th>source</th>\n",
       "      <th>title</th>\n",
       "      <th>group</th>\n",
       "      <th>url</th>\n",
       "      <th>filename</th>\n",
       "      <th>downloaded</th>\n",
       "      <th>pages</th>\n",
       "      <th>fields</th>\n",
       "      <th>fields_conf</th>\n",
       "      <th>fields_old</th>\n",
       "      <th>f_per_p</th>\n",
       "      <th>reading</th>\n",
       "      <th>list</th>\n",
       "      <th>text</th>\n",
       "    </tr>\n",
       "  </thead>\n",
       "  <tbody>\n",
       "    <tr>\n",
       "      <th>0</th>\n",
       "      <td>04b3a0734774c02edf8eb9056d23954aa38e96c77c3392...</td>\n",
       "      <td>UT</td>\n",
       "      <td>www.utcourts.gov</td>\n",
       "      <td>Community Service Worksheet Third District Juv...</td>\n",
       "      <td>3rd District Juvenile Court: Forms and Pamphlets</td>\n",
       "      <td>https://www.utcourts.gov/courts/juv/juvsites/3...</td>\n",
       "      <td>COMMUNITY%20SERVICE%20WORKSHEET-FRONT%20AND%20...</td>\n",
       "      <td>2021-11-11</td>\n",
       "      <td>2</td>\n",
       "      <td>[name__1, name__2, *docket_number, *users1_add...</td>\n",
       "      <td>[0.63, 0.61, 1, 1, 1, 0.61, 0.52, 0.53, 0.6, 0...</td>\n",
       "      <td>[name__1, name__2, docket_number, users1_addre...</td>\n",
       "      <td>7.5</td>\n",
       "      <td>14.5</td>\n",
       "      <td>[]</td>\n",
       "      <td>COMMUNITY SERVICE WORKSHEET\\n THIRD DISTRICT J...</td>\n",
       "    </tr>\n",
       "    <tr>\n",
       "      <th>1</th>\n",
       "      <td>6e420f1b3575cfd8ef94b71977da9e38252e3395a78439...</td>\n",
       "      <td>UT</td>\n",
       "      <td>www.utcourts.gov</td>\n",
       "      <td>Third District Juvenile Court Work Program Ref...</td>\n",
       "      <td>3rd District Juvenile Court: Forms and Pamphlets</td>\n",
       "      <td>https://www.utcourts.gov/courts/juv/juvsites/3...</td>\n",
       "      <td>Work_Crew_Application-2007.pdf</td>\n",
       "      <td>2021-11-11</td>\n",
       "      <td>2</td>\n",
       "      <td>[*docket_number, *users1_birthdate, male, juve...</td>\n",
       "      <td>[1, 1, 0.69, 0.61, 1, 1, 1, 0.56, 0.68, 0.67, ...</td>\n",
       "      <td>[docket_number, users1_birthdate, male, juveni...</td>\n",
       "      <td>19.0</td>\n",
       "      <td>12.5</td>\n",
       "      <td>[GO-00-00-00-00]</td>\n",
       "      <td>THIRD DISTRICT JUVENILE COURT WORK PROGRAM REF...</td>\n",
       "    </tr>\n",
       "    <tr>\n",
       "      <th>2</th>\n",
       "      <td>2532cd2b6d3aaff8c47726a0abd168fb4e5cdb4977c065...</td>\n",
       "      <td>UT</td>\n",
       "      <td>www.utcourts.gov</td>\n",
       "      <td>Utah State District Juvenile Court Probation O...</td>\n",
       "      <td>3rd District Juvenile Court: Forms and Pamphlets</td>\n",
       "      <td>https://www.utcourts.gov/courts/juv/juvsites/3...</td>\n",
       "      <td>Probation%20Order%20revised.050502.pdf</td>\n",
       "      <td>2021-11-11</td>\n",
       "      <td>5</td>\n",
       "      <td>[probation_department_order_court, special_con...</td>\n",
       "      <td>[0.73, 0.65, 0.7, 0.54, 0.68, 0.67, 0.62, 0.59...</td>\n",
       "      <td>[of the probation department or by order of th...</td>\n",
       "      <td>4.8</td>\n",
       "      <td>19.5</td>\n",
       "      <td>[]</td>\n",
       "      <td>Page 1 of 4\\n UTAH STATE DISTRICT JUVENILE COU...</td>\n",
       "    </tr>\n",
       "    <tr>\n",
       "      <th>3</th>\n",
       "      <td>f6a6814890f21c11524d5785d772272916ff95909b7dba...</td>\n",
       "      <td>UT</td>\n",
       "      <td>www.utcourts.gov</td>\n",
       "      <td>Adoptee's Consent to Adoption and Waiver of Ri...</td>\n",
       "      <td>Adopting a Minor Stepchild</td>\n",
       "      <td>https://www.utcourts.gov/howto/family/adoption...</td>\n",
       "      <td>02_Consent_Adoptee.pdf</td>\n",
       "      <td>2021-11-11</td>\n",
       "      <td>3</td>\n",
       "      <td>[*users1_name, *users1_address_line_one, *user...</td>\n",
       "      <td>[1.0, 1.0, 1.0, 1.0, 0.61, 0.7, 0.67, 1.0, 0.6...</td>\n",
       "      <td>[Name, Address, City State Zip, Phone, Email, ...</td>\n",
       "      <td>14.666667</td>\n",
       "      <td>12.5</td>\n",
       "      <td>[]</td>\n",
       "      <td>Consent to Adoption and Waiver of \\n Rights\\n ...</td>\n",
       "    </tr>\n",
       "    <tr>\n",
       "      <th>4</th>\n",
       "      <td>be656a9a361db7c3532026b0bae372e704beb160fce37e...</td>\n",
       "      <td>UT</td>\n",
       "      <td>www.utcourts.gov</td>\n",
       "      <td>Adoption Agreement</td>\n",
       "      <td>Adopting a Minor Stepchild</td>\n",
       "      <td>https://www.utcourts.gov/howto/family/adoption...</td>\n",
       "      <td>08_Agreement.pdf</td>\n",
       "      <td>2021-11-11</td>\n",
       "      <td>1</td>\n",
       "      <td>[*users1_name, *users1_address_line_one, *user...</td>\n",
       "      <td>[1.0, 1.0, 1.0, 1.0, 0.61, 0.7, 0.67, 1.0, 0.6...</td>\n",
       "      <td>[Name, Address, City State Zip, Phone, Email, ...</td>\n",
       "      <td>19.0</td>\n",
       "      <td>61.5</td>\n",
       "      <td>[GO-00-00-00-00]</td>\n",
       "      <td>Adoption\\n \\n Agreement\\n \\n Approved Board of...</td>\n",
       "    </tr>\n",
       "    <tr>\n",
       "      <th>...</th>\n",
       "      <td>...</td>\n",
       "      <td>...</td>\n",
       "      <td>...</td>\n",
       "      <td>...</td>\n",
       "      <td>...</td>\n",
       "      <td>...</td>\n",
       "      <td>...</td>\n",
       "      <td>...</td>\n",
       "      <td>...</td>\n",
       "      <td>...</td>\n",
       "      <td>...</td>\n",
       "      <td>...</td>\n",
       "      <td>...</td>\n",
       "      <td>...</td>\n",
       "      <td>...</td>\n",
       "      <td>...</td>\n",
       "    </tr>\n",
       "    <tr>\n",
       "      <th>3219</th>\n",
       "      <td>6efc9088604befed5fb59fc42aeee0f5</td>\n",
       "      <td>CA</td>\n",
       "      <td>www.courts.ca.gov</td>\n",
       "      <td>Notice of Hearing to Renew Restraining Order</td>\n",
       "      <td>WV</td>\n",
       "      <td>https://www.courts.ca.gov/documents/wv710.pdf</td>\n",
       "      <td>wv710.pdf</td>\n",
       "      <td>2021-11-17</td>\n",
       "      <td>2</td>\n",
       "      <td>[court_info, case_number, right_caption, full_...</td>\n",
       "      <td>[0.69, 0.56, 0.64, 0.55, 0.55, 0.69, 0.66, 0.6...</td>\n",
       "      <td>[CourtInfo[0], CaseNumber[0], RightCaption[0],...</td>\n",
       "      <td>19.0</td>\n",
       "      <td>12.5</td>\n",
       "      <td>[CO-07-00-00-00, CO-00-00-00-00]</td>\n",
       "      <td>Notice of Hearing to Renew Restraining Order (...</td>\n",
       "    </tr>\n",
       "    <tr>\n",
       "      <th>3220</th>\n",
       "      <td>740afc14f63fc6bf594ee344126ddb54</td>\n",
       "      <td>CA</td>\n",
       "      <td>www.courts.ca.gov</td>\n",
       "      <td>Response to Request to Renew Restraining Order</td>\n",
       "      <td>WV</td>\n",
       "      <td>https://www.courts.ca.gov/documents/wv720.pdf</td>\n",
       "      <td>wv720.pdf</td>\n",
       "      <td>2021-11-17</td>\n",
       "      <td>2</td>\n",
       "      <td>[court_info, case_number, right_caption, full_...</td>\n",
       "      <td>[0.69, 0.56, 0.64, 0.55, 0.55, 0.69, 0.66, 0.6...</td>\n",
       "      <td>[CourtInfo[0], CaseNumber[0], RightCaption[0],...</td>\n",
       "      <td>22.0</td>\n",
       "      <td>7.5</td>\n",
       "      <td>[CO-07-00-00-00, CO-00-00-00-00]</td>\n",
       "      <td>Response to Request to Renew Restraining Order...</td>\n",
       "    </tr>\n",
       "    <tr>\n",
       "      <th>3221</th>\n",
       "      <td>c3642c835a4c4c0a167fdcc4758b68d9</td>\n",
       "      <td>CA</td>\n",
       "      <td>www.courts.ca.gov</td>\n",
       "      <td>Order Renewing Workplace Violence Restraining ...</td>\n",
       "      <td>WV</td>\n",
       "      <td>https://www.courts.ca.gov/documents/wv730.pdf</td>\n",
       "      <td>wv730.pdf</td>\n",
       "      <td>2021-11-17</td>\n",
       "      <td>1</td>\n",
       "      <td>[court_info, case_number, right_caption, full_...</td>\n",
       "      <td>[0.69, 0.56, 0.64, 0.55, 0.55, 0.69, 0.66, 0.6...</td>\n",
       "      <td>[CourtInfo[0], CaseNumber[0], RightCaption[0],...</td>\n",
       "      <td>50.0</td>\n",
       "      <td>12.5</td>\n",
       "      <td>[CO-00-00-00-00]</td>\n",
       "      <td>Order Renewing Workplace Violence Restraining ...</td>\n",
       "    </tr>\n",
       "    <tr>\n",
       "      <th>3222</th>\n",
       "      <td>e2917df3dd9a497daf3a29ca49782672</td>\n",
       "      <td>CA</td>\n",
       "      <td>www.courts.ca.gov</td>\n",
       "      <td>Proof of Firearms Turned In, Sold, or Stored</td>\n",
       "      <td>WV</td>\n",
       "      <td>https://www.courts.ca.gov/documents/wv800.pdf</td>\n",
       "      <td>wv800.pdf</td>\n",
       "      <td>2021-11-17</td>\n",
       "      <td>2</td>\n",
       "      <td>[turned_agent_ft, turned_date_dt, turned_time_...</td>\n",
       "      <td>[0.68, 0.68, 0.8, 0.68, 0.69, 0.78, 0.68, 0.7,...</td>\n",
       "      <td>[TurnedInAgent_ft[0], TurnedInDate_dt[0], Turn...</td>\n",
       "      <td>32.0</td>\n",
       "      <td>10.5</td>\n",
       "      <td>[]</td>\n",
       "      <td>Signature of law enforcement agent To Law Enfo...</td>\n",
       "    </tr>\n",
       "    <tr>\n",
       "      <th>3223</th>\n",
       "      <td>bb9e239f96230c44aa199655f2e0988d</td>\n",
       "      <td>CA</td>\n",
       "      <td>www.courts.ca.gov</td>\n",
       "      <td>How Do I Turn In, Sell, or Store My Firearms?</td>\n",
       "      <td>WV</td>\n",
       "      <td>https://www.courts.ca.gov/documents/wv800info.pdf</td>\n",
       "      <td>wv800info.pdf</td>\n",
       "      <td>2021-11-17</td>\n",
       "      <td>1</td>\n",
       "      <td>[print_bt, save_bt, reset_bt, btn_footer_gp, p...</td>\n",
       "      <td>[0.64, 0.61, 0.64, 0.61, 0.62, 0.66]</td>\n",
       "      <td>[Print_bt[0], Save_bt[0], Reset_bt[0], BtnFoot...</td>\n",
       "      <td>6.0</td>\n",
       "      <td>10.5</td>\n",
       "      <td>[]</td>\n",
       "      <td>WV 800 INFO, Page 1 of 1 Judicial Council of C...</td>\n",
       "    </tr>\n",
       "  </tbody>\n",
       "</table>\n",
       "<p>3224 rows × 16 columns</p>\n",
       "</div>"
      ],
      "text/plain": [
       "                                                     id jurisdiction  \\\n",
       "0     04b3a0734774c02edf8eb9056d23954aa38e96c77c3392...           UT   \n",
       "1     6e420f1b3575cfd8ef94b71977da9e38252e3395a78439...           UT   \n",
       "2     2532cd2b6d3aaff8c47726a0abd168fb4e5cdb4977c065...           UT   \n",
       "3     f6a6814890f21c11524d5785d772272916ff95909b7dba...           UT   \n",
       "4     be656a9a361db7c3532026b0bae372e704beb160fce37e...           UT   \n",
       "...                                                 ...          ...   \n",
       "3219                   6efc9088604befed5fb59fc42aeee0f5           CA   \n",
       "3220                   740afc14f63fc6bf594ee344126ddb54           CA   \n",
       "3221                   c3642c835a4c4c0a167fdcc4758b68d9           CA   \n",
       "3222                   e2917df3dd9a497daf3a29ca49782672           CA   \n",
       "3223                   bb9e239f96230c44aa199655f2e0988d           CA   \n",
       "\n",
       "                 source                                              title  \\\n",
       "0      www.utcourts.gov  Community Service Worksheet Third District Juv...   \n",
       "1      www.utcourts.gov  Third District Juvenile Court Work Program Ref...   \n",
       "2      www.utcourts.gov  Utah State District Juvenile Court Probation O...   \n",
       "3      www.utcourts.gov  Adoptee's Consent to Adoption and Waiver of Ri...   \n",
       "4      www.utcourts.gov                                Adoption Agreement    \n",
       "...                 ...                                                ...   \n",
       "3219  www.courts.ca.gov       Notice of Hearing to Renew Restraining Order   \n",
       "3220  www.courts.ca.gov     Response to Request to Renew Restraining Order   \n",
       "3221  www.courts.ca.gov  Order Renewing Workplace Violence Restraining ...   \n",
       "3222  www.courts.ca.gov       Proof of Firearms Turned In, Sold, or Stored   \n",
       "3223  www.courts.ca.gov      How Do I Turn In, Sell, or Store My Firearms?   \n",
       "\n",
       "                                                 group  \\\n",
       "0     3rd District Juvenile Court: Forms and Pamphlets   \n",
       "1     3rd District Juvenile Court: Forms and Pamphlets   \n",
       "2     3rd District Juvenile Court: Forms and Pamphlets   \n",
       "3                           Adopting a Minor Stepchild   \n",
       "4                           Adopting a Minor Stepchild   \n",
       "...                                                ...   \n",
       "3219                                                WV   \n",
       "3220                                                WV   \n",
       "3221                                                WV   \n",
       "3222                                                WV   \n",
       "3223                                                WV   \n",
       "\n",
       "                                                    url  \\\n",
       "0     https://www.utcourts.gov/courts/juv/juvsites/3...   \n",
       "1     https://www.utcourts.gov/courts/juv/juvsites/3...   \n",
       "2     https://www.utcourts.gov/courts/juv/juvsites/3...   \n",
       "3     https://www.utcourts.gov/howto/family/adoption...   \n",
       "4     https://www.utcourts.gov/howto/family/adoption...   \n",
       "...                                                 ...   \n",
       "3219      https://www.courts.ca.gov/documents/wv710.pdf   \n",
       "3220      https://www.courts.ca.gov/documents/wv720.pdf   \n",
       "3221      https://www.courts.ca.gov/documents/wv730.pdf   \n",
       "3222      https://www.courts.ca.gov/documents/wv800.pdf   \n",
       "3223  https://www.courts.ca.gov/documents/wv800info.pdf   \n",
       "\n",
       "                                               filename  downloaded pages  \\\n",
       "0     COMMUNITY%20SERVICE%20WORKSHEET-FRONT%20AND%20...  2021-11-11     2   \n",
       "1                        Work_Crew_Application-2007.pdf  2021-11-11     2   \n",
       "2                Probation%20Order%20revised.050502.pdf  2021-11-11     5   \n",
       "3                                02_Consent_Adoptee.pdf  2021-11-11     3   \n",
       "4                                      08_Agreement.pdf  2021-11-11     1   \n",
       "...                                                 ...         ...   ...   \n",
       "3219                                          wv710.pdf  2021-11-17     2   \n",
       "3220                                          wv720.pdf  2021-11-17     2   \n",
       "3221                                          wv730.pdf  2021-11-17     1   \n",
       "3222                                          wv800.pdf  2021-11-17     2   \n",
       "3223                                      wv800info.pdf  2021-11-17     1   \n",
       "\n",
       "                                                 fields  \\\n",
       "0     [name__1, name__2, *docket_number, *users1_add...   \n",
       "1     [*docket_number, *users1_birthdate, male, juve...   \n",
       "2     [probation_department_order_court, special_con...   \n",
       "3     [*users1_name, *users1_address_line_one, *user...   \n",
       "4     [*users1_name, *users1_address_line_one, *user...   \n",
       "...                                                 ...   \n",
       "3219  [court_info, case_number, right_caption, full_...   \n",
       "3220  [court_info, case_number, right_caption, full_...   \n",
       "3221  [court_info, case_number, right_caption, full_...   \n",
       "3222  [turned_agent_ft, turned_date_dt, turned_time_...   \n",
       "3223  [print_bt, save_bt, reset_bt, btn_footer_gp, p...   \n",
       "\n",
       "                                            fields_conf  \\\n",
       "0     [0.63, 0.61, 1, 1, 1, 0.61, 0.52, 0.53, 0.6, 0...   \n",
       "1     [1, 1, 0.69, 0.61, 1, 1, 1, 0.56, 0.68, 0.67, ...   \n",
       "2     [0.73, 0.65, 0.7, 0.54, 0.68, 0.67, 0.62, 0.59...   \n",
       "3     [1.0, 1.0, 1.0, 1.0, 0.61, 0.7, 0.67, 1.0, 0.6...   \n",
       "4     [1.0, 1.0, 1.0, 1.0, 0.61, 0.7, 0.67, 1.0, 0.6...   \n",
       "...                                                 ...   \n",
       "3219  [0.69, 0.56, 0.64, 0.55, 0.55, 0.69, 0.66, 0.6...   \n",
       "3220  [0.69, 0.56, 0.64, 0.55, 0.55, 0.69, 0.66, 0.6...   \n",
       "3221  [0.69, 0.56, 0.64, 0.55, 0.55, 0.69, 0.66, 0.6...   \n",
       "3222  [0.68, 0.68, 0.8, 0.68, 0.69, 0.78, 0.68, 0.7,...   \n",
       "3223               [0.64, 0.61, 0.64, 0.61, 0.62, 0.66]   \n",
       "\n",
       "                                             fields_old    f_per_p reading  \\\n",
       "0     [name__1, name__2, docket_number, users1_addre...        7.5    14.5   \n",
       "1     [docket_number, users1_birthdate, male, juveni...       19.0    12.5   \n",
       "2     [of the probation department or by order of th...        4.8    19.5   \n",
       "3     [Name, Address, City State Zip, Phone, Email, ...  14.666667    12.5   \n",
       "4     [Name, Address, City State Zip, Phone, Email, ...       19.0    61.5   \n",
       "...                                                 ...        ...     ...   \n",
       "3219  [CourtInfo[0], CaseNumber[0], RightCaption[0],...       19.0    12.5   \n",
       "3220  [CourtInfo[0], CaseNumber[0], RightCaption[0],...       22.0     7.5   \n",
       "3221  [CourtInfo[0], CaseNumber[0], RightCaption[0],...       50.0    12.5   \n",
       "3222  [TurnedInAgent_ft[0], TurnedInDate_dt[0], Turn...       32.0    10.5   \n",
       "3223  [Print_bt[0], Save_bt[0], Reset_bt[0], BtnFoot...        6.0    10.5   \n",
       "\n",
       "                                  list  \\\n",
       "0                                   []   \n",
       "1                     [GO-00-00-00-00]   \n",
       "2                                   []   \n",
       "3                                   []   \n",
       "4                     [GO-00-00-00-00]   \n",
       "...                                ...   \n",
       "3219  [CO-07-00-00-00, CO-00-00-00-00]   \n",
       "3220  [CO-07-00-00-00, CO-00-00-00-00]   \n",
       "3221                  [CO-00-00-00-00]   \n",
       "3222                                []   \n",
       "3223                                []   \n",
       "\n",
       "                                                   text  \n",
       "0     COMMUNITY SERVICE WORKSHEET\\n THIRD DISTRICT J...  \n",
       "1     THIRD DISTRICT JUVENILE COURT WORK PROGRAM REF...  \n",
       "2     Page 1 of 4\\n UTAH STATE DISTRICT JUVENILE COU...  \n",
       "3     Consent to Adoption and Waiver of \\n Rights\\n ...  \n",
       "4     Adoption\\n \\n Agreement\\n \\n Approved Board of...  \n",
       "...                                                 ...  \n",
       "3219  Notice of Hearing to Renew Restraining Order (...  \n",
       "3220  Response to Request to Renew Restraining Order...  \n",
       "3221  Order Renewing Workplace Violence Restraining ...  \n",
       "3222  Signature of law enforcement agent To Law Enfo...  \n",
       "3223  WV 800 INFO, Page 1 of 1 Judicial Council of C...  \n",
       "\n",
       "[3224 rows x 16 columns]"
      ]
     },
     "execution_count": 5,
     "metadata": {},
     "output_type": "execute_result"
    }
   ],
   "source": [
    "df[\"pages\"] = \"\"\n",
    "df[\"fields\"] = \"\"\n",
    "df[\"fields_conf\"] = \"\"\n",
    "df[\"fields_old\"] = \"\"\n",
    "df[\"f_per_p\"] = \"\"\n",
    "df[\"reading\"] = \"\"\n",
    "df[\"list\"] = \"\"\n",
    "df[\"text\"] = \"\"\n",
    "\n",
    "print(len(df))\n",
    "i=0\n",
    "#for index,row in df[:2].iterrows():\n",
    "for index,row in df.iterrows():\n",
    "    if (row[\"pages\"] == \"\") & (row[\"jurisdiction\"] in jurs):\n",
    "        print(\"%s*, \"%i, end='')\n",
    "        try:\n",
    "            stats = lit.parse_form(\"../data/processed/\"+row[\"source\"]+\"/forms/\"+row[\"id\"]+\".pdf\",title=row[\"title\"],jur=row[\"jurisdiction\"],cat=row[\"group\"],normalize=1,use_spot=1,rewrite=1)\n",
    "            df.at[index, 'pages'] = stats[\"pages\"]\n",
    "            df.at[index, 'fields'] = stats[\"fields\"]\n",
    "            df.at[index, 'fields_conf'] = stats[\"fields_conf\"]\n",
    "            df.at[index, 'fields_old'] = stats[\"fields_old\"]\n",
    "            df.at[index, 'f_per_p'] = stats[\"avg fields per page\"]\n",
    "            df.at[index, 'reading'] = stats[\"reading grade level\"]\n",
    "            df.at[index, 'list'] = stats[\"list\"]\n",
    "            df.at[index, 'text'] = stats[\"text\"]\n",
    "            #print(index)\n",
    "        except:\n",
    "            print(\"error: \"+\"../data/raw/\"+row[\"source\"]+\"/forms/\"+row[\"id\"]+\".pdf\")\n",
    "    else:\n",
    "        print(\"%s, \"%i, end='')\n",
    "        \n",
    "    i+=1\n",
    "\n",
    "df"
   ]
  },
  {
   "cell_type": "code",
   "execution_count": 15,
   "metadata": {},
   "outputs": [],
   "source": [
    "#df1 = pd.read_csv(\"../data/processed/form_data.csv\")\n",
    "#display(df1)\n",
    "#df2 = df[(df[\"jurisdiction\"]==\"CA\") & (df[\"pages\"]!=\"\")]\n",
    "#display(df2)\n",
    "#dfall = pd.concat([df1,df2],ignore_index=True)\n",
    "#display(dfall)"
   ]
  },
  {
   "cell_type": "code",
   "execution_count": null,
   "metadata": {},
   "outputs": [],
   "source": [
    "#dfall.to_csv(\"../data/processed/form_data.csv\", index=False, encoding=\"utf-8\")    "
   ]
  },
  {
   "cell_type": "code",
   "execution_count": 6,
   "metadata": {},
   "outputs": [],
   "source": [
    "df.to_csv(\"../data/processed/form_data.csv\", index=False, encoding=\"utf-8\")    "
   ]
  },
  {
   "cell_type": "code",
   "execution_count": null,
   "metadata": {},
   "outputs": [],
   "source": []
  }
 ],
 "metadata": {
  "kernelspec": {
   "display_name": "Python 3",
   "language": "python",
   "name": "python3"
  },
  "language_info": {
   "codemirror_mode": {
    "name": "ipython",
    "version": 3
   },
   "file_extension": ".py",
   "mimetype": "text/x-python",
   "name": "python",
   "nbconvert_exporter": "python",
   "pygments_lexer": "ipython3",
   "version": "3.8.8"
  }
 },
 "nbformat": 4,
 "nbformat_minor": 2
}
