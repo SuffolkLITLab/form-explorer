{
 "cells": [
  {
   "cell_type": "markdown",
   "metadata": {},
   "source": [
    "To Do:\n",
    "- Make work based on jurs list"
   ]
  },
  {
   "cell_type": "code",
   "execution_count": 1,
   "metadata": {},
   "outputs": [],
   "source": [
    "import pandas as pd\n",
    "import sys  \n",
    "sys.path.insert(0, '/lib')\n",
    "import lib.lit_explorer as lit"
   ]
  },
  {
   "cell_type": "code",
   "execution_count": 2,
   "metadata": {},
   "outputs": [],
   "source": [
    "jurs = [\n",
    "        \"CA\",\n",
    "        \"MI\",\n",
    "        \"UT\",\n",
    "        \"ME\"\n",
    "        ]"
   ]
  },
  {
   "cell_type": "code",
   "execution_count": 3,
   "metadata": {},
   "outputs": [
    {
     "data": {
      "text/html": [
       "<div>\n",
       "<style scoped>\n",
       "    .dataframe tbody tr th:only-of-type {\n",
       "        vertical-align: middle;\n",
       "    }\n",
       "\n",
       "    .dataframe tbody tr th {\n",
       "        vertical-align: top;\n",
       "    }\n",
       "\n",
       "    .dataframe thead th {\n",
       "        text-align: right;\n",
       "    }\n",
       "</style>\n",
       "<table border=\"1\" class=\"dataframe\">\n",
       "  <thead>\n",
       "    <tr style=\"text-align: right;\">\n",
       "      <th></th>\n",
       "      <th>id</th>\n",
       "      <th>jurisdiction</th>\n",
       "      <th>source</th>\n",
       "      <th>title</th>\n",
       "      <th>group</th>\n",
       "      <th>url</th>\n",
       "      <th>filename</th>\n",
       "      <th>downloaded</th>\n",
       "    </tr>\n",
       "  </thead>\n",
       "  <tbody>\n",
       "    <tr>\n",
       "      <th>0</th>\n",
       "      <td>04b3a0734774c02edf8eb9056d23954aa38e96c77c3392...</td>\n",
       "      <td>UT</td>\n",
       "      <td>www.utcourts.gov</td>\n",
       "      <td>Community Service Worksheet Third District Juv...</td>\n",
       "      <td>3rd District Juvenile Court: Forms and Pamphlets</td>\n",
       "      <td>https://www.utcourts.gov/courts/juv/juvsites/3...</td>\n",
       "      <td>COMMUNITY%20SERVICE%20WORKSHEET-FRONT%20AND%20...</td>\n",
       "      <td>2021-11-11</td>\n",
       "    </tr>\n",
       "    <tr>\n",
       "      <th>1</th>\n",
       "      <td>6e420f1b3575cfd8ef94b71977da9e38252e3395a78439...</td>\n",
       "      <td>UT</td>\n",
       "      <td>www.utcourts.gov</td>\n",
       "      <td>Third District Juvenile Court Work Program Ref...</td>\n",
       "      <td>3rd District Juvenile Court: Forms and Pamphlets</td>\n",
       "      <td>https://www.utcourts.gov/courts/juv/juvsites/3...</td>\n",
       "      <td>Work_Crew_Application-2007.pdf</td>\n",
       "      <td>2021-11-11</td>\n",
       "    </tr>\n",
       "    <tr>\n",
       "      <th>2</th>\n",
       "      <td>2532cd2b6d3aaff8c47726a0abd168fb4e5cdb4977c065...</td>\n",
       "      <td>UT</td>\n",
       "      <td>www.utcourts.gov</td>\n",
       "      <td>Utah State District Juvenile Court Probation O...</td>\n",
       "      <td>3rd District Juvenile Court: Forms and Pamphlets</td>\n",
       "      <td>https://www.utcourts.gov/courts/juv/juvsites/3...</td>\n",
       "      <td>Probation%20Order%20revised.050502.pdf</td>\n",
       "      <td>2021-11-11</td>\n",
       "    </tr>\n",
       "    <tr>\n",
       "      <th>3</th>\n",
       "      <td>f6a6814890f21c11524d5785d772272916ff95909b7dba...</td>\n",
       "      <td>UT</td>\n",
       "      <td>www.utcourts.gov</td>\n",
       "      <td>Adoptee's Consent to Adoption and Waiver of Ri...</td>\n",
       "      <td>Adopting a Minor Stepchild</td>\n",
       "      <td>https://www.utcourts.gov/howto/family/adoption...</td>\n",
       "      <td>02_Consent_Adoptee.pdf</td>\n",
       "      <td>2021-11-11</td>\n",
       "    </tr>\n",
       "    <tr>\n",
       "      <th>4</th>\n",
       "      <td>be656a9a361db7c3532026b0bae372e704beb160fce37e...</td>\n",
       "      <td>UT</td>\n",
       "      <td>www.utcourts.gov</td>\n",
       "      <td>Adoption Agreement</td>\n",
       "      <td>Adopting a Minor Stepchild</td>\n",
       "      <td>https://www.utcourts.gov/howto/family/adoption...</td>\n",
       "      <td>08_Agreement.pdf</td>\n",
       "      <td>2021-11-11</td>\n",
       "    </tr>\n",
       "  </tbody>\n",
       "</table>\n",
       "</div>"
      ],
      "text/plain": [
       "                                                  id jurisdiction  \\\n",
       "0  04b3a0734774c02edf8eb9056d23954aa38e96c77c3392...           UT   \n",
       "1  6e420f1b3575cfd8ef94b71977da9e38252e3395a78439...           UT   \n",
       "2  2532cd2b6d3aaff8c47726a0abd168fb4e5cdb4977c065...           UT   \n",
       "3  f6a6814890f21c11524d5785d772272916ff95909b7dba...           UT   \n",
       "4  be656a9a361db7c3532026b0bae372e704beb160fce37e...           UT   \n",
       "\n",
       "             source                                              title  \\\n",
       "0  www.utcourts.gov  Community Service Worksheet Third District Juv...   \n",
       "1  www.utcourts.gov  Third District Juvenile Court Work Program Ref...   \n",
       "2  www.utcourts.gov  Utah State District Juvenile Court Probation O...   \n",
       "3  www.utcourts.gov  Adoptee's Consent to Adoption and Waiver of Ri...   \n",
       "4  www.utcourts.gov                                Adoption Agreement    \n",
       "\n",
       "                                              group  \\\n",
       "0  3rd District Juvenile Court: Forms and Pamphlets   \n",
       "1  3rd District Juvenile Court: Forms and Pamphlets   \n",
       "2  3rd District Juvenile Court: Forms and Pamphlets   \n",
       "3                        Adopting a Minor Stepchild   \n",
       "4                        Adopting a Minor Stepchild   \n",
       "\n",
       "                                                 url  \\\n",
       "0  https://www.utcourts.gov/courts/juv/juvsites/3...   \n",
       "1  https://www.utcourts.gov/courts/juv/juvsites/3...   \n",
       "2  https://www.utcourts.gov/courts/juv/juvsites/3...   \n",
       "3  https://www.utcourts.gov/howto/family/adoption...   \n",
       "4  https://www.utcourts.gov/howto/family/adoption...   \n",
       "\n",
       "                                            filename  downloaded  \n",
       "0  COMMUNITY%20SERVICE%20WORKSHEET-FRONT%20AND%20...  2021-11-11  \n",
       "1                     Work_Crew_Application-2007.pdf  2021-11-11  \n",
       "2             Probation%20Order%20revised.050502.pdf  2021-11-11  \n",
       "3                             02_Consent_Adoptee.pdf  2021-11-11  \n",
       "4                                   08_Agreement.pdf  2021-11-11  "
      ]
     },
     "execution_count": 3,
     "metadata": {},
     "output_type": "execute_result"
    }
   ],
   "source": [
    "files_df_ut = pd.read_csv(\"../data/raw/www.utcourts.gov/form_data.csv\")\n",
    "files_df_mi = pd.read_csv(\"../data/raw/www.courts.michigan.gov/form_data.csv\")\n",
    "files_df_me = pd.read_csv(\"../data/raw/mjbportal.courts.maine.gov/form_data.csv\")\n",
    "files_df_ca = pd.read_csv(\"../data/raw/www.courts.ca.gov/form_data.csv\")\n",
    "\n",
    "df = pd.concat([files_df_ut,files_df_mi,files_df_me,files_df_ca],ignore_index=True)\n",
    "df.head()"
   ]
  },
  {
   "cell_type": "code",
   "execution_count": null,
   "metadata": {
    "scrolled": true
   },
   "outputs": [
    {
     "name": "stdout",
     "output_type": "stream",
     "text": [
      "3224\n",
      "0*, 1*, 2*, 3*, 4*, 5*, 6*, 7*, 8*, 9*, 10*, 11*, 12*, 13*, 14*, 15*, 16*, 17*, 18*, 19*, 20*, 21*, 22*, 23*, 24*, 25*, 26*, 27*, 28*, 29*, 30*, 31*, 32*, 33*, 34*, 35*, 36*, 37*, 38*, 39*, 40*, 41*, 42*, 43*, 44*, 45*, 46*, 47*, 48*, 49*, 50*, 51*, 52*, 53*, 54*, 55*, 56*, 57*, 58*, 59*, 60*, 61*, 62*, 63*, 64*, 65*, 66*, 67*, 68*, 69*, 70*, 71*, 72*, 73*, 74*, 75*, 76*, 77*, 78*, 79*, 80*, 81*, 82*, 83*, 84*, 85*, 86*, 87*, 88*, 89*, 90*, 91*, 92*, 93*, 94*, 95*, 96*, 97*, 98*, 99*, 100*, 101*, 102*, 103*, 104*, 105*, 106*, 107*, 108*, 109*, 110*, 111*, 112*, 113*, 114*, 115*, 116*, 117*, 118*, 119*, 120*, 121*, 122*, 123*, 124*, 125*, 126*, 127*, 128*, 129*, 130*, 131*, 132*, 133*, 134*, 135*, 136*, 137*, 138*, 139*, 140*, 141*, 142*, 143*, 144*, 145*, 146*, 147*, 148*, 149*, 150*, 151*, 152*, 153*, 154*, 155*, 156*, 157*, 158*, 159*, 160*, 161*, 162*, 163*, 164*, 165*, 166*, 167*, 168*, 169*, 170*, 171*, 172*, 173*, 174*, 175*, 176*, 177*, 178*, 179*, 180*, 181*, 182*, 183*, 184*, 185*, 186*, 187*, 188*, 189*, 190*, 191*, 192*, 193*, 194*, 195*, 196*, 197*, 198*, 199*, 200*, 201*, 202*, 203*, 204*, 205*, 206*, 207*, 208*, 209*, 210*, 211*, 212*, 213*, 214*, 215*, 216*, 217*, 218*, 219*, 220*, 221*, 222*, 223*, 224*, 225*, 226*, 227*, 228*, 229*, 230*, 231*, 232*, 233*, 234*, 235*, 236*, 237*, 238*, 239*, 240*, 241*, 242*, 243*, 244*, 245*, 246*, 247*, 248*, 249*, 250*, 251*, 252*, 253*, 254*, 255*, 256*, 257*, 258*, 259*, 260*, 261*, 262*, 263*, 264*, 265*, 266*, 267*, 268*, 269*, 270*, 271*, 272*, 273*, 274*, 275*, 276*, 277*, 278*, "
     ]
    }
   ],
   "source": [
    "df[\"pages\"] = \"\"\n",
    "df[\"fields\"] = \"\"\n",
    "df[\"fields_conf\"] = \"\"\n",
    "df[\"fields_old\"] = \"\"\n",
    "df[\"f_per_p\"] = \"\"\n",
    "df[\"reading\"] = \"\"\n",
    "df[\"list\"] = \"\"\n",
    "df[\"text\"] = \"\"\n",
    "\n",
    "print(len(df))\n",
    "i=0\n",
    "#for index,row in df[:2].iterrows():\n",
    "for index,row in df.iterrows():\n",
    "    if (row[\"pages\"] == \"\") & (row[\"jurisdiction\"] in jurs):\n",
    "        print(\"%s*, \"%i, end='')\n",
    "        try:\n",
    "            stats = lit.parse_form(\"../data/processed/\"+row[\"source\"]+\"/forms/\"+row[\"id\"]+\".pdf\",title=row[\"title\"],jur=row[\"jurisdiction\"],cat=row[\"group\"],normalize=1,use_spot=1,rewrite=1)\n",
    "            df.at[index, 'pages'] = stats[\"pages\"]\n",
    "            df.at[index, 'fields'] = stats[\"fields\"]\n",
    "            df.at[index, 'fields_conf'] = stats[\"fields_conf\"]\n",
    "            df.at[index, 'fields_old'] = stats[\"fields_old\"]\n",
    "            df.at[index, 'f_per_p'] = stats[\"avg fields per page\"]\n",
    "            df.at[index, 'reading'] = stats[\"reading grade level\"]\n",
    "            df.at[index, 'list'] = stats[\"list\"]\n",
    "            df.at[index, 'text'] = stats[\"text\"]\n",
    "            #print(index)\n",
    "        except:\n",
    "            print(\"error: \"+\"../data/raw/\"+row[\"source\"]+\"/forms/\"+row[\"id\"]+\".pdf\")\n",
    "    else:\n",
    "        print(\"%s, \"%i, end='')\n",
    "        \n",
    "    i+=1\n",
    "\n",
    "df"
   ]
  },
  {
   "cell_type": "code",
   "execution_count": 15,
   "metadata": {},
   "outputs": [],
   "source": [
    "#df1 = pd.read_csv(\"../data/processed/form_data.csv\")\n",
    "#display(df1)\n",
    "#df2 = df[(df[\"jurisdiction\"]==\"CA\") & (df[\"pages\"]!=\"\")]\n",
    "#display(df2)\n",
    "#dfall = pd.concat([df1,df2],ignore_index=True)\n",
    "#display(dfall)"
   ]
  },
  {
   "cell_type": "code",
   "execution_count": null,
   "metadata": {},
   "outputs": [],
   "source": [
    "#dfall.to_csv(\"../data/processed/form_data.csv\", index=False, encoding=\"utf-8\")    "
   ]
  },
  {
   "cell_type": "code",
   "execution_count": 18,
   "metadata": {},
   "outputs": [],
   "source": [
    "df.to_csv(\"../data/processed/form_data.csv\", index=False, encoding=\"utf-8\")    "
   ]
  }
 ],
 "metadata": {
  "kernelspec": {
   "display_name": "Python 3",
   "language": "python",
   "name": "python3"
  },
  "language_info": {
   "codemirror_mode": {
    "name": "ipython",
    "version": 3
   },
   "file_extension": ".py",
   "mimetype": "text/x-python",
   "name": "python",
   "nbconvert_exporter": "python",
   "pygments_lexer": "ipython3",
   "version": "3.8.8"
  }
 },
 "nbformat": 4,
 "nbformat_minor": 2
}
